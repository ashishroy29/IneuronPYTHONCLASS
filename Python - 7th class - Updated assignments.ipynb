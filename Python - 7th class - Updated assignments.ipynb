{
 "cells": [
  {
   "cell_type": "markdown",
   "id": "14c67749",
   "metadata": {},
   "source": [
    "#### What are we studying here?\n",
    "##### Ans : Concept of Function : what is function? how function is going to work? how function would be helpful for me? how would we able to acheive a robustness and code re-usability of a function"
   ]
  },
  {
   "cell_type": "code",
   "execution_count": null,
   "id": "89d11b5e",
   "metadata": {},
   "outputs": [],
   "source": [
    "len('ashi')"
   ]
  },
  {
   "cell_type": "code",
   "execution_count": null,
   "id": "7ad3f986",
   "metadata": {},
   "outputs": [],
   "source": [
    "print('asjdasjdjas')"
   ]
  },
  {
   "cell_type": "markdown",
   "id": "9775c2bc",
   "metadata": {},
   "source": [
    "# Modular Coding approach"
   ]
  },
  {
   "cell_type": "code",
   "execution_count": null,
   "id": "bd023639",
   "metadata": {},
   "outputs": [],
   "source": [
    "#function, classes, objects, logging, monitoring, scheduling ,conventions"
   ]
  },
  {
   "cell_type": "code",
   "execution_count": null,
   "id": "3832d956",
   "metadata": {},
   "outputs": [],
   "source": [
    "#function\n",
    "def test():\n",
    "    pass"
   ]
  },
  {
   "cell_type": "code",
   "execution_count": null,
   "id": "17605303",
   "metadata": {},
   "outputs": [],
   "source": [
    "def test1():\n",
    "    print('this is my first funnction')"
   ]
  },
  {
   "cell_type": "code",
   "execution_count": null,
   "id": "346c2e31",
   "metadata": {},
   "outputs": [],
   "source": [
    "test1()"
   ]
  },
  {
   "cell_type": "code",
   "execution_count": null,
   "id": "b8e5c592",
   "metadata": {},
   "outputs": [],
   "source": [
    "test1()"
   ]
  },
  {
   "cell_type": "code",
   "execution_count": null,
   "id": "ef94a646",
   "metadata": {},
   "outputs": [],
   "source": [
    "test1()"
   ]
  },
  {
   "cell_type": "code",
   "execution_count": null,
   "id": "7d9506a1",
   "metadata": {},
   "outputs": [],
   "source": [
    "a = test1()"
   ]
  },
  {
   "cell_type": "code",
   "execution_count": null,
   "id": "e1fbdcd2",
   "metadata": {},
   "outputs": [],
   "source": [
    "a+'ashi'"
   ]
  },
  {
   "cell_type": "code",
   "execution_count": null,
   "id": "3d7048d7",
   "metadata": {},
   "outputs": [],
   "source": [
    "'ashi' + 'ashi'"
   ]
  },
  {
   "cell_type": "code",
   "execution_count": null,
   "id": "ccf548aa",
   "metadata": {},
   "outputs": [],
   "source": [
    "test1() + 'Sudh'"
   ]
  },
  {
   "cell_type": "code",
   "execution_count": null,
   "id": "9ed48bbb",
   "metadata": {},
   "outputs": [],
   "source": [
    "type(test1())"
   ]
  },
  {
   "cell_type": "code",
   "execution_count": null,
   "id": "542531b8",
   "metadata": {},
   "outputs": [],
   "source": [
    "a = test1()"
   ]
  },
  {
   "cell_type": "code",
   "execution_count": null,
   "id": "67ca4a87",
   "metadata": {},
   "outputs": [],
   "source": [
    "str(a)"
   ]
  },
  {
   "cell_type": "code",
   "execution_count": null,
   "id": "a4ce1ff6",
   "metadata": {},
   "outputs": [],
   "source": [
    "def test2():\n",
    "    return \"This is my first function\""
   ]
  },
  {
   "cell_type": "code",
   "execution_count": null,
   "id": "bc566a52",
   "metadata": {},
   "outputs": [],
   "source": [
    "type(test2())"
   ]
  },
  {
   "cell_type": "code",
   "execution_count": null,
   "id": "715943ff",
   "metadata": {},
   "outputs": [],
   "source": [
    "test2() + ' ashi'"
   ]
  },
  {
   "cell_type": "code",
   "execution_count": null,
   "id": "92fd6caa",
   "metadata": {},
   "outputs": [],
   "source": [
    "def test3():\n",
    "    return 21232312"
   ]
  },
  {
   "cell_type": "code",
   "execution_count": null,
   "id": "963b8e80",
   "metadata": {},
   "outputs": [],
   "source": [
    "type(test3())"
   ]
  },
  {
   "cell_type": "code",
   "execution_count": null,
   "id": "5e60b981",
   "metadata": {},
   "outputs": [],
   "source": [
    "# in order to return a primitive keyword (datatype)"
   ]
  },
  {
   "cell_type": "code",
   "execution_count": null,
   "id": "86ffff94",
   "metadata": {},
   "outputs": [],
   "source": [
    "def test4():\n",
    "    return 3,4,\"such\",[2,4,5,5,5,5]"
   ]
  },
  {
   "cell_type": "code",
   "execution_count": null,
   "id": "2aa891cd",
   "metadata": {},
   "outputs": [],
   "source": [
    "type(test4())"
   ]
  },
  {
   "cell_type": "code",
   "execution_count": null,
   "id": "9a7fc0ea",
   "metadata": {},
   "outputs": [],
   "source": [
    "b = test4()"
   ]
  },
  {
   "cell_type": "code",
   "execution_count": null,
   "id": "5d0bec99",
   "metadata": {},
   "outputs": [],
   "source": [
    "b"
   ]
  },
  {
   "cell_type": "code",
   "execution_count": null,
   "id": "152943df",
   "metadata": {},
   "outputs": [],
   "source": [
    "b[1]"
   ]
  },
  {
   "cell_type": "code",
   "execution_count": null,
   "id": "feec706e",
   "metadata": {},
   "outputs": [],
   "source": [
    "b[3]"
   ]
  },
  {
   "cell_type": "code",
   "execution_count": null,
   "id": "cf8580be",
   "metadata": {},
   "outputs": [],
   "source": [
    "test4()"
   ]
  },
  {
   "cell_type": "code",
   "execution_count": null,
   "id": "20bea48e",
   "metadata": {},
   "outputs": [],
   "source": [
    "a = 1\n",
    "b = 5\n",
    "c = 'sudh'\n",
    "d = [3434,34343,5,5454,454545]"
   ]
  },
  {
   "cell_type": "code",
   "execution_count": null,
   "id": "d34eeaf1",
   "metadata": {},
   "outputs": [],
   "source": [
    "a,b,c,d = 34,54,'wudh','wsaedsa'"
   ]
  },
  {
   "cell_type": "code",
   "execution_count": null,
   "id": "3e46aff6",
   "metadata": {},
   "outputs": [],
   "source": [
    "a"
   ]
  },
  {
   "cell_type": "code",
   "execution_count": null,
   "id": "7d339b86",
   "metadata": {},
   "outputs": [],
   "source": [
    "x,y,u,v = test4()"
   ]
  },
  {
   "cell_type": "code",
   "execution_count": null,
   "id": "9a9421ef",
   "metadata": {},
   "outputs": [],
   "source": [
    "x"
   ]
  },
  {
   "cell_type": "code",
   "execution_count": null,
   "id": "bd0cedf9",
   "metadata": {},
   "outputs": [],
   "source": [
    "y"
   ]
  },
  {
   "cell_type": "code",
   "execution_count": null,
   "id": "e07fd3cb",
   "metadata": {},
   "outputs": [],
   "source": [
    "u"
   ]
  },
  {
   "cell_type": "code",
   "execution_count": null,
   "id": "bd98b8db",
   "metadata": {},
   "outputs": [],
   "source": [
    "v"
   ]
  },
  {
   "cell_type": "code",
   "execution_count": null,
   "id": "f1e515e8",
   "metadata": {},
   "outputs": [],
   "source": [
    "type(v)"
   ]
  },
  {
   "cell_type": "code",
   "execution_count": null,
   "id": "cbbb0684",
   "metadata": {},
   "outputs": [],
   "source": [
    "type(x)"
   ]
  },
  {
   "cell_type": "code",
   "execution_count": null,
   "id": "a3914c17",
   "metadata": {},
   "outputs": [],
   "source": [
    "x,y,u,v,s= test4()"
   ]
  },
  {
   "cell_type": "code",
   "execution_count": null,
   "id": "6ca3599d",
   "metadata": {},
   "outputs": [],
   "source": [
    "def test5():\n",
    "    a = 6*7 / 6\n",
    "    return a"
   ]
  },
  {
   "cell_type": "code",
   "execution_count": null,
   "id": "fa293af1",
   "metadata": {},
   "outputs": [],
   "source": [
    "test5()"
   ]
  },
  {
   "cell_type": "code",
   "execution_count": null,
   "id": "7cf2a98b",
   "metadata": {},
   "outputs": [],
   "source": [
    "len('asjdajsdj')"
   ]
  },
  {
   "cell_type": "code",
   "execution_count": null,
   "id": "2cbaa588",
   "metadata": {},
   "outputs": [],
   "source": [
    "l = [2,3,4,4,5,5,6,6,7,8,'sudh',[2,2,23,23,23,2,4,5,5]]"
   ]
  },
  {
   "cell_type": "code",
   "execution_count": null,
   "id": "f12dbbe9",
   "metadata": {},
   "outputs": [],
   "source": [
    "def test6(a):\n",
    "    n = []\n",
    "    if type(a) == list:\n",
    "        for i in a:\n",
    "            if type(i) == int:\n",
    "                n.append(i)\n",
    "    \n",
    "\n",
    "    return n"
   ]
  },
  {
   "cell_type": "code",
   "execution_count": null,
   "id": "8893e56c",
   "metadata": {},
   "outputs": [],
   "source": [
    "test6(l)"
   ]
  },
  {
   "cell_type": "code",
   "execution_count": null,
   "id": "34e9ff71",
   "metadata": {},
   "outputs": [],
   "source": [
    "#This will return me a list, and if we use print it will be a nonetype"
   ]
  },
  {
   "cell_type": "code",
   "execution_count": null,
   "id": "c1a55ef3",
   "metadata": {},
   "outputs": [],
   "source": [
    "def test7(a):\n",
    "    n = []\n",
    "    if type(a) == list:\n",
    "        for i in a:\n",
    "            if type(i) == list:\n",
    "                for j in i:\n",
    "                    if type(j) == int:\n",
    "                        n.append(j)\n",
    "    \n",
    "\n",
    "    return n"
   ]
  },
  {
   "cell_type": "code",
   "execution_count": null,
   "id": "cf76f7ec",
   "metadata": {},
   "outputs": [],
   "source": [
    "test7(l)"
   ]
  },
  {
   "cell_type": "code",
   "execution_count": null,
   "id": "392729b3",
   "metadata": {},
   "outputs": [],
   "source": [
    "#2nd Approach\n",
    "test7([312121,121,2121,21,2,12,'asdask','asdasd',[2,2323,23,23,23,23,]])"
   ]
  },
  {
   "cell_type": "code",
   "execution_count": null,
   "id": "85bbc10d",
   "metadata": {},
   "outputs": [],
   "source": [
    "def test9(a):\n",
    "    n = []\n",
    "    if type(a) == list:\n",
    "        for i in a:\n",
    "            if type(i) == int:\n",
    "                n.append(i)\n",
    "            elif type(i) == list:\n",
    "                for j in i:\n",
    "                    if type(j) == int:\n",
    "                        n.append(j)\n",
    "    return n"
   ]
  },
  {
   "cell_type": "code",
   "execution_count": null,
   "id": "2b7c8189",
   "metadata": {},
   "outputs": [],
   "source": [
    "test9(l)"
   ]
  },
  {
   "cell_type": "code",
   "execution_count": null,
   "id": "479fb930",
   "metadata": {},
   "outputs": [],
   "source": [
    "def test10(x) :\n",
    "    if type(x) == dict:\n",
    "        return x.keys()\n",
    "    else :\n",
    "        return \"you have not passed a dict\""
   ]
  },
  {
   "cell_type": "code",
   "execution_count": null,
   "id": "4171d57f",
   "metadata": {},
   "outputs": [],
   "source": [
    "test10('dasdasdas')"
   ]
  },
  {
   "cell_type": "code",
   "execution_count": null,
   "id": "c1f6574c",
   "metadata": {},
   "outputs": [],
   "source": [
    "test10({'b':'asdesad','a':12123,'s':['1ededsad']})"
   ]
  },
  {
   "cell_type": "code",
   "execution_count": null,
   "id": "ab674dc3",
   "metadata": {},
   "outputs": [],
   "source": [
    "def test11(a,b):\n",
    "    if type(a) == list and type(b) == list:\n",
    "        return a.extend(b)\n",
    "    else:\n",
    "        return 'either of your data is not a list'"
   ]
  },
  {
   "cell_type": "code",
   "execution_count": null,
   "id": "c855792d",
   "metadata": {},
   "outputs": [],
   "source": [
    "test11(2323,2323)"
   ]
  },
  {
   "cell_type": "code",
   "execution_count": null,
   "id": "d6462327",
   "metadata": {},
   "outputs": [],
   "source": [
    "z = test11([2323],[2323])"
   ]
  },
  {
   "cell_type": "code",
   "execution_count": null,
   "id": "8f4baccc",
   "metadata": {},
   "outputs": [],
   "source": [
    "z"
   ]
  },
  {
   "cell_type": "code",
   "execution_count": null,
   "id": "4e7b2ce0",
   "metadata": {},
   "outputs": [],
   "source": [
    "a = [112,2121,2,12,12,12,1]\n",
    "b = [121,12121,121,2,12,12,12]"
   ]
  },
  {
   "cell_type": "code",
   "execution_count": null,
   "id": "b7697560",
   "metadata": {},
   "outputs": [],
   "source": [
    "test11(a,b)"
   ]
  },
  {
   "cell_type": "code",
   "execution_count": null,
   "id": "5dd0ba6e",
   "metadata": {},
   "outputs": [],
   "source": [
    "a"
   ]
  },
  {
   "cell_type": "code",
   "execution_count": null,
   "id": "6bacb907",
   "metadata": {},
   "outputs": [],
   "source": [
    "def test11(a,b):\n",
    "    if type(a) == list and type(b) == list:\n",
    "        a.extend(b)\n",
    "        return a\n",
    "    else:\n",
    "        return 'either of your data is not a list'"
   ]
  },
  {
   "cell_type": "code",
   "execution_count": null,
   "id": "e208e177",
   "metadata": {},
   "outputs": [],
   "source": [
    "test11(a,b)"
   ]
  },
  {
   "cell_type": "code",
   "execution_count": null,
   "id": "ccc82368",
   "metadata": {},
   "outputs": [],
   "source": [
    "def triange(int(input()))\n",
    "n = int(input())\n",
    "for i in range(0,n):\n",
    "    for j in range(0,i+1):\n",
    "        print('* ',end = \" \")\n",
    "    print('\\r')"
   ]
  },
  {
   "cell_type": "code",
   "execution_count": null,
   "id": "3c7c579b",
   "metadata": {},
   "outputs": [],
   "source": [
    "def triangle(row_num):\n",
    "    n= row_num\n",
    "    for i in range(0,n):\n",
    "        for j in range(0,i+1):\n",
    "            print('* ',end = \" \")\n",
    "        print('\\r')\n",
    "triangle(10)"
   ]
  },
  {
   "cell_type": "code",
   "execution_count": null,
   "id": "dfe60710",
   "metadata": {},
   "outputs": [],
   "source": [
    "def proper_triangle(row_num):\n",
    "    n=row_num\n",
    "    k = n -1\n",
    "    \n",
    "    for i in range(0,n):\n",
    "        \n",
    "        for j in range(0,k):\n",
    "            print(end = \" \")\n",
    "            \n",
    "        k = k - 1\n",
    "        \n",
    "        for j in range(0, i+1):\n",
    "            print(\"* \",end = \"\")\n",
    "            \n",
    "        print(\"\\r\")\n",
    "proper_triangle(10)"
   ]
  },
  {
   "cell_type": "code",
   "execution_count": null,
   "id": "83b760c0",
   "metadata": {},
   "outputs": [],
   "source": [
    "def triangle(row_num):\n",
    "    \"\"\"This is a function which will help you to create a triangle with any number of rows\"\"\"\n",
    "    n= row_num\n",
    "    for i in range(0,n):\n",
    "        for j in range(0,i+1):\n",
    "            print('* ',end = \" \")\n",
    "        print('\\r')\n",
    "triangle(10)"
   ]
  },
  {
   "cell_type": "code",
   "execution_count": null,
   "id": "5f6438c9",
   "metadata": {},
   "outputs": [],
   "source": [
    "triangle(20)"
   ]
  },
  {
   "cell_type": "code",
   "execution_count": null,
   "id": "716b5bb8",
   "metadata": {},
   "outputs": [],
   "source": [
    "#This will prrint the doc string of a function\n",
    "help(triangle)"
   ]
  },
  {
   "cell_type": "code",
   "execution_count": null,
   "id": "3c5a0196",
   "metadata": {},
   "outputs": [],
   "source": [
    "# this is also a type of comment\n",
    "\"\"\"ajdsad\n",
    "daskldaskd\n",
    "klsdaklsd\n",
    "alksdaslkd\n",
    "lksjddklasjd\n",
    "sadl;kjasdklaskd\n",
    "laksjdklasjd\n",
    "lkasjdklasjd\n",
    "klsjdklasjd\n",
    "\"\"\""
   ]
  },
  {
   "cell_type": "markdown",
   "id": "5222efc6",
   "metadata": {},
   "source": [
    "# PRACTICE"
   ]
  },
  {
   "cell_type": "code",
   "execution_count": null,
   "id": "a6139aed",
   "metadata": {},
   "outputs": [],
   "source": [
    "# Write a function which will take string and return a length of it without using a inbuilt function len\n",
    "def lenwithoutinbuilt():\n",
    "    \"\"\"This function helps in finding out the length of the string without using len output function\"\"\"\n",
    "    str = input(\"Enter a String \")\n",
    "    counter = 0\n",
    "    for s in str:\n",
    "        counter = counter+1\n",
    "    print(\"Length of input string is\", counter)\n",
    "lenwithoutinbuilt()"
   ]
  },
  {
   "cell_type": "code",
   "execution_count": null,
   "id": "46a745c8",
   "metadata": {},
   "outputs": [],
   "source": [
    "# Write a function which will print an index of all premitive element which you will pass\n",
    "def premetiveindex():\n",
    "    \"\"\"This function will return us the primitive index of all the values which will be passed inside this string\"\"\"\n",
    "    z = input('Enter a string : ')\n",
    "    for i in range(len(z)):\n",
    "        print(\"The premitive index of : \", z[i] ,'is',i)\n",
    "premetiveindex()"
   ]
  },
  {
   "cell_type": "code",
   "execution_count": null,
   "id": "a2ffb255",
   "metadata": {},
   "outputs": [],
   "source": [
    "d_1 = {\"ineuron\":{\n",
    "                        \"a\" : 14,\n",
    "                        \"b\" : 10,\n",
    "                        \"c\" : 4\n",
    "                    },\n",
    "    'Course' :   {\n",
    "                    \"d\" : 45,\n",
    "                    \"e\" : 34,\n",
    "                    \"f\" : 1\n",
    "                   }\n",
    "    \n",
    "        }"
   ]
  },
  {
   "cell_type": "code",
   "execution_count": null,
   "id": "2a945489",
   "metadata": {},
   "outputs": [],
   "source": [
    "d_2  = {'column 1' : {'Ashish':'Roy',\"Place\":'Bangalore'}, 'Nest':{'key':'print this'}}"
   ]
  },
  {
   "cell_type": "code",
   "execution_count": null,
   "id": "9a76f1c0",
   "metadata": {},
   "outputs": [],
   "source": [
    "d_3 = {'column1':'row1','column2':'row2'}"
   ]
  },
  {
   "cell_type": "code",
   "execution_count": null,
   "id": "014547e0",
   "metadata": {},
   "outputs": [],
   "source": [
    "# Write a function which will take input as dict as a dict and give me out as a list of all the values even in case of 2 level nesting it should work\n",
    "def convertdictandfindlistval(x):\n",
    "    \"\"\"This is a function to give out an output as list when inserted with dictionary Type 1\"\"\"\n",
    "    lst  = []\n",
    "    for i in x.values():\n",
    "        for j in i.values():\n",
    "            lst.append(j)\n",
    "    print(lst)\n",
    "convertdictandfindlistval(d_1)"
   ]
  },
  {
   "cell_type": "code",
   "execution_count": null,
   "id": "7951cd2c",
   "metadata": {},
   "outputs": [],
   "source": [
    "# Write a function which will take input as dict as a dict and give me out as a list of all the values even in case of 2 level nesting it should work\n",
    "def convertdictandfindlistvaltype1(x):\n",
    "    \"\"\"This is a function to give out an output as list when inserted with dictionary Type 1\"\"\"\n",
    "    lst  = []\n",
    "    for i in x.values():\n",
    "        for j in i.values():\n",
    "            lst.append(j)\n",
    "    print(lst)\n",
    "convertdictandfindlistvaltype1(d_2)"
   ]
  },
  {
   "cell_type": "code",
   "execution_count": null,
   "id": "103ea727",
   "metadata": {},
   "outputs": [],
   "source": [
    "# Write a function which will take input as dict as a dict and give me out as a list of all the values even in case of 2 level nesting it should work\n",
    "def convertdictandfindlistvaltype2(x):\n",
    "    \"\"\"This is a function to give out an output as list when inserted with dictionary Type 2\"\"\"\n",
    "    lst  = []\n",
    "    if type(x) == dict:\n",
    "        for i in x.values():\n",
    "            lst.append(i)\n",
    "    elif type(i) == dict:\n",
    "        for j in i.values():\n",
    "            lst.append(j)\n",
    "    else:\n",
    "        print('No Data Available')\n",
    "    return lst\n",
    "convertdictandfindlistvaltype2(d_3)"
   ]
  },
  {
   "cell_type": "code",
   "execution_count": null,
   "id": "cc5b4bf7",
   "metadata": {},
   "outputs": [],
   "source": [
    "#Write a function which will take another function as an input and return an output\n",
    "def add_1(a):\n",
    "    \"\"\"This function was created to see how a function can be used to call another function as an output\"\"\"\n",
    "    return (a + 1)\n",
    "\n",
    "def add_2(b):\n",
    "    return (b + 2)\n",
    "\n",
    "output = add_1(add_2(1))\n",
    "\n",
    "print(output)"
   ]
  },
  {
   "cell_type": "code",
   "execution_count": null,
   "id": "a4fc71e9",
   "metadata": {},
   "outputs": [],
   "source": [
    "#Write a function which will take another function as an input and return an output : Exaample 2\n",
    "def repeat(function, n):\n",
    "    \"\"\"This function was created to see how a function can be used to call another function as an output\"\"\"\n",
    "    return function(n)\n",
    "\n",
    "def square(n):\n",
    "    return n**2\n",
    "\n",
    "output = repeat(square,5)\n",
    "\n",
    "print(output)"
   ]
  },
  {
   "cell_type": "code",
   "execution_count": null,
   "id": "63946bc4",
   "metadata": {},
   "outputs": [],
   "source": [
    "# write a function which will take list as an input and give me concatination of all the element as output.\n",
    "def list_to_allelements():\n",
    "    \"\"\"This function will take an input as list and concatinate and give all the elements as output\"\"\"\n",
    "    test_list1 = list(input(\"Input list 1 : \"))\n",
    "    test_list2 = list(input(\"Input list 2 : \"))\n",
    "\n",
    "    for i in test_list2:\n",
    "        test_list1.append(i)\n",
    "\n",
    "    print('Concatinated list using naive method : ' + str(test_list1))\n",
    "list_to_allelements()"
   ]
  },
  {
   "cell_type": "code",
   "execution_count": null,
   "id": "63eb8223",
   "metadata": {},
   "outputs": [],
   "source": [
    "# write a function which will be able to a list as an input return an input return an index of each element like a inbuilt function even if we have repetative element it should return index\n",
    "Data = ['sasda','gasg','gasga','gasga','gagag','gaasgag','asdasd','asdasd']\n",
    "def listofindex(Data):\n",
    "    \"\"\"This function will return us the primitive index of all the values which will be passed inside this string\"\"\"\n",
    "    for i in range(len(Data)):\n",
    "        print(\"The index of : \", Data[i] ,'is',i)\n",
    "listofindex(Data)"
   ]
  },
  {
   "cell_type": "code",
   "execution_count": null,
   "id": "bf7e0828",
   "metadata": {},
   "outputs": [],
   "source": [
    "#Write a function which should return list of all the file name from a directory\n",
    "from os import listdir\n",
    "from os.path import isfile, join\n",
    "def names_files_list(my_path):\n",
    "    \"\"\"This function will us show the files which are present in the system, when given the path name\"\"\"\n",
    "    onlyfiles = [f for f in listdir(my_path) if isfile(join(my_path, f))]\n",
    "    return onlyfiles\n",
    "names_files_list(r'C:\\\\Users\\\\roy.800\\\\Downloads')"
   ]
  },
  {
   "cell_type": "code",
   "execution_count": null,
   "id": "8b337ee8",
   "metadata": {},
   "outputs": [],
   "source": [
    "#Write a function which will be aable to show your system configuration\n",
    "# import module\n",
    "import subprocess\n",
    "\n",
    "# traverse the info\n",
    "def printsysinfo(sys_info,code):\n",
    "    \"\"\"This function is used to print the system configuation\"\"\"\n",
    "    Id = subprocess.check_output([sys_info]).decode(code).split('\\n')\n",
    "    new = []\n",
    "\n",
    "    # arrange the string into clear info\n",
    "    for item in Id:\n",
    "        new.append(str(item.split(\"\\r\")[:-1]))\n",
    "    for i in new:\n",
    "        print(i[2:-2])\n",
    "printsysinfo('systeminfo','utf-8')"
   ]
  },
  {
   "cell_type": "code",
   "execution_count": null,
   "id": "f5e204eb",
   "metadata": {},
   "outputs": [],
   "source": [
    "def fun9():\n",
    "    \"\"\"This function will be able to show date and time\"\"\"\n",
    "    import subprocess as sb\n",
    "    from subprocess import time\n",
    "    a = time.localtime()\n",
    "    print(a)\n",
    "    Date = str(a[0])+'-'+str(a[1])+'-'+str(a[2])\n",
    "    Time = str(a[3])+'-'+str(a[4])+'-'+str(a[5])\n",
    "    return f\"The Date is {Date} and the Time is {Time}\"\n",
    "fun9()"
   ]
  },
  {
   "cell_type": "code",
   "execution_count": null,
   "id": "b9dc631d",
   "metadata": {},
   "outputs": [],
   "source": [
    "\n",
    "# Python program to read\n",
    "# image using PIL module\n",
    " \n",
    "# importing PIL\n",
    "from PIL import Image\n",
    "\n",
    "def read_img(pic):\n",
    "    \"\"\"This function is used to display an image\"\"\"\n",
    "    # Read image\n",
    "    img = Image.open(pic)\n",
    "\n",
    "    # Output Images\n",
    "    img.show()\n",
    "\n",
    "    # prints format of image\n",
    "    print(img.format)\n",
    "\n",
    "    # prints mode of image\n",
    "    print(img.mode)\n",
    "read_img('zoom bg-02.png')"
   ]
  },
  {
   "cell_type": "code",
   "execution_count": null,
   "id": "19ba93c0",
   "metadata": {},
   "outputs": [],
   "source": [
    "#Import Libraries\n",
    "from IPython.display import Image\n",
    "\n",
    "#For this particular case, we have considered this particular size chart\n",
    "def disp_img(pic,height,width):\n",
    "    \"\"\"This function is used to display an image\"\"\"\n",
    "    img = Image(\"zoom bg-02.png\", height=height, width=width)\n",
    "    return img\n",
    "disp_img('zoom bg-02.png',300,500)"
   ]
  },
  {
   "cell_type": "code",
   "execution_count": null,
   "id": "41f14721",
   "metadata": {},
   "outputs": [],
   "source": [
    "#Function to read video files\n",
    "\n",
    "# Link 1 = https://www.geeksforgeeks.org/playing-youtube-video-using-python/\n",
    "# Link 2 = https://www.youtube.com/watch?v=vvq6xRziKns&t=246s\n",
    "\n",
    "# could not execute due to office laptop restrictions\n",
    "\n",
    "\n",
    "# PLAY VIDEO\n",
    "\n",
    "# # importing vlc module\n",
    "# import vlc\n",
    "  \n",
    "# # importing pafy module\n",
    "# import pafy\n",
    "  \n",
    "# # url of the video\n",
    "# url = \"https://www.youtube.com/watch?v = vG2PNdI8axo\"\n",
    "  \n",
    "# # creating pafy object of the video\n",
    "# video = pafy.new(url)\n",
    "  \n",
    "# # getting best stream\n",
    "# best = video.getbest()\n",
    "  \n",
    "# # creating vlc media player object\n",
    "# media = vlc.MediaPlayer(best.url)\n",
    "  \n",
    "# # start playing video\n",
    "# media.play()\n",
    "\n",
    "\n",
    "# PLAY VIDEO\n",
    "\n",
    "\n",
    "# # importing vlc module\n",
    "# import vlc\n",
    "  \n",
    "# importing pafy module\n",
    "# import pafy\n",
    "  \n",
    "# # url of the video\n",
    "# url = \"https://www.youtube.com/watch?v=il_t1WVLNxk&list=PLqM7alHXFySGqCvcwfqqMrteqWukz9ZoE\"\n",
    "  \n",
    "# # creating pafy object of the video\n",
    "# video = pafy.new(url)\n",
    "  \n",
    "# # getting stream at index 0\n",
    "# best = video.streams[0]\n",
    "  \n",
    "# # creating vlc media player object\n",
    "# media = vlc.MediaPlayer(best.url)\n",
    "  \n",
    "# # start playing video\n",
    "# media.play()"
   ]
  },
  {
   "cell_type": "code",
   "execution_count": null,
   "id": "17fbd80c",
   "metadata": {},
   "outputs": [],
   "source": [
    "# Write a function to move single file from one directory to another directory\n",
    "import shutil\n",
    "def move_singlefile(source_file,dest_file):\n",
    "    \"\"\"This function is used to move a file from one directory to another directory\"\"\"\n",
    "    src_path = source_file\n",
    "    dst_path = dest_file\n",
    "    shutil.move(src_path,dst_path)\n",
    "move_singlefile(r\"C:\\Users\\roy.800\\Music\\bg1-05.png\",r\"C:\\Users\\roy.800\\Downloads\\bg1-05.png\")"
   ]
  },
  {
   "cell_type": "code",
   "execution_count": null,
   "id": "6ee6b93b",
   "metadata": {},
   "outputs": [],
   "source": [
    "#Write a function to shut down the laptop or computer.\n",
    "import os\n",
    "\n",
    "def shutdown_laptop():\n",
    "    \"\"\"This function will help in shutting down the laptop\"\"\"\n",
    "    shutdown = input(\"Do you wish to shutdown your computer ? (yes / no): \")\n",
    "\n",
    "    if shutdown == 'no':\n",
    "        exit()\n",
    "    else:\n",
    "        os.system(\"shutdown /s /t 1\")\n",
    "shutdown_laptop()"
   ]
  },
  {
   "cell_type": "code",
   "execution_count": null,
   "id": "07116359",
   "metadata": {},
   "outputs": [],
   "source": [
    "#Write a function to read pdf in python\n",
    "def fun16(filename):\n",
    "    \"\"\"This function will read a complete pdf file\"\"\"\n",
    "    import PyPDF2 as pdf\n",
    "    \n",
    "    f  = open(filename+'.pdf','rb')\n",
    "    print(f)\n",
    "    f_read = pdf.PdfFileReader(f)\n",
    "    f_page = f_read.getPage(0)\n",
    "    print(f_page.extractText())\n",
    "    f.close()\n",
    "    \n",
    "filename = input(\"Please enter the PDF File name\")\n",
    "\n",
    "fun16(filename)"
   ]
  },
  {
   "cell_type": "code",
   "execution_count": null,
   "id": "4305c5ff",
   "metadata": {},
   "outputs": [],
   "source": [
    "#Write a function to read a word file\n",
    "def fun17(filename):\n",
    "    \"\"\"This function will read a complete word file\"\"\"\n",
    "    f = open(filename+'.doc','r')\n",
    "    print(f.read())\n",
    "    \n",
    "filename = input ('Please enter the word file name without extension: ')\n",
    "\n",
    "fun17(filename)"
   ]
  },
  {
   "cell_type": "code",
   "execution_count": 6,
   "id": "6fda151e",
   "metadata": {},
   "outputs": [
    {
     "name": "stdout",
     "output_type": "stream",
     "text": [
      "Please entry the Directory path to list all .csv files in it: C:\\\\Users\\\\roy.800\\\\Downloads\n",
      "\n",
      "List of all .csv files are: \n",
      " ['Age Of opportunities with logic.csv', 'Count of comments per date.csv', 'Country data  updated (1).csv', 'Country data  updated (2).csv', 'Country data  updated.csv', 'Credit Card Defaulter.csv', 'Data Ashish (Sentiment Risk Assessment) (1).csv', 'Data Ashish (Sentiment Risk Assessment).csv', 'New Logic Field report.csv', 'Opportunities Analysis TP 1.csv', 'Opportunities Analysis TP.csv', 'Opportunity field History Qualifiying Age.csv', 'report logic.csv', 'report1633014518134.csv', 'report1633015304023.csv', 'report1633699587429.csv', 'report1633700056663.csv', 'report1633700349171.csv', 'report1633701538399.csv', 'report1633706707872.csv', 'report1633707817693.csv', 'report1634117081228.csv', 'report1634120063688.csv', 'report1634131550007.csv', 'report1634132453368.csv', 'report1634132648799.csv', 'report1634132666211.csv', 'report1634138195705.csv', 'report1634217227165.csv', 'report1634647100149.csv', 'report1634649581930.csv', 'report1634651638578.csv', 'report1634711650277.csv', 'report1634726597701.csv', 'report1634727224840.csv', 'report1634729287797.csv', 'report1634729700459.csv', 'report1634739689710.csv', 'report1634793341378.csv', 'report1634797711995.csv', 'report1634839931272.csv', 'report1635165156000.csv', 'report1635169111104.csv', 'report1635172416312.csv', 'report1635174911494.csv', 'report1635243897266.csv', 'report1635259281356.csv', 'report1635321285820.csv', 'report1635400752156.csv', 'report1635409469243.csv', 'report1635442820420.csv', 'report1635499388637.csv', 'report1635756944860.csv', 'report1635933803410.csv', 'report1635934093489.csv', 'report1636446740291.csv', 'report1636540998450.csv', 'report1636640633290.csv', 'report1636642959450.csv', 'report1636966912150.csv', 'report1636967677513.csv', 'report1636981490656.csv', 'report1637059310971.csv', 'report1637062598496.csv', 'report1637080227025.csv', 'report1637080465968.csv', 'report1637080853976.csv', 'report1637095990476.csv', 'report1637238243002.csv', 'report1637238376640.csv', 'report1637590758806.csv', 'report1637592095244.csv', 'report1637592535470.csv', 'report1637593707685.csv', 'report1637594389210.csv', 'report1637595870656.csv', 'report1637658284201.csv', 'report1637659321700.csv', 'report1637665491718.csv', 'report1638270924758.csv', 'report1638272346719.csv', 'report1638272590366.csv', 'report1638273189324.csv', 'report1638273565481.csv', 'report1638273780040.csv', 'report1644822616312.csv', 'report1644822833425.csv', 'report1646296287575.csv', 'report1647517846385.csv', 'report1647518018544.csv', 'report1648473314283.csv', 'RPF.csv', 'selling cycle (version 1).csv', 'selling cycle.csv', 'Text_Analytics2022Apple.csv', 'Text_Analytics2022BestBuy.csv', 'Text_Analytics2022Google.csv', 'train (1).csv', 'train.csv', 'sunspots.csv']\n",
      "\n",
      "\n",
      "List of all files in the direcory : \n",
      " [('C:\\\\\\\\Users\\\\\\\\roy.800\\\\\\\\Downloads', ['Absenteeism', 'From Pooja', 'From Punith', 'GPTW Code files', 'GPTW Coeff', 'GPTW data', 'GPTW EDA', 'java', 'nltk', 'nltk-3.6.1.dist-info', 'Time series sunspot'], ['20000000002240427751ba1-5530-4dd1-8540-0b06e8d2c181.pdf', '2000000000224045308038f-f6a5-4423-b6d0-50e6b3d5ce47.pdf', '200000000022404b732da05-2d4c-4229-8e67-7caf3d0984c1.pdf', '200000000022404e6f962cd-e556-4ed0-986d-1d666ea4fb7f.pdf', '200000000022404e8c3e63d-a4d3-43e3-a422-a95ccc1d5511.pdf', '2020 - Leads Turkey-2021-09-17-15-07-46.xlsx', '2020 Detractors Batches combined categorisation.xlsx', 'Absenteeism.zip', 'Age Of opportunities with logic.csv', 'Apac_Coeff.xlsx', 'APAC_complete.xlsx', 'AppointmentLetter-Ashish Roy.pdf', 'Armela - Leads-2021-09-30-16-36-35.xlsx', 'Ashish Roy - Resume - Data Analyst,Data Scientist.pdf', 'Ashish Roy - Resume - Data Science (1).docx', 'Ashish Roy - Resume - Data Science (1).pdf', 'Ashish Roy - Resume - Data Science (2).pdf', 'Ashish Roy - Resume - Data Science.docx', 'BackToOfficePlan.xlsx', 'BestBuy - Text Analysis (1).ipynb', 'BestBuy - Text Analysis.ipynb', 'bg1-05.png', 'BGBNG00249600000515593.pdf', 'BGBNG00249600000515593_new.pdf', 'Campaign 2021.xlsx', 'Campaign Report - 9 September.xlsx', 'Canceled_ Internal Analytics Meeting (Global COE Projects).msg', 'Cemea_Coeff.xlsx', 'Coeff_EW.xlsx', 'Coeff_Sp.xlsx', 'Comment Analysis.pptx', 'ComOlho_SDATechnicalAssessment.docx.pdf', 'Copy of SF New User Request - Ashish Roy.xlsx', 'Count of comments per date.csv', 'Country data  updated (1).csv', 'Country data  updated (2).csv', 'Country data  updated.csv', 'COVID_Data_Processing.ipynb', 'CREDIT CARD  - EDA AND DASHBOARD - PERFORMANCE REVIEW.ipynb', 'Credit card data (3).ipynb', 'Credit Card Defaulter.csv', 'd.xlsx', 'Dashboard Anamalies.xlsx', 'data analysis new.xlsx', 'Data Ashish (Sentiment Risk Assessment) (1).csv', 'Data Ashish (Sentiment Risk Assessment).csv', 'DataFile2020_verbatim (1).rar', 'DataFile2020_verbatim (1).xlsx', 'DataFile2020_verbatim (2).rar', 'DataFile2020_verbatim.rar', 'DataFile2020_verbatim.xlsx', 'Dataset.xlsx', 'department common.xlsx', 'desktop.ini', 'Detractors combined 15th Sept 2 PM 2021.xlsx', 'Employee Attrition - TP Poland.pptx', 'Esat19 full datafile & verbatims with urn.xlsx', 'Example of Leads.xlsx', 'Examples for Lead Findings - 11-26-2021.xlsx', 'feature_extraction_Colgate (2).ipynb', 'FE_LSTM-Final (2).ipynb', 'FinalSharePointCode.ipynb', 'Final_Model(XGB).ipynb', 'Final_Model_xgb (1).ipynb', 'Final_Model_xgb (2) (1).ipynb', 'Final_Model_xgb (2).ipynb', 'Final_Model_xgb (3).ipynb', 'Final_Model_xgb.ipynb', 'Flipkart 9k Categorised.xlsx', 'Flipkart Pt1 15k Categorised.xlsx', 'Flipkart Pt2 15k Categorised.xlsx', 'Glassdoor Survey Analysis ver 2.0 (3).pbix', 'GMT_PPT Template_Graphics_April_2020.pptx', 'GPTW (1).xlsx', 'GPTW 2019 DSAT Combined (1).xlsx', 'GPTW Model Building -checkpoint.ipynb', 'GPTW Model Building .ipynb', 'GPTW.xlsx', 'Handling Missing Values - Part 3.ipynb', 'home.html', 'Image1_Ravi.png', 'Ind_Coeff.xlsx', 'Key Drivers of Detractors New_PPT.pptx', 'Key Findings  Insights_Attrition Analysis_Nethrerland.pptx', 'Last status Update.xlsx', 'Latam_Coeff.xlsx', 'Latest MCP.zip', 'Lead History - Nov 3.xlsx', 'Leads - Nov 3.xlsx', 'Leads - Region Added.xlsx', 'Leads and Opportunity Dashboard (1).pbix', 'Leads and Opportunity Dashboard.pbix', 'Leads Dashboard (1).pbix', 'Leads Dashboard - Copy (1).pbix', 'Leads Dashboard - Copy (2).pbix', 'Leads Dashboard - Copy.pbix', 'Leads Dashboard.pbix', 'Leads Data - Comments.xlsx', 'Leads Data - Sample.xlsx', 'Leads History - STATUS ALL.xlsx', 'Leads Laast activity - 11th Nov 2021.xlsx', 'Leads Report - Lead History.xlsx', 'Leads Report - Leads History (Only Open, Contacted, Recycled).xlsx', 'Leads Report - Leads History - Open Leads only.xlsx', 'Leads Report - SalesForce Data Analysis.xls', 'Leads Report 19th November 2021 new.xlsx', 'Leads Report 19th November 2021 new1.xlsx', 'Leads Report 19th November 2021 new2.xlsx', 'Leads Report 19th November 2021.xlsx', 'Leads Report 20th October 2021.xlsx', 'Libra Receipt_1.PDF', 'Live-Time-Series-main.zip', 'Master File Teleperformance_Data_Output_Aug2021_FINAL (002) - Translated.xlsx', 'MicrosoftTeams-image (1).png', 'MicrosoftTeams-image (10).png', 'MicrosoftTeams-image (11).png', 'MicrosoftTeams-image (12).png', 'MicrosoftTeams-image (2).png', 'MicrosoftTeams-image (3).png', 'MicrosoftTeams-image (4).png', 'MicrosoftTeams-image (5).png', 'MicrosoftTeams-image (6).png', 'MicrosoftTeams-image (7).png', 'MicrosoftTeams-image (8).png', 'MicrosoftTeams-image (9).png', 'MicrosoftTeams-image.png', 'Missing CCMSID from Attrition Dataset.xlsx', 'Netherland Data.ipynb', 'Netherland_Ravi_23-09 (1) (1) (1).ipynb', 'Netherland_Ravi_23-09 (1) (1).ipynb', 'Netherland_Ravi_23-09 (1) (2).ipynb', 'Netherland_Ravi_23-09 (1).ipynb', 'Netherland_Ravi_23-09.ipynb', 'Netherland_Ravi_23-09_sept23.ipynb', 'New Logic Field report xlxs.xlsx', 'New Logic Field report.csv', 'New Opportunities With Activities Report-2021-11-12-14-26-02.xlsx', 'New Opportunities With Activities Report-2021-11-12-17-22-35.xlsx', 'New Opportunities With Activities Report-2021-11-15-15-09-30.xlsx', 'New Opportunity History Report - Selling-2022-03-11-00-59-49.xlsx', 'New Opportunity History Report - Selling-2022-03-11-01-13-42.xlsx', 'New Risk categorization-Copy1 (1).ipynb', 'New Risk categorization-Copy1.ipynb', 'New Risk categorization.ipynb', 'New Risk categorization.py', 'newplot (1).png', 'newplot.png', 'NHS Calculation (1).xlsx', 'NHS Calculation.xlsx', 'nltk-3.6.1.dist-info.zip', 'nltk.zip', 'nltk_data.zip', 'NPS Categorised 2019.xlsx', 'nsepa_setup.exe', 'October 8 - Sales Force Data Analysis.xlsx', 'October 8.1 - Sales Force Data Analysis.xlsx', 'October 8.3 - Sales Force Data Analysis.xlsx', 'OneDriveSetup.exe', 'OneDrive_1_9-27-2021.zip', 'OneDrive_1_9-28-2021.zip', 'Opp - 26th October 2021 - Probabilities.xlsx', 'Opp - 26th October 2021.xlsx', 'Opp - 27 October 2021.xlsx', 'Opportunites - Cross tabs and basic EDA.xlsx', 'Opportunites PNG (1).png', 'Opportunities - 1st nov.xlsx', 'Opportunities - Last activity added..xlsx', 'Opportunities - Last activity Revised with ID.xlsx', 'Opportunities Analysis TP 1.csv', 'Opportunities Analysis TP.csv', 'Opportunities Report - Data Study.xlsx', 'Opportunities Report 20th October 2021.xlsx', 'Opportunities Report Analysis.xlsx', 'Opportunities Report.xlsx', 'Opportunity Analysis.xlsx', 'Opportunity field History Qualifiying Age.csv', 'Opportunity Report.xlsx', 'overall_P.xlsx', 'PBIX.zip', 'PERFORMANCE REVIEW ASSIGNMENT - ASHISH ROY  - CREDIT CARD DEFAULTER LIST.ipynb', 'PERFORMANCE REVIEW ASSIGNMENT - ASHISH ROY  - CREDIT CARD DEFAULTER LIST.py', 'Practise.pbix', 'Pradeep - Report-2022-03-04-14-20-39.xlsx', 'Pradeep - Report-2022-03-11-13-59-54.xlsx', 'Python - 1st class.ipynb', 'Python - 2nd Class - String and List Manipulation.ipynb', 'Python - 3rd Class - Tuples, SET and Dictionary.ipynb', 'Python - 4th Class - IF ELSE , FOR LOOP.ipynb', 'Python - 5th Class - Append, For else, while ,pass, break, continous statements, Triangle structure.ipynb', 'Python - 6th Class - For loop, while loop, Dict, list tuple, set, logic building.ipynb', 'Python - 7th class - Functions.ipynb', 'Python - 8th class - Functions (args, kwargs)  Itereable , Iterator - Part 2.ipynb', 'Python Script - Aditi Banasthali - IMDB (1).ipynb', 'Python Script - Aditi Banasthali - IMDB.ipynb', 'Python Script - Aditi Banasthali - IMDB.py', 'Q29udHJvbGxlci5UQVAtQU5BTFlUSUNTICRTODYtMTU3 (1).ica', 'Q29udHJvbGxlci5UQVAtQU5BTFlUSUNTICRTODYtMTU3 (2).ica', 'Q29udHJvbGxlci5UQVAtQU5BTFlUSUNTICRTODYtMTU3 (3).ica', 'Q29udHJvbGxlci5UQVAtQU5BTFlUSUNTICRTODYtMTU3 (4).ica', 'Q29udHJvbGxlci5UQVAtQU5BTFlUSUNTICRTODYtMTU3 (5).ica', 'Q29udHJvbGxlci5UQVAtQU5BTFlUSUNTICRTODYtMTU3.ica', 'Qualifying Pipeline Age Not reached.xlsx', 'report logic.csv', 'Report-2022-02-25-13-45-22.xlsx', 'report1633014518134.csv', 'report1633015304023.csv', 'report1633699587429.csv', 'report1633700056663.csv', 'report1633700349171.csv', 'report1633701538399.csv', 'report1633706707872.csv', 'report1633707817693.csv', 'report1634117081228.csv', 'report1634120063688.csv', 'report1634131550007.csv', 'report1634132453368.csv', 'report1634132648799.csv', 'report1634132666211.csv', 'report1634138195705.csv', 'report1634217227165.csv', 'report1634647100149.csv', 'report1634649581930.csv', 'report1634651638578.csv', 'report1634711650277.csv', 'report1634726597701.csv', 'report1634727224840.csv', 'report1634729287797.csv', 'report1634729700459.csv', 'report1634739689710.csv', 'report1634793341378.csv', 'report1634797711995.csv', 'report1634839931272.csv', 'report1635165156000.csv', 'report1635169111104.csv', 'report1635172416312.csv', 'report1635174911494.csv', 'report1635243897266.csv', 'report1635259281356.csv', 'report1635321285820.csv', 'report1635400752156.csv', 'report1635409469243.csv', 'report1635442820420.csv', 'report1635499388637.csv', 'report1635756944860.csv', 'report1635933803410.csv', 'report1635934093489.csv', 'report1636446740291.csv', 'report1636540998450.csv', 'report1636640633290.csv', 'report1636642959450.csv', 'report1636966912150.csv', 'report1636967677513.csv', 'report1636981490656.csv', 'report1637059310971.csv', 'report1637062598496.csv', 'report1637080227025.csv', 'report1637080465968.csv', 'report1637080853976.csv', 'report1637095990476.csv', 'report1637238243002.csv', 'report1637238376640.csv', 'report1637590758806.csv', 'report1637592095244.csv', 'report1637592535470.csv', 'report1637593707685.csv', 'report1637594389210.csv', 'report1637595870656.csv', 'report1637658284201.csv', 'report1637659321700.csv', 'report1637665491718.csv', 'report1638270924758.csv', 'report1638272346719.csv', 'report1638272590366.csv', 'report1638273189324.csv', 'report1638273565481.csv', 'report1638273780040.csv', 'report1644822616312.csv', 'report1644822833425.csv', 'report1646296287575.csv', 'report1647517846385.csv', 'report1647518018544.csv', 'report1648473314283.csv', 'Reports Anamalies.xlsx', 'Resume - Anurodh Kumar - Power Bi.pdf', \"RFP's - Region wise Report-2022-03-03-13-58-45.xlsx\", 'Risk Categorization Project.ipynb', 'Risk Categorization Project.py', 'Risk_Assessment.xlsx', 'RPF.csv', 'RTS - Time Series Analysis.ipynb', 'RTS 6sept.pbix', 'RTS 7sept.pbix', 'Sales force - Image 1.PNG', 'Sales Force Dashboard V2.1.pbix', 'Sales Force Dashboard V2.1.pdf', 'Sales force DAshboard.pptx', 'Sales Force Data Analysis - From Year 2012.xlsx', 'Sales Force Data Analysis - Last Modified Date.xlsx', 'Sales Force Data Analysis - Update.xlsx', 'Sales force Data Analysis PPT.pptx', 'Sales force Data Analysis.xlsx', 'Sales Force October 13 - 2021.xlsx', 'Sales Force Opportunity Report 2021 October 13.xlsx', 'Sales force Opportunity Report.xlsx', 'Sales force Sliders.pptx', 'SalesexAnalysis20.png', 'Salesforce Dashboard - Opportuntiy Analysis (1).pbix', 'Salesforce Dashboard - Opportuntiy Analysis.pbix', 'Salesforce Dashboard V2 (1).pbix', 'Salesforce Dashboard V2.1 (1) (1).pbix', 'Salesforce Dashboard V2.1 (1).pbix', 'Salesforce Dashboard V2.2 (1).pbix', 'Salesforce Dashboard V2.2 (2).pbix', 'Salesforce Dashboard V2.2 (3).pbix', 'Salesforce Dashboard V2.2.pbix', 'Salesforce Dashboard V2.pbix', 'SalesForce Data Analysis - New.xlsx', 'Salesforce Data Assessment.pptx', 'Salesforce Opportunity Report 2021.xlsx', 'sample.pdf', 'selling cycle (version 1).csv', 'Selling Cycle - Anomalies-2022-03-11-00-49-05.xlsx', 'Selling Cycle Anaomalie Data set.xlsx', 'selling cycle.csv', 'Teleperformance_Data_Output_Aug2021_FINAL (1) (1).xlsx', 'Teleperformance_Data_Output_Aug2021_FINAL (1) (2).xlsx', 'Teleperformance_Data_Output_Aug2021_FINAL (1) (3).xlsx', 'Teleperformance_Data_Output_Aug2021_FINAL (1).xlsx', 'Text_Analytics2022Apple.csv', 'Text_Analytics2022BestBuy.csv', 'Text_Analytics2022Google.csv', 'There is very less information available to do analysis.docx', 'Time Series - RTS Comments (Country Wise).pptx', 'Time Series Analysis - RTS Comments New.ipynb', 'Time Series Analysis - RTS Comments.ipynb', 'Time series sunspot.7z', 'timeSeries.zip', 'Total Leads Count.png', 'TP_DIBS_PPT_TEMPLATE_PIXELS_.pptx', 'train (1).csv', 'train.csv', 'undefined.png', 'Updated Salesforce Dashboard V2.2 (1).pbix', 'Updated Salesforce Dashboard V2.2.pbix', 'webinar-94155469916 (1).ics', 'webinar-94155469916.ics', 'Working.xlsx', '~$Comment Analysis.pptx', '~$Leads - Region Added.xlsx', '~$Leads History - STATUS ALL.xlsx', '~$Leads Report - Leads History - Open Leads only.xlsx', '~$New Opportunities With Activities Report-2021-11-12-14-26-02.xlsx', '~$New Opportunities With Activities Report-2021-11-12-17-22-35.xlsx', '~$Sales force DAshboard.pptx', '~$Sales force Data Analysis PPT.pptx', '~$SalesForce Data Analysis - New.xlsx', '~$Teleperformance_Data_Output_Aug2021_FINAL (1) (1).xlsx']), ('C:\\\\\\\\Users\\\\\\\\roy.800\\\\\\\\Downloads\\\\Absenteeism', ['Absenteeism'], []), ('C:\\\\\\\\Users\\\\\\\\roy.800\\\\\\\\Downloads\\\\Absenteeism\\\\Absenteeism', [], ['Absenteeism With Purge.pptx', 'Absenteeism Without Purge.pptx']), ('C:\\\\\\\\Users\\\\\\\\roy.800\\\\\\\\Downloads\\\\From Pooja', [], ['DataFile2020_verbatim.xlsx']), ('C:\\\\\\\\Users\\\\\\\\roy.800\\\\\\\\Downloads\\\\From Punith', [], ['2020 Detractors Batches combined categorisation (1).xlsx', 'DataFile2020_verbatim.xlsx', 'Esat19 full datafile & verbatims with urn (1).xlsx', 'GPTW 2019 DSAT Combined.xlsx', '~$GPTW 2019 DSAT Combined.xlsx']), ('C:\\\\\\\\Users\\\\\\\\roy.800\\\\\\\\Downloads\\\\GPTW Code files', [], ['APAC Model Building .ipynb', 'CEMEA Model Building .ipynb', 'EW Model Building .ipynb', 'India Model Building .ipynb', 'LATAM Model Building .ipynb', 'SS  Model Building.ipynb']), ('C:\\\\\\\\Users\\\\\\\\roy.800\\\\\\\\Downloads\\\\GPTW Coeff', [], ['LATAM_P.xlsx']), ('C:\\\\\\\\Users\\\\\\\\roy.800\\\\\\\\Downloads\\\\GPTW data', [], ['Detractors combined 2021.xlsx', 'Passives combined 2021.xlsx', 'Promoters combined 2021.xlsx', 'Teleperformance_Data_Output_Aug2021_FINAL 1.8L.xlsx']), ('C:\\\\\\\\Users\\\\\\\\roy.800\\\\\\\\Downloads\\\\GPTW EDA', [], ['2021 ESAT NPS Summary - Sept21_New.pptx', 'APAC_P.xlsx', 'APAC_P_EDA_CROSSTABS.xlsx', 'CEMEA_P.xlsx', 'CEMEA_P_EDA_CROSSTABS.xlsx', 'EW_P.xlsx', 'EW_P_EDA_CROSSTABS.xlsx', 'Key Drivers of Detractors New_PPT.pptx', 'Key Drivers of Detractors.pptx', 'LATAM_P.xlsx', 'LATAM_P_EDA_CROSSTABS.xlsx', 'overall_P.xlsx', 'overall_P_EDA_CROSSTABS.xlsx', '~$Key Drivers of Detractors New_PPT.pptx']), ('C:\\\\\\\\Users\\\\\\\\roy.800\\\\\\\\Downloads\\\\java', [], ['HelloWorld.java', 'Logic Sales force  0 to 20 and 20 to 90.txt', 'logics Anurag.txt']), ('C:\\\\\\\\Users\\\\\\\\roy.800\\\\\\\\Downloads\\\\nltk', ['app', 'ccg', 'chat', 'chunk', 'classify', 'cluster', 'corpus', 'draw', 'inference', 'lm', 'metrics', 'misc', 'parse', 'sem', 'sentiment', 'stem', 'tag', 'tbl', 'test', 'tokenize', 'translate', 'twitter', '__pycache__'], ['book.py', 'cli.py', 'collections.py', 'collocations.py', 'compat.py', 'data.py', 'decorators.py', 'downloader.py', 'featstruct.py', 'grammar.py', 'help.py', 'internals.py', 'jsontags.py', 'lazyimport.py', 'probability.py', 'text.py', 'tgrep.py', 'toolbox.py', 'tree.py', 'treeprettyprinter.py', 'treetransforms.py', 'util.py', 'VERSION', 'wsd.py', '__init__.py']), ('C:\\\\\\\\Users\\\\\\\\roy.800\\\\\\\\Downloads\\\\nltk\\\\app', ['__pycache__'], ['chartparser_app.py', 'chunkparser_app.py', 'collocations_app.py', 'concordance_app.py', 'nemo_app.py', 'rdparser_app.py', 'srparser_app.py', 'wordfreq_app.py', 'wordnet_app.py', '__init__.py']), ('C:\\\\\\\\Users\\\\\\\\roy.800\\\\\\\\Downloads\\\\nltk\\\\app\\\\__pycache__', [], ['chartparser_app.cpython-38.pyc', 'chunkparser_app.cpython-38.pyc', 'collocations_app.cpython-38.pyc', 'concordance_app.cpython-38.pyc', 'nemo_app.cpython-38.pyc', 'rdparser_app.cpython-38.pyc', 'srparser_app.cpython-38.pyc', 'wordfreq_app.cpython-38.pyc', 'wordnet_app.cpython-38.pyc', '__init__.cpython-38.pyc']), ('C:\\\\\\\\Users\\\\\\\\roy.800\\\\\\\\Downloads\\\\nltk\\\\ccg', ['__pycache__'], ['api.py', 'chart.py', 'combinator.py', 'lexicon.py', 'logic.py', '__init__.py']), ('C:\\\\\\\\Users\\\\\\\\roy.800\\\\\\\\Downloads\\\\nltk\\\\ccg\\\\__pycache__', [], ['api.cpython-38.pyc', 'chart.cpython-38.pyc', 'combinator.cpython-38.pyc', 'lexicon.cpython-38.pyc', 'logic.cpython-38.pyc', '__init__.cpython-38.pyc']), ('C:\\\\\\\\Users\\\\\\\\roy.800\\\\\\\\Downloads\\\\nltk\\\\chat', ['__pycache__'], ['eliza.py', 'iesha.py', 'rude.py', 'suntsu.py', 'util.py', 'zen.py', '__init__.py']), ('C:\\\\\\\\Users\\\\\\\\roy.800\\\\\\\\Downloads\\\\nltk\\\\chat\\\\__pycache__', [], ['eliza.cpython-38.pyc', 'iesha.cpython-38.pyc', 'rude.cpython-38.pyc', 'suntsu.cpython-38.pyc', 'util.cpython-38.pyc', 'zen.cpython-38.pyc', '__init__.cpython-38.pyc']), ('C:\\\\\\\\Users\\\\\\\\roy.800\\\\\\\\Downloads\\\\nltk\\\\chunk', ['__pycache__'], ['api.py', 'named_entity.py', 'regexp.py', 'util.py', '__init__.py']), ('C:\\\\\\\\Users\\\\\\\\roy.800\\\\\\\\Downloads\\\\nltk\\\\chunk\\\\__pycache__', [], ['api.cpython-38.pyc', 'named_entity.cpython-38.pyc', 'regexp.cpython-38.pyc', 'util.cpython-38.pyc', '__init__.cpython-38.pyc']), ('C:\\\\\\\\Users\\\\\\\\roy.800\\\\\\\\Downloads\\\\nltk\\\\classify', ['__pycache__'], ['api.py', 'decisiontree.py', 'maxent.py', 'megam.py', 'naivebayes.py', 'positivenaivebayes.py', 'rte_classify.py', 'scikitlearn.py', 'senna.py', 'svm.py', 'tadm.py', 'textcat.py', 'util.py', 'weka.py', '__init__.py']), ('C:\\\\\\\\Users\\\\\\\\roy.800\\\\\\\\Downloads\\\\nltk\\\\classify\\\\__pycache__', [], ['api.cpython-38.pyc', 'decisiontree.cpython-38.pyc', 'maxent.cpython-38.pyc', 'megam.cpython-38.pyc', 'naivebayes.cpython-38.pyc', 'positivenaivebayes.cpython-38.pyc', 'rte_classify.cpython-38.pyc', 'scikitlearn.cpython-38.pyc', 'senna.cpython-38.pyc', 'svm.cpython-38.pyc', 'tadm.cpython-38.pyc', 'textcat.cpython-38.pyc', 'util.cpython-38.pyc', 'weka.cpython-38.pyc', '__init__.cpython-38.pyc']), ('C:\\\\\\\\Users\\\\\\\\roy.800\\\\\\\\Downloads\\\\nltk\\\\cluster', ['__pycache__'], ['api.py', 'em.py', 'gaac.py', 'kmeans.py', 'util.py', '__init__.py']), ('C:\\\\\\\\Users\\\\\\\\roy.800\\\\\\\\Downloads\\\\nltk\\\\cluster\\\\__pycache__', [], ['api.cpython-38.pyc', 'em.cpython-38.pyc', 'gaac.cpython-38.pyc', 'kmeans.cpython-38.pyc', 'util.cpython-38.pyc', '__init__.cpython-38.pyc']), ('C:\\\\\\\\Users\\\\\\\\roy.800\\\\\\\\Downloads\\\\nltk\\\\corpus', ['reader', '__pycache__'], ['europarl_raw.py', 'util.py', '__init__.py']), ('C:\\\\\\\\Users\\\\\\\\roy.800\\\\\\\\Downloads\\\\nltk\\\\corpus\\\\reader', ['__pycache__'], ['aligned.py', 'api.py', 'bnc.py', 'bracket_parse.py', 'categorized_sents.py', 'chasen.py', 'childes.py', 'chunked.py', 'cmudict.py', 'comparative_sents.py', 'conll.py', 'crubadan.py', 'dependency.py', 'framenet.py', 'ieer.py', 'indian.py', 'ipipan.py', 'knbc.py', 'lin.py', 'mte.py', 'nkjp.py', 'nombank.py', 'nps_chat.py', 'opinion_lexicon.py', 'panlex_lite.py', 'panlex_swadesh.py', 'pl196x.py', 'plaintext.py', 'ppattach.py', 'propbank.py', 'pros_cons.py', 'reviews.py', 'rte.py', 'semcor.py', 'senseval.py', 'sentiwordnet.py', 'sinica_treebank.py', 'string_category.py', 'switchboard.py', 'tagged.py', 'timit.py', 'toolbox.py', 'twitter.py', 'udhr.py', 'util.py', 'verbnet.py', 'wordlist.py', 'wordnet.py', 'xmldocs.py', 'ycoe.py', '__init__.py']), ('C:\\\\\\\\Users\\\\\\\\roy.800\\\\\\\\Downloads\\\\nltk\\\\corpus\\\\reader\\\\__pycache__', [], ['aligned.cpython-38.pyc', 'api.cpython-38.pyc', 'bnc.cpython-38.pyc', 'bracket_parse.cpython-38.pyc', 'categorized_sents.cpython-38.pyc', 'chasen.cpython-38.pyc', 'childes.cpython-38.pyc', 'chunked.cpython-38.pyc', 'cmudict.cpython-38.pyc', 'comparative_sents.cpython-38.pyc', 'conll.cpython-38.pyc', 'crubadan.cpython-38.pyc', 'dependency.cpython-38.pyc', 'framenet.cpython-38.pyc', 'ieer.cpython-38.pyc', 'indian.cpython-38.pyc', 'ipipan.cpython-38.pyc', 'knbc.cpython-38.pyc', 'lin.cpython-38.pyc', 'mte.cpython-38.pyc', 'nkjp.cpython-38.pyc', 'nombank.cpython-38.pyc', 'nps_chat.cpython-38.pyc', 'opinion_lexicon.cpython-38.pyc', 'panlex_lite.cpython-38.pyc', 'panlex_swadesh.cpython-38.pyc', 'pl196x.cpython-38.pyc', 'plaintext.cpython-38.pyc', 'ppattach.cpython-38.pyc', 'propbank.cpython-38.pyc', 'pros_cons.cpython-38.pyc', 'reviews.cpython-38.pyc', 'rte.cpython-38.pyc', 'semcor.cpython-38.pyc', 'senseval.cpython-38.pyc', 'sentiwordnet.cpython-38.pyc', 'sinica_treebank.cpython-38.pyc', 'string_category.cpython-38.pyc', 'switchboard.cpython-38.pyc', 'tagged.cpython-38.pyc', 'timit.cpython-38.pyc', 'toolbox.cpython-38.pyc', 'twitter.cpython-38.pyc', 'udhr.cpython-38.pyc', 'util.cpython-38.pyc', 'verbnet.cpython-38.pyc', 'wordlist.cpython-38.pyc', 'wordnet.cpython-38.pyc', 'xmldocs.cpython-38.pyc', 'ycoe.cpython-38.pyc', '__init__.cpython-38.pyc']), ('C:\\\\\\\\Users\\\\\\\\roy.800\\\\\\\\Downloads\\\\nltk\\\\corpus\\\\__pycache__', [], ['europarl_raw.cpython-38.pyc', 'util.cpython-38.pyc', '__init__.cpython-38.pyc']), ('C:\\\\\\\\Users\\\\\\\\roy.800\\\\\\\\Downloads\\\\nltk\\\\draw', ['__pycache__'], ['cfg.py', 'dispersion.py', 'table.py', 'tree.py', 'util.py', '__init__.py']), ('C:\\\\\\\\Users\\\\\\\\roy.800\\\\\\\\Downloads\\\\nltk\\\\draw\\\\__pycache__', [], ['cfg.cpython-38.pyc', 'dispersion.cpython-38.pyc', 'table.cpython-38.pyc', 'tree.cpython-38.pyc', 'util.cpython-38.pyc', '__init__.cpython-38.pyc']), ('C:\\\\\\\\Users\\\\\\\\roy.800\\\\\\\\Downloads\\\\nltk\\\\inference', ['__pycache__'], ['api.py', 'discourse.py', 'mace.py', 'nonmonotonic.py', 'prover9.py', 'resolution.py', 'tableau.py', '__init__.py']), ('C:\\\\\\\\Users\\\\\\\\roy.800\\\\\\\\Downloads\\\\nltk\\\\inference\\\\__pycache__', [], ['api.cpython-38.pyc', 'discourse.cpython-38.pyc', 'mace.cpython-38.pyc', 'nonmonotonic.cpython-38.pyc', 'prover9.cpython-38.pyc', 'resolution.cpython-38.pyc', 'tableau.cpython-38.pyc', '__init__.cpython-38.pyc']), ('C:\\\\\\\\Users\\\\\\\\roy.800\\\\\\\\Downloads\\\\nltk\\\\lm', ['__pycache__'], ['api.py', 'counter.py', 'models.py', 'preprocessing.py', 'smoothing.py', 'util.py', 'vocabulary.py', '__init__.py']), ('C:\\\\\\\\Users\\\\\\\\roy.800\\\\\\\\Downloads\\\\nltk\\\\lm\\\\__pycache__', [], ['api.cpython-38.pyc', 'counter.cpython-38.pyc', 'models.cpython-38.pyc', 'preprocessing.cpython-38.pyc', 'smoothing.cpython-38.pyc', 'util.cpython-38.pyc', 'vocabulary.cpython-38.pyc', '__init__.cpython-38.pyc']), ('C:\\\\\\\\Users\\\\\\\\roy.800\\\\\\\\Downloads\\\\nltk\\\\metrics', ['__pycache__'], ['agreement.py', 'aline.py', 'association.py', 'confusionmatrix.py', 'distance.py', 'paice.py', 'scores.py', 'segmentation.py', 'spearman.py', '__init__.py']), ('C:\\\\\\\\Users\\\\\\\\roy.800\\\\\\\\Downloads\\\\nltk\\\\metrics\\\\__pycache__', [], ['agreement.cpython-38.pyc', 'aline.cpython-38.pyc', 'association.cpython-38.pyc', 'confusionmatrix.cpython-38.pyc', 'distance.cpython-38.pyc', 'paice.cpython-38.pyc', 'scores.cpython-38.pyc', 'segmentation.cpython-38.pyc', 'spearman.cpython-38.pyc', '__init__.cpython-38.pyc']), ('C:\\\\\\\\Users\\\\\\\\roy.800\\\\\\\\Downloads\\\\nltk\\\\misc', ['__pycache__'], ['babelfish.py', 'chomsky.py', 'minimalset.py', 'sort.py', 'wordfinder.py', '__init__.py']), ('C:\\\\\\\\Users\\\\\\\\roy.800\\\\\\\\Downloads\\\\nltk\\\\misc\\\\__pycache__', [], ['babelfish.cpython-38.pyc', 'chomsky.cpython-38.pyc', 'minimalset.cpython-38.pyc', 'sort.cpython-38.pyc', 'wordfinder.cpython-38.pyc', '__init__.cpython-38.pyc']), ('C:\\\\\\\\Users\\\\\\\\roy.800\\\\\\\\Downloads\\\\nltk\\\\parse', ['__pycache__'], ['api.py', 'bllip.py', 'chart.py', 'corenlp.py', 'dependencygraph.py', 'earleychart.py', 'evaluate.py', 'featurechart.py', 'generate.py', 'malt.py', 'nonprojectivedependencyparser.py', 'pchart.py', 'projectivedependencyparser.py', 'recursivedescent.py', 'shiftreduce.py', 'stanford.py', 'transitionparser.py', 'util.py', 'viterbi.py', '__init__.py']), ('C:\\\\\\\\Users\\\\\\\\roy.800\\\\\\\\Downloads\\\\nltk\\\\parse\\\\__pycache__', [], ['api.cpython-38.pyc', 'bllip.cpython-38.pyc', 'chart.cpython-38.pyc', 'corenlp.cpython-38.pyc', 'dependencygraph.cpython-38.pyc', 'earleychart.cpython-38.pyc', 'evaluate.cpython-38.pyc', 'featurechart.cpython-38.pyc', 'generate.cpython-38.pyc', 'malt.cpython-38.pyc', 'nonprojectivedependencyparser.cpython-38.pyc', 'pchart.cpython-38.pyc', 'projectivedependencyparser.cpython-38.pyc', 'recursivedescent.cpython-38.pyc', 'shiftreduce.cpython-38.pyc', 'stanford.cpython-38.pyc', 'transitionparser.cpython-38.pyc', 'util.cpython-38.pyc', 'viterbi.cpython-38.pyc', '__init__.cpython-38.pyc']), ('C:\\\\\\\\Users\\\\\\\\roy.800\\\\\\\\Downloads\\\\nltk\\\\sem', ['__pycache__'], ['boxer.py', 'chat80.py', 'cooper_storage.py', 'drt.py', 'drt_glue_demo.py', 'evaluate.py', 'glue.py', 'hole.py', 'lfg.py', 'linearlogic.py', 'logic.py', 'relextract.py', 'skolemize.py', 'util.py', '__init__.py']), ('C:\\\\\\\\Users\\\\\\\\roy.800\\\\\\\\Downloads\\\\nltk\\\\sem\\\\__pycache__', [], ['boxer.cpython-38.pyc', 'chat80.cpython-38.pyc', 'cooper_storage.cpython-38.pyc', 'drt.cpython-38.pyc', 'drt_glue_demo.cpython-38.pyc', 'evaluate.cpython-38.pyc', 'glue.cpython-38.pyc', 'hole.cpython-38.pyc', 'lfg.cpython-38.pyc', 'linearlogic.cpython-38.pyc', 'logic.cpython-38.pyc', 'relextract.cpython-38.pyc', 'skolemize.cpython-38.pyc', 'util.cpython-38.pyc', '__init__.cpython-38.pyc']), ('C:\\\\\\\\Users\\\\\\\\roy.800\\\\\\\\Downloads\\\\nltk\\\\sentiment', ['__pycache__'], ['sentiment_analyzer.py', 'util.py', 'vader.py', '__init__.py']), ('C:\\\\\\\\Users\\\\\\\\roy.800\\\\\\\\Downloads\\\\nltk\\\\sentiment\\\\__pycache__', [], ['sentiment_analyzer.cpython-38.pyc', 'util.cpython-38.pyc', 'vader.cpython-38.pyc', '__init__.cpython-38.pyc']), ('C:\\\\\\\\Users\\\\\\\\roy.800\\\\\\\\Downloads\\\\nltk\\\\stem', ['__pycache__'], ['api.py', 'arlstem.py', 'arlstem2.py', 'cistem.py', 'isri.py', 'lancaster.py', 'porter.py', 'regexp.py', 'rslp.py', 'snowball.py', 'util.py', 'wordnet.py', '__init__.py']), ('C:\\\\\\\\Users\\\\\\\\roy.800\\\\\\\\Downloads\\\\nltk\\\\stem\\\\__pycache__', [], ['api.cpython-38.pyc', 'arlstem.cpython-38.pyc', 'arlstem2.cpython-38.pyc', 'cistem.cpython-38.pyc', 'isri.cpython-38.pyc', 'lancaster.cpython-38.pyc', 'porter.cpython-38.pyc', 'regexp.cpython-38.pyc', 'rslp.cpython-38.pyc', 'snowball.cpython-38.pyc', 'util.cpython-38.pyc', 'wordnet.cpython-38.pyc', '__init__.cpython-38.pyc']), ('C:\\\\\\\\Users\\\\\\\\roy.800\\\\\\\\Downloads\\\\nltk\\\\tag', ['__pycache__'], ['api.py', 'brill.py', 'brill_trainer.py', 'crf.py', 'hmm.py', 'hunpos.py', 'mapping.py', 'perceptron.py', 'senna.py', 'sequential.py', 'stanford.py', 'tnt.py', 'util.py', '__init__.py']), ('C:\\\\\\\\Users\\\\\\\\roy.800\\\\\\\\Downloads\\\\nltk\\\\tag\\\\__pycache__', [], ['api.cpython-38.pyc', 'brill.cpython-38.pyc', 'brill_trainer.cpython-38.pyc', 'crf.cpython-38.pyc', 'hmm.cpython-38.pyc', 'hunpos.cpython-38.pyc', 'mapping.cpython-38.pyc', 'perceptron.cpython-38.pyc', 'senna.cpython-38.pyc', 'sequential.cpython-38.pyc', 'stanford.cpython-38.pyc', 'tnt.cpython-38.pyc', 'util.cpython-38.pyc', '__init__.cpython-38.pyc']), ('C:\\\\\\\\Users\\\\\\\\roy.800\\\\\\\\Downloads\\\\nltk\\\\tbl', ['__pycache__'], ['api.py', 'demo.py', 'erroranalysis.py', 'feature.py', 'rule.py', 'template.py', '__init__.py']), ('C:\\\\\\\\Users\\\\\\\\roy.800\\\\\\\\Downloads\\\\nltk\\\\tbl\\\\__pycache__', [], ['api.cpython-38.pyc', 'demo.cpython-38.pyc', 'erroranalysis.cpython-38.pyc', 'feature.cpython-38.pyc', 'rule.cpython-38.pyc', 'template.cpython-38.pyc', '__init__.cpython-38.pyc']), ('C:\\\\\\\\Users\\\\\\\\roy.800\\\\\\\\Downloads\\\\nltk\\\\test', ['unit', '__pycache__'], ['all.py', 'bleu.doctest', 'bnc.doctest', 'ccg.doctest', 'ccg_semantics.doctest', 'chat80.doctest', 'childes.doctest', 'childes_fixt.py', 'chunk.doctest', 'classify.doctest', 'classify_fixt.py', 'collections.doctest', 'collocations.doctest', 'concordance.doctest', 'corpus.doctest', 'crubadan.doctest', 'data.doctest', 'dependency.doctest', 'discourse.doctest', 'discourse_fixt.py', 'drt.doctest', 'featgram.doctest', 'featstruct.doctest', 'framenet.doctest', 'generate.doctest', 'gensim.doctest', 'gensim_fixt.py', 'gluesemantics.doctest', 'gluesemantics_malt.doctest', 'gluesemantics_malt_fixt.py', 'grammar.doctest', 'grammartestsuites.doctest', 'index.doctest', 'inference.doctest', 'inference_fixt.py', 'internals.doctest', 'japanese.doctest', 'lm.doctest', 'logic.doctest', 'meteor.doctest', 'metrics.doctest', 'misc.doctest', 'nonmonotonic.doctest', 'nonmonotonic_fixt.py', 'paice.doctest', 'parse.doctest', 'portuguese_en.doctest', 'portuguese_en_fixt.py', 'probability.doctest', 'probability_fixt.py', 'propbank.doctest', 'relextract.doctest', 'resolution.doctest', 'semantics.doctest', 'sentiment.doctest', 'sentiwordnet.doctest', 'simple.doctest', 'stem.doctest', 'tag.doctest', 'tokenize.doctest', 'toolbox.doctest', 'translate.doctest', 'tree.doctest', 'treeprettyprinter.doctest', 'treetransforms.doctest', 'util.doctest', 'wordnet.doctest', 'wordnet_lch.doctest', 'wsd.doctest', '__init__.py']), ('C:\\\\\\\\Users\\\\\\\\roy.800\\\\\\\\Downloads\\\\nltk\\\\test\\\\unit', ['lm', 'translate', '__pycache__'], ['conftest.py', 'test_aline.py', 'test_brill.py', 'test_cfd_mutation.py', 'test_cfg2chomsky.py', 'test_chunk.py', 'test_classify.py', 'test_collocations.py', 'test_concordance.py', 'test_corenlp.py', 'test_corpora.py', 'test_corpus_views.py', 'test_data.py', 'test_disagreement.py', 'test_freqdist.py', 'test_hmm.py', 'test_json2csv_corpus.py', 'test_json_serialization.py', 'test_naivebayes.py', 'test_nombank.py', 'test_pl196x.py', 'test_pos_tag.py', 'test_rte_classify.py', 'test_seekable_unicode_stream_reader.py', 'test_senna.py', 'test_stem.py', 'test_tag.py', 'test_tgrep.py', 'test_tokenize.py', 'test_twitter_auth.py', 'test_util.py', 'test_wordnet.py', '__init__.py']), ('C:\\\\\\\\Users\\\\\\\\roy.800\\\\\\\\Downloads\\\\nltk\\\\test\\\\unit\\\\lm', ['__pycache__'], ['test_counter.py', 'test_models.py', 'test_preprocessing.py', 'test_vocabulary.py', '__init__.py']), ('C:\\\\\\\\Users\\\\\\\\roy.800\\\\\\\\Downloads\\\\nltk\\\\test\\\\unit\\\\lm\\\\__pycache__', [], ['test_counter.cpython-38.pyc', 'test_models.cpython-38.pyc', 'test_preprocessing.cpython-38.pyc', 'test_vocabulary.cpython-38.pyc', '__init__.cpython-38.pyc']), ('C:\\\\\\\\Users\\\\\\\\roy.800\\\\\\\\Downloads\\\\nltk\\\\test\\\\unit\\\\translate', ['__pycache__'], ['test_bleu.py', 'test_gdfa.py', 'test_ibm1.py', 'test_ibm2.py', 'test_ibm3.py', 'test_ibm4.py', 'test_ibm5.py', 'test_ibm_model.py', 'test_meteor.py', 'test_nist.py', 'test_stack_decoder.py', '__init__.py']), ('C:\\\\\\\\Users\\\\\\\\roy.800\\\\\\\\Downloads\\\\nltk\\\\test\\\\unit\\\\translate\\\\__pycache__', [], ['test_bleu.cpython-38.pyc', 'test_gdfa.cpython-38.pyc', 'test_ibm1.cpython-38.pyc', 'test_ibm2.cpython-38.pyc', 'test_ibm3.cpython-38.pyc', 'test_ibm4.cpython-38.pyc', 'test_ibm5.cpython-38.pyc', 'test_ibm_model.cpython-38.pyc', 'test_meteor.cpython-38.pyc', 'test_nist.cpython-38.pyc', 'test_stack_decoder.cpython-38.pyc', '__init__.cpython-38.pyc']), ('C:\\\\\\\\Users\\\\\\\\roy.800\\\\\\\\Downloads\\\\nltk\\\\test\\\\unit\\\\__pycache__', [], ['conftest.cpython-38.pyc', 'test_aline.cpython-38.pyc', 'test_brill.cpython-38.pyc', 'test_cfd_mutation.cpython-38.pyc', 'test_cfg2chomsky.cpython-38.pyc', 'test_chunk.cpython-38.pyc', 'test_classify.cpython-38.pyc', 'test_collocations.cpython-38.pyc', 'test_concordance.cpython-38.pyc', 'test_corenlp.cpython-38.pyc', 'test_corpora.cpython-38.pyc', 'test_corpus_views.cpython-38.pyc', 'test_data.cpython-38.pyc', 'test_disagreement.cpython-38.pyc', 'test_freqdist.cpython-38.pyc', 'test_hmm.cpython-38.pyc', 'test_json2csv_corpus.cpython-38.pyc', 'test_json_serialization.cpython-38.pyc', 'test_naivebayes.cpython-38.pyc', 'test_nombank.cpython-38.pyc', 'test_pl196x.cpython-38.pyc', 'test_pos_tag.cpython-38.pyc', 'test_rte_classify.cpython-38.pyc', 'test_seekable_unicode_stream_reader.cpython-38.pyc', 'test_senna.cpython-38.pyc', 'test_stem.cpython-38.pyc', 'test_tag.cpython-38.pyc', 'test_tgrep.cpython-38.pyc', 'test_tokenize.cpython-38.pyc', 'test_twitter_auth.cpython-38.pyc', 'test_util.cpython-38.pyc', 'test_wordnet.cpython-38.pyc', '__init__.cpython-38.pyc']), ('C:\\\\\\\\Users\\\\\\\\roy.800\\\\\\\\Downloads\\\\nltk\\\\test\\\\__pycache__', [], ['all.cpython-38.pyc', 'childes_fixt.cpython-38.pyc', 'classify_fixt.cpython-38.pyc', 'discourse_fixt.cpython-38.pyc', 'gensim_fixt.cpython-38.pyc', 'gluesemantics_malt_fixt.cpython-38.pyc', 'inference_fixt.cpython-38.pyc', 'nonmonotonic_fixt.cpython-38.pyc', 'portuguese_en_fixt.cpython-38.pyc', 'probability_fixt.cpython-38.pyc', '__init__.cpython-38.pyc']), ('C:\\\\\\\\Users\\\\\\\\roy.800\\\\\\\\Downloads\\\\nltk\\\\tokenize', ['__pycache__'], ['api.py', 'casual.py', 'destructive.py', 'legality_principle.py', 'mwe.py', 'nist.py', 'punkt.py', 'regexp.py', 'repp.py', 'sexpr.py', 'simple.py', 'sonority_sequencing.py', 'stanford.py', 'stanford_segmenter.py', 'texttiling.py', 'toktok.py', 'treebank.py', 'util.py', '__init__.py']), ('C:\\\\\\\\Users\\\\\\\\roy.800\\\\\\\\Downloads\\\\nltk\\\\tokenize\\\\__pycache__', [], ['api.cpython-38.pyc', 'casual.cpython-38.pyc', 'destructive.cpython-38.pyc', 'legality_principle.cpython-38.pyc', 'mwe.cpython-38.pyc', 'nist.cpython-38.pyc', 'punkt.cpython-38.pyc', 'regexp.cpython-38.pyc', 'repp.cpython-38.pyc', 'sexpr.cpython-38.pyc', 'simple.cpython-38.pyc', 'sonority_sequencing.cpython-38.pyc', 'stanford.cpython-38.pyc', 'stanford_segmenter.cpython-38.pyc', 'texttiling.cpython-38.pyc', 'toktok.cpython-38.pyc', 'treebank.cpython-38.pyc', 'util.cpython-38.pyc', '__init__.cpython-38.pyc']), ('C:\\\\\\\\Users\\\\\\\\roy.800\\\\\\\\Downloads\\\\nltk\\\\translate', ['__pycache__'], ['api.py', 'bleu_score.py', 'chrf_score.py', 'gale_church.py', 'gdfa.py', 'gleu_score.py', 'ibm1.py', 'ibm2.py', 'ibm3.py', 'ibm4.py', 'ibm5.py', 'ibm_model.py', 'meteor_score.py', 'metrics.py', 'nist_score.py', 'phrase_based.py', 'ribes_score.py', 'stack_decoder.py', '__init__.py']), ('C:\\\\\\\\Users\\\\\\\\roy.800\\\\\\\\Downloads\\\\nltk\\\\translate\\\\__pycache__', [], ['api.cpython-38.pyc', 'bleu_score.cpython-38.pyc', 'chrf_score.cpython-38.pyc', 'gale_church.cpython-38.pyc', 'gdfa.cpython-38.pyc', 'gleu_score.cpython-38.pyc', 'ibm1.cpython-38.pyc', 'ibm2.cpython-38.pyc', 'ibm3.cpython-38.pyc', 'ibm4.cpython-38.pyc', 'ibm5.cpython-38.pyc', 'ibm_model.cpython-38.pyc', 'meteor_score.cpython-38.pyc', 'metrics.cpython-38.pyc', 'nist_score.cpython-38.pyc', 'phrase_based.cpython-38.pyc', 'ribes_score.cpython-38.pyc', 'stack_decoder.cpython-38.pyc', '__init__.cpython-38.pyc']), ('C:\\\\\\\\Users\\\\\\\\roy.800\\\\\\\\Downloads\\\\nltk\\\\twitter', ['__pycache__'], ['api.py', 'common.py', 'twitterclient.py', 'twitter_demo.py', 'util.py', '__init__.py']), ('C:\\\\\\\\Users\\\\\\\\roy.800\\\\\\\\Downloads\\\\nltk\\\\twitter\\\\__pycache__', [], ['api.cpython-38.pyc', 'common.cpython-38.pyc', 'twitterclient.cpython-38.pyc', 'twitter_demo.cpython-38.pyc', 'util.cpython-38.pyc', '__init__.cpython-38.pyc']), ('C:\\\\\\\\Users\\\\\\\\roy.800\\\\\\\\Downloads\\\\nltk\\\\__pycache__', [], ['book.cpython-38.pyc', 'cli.cpython-38.pyc', 'collections.cpython-38.pyc', 'collocations.cpython-38.pyc', 'compat.cpython-38.pyc', 'data.cpython-38.pyc', 'decorators.cpython-38.pyc', 'downloader.cpython-38.pyc', 'featstruct.cpython-38.pyc', 'grammar.cpython-38.pyc', 'help.cpython-38.pyc', 'internals.cpython-38.pyc', 'jsontags.cpython-38.pyc', 'lazyimport.cpython-38.pyc', 'probability.cpython-38.pyc', 'text.cpython-38.pyc', 'tgrep.cpython-38.pyc', 'toolbox.cpython-38.pyc', 'tree.cpython-38.pyc', 'treeprettyprinter.cpython-38.pyc', 'treetransforms.cpython-38.pyc', 'util.cpython-38.pyc', 'wsd.cpython-38.pyc', '__init__.cpython-38.pyc']), ('C:\\\\\\\\Users\\\\\\\\roy.800\\\\\\\\Downloads\\\\nltk-3.6.1.dist-info', [], ['AUTHORS.md', 'direct_url.json', 'entry_points.txt', 'INSTALLER', 'LICENSE.txt', 'METADATA', 'README.md', 'RECORD', 'REQUESTED', 'top_level.txt', 'WHEEL']), ('C:\\\\\\\\Users\\\\\\\\roy.800\\\\\\\\Downloads\\\\Time series sunspot', ['ML11 4'], []), ('C:\\\\\\\\Users\\\\\\\\roy.800\\\\\\\\Downloads\\\\Time series sunspot\\\\ML11 4', ['.ipynb_checkpoints'], ['sunspots.csv', 'Time Series Analysis.ipynb']), ('C:\\\\\\\\Users\\\\\\\\roy.800\\\\\\\\Downloads\\\\Time series sunspot\\\\ML11 4\\\\.ipynb_checkpoints', [], ['Time Series Analysis-checkpoint.ipynb'])]\n"
     ]
    }
   ],
   "source": [
    "#Write a function which can help you filter only one word file from a directory\n",
    "def fun18(file_path):\n",
    "    \"\"\"This function will help you to filter only csv file from directory\"\"\"\n",
    "    import os\n",
    "    a = os.walk(file_path)\n",
    "    l=[]\n",
    "    dir_lst = list(a)\n",
    "    \n",
    "    import re\n",
    "    pattern = re.compile(r\"\\.csv$\")\n",
    "    \n",
    "    for lst in dir_lst:\n",
    "        if type(lst) == tuple:\n",
    "            for dirct in lst:\n",
    "                if type(dirct) == list:\n",
    "                    for file in dirct:\n",
    "                        matches = pattern.finditer(file)\n",
    "                        for match in matches:\n",
    "                            l.append(file)\n",
    "    return l, dir_lst\n",
    "\n",
    "directory_path = input(\"Please entry the Directory path to list all .csv files in it: \")\n",
    "doc_list, dir_lst = fun18(directory_path)\n",
    "print(\"\\nList of all .csv files are: \\n\", doc_list)\n",
    "print(\"\\n\")\n",
    "print(\"List of all files in the direcory : \\n\", dir_lst)\n",
    "#"
   ]
  },
  {
   "cell_type": "code",
   "execution_count": 9,
   "id": "47f21486",
   "metadata": {},
   "outputs": [
    {
     "name": "stdout",
     "output_type": "stream",
     "text": [
      "System name is TPIND-NB-335840 and IP address is 192.168.0.184\n"
     ]
    }
   ],
   "source": [
    "#Write a function which you can print an ip address of your system\n",
    "def fun19():\n",
    "    \"\"\"This function will print the IP address of your system\"\"\"\n",
    "    \n",
    "    import socket\n",
    "    name = socket.gethostname()\n",
    "    IP_address = socket.gethostbyname(name)\n",
    "    print(f\"System name is {name} and IP address is {IP_address}\")\n",
    "fun19()"
   ]
  },
  {
   "cell_type": "code",
   "execution_count": 10,
   "id": "354a8e08",
   "metadata": {},
   "outputs": [
    {
     "name": "stdout",
     "output_type": "stream",
     "text": [
      " Please enter the first PDF file name: z\n",
      " Please enter the Second PDF file name: z\n",
      " Please enter the New PDF file to be created: z\n"
     ]
    },
    {
     "ename": "FileNotFoundError",
     "evalue": "[Errno 2] No such file or directory: 'z.pdf'",
     "output_type": "error",
     "traceback": [
      "\u001b[1;31m---------------------------------------------------------------------------\u001b[0m",
      "\u001b[1;31mFileNotFoundError\u001b[0m                         Traceback (most recent call last)",
      "\u001b[1;32m<ipython-input-10-f62b8431fb94>\u001b[0m in \u001b[0;36m<module>\u001b[1;34m\u001b[0m\n\u001b[0;32m     31\u001b[0m \u001b[0mfile_3\u001b[0m \u001b[1;33m=\u001b[0m \u001b[0minput\u001b[0m\u001b[1;33m(\u001b[0m\u001b[1;34m\" Please enter the New PDF file to be created: \"\u001b[0m\u001b[1;33m)\u001b[0m\u001b[1;33m\u001b[0m\u001b[1;33m\u001b[0m\u001b[0m\n\u001b[0;32m     32\u001b[0m \u001b[1;33m\u001b[0m\u001b[0m\n\u001b[1;32m---> 33\u001b[1;33m \u001b[0mfun20\u001b[0m\u001b[1;33m(\u001b[0m\u001b[0mfile_1\u001b[0m\u001b[1;33m,\u001b[0m\u001b[0mfile_2\u001b[0m\u001b[1;33m,\u001b[0m\u001b[0mfile_3\u001b[0m\u001b[1;33m)\u001b[0m\u001b[1;33m\u001b[0m\u001b[1;33m\u001b[0m\u001b[0m\n\u001b[0m",
      "\u001b[1;32m<ipython-input-10-f62b8431fb94>\u001b[0m in \u001b[0;36mfun20\u001b[1;34m(filename1, filename2, filename3)\u001b[0m\n\u001b[0;32m      5\u001b[0m     \u001b[1;32mimport\u001b[0m \u001b[0mPyPDF2\u001b[0m \u001b[1;32mas\u001b[0m \u001b[0mpdf\u001b[0m\u001b[1;33m\u001b[0m\u001b[1;33m\u001b[0m\u001b[0m\n\u001b[0;32m      6\u001b[0m \u001b[1;33m\u001b[0m\u001b[0m\n\u001b[1;32m----> 7\u001b[1;33m     \u001b[0mf1\u001b[0m \u001b[1;33m=\u001b[0m \u001b[0mopen\u001b[0m\u001b[1;33m(\u001b[0m\u001b[0mfilename1\u001b[0m\u001b[1;33m+\u001b[0m\u001b[1;34m'.pdf'\u001b[0m\u001b[1;33m,\u001b[0m\u001b[1;34m'rb'\u001b[0m\u001b[1;33m)\u001b[0m\u001b[1;33m\u001b[0m\u001b[1;33m\u001b[0m\u001b[0m\n\u001b[0m\u001b[0;32m      8\u001b[0m     \u001b[0mf2\u001b[0m \u001b[1;33m=\u001b[0m \u001b[0mopen\u001b[0m\u001b[1;33m(\u001b[0m\u001b[0mfilename2\u001b[0m\u001b[1;33m+\u001b[0m\u001b[1;34m'.pdf'\u001b[0m\u001b[1;33m,\u001b[0m\u001b[1;34m'rb'\u001b[0m\u001b[1;33m)\u001b[0m\u001b[1;33m\u001b[0m\u001b[1;33m\u001b[0m\u001b[0m\n\u001b[0;32m      9\u001b[0m     \u001b[0mf3\u001b[0m \u001b[1;33m=\u001b[0m \u001b[0mopen\u001b[0m\u001b[1;33m(\u001b[0m\u001b[0mfilename3\u001b[0m\u001b[1;33m+\u001b[0m\u001b[1;34m'.pdf'\u001b[0m\u001b[1;33m,\u001b[0m\u001b[1;34m'wb'\u001b[0m\u001b[1;33m)\u001b[0m\u001b[1;33m\u001b[0m\u001b[1;33m\u001b[0m\u001b[0m\n",
      "\u001b[1;31mFileNotFoundError\u001b[0m: [Errno 2] No such file or directory: 'z.pdf'"
     ]
    }
   ],
   "source": [
    "#Write a function which you will be able to append two pdf files.\n",
    "def fun20(filename1,filename2,filename3):\n",
    "    \"\"\"This function will be able to append two pdf files to a new file\"\"\"\n",
    "    \n",
    "    import PyPDF2 as pdf\n",
    "    \n",
    "    f1 = open(filename1+'.pdf','rb')\n",
    "    f2 = open(filename2+'.pdf','rb')\n",
    "    f3 = open(filename3+'.pdf','wb')\n",
    "    \n",
    "    f1_read = pdf.PdfFileReader(f1)\n",
    "    f2_read = pdf.PdfFileReader(f2)\n",
    "    \n",
    "    f_writer = pdf.PdfFileWriter()\n",
    "    \n",
    "    for page_no in range(f1_read.numPages):\n",
    "        f1_pages = f1.read.getPage(page_no)\n",
    "        f_writer.addPage(f1_pages)\n",
    "    for page_no in range(f2_read.numPages):\n",
    "        f2_pages = f2_read.getPage(page_no)\n",
    "        f_writer.addPage(f2_pages)\n",
    "        \n",
    "    f_writer.write(f3)\n",
    "    \n",
    "    f1.close()\n",
    "    f2.close()\n",
    "    f3.close()\n",
    "    \n",
    "file_1 = input(\" Please enter the first PDF file name: \")\n",
    "file_2 = input(\" Please enter the Second PDF file name: \")\n",
    "file_3 = input(\" Please enter the New PDF file to be created: \")\n",
    "\n",
    "fun20(file_1,file_2,file_3)"
   ]
  },
  {
   "cell_type": "code",
   "execution_count": 11,
   "id": "25a111d9",
   "metadata": {},
   "outputs": [],
   "source": [
    "#We can use PDF file merger to append a file too"
   ]
  },
  {
   "cell_type": "code",
   "execution_count": 15,
   "id": "59c33424",
   "metadata": {},
   "outputs": [
    {
     "name": "stdout",
     "output_type": "stream",
     "text": [
      "Collecting opencv-python\n",
      "  Downloading opencv_python-4.5.5.64-cp36-abi3-win_amd64.whl (35.4 MB)\n",
      "Requirement already satisfied: numpy>=1.17.3 in c:\\users\\roy.800\\anaconda3\\lib\\site-packages (from opencv-python) (1.20.1)\n",
      "Installing collected packages: opencv-python\n",
      "Successfully installed opencv-python-4.5.5.64\n"
     ]
    }
   ],
   "source": [
    "!pip install opencv-python"
   ]
  },
  {
   "cell_type": "code",
   "execution_count": 16,
   "id": "c2537f07",
   "metadata": {},
   "outputs": [],
   "source": [
    "#Function that will read and display the video\n",
    "import cv2\n",
    "\n",
    "def task11_video(video_path):\n",
    "    video = cv2.VideoCapture(video_path)\n",
    "    \n",
    "    while(video.isOpened()):\n",
    "        #Capturing the video frame by frame\n",
    "        ret, frame = video.read()\n",
    "        if ret == True:\n",
    "            cv2.imshow('Frame',frame) #Showing the display of current frame\n",
    "            if cv2.waitkey(25) & 0xFF == ('x'): ## Press x for exit the video\n",
    "                break\n",
    "        else:\n",
    "            break\n",
    "    video.release()\n",
    "    cv2.destroyAllWindows()\n",
    "task11_video('zzzz.mp4')"
   ]
  },
  {
   "cell_type": "code",
   "execution_count": 18,
   "id": "5579a72b",
   "metadata": {},
   "outputs": [
    {
     "name": "stdout",
     "output_type": "stream",
     "text": [
      "Collecting easyimap\n",
      "  Downloading easyimap-0.7.0-py3-none-any.whl (6.2 kB)\n",
      "Requirement already satisfied: chardet>=2.3.0 in c:\\users\\roy.800\\anaconda3\\lib\\site-packages (from easyimap) (3.0.4)\n",
      "Installing collected packages: easyimap\n",
      "Successfully installed easyimap-0.7.0\n"
     ]
    }
   ],
   "source": [
    "!pip install easyimap"
   ]
  },
  {
   "cell_type": "code",
   "execution_count": 19,
   "id": "98fddcc7",
   "metadata": {},
   "outputs": [],
   "source": [
    "#Write a function to access gmail.\n",
    "import easyimap as e\n",
    "\n",
    "def task14_emailAccess(user, passwd, mailNo = 0): # by default its 0 , if you wnat to see different emails, then you need to change the number\n",
    "    \"\"\"Mail No[Optional]: mail id, 0 for latest, 1 for second latest and so on. By default 0\n",
    "    In order to estaablish the connection we need to allow the less secure access:\"\"\"\n",
    "    \n",
    "    server = e.connect('imap.gmail.com',user,passwd) ##Establish the connection between gmail and python\n",
    "    mail = server.mail(server.listids()[mailNo]) ## Fetching the id of latest mail\n",
    "    \n",
    "    print('Sender:\\n',mail.from_addr)\n",
    "    print('\\nTitle:\\n',mail.title)\n",
    "    print('\\nBody:\\n',mail.body)"
   ]
  },
  {
   "cell_type": "code",
   "execution_count": 20,
   "id": "c2ac760d",
   "metadata": {},
   "outputs": [
    {
     "ename": "error",
     "evalue": "b'Empty username or password. x17mb13285764jan'",
     "output_type": "error",
     "traceback": [
      "\u001b[1;31m---------------------------------------------------------------------------\u001b[0m",
      "\u001b[1;31merror\u001b[0m                                     Traceback (most recent call last)",
      "\u001b[1;32m<ipython-input-20-f50e547d4cf4>\u001b[0m in \u001b[0;36m<module>\u001b[1;34m\u001b[0m\n\u001b[0;32m      2\u001b[0m \u001b[0mpasswd\u001b[0m \u001b[1;33m=\u001b[0m \u001b[1;34m''\u001b[0m\u001b[1;33m\u001b[0m\u001b[1;33m\u001b[0m\u001b[0m\n\u001b[0;32m      3\u001b[0m \u001b[1;33m\u001b[0m\u001b[0m\n\u001b[1;32m----> 4\u001b[1;33m \u001b[0mtask14_emailAccess\u001b[0m\u001b[1;33m(\u001b[0m\u001b[0muser\u001b[0m\u001b[1;33m,\u001b[0m\u001b[0mpasswd\u001b[0m\u001b[1;33m)\u001b[0m\u001b[1;33m\u001b[0m\u001b[1;33m\u001b[0m\u001b[0m\n\u001b[0m",
      "\u001b[1;32m<ipython-input-19-98ac8b6ef13a>\u001b[0m in \u001b[0;36mtask14_emailAccess\u001b[1;34m(user, passwd, mailNo)\u001b[0m\n\u001b[0;32m      6\u001b[0m     In order to estaablish the connection we need to allow the less secure access:\"\"\"\n\u001b[0;32m      7\u001b[0m \u001b[1;33m\u001b[0m\u001b[0m\n\u001b[1;32m----> 8\u001b[1;33m     \u001b[0mserver\u001b[0m \u001b[1;33m=\u001b[0m \u001b[0me\u001b[0m\u001b[1;33m.\u001b[0m\u001b[0mconnect\u001b[0m\u001b[1;33m(\u001b[0m\u001b[1;34m'imap.gmail.com'\u001b[0m\u001b[1;33m,\u001b[0m\u001b[0muser\u001b[0m\u001b[1;33m,\u001b[0m\u001b[0mpasswd\u001b[0m\u001b[1;33m)\u001b[0m \u001b[1;31m##Establish the connection between gmail and python\u001b[0m\u001b[1;33m\u001b[0m\u001b[1;33m\u001b[0m\u001b[0m\n\u001b[0m\u001b[0;32m      9\u001b[0m     \u001b[0mmail\u001b[0m \u001b[1;33m=\u001b[0m \u001b[0mserver\u001b[0m\u001b[1;33m.\u001b[0m\u001b[0mmail\u001b[0m\u001b[1;33m(\u001b[0m\u001b[0mserver\u001b[0m\u001b[1;33m.\u001b[0m\u001b[0mlistids\u001b[0m\u001b[1;33m(\u001b[0m\u001b[1;33m)\u001b[0m\u001b[1;33m[\u001b[0m\u001b[0mmailNo\u001b[0m\u001b[1;33m]\u001b[0m\u001b[1;33m)\u001b[0m \u001b[1;31m## Fetching the id of latest mail\u001b[0m\u001b[1;33m\u001b[0m\u001b[1;33m\u001b[0m\u001b[0m\n\u001b[0;32m     10\u001b[0m \u001b[1;33m\u001b[0m\u001b[0m\n",
      "\u001b[1;32m~\\Anaconda3\\lib\\site-packages\\easyimap\\easyimap.py\u001b[0m in \u001b[0;36mconnect\u001b[1;34m(host, user, password, mailbox, timeout, ssl, port, **kwargs)\u001b[0m\n\u001b[0;32m    205\u001b[0m \u001b[1;33m\u001b[0m\u001b[0m\n\u001b[0;32m    206\u001b[0m \u001b[1;32mdef\u001b[0m \u001b[0mconnect\u001b[0m\u001b[1;33m(\u001b[0m\u001b[0mhost\u001b[0m\u001b[1;33m,\u001b[0m \u001b[0muser\u001b[0m\u001b[1;33m,\u001b[0m \u001b[0mpassword\u001b[0m\u001b[1;33m,\u001b[0m \u001b[0mmailbox\u001b[0m\u001b[1;33m=\u001b[0m\u001b[1;34m'INBOX'\u001b[0m\u001b[1;33m,\u001b[0m \u001b[0mtimeout\u001b[0m\u001b[1;33m=\u001b[0m\u001b[1;36m15\u001b[0m\u001b[1;33m,\u001b[0m \u001b[0mssl\u001b[0m\u001b[1;33m=\u001b[0m\u001b[1;32mTrue\u001b[0m\u001b[1;33m,\u001b[0m \u001b[0mport\u001b[0m\u001b[1;33m=\u001b[0m\u001b[1;36m993\u001b[0m\u001b[1;33m,\u001b[0m \u001b[1;33m**\u001b[0m\u001b[0mkwargs\u001b[0m\u001b[1;33m)\u001b[0m\u001b[1;33m:\u001b[0m\u001b[1;33m\u001b[0m\u001b[1;33m\u001b[0m\u001b[0m\n\u001b[1;32m--> 207\u001b[1;33m     \u001b[1;32mreturn\u001b[0m \u001b[0mImapper\u001b[0m\u001b[1;33m(\u001b[0m\u001b[0mhost\u001b[0m\u001b[1;33m,\u001b[0m \u001b[0muser\u001b[0m\u001b[1;33m,\u001b[0m \u001b[0mpassword\u001b[0m\u001b[1;33m,\u001b[0m \u001b[0mmailbox\u001b[0m\u001b[1;33m,\u001b[0m \u001b[0mtimeout\u001b[0m\u001b[1;33m,\u001b[0m \u001b[0mssl\u001b[0m\u001b[1;33m,\u001b[0m \u001b[0mport\u001b[0m\u001b[1;33m,\u001b[0m \u001b[1;33m**\u001b[0m\u001b[0mkwargs\u001b[0m\u001b[1;33m)\u001b[0m\u001b[1;33m\u001b[0m\u001b[1;33m\u001b[0m\u001b[0m\n\u001b[0m\u001b[0;32m    208\u001b[0m \u001b[1;33m\u001b[0m\u001b[0m\n\u001b[0;32m    209\u001b[0m \u001b[1;33m\u001b[0m\u001b[0m\n",
      "\u001b[1;32m~\\Anaconda3\\lib\\site-packages\\easyimap\\easyimap.py\u001b[0m in \u001b[0;36m__init__\u001b[1;34m(self, host, user, password, mailbox, timeout, ssl, port, **kwargs)\u001b[0m\n\u001b[0;32m    143\u001b[0m         \u001b[0mself\u001b[0m\u001b[1;33m.\u001b[0m\u001b[0m_fetch_message_parts\u001b[0m \u001b[1;33m=\u001b[0m \u001b[0mkwargs\u001b[0m\u001b[1;33m.\u001b[0m\u001b[0mget\u001b[0m\u001b[1;33m(\u001b[0m\u001b[1;34m\"fetch_message_parts\"\u001b[0m\u001b[1;33m,\u001b[0m \u001b[1;34m\"(UID RFC822)\"\u001b[0m\u001b[1;33m)\u001b[0m\u001b[1;33m\u001b[0m\u001b[1;33m\u001b[0m\u001b[0m\n\u001b[0;32m    144\u001b[0m         \u001b[0mself\u001b[0m\u001b[1;33m.\u001b[0m\u001b[0m_read_only\u001b[0m \u001b[1;33m=\u001b[0m \u001b[0mkwargs\u001b[0m\u001b[1;33m.\u001b[0m\u001b[0mget\u001b[0m\u001b[1;33m(\u001b[0m\u001b[1;34m\"read_only\"\u001b[0m\u001b[1;33m,\u001b[0m \u001b[1;32mFalse\u001b[0m\u001b[1;33m)\u001b[0m\u001b[1;33m\u001b[0m\u001b[1;33m\u001b[0m\u001b[0m\n\u001b[1;32m--> 145\u001b[1;33m         \u001b[0mself\u001b[0m\u001b[1;33m.\u001b[0m\u001b[0m_mailer\u001b[0m \u001b[1;33m=\u001b[0m \u001b[0mself\u001b[0m\u001b[1;33m.\u001b[0m\u001b[0m_get_mailer\u001b[0m\u001b[1;33m(\u001b[0m\u001b[0mhost\u001b[0m\u001b[1;33m,\u001b[0m \u001b[0muser\u001b[0m\u001b[1;33m,\u001b[0m \u001b[0mpassword\u001b[0m\u001b[1;33m,\u001b[0m \u001b[0mmailbox\u001b[0m\u001b[1;33m,\u001b[0m \u001b[0mtimeout\u001b[0m\u001b[1;33m,\u001b[0m \u001b[0mssl\u001b[0m\u001b[1;33m,\u001b[0m \u001b[0mport\u001b[0m\u001b[1;33m)\u001b[0m\u001b[1;33m\u001b[0m\u001b[1;33m\u001b[0m\u001b[0m\n\u001b[0m\u001b[0;32m    146\u001b[0m \u001b[1;33m\u001b[0m\u001b[0m\n\u001b[0;32m    147\u001b[0m     \u001b[1;32mdef\u001b[0m \u001b[0m_get_mailer\u001b[0m\u001b[1;33m(\u001b[0m\u001b[0mself\u001b[0m\u001b[1;33m,\u001b[0m \u001b[0mhost\u001b[0m\u001b[1;33m,\u001b[0m \u001b[0muser\u001b[0m\u001b[1;33m,\u001b[0m \u001b[0mpassword\u001b[0m\u001b[1;33m,\u001b[0m \u001b[0mmailbox\u001b[0m\u001b[1;33m,\u001b[0m \u001b[0mtimeout\u001b[0m\u001b[1;33m,\u001b[0m \u001b[0mssl\u001b[0m\u001b[1;33m,\u001b[0m \u001b[0mport\u001b[0m\u001b[1;33m)\u001b[0m\u001b[1;33m:\u001b[0m\u001b[1;33m\u001b[0m\u001b[1;33m\u001b[0m\u001b[0m\n",
      "\u001b[1;32m~\\Anaconda3\\lib\\site-packages\\easyimap\\easyimap.py\u001b[0m in \u001b[0;36m_get_mailer\u001b[1;34m(self, host, user, password, mailbox, timeout, ssl, port)\u001b[0m\n\u001b[0;32m    151\u001b[0m         \u001b[1;32melse\u001b[0m\u001b[1;33m:\u001b[0m\u001b[1;33m\u001b[0m\u001b[1;33m\u001b[0m\u001b[0m\n\u001b[0;32m    152\u001b[0m             \u001b[0mmailer\u001b[0m \u001b[1;33m=\u001b[0m \u001b[0mimaplib\u001b[0m\u001b[1;33m.\u001b[0m\u001b[0mIMAP4\u001b[0m\u001b[1;33m(\u001b[0m\u001b[0mhost\u001b[0m\u001b[1;33m=\u001b[0m\u001b[0mhost\u001b[0m\u001b[1;33m,\u001b[0m \u001b[0mport\u001b[0m\u001b[1;33m=\u001b[0m\u001b[0mport\u001b[0m\u001b[1;33m)\u001b[0m\u001b[1;33m\u001b[0m\u001b[1;33m\u001b[0m\u001b[0m\n\u001b[1;32m--> 153\u001b[1;33m         \u001b[0mmailer\u001b[0m\u001b[1;33m.\u001b[0m\u001b[0mlogin\u001b[0m\u001b[1;33m(\u001b[0m\u001b[0muser\u001b[0m\u001b[1;33m,\u001b[0m \u001b[0mpassword\u001b[0m\u001b[1;33m)\u001b[0m\u001b[1;33m\u001b[0m\u001b[1;33m\u001b[0m\u001b[0m\n\u001b[0m\u001b[0;32m    154\u001b[0m         \u001b[1;32mwhile\u001b[0m \u001b[1;32mTrue\u001b[0m\u001b[1;33m:\u001b[0m\u001b[1;33m\u001b[0m\u001b[1;33m\u001b[0m\u001b[0m\n\u001b[0;32m    155\u001b[0m             \u001b[0mstatus\u001b[0m\u001b[1;33m,\u001b[0m \u001b[0mmsgs\u001b[0m \u001b[1;33m=\u001b[0m \u001b[0mmailer\u001b[0m\u001b[1;33m.\u001b[0m\u001b[0mselect\u001b[0m\u001b[1;33m(\u001b[0m\u001b[0mmailbox\u001b[0m\u001b[1;33m,\u001b[0m \u001b[0mself\u001b[0m\u001b[1;33m.\u001b[0m\u001b[0m_read_only\u001b[0m\u001b[1;33m)\u001b[0m\u001b[1;33m\u001b[0m\u001b[1;33m\u001b[0m\u001b[0m\n",
      "\u001b[1;32m~\\Anaconda3\\lib\\imaplib.py\u001b[0m in \u001b[0;36mlogin\u001b[1;34m(self, user, password)\u001b[0m\n\u001b[0;32m    601\u001b[0m         \u001b[0mtyp\u001b[0m\u001b[1;33m,\u001b[0m \u001b[0mdat\u001b[0m \u001b[1;33m=\u001b[0m \u001b[0mself\u001b[0m\u001b[1;33m.\u001b[0m\u001b[0m_simple_command\u001b[0m\u001b[1;33m(\u001b[0m\u001b[1;34m'LOGIN'\u001b[0m\u001b[1;33m,\u001b[0m \u001b[0muser\u001b[0m\u001b[1;33m,\u001b[0m \u001b[0mself\u001b[0m\u001b[1;33m.\u001b[0m\u001b[0m_quote\u001b[0m\u001b[1;33m(\u001b[0m\u001b[0mpassword\u001b[0m\u001b[1;33m)\u001b[0m\u001b[1;33m)\u001b[0m\u001b[1;33m\u001b[0m\u001b[1;33m\u001b[0m\u001b[0m\n\u001b[0;32m    602\u001b[0m         \u001b[1;32mif\u001b[0m \u001b[0mtyp\u001b[0m \u001b[1;33m!=\u001b[0m \u001b[1;34m'OK'\u001b[0m\u001b[1;33m:\u001b[0m\u001b[1;33m\u001b[0m\u001b[1;33m\u001b[0m\u001b[0m\n\u001b[1;32m--> 603\u001b[1;33m             \u001b[1;32mraise\u001b[0m \u001b[0mself\u001b[0m\u001b[1;33m.\u001b[0m\u001b[0merror\u001b[0m\u001b[1;33m(\u001b[0m\u001b[0mdat\u001b[0m\u001b[1;33m[\u001b[0m\u001b[1;33m-\u001b[0m\u001b[1;36m1\u001b[0m\u001b[1;33m]\u001b[0m\u001b[1;33m)\u001b[0m\u001b[1;33m\u001b[0m\u001b[1;33m\u001b[0m\u001b[0m\n\u001b[0m\u001b[0;32m    604\u001b[0m         \u001b[0mself\u001b[0m\u001b[1;33m.\u001b[0m\u001b[0mstate\u001b[0m \u001b[1;33m=\u001b[0m \u001b[1;34m'AUTH'\u001b[0m\u001b[1;33m\u001b[0m\u001b[1;33m\u001b[0m\u001b[0m\n\u001b[0;32m    605\u001b[0m         \u001b[1;32mreturn\u001b[0m \u001b[0mtyp\u001b[0m\u001b[1;33m,\u001b[0m \u001b[0mdat\u001b[0m\u001b[1;33m\u001b[0m\u001b[1;33m\u001b[0m\u001b[0m\n",
      "\u001b[1;31merror\u001b[0m: b'Empty username or password. x17mb13285764jan'"
     ]
    }
   ],
   "source": [
    "user = 'ashishroyofficial@gmail'\n",
    "passwd = ''\n",
    "\n",
    "task14_emailAccess(user,passwd)"
   ]
  },
  {
   "cell_type": "code",
   "execution_count": 24,
   "id": "6e29bf78",
   "metadata": {},
   "outputs": [
    {
     "name": "stdout",
     "output_type": "stream",
     "text": [
      "Collecting secure-smtplib\n",
      "  Downloading secure_smtplib-0.1.1-py2.py3-none-any.whl (3.4 kB)\n",
      "Installing collected packages: secure-smtplib\n",
      "Successfully installed secure-smtplib-0.1.1\n"
     ]
    }
   ],
   "source": [
    "#Write a function to send an email to anyone\n",
    "!pip install secure-smtplib"
   ]
  },
  {
   "cell_type": "code",
   "execution_count": 25,
   "id": "fca8ff72",
   "metadata": {},
   "outputs": [],
   "source": [
    "def task15_writemail(user,passwd):\n",
    "    server = smtplib.SMTP('smtp.gmail.com',587)\n",
    "    server.starttls() ## creating a connection between gmail and python using tls(transport layer security)\n",
    "    server.login(user,passwd) # login into gmail account\n",
    "    rx_mail = input(\"Enter receiver mail ID: \")\n",
    "    msg = input(\" Enter the mail(body): \")\n",
    "    server.sendmail(user,rx_mail,msg)\n",
    "    server.close()\n",
    "    print('Mail sent')"
   ]
  },
  {
   "cell_type": "code",
   "execution_count": 26,
   "id": "403663b5",
   "metadata": {},
   "outputs": [
    {
     "ename": "NameError",
     "evalue": "name 'smtplib' is not defined",
     "output_type": "error",
     "traceback": [
      "\u001b[1;31m---------------------------------------------------------------------------\u001b[0m",
      "\u001b[1;31mNameError\u001b[0m                                 Traceback (most recent call last)",
      "\u001b[1;32m<ipython-input-26-5f247d61ddf4>\u001b[0m in \u001b[0;36m<module>\u001b[1;34m\u001b[0m\n\u001b[0;32m      2\u001b[0m \u001b[0mpasswd\u001b[0m \u001b[1;33m=\u001b[0m \u001b[1;34m\"\"\u001b[0m\u001b[1;33m\u001b[0m\u001b[1;33m\u001b[0m\u001b[0m\n\u001b[0;32m      3\u001b[0m \u001b[1;33m\u001b[0m\u001b[0m\n\u001b[1;32m----> 4\u001b[1;33m \u001b[0mtask15_writemail\u001b[0m\u001b[1;33m(\u001b[0m\u001b[0muser\u001b[0m\u001b[1;33m,\u001b[0m\u001b[0mpasswd\u001b[0m\u001b[1;33m)\u001b[0m\u001b[1;33m\u001b[0m\u001b[1;33m\u001b[0m\u001b[0m\n\u001b[0m",
      "\u001b[1;32m<ipython-input-25-c2c946167e8b>\u001b[0m in \u001b[0;36mtask15_writemail\u001b[1;34m(user, passwd)\u001b[0m\n\u001b[0;32m      1\u001b[0m \u001b[1;32mdef\u001b[0m \u001b[0mtask15_writemail\u001b[0m\u001b[1;33m(\u001b[0m\u001b[0muser\u001b[0m\u001b[1;33m,\u001b[0m\u001b[0mpasswd\u001b[0m\u001b[1;33m)\u001b[0m\u001b[1;33m:\u001b[0m\u001b[1;33m\u001b[0m\u001b[1;33m\u001b[0m\u001b[0m\n\u001b[1;32m----> 2\u001b[1;33m     \u001b[0mserver\u001b[0m \u001b[1;33m=\u001b[0m \u001b[0msmtplib\u001b[0m\u001b[1;33m.\u001b[0m\u001b[0mSMTP\u001b[0m\u001b[1;33m(\u001b[0m\u001b[1;34m'smtp.gmail.com'\u001b[0m\u001b[1;33m,\u001b[0m\u001b[1;36m587\u001b[0m\u001b[1;33m)\u001b[0m\u001b[1;33m\u001b[0m\u001b[1;33m\u001b[0m\u001b[0m\n\u001b[0m\u001b[0;32m      3\u001b[0m     \u001b[0mserver\u001b[0m\u001b[1;33m.\u001b[0m\u001b[0mstarttls\u001b[0m\u001b[1;33m(\u001b[0m\u001b[1;33m)\u001b[0m \u001b[1;31m## creating a connection between gmail and python using tls(transport layer security)\u001b[0m\u001b[1;33m\u001b[0m\u001b[1;33m\u001b[0m\u001b[0m\n\u001b[0;32m      4\u001b[0m     \u001b[0mserver\u001b[0m\u001b[1;33m.\u001b[0m\u001b[0mlogin\u001b[0m\u001b[1;33m(\u001b[0m\u001b[0muser\u001b[0m\u001b[1;33m,\u001b[0m\u001b[0mpasswd\u001b[0m\u001b[1;33m)\u001b[0m \u001b[1;31m# login into gmail account\u001b[0m\u001b[1;33m\u001b[0m\u001b[1;33m\u001b[0m\u001b[0m\n\u001b[0;32m      5\u001b[0m     \u001b[0mrx_mail\u001b[0m \u001b[1;33m=\u001b[0m \u001b[0minput\u001b[0m\u001b[1;33m(\u001b[0m\u001b[1;34m\"Enter receiver mail ID: \"\u001b[0m\u001b[1;33m)\u001b[0m\u001b[1;33m\u001b[0m\u001b[1;33m\u001b[0m\u001b[0m\n",
      "\u001b[1;31mNameError\u001b[0m: name 'smtplib' is not defined"
     ]
    }
   ],
   "source": [
    "user = \"Mikedasdas@gmail.com\"\n",
    "passwd = \"\"\n",
    "\n",
    "task15_writemail(user,passwd)"
   ]
  },
  {
   "cell_type": "code",
   "execution_count": 28,
   "id": "03fa77fd",
   "metadata": {},
   "outputs": [
    {
     "ename": "TypeError",
     "evalue": "filter_csv_file() missing 1 required positional argument: 'path'",
     "output_type": "error",
     "traceback": [
      "\u001b[1;31m---------------------------------------------------------------------------\u001b[0m",
      "\u001b[1;31mTypeError\u001b[0m                                 Traceback (most recent call last)",
      "\u001b[1;32m<ipython-input-28-bd8a932d19d9>\u001b[0m in \u001b[0;36m<module>\u001b[1;34m\u001b[0m\n\u001b[0;32m      4\u001b[0m         \u001b[1;32mif\u001b[0m \u001b[0mfile\u001b[0m\u001b[1;33m.\u001b[0m\u001b[0mendswith\u001b[0m\u001b[1;33m(\u001b[0m\u001b[1;33m(\u001b[0m\u001b[1;34m\".csv\"\u001b[0m\u001b[1;33m)\u001b[0m\u001b[1;33m)\u001b[0m\u001b[1;33m:\u001b[0m\u001b[1;33m\u001b[0m\u001b[1;33m\u001b[0m\u001b[0m\n\u001b[0;32m      5\u001b[0m             \u001b[0mprint\u001b[0m\u001b[1;33m(\u001b[0m\u001b[0mos\u001b[0m\u001b[1;33m.\u001b[0m\u001b[0mpath\u001b[0m\u001b[1;33m.\u001b[0m\u001b[0mjoin\u001b[0m\u001b[1;33m(\u001b[0m\u001b[0mfile\u001b[0m\u001b[1;33m)\u001b[0m\u001b[1;33m)\u001b[0m\u001b[1;33m\u001b[0m\u001b[1;33m\u001b[0m\u001b[0m\n\u001b[1;32m----> 6\u001b[1;33m \u001b[0mfilter_csv_file\u001b[0m\u001b[1;33m(\u001b[0m\u001b[1;33m)\u001b[0m\u001b[1;33m\u001b[0m\u001b[1;33m\u001b[0m\u001b[0m\n\u001b[0m",
      "\u001b[1;31mTypeError\u001b[0m: filter_csv_file() missing 1 required positional argument: 'path'"
     ]
    }
   ],
   "source": [
    "#This code works\n",
    "def filter_csv_file(path):\n",
    "    for file in os.listdir(path):\n",
    "        if file.endswith((\".csv\")):\n",
    "            print(os.path.join(file))\n",
    "filter_csv_file()"
   ]
  },
  {
   "cell_type": "code",
   "execution_count": null,
   "id": "71408a80",
   "metadata": {},
   "outputs": [],
   "source": []
  }
 ],
 "metadata": {
  "kernelspec": {
   "display_name": "Python 3",
   "language": "python",
   "name": "python3"
  }
 },
 "nbformat": 4,
 "nbformat_minor": 5
}
