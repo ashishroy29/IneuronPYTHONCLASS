{
 "cells": [
  {
   "cell_type": "code",
   "execution_count": null,
   "id": "1011ec3c",
   "metadata": {},
   "outputs": [],
   "source": [
    "#What is exception handling? why is it required interms of programming?\n",
    "#When we write a code, there is a very high chance that we make a mistake which might cause problem in run time \n",
    "#We are supposed to handle it, so that it is not going to crash enitre program \n",
    "#Why exception handling comes into picture why we are supposed to write or implement exception handling anytime anytime we are writing a single code."
   ]
  },
  {
   "cell_type": "code",
   "execution_count": null,
   "id": "2e0590a6",
   "metadata": {},
   "outputs": [],
   "source": [
    "#Why Exception Handling?\n",
    "#Beause there might be a code which we might write which may not work in the production"
   ]
  },
  {
   "cell_type": "code",
   "execution_count": null,
   "id": "32668c66",
   "metadata": {},
   "outputs": [],
   "source": [
    "a = 5\n",
    "a/10"
   ]
  },
  {
   "cell_type": "code",
   "execution_count": null,
   "id": "d400cf2a",
   "metadata": {},
   "outputs": [],
   "source": [
    "#Anything divided by zero is infinity\n",
    "a/0"
   ]
  },
  {
   "cell_type": "code",
   "execution_count": null,
   "id": "704d5fb1",
   "metadata": {},
   "outputs": [],
   "source": [
    "#The code might give me an error which might effect my run time of the code, as we know that the code runs in a sequential manner, line by line"
   ]
  },
  {
   "cell_type": "code",
   "execution_count": null,
   "id": "e72e8e5f",
   "metadata": {},
   "outputs": [],
   "source": [
    "a/0\n",
    "print(\"This is my Prog\")"
   ]
  },
  {
   "cell_type": "code",
   "execution_count": null,
   "id": "0407c9ef",
   "metadata": {},
   "outputs": [],
   "source": [
    "#use exception handling by default\n",
    "#Check exception handling wikipedia on google"
   ]
  },
  {
   "cell_type": "code",
   "execution_count": null,
   "id": "628dd279",
   "metadata": {},
   "outputs": [],
   "source": [
    "a=5\n",
    "b = int(input())\n",
    "a/b"
   ]
  },
  {
   "cell_type": "code",
   "execution_count": null,
   "id": "7368c949",
   "metadata": {},
   "outputs": [],
   "source": [
    "#Even if there is an issue we need to handle this, this is called exception handling\n",
    "a=5\n",
    "b = int(input())\n",
    "a/b"
   ]
  },
  {
   "cell_type": "code",
   "execution_count": null,
   "id": "cf501db3",
   "metadata": {},
   "outputs": [],
   "source": [
    "# Incase if there is some kind of suspicious code which you are trying run, then put it in something called as try block\n",
    "# In Exception handling you will find something called as try block"
   ]
  },
  {
   "cell_type": "code",
   "execution_count": null,
   "id": "be0641f3",
   "metadata": {},
   "outputs": [],
   "source": [
    "f = open(\"Text.txt\",\"r\")\n",
    "f.write(\"ajsdjoasdasdas\")"
   ]
  },
  {
   "cell_type": "code",
   "execution_count": null,
   "id": "92e218a2",
   "metadata": {},
   "outputs": [],
   "source": [
    "f = open(\"Text.txt\",\"w\")\n",
    "f.write(\"ajsdjoasdasdas\")"
   ]
  },
  {
   "cell_type": "code",
   "execution_count": null,
   "id": "21e75c7c",
   "metadata": {},
   "outputs": [],
   "source": [
    "#In order to write a suspicious code , whatever code we are going to write, it will give some kind of a protection\n",
    "# this is a suspicious code which may fail in the future.\n",
    "#Try and Except block\n",
    "#Try is a reserved keyword\n",
    "\n",
    "# What is the difference between try and except block\n",
    "# if there is a mistake in try block, it will immediately come to the except block\n",
    "# EXCEPT BLOCK : will always try to handle your error\n",
    "\n",
    "try:\n",
    "    f =open(\"Text.txt\",\"r\")\n",
    "    f.write(\"aksdjaskdj\")\n",
    "except:\n",
    "    print(\"There was a mistake\")\n",
    "print(\"this is my code\")"
   ]
  },
  {
   "cell_type": "code",
   "execution_count": null,
   "id": "f4cfa6f4",
   "metadata": {},
   "outputs": [],
   "source": [
    "# There are 2 types of error which we will be able to find \n",
    "# Compile time error : syntatical error or if i have missed something in the code.\n",
    "# Run time Error : \n",
    "\n",
    "\n",
    "# Incase of Systatical error - Exceptional handling wont work\n",
    "# Incase of Run time error - Code is perfectly fine and then it is going to execute and that time it gives an error\n",
    "\n",
    "\n",
    "# EXAMPLE\n",
    "#Even if there is an issue we need to handle this, this is called exception handling\n",
    "#a=5\n",
    "#b = int(input())\n",
    "#a/b\n",
    "#input 0 that time it gives an error.\n",
    "#input an string and even then it gives an issue"
   ]
  },
  {
   "cell_type": "code",
   "execution_count": null,
   "id": "42cca385",
   "metadata": {},
   "outputs": [],
   "source": [
    "#When a try block is written,make sure we write the except block aswell\n",
    "try:\n",
    "    f =open(\"Text.txt\",\"r\")\n",
    "    f.write(\"aksdjaskdj\")"
   ]
  },
  {
   "cell_type": "code",
   "execution_count": null,
   "id": "5a8f86b5",
   "metadata": {},
   "outputs": [],
   "source": [
    "l = [4,5,6,7,8,9,0]\n",
    "for i in range(len(l)):\n",
    "    print(i)"
   ]
  },
  {
   "cell_type": "code",
   "execution_count": null,
   "id": "4daf217a",
   "metadata": {},
   "outputs": [],
   "source": [
    "l = [4,5,6,7,8,9,0]\n",
    "for i range(len(l)):\n",
    "    print(i)"
   ]
  },
  {
   "cell_type": "code",
   "execution_count": null,
   "id": "3e1ddd66",
   "metadata": {},
   "outputs": [],
   "source": [
    "#This is not going to handle syntactical/ Compiler error, it will only handle runtime error\n",
    "l = [4,5,6,7,8,9,0]\n",
    "try:\n",
    "    for i range(len(l)):\n",
    "        print(i)\n",
    "except:\n",
    "    print(\"This is my code\")"
   ]
  },
  {
   "cell_type": "code",
   "execution_count": null,
   "id": "3b12ceb2",
   "metadata": {},
   "outputs": [],
   "source": [
    "#This is not going to handle syntactical/ Compiler error, it will only handle runtime error\n",
    "l = [4,5,6,7,8,9,0]\n",
    "try:\n",
    "    for i in range(len(l)+1):\n",
    "        print(i)\n",
    "except:\n",
    "    print(\"This is my code\")"
   ]
  },
  {
   "cell_type": "code",
   "execution_count": null,
   "id": "41b31c97",
   "metadata": {},
   "outputs": [],
   "source": [
    "#This is not going to handle syntactical/ Compiler error, it will only handle runtime error\n",
    "l = [4,5,6,7,8,9,0]\n",
    "try:\n",
    "    for i in range(len(l)+1):\n",
    "        print(l[i])\n",
    "except:\n",
    "    print(\"This is my code\")"
   ]
  },
  {
   "cell_type": "code",
   "execution_count": null,
   "id": "eb8d1d3a",
   "metadata": {},
   "outputs": [],
   "source": [
    "#Ther error is because we have given l+1 and at that index there is no value available so that is the meaning of the error\n",
    "l = [4,5,6,7,8,9,0]\n",
    "for i in range(len(l)+1):\n",
    "    print(l[i])"
   ]
  },
  {
   "cell_type": "code",
   "execution_count": null,
   "id": "3c675290",
   "metadata": {},
   "outputs": [],
   "source": [
    "#This is not going to handle syntactical/ Compiler error, it will only handle runtime error\n",
    "l = [4,5,6,7,8,9,0]\n",
    "try:\n",
    "    for i in range(len(l)+1):\n",
    "        print(l[i])\n",
    "except:\n",
    "    print(\"This Value is not Available\")\n",
    "print('dasljkdasjkljdaskljdasdljk')"
   ]
  },
  {
   "cell_type": "code",
   "execution_count": null,
   "id": "92a93a1a",
   "metadata": {},
   "outputs": [],
   "source": [
    "# In java there is something called as try and catch, but here we have something called as try and Except block"
   ]
  },
  {
   "cell_type": "code",
   "execution_count": null,
   "id": "63d60fd5",
   "metadata": {},
   "outputs": [],
   "source": [
    "l = [4,5,6,7,8,9,0]\n",
    "for i in range(len(l)+1):\n",
    "    print(l[i])"
   ]
  },
  {
   "cell_type": "code",
   "execution_count": null,
   "id": "bdfbb489",
   "metadata": {},
   "outputs": [],
   "source": [
    "5/0"
   ]
  },
  {
   "cell_type": "code",
   "execution_count": null,
   "id": "921ca946",
   "metadata": {},
   "outputs": [],
   "source": [
    "#IF we want to see that kind of messages which has come out"
   ]
  },
  {
   "cell_type": "code",
   "execution_count": null,
   "id": "23b971fd",
   "metadata": {},
   "outputs": [],
   "source": [
    "#Exception is nothing but super class of all the exceptions that we will be able to findout.\n",
    "l = [4,5,6,7,8,9,0]\n",
    "try:\n",
    "    for i in range(len(l)+1):\n",
    "        print(l[i])\n",
    "except Exception as e:\n",
    "    print(\"Error: \", e)\n",
    "print('dasljkdasjkljdaskljdasdljk')"
   ]
  },
  {
   "cell_type": "code",
   "execution_count": null,
   "id": "6db17917",
   "metadata": {},
   "outputs": [],
   "source": [
    "# We have called e, we can see that the message is displayed, we have E as a class and not as an keyword\n",
    "# There are different types of errors and exceptions"
   ]
  },
  {
   "cell_type": "code",
   "execution_count": null,
   "id": "e38e2e1e",
   "metadata": {},
   "outputs": [],
   "source": [
    "#This wont break my program\n",
    "try :\n",
    "    a = int(input())\n",
    "    b = int(input())\n",
    "except Exception as e :\n",
    "    print(f'Error :  {e}')"
   ]
  },
  {
   "cell_type": "code",
   "execution_count": null,
   "id": "474beeb8",
   "metadata": {},
   "outputs": [],
   "source": [
    "#This wont break my program\n",
    "try :\n",
    "    a = int(input())\n",
    "    b = int(input())\n",
    "    output = a+b\n",
    "    print(output)\n",
    "except Exception as e :\n",
    "    print(f'Error :  {e}')"
   ]
  },
  {
   "cell_type": "code",
   "execution_count": null,
   "id": "98a0ce05",
   "metadata": {},
   "outputs": [],
   "source": [
    "#what is there is some kind of error during the run time from a particular db\n",
    "#If incase that is the error then it creates a problem, then it becomes a problem, Exception handling and logging"
   ]
  },
  {
   "cell_type": "code",
   "execution_count": null,
   "id": "cf42e145",
   "metadata": {},
   "outputs": [],
   "source": [
    "print(\"sdiasdls\")"
   ]
  },
  {
   "cell_type": "code",
   "execution_count": null,
   "id": "bdc9ffba",
   "metadata": {},
   "outputs": [],
   "source": [
    "a = int(input())"
   ]
  },
  {
   "cell_type": "code",
   "execution_count": null,
   "id": "71d1e1d6",
   "metadata": {},
   "outputs": [],
   "source": [
    "try :\n",
    "    f = open('Test1','r')\n",
    "    f.write(\"This is my code with exception handling\")\n",
    "    print(\"This is my code after write ops\")\n",
    "except:\n",
    "    print(\"error\")\n",
    "l = [1,2,3,4,5]\n",
    "for i in l :\n",
    "    print(i)"
   ]
  },
  {
   "cell_type": "code",
   "execution_count": null,
   "id": "adbdf8b2",
   "metadata": {},
   "outputs": [],
   "source": [
    "try :\n",
    "    f = open('Test1','r')\n",
    "    f.write(\"This is my code with exception handling\")\n",
    "    print(\"This is my code after write ops\")\n",
    "except:\n",
    "    print(\"error\")\n",
    "try :\n",
    "    l = [1,2,3,4,5]\n",
    "    for i in l :\n",
    "        print(i)\n",
    "except:\n",
    "    print(\"Error 2\")"
   ]
  },
  {
   "cell_type": "code",
   "execution_count": null,
   "id": "0e3e662f",
   "metadata": {},
   "outputs": [],
   "source": [
    "try :\n",
    "    d = {\"Key1\" : \"Sudh\", \"Key2\" : [1,2,3,4,5],\"Key3\" : (4,5,6,7,8)}\n",
    "    d[\"Key4\"] = int(input())\n",
    "except Exception as e :\n",
    "    print(e)"
   ]
  },
  {
   "cell_type": "code",
   "execution_count": null,
   "id": "87e10641",
   "metadata": {},
   "outputs": [],
   "source": [
    "try :\n",
    "    d = {\"Key1\" : \"Sudh\", \"Key2\" : [1,2,3,4,5],\"Key3\" : (4,5,6,7,8)}\n",
    "    d[\"Key4\"] = int(input())\n",
    "except Exception as e :\n",
    "    print(e)"
   ]
  },
  {
   "cell_type": "code",
   "execution_count": null,
   "id": "44b02323",
   "metadata": {},
   "outputs": [],
   "source": [
    "try :\n",
    "    d = {\"Key1\" : \"Sudh\", \"Key2\" : [1,2,3,4,5],\"Key3\" : (4,5,6,7,8)}\n",
    "    d[\"Key4\"] = int(input())\n",
    "except Exception as e :\n",
    "    print(e)"
   ]
  },
  {
   "cell_type": "code",
   "execution_count": null,
   "id": "e5993579",
   "metadata": {},
   "outputs": [],
   "source": [
    "d"
   ]
  },
  {
   "cell_type": "code",
   "execution_count": null,
   "id": "92018d1f",
   "metadata": {},
   "outputs": [],
   "source": [
    "#Exception is a superclass\n",
    "# It has been created by someone which is showing here\n",
    "# What about a subclass which is available?"
   ]
  },
  {
   "cell_type": "code",
   "execution_count": null,
   "id": "5ef0c6dd",
   "metadata": {},
   "outputs": [],
   "source": [
    "d = {\"Key1\" : \"Sudh\", \"Key2\" : [1,2,3,4,5],\"Key3\" : (4,5,6,7,8)}\n",
    "d[\"Key4\"] = int(input())"
   ]
  },
  {
   "cell_type": "code",
   "execution_count": null,
   "id": "d280878c",
   "metadata": {},
   "outputs": [],
   "source": [
    "try :\n",
    "    d = {\"Key1\" : \"Sudh\", \"Key2\" : [1,2,3,4,5],\"Key3\" : (4,5,6,7,8)}\n",
    "    d[\"Key4\"] = int(input())\n",
    "except ValueError as e :\n",
    "    print(e)"
   ]
  },
  {
   "cell_type": "code",
   "execution_count": null,
   "id": "a891e448",
   "metadata": {},
   "outputs": [],
   "source": [
    "# SuperClass = Exception\n",
    "# ValueError = Subclass"
   ]
  },
  {
   "cell_type": "code",
   "execution_count": null,
   "id": "5d0a8809",
   "metadata": {},
   "outputs": [],
   "source": [
    "#Many errors which are available which is available under Exception class\n",
    "#So that it will handle all kind of errors"
   ]
  },
  {
   "cell_type": "code",
   "execution_count": null,
   "id": "bc108915",
   "metadata": {},
   "outputs": [],
   "source": [
    "try :\n",
    "    d = {\"Key1\" : \"Sudh\", \"Key2\" : [1,2,3,4,5],\"Key3\" : (4,5,6,7,8)}\n",
    "    d[\"Key4\"] = int(input())\n",
    "except ValueError as e :\n",
    "    print(e)"
   ]
  },
  {
   "cell_type": "code",
   "execution_count": null,
   "id": "a704b7c5",
   "metadata": {},
   "outputs": [],
   "source": [
    "try :\n",
    "    d = {\"Key1\" : \"Sudh\", \"Key2\" : [1,2,3,4,5],\"Key3\" : (4,5,6,7,8)}\n",
    "    d[\"Key4\"] = int(input())\n",
    "    f = open(\"test2\",\"r\")\n",
    "except ValueError as e :\n",
    "    print(e)"
   ]
  },
  {
   "cell_type": "code",
   "execution_count": null,
   "id": "15368a99",
   "metadata": {},
   "outputs": [],
   "source": [
    "try :\n",
    "    d = {\"Key1\" : \"Sudh\", \"Key2\" : [1,2,3,4,5],\"Key3\" : (4,5,6,7,8)}\n",
    "    d[\"Key4\"] = int(input())\n",
    "    f = open(\"test2\",\"r\")\n",
    "except FileNotFoundError as e :\n",
    "    print(e)"
   ]
  },
  {
   "cell_type": "code",
   "execution_count": null,
   "id": "2e1b09c1",
   "metadata": {},
   "outputs": [],
   "source": [
    "try :\n",
    "    d = {\"Key1\" : \"Sudh\", \"Key2\" : [1,2,3,4,5],\"Key3\" : (4,5,6,7,8)}\n",
    "    d[\"Key4\"] = int(input())\n",
    "    f = open(\"test2\",\"r\")\n",
    "except Exception as e :\n",
    "    print(e)"
   ]
  },
  {
   "cell_type": "code",
   "execution_count": null,
   "id": "0a63f00c",
   "metadata": {},
   "outputs": [],
   "source": [
    "try :\n",
    "    d = {\"Key1\" : \"Sudh\", \"Key2\" : [1,2,3,4,5],\"Key3\" : (4,5,6,7,8)}\n",
    "    d[\"Key4\"] = int(input())\n",
    "    f = open(\"test2\",\"r\")\n",
    "except ValueError as e :\n",
    "    print(e)\n",
    "except FileNotFoundError as ashi :\n",
    "    print(ashi)"
   ]
  },
  {
   "cell_type": "code",
   "execution_count": null,
   "id": "5f00db10",
   "metadata": {},
   "outputs": [],
   "source": [
    "# there are 2 ways to approach the exception handling\n",
    "# Either use Exception as superclass\n",
    "# Either use all the subclass and write all kind of error"
   ]
  },
  {
   "cell_type": "code",
   "execution_count": null,
   "id": "6d4b0dd4",
   "metadata": {},
   "outputs": [],
   "source": [
    "try :\n",
    "    d = {\"Key1\" : \"Sudh\", \"Key2\" : [1,2,3,4,5],\"Key3\" : (4,5,6,7,8)}\n",
    "    d[\"Key4\"] = int(input())\n",
    "    f = open(\"test2\",\"r\")\n",
    "except Exception as ee :\n",
    "    print(\"This is my exception Class\", ee)\n",
    "except ValueError as e :\n",
    "    print(e)\n",
    "except FileNotFoundError as ashi :\n",
    "    print(ashi)"
   ]
  },
  {
   "cell_type": "code",
   "execution_count": null,
   "id": "24fca71b",
   "metadata": {},
   "outputs": [],
   "source": [
    "try :\n",
    "    d = {\"Key1\" : \"Sudh\", \"Key2\" : [1,2,3,4,5],\"Key3\" : (4,5,6,7,8)}\n",
    "    d[\"Key4\"] = int(input())\n",
    "    f = open(\"test2\",\"r\")\n",
    "except ValueError as e :\n",
    "    print(e)\n",
    "except FileNotFoundError as ashi :\n",
    "    print(ashi)\n",
    "except Exception as ee :\n",
    "    print(\"This is my exception Class\", ee)"
   ]
  },
  {
   "cell_type": "code",
   "execution_count": null,
   "id": "e000dacf",
   "metadata": {},
   "outputs": [],
   "source": [
    "# Generally it is step by step implemnetation of codes\n",
    "# Super class == Parent class\n",
    "# Sub class == Child Class\n",
    "\n",
    "# if you are calling parent class in the beginning then it will handle all the exceptions very well\n",
    "# if you are calling child class first annd then it satisfies the requirement then it will not take in the parent class"
   ]
  },
  {
   "cell_type": "code",
   "execution_count": null,
   "id": "ec91b3c4",
   "metadata": {},
   "outputs": [],
   "source": [
    "# in this way we can handle multiple exception class in order to handle."
   ]
  },
  {
   "cell_type": "markdown",
   "id": "2dc66890",
   "metadata": {},
   "source": [
    "# TRY EXCEPT AND ELSE BLOCK:"
   ]
  },
  {
   "cell_type": "code",
   "execution_count": null,
   "id": "33b4a00f",
   "metadata": {},
   "outputs": [],
   "source": [
    "try :\n",
    "    f = open(\"test2.txt\",\"w\")\n",
    "    f.write(\"This is my code in try block\")\n",
    "except Exception as e:\n",
    "    print(\"Error : \")\n",
    "else :\n",
    "    print(\"This will execute once my try block will be executed successfully\")\n",
    "    f.close()"
   ]
  },
  {
   "cell_type": "code",
   "execution_count": null,
   "id": "cf416635",
   "metadata": {},
   "outputs": [],
   "source": [
    "# If Try block will execute successfully it will come to else block\n",
    "# If Try block has received some kind of an error, then it will execute the except block and else will not be executed"
   ]
  },
  {
   "cell_type": "code",
   "execution_count": null,
   "id": "fa5ccdb1",
   "metadata": {},
   "outputs": [],
   "source": [
    "try :\n",
    "    f = open(\"test5.txt\",\"r\")\n",
    "    f.write(\"This is my code in try block\")\n",
    "except Exception as e:\n",
    "    print(f\"Error : {e}\")\n",
    "else :\n",
    "    print(\"This will execute once my try block will be executed successfully\")\n",
    "    f.close()"
   ]
  },
  {
   "cell_type": "markdown",
   "id": "edb0a973",
   "metadata": {},
   "source": [
    "# Finally BLOCK"
   ]
  },
  {
   "cell_type": "code",
   "execution_count": null,
   "id": "29c05e66",
   "metadata": {},
   "outputs": [],
   "source": [
    "try :\n",
    "    f = open(\"test43\", \"r\")\n",
    "except Exception as e :\n",
    "    print(f\"Error : {e}\")\n",
    "finally :\n",
    "    print(\"Execute this code\")"
   ]
  },
  {
   "cell_type": "code",
   "execution_count": null,
   "id": "cc5bf629",
   "metadata": {},
   "outputs": [],
   "source": [
    "# Finally and Else Block:\n",
    "\n",
    "# Finally is a block which will execute all the time\n",
    "# Dosent matter if try block has failed or not failed but it will execute for sure.\n",
    "# ELSE block only will execute itself when try block executes itself successfully\n",
    "# This is the differeence between else and finally block\n",
    "# In else block there is a condition"
   ]
  },
  {
   "cell_type": "code",
   "execution_count": null,
   "id": "32d3e86e",
   "metadata": {},
   "outputs": [],
   "source": [
    "try :\n",
    "    f = open(\"test43\", \"r\")\n",
    "except Exception as e :\n",
    "    print(f\"Error : {e}\")\n",
    "else :\n",
    "    print(\"Do this Successful execution on try block\")\n",
    "finally :\n",
    "    print(\"Execute this code\")"
   ]
  },
  {
   "cell_type": "code",
   "execution_count": null,
   "id": "7fb5e660",
   "metadata": {},
   "outputs": [],
   "source": [
    "try :\n",
    "    f = open(\"test43.txt\", \"w\")\n",
    "except Exception as e :\n",
    "    print(f\"Error : {e}\")\n",
    "else :\n",
    "    print(\"Do this Successful execution on try block\")\n",
    "finally :\n",
    "    print(\"Execute this code\")"
   ]
  },
  {
   "cell_type": "code",
   "execution_count": null,
   "id": "2caa28ab",
   "metadata": {},
   "outputs": [],
   "source": [
    "try :\n",
    "    f = open(\"test43.txt\", \"w\")\n",
    "except Exception as e :\n",
    "    print(f\"Error : {e}\")\n",
    "else :\n",
    "    print(\"Do this Successful execution on try block\")\n",
    "finally :\n",
    "    print(\"Execute this code\")\n",
    "    try :\n",
    "        f =open(\"daskldaslkd\",\"r\")\n",
    "    except Exception as e:\n",
    "        print(\"Handle this\", e)\n",
    "    finally :\n",
    "        print(\"This will come to this block\")"
   ]
  },
  {
   "cell_type": "code",
   "execution_count": null,
   "id": "d386035d",
   "metadata": {},
   "outputs": [],
   "source": [
    "# we can write this try block anywhere.\n",
    "# There is no restriction"
   ]
  },
  {
   "cell_type": "code",
   "execution_count": null,
   "id": "57dd24e2",
   "metadata": {},
   "outputs": [],
   "source": [
    "def askint():\n",
    "    a = int(input())\n",
    "    return a"
   ]
  },
  {
   "cell_type": "code",
   "execution_count": null,
   "id": "df221f2b",
   "metadata": {},
   "outputs": [],
   "source": [
    "askint()"
   ]
  },
  {
   "cell_type": "code",
   "execution_count": null,
   "id": "8abe8343",
   "metadata": {},
   "outputs": [],
   "source": [
    "askint()"
   ]
  },
  {
   "cell_type": "code",
   "execution_count": null,
   "id": "8212542a",
   "metadata": {},
   "outputs": [],
   "source": [
    "def askint() :\n",
    "    try :\n",
    "        a = int(input())\n",
    "        return a\n",
    "    except Exception as e :\n",
    "        print(f\"Error : {e}, Answer : Please input an Integer\")\n",
    "    finally:\n",
    "        print(\"This code ran Successfully\")"
   ]
  },
  {
   "cell_type": "code",
   "execution_count": null,
   "id": "2315c2e3",
   "metadata": {},
   "outputs": [],
   "source": [
    "askint()"
   ]
  },
  {
   "cell_type": "code",
   "execution_count": null,
   "id": "2ca2c120",
   "metadata": {},
   "outputs": [],
   "source": [
    "askint()"
   ]
  },
  {
   "cell_type": "code",
   "execution_count": null,
   "id": "508f4cda",
   "metadata": {},
   "outputs": [],
   "source": [
    "### Write a function which will keep on asking for integer unless and until we keep on asking for an integer\n",
    "def function1():\n",
    "    \"\"\"This function is written in-order to get an output as an integer and keep repeating if we give wrong DataType\"\"\"\n",
    "    flag = True\n",
    "    while flag :\n",
    "        try :\n",
    "            a = int(input(f\"Enter an Integer : \"))\n",
    "            if type(a) == int :\n",
    "                return \"Yes!!, You Have entered an Integer\"\n",
    "                flag = False\n",
    "\n",
    "        except Exception as e :\n",
    "            print(\"No, You have entered another DataType, please enter an Integer\", e)\n",
    "        \n",
    "function1()"
   ]
  },
  {
   "cell_type": "code",
   "execution_count": null,
   "id": "171f1fda",
   "metadata": {},
   "outputs": [],
   "source": [
    "### Write a function which will keep on asking for integer unless and until we keep on asking for an integer\n",
    "## 1st Method:\n",
    "def function1():\n",
    "    \"\"\"This function is written in-order to get an output as an integer and keep repeating if we give wrong DataType\"\"\"\n",
    "    flag = True\n",
    "    while flag :\n",
    "        try :\n",
    "            a = int(input(f\"Enter an Integer : \"))\n",
    "            if type(a) == int :\n",
    "                return f\"You have Returned an Integer Value {a}\"\n",
    "                flag = False\n",
    "\n",
    "        except Exception as e :\n",
    "            print(\"No, You have entered another DataType, please enter an Integer\", e)\n",
    "        \n",
    "function1()"
   ]
  },
  {
   "cell_type": "code",
   "execution_count": null,
   "id": "3520a7bf",
   "metadata": {},
   "outputs": [],
   "source": [
    "## 2nd Method\n",
    "def integer():\n",
    "    while True:\n",
    "        \"\"\"This Function will help us return an Integer unless provided otherwise\"\"\"\n",
    "        try :\n",
    "            x = int(input())\n",
    "            break\n",
    "        except ValueError as e:\n",
    "            print(\"Enter the input again\", e)\n",
    "integer()"
   ]
  },
  {
   "cell_type": "code",
   "execution_count": null,
   "id": "f1390622",
   "metadata": {},
   "outputs": [],
   "source": [
    "## 3rd Method\n",
    "def getint(p):\n",
    "    \"\"\"This Function will help us return an Integer unless provided otherwise\"\"\"\n",
    "    while True:\n",
    "        try:\n",
    "            value = int(input(p))\n",
    "        except ValueError:\n",
    "            print(\"Sorry, I didn't understand that.\")\n",
    "            continue\n",
    "            \n",
    "        if value < 0:\n",
    "            print(\"Sorry, your response must not be negative.\")\n",
    "            continue\n",
    "        else:\n",
    "            break\n",
    "    return value"
   ]
  },
  {
   "cell_type": "code",
   "execution_count": null,
   "id": "e0521f25",
   "metadata": {},
   "outputs": [],
   "source": [
    "getint(\"kljasdkldajs\")"
   ]
  },
  {
   "cell_type": "code",
   "execution_count": null,
   "id": "4040c77c",
   "metadata": {},
   "outputs": [],
   "source": [
    "#4th method\n",
    "def askint():\n",
    "    while True:\n",
    "        try:\n",
    "            num = int(input(\"Enter only Number\"))\n",
    "            break\n",
    "        except Exception as e:\n",
    "            print(\"Please input number only...\")\n",
    "            continue"
   ]
  },
  {
   "cell_type": "code",
   "execution_count": null,
   "id": "cb829108",
   "metadata": {},
   "outputs": [],
   "source": [
    "askint()"
   ]
  },
  {
   "cell_type": "markdown",
   "id": "529b1013",
   "metadata": {},
   "source": [
    "# How to Raise an exception by ourselves"
   ]
  },
  {
   "cell_type": "code",
   "execution_count": null,
   "id": "446eecd4",
   "metadata": {},
   "outputs": [],
   "source": [
    "#System is able to raise an exception"
   ]
  },
  {
   "cell_type": "code",
   "execution_count": null,
   "id": "421f47fe",
   "metadata": {},
   "outputs": [],
   "source": [
    "a = 6/10"
   ]
  },
  {
   "cell_type": "code",
   "execution_count": null,
   "id": "2826359f",
   "metadata": {},
   "outputs": [],
   "source": [
    "5/0"
   ]
  },
  {
   "cell_type": "code",
   "execution_count": null,
   "id": "6b0d8ac2",
   "metadata": {},
   "outputs": [],
   "source": [
    "#Some one has raise this exception, Someone has raised this logic, this is the only reason we are able to see this error, we are jsut trying to understand logic"
   ]
  },
  {
   "cell_type": "markdown",
   "id": "d5b42b92",
   "metadata": {},
   "source": [
    "# CUSTOM CONDITION, EXCEPTION, how will we be able to raise a request by ourself"
   ]
  },
  {
   "cell_type": "code",
   "execution_count": null,
   "id": "362b1173",
   "metadata": {},
   "outputs": [],
   "source": [
    "def test(a):\n",
    "    if a < 0 :\n",
    "        raise Exception(a)\n",
    "    return a"
   ]
  },
  {
   "cell_type": "code",
   "execution_count": null,
   "id": "2ebe92cb",
   "metadata": {},
   "outputs": [],
   "source": [
    "test(-4)"
   ]
  },
  {
   "cell_type": "code",
   "execution_count": null,
   "id": "436ccf81",
   "metadata": {},
   "outputs": [],
   "source": [
    "test(4)"
   ]
  },
  {
   "cell_type": "code",
   "execution_count": null,
   "id": "4a543e10",
   "metadata": {},
   "outputs": [],
   "source": [
    "g = open(\"jklasdkldajkld\",\"r\")"
   ]
  },
  {
   "cell_type": "code",
   "execution_count": null,
   "id": "2acd1eb0",
   "metadata": {},
   "outputs": [],
   "source": [
    "# A Programmer has created this exception."
   ]
  },
  {
   "cell_type": "markdown",
   "id": "11c38c1e",
   "metadata": {},
   "source": [
    "#### raise keyword : raise is a reserved keyword which will help in raising an exceeption at any point of time using custom exception"
   ]
  },
  {
   "cell_type": "code",
   "execution_count": null,
   "id": "cd448edb",
   "metadata": {},
   "outputs": [],
   "source": [
    "def test(a):\n",
    "    if a < 0 :\n",
    "        raise Exception(\"You have Entered a Negative value\")\n",
    "    return a"
   ]
  },
  {
   "cell_type": "code",
   "execution_count": null,
   "id": "58302d2c",
   "metadata": {},
   "outputs": [],
   "source": [
    "test(-3)"
   ]
  },
  {
   "cell_type": "code",
   "execution_count": null,
   "id": "a7d0f3b8",
   "metadata": {},
   "outputs": [],
   "source": [
    "def test(a):\n",
    "    if a < 0 :\n",
    "        raise ValueError(\"You have Entered a Negative value\")\n",
    "    return a"
   ]
  },
  {
   "cell_type": "code",
   "execution_count": null,
   "id": "fb5f65dc",
   "metadata": {},
   "outputs": [],
   "source": [
    "#Here we can see that the ValueError has been Overwritten and then this is giving this output\n",
    "test(-1)"
   ]
  },
  {
   "cell_type": "code",
   "execution_count": null,
   "id": "af65e0de",
   "metadata": {},
   "outputs": [],
   "source": [
    "def test(a):\n",
    "    if a < 0 :\n",
    "        raise IOError(\"You have Entered a Negative value\")\n",
    "    return a"
   ]
  },
  {
   "cell_type": "code",
   "execution_count": null,
   "id": "7079d8cf",
   "metadata": {},
   "outputs": [],
   "source": [
    "#Here we can see that the IOError has been Overwritten and then this is giving this output\n",
    "test(-1)"
   ]
  },
  {
   "cell_type": "code",
   "execution_count": null,
   "id": "e2f40865",
   "metadata": {},
   "outputs": [],
   "source": [
    "#We are just trying to overwrite the error, to print my own message, to print my own custom error"
   ]
  },
  {
   "cell_type": "code",
   "execution_count": null,
   "id": "8d7fc114",
   "metadata": {},
   "outputs": [],
   "source": [
    "# This is actually a class\n",
    "# someone has written those class"
   ]
  },
  {
   "cell_type": "code",
   "execution_count": null,
   "id": "9906f5dc",
   "metadata": {},
   "outputs": [],
   "source": [
    "def test(a):\n",
    "    if a == \"sudh\" :\n",
    "        raise IOError(\"You have Entered a Negative value\")\n",
    "    return a"
   ]
  },
  {
   "cell_type": "code",
   "execution_count": null,
   "id": "2f172343",
   "metadata": {},
   "outputs": [],
   "source": [
    "test(\"sudh\")"
   ]
  },
  {
   "cell_type": "code",
   "execution_count": null,
   "id": "01bb5a94",
   "metadata": {},
   "outputs": [],
   "source": [
    "try :\n",
    "    test(\"sudh\")\n",
    "except Exception as e :\n",
    "    print(\"Calling my Raised Exception\", e)"
   ]
  },
  {
   "cell_type": "code",
   "execution_count": null,
   "id": "0c6c0dbb",
   "metadata": {},
   "outputs": [],
   "source": [
    "try :\n",
    "    a = input()\n",
    "    test(a)\n",
    "except Exception as e :\n",
    "    print(\"Calling my Raised Exception\", e)"
   ]
  },
  {
   "cell_type": "code",
   "execution_count": null,
   "id": "3c6ea31c",
   "metadata": {},
   "outputs": [],
   "source": [
    "try :\n",
    "    a = input()\n",
    "    test(a)\n",
    "except Exception as e :\n",
    "    print(\"Calling my Raised Exception\", e)"
   ]
  },
  {
   "cell_type": "code",
   "execution_count": null,
   "id": "5d729f7b",
   "metadata": {},
   "outputs": [],
   "source": [
    "#There is a possibility to overwrite the errors, it Is possible, i can override any kind of a error"
   ]
  },
  {
   "cell_type": "code",
   "execution_count": null,
   "id": "189be3f9",
   "metadata": {},
   "outputs": [],
   "source": [
    "#This is All About Exception handling and Raising a custom exception"
   ]
  },
  {
   "cell_type": "markdown",
   "id": "cf8604f1",
   "metadata": {},
   "source": [
    "# LOGGING"
   ]
  },
  {
   "cell_type": "code",
   "execution_count": null,
   "id": "499853e1",
   "metadata": {},
   "outputs": [],
   "source": [
    "#What is Logging?\n",
    "#Why is logging Important?\n",
    "#What can we acheive with logging?"
   ]
  },
  {
   "cell_type": "code",
   "execution_count": null,
   "id": "09213bb7",
   "metadata": {},
   "outputs": [],
   "source": [
    "# Logging is an important concept, whenever we try to write a code, we know that anything can happen, there is a possibility\n",
    "# for it to crash, There is a possibility we need to find out howmuch a one stack or cell of code has taken for execution\n",
    "# From that i will be able to understand the time complexcity of that code"
   ]
  },
  {
   "cell_type": "code",
   "execution_count": null,
   "id": "8db9657f",
   "metadata": {},
   "outputs": [],
   "source": [
    "print(\"asldkhnaskjdhsakj\")"
   ]
  },
  {
   "cell_type": "code",
   "execution_count": null,
   "id": "bf2f6131",
   "metadata": {},
   "outputs": [],
   "source": [
    "# We call a logging function or the logger to acheive the same purpose\n",
    "# Whatever we log we try to store it in some kind of databases, maybe in file system"
   ]
  },
  {
   "cell_type": "code",
   "execution_count": null,
   "id": "1f6ae332",
   "metadata": {},
   "outputs": [],
   "source": [
    "#ADVANTAGE OF LOGGING:\n",
    "\n",
    "#Logging will always give us flexibility on what has happened with my code and why my things has crashed or not working,it will give some kind of a function to another"
   ]
  },
  {
   "cell_type": "code",
   "execution_count": null,
   "id": "7d54ac0a",
   "metadata": {},
   "outputs": [],
   "source": [
    "#Logging is a way by which we will be able to keep track of error, debugging etc etc, incase if we are trying to do an investigation, it will be helpful for us"
   ]
  },
  {
   "cell_type": "code",
   "execution_count": null,
   "id": "f0fd4a12",
   "metadata": {},
   "outputs": [],
   "source": [
    "# Library\n",
    "import logging"
   ]
  },
  {
   "cell_type": "code",
   "execution_count": null,
   "id": "efc77049",
   "metadata": {},
   "outputs": [],
   "source": [
    "#Setting up logging\n",
    "#here we are trying to create a log file\n",
    "logging.basicConfig(filename = \"test.log\",level = logging.INFO)"
   ]
  },
  {
   "cell_type": "code",
   "execution_count": null,
   "id": "d9ed9797",
   "metadata": {},
   "outputs": [],
   "source": [
    "# Restart the kernel if you are not finding the info\n",
    "logging.info(\"This is my Info Log\")\n",
    "logging.warning(\"This is my warning log\")\n",
    "logging.error(\"This is my error log\")"
   ]
  },
  {
   "cell_type": "code",
   "execution_count": null,
   "id": "31d1a4e7",
   "metadata": {},
   "outputs": [],
   "source": [
    "# inorder to shutdown the logging\n",
    "\n",
    "logging.shutdown()"
   ]
  },
  {
   "cell_type": "code",
   "execution_count": null,
   "id": "556b8f75",
   "metadata": {},
   "outputs": [],
   "source": [
    "# it is not reflecting info log inside my system"
   ]
  },
  {
   "cell_type": "code",
   "execution_count": null,
   "id": "90ceb6ab",
   "metadata": {},
   "outputs": [],
   "source": [
    "pwd()"
   ]
  },
  {
   "cell_type": "code",
   "execution_count": null,
   "id": "a62ccd7d",
   "metadata": {},
   "outputs": [],
   "source": [
    "# Logging Level wise\n",
    "# This is differenet level of logging\n",
    "# Error log, critical log, warning log, info log, debug log\n",
    "# we will be able to store any kind of log any point of time"
   ]
  },
  {
   "cell_type": "code",
   "execution_count": null,
   "id": "4665b04f",
   "metadata": {},
   "outputs": [],
   "source": [
    "#Types of log which we will be able to create\n",
    "DEBUG\n",
    "INFO\n",
    "WARNING\n",
    "ERROR\n",
    "CRITICAL"
   ]
  },
  {
   "cell_type": "code",
   "execution_count": null,
   "id": "b706f327",
   "metadata": {},
   "outputs": [],
   "source": [
    "#Here we are getting date and time in this code\n",
    "import logging\n",
    "logging.basicConfig(filename = \"test2.log\", level = logging.DEBUG , format = \"%(asctime)s %(message)s\")"
   ]
  },
  {
   "cell_type": "code",
   "execution_count": null,
   "id": "68c4d144",
   "metadata": {},
   "outputs": [],
   "source": [
    "#Here we are trying to create a log for investigation and in investigation, we will not be able to complete unless\n",
    "#We are not aware about each and every information"
   ]
  },
  {
   "cell_type": "code",
   "execution_count": null,
   "id": "16709d9d",
   "metadata": {},
   "outputs": [],
   "source": [
    "logging.info(\"This is my info log\")\n",
    "logging.warning(\"This is my warning log\")\n",
    "logging.debug(\"This is my debug log\")"
   ]
  },
  {
   "cell_type": "code",
   "execution_count": null,
   "id": "a751c634",
   "metadata": {},
   "outputs": [],
   "source": [
    "# There are 2 different kinds of logs\n",
    "# now i would like to know which one is an error log, which one is an warning log etc etc, which one is an info log, which is an debug log"
   ]
  },
  {
   "cell_type": "code",
   "execution_count": null,
   "id": "1d0d1b24",
   "metadata": {},
   "outputs": [],
   "source": [
    "#Here we are getting date and time in this code, we wil get what kind of a log also we will get in the format\n",
    "import logging\n",
    "logging.basicConfig(filename = \"test2.log\", level = logging.DEBUG , format = \"%(asctime)s %(levelname)s %(message)s\")"
   ]
  },
  {
   "cell_type": "code",
   "execution_count": null,
   "id": "c17a245e",
   "metadata": {},
   "outputs": [],
   "source": [
    "logging.info(\"This is my info log\")\n",
    "logging.warning(\"This is my warning log\")\n",
    "logging.debug(\"This is my debug log\")"
   ]
  },
  {
   "cell_type": "code",
   "execution_count": null,
   "id": "d2cc8b62",
   "metadata": {},
   "outputs": [],
   "source": [
    "#NExt time instead of creating a print, we might have to create a logging function"
   ]
  },
  {
   "cell_type": "code",
   "execution_count": null,
   "id": "e90dc006",
   "metadata": {},
   "outputs": [],
   "source": [
    "# the above level which is set is a debug level"
   ]
  },
  {
   "cell_type": "code",
   "execution_count": null,
   "id": "8a882ae2",
   "metadata": {},
   "outputs": [],
   "source": [
    "#Same thing but error level\n",
    "import logging\n",
    "logging.basicConfig(filename = \"test2.log\", level = logging.ERROR , format = \"%(asctime)s %(levelname)s %(message)s\")"
   ]
  },
  {
   "cell_type": "code",
   "execution_count": null,
   "id": "550847fd",
   "metadata": {},
   "outputs": [],
   "source": [
    "logging.info(\"This is my info log\")\n",
    "logging.warning(\"This is my warning log\")\n",
    "logging.debug(\"This is my debug log\")\n",
    "logging.error(\"This is my error log\")\n",
    "#we cannot see the the info, warning and debug, we are considering error"
   ]
  },
  {
   "cell_type": "code",
   "execution_count": null,
   "id": "abae9f27",
   "metadata": {},
   "outputs": [],
   "source": [
    "# Error is a top priority log\n",
    "\n",
    "# PRIORITY OF LOGS :\n",
    "\n",
    "# ERROR LOG = Top Priority\n",
    "# WARNING LOG = 2nd Priority\n",
    "# INFO LOG = 3rd Priority\n",
    "# DEBUG LOG = 4th Priority"
   ]
  },
  {
   "cell_type": "code",
   "execution_count": null,
   "id": "afe37746",
   "metadata": {},
   "outputs": [],
   "source": [
    "#if you have set the high priority, it will always prioritize the high priority one and try to give a solution\n",
    "#if you have set low priority, it will always try to call everything within the highpriority one."
   ]
  },
  {
   "cell_type": "code",
   "execution_count": null,
   "id": "753a557b",
   "metadata": {},
   "outputs": [],
   "source": [
    "#Here we are getting date and time in this code, we wil get what kind of a log also we will get in the format\n",
    "import logging\n",
    "logging.basicConfig(filename = \"test2.log\", level = logging.DEBUG , format = \"%(asctime)s %(levelname)s %(message)s\")"
   ]
  },
  {
   "cell_type": "code",
   "execution_count": null,
   "id": "acef80c3",
   "metadata": {},
   "outputs": [],
   "source": [
    "logging.info(\"This is my info log\")\n",
    "logging.warning(\"This is my warning log\")\n",
    "logging.debug(\"This is my debug log\")\n",
    "logging.error(\"This is my error log\")"
   ]
  },
  {
   "cell_type": "code",
   "execution_count": null,
   "id": "88b5a87e",
   "metadata": {},
   "outputs": [],
   "source": [
    "#I have a leverage or flexibility to set Logging."
   ]
  },
  {
   "cell_type": "code",
   "execution_count": null,
   "id": "b6587866",
   "metadata": {},
   "outputs": [],
   "source": [
    "# SIMPLE PROGRAM WHERE WE ARE GOING TO USE LOG AND FILE ALL THE LOG"
   ]
  },
  {
   "cell_type": "code",
   "execution_count": 1,
   "id": "ac057d32",
   "metadata": {},
   "outputs": [],
   "source": [
    "import logging\n",
    "logging.basicConfig(filename = \"test3.log\", level = logging.DEBUG , format = \"%(asctime)s %(levelname)s %(message)s\")"
   ]
  },
  {
   "cell_type": "code",
   "execution_count": 2,
   "id": "c1ea412c",
   "metadata": {},
   "outputs": [],
   "source": [
    "def divbyzero(a,b) :\n",
    "    \"\"\"This function will do division of two integer\"\"\"\n",
    "    logging.info(\"This is the start of my code and i am trying to enter %s and %s\", a, b) #  %s this is the place holder\n",
    "    try :\n",
    "        div = a/b\n",
    "        logging.info(\"Executed Successfully\")\n",
    "    except Exception as e :\n",
    "        logging.error(\"Error has happened\")\n",
    "        logging.exception(\"Exception occured\" + str(e))"
   ]
  },
  {
   "cell_type": "code",
   "execution_count": 3,
   "id": "2c4b85bb",
   "metadata": {},
   "outputs": [],
   "source": [
    "divbyzero(4,5)"
   ]
  },
  {
   "cell_type": "code",
   "execution_count": 4,
   "id": "5302ff67",
   "metadata": {},
   "outputs": [],
   "source": [
    "divbyzero(4,0)"
   ]
  },
  {
   "cell_type": "code",
   "execution_count": null,
   "id": "4b9089ec",
   "metadata": {},
   "outputs": [],
   "source": [
    "#Why logging?"
   ]
  }
 ],
 "metadata": {
  "kernelspec": {
   "display_name": "Python 3",
   "language": "python",
   "name": "python3"
  },
  "language_info": {
   "codemirror_mode": {
    "name": "ipython",
    "version": 3
   },
   "file_extension": ".py",
   "mimetype": "text/x-python",
   "name": "python",
   "nbconvert_exporter": "python",
   "pygments_lexer": "ipython3",
   "version": "3.8.8"
  }
 },
 "nbformat": 4,
 "nbformat_minor": 5
}
