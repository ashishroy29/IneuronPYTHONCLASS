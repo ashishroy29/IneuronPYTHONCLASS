{
 "cells": [
  {
   "cell_type": "markdown",
   "id": "41991bea",
   "metadata": {},
   "source": [
    "### There is another type of collection we all can create that is tuple"
   ]
  },
  {
   "cell_type": "markdown",
   "id": "4f5244ac",
   "metadata": {},
   "source": [
    "- What is tuple?\n",
    "- how it is going to work and what kind of data you can store inside a tuple.\n",
    "- What kind of a data manipulation we can perform in terms/respect of tuple\n",
    "- It is like a list but not exactly a list"
   ]
  },
  {
   "cell_type": "markdown",
   "id": "9980351a",
   "metadata": {},
   "source": [
    "#### It is a type collection of datatype where we will be able to hold multiple elements, and the notation is curly brackets ()"
   ]
  },
  {
   "cell_type": "code",
   "execution_count": 1,
   "id": "882e8aff",
   "metadata": {},
   "outputs": [],
   "source": [
    "t = (1,2,3,4,5)"
   ]
  },
  {
   "cell_type": "code",
   "execution_count": 2,
   "id": "d92ed243",
   "metadata": {},
   "outputs": [
    {
     "data": {
      "text/plain": [
       "tuple"
      ]
     },
     "execution_count": 2,
     "metadata": {},
     "output_type": "execute_result"
    }
   ],
   "source": [
    "type(t)"
   ]
  },
  {
   "cell_type": "code",
   "execution_count": 3,
   "id": "aec04005",
   "metadata": {},
   "outputs": [],
   "source": [
    "t1 = (\"Ashish\", 345, 45+8j, 535.43,True) #Tuple"
   ]
  },
  {
   "cell_type": "code",
   "execution_count": 4,
   "id": "80ce3a03",
   "metadata": {},
   "outputs": [],
   "source": [
    "l = [\"Ashish\", 345, 45+8j, 535.43,True] #List"
   ]
  },
  {
   "cell_type": "code",
   "execution_count": 5,
   "id": "ff841bec",
   "metadata": {},
   "outputs": [
    {
     "data": {
      "text/plain": [
       "list"
      ]
     },
     "execution_count": 5,
     "metadata": {},
     "output_type": "execute_result"
    }
   ],
   "source": [
    "type(l)"
   ]
  },
  {
   "cell_type": "code",
   "execution_count": 6,
   "id": "1849403f",
   "metadata": {},
   "outputs": [],
   "source": [
    "#### 1st Difference is that each of these elements are represented by different brackets"
   ]
  },
  {
   "cell_type": "code",
   "execution_count": 7,
   "id": "e7338419",
   "metadata": {},
   "outputs": [],
   "source": [
    "t2 = ()"
   ]
  },
  {
   "cell_type": "code",
   "execution_count": 8,
   "id": "a958b376",
   "metadata": {},
   "outputs": [
    {
     "data": {
      "text/plain": [
       "tuple"
      ]
     },
     "execution_count": 8,
     "metadata": {},
     "output_type": "execute_result"
    }
   ],
   "source": [
    "type(t2)"
   ]
  },
  {
   "cell_type": "code",
   "execution_count": 9,
   "id": "5fd97e7e",
   "metadata": {},
   "outputs": [
    {
     "data": {
      "text/plain": [
       "['Ashish', 345, (45+8j), 535.43, True]"
      ]
     },
     "execution_count": 9,
     "metadata": {},
     "output_type": "execute_result"
    }
   ],
   "source": [
    "l"
   ]
  },
  {
   "cell_type": "code",
   "execution_count": 10,
   "id": "6aacad21",
   "metadata": {},
   "outputs": [
    {
     "data": {
      "text/plain": [
       "['Ashish', 345]"
      ]
     },
     "execution_count": 10,
     "metadata": {},
     "output_type": "execute_result"
    }
   ],
   "source": [
    "l[0:2] #interms of slicing we need to use square bracket, just in terms of notation"
   ]
  },
  {
   "cell_type": "code",
   "execution_count": 11,
   "id": "40535831",
   "metadata": {},
   "outputs": [
    {
     "data": {
      "text/plain": [
       "('Ashish', 345)"
      ]
     },
     "execution_count": 11,
     "metadata": {},
     "output_type": "execute_result"
    }
   ],
   "source": [
    "t1[0:2] #interms of slicing we need to use square bracket, just in terms of notation"
   ]
  },
  {
   "cell_type": "code",
   "execution_count": 12,
   "id": "2025bf78",
   "metadata": {},
   "outputs": [
    {
     "data": {
      "text/plain": [
       "(True, 535.43, (45+8j), 345, 'Ashish')"
      ]
     },
     "execution_count": 12,
     "metadata": {},
     "output_type": "execute_result"
    }
   ],
   "source": [
    "t1[::-1] #in reverse order"
   ]
  },
  {
   "cell_type": "code",
   "execution_count": 13,
   "id": "6abbd7ac",
   "metadata": {},
   "outputs": [
    {
     "data": {
      "text/plain": [
       "True"
      ]
     },
     "execution_count": 13,
     "metadata": {},
     "output_type": "execute_result"
    }
   ],
   "source": [
    "t1[-1]"
   ]
  },
  {
   "cell_type": "code",
   "execution_count": 14,
   "id": "f2fbed39",
   "metadata": {},
   "outputs": [
    {
     "data": {
      "text/plain": [
       "('Ashish', 345, (45+8j), 535.43, True)"
      ]
     },
     "execution_count": 14,
     "metadata": {},
     "output_type": "execute_result"
    }
   ],
   "source": [
    "t1"
   ]
  },
  {
   "cell_type": "code",
   "execution_count": 15,
   "id": "f214662c",
   "metadata": {},
   "outputs": [
    {
     "data": {
      "text/plain": [
       "('Ashish', (45+8j), True)"
      ]
     },
     "execution_count": 15,
     "metadata": {},
     "output_type": "execute_result"
    }
   ],
   "source": [
    "t1[0::2]"
   ]
  },
  {
   "cell_type": "markdown",
   "id": "b9cf0582",
   "metadata": {},
   "source": [
    "#### How list and tuples are different"
   ]
  },
  {
   "cell_type": "code",
   "execution_count": 16,
   "id": "1f85b06f",
   "metadata": {},
   "outputs": [
    {
     "data": {
      "text/plain": [
       "['Ashish', 345, (45+8j), 535.43, True]"
      ]
     },
     "execution_count": 16,
     "metadata": {},
     "output_type": "execute_result"
    }
   ],
   "source": [
    "l"
   ]
  },
  {
   "cell_type": "code",
   "execution_count": 17,
   "id": "7d85bdd1",
   "metadata": {},
   "outputs": [],
   "source": [
    "l1 = [4,5,6,7]"
   ]
  },
  {
   "cell_type": "code",
   "execution_count": 19,
   "id": "66b03e02",
   "metadata": {},
   "outputs": [],
   "source": [
    "l[0] = 'kumar'"
   ]
  },
  {
   "cell_type": "code",
   "execution_count": 20,
   "id": "55e04216",
   "metadata": {},
   "outputs": [
    {
     "data": {
      "text/plain": [
       "['kumar', 345, (45+8j), 535.43, True]"
      ]
     },
     "execution_count": 20,
     "metadata": {},
     "output_type": "execute_result"
    }
   ],
   "source": [
    "l"
   ]
  },
  {
   "cell_type": "code",
   "execution_count": 23,
   "id": "9315d6ca",
   "metadata": {},
   "outputs": [
    {
     "ename": "TypeError",
     "evalue": "'tuple' object does not support item assignment",
     "output_type": "error",
     "traceback": [
      "\u001b[1;31m---------------------------------------------------------------------------\u001b[0m",
      "\u001b[1;31mTypeError\u001b[0m                                 Traceback (most recent call last)",
      "\u001b[1;32m<ipython-input-23-b2b7b99c681d>\u001b[0m in \u001b[0;36m<module>\u001b[1;34m\u001b[0m\n\u001b[1;32m----> 1\u001b[1;33m \u001b[0mt1\u001b[0m\u001b[1;33m[\u001b[0m\u001b[1;36m0\u001b[0m\u001b[1;33m]\u001b[0m \u001b[1;33m=\u001b[0m \u001b[1;34m'zyz'\u001b[0m\u001b[1;33m\u001b[0m\u001b[1;33m\u001b[0m\u001b[0m\n\u001b[0m",
      "\u001b[1;31mTypeError\u001b[0m: 'tuple' object does not support item assignment"
     ]
    }
   ],
   "source": [
    "t1[0] = 'zyz' #tuple doesnot support item assignment"
   ]
  },
  {
   "cell_type": "markdown",
   "id": "a7178ddc",
   "metadata": {},
   "source": [
    "### Tuples is nothing but immutable collection, It does not support item assignment"
   ]
  },
  {
   "cell_type": "code",
   "execution_count": 26,
   "id": "2659d09d",
   "metadata": {},
   "outputs": [],
   "source": [
    "a = 'ashi'"
   ]
  },
  {
   "cell_type": "code",
   "execution_count": 29,
   "id": "34a31794",
   "metadata": {},
   "outputs": [
    {
     "ename": "TypeError",
     "evalue": "'str' object does not support item assignment",
     "output_type": "error",
     "traceback": [
      "\u001b[1;31m---------------------------------------------------------------------------\u001b[0m",
      "\u001b[1;31mTypeError\u001b[0m                                 Traceback (most recent call last)",
      "\u001b[1;32m<ipython-input-29-656fd04b67cb>\u001b[0m in \u001b[0;36m<module>\u001b[1;34m\u001b[0m\n\u001b[1;32m----> 1\u001b[1;33m \u001b[0ma\u001b[0m\u001b[1;33m[\u001b[0m\u001b[1;36m0\u001b[0m\u001b[1;33m]\u001b[0m \u001b[1;33m=\u001b[0m \u001b[1;34m'b'\u001b[0m\u001b[1;33m\u001b[0m\u001b[1;33m\u001b[0m\u001b[0m\n\u001b[0m",
      "\u001b[1;31mTypeError\u001b[0m: 'str' object does not support item assignment"
     ]
    }
   ],
   "source": [
    "a[0] = 'b'"
   ]
  },
  {
   "cell_type": "code",
   "execution_count": 30,
   "id": "a70531ae",
   "metadata": {},
   "outputs": [],
   "source": [
    "#In tuples it wont work at all,they are immutable objects"
   ]
  },
  {
   "cell_type": "code",
   "execution_count": 32,
   "id": "0a2bd75c",
   "metadata": {},
   "outputs": [
    {
     "data": {
      "text/plain": [
       "('Ashish', 345, (45+8j), 535.43, True)"
      ]
     },
     "execution_count": 32,
     "metadata": {},
     "output_type": "execute_result"
    }
   ],
   "source": [
    "t1"
   ]
  },
  {
   "cell_type": "code",
   "execution_count": 33,
   "id": "dd3f6306",
   "metadata": {},
   "outputs": [],
   "source": [
    "t2 = (23,34,5,67,7)"
   ]
  },
  {
   "cell_type": "code",
   "execution_count": 35,
   "id": "5c3a2994",
   "metadata": {},
   "outputs": [
    {
     "data": {
      "text/plain": [
       "('Ashish', 345, (45+8j), 535.43, True, 23, 34, 5, 67, 7)"
      ]
     },
     "execution_count": 35,
     "metadata": {},
     "output_type": "execute_result"
    }
   ],
   "source": [
    "t1+t2 #here it is just concatinating (this is something kind of a append operation)"
   ]
  },
  {
   "cell_type": "code",
   "execution_count": 37,
   "id": "0e891fe5",
   "metadata": {},
   "outputs": [
    {
     "data": {
      "text/plain": [
       "['kumar', 345, (45+8j), 535.43, True, 4, 5, 6, 7]"
      ]
     },
     "execution_count": 37,
     "metadata": {},
     "output_type": "execute_result"
    }
   ],
   "source": [
    "l+l1"
   ]
  },
  {
   "cell_type": "code",
   "execution_count": 38,
   "id": "4c795862",
   "metadata": {},
   "outputs": [
    {
     "data": {
      "text/plain": [
       "('Ashish', 345, (45+8j), 535.43, True)"
      ]
     },
     "execution_count": 38,
     "metadata": {},
     "output_type": "execute_result"
    }
   ],
   "source": [
    "t1"
   ]
  },
  {
   "cell_type": "code",
   "execution_count": 39,
   "id": "eaae723e",
   "metadata": {},
   "outputs": [
    {
     "data": {
      "text/plain": [
       "('Ashish', 345, (45+8j), 535.43, True, 'Ashish', 345, (45+8j), 535.43, True)"
      ]
     },
     "execution_count": 39,
     "metadata": {},
     "output_type": "execute_result"
    }
   ],
   "source": [
    "t1*2"
   ]
  },
  {
   "cell_type": "code",
   "execution_count": 40,
   "id": "4330a884",
   "metadata": {},
   "outputs": [
    {
     "data": {
      "text/plain": [
       "('Ashish', 345, (45+8j), 535.43, True)"
      ]
     },
     "execution_count": 40,
     "metadata": {},
     "output_type": "execute_result"
    }
   ],
   "source": [
    "t1"
   ]
  },
  {
   "cell_type": "code",
   "execution_count": 45,
   "id": "8cc022f6",
   "metadata": {},
   "outputs": [
    {
     "data": {
      "text/plain": [
       "1"
      ]
     },
     "execution_count": 45,
     "metadata": {},
     "output_type": "execute_result"
    }
   ],
   "source": [
    "t1.count('Ashish') #there is only count and Index operation because of its immutable property"
   ]
  },
  {
   "cell_type": "code",
   "execution_count": 51,
   "id": "1008110d",
   "metadata": {},
   "outputs": [
    {
     "data": {
      "text/plain": [
       "0"
      ]
     },
     "execution_count": 51,
     "metadata": {},
     "output_type": "execute_result"
    }
   ],
   "source": [
    "l.index('kumar') #it is going to tell me the number of occurances of a particualr collection"
   ]
  },
  {
   "cell_type": "code",
   "execution_count": 48,
   "id": "bc4c3d95",
   "metadata": {},
   "outputs": [
    {
     "data": {
      "text/plain": [
       "['kumar', 345, (45+8j), 535.43, True]"
      ]
     },
     "execution_count": 48,
     "metadata": {},
     "output_type": "execute_result"
    }
   ],
   "source": [
    "l"
   ]
  },
  {
   "cell_type": "code",
   "execution_count": 54,
   "id": "aeb11335",
   "metadata": {},
   "outputs": [
    {
     "data": {
      "text/plain": [
       "0"
      ]
     },
     "execution_count": 54,
     "metadata": {},
     "output_type": "execute_result"
    }
   ],
   "source": [
    "t1.index('Ashish') #it basically tells us the first occurance of any elements inside a collection"
   ]
  },
  {
   "cell_type": "markdown",
   "id": "eab291a6",
   "metadata": {},
   "source": [
    "# when do we use tuples?\n",
    "# when do we use list?"
   ]
  },
  {
   "cell_type": "markdown",
   "id": "5ad00114",
   "metadata": {},
   "source": [
    "- For data security, wherever we need to create an element \n",
    "- Where someone will not be able to access, in that case we use tuples"
   ]
  },
  {
   "cell_type": "markdown",
   "id": "604f1256",
   "metadata": {},
   "source": [
    "## Example ::\n",
    "\n",
    "Gmail Account, Facebook, applications etc\n",
    "\n",
    "we keep on changing password, if we dont want anyone to access any location and change it we use tuples so that no one will be able to change it any point of a time"
   ]
  },
  {
   "cell_type": "code",
   "execution_count": 57,
   "id": "c117f793",
   "metadata": {},
   "outputs": [],
   "source": [
    "# Anywhere where we have a fixed size of collections, that is called as tuples, because it never supports append, expand etc"
   ]
  },
  {
   "cell_type": "code",
   "execution_count": 58,
   "id": "26ae51e1",
   "metadata": {},
   "outputs": [],
   "source": [
    "t = (34,34,54,67,8,8,3,(1,2,3,4),'Ashi')"
   ]
  },
  {
   "cell_type": "code",
   "execution_count": 61,
   "id": "d5ea5377",
   "metadata": {},
   "outputs": [
    {
     "data": {
      "text/plain": [
       "tuple"
      ]
     },
     "execution_count": 61,
     "metadata": {},
     "output_type": "execute_result"
    }
   ],
   "source": [
    "type(t) # the above is called as nested tuple and it is possible to do so"
   ]
  },
  {
   "cell_type": "code",
   "execution_count": 62,
   "id": "a2cb969a",
   "metadata": {},
   "outputs": [],
   "source": [
    "t1 = ([1,2,3,4,5], ('Sd',56,4),'Sda')"
   ]
  },
  {
   "cell_type": "code",
   "execution_count": 64,
   "id": "aab6598e",
   "metadata": {},
   "outputs": [
    {
     "data": {
      "text/plain": [
       "3"
      ]
     },
     "execution_count": 64,
     "metadata": {},
     "output_type": "execute_result"
    }
   ],
   "source": [
    "t1[0][2]"
   ]
  },
  {
   "cell_type": "code",
   "execution_count": 66,
   "id": "8b53b4a6",
   "metadata": {},
   "outputs": [
    {
     "data": {
      "text/plain": [
       "'Sd'"
      ]
     },
     "execution_count": 66,
     "metadata": {},
     "output_type": "execute_result"
    }
   ],
   "source": [
    "t1[1][0]"
   ]
  },
  {
   "cell_type": "code",
   "execution_count": 67,
   "id": "3c108cb3",
   "metadata": {},
   "outputs": [],
   "source": [
    "t1[0][2] = 'Ashi'"
   ]
  },
  {
   "cell_type": "code",
   "execution_count": 68,
   "id": "84caf9c4",
   "metadata": {},
   "outputs": [
    {
     "data": {
      "text/plain": [
       "([1, 2, 'Ashi', 4, 5], ('Sd', 56, 4), 'Sda')"
      ]
     },
     "execution_count": 68,
     "metadata": {},
     "output_type": "execute_result"
    }
   ],
   "source": [
    "t1"
   ]
  },
  {
   "cell_type": "code",
   "execution_count": 71,
   "id": "c4a39acd",
   "metadata": {},
   "outputs": [],
   "source": [
    "# so we can change list elements inside of a tuple, there is no chance to change tuples.\n",
    "# List is a mutuable entity, tuple is immutable entity\n",
    "# Immutability means you cannot change at a particular index"
   ]
  },
  {
   "cell_type": "code",
   "execution_count": 73,
   "id": "8a8cafa5",
   "metadata": {},
   "outputs": [
    {
     "ename": "TypeError",
     "evalue": "'tuple' object does not support item assignment",
     "output_type": "error",
     "traceback": [
      "\u001b[1;31m---------------------------------------------------------------------------\u001b[0m",
      "\u001b[1;31mTypeError\u001b[0m                                 Traceback (most recent call last)",
      "\u001b[1;32m<ipython-input-73-538f8ada0dcd>\u001b[0m in \u001b[0;36m<module>\u001b[1;34m\u001b[0m\n\u001b[1;32m----> 1\u001b[1;33m \u001b[0mt1\u001b[0m\u001b[1;33m[\u001b[0m\u001b[1;36m0\u001b[0m\u001b[1;33m]\u001b[0m \u001b[1;33m=\u001b[0m \u001b[1;34m'1as'\u001b[0m\u001b[1;33m\u001b[0m\u001b[1;33m\u001b[0m\u001b[0m\n\u001b[0m",
      "\u001b[1;31mTypeError\u001b[0m: 'tuple' object does not support item assignment"
     ]
    }
   ],
   "source": [
    "t1[0] = '1as'"
   ]
  },
  {
   "cell_type": "code",
   "execution_count": 74,
   "id": "809da2d8",
   "metadata": {},
   "outputs": [
    {
     "data": {
      "text/plain": [
       "[1, 2, 'Ashi', 4, 5]"
      ]
     },
     "execution_count": 74,
     "metadata": {},
     "output_type": "execute_result"
    }
   ],
   "source": [
    "t1[0]"
   ]
  },
  {
   "cell_type": "code",
   "execution_count": 76,
   "id": "9f505056",
   "metadata": {},
   "outputs": [
    {
     "ename": "TypeError",
     "evalue": "'tuple' object does not support item assignment",
     "output_type": "error",
     "traceback": [
      "\u001b[1;31m---------------------------------------------------------------------------\u001b[0m",
      "\u001b[1;31mTypeError\u001b[0m                                 Traceback (most recent call last)",
      "\u001b[1;32m<ipython-input-76-3ef5538f7df6>\u001b[0m in \u001b[0;36m<module>\u001b[1;34m\u001b[0m\n\u001b[1;32m----> 1\u001b[1;33m \u001b[0mt1\u001b[0m\u001b[1;33m[\u001b[0m\u001b[1;36m1\u001b[0m\u001b[1;33m]\u001b[0m\u001b[1;33m[\u001b[0m\u001b[1;36m0\u001b[0m\u001b[1;33m]\u001b[0m \u001b[1;33m=\u001b[0m \u001b[1;34m'1as'\u001b[0m\u001b[1;33m\u001b[0m\u001b[1;33m\u001b[0m\u001b[0m\n\u001b[0m",
      "\u001b[1;31mTypeError\u001b[0m: 'tuple' object does not support item assignment"
     ]
    }
   ],
   "source": [
    "t1[1][0] = '1as'"
   ]
  },
  {
   "cell_type": "code",
   "execution_count": 77,
   "id": "91038e91",
   "metadata": {},
   "outputs": [],
   "source": [
    "#if datatype is same only then we can do the operations"
   ]
  },
  {
   "cell_type": "code",
   "execution_count": 78,
   "id": "156a9729",
   "metadata": {},
   "outputs": [],
   "source": [
    "t1 = (334,43,43,43,34,3,434)"
   ]
  },
  {
   "cell_type": "code",
   "execution_count": 79,
   "id": "75a00390",
   "metadata": {},
   "outputs": [
    {
     "data": {
      "text/plain": [
       "[334, 43, 43, 43, 34, 3, 434]"
      ]
     },
     "execution_count": 79,
     "metadata": {},
     "output_type": "execute_result"
    }
   ],
   "source": [
    "list(t1)"
   ]
  },
  {
   "cell_type": "code",
   "execution_count": 80,
   "id": "e2afaddb",
   "metadata": {},
   "outputs": [
    {
     "data": {
      "text/plain": [
       "(334, 43, 43, 43, 34, 3, 434)"
      ]
     },
     "execution_count": 80,
     "metadata": {},
     "output_type": "execute_result"
    }
   ],
   "source": [
    "tuple(t1)"
   ]
  },
  {
   "cell_type": "code",
   "execution_count": 81,
   "id": "fdf476c8",
   "metadata": {},
   "outputs": [],
   "source": [
    "# list to tuples and tuples to list is always possible"
   ]
  },
  {
   "cell_type": "markdown",
   "id": "25e54284",
   "metadata": {},
   "source": [
    "# SET "
   ]
  },
  {
   "cell_type": "markdown",
   "id": "27f80286",
   "metadata": {},
   "source": [
    "- It is a set of collection.\n",
    "- what is set and how is it different from others"
   ]
  },
  {
   "cell_type": "code",
   "execution_count": 82,
   "id": "acd40c8d",
   "metadata": {},
   "outputs": [],
   "source": [
    "#it is another type of collection"
   ]
  },
  {
   "cell_type": "code",
   "execution_count": 86,
   "id": "963f3fe2",
   "metadata": {},
   "outputs": [],
   "source": [
    "l = [1,2,3,4,5,56,3,4,45,5,6,67,7,8,4,34,3,3,2]"
   ]
  },
  {
   "cell_type": "code",
   "execution_count": 84,
   "id": "bd65f03e",
   "metadata": {},
   "outputs": [
    {
     "data": {
      "text/plain": [
       "{1, 2, 3, 4, 5, 6, 7, 8, 34, 45, 56, 67}"
      ]
     },
     "execution_count": 84,
     "metadata": {},
     "output_type": "execute_result"
    }
   ],
   "source": [
    "##can you please try remove duplicate element\n",
    "## here we can see that we were able to remove all the duplicates\n",
    "set(l)"
   ]
  },
  {
   "cell_type": "code",
   "execution_count": 87,
   "id": "47b88801",
   "metadata": {},
   "outputs": [],
   "source": [
    "#Set is a collection which will try to remove all the duplicate element by itself"
   ]
  },
  {
   "cell_type": "code",
   "execution_count": 89,
   "id": "f3c0b547",
   "metadata": {},
   "outputs": [],
   "source": [
    "## Creating a set\n",
    "s = {}"
   ]
  },
  {
   "cell_type": "code",
   "execution_count": 90,
   "id": "8ce6b7d7",
   "metadata": {},
   "outputs": [
    {
     "data": {
      "text/plain": [
       "dict"
      ]
     },
     "execution_count": 90,
     "metadata": {},
     "output_type": "execute_result"
    }
   ],
   "source": [
    "type(s)"
   ]
  },
  {
   "cell_type": "code",
   "execution_count": 91,
   "id": "b36a02c5",
   "metadata": {},
   "outputs": [],
   "source": [
    "s1 = {2,3,4}"
   ]
  },
  {
   "cell_type": "code",
   "execution_count": 92,
   "id": "eb98e13f",
   "metadata": {},
   "outputs": [
    {
     "data": {
      "text/plain": [
       "set"
      ]
     },
     "execution_count": 92,
     "metadata": {},
     "output_type": "execute_result"
    }
   ],
   "source": [
    "type(s1)"
   ]
  },
  {
   "cell_type": "code",
   "execution_count": 93,
   "id": "f9b48a9f",
   "metadata": {},
   "outputs": [],
   "source": [
    "#When we have not used any kind of an element and we have used only curly bracket(it is a Dictionary)\n",
    "#When we have used curly bracket and we have some unique Non duplicate element its called as set"
   ]
  },
  {
   "cell_type": "code",
   "execution_count": 119,
   "id": "096b2ce3",
   "metadata": {},
   "outputs": [],
   "source": [
    "s2 = {1,1,2,2,23,2,3,4,4,4,4,4,}"
   ]
  },
  {
   "cell_type": "code",
   "execution_count": 108,
   "id": "806e0763",
   "metadata": {},
   "outputs": [
    {
     "data": {
      "text/plain": [
       "{1, 2, 3, 4, 23}"
      ]
     },
     "execution_count": 108,
     "metadata": {},
     "output_type": "execute_result"
    }
   ],
   "source": [
    "s2 #By default it is removing a duplicate element, because it is the property of set"
   ]
  },
  {
   "cell_type": "code",
   "execution_count": 109,
   "id": "55c477e0",
   "metadata": {},
   "outputs": [
    {
     "data": {
      "text/plain": [
       "set"
      ]
     },
     "execution_count": 109,
     "metadata": {},
     "output_type": "execute_result"
    }
   ],
   "source": [
    "type(s2)"
   ]
  },
  {
   "cell_type": "code",
   "execution_count": 110,
   "id": "1a3d2b88",
   "metadata": {},
   "outputs": [
    {
     "ename": "TypeError",
     "evalue": "'set' object is not subscriptable",
     "output_type": "error",
     "traceback": [
      "\u001b[1;31m---------------------------------------------------------------------------\u001b[0m",
      "\u001b[1;31mTypeError\u001b[0m                                 Traceback (most recent call last)",
      "\u001b[1;32m<ipython-input-110-ab7c8e26b0d3>\u001b[0m in \u001b[0;36m<module>\u001b[1;34m\u001b[0m\n\u001b[1;32m----> 1\u001b[1;33m \u001b[0ms2\u001b[0m\u001b[1;33m[\u001b[0m\u001b[1;36m0\u001b[0m\u001b[1;33m]\u001b[0m\u001b[1;33m\u001b[0m\u001b[1;33m\u001b[0m\u001b[0m\n\u001b[0m",
      "\u001b[1;31mTypeError\u001b[0m: 'set' object is not subscriptable"
     ]
    }
   ],
   "source": [
    "s2[0]"
   ]
  },
  {
   "cell_type": "code",
   "execution_count": 111,
   "id": "2f59a550",
   "metadata": {},
   "outputs": [],
   "source": [
    "#slicing is not allowed in set, it is a unordered collection, it is not possible to get any indexes"
   ]
  },
  {
   "cell_type": "code",
   "execution_count": 114,
   "id": "a4bb1222",
   "metadata": {},
   "outputs": [],
   "source": [
    "s2 = list(s2)"
   ]
  },
  {
   "cell_type": "code",
   "execution_count": 116,
   "id": "b754cc0b",
   "metadata": {},
   "outputs": [
    {
     "data": {
      "text/plain": [
       "[1, 2, 3, 4, 23]"
      ]
     },
     "execution_count": 116,
     "metadata": {},
     "output_type": "execute_result"
    }
   ],
   "source": [
    "s2"
   ]
  },
  {
   "cell_type": "code",
   "execution_count": 117,
   "id": "302c9e6b",
   "metadata": {},
   "outputs": [
    {
     "data": {
      "text/plain": [
       "2"
      ]
     },
     "execution_count": 117,
     "metadata": {},
     "output_type": "execute_result"
    }
   ],
   "source": [
    "s2[1]"
   ]
  },
  {
   "cell_type": "code",
   "execution_count": 120,
   "id": "69ea96b7",
   "metadata": {},
   "outputs": [
    {
     "data": {
      "text/plain": [
       "{1, 2, 3, 4, 23}"
      ]
     },
     "execution_count": 120,
     "metadata": {},
     "output_type": "execute_result"
    }
   ],
   "source": [
    "s2"
   ]
  },
  {
   "cell_type": "code",
   "execution_count": 121,
   "id": "6bb1188f",
   "metadata": {},
   "outputs": [],
   "source": [
    "s2.add(122324) #adding few elements into the system"
   ]
  },
  {
   "cell_type": "code",
   "execution_count": 122,
   "id": "83a4df3c",
   "metadata": {},
   "outputs": [
    {
     "data": {
      "text/plain": [
       "{1, 2, 3, 4, 23, 122324}"
      ]
     },
     "execution_count": 122,
     "metadata": {},
     "output_type": "execute_result"
    }
   ],
   "source": [
    "s2"
   ]
  },
  {
   "cell_type": "code",
   "execution_count": 123,
   "id": "c8a6bec3",
   "metadata": {},
   "outputs": [],
   "source": [
    "s2.add(23232)"
   ]
  },
  {
   "cell_type": "code",
   "execution_count": 124,
   "id": "058dc95c",
   "metadata": {},
   "outputs": [
    {
     "data": {
      "text/plain": [
       "{1, 2, 3, 4, 23, 23232, 122324}"
      ]
     },
     "execution_count": 124,
     "metadata": {},
     "output_type": "execute_result"
    }
   ],
   "source": [
    "s2"
   ]
  },
  {
   "cell_type": "code",
   "execution_count": 125,
   "id": "11a078a1",
   "metadata": {},
   "outputs": [],
   "source": [
    "s2.add(\"asds\")"
   ]
  },
  {
   "cell_type": "code",
   "execution_count": 126,
   "id": "52143fc0",
   "metadata": {},
   "outputs": [
    {
     "data": {
      "text/plain": [
       "{1, 122324, 2, 23, 23232, 3, 4, 'asds'}"
      ]
     },
     "execution_count": 126,
     "metadata": {},
     "output_type": "execute_result"
    }
   ],
   "source": [
    "s2"
   ]
  },
  {
   "cell_type": "code",
   "execution_count": 127,
   "id": "cb305f2d",
   "metadata": {},
   "outputs": [],
   "source": [
    "s2.add('asds')"
   ]
  },
  {
   "cell_type": "code",
   "execution_count": 128,
   "id": "85216d19",
   "metadata": {},
   "outputs": [
    {
     "data": {
      "text/plain": [
       "{1, 122324, 2, 23, 23232, 3, 4, 'asds'}"
      ]
     },
     "execution_count": 128,
     "metadata": {},
     "output_type": "execute_result"
    }
   ],
   "source": [
    "s2"
   ]
  },
  {
   "cell_type": "code",
   "execution_count": 129,
   "id": "31f54752",
   "metadata": {},
   "outputs": [
    {
     "ename": "TypeError",
     "evalue": "unhashable type: 'list'",
     "output_type": "error",
     "traceback": [
      "\u001b[1;31m---------------------------------------------------------------------------\u001b[0m",
      "\u001b[1;31mTypeError\u001b[0m                                 Traceback (most recent call last)",
      "\u001b[1;32m<ipython-input-129-187f773fee94>\u001b[0m in \u001b[0;36m<module>\u001b[1;34m\u001b[0m\n\u001b[1;32m----> 1\u001b[1;33m \u001b[0ms2\u001b[0m\u001b[1;33m.\u001b[0m\u001b[0madd\u001b[0m\u001b[1;33m(\u001b[0m\u001b[1;33m[\u001b[0m\u001b[1;36m1\u001b[0m\u001b[1;33m,\u001b[0m\u001b[1;36m2\u001b[0m\u001b[1;33m,\u001b[0m\u001b[1;36m3\u001b[0m\u001b[1;33m,\u001b[0m\u001b[1;36m4\u001b[0m\u001b[1;33m,\u001b[0m\u001b[1;36m4\u001b[0m\u001b[1;33m]\u001b[0m\u001b[1;33m)\u001b[0m\u001b[1;33m\u001b[0m\u001b[1;33m\u001b[0m\u001b[0m\n\u001b[0m",
      "\u001b[1;31mTypeError\u001b[0m: unhashable type: 'list'"
     ]
    }
   ],
   "source": [
    "s2.add([1,2,3,4,4]) #List is not available inside a set. (It is different in case of set)"
   ]
  },
  {
   "cell_type": "code",
   "execution_count": 132,
   "id": "3ce94476",
   "metadata": {},
   "outputs": [
    {
     "ename": "TypeError",
     "evalue": "unhashable type: 'list'",
     "output_type": "error",
     "traceback": [
      "\u001b[1;31m---------------------------------------------------------------------------\u001b[0m",
      "\u001b[1;31mTypeError\u001b[0m                                 Traceback (most recent call last)",
      "\u001b[1;32m<ipython-input-132-7a49b344c463>\u001b[0m in \u001b[0;36m<module>\u001b[1;34m\u001b[0m\n\u001b[1;32m----> 1\u001b[1;33m \u001b[1;33m{\u001b[0m\u001b[1;33m[\u001b[0m\u001b[1;36m1\u001b[0m\u001b[1;33m,\u001b[0m\u001b[1;36m2\u001b[0m\u001b[1;33m,\u001b[0m\u001b[1;36m2\u001b[0m\u001b[1;33m,\u001b[0m\u001b[1;36m3\u001b[0m\u001b[1;33m,\u001b[0m\u001b[1;36m3\u001b[0m\u001b[1;33m,\u001b[0m\u001b[1;36m3\u001b[0m\u001b[1;33m]\u001b[0m\u001b[1;33m,\u001b[0m\u001b[1;36m3\u001b[0m\u001b[1;33m,\u001b[0m\u001b[1;36m3\u001b[0m\u001b[1;33m,\u001b[0m\u001b[1;36m3\u001b[0m\u001b[1;33m,\u001b[0m\u001b[1;36m3\u001b[0m\u001b[1;33m,\u001b[0m\u001b[1;36m3\u001b[0m\u001b[1;33m,\u001b[0m\u001b[1;33m}\u001b[0m \u001b[1;31m#set always hold unordered collection of unique elements, it can only holt primitive dataset\u001b[0m\u001b[1;33m\u001b[0m\u001b[1;33m\u001b[0m\u001b[0m\n\u001b[0m",
      "\u001b[1;31mTypeError\u001b[0m: unhashable type: 'list'"
     ]
    }
   ],
   "source": [
    "{[1,2,2,3,3,3],3,3,3,3,3,} #set always hold unordered collection of unique elements, it can only holt primitive dataset"
   ]
  },
  {
   "cell_type": "code",
   "execution_count": 134,
   "id": "5c6f693f",
   "metadata": {},
   "outputs": [
    {
     "data": {
      "text/plain": [
       "{(1, 2, 2, 3, 3, 3), 3}"
      ]
     },
     "execution_count": 134,
     "metadata": {},
     "output_type": "execute_result"
    }
   ],
   "source": [
    "{(1,2,2,3,3,3),3,3,3,3,3,}"
   ]
  },
  {
   "cell_type": "markdown",
   "id": "1f29b48d",
   "metadata": {},
   "source": [
    "### it is not going to allow any sort of mutable type inside a set but it allows immutable inside the set such as tuples"
   ]
  },
  {
   "cell_type": "code",
   "execution_count": 137,
   "id": "dd51b0dc",
   "metadata": {},
   "outputs": [
    {
     "data": {
      "text/plain": [
       "{(1, 2, 2, 3, 3, 3), 3}"
      ]
     },
     "execution_count": 137,
     "metadata": {},
     "output_type": "execute_result"
    }
   ],
   "source": [
    "{(1,2,2,3,3,3),(1,2,2,3,3,3),3,3,3,3,3} #It is going to remove the duplicate of tuples."
   ]
  },
  {
   "cell_type": "code",
   "execution_count": 145,
   "id": "8964ac7a",
   "metadata": {},
   "outputs": [],
   "source": [
    "s = {(1,2,2,3,3,3),(1,2,2,3,3,3),3,4,5,6,7}"
   ]
  },
  {
   "cell_type": "code",
   "execution_count": 146,
   "id": "35214b61",
   "metadata": {},
   "outputs": [],
   "source": [
    "s.remove(3) #it removes the element 3"
   ]
  },
  {
   "cell_type": "code",
   "execution_count": 147,
   "id": "29a8d6df",
   "metadata": {},
   "outputs": [
    {
     "data": {
      "text/plain": [
       "{(1, 2, 2, 3, 3, 3), 4, 5, 6, 7}"
      ]
     },
     "execution_count": 147,
     "metadata": {},
     "output_type": "execute_result"
    }
   ],
   "source": [
    "s"
   ]
  },
  {
   "cell_type": "code",
   "execution_count": 148,
   "id": "0adb7a93",
   "metadata": {},
   "outputs": [],
   "source": [
    "s.discard(5) #it removes the element 5"
   ]
  },
  {
   "cell_type": "code",
   "execution_count": 149,
   "id": "9479ab7f",
   "metadata": {},
   "outputs": [
    {
     "data": {
      "text/plain": [
       "{(1, 2, 2, 3, 3, 3), 4, 6, 7}"
      ]
     },
     "execution_count": 149,
     "metadata": {},
     "output_type": "execute_result"
    }
   ],
   "source": [
    "s"
   ]
  },
  {
   "cell_type": "code",
   "execution_count": null,
   "id": "427cc14f",
   "metadata": {},
   "outputs": [],
   "source": [
    "#Difference between remove and discard"
   ]
  },
  {
   "cell_type": "code",
   "execution_count": 150,
   "id": "28d811b8",
   "metadata": {},
   "outputs": [
    {
     "ename": "KeyError",
     "evalue": "45",
     "output_type": "error",
     "traceback": [
      "\u001b[1;31m---------------------------------------------------------------------------\u001b[0m",
      "\u001b[1;31mKeyError\u001b[0m                                  Traceback (most recent call last)",
      "\u001b[1;32m<ipython-input-150-30b5ee21a9a0>\u001b[0m in \u001b[0;36m<module>\u001b[1;34m\u001b[0m\n\u001b[1;32m----> 1\u001b[1;33m \u001b[0ms\u001b[0m\u001b[1;33m.\u001b[0m\u001b[0mremove\u001b[0m\u001b[1;33m(\u001b[0m\u001b[1;36m45\u001b[0m\u001b[1;33m)\u001b[0m\u001b[1;33m\u001b[0m\u001b[1;33m\u001b[0m\u001b[0m\n\u001b[0m",
      "\u001b[1;31mKeyError\u001b[0m: 45"
     ]
    }
   ],
   "source": [
    "s.remove(45) #it is not present ,so it gives key error."
   ]
  },
  {
   "cell_type": "code",
   "execution_count": 152,
   "id": "17e88b97",
   "metadata": {},
   "outputs": [],
   "source": [
    "s.discard(45) #the def says if it is not a member then do nothing so thats why no error and it executes"
   ]
  },
  {
   "cell_type": "markdown",
   "id": "c0d40225",
   "metadata": {},
   "source": [
    "#### set is neither mutuable nor immutable, it is a un-ordered collection, when its un-ordered collection, we wont get any indexes, we wont be able to perform a manipulation operations."
   ]
  },
  {
   "cell_type": "code",
   "execution_count": 155,
   "id": "18fe0a9b",
   "metadata": {},
   "outputs": [
    {
     "data": {
      "text/plain": [
       "{'Sudh', 'sudh'}"
      ]
     },
     "execution_count": 155,
     "metadata": {},
     "output_type": "execute_result"
    }
   ],
   "source": [
    "{'sudh','Sudh'} #set is a case sensitive element"
   ]
  },
  {
   "cell_type": "code",
   "execution_count": 159,
   "id": "724015a9",
   "metadata": {},
   "outputs": [],
   "source": [
    "#whereever we want to eliminate the duplicates we go-ahead and use set, we pass the set, These comes under NLP section"
   ]
  },
  {
   "cell_type": "code",
   "execution_count": 161,
   "id": "8758de1d",
   "metadata": {},
   "outputs": [],
   "source": [
    "s = {4,5,6,7,8,8,9,34,34,43,4,5,6,7,7,'ashi','deepak','deepak'}"
   ]
  },
  {
   "cell_type": "code",
   "execution_count": 162,
   "id": "e6d0102d",
   "metadata": {},
   "outputs": [
    {
     "data": {
      "text/plain": [
       "{34, 4, 43, 5, 6, 7, 8, 9, 'ashi', 'deepak'}"
      ]
     },
     "execution_count": 162,
     "metadata": {},
     "output_type": "execute_result"
    }
   ],
   "source": [
    "s"
   ]
  },
  {
   "cell_type": "markdown",
   "id": "5d4c942b",
   "metadata": {},
   "source": [
    "# DICTIONARY"
   ]
  },
  {
   "cell_type": "markdown",
   "id": "649a3bbb",
   "metadata": {},
   "source": [
    "### It is another type of collection where we will be able to hold any number of elements and where we will be able to access it."
   ]
  },
  {
   "cell_type": "code",
   "execution_count": 3,
   "id": "5d63d64e",
   "metadata": {},
   "outputs": [],
   "source": [
    "# We can store things in key and value pair"
   ]
  },
  {
   "cell_type": "code",
   "execution_count": 4,
   "id": "53aa114a",
   "metadata": {},
   "outputs": [],
   "source": [
    "d = {}"
   ]
  },
  {
   "cell_type": "code",
   "execution_count": 5,
   "id": "6565eac0",
   "metadata": {},
   "outputs": [
    {
     "data": {
      "text/plain": [
       "dict"
      ]
     },
     "execution_count": 5,
     "metadata": {},
     "output_type": "execute_result"
    }
   ],
   "source": [
    "type(d)"
   ]
  },
  {
   "cell_type": "code",
   "execution_count": 6,
   "id": "e9d31870",
   "metadata": {},
   "outputs": [],
   "source": [
    "d = {2,2,3}"
   ]
  },
  {
   "cell_type": "code",
   "execution_count": 7,
   "id": "47914d7d",
   "metadata": {},
   "outputs": [
    {
     "data": {
      "text/plain": [
       "set"
      ]
     },
     "execution_count": 7,
     "metadata": {},
     "output_type": "execute_result"
    }
   ],
   "source": [
    "type(d)"
   ]
  },
  {
   "cell_type": "code",
   "execution_count": 8,
   "id": "34be1c66",
   "metadata": {},
   "outputs": [],
   "source": [
    "# we can compare this to an oxford dictionary (There should be a word and meaning)"
   ]
  },
  {
   "cell_type": "code",
   "execution_count": 9,
   "id": "a1804443",
   "metadata": {},
   "outputs": [],
   "source": [
    "d = {4:'sudh'}"
   ]
  },
  {
   "cell_type": "code",
   "execution_count": 10,
   "id": "9a804eda",
   "metadata": {},
   "outputs": [
    {
     "data": {
      "text/plain": [
       "{4: 'sudh'}"
      ]
     },
     "execution_count": 10,
     "metadata": {},
     "output_type": "execute_result"
    }
   ],
   "source": [
    "d"
   ]
  },
  {
   "cell_type": "code",
   "execution_count": 11,
   "id": "5f724c99",
   "metadata": {},
   "outputs": [],
   "source": [
    "#here 4 is a key and 'sudh is value pair'"
   ]
  },
  {
   "cell_type": "code",
   "execution_count": 12,
   "id": "55e4c6f5",
   "metadata": {},
   "outputs": [],
   "source": [
    "d1 = {\"Key1\":12345, \"Key2\" : 'Ashi', 'Key3': [2,3,4,5,6]}"
   ]
  },
  {
   "cell_type": "code",
   "execution_count": 13,
   "id": "5dfe2c97",
   "metadata": {},
   "outputs": [
    {
     "data": {
      "text/plain": [
       "{'Key1': 12345, 'Key2': 'Ashi', 'Key3': [2, 3, 4, 5, 6]}"
      ]
     },
     "execution_count": 13,
     "metadata": {},
     "output_type": "execute_result"
    }
   ],
   "source": [
    "d1"
   ]
  },
  {
   "cell_type": "code",
   "execution_count": 15,
   "id": "8ca1c6f6",
   "metadata": {},
   "outputs": [],
   "source": [
    "d1 = {\"Key1\":12345, \"Key2\" : 'Ashi', 45: [2,3,4,5,6]}"
   ]
  },
  {
   "cell_type": "code",
   "execution_count": 16,
   "id": "6c2fa108",
   "metadata": {},
   "outputs": [
    {
     "data": {
      "text/plain": [
       "{'Key1': 12345, 'Key2': 'Ashi', 45: [2, 3, 4, 5, 6]}"
      ]
     },
     "execution_count": 16,
     "metadata": {},
     "output_type": "execute_result"
    }
   ],
   "source": [
    "d1"
   ]
  },
  {
   "cell_type": "code",
   "execution_count": 17,
   "id": "38d21777",
   "metadata": {},
   "outputs": [],
   "source": [
    "l  = [2,3,4,5,6,6] "
   ]
  },
  {
   "cell_type": "code",
   "execution_count": 18,
   "id": "9fbdaec5",
   "metadata": {},
   "outputs": [
    {
     "data": {
      "text/plain": [
       "{'Key1': 12345, 'Key2': 'Ashi', 45: [2, 3, 4, 5, 6]}"
      ]
     },
     "execution_count": 18,
     "metadata": {},
     "output_type": "execute_result"
    }
   ],
   "source": [
    "d1"
   ]
  },
  {
   "cell_type": "code",
   "execution_count": 20,
   "id": "684f7f9e",
   "metadata": {},
   "outputs": [
    {
     "data": {
      "text/plain": [
       "3"
      ]
     },
     "execution_count": 20,
     "metadata": {},
     "output_type": "execute_result"
    }
   ],
   "source": [
    "#how to access 3 our of this dictinary\n",
    "l[1]"
   ]
  },
  {
   "cell_type": "code",
   "execution_count": 21,
   "id": "859a6486",
   "metadata": {},
   "outputs": [
    {
     "data": {
      "text/plain": [
       "12345"
      ]
     },
     "execution_count": 21,
     "metadata": {},
     "output_type": "execute_result"
    }
   ],
   "source": [
    "d1['Key1']"
   ]
  },
  {
   "cell_type": "code",
   "execution_count": 22,
   "id": "9f8154f0",
   "metadata": {},
   "outputs": [
    {
     "data": {
      "text/plain": [
       "[2, 3, 4, 5, 6]"
      ]
     },
     "execution_count": 22,
     "metadata": {},
     "output_type": "execute_result"
    }
   ],
   "source": [
    "d1[45]"
   ]
  },
  {
   "cell_type": "code",
   "execution_count": 23,
   "id": "8eec25f8",
   "metadata": {},
   "outputs": [
    {
     "data": {
      "text/plain": [
       "'Ashi'"
      ]
     },
     "execution_count": 23,
     "metadata": {},
     "output_type": "execute_result"
    }
   ],
   "source": [
    "d1['Key2']"
   ]
  },
  {
   "cell_type": "code",
   "execution_count": 24,
   "id": "b9a2aa82",
   "metadata": {},
   "outputs": [],
   "source": [
    "#Dictionary is another type of a collection which holds data, in Key value fashion\n",
    "\n",
    "#Properties"
   ]
  },
  {
   "cell_type": "code",
   "execution_count": 25,
   "id": "20a1acd1",
   "metadata": {},
   "outputs": [],
   "source": [
    "d = {3 : ['asdasds','dasdasd',2,1,3,4,5,6,7]}"
   ]
  },
  {
   "cell_type": "code",
   "execution_count": 26,
   "id": "3cb7c20b",
   "metadata": {},
   "outputs": [
    {
     "ename": "SyntaxError",
     "evalue": "invalid syntax (<ipython-input-26-559d24f487fd>, line 1)",
     "output_type": "error",
     "traceback": [
      "\u001b[1;36m  File \u001b[1;32m\"<ipython-input-26-559d24f487fd>\"\u001b[1;36m, line \u001b[1;32m1\u001b[0m\n\u001b[1;33m    d = {@ : ['asdasds','dasdasd',2,1,3,4,5,6,7]}\u001b[0m\n\u001b[1;37m         ^\u001b[0m\n\u001b[1;31mSyntaxError\u001b[0m\u001b[1;31m:\u001b[0m invalid syntax\n"
     ]
    }
   ],
   "source": [
    "d = {@ : ['asdasds','dasdasd',2,1,3,4,5,6,7]}#It dosent work with special case character"
   ]
  },
  {
   "cell_type": "code",
   "execution_count": 29,
   "id": "0311e42b",
   "metadata": {},
   "outputs": [
    {
     "ename": "SyntaxError",
     "evalue": "unexpected EOF while parsing (<ipython-input-29-fcf5f1d96afa>, line 1)",
     "output_type": "error",
     "traceback": [
      "\u001b[1;36m  File \u001b[1;32m\"<ipython-input-29-fcf5f1d96afa>\"\u001b[1;36m, line \u001b[1;32m1\u001b[0m\n\u001b[1;33m    d = {# : ['asdasds','dasdasd',2,1,3,4,5,6,7]}\u001b[0m\n\u001b[1;37m                                                 ^\u001b[0m\n\u001b[1;31mSyntaxError\u001b[0m\u001b[1;31m:\u001b[0m unexpected EOF while parsing\n"
     ]
    }
   ],
   "source": [
    "d = {# : ['asdasds','dasdasd',2,1,3,4,5,6,7]}#It dosent work with special case character"
   ]
  },
  {
   "cell_type": "code",
   "execution_count": 30,
   "id": "bb336a51",
   "metadata": {},
   "outputs": [
    {
     "ename": "SyntaxError",
     "evalue": "invalid syntax (<ipython-input-30-346f0a6ebfd3>, line 1)",
     "output_type": "error",
     "traceback": [
      "\u001b[1;36m  File \u001b[1;32m\"<ipython-input-30-346f0a6ebfd3>\"\u001b[1;36m, line \u001b[1;32m1\u001b[0m\n\u001b[1;33m    d = {* : ['asdasds','dasdasd',2,1,3,4,5,6,7]}\u001b[0m\n\u001b[1;37m           ^\u001b[0m\n\u001b[1;31mSyntaxError\u001b[0m\u001b[1;31m:\u001b[0m invalid syntax\n"
     ]
    }
   ],
   "source": [
    "d = {* : ['asdasds','dasdasd',2,1,3,4,5,6,7]} #It dosent work with special case character"
   ]
  },
  {
   "cell_type": "code",
   "execution_count": 31,
   "id": "846a8ac7",
   "metadata": {},
   "outputs": [
    {
     "ename": "NameError",
     "evalue": "name '_4' is not defined",
     "output_type": "error",
     "traceback": [
      "\u001b[1;31m---------------------------------------------------------------------------\u001b[0m",
      "\u001b[1;31mNameError\u001b[0m                                 Traceback (most recent call last)",
      "\u001b[1;32m<ipython-input-31-01bcd6d6c602>\u001b[0m in \u001b[0;36m<module>\u001b[1;34m\u001b[0m\n\u001b[1;32m----> 1\u001b[1;33m \u001b[0md\u001b[0m \u001b[1;33m=\u001b[0m \u001b[1;33m{\u001b[0m\u001b[0m_4\u001b[0m \u001b[1;33m:\u001b[0m \u001b[1;33m[\u001b[0m\u001b[1;34m'asdasds'\u001b[0m\u001b[1;33m,\u001b[0m\u001b[1;34m'dasdasd'\u001b[0m\u001b[1;33m,\u001b[0m\u001b[1;36m2\u001b[0m\u001b[1;33m,\u001b[0m\u001b[1;36m1\u001b[0m\u001b[1;33m,\u001b[0m\u001b[1;36m3\u001b[0m\u001b[1;33m,\u001b[0m\u001b[1;36m4\u001b[0m\u001b[1;33m,\u001b[0m\u001b[1;36m5\u001b[0m\u001b[1;33m,\u001b[0m\u001b[1;36m6\u001b[0m\u001b[1;33m,\u001b[0m\u001b[1;36m7\u001b[0m\u001b[1;33m]\u001b[0m\u001b[1;33m}\u001b[0m\u001b[1;33m\u001b[0m\u001b[1;33m\u001b[0m\u001b[0m\n\u001b[0m",
      "\u001b[1;31mNameError\u001b[0m: name '_4' is not defined"
     ]
    }
   ],
   "source": [
    "d = {_4 : ['asdasds','dasdasd',2,1,3,4,5,6,7]}#It dosent work with special case character"
   ]
  },
  {
   "cell_type": "code",
   "execution_count": 33,
   "id": "56c1fdce",
   "metadata": {},
   "outputs": [],
   "source": [
    "d = {.4 : ['asdasds','dasdasd',2,1,3,4,5,6,7]} # it works as it is a decimal character"
   ]
  },
  {
   "cell_type": "code",
   "execution_count": 35,
   "id": "f34db0eb",
   "metadata": {},
   "outputs": [],
   "source": [
    "d = {'Ashi' : 'asdasds'} # it works with a string value"
   ]
  },
  {
   "cell_type": "code",
   "execution_count": 38,
   "id": "1c3cade5",
   "metadata": {},
   "outputs": [],
   "source": [
    "d = {'Ashi' : ['asdasds',12,3,4]} # it works with a List value"
   ]
  },
  {
   "cell_type": "code",
   "execution_count": 40,
   "id": "31651e66",
   "metadata": {},
   "outputs": [],
   "source": [
    "d = {'KEY': (2,3,4,5,6)} #it works with a Tuple value"
   ]
  },
  {
   "cell_type": "code",
   "execution_count": 42,
   "id": "8fbe0aed",
   "metadata": {},
   "outputs": [],
   "source": [
    "d = {'KEY': {2,3,4,5,6}} #it works with a set Value"
   ]
  },
  {
   "cell_type": "markdown",
   "id": "430f26ed",
   "metadata": {},
   "source": [
    "#### The Difference between a set and a curly braces are whenever we are trying to create a dictionary, we are supposed to create a key and value pair, if not created then it wont create a dictionary, in set yes you can create a value but it will create in a unique elements"
   ]
  },
  {
   "cell_type": "code",
   "execution_count": 46,
   "id": "06aab457",
   "metadata": {},
   "outputs": [],
   "source": [
    "d1 = {\"key1\" : [2,3,4,5] , \"key2\" : \"sudh\", \"key1\" : 45} #here are duplicates of key1, what value will it come"
   ]
  },
  {
   "cell_type": "code",
   "execution_count": 47,
   "id": "5bfedf8a",
   "metadata": {},
   "outputs": [
    {
     "data": {
      "text/plain": [
       "45"
      ]
     },
     "execution_count": 47,
     "metadata": {},
     "output_type": "execute_result"
    }
   ],
   "source": [
    "d1['key1'] # Key 1 is a repeated one and key1 is repeated and it assigns the latest value"
   ]
  },
  {
   "cell_type": "markdown",
   "id": "fd79c94e",
   "metadata": {},
   "source": [
    "#### Key value should not be duplicate, if duplicated then it only holds the recent one rather than the old value, Key should be unique at any point of the time"
   ]
  },
  {
   "cell_type": "code",
   "execution_count": 49,
   "id": "fec4e72c",
   "metadata": {},
   "outputs": [],
   "source": [
    "# is it possible to create a duplicate indexes? no , its a unique, but in pandas series chapter it is possible"
   ]
  },
  {
   "cell_type": "code",
   "execution_count": 50,
   "id": "0733714d",
   "metadata": {},
   "outputs": [],
   "source": [
    "d1 = {\"key1\" : [2,3,4,5] , \"key2\" : [2,3,4,5], \"key1\" : 45} #here the values can be same but not the keys, here it will not give any error but it will update the value."
   ]
  },
  {
   "cell_type": "code",
   "execution_count": 51,
   "id": "8dc9299c",
   "metadata": {},
   "outputs": [],
   "source": [
    "d1 = {\"key1\" : [2,3,4,5] , \"key2\" : [2,3,4,5], \"John\" : 45} "
   ]
  },
  {
   "cell_type": "code",
   "execution_count": 53,
   "id": "f09ab6b7",
   "metadata": {},
   "outputs": [
    {
     "data": {
      "text/plain": [
       "45"
      ]
     },
     "execution_count": 53,
     "metadata": {},
     "output_type": "execute_result"
    }
   ],
   "source": [
    "d1['John']"
   ]
  },
  {
   "cell_type": "code",
   "execution_count": 54,
   "id": "e63d62eb",
   "metadata": {},
   "outputs": [],
   "source": [
    "# Creating a dictionary\n",
    "\n",
    "d = {'Name': 'Ashish',\"Mobile_No\" : 1233445,'mail_id': 'ashishroyofficial@gmail.com','Key1':[1,2,3,4,5,5], \"key2\":(12,3,4,5,6,7),\"key3\":{2,2,3,4,5,6},\"key4\":{2:2,3:5}}"
   ]
  },
  {
   "cell_type": "code",
   "execution_count": 55,
   "id": "ceb15cec",
   "metadata": {},
   "outputs": [
    {
     "data": {
      "text/plain": [
       "{'Name': 'Ashish',\n",
       " 'Mobile_No': 1233445,\n",
       " 'mail_id': 'ashishroyofficial@gmail.com',\n",
       " 'Key1': [1, 2, 3, 4, 5, 5],\n",
       " 'key2': (12, 3, 4, 5, 6, 7),\n",
       " 'key3': {2, 3, 4, 5, 6},\n",
       " 'key4': {2: 2, 3: 5}}"
      ]
     },
     "execution_count": 55,
     "metadata": {},
     "output_type": "execute_result"
    }
   ],
   "source": [
    "d"
   ]
  },
  {
   "cell_type": "code",
   "execution_count": 56,
   "id": "95a9afae",
   "metadata": {},
   "outputs": [
    {
     "data": {
      "text/plain": [
       "{2, 3, 4, 5, 6}"
      ]
     },
     "execution_count": 56,
     "metadata": {},
     "output_type": "execute_result"
    }
   ],
   "source": [
    "d['key3']"
   ]
  },
  {
   "cell_type": "code",
   "execution_count": 57,
   "id": "3c936252",
   "metadata": {},
   "outputs": [
    {
     "data": {
      "text/plain": [
       "set"
      ]
     },
     "execution_count": 57,
     "metadata": {},
     "output_type": "execute_result"
    }
   ],
   "source": [
    "type(d['key3'])"
   ]
  },
  {
   "cell_type": "code",
   "execution_count": 58,
   "id": "aac60d8f",
   "metadata": {},
   "outputs": [
    {
     "data": {
      "text/plain": [
       "{2: 2, 3: 5}"
      ]
     },
     "execution_count": 58,
     "metadata": {},
     "output_type": "execute_result"
    }
   ],
   "source": [
    "d['key4']"
   ]
  },
  {
   "cell_type": "code",
   "execution_count": 59,
   "id": "77061851",
   "metadata": {},
   "outputs": [
    {
     "data": {
      "text/plain": [
       "dict"
      ]
     },
     "execution_count": 59,
     "metadata": {},
     "output_type": "execute_result"
    }
   ],
   "source": [
    "type(d['key4'])"
   ]
  },
  {
   "cell_type": "code",
   "execution_count": 62,
   "id": "4ab98fbe",
   "metadata": {},
   "outputs": [
    {
     "data": {
      "text/plain": [
       "5"
      ]
     },
     "execution_count": 62,
     "metadata": {},
     "output_type": "execute_result"
    }
   ],
   "source": [
    "d['key4'][3] #this is a slicing operation"
   ]
  },
  {
   "cell_type": "code",
   "execution_count": 64,
   "id": "dd2b64cd",
   "metadata": {},
   "outputs": [
    {
     "data": {
      "text/plain": [
       "dict_keys(['Name', 'Mobile_No', 'mail_id', 'Key1', 'key2', 'key3', 'key4'])"
      ]
     },
     "execution_count": 64,
     "metadata": {},
     "output_type": "execute_result"
    }
   ],
   "source": [
    "d.keys() #try to find list of all the keys"
   ]
  },
  {
   "cell_type": "code",
   "execution_count": 65,
   "id": "33c4adba",
   "metadata": {},
   "outputs": [
    {
     "data": {
      "text/plain": [
       "dict_values(['Ashish', 1233445, 'ashishroyofficial@gmail.com', [1, 2, 3, 4, 5, 5], (12, 3, 4, 5, 6, 7), {2, 3, 4, 5, 6}, {2: 2, 3: 5}])"
      ]
     },
     "execution_count": 65,
     "metadata": {},
     "output_type": "execute_result"
    }
   ],
   "source": [
    "d.values() #trying to find the list of all the values"
   ]
  },
  {
   "cell_type": "code",
   "execution_count": 67,
   "id": "d3b5db32",
   "metadata": {},
   "outputs": [
    {
     "data": {
      "text/plain": [
       "dict_items([('Name', 'Ashish'), ('Mobile_No', 1233445), ('mail_id', 'ashishroyofficial@gmail.com'), ('Key1', [1, 2, 3, 4, 5, 5]), ('key2', (12, 3, 4, 5, 6, 7)), ('key3', {2, 3, 4, 5, 6}), ('key4', {2: 2, 3: 5})])"
      ]
     },
     "execution_count": 67,
     "metadata": {},
     "output_type": "execute_result"
    }
   ],
   "source": [
    "d.items() #to access all the items, heere we will get key value pair, as a list of a tuples."
   ]
  },
  {
   "cell_type": "code",
   "execution_count": 68,
   "id": "370a4242",
   "metadata": {},
   "outputs": [
    {
     "data": {
      "text/plain": [
       "dict_items"
      ]
     },
     "execution_count": 68,
     "metadata": {},
     "output_type": "execute_result"
    }
   ],
   "source": [
    "type(d.items())"
   ]
  },
  {
   "cell_type": "code",
   "execution_count": 69,
   "id": "391e2542",
   "metadata": {},
   "outputs": [],
   "source": [
    "d = {'key1' : 'sudh', \"key2\" : [1,2,3,4,5]}"
   ]
  },
  {
   "cell_type": "code",
   "execution_count": 70,
   "id": "d11b4df2",
   "metadata": {},
   "outputs": [
    {
     "data": {
      "text/plain": [
       "{'key1': 'sudh', 'key2': [1, 2, 3, 4, 5]}"
      ]
     },
     "execution_count": 70,
     "metadata": {},
     "output_type": "execute_result"
    }
   ],
   "source": [
    "d"
   ]
  },
  {
   "cell_type": "code",
   "execution_count": 72,
   "id": "2cacc075",
   "metadata": {},
   "outputs": [],
   "source": [
    "#Adding new key , or new values for new key\n",
    "d['key3'] = 'kumar'"
   ]
  },
  {
   "cell_type": "code",
   "execution_count": 73,
   "id": "51276ddd",
   "metadata": {},
   "outputs": [
    {
     "data": {
      "text/plain": [
       "{'key1': 'sudh', 'key2': [1, 2, 3, 4, 5], 'key3': 'kumar'}"
      ]
     },
     "execution_count": 73,
     "metadata": {},
     "output_type": "execute_result"
    }
   ],
   "source": [
    "d"
   ]
  },
  {
   "cell_type": "code",
   "execution_count": 74,
   "id": "a78e8cda",
   "metadata": {},
   "outputs": [],
   "source": [
    "d[4] = [1,2,3,4,56]"
   ]
  },
  {
   "cell_type": "code",
   "execution_count": 75,
   "id": "7dcf9cc8",
   "metadata": {},
   "outputs": [
    {
     "data": {
      "text/plain": [
       "{'key1': 'sudh', 'key2': [1, 2, 3, 4, 5], 'key3': 'kumar', 4: [1, 2, 3, 4, 56]}"
      ]
     },
     "execution_count": 75,
     "metadata": {},
     "output_type": "execute_result"
    }
   ],
   "source": [
    "d"
   ]
  },
  {
   "cell_type": "code",
   "execution_count": 76,
   "id": "2436f750",
   "metadata": {},
   "outputs": [],
   "source": [
    "d['key1'] = 'ashashdhasdh'"
   ]
  },
  {
   "cell_type": "code",
   "execution_count": 77,
   "id": "beb5fd90",
   "metadata": {},
   "outputs": [
    {
     "data": {
      "text/plain": [
       "{'key1': 'ashashdhasdh',\n",
       " 'key2': [1, 2, 3, 4, 5],\n",
       " 'key3': 'kumar',\n",
       " 4: [1, 2, 3, 4, 56]}"
      ]
     },
     "execution_count": 77,
     "metadata": {},
     "output_type": "execute_result"
    }
   ],
   "source": [
    "d"
   ]
  },
  {
   "cell_type": "code",
   "execution_count": 78,
   "id": "288eeddb",
   "metadata": {},
   "outputs": [],
   "source": [
    "#Deleting the key value, we cannot change the key value\n",
    "del d['key1']"
   ]
  },
  {
   "cell_type": "code",
   "execution_count": 79,
   "id": "987ef33f",
   "metadata": {},
   "outputs": [
    {
     "data": {
      "text/plain": [
       "{'key2': [1, 2, 3, 4, 5], 'key3': 'kumar', 4: [1, 2, 3, 4, 56]}"
      ]
     },
     "execution_count": 79,
     "metadata": {},
     "output_type": "execute_result"
    }
   ],
   "source": [
    "d"
   ]
  },
  {
   "cell_type": "code",
   "execution_count": 80,
   "id": "188e9cc3",
   "metadata": {},
   "outputs": [],
   "source": [
    "del d"
   ]
  },
  {
   "cell_type": "code",
   "execution_count": 81,
   "id": "fec0cee5",
   "metadata": {},
   "outputs": [
    {
     "ename": "NameError",
     "evalue": "name 'd' is not defined",
     "output_type": "error",
     "traceback": [
      "\u001b[1;31m---------------------------------------------------------------------------\u001b[0m",
      "\u001b[1;31mNameError\u001b[0m                                 Traceback (most recent call last)",
      "\u001b[1;32m<ipython-input-81-e983f374794d>\u001b[0m in \u001b[0;36m<module>\u001b[1;34m\u001b[0m\n\u001b[1;32m----> 1\u001b[1;33m \u001b[0md\u001b[0m\u001b[1;33m\u001b[0m\u001b[1;33m\u001b[0m\u001b[0m\n\u001b[0m",
      "\u001b[1;31mNameError\u001b[0m: name 'd' is not defined"
     ]
    }
   ],
   "source": [
    "d"
   ]
  },
  {
   "cell_type": "code",
   "execution_count": 82,
   "id": "8ae05b1b",
   "metadata": {},
   "outputs": [],
   "source": [
    "# creating another dictionary\n",
    "d1 = {'key1':'sudh','key2':[3,4,5,6,6,7]}"
   ]
  },
  {
   "cell_type": "code",
   "execution_count": 83,
   "id": "2444b455",
   "metadata": {},
   "outputs": [
    {
     "ename": "TypeError",
     "evalue": "unhashable type: 'list'",
     "output_type": "error",
     "traceback": [
      "\u001b[1;31m---------------------------------------------------------------------------\u001b[0m",
      "\u001b[1;31mTypeError\u001b[0m                                 Traceback (most recent call last)",
      "\u001b[1;32m<ipython-input-83-7a15ab4bf1f5>\u001b[0m in \u001b[0;36m<module>\u001b[1;34m\u001b[0m\n\u001b[1;32m----> 1\u001b[1;33m \u001b[0md1\u001b[0m\u001b[1;33m[\u001b[0m\u001b[1;33m[\u001b[0m\u001b[1;36m1\u001b[0m\u001b[1;33m,\u001b[0m\u001b[1;36m2\u001b[0m\u001b[1;33m,\u001b[0m\u001b[1;36m3\u001b[0m\u001b[1;33m]\u001b[0m\u001b[1;33m]\u001b[0m \u001b[1;33m=\u001b[0m \u001b[1;34m'ineuron'\u001b[0m\u001b[1;33m\u001b[0m\u001b[1;33m\u001b[0m\u001b[0m\n\u001b[0m",
      "\u001b[1;31mTypeError\u001b[0m: unhashable type: 'list'"
     ]
    }
   ],
   "source": [
    "d1[[1,2,3]] = 'ineuron' #Key as a list is not going to work"
   ]
  },
  {
   "cell_type": "code",
   "execution_count": 84,
   "id": "9ad31006",
   "metadata": {},
   "outputs": [],
   "source": [
    "d1[(1,2,3)] = 'ineuron' #key as a tuple is going to work"
   ]
  },
  {
   "cell_type": "code",
   "execution_count": 85,
   "id": "3d3b8b55",
   "metadata": {},
   "outputs": [
    {
     "data": {
      "text/plain": [
       "{'key1': 'sudh', 'key2': [3, 4, 5, 6, 6, 7], (1, 2, 3): 'ineuron'}"
      ]
     },
     "execution_count": 85,
     "metadata": {},
     "output_type": "execute_result"
    }
   ],
   "source": [
    "d1 #key is supposed to be a immutable element"
   ]
  },
  {
   "cell_type": "code",
   "execution_count": 88,
   "id": "108cc68d",
   "metadata": {},
   "outputs": [],
   "source": [
    "d1.get('asdas') #if there is no value present inside, it dosent give you any value"
   ]
  },
  {
   "cell_type": "code",
   "execution_count": 90,
   "id": "ce158f9d",
   "metadata": {},
   "outputs": [
    {
     "data": {
      "text/plain": [
       "'sudh'"
      ]
     },
     "execution_count": 90,
     "metadata": {},
     "output_type": "execute_result"
    }
   ],
   "source": [
    "d1.get('key1') #if there is a value then it gives out the value of the key"
   ]
  },
  {
   "cell_type": "code",
   "execution_count": 102,
   "id": "679fd7ad",
   "metadata": {},
   "outputs": [],
   "source": [
    "d1 = {'key1':\"ineuron\",\"key\":'FSDS'}"
   ]
  },
  {
   "cell_type": "code",
   "execution_count": 92,
   "id": "4ed33776",
   "metadata": {},
   "outputs": [],
   "source": [
    "d2 = {'key2':456,'key3':[2,2,2,2,]}"
   ]
  },
  {
   "cell_type": "code",
   "execution_count": 95,
   "id": "91537fbc",
   "metadata": {},
   "outputs": [],
   "source": [
    "d1.update(d2) #it has updated d1 with d2, it has basically combined it, this is kind of a append function"
   ]
  },
  {
   "cell_type": "code",
   "execution_count": 94,
   "id": "da3ab5c8",
   "metadata": {},
   "outputs": [
    {
     "data": {
      "text/plain": [
       "{'key1': 'ineuron', 'key': 'FSDS', 'key2': 456, 'key3': [2, 2, 2, 2]}"
      ]
     },
     "execution_count": 94,
     "metadata": {},
     "output_type": "execute_result"
    }
   ],
   "source": [
    "d1"
   ]
  },
  {
   "cell_type": "code",
   "execution_count": 96,
   "id": "eba31156",
   "metadata": {},
   "outputs": [
    {
     "data": {
      "text/plain": [
       "{'key2': 456, 'key3': [2, 2, 2, 2]}"
      ]
     },
     "execution_count": 96,
     "metadata": {},
     "output_type": "execute_result"
    }
   ],
   "source": [
    "d2"
   ]
  },
  {
   "cell_type": "code",
   "execution_count": 99,
   "id": "d83b7aec",
   "metadata": {},
   "outputs": [
    {
     "ename": "TypeError",
     "evalue": "unsupported operand type(s) for +: 'dict' and 'dict'",
     "output_type": "error",
     "traceback": [
      "\u001b[1;31m---------------------------------------------------------------------------\u001b[0m",
      "\u001b[1;31mTypeError\u001b[0m                                 Traceback (most recent call last)",
      "\u001b[1;32m<ipython-input-99-4a19ec1f0399>\u001b[0m in \u001b[0;36m<module>\u001b[1;34m\u001b[0m\n\u001b[1;32m----> 1\u001b[1;33m \u001b[0md1\u001b[0m\u001b[1;33m+\u001b[0m\u001b[0md2\u001b[0m \u001b[1;31m#it works in list, it doesent work in dictionary although it is homogenious statement\u001b[0m\u001b[1;33m\u001b[0m\u001b[1;33m\u001b[0m\u001b[0m\n\u001b[0m",
      "\u001b[1;31mTypeError\u001b[0m: unsupported operand type(s) for +: 'dict' and 'dict'"
     ]
    }
   ],
   "source": [
    "d1+d2 #it works in list, it doesent work in dictionary although it is homogenious statement"
   ]
  },
  {
   "cell_type": "code",
   "execution_count": 103,
   "id": "56d27a35",
   "metadata": {},
   "outputs": [
    {
     "data": {
      "text/plain": [
       "{'key1': 'ineuron', 'key': 'FSDS'}"
      ]
     },
     "execution_count": 103,
     "metadata": {},
     "output_type": "execute_result"
    }
   ],
   "source": [
    "d1"
   ]
  },
  {
   "cell_type": "code",
   "execution_count": 104,
   "id": "3c6c53b5",
   "metadata": {},
   "outputs": [
    {
     "data": {
      "text/plain": [
       "{'key2': 456, 'key3': [2, 2, 2, 2]}"
      ]
     },
     "execution_count": 104,
     "metadata": {},
     "output_type": "execute_result"
    }
   ],
   "source": [
    "d2"
   ]
  },
  {
   "cell_type": "code",
   "execution_count": 105,
   "id": "d21a0c82",
   "metadata": {},
   "outputs": [
    {
     "data": {
      "text/plain": [
       "{'key1': 'ineuron', 'key': 'FSDS'}"
      ]
     },
     "execution_count": 105,
     "metadata": {},
     "output_type": "execute_result"
    }
   ],
   "source": [
    "d1"
   ]
  },
  {
   "cell_type": "code",
   "execution_count": 107,
   "id": "3feace87",
   "metadata": {},
   "outputs": [],
   "source": [
    "key = ('name','mobile_no','email_id')\n",
    "value = \"sudh\""
   ]
  },
  {
   "cell_type": "code",
   "execution_count": 110,
   "id": "7851dd95",
   "metadata": {},
   "outputs": [],
   "source": [
    "d = d1.fromkeys(key,value) # it will map and create a new dictionary for us"
   ]
  },
  {
   "cell_type": "code",
   "execution_count": 109,
   "id": "d954aaa6",
   "metadata": {},
   "outputs": [
    {
     "data": {
      "text/plain": [
       "{'name': 'sudh', 'mobile_no': 'sudh', 'email_id': 'sudh'}"
      ]
     },
     "execution_count": 109,
     "metadata": {},
     "output_type": "execute_result"
    }
   ],
   "source": [
    "d"
   ]
  }
 ],
 "metadata": {
  "kernelspec": {
   "display_name": "Python 3",
   "language": "python",
   "name": "python3"
  },
  "language_info": {
   "codemirror_mode": {
    "name": "ipython",
    "version": 3
   },
   "file_extension": ".py",
   "mimetype": "text/x-python",
   "name": "python",
   "nbconvert_exporter": "python",
   "pygments_lexer": "ipython3",
   "version": "3.8.8"
  }
 },
 "nbformat": 4,
 "nbformat_minor": 5
}
