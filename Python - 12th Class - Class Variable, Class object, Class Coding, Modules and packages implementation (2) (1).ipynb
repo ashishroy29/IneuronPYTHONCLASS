{
 "cells": [
  {
   "cell_type": "markdown",
   "metadata": {},
   "source": [
    "# Practical implementation of OOPS concept"
   ]
  },
  {
   "cell_type": "code",
   "execution_count": null,
   "metadata": {},
   "outputs": [],
   "source": [
    "class car : #We are trying to create a blueprint of a car,there can be some common property\n",
    "    def __init_(self , body_type, engine, fuel_type) : #here we are trying to put a basic data inside it. we are supposed to keep very first variable as a pointer.\n",
    "        self.body_type = body_type\n",
    "        self.engine = engine\n",
    "        self.fuel_type = fuel_type # again we can create any number of method\n",
    "        \n",
    "    \n",
    "    def test(self) :\n",
    "        print(\"This is my first method in my car class\")\n",
    "    "
   ]
  },
  {
   "cell_type": "code",
   "execution_count": null,
   "metadata": {},
   "outputs": [],
   "source": [
    "# here someone has created an integer class, float class, string class so thats the reason we are able to create these methods."
   ]
  },
  {
   "cell_type": "code",
   "execution_count": null,
   "metadata": {},
   "outputs": [],
   "source": [
    "class car : #We are trying to create a blueprint of a car,there can be some common property\n",
    "    def __init__(self , body_type, engine, fuel_type) : #here we are trying to put a basic data inside it.\n",
    "        self.body_type = body_type\n",
    "        self.engine = engine\n",
    "        self.fuel_type = input() # again we can create any number of method\n",
    "        \n",
    "    \n",
    "    def "
   ]
  },
  {
   "cell_type": "code",
   "execution_count": null,
   "metadata": {},
   "outputs": [],
   "source": [
    "a = input()"
   ]
  },
  {
   "cell_type": "code",
   "execution_count": null,
   "metadata": {},
   "outputs": [],
   "source": [
    "a = 10"
   ]
  },
  {
   "cell_type": "code",
   "execution_count": null,
   "metadata": {},
   "outputs": [],
   "source": [
    "print(type(a)) # Some one has already created a class called as int"
   ]
  },
  {
   "cell_type": "code",
   "execution_count": null,
   "metadata": {},
   "outputs": [],
   "source": [
    "b = 'asjdhasj'"
   ]
  },
  {
   "cell_type": "code",
   "execution_count": null,
   "metadata": {},
   "outputs": [],
   "source": [
    "print(type(b))# Someone has already created a class called as string, integer.\n",
    "# In the similar manner i would like to create my own class and i would like to define my own kind of a variables"
   ]
  },
  {
   "cell_type": "code",
   "execution_count": null,
   "metadata": {},
   "outputs": [],
   "source": [
    "#So similarly, we are trying to create our own class and our own variable, it can be as many variable as we want, we all will be able to create it."
   ]
  },
  {
   "cell_type": "code",
   "execution_count": null,
   "metadata": {},
   "outputs": [],
   "source": [
    "#I have already created a car class which is a generic one\n",
    "class car : #We are trying to create a blueprint of a car,there can be some common property\n",
    "    def __init__(self , body_type, engine, fuel_type) : #here we are trying to put a basic data inside it. we are supposed to keep very first variable as a pointer.\n",
    "        self.body_type = body_type\n",
    "        self.engine = engine\n",
    "        self.fuel_type = fuel_type # again we can create any number of method\n",
    "        \n",
    "    \n",
    "    def test(self) :\n",
    "        print(\"This is my first method in my car class\")"
   ]
  },
  {
   "cell_type": "code",
   "execution_count": null,
   "metadata": {},
   "outputs": [],
   "source": [
    "fortuner.engine"
   ]
  },
  {
   "cell_type": "code",
   "execution_count": null,
   "metadata": {},
   "outputs": [],
   "source": [
    "nexon = car(\"SUV\", \"BS6\", \"Diesel\")"
   ]
  },
  {
   "cell_type": "code",
   "execution_count": null,
   "metadata": {},
   "outputs": [],
   "source": [
    "#We can call a class variable which is called fortuner, which is called nexon"
   ]
  },
  {
   "cell_type": "code",
   "execution_count": null,
   "metadata": {},
   "outputs": [],
   "source": [
    "#I have already created a car class which is a generic one\n",
    "class car : #We are trying to create a blueprint of a car,there can be some common property\n",
    "    def __init__(self , body_type, engine, fuel_type) : #here we are trying to put a basic data inside it. we are supposed to keep very first variable as a pointer.\n",
    "        self.body_type1 = body_type\n",
    "        self.engine = engine\n",
    "        self.fuel_type = fuel_type # again we can create any number of method\n",
    "        \n",
    "    \n",
    "    def test(self) :\n",
    "        print(\"This is my first method in my car class\")"
   ]
  },
  {
   "cell_type": "code",
   "execution_count": null,
   "metadata": {},
   "outputs": [],
   "source": [
    "fortuner.body_type1"
   ]
  },
  {
   "cell_type": "code",
   "execution_count": null,
   "metadata": {},
   "outputs": [],
   "source": [
    "#I have already created a car class which is a generic one\n",
    "class car : #We are trying to create a blueprint of a car,there can be some common property\n",
    "    def __init__(self , body_type, engine, fuel_type) : #here we are trying to put a basic data inside it. we are supposed to keep very first variable as a pointer.\n",
    "        self.a = body_type\n",
    "        self.b = engine\n",
    "        self.c = fuel_type # again we can create any number of method\n",
    "        \n",
    "    \n",
    "    def test(self) :\n",
    "        print(\"This is my first method in my car class\")"
   ]
  },
  {
   "cell_type": "code",
   "execution_count": null,
   "metadata": {},
   "outputs": [],
   "source": [
    "fortuner.a"
   ]
  },
  {
   "cell_type": "code",
   "execution_count": null,
   "metadata": {},
   "outputs": [],
   "source": [
    "#I have already created a car class which is a generic one\n",
    "class car : #We are trying to create a blueprint of a car,there can be some common property\n",
    "    def __init__(car_c , body_type, engine, fuel_type) : #here we are trying to put a basic data inside it. we are supposed to keep very first variable as a pointer.\n",
    "        car_c.a = body_type\n",
    "        car_c.b = engine\n",
    "        car_c.c = fuel_type # again we can create any number of method\n",
    "        \n",
    "    \n",
    "    def test(car_1) :\n",
    "        print(\"This is my first method in my car class\")"
   ]
  },
  {
   "cell_type": "code",
   "execution_count": null,
   "metadata": {},
   "outputs": [],
   "source": [
    "fortuner = car(\"SUV\",\"BS4\",\"Petrol\")"
   ]
  },
  {
   "cell_type": "code",
   "execution_count": null,
   "metadata": {},
   "outputs": [],
   "source": [
    "fortuner.body_type"
   ]
  },
  {
   "cell_type": "code",
   "execution_count": null,
   "metadata": {},
   "outputs": [],
   "source": [
    "fortuner.test()"
   ]
  },
  {
   "cell_type": "code",
   "execution_count": null,
   "metadata": {},
   "outputs": [],
   "source": [
    "fortuner.c"
   ]
  },
  {
   "cell_type": "code",
   "execution_count": null,
   "metadata": {},
   "outputs": [],
   "source": [
    "fortuner.a"
   ]
  },
  {
   "cell_type": "code",
   "execution_count": null,
   "metadata": {},
   "outputs": [],
   "source": [
    "fortuner.test()"
   ]
  },
  {
   "cell_type": "code",
   "execution_count": null,
   "metadata": {},
   "outputs": [],
   "source": [
    "#I have already created a car class which is a generic one\n",
    "class car : #We are trying to create a blueprint of a car,there can be some common property\n",
    "    def __init__(self , body_type, engine, fuel_type) : #here we are trying to put a basic data inside it. we are supposed to keep very first variable as a pointer.\n",
    "        self.body_type = body_type\n",
    "        self.engine = engine\n",
    "        self.fuel_type = fuel_type # again we can create any number of method\n",
    "        \n",
    "    \n",
    "    def test(self) :\n",
    "        print(\"This is my first method in my car class\")"
   ]
  },
  {
   "cell_type": "markdown",
   "metadata": {},
   "source": [
    "# suppose we are not defining any kind of an init"
   ]
  },
  {
   "cell_type": "code",
   "execution_count": null,
   "metadata": {},
   "outputs": [],
   "source": [
    "#I have already created a car class which is a generic one\n",
    "class car : #We are trying to create a blueprint of a car,there can be some common property\n",
    "\n",
    "    def test(self) :\n",
    "        print(\"This is my first method in my car class\")"
   ]
  },
  {
   "cell_type": "code",
   "execution_count": null,
   "metadata": {},
   "outputs": [],
   "source": [
    "x = car()"
   ]
  },
  {
   "cell_type": "code",
   "execution_count": null,
   "metadata": {},
   "outputs": [],
   "source": [
    "x.test()"
   ]
  },
  {
   "cell_type": "code",
   "execution_count": null,
   "metadata": {},
   "outputs": [],
   "source": [
    "class list_parser :\n",
    "    def parcer(self, a):\n",
    "        if type(a) == list :\n",
    "            for i in a :\n",
    "                print(i)"
   ]
  },
  {
   "cell_type": "code",
   "execution_count": null,
   "metadata": {},
   "outputs": [],
   "source": [
    "# c is a classobject\n",
    "c = list_parser()\n",
    "c.parcer([2,3,4,5,6,7,8])"
   ]
  },
  {
   "cell_type": "code",
   "execution_count": null,
   "metadata": {},
   "outputs": [],
   "source": [
    "class list_parser :\n",
    "    \n",
    "    def parcer(self, a):\n",
    "        if type(a) == list :\n",
    "            for i in a :\n",
    "                print(i)\n",
    "    \n",
    "    def reverse_list(self, z):\n",
    "        if type(z) == list:\n",
    "            return z[::-1]"
   ]
  },
  {
   "cell_type": "code",
   "execution_count": null,
   "metadata": {},
   "outputs": [],
   "source": [
    "# c is a classobject\n",
    "c = list_parser()\n",
    "c.parcer([2,3,4,5,6,7,8])"
   ]
  },
  {
   "cell_type": "code",
   "execution_count": null,
   "metadata": {},
   "outputs": [],
   "source": [
    "c.reverse_list([2,3,4,5,6,7,8])"
   ]
  },
  {
   "cell_type": "code",
   "execution_count": null,
   "metadata": {},
   "outputs": [],
   "source": [
    "l = [1,2,3,44]"
   ]
  },
  {
   "cell_type": "code",
   "execution_count": null,
   "metadata": {},
   "outputs": [],
   "source": [
    "#pass values into all methods"
   ]
  },
  {
   "cell_type": "code",
   "execution_count": null,
   "metadata": {},
   "outputs": [],
   "source": [
    "class list_parser :\n",
    "    def __init__(self,l):\n",
    "        self.l = l\n",
    "    \n",
    "    def parcer(self, a):\n",
    "        if type(a) == list :\n",
    "            for i in a :\n",
    "                print(i)\n",
    "    \n",
    "    def reverse_list(self, z):\n",
    "        if type(z) == list:\n",
    "            return z[::-1]"
   ]
  },
  {
   "cell_type": "code",
   "execution_count": null,
   "metadata": {},
   "outputs": [],
   "source": [
    "# c is a classobject\n",
    "c = list_parser()\n",
    "c.parcer()"
   ]
  },
  {
   "cell_type": "code",
   "execution_count": null,
   "metadata": {},
   "outputs": [],
   "source": [
    "c.reverse_list()"
   ]
  },
  {
   "cell_type": "code",
   "execution_count": null,
   "metadata": {},
   "outputs": [],
   "source": [
    "class list_parser :\n",
    "    def __init__(self,l):\n",
    "        self.l = l\n",
    "    \n",
    "    def parcer(self):\n",
    "        if type(self.l) == list :\n",
    "            for i in self.l :\n",
    "                print(i)\n",
    "    \n",
    "    def reverse_list(self):\n",
    "        if type(self.l) == list:\n",
    "            return self.l[::-1]"
   ]
  },
  {
   "cell_type": "code",
   "execution_count": null,
   "metadata": {},
   "outputs": [],
   "source": [
    "c = list_parser([2,3,4,5,6,7])"
   ]
  },
  {
   "cell_type": "code",
   "execution_count": null,
   "metadata": {},
   "outputs": [],
   "source": [
    "c.parcer()"
   ]
  },
  {
   "cell_type": "code",
   "execution_count": null,
   "metadata": {},
   "outputs": [],
   "source": [
    "c.reverse_list()"
   ]
  },
  {
   "cell_type": "code",
   "execution_count": null,
   "metadata": {},
   "outputs": [],
   "source": [
    "# Problem statement\n",
    "# Create a class for dictionarty parsing\n",
    "\n",
    "#1. Write a function to give all the keys\n",
    "#2. Write a function to give all the values\n",
    "#3. Write a function to throw an exception in case of input is not dictionary\n",
    "#4. Write a function to take user input and then parse a key and value out of dictionary\n",
    "#5. Write a function to insert new value pair into dictionary"
   ]
  },
  {
   "cell_type": "code",
   "execution_count": 10,
   "metadata": {},
   "outputs": [],
   "source": [
    "# 1st Type:\n",
    "\n",
    "class Dictionary_Functions :\n",
    "    \"\"\"This Class will help us in Making manipulations to Dictionaries with different Methods/Functions\"\"\"\n",
    "    \n",
    "    def __init__ (self, d):\n",
    "        \"\"\"Here we are assigning class variables using init, basically init will help us in feeding the data to the class\"\"\"\n",
    "        self.d = d\n",
    "        \n",
    "    def DictKeys(self):\n",
    "        \"\"\"This function will help us to fetch all the keys in a dictionary\"\"\"\n",
    "        try:\n",
    "            for i in self.d :\n",
    "                if type(self.d) == dict :\n",
    "                    return list(self.d.keys())\n",
    "        except Exception as e :\n",
    "            print(f\"Error {e}\")\n",
    "    \n",
    "    def DictValue(self):\n",
    "        \"\"\"This function will help us to fetch all the keys in a dictionary\"\"\"\n",
    "        try:\n",
    "            for i in self.d :\n",
    "                if type(self.d) == dict :\n",
    "                    return list(self.d.values())\n",
    "        except Exception as e:\n",
    "            print(f\"Error {e}\")\n",
    "            \n",
    "    def RaiseExpifNotDict(self):\n",
    "        \"\"\"This function will help in throwing an exception if the value does not consist of a Dictionary when inputing\"\"\"\n",
    "        try:\n",
    "            if type(self.d) != dict :\n",
    "                raise Exception(self.d,\"Is not a Dictonary\")\n",
    "            return 1\n",
    "        except Exception as e:\n",
    "            print(e)\n",
    "            \n",
    "    def UserInputDict(self):\n",
    "        \"\"\"This function will take in a input and give out the output as dictionary\"\"\"\n",
    "        try:\n",
    "            self.d = {}\n",
    "            while(True):\n",
    "                key = input(\"Enter your key (KEY). Press -1 to Exit\")\n",
    "                value = input(\"Enter your key (VALUE). Press -1 to Exit\")\n",
    "            \n",
    "                if key == \"-1\" or value == \"-1\":\n",
    "                    break\n",
    "                \n",
    "                self.d[key] = value\n",
    "            print(f\"Now your Dictionary is {self.d}\")\n",
    "        except Exception as e:\n",
    "                  print(f\"Error: {e}\")\n",
    "                  \n",
    "    def New_value_pair(self, newkey, newvalue) :\n",
    "        \"\"\"This function will give out new value pair of the dictionary\"\"\"\n",
    "        try:\n",
    "            if type(self.d) == dict:\n",
    "                self.d[newkey] = newvalue\n",
    "                return self.d\n",
    "        except Exception as e :\n",
    "            print(f\"Error : {e}\")"
   ]
  },
  {
   "cell_type": "code",
   "execution_count": 11,
   "metadata": {},
   "outputs": [],
   "source": [
    "d = Dictionary_Functions({\"k\":\"ashi\",\"k2\":[1,2,3,4,5]})"
   ]
  },
  {
   "cell_type": "code",
   "execution_count": 12,
   "metadata": {},
   "outputs": [
    {
     "data": {
      "text/plain": [
       "['k', 'k2']"
      ]
     },
     "execution_count": 12,
     "metadata": {},
     "output_type": "execute_result"
    }
   ],
   "source": [
    "d.DictKeys()"
   ]
  },
  {
   "cell_type": "code",
   "execution_count": 13,
   "metadata": {},
   "outputs": [
    {
     "data": {
      "text/plain": [
       "['ashi', [1, 2, 3, 4, 5]]"
      ]
     },
     "execution_count": 13,
     "metadata": {},
     "output_type": "execute_result"
    }
   ],
   "source": [
    "d.DictValue()"
   ]
  },
  {
   "cell_type": "code",
   "execution_count": 14,
   "metadata": {},
   "outputs": [
    {
     "data": {
      "text/plain": [
       "1"
      ]
     },
     "execution_count": 14,
     "metadata": {},
     "output_type": "execute_result"
    }
   ],
   "source": [
    "d.RaiseExpifNotDict()"
   ]
  },
  {
   "cell_type": "code",
   "execution_count": 15,
   "metadata": {},
   "outputs": [],
   "source": [
    "zzz = Dictionary_Functions([1,2,3,4,5])"
   ]
  },
  {
   "cell_type": "code",
   "execution_count": 16,
   "metadata": {},
   "outputs": [
    {
     "name": "stdout",
     "output_type": "stream",
     "text": [
      "([1, 2, 3, 4, 5], 'Is not a Dictonary')\n"
     ]
    }
   ],
   "source": [
    "zzz.RaiseExpifNotDict()"
   ]
  },
  {
   "cell_type": "code",
   "execution_count": 17,
   "metadata": {},
   "outputs": [
    {
     "data": {
      "text/plain": [
       "{'k': 'ashi', 'k2': [1, 2, 3, 4, 5], 'asjkaskj': 'al;sdkas'}"
      ]
     },
     "execution_count": 17,
     "metadata": {},
     "output_type": "execute_result"
    }
   ],
   "source": [
    "d.New_value_pair(\"asjkaskj\",\"al;sdkas\")"
   ]
  },
  {
   "cell_type": "code",
   "execution_count": 18,
   "metadata": {},
   "outputs": [
    {
     "name": "stdout",
     "output_type": "stream",
     "text": [
      "Enter your key (KEY). Press -1 to ExitKey1\n",
      "Enter your key (VALUE). Press -1 to ExitValue1\n",
      "Enter your key (KEY). Press -1 to ExitKey2\n",
      "Enter your key (VALUE). Press -1 to ExitValue2\n",
      "Enter your key (KEY). Press -1 to ExitKey3\n",
      "Enter your key (VALUE). Press -1 to ExitValue3\n",
      "Enter your key (KEY). Press -1 to Exit-1\n",
      "Enter your key (VALUE). Press -1 to Exit\n",
      "Now your Dictionary is {'Key1': 'Value1', 'Key2': 'Value2', 'Key3': 'Value3'}\n"
     ]
    }
   ],
   "source": [
    "d.UserInputDict()"
   ]
  },
  {
   "cell_type": "code",
   "execution_count": 19,
   "metadata": {},
   "outputs": [],
   "source": [
    "#SECOND METHOD\n",
    "class dict_parsing :\n",
    "    \n",
    "    def __init__(self,a):\n",
    "        self.a = a\n",
    "    \n",
    "    def getkeys(self):\n",
    "        if self.notdict():\n",
    "            return list(self.a.keys())\n",
    "        \n",
    "    def getvalues(self):\n",
    "        if self.notdict():\n",
    "            return list(self.a.values())\n",
    "        \n",
    "    def notdict(self):\n",
    "        if type(self.a) != dict:\n",
    "            raise Exception(self.a,\"Not a Dictionary\")\n",
    "        return 1\n",
    "    \n",
    "    def userinput(self):\n",
    "        self.a = eval(input())\n",
    "        print(self.a,type(self.a))\n",
    "        print(self.getkeys())\n",
    "        print(self.getvalues())\n",
    "        \n",
    "    def insertion(self,k,v):\n",
    "        self.a[k] = v"
   ]
  },
  {
   "cell_type": "code",
   "execution_count": 20,
   "metadata": {},
   "outputs": [],
   "source": [
    "#3rd Approach\n",
    "class dict_parserzz :\n",
    "    \n",
    "    def __init__ (self,dic):\n",
    "        if type(dic) != dict:\n",
    "            raise ValueError(\"Input is not Dictionary\")\n",
    "        self.dictionary = dic\n",
    "        \n",
    "    def get_keys(self):\n",
    "        return self.dictionary.keys()\n",
    "    \n",
    "    def get_values(self):\n",
    "        return self.dictionary.values()\n",
    "    \n",
    "    def take_input(self):\n",
    "        a = input(\"enter Key\")\n",
    "        b = input(\"enter value\")\n",
    "        self.dictionary[a] = b\n",
    "        \n",
    "    def insert_key_val_pair(self,key,value):\n",
    "        self.dictionary[key] = value"
   ]
  },
  {
   "cell_type": "code",
   "execution_count": 23,
   "metadata": {},
   "outputs": [],
   "source": [
    "#4th Approach\n",
    "class dict_activity :\n",
    "    \n",
    "    def __init__ (self,dic) :\n",
    "        self.dic = dic\n",
    "        \n",
    "    def give_allkeys (self) :\n",
    "        if self.check_thetype() :\n",
    "            return self.dic.keys()\n",
    "    \n",
    "    def give_allvalues (self) :\n",
    "        if self.check_thetype() :\n",
    "            return self.dic.values()\n",
    "        \n",
    "    def check_thetype (self):\n",
    "        if isinstance(self.dic, dict) == 0:\n",
    "            raise Exception (\"You have Entered a : \", type(self.dic))\n",
    "        return 1\n",
    "    \n",
    "    def enter_key_to_get_value (self) :\n",
    "        if self.check_thetype():\n",
    "            key = input(\"Enter the Key\")\n",
    "            if key in self.dic :\n",
    "                print(\"Value is : \", self.dic[key])\n",
    "            else :\n",
    "                print(\"Key is not present\")\n",
    "                \n",
    "    def enter_key_and_value (self):\n",
    "        if self.check_thetype():\n",
    "            key = input(\"Enter the Key\")\n",
    "            value = input(\"Enter the Value\")\n",
    "            self.dic[key] = value"
   ]
  },
  {
   "cell_type": "code",
   "execution_count": 25,
   "metadata": {},
   "outputs": [],
   "source": [
    "#5th Approach\n",
    "class Dict_class:\n",
    "    def __init__(self,d):\n",
    "        if type(d) != dict:\n",
    "            raise Exception (\"Not a Dict\")\n",
    "        self.d = d\n",
    "    \n",
    "    def keys(self):\n",
    "        for i in self.d.keys():\n",
    "            print(i)\n",
    "            \n",
    "    def values(self):\n",
    "        for i in self.d.values():\n",
    "            print(i)\n",
    "            \n",
    "    def parse(self,key):\n",
    "        print(self.d[key])\n",
    "    \n",
    "    def insert(self,**kwargs):\n",
    "        for k,v in kwargs.items():\n",
    "            self.d[k] = v\n",
    "            print(\"Value inserted\")"
   ]
  },
  {
   "cell_type": "code",
   "execution_count": 26,
   "metadata": {},
   "outputs": [],
   "source": [
    "import logging as lg\n",
    "lg.basicConfig(filename= \"Dict.log\")\n",
    "class dict_parsing :\n",
    "    \n",
    "    def __init__(self,a):\n",
    "        self.a = a\n",
    "        \n",
    "    def dict_keys(self):\n",
    "        try:\n",
    "            l = list(self.a.keys())\n",
    "            return l\n",
    "        except:\n",
    "            self.logger(\"Enter a Dictionary\")\n",
    "    \n",
    "    def dict_values(self):\n",
    "        try:\n",
    "            return list(self.a.values())\n",
    "        except:\n",
    "            self.logger(\"Enter a Dictionary\")\n",
    "    \n",
    "    def insert_dic(self,**kwargs):\n",
    "        try:\n",
    "            self.a.update(kwargs)\n",
    "            return self.a\n",
    "        except:\n",
    "            self.logger(\"Enter a Dictionary\")\n",
    "    \n",
    "    def logger(self,log):\n",
    "        logger = lg.error(log)\n",
    "        \n",
    "    def check(self):\n",
    "        if type(self.a) != dict:\n",
    "            raise Exception (\"Not a Dictionary\")\n",
    "        else :\n",
    "            print(\"It is a Dictionary\")\n",
    "            \n",
    "    def __str__(self):\n",
    "        return \"This is class for Dictionary parsing\""
   ]
  },
  {
   "cell_type": "code",
   "execution_count": 27,
   "metadata": {},
   "outputs": [],
   "source": [
    "# INTEGRATE IT INTO SOME PACKAGEES AND MODULES"
   ]
  },
  {
   "cell_type": "code",
   "execution_count": 28,
   "metadata": {},
   "outputs": [
    {
     "data": {
      "text/plain": [
       "<_io.TextIOWrapper name='mydict.py' mode='w' encoding='cp1252'>"
      ]
     },
     "execution_count": 28,
     "metadata": {},
     "output_type": "execute_result"
    }
   ],
   "source": [
    "open(\"mydict.py\",\"w\")"
   ]
  },
  {
   "cell_type": "code",
   "execution_count": 29,
   "metadata": {},
   "outputs": [
    {
     "name": "stdout",
     "output_type": "stream",
     "text": [
      " Volume in drive C has no label.\n",
      " Volume Serial Number is 408C-821B\n",
      "\n",
      " Directory of C:\\Users\\ashish\\Desktop\\Ineuron\n",
      "\n",
      "04/10/2022  02:57 PM    <DIR>          .\n",
      "04/10/2022  02:57 PM    <DIR>          ..\n",
      "04/07/2022  03:12 PM    <DIR>          .idea\n",
      "04/09/2022  06:44 PM    <DIR>          .ipynb_checkpoints\n",
      "04/07/2022  12:11 AM    <DIR>          __pycache__\n",
      "04/10/2022  01:57 PM                 0 Dict.log\n",
      "04/05/2022  03:49 PM                 0 Modules , Modular coding.txt\n",
      "04/07/2022  01:01 AM    <DIR>          My Directory\n",
      "04/07/2022  12:11 AM               237 my_module.py\n",
      "04/10/2022  02:57 PM                 0 mydict.py\n",
      "04/05/2022  02:19 PM               865 Notepad++.lnk\n",
      "04/07/2022  05:37 PM    <DIR>          ProjectsPython\n",
      "04/05/2022  02:16 PM               843 PyCharm Community Edition 2021.3.3.lnk\n",
      "04/07/2022  06:53 PM            16,573 Python - 11th class - Part 1 =  Modular Coding - What does it mean, How to create Directories and Modules.ipynb\n",
      "04/10/2022  02:48 PM            24,858 Python - 12th Class.ipynb\n",
      "04/08/2022  10:28 AM            21,653 Python Class 11 - Part - 2 = Class, Objects Basics.ipynb\n",
      "04/06/2022  07:14 PM               250 test1.py\n",
      "              10 File(s)         65,279 bytes\n",
      "               7 Dir(s)  405,519,667,200 bytes free\n"
     ]
    }
   ],
   "source": [
    "%ls"
   ]
  },
  {
   "cell_type": "code",
   "execution_count": 30,
   "metadata": {},
   "outputs": [],
   "source": [
    "# TASK QUESTIONS:\n",
    "\n",
    "#Q1. Create your own package for all the list functions\n",
    "#Q2. Create your own package for all the tuple functions\n",
    "#Q3. Create your own package for all the Dictionary functions\n",
    "#Q4. Create your own package for all the set functions"
   ]
  },
  {
   "cell_type": "code",
   "execution_count": 1,
   "metadata": {},
   "outputs": [],
   "source": [
    "# whatever fucntions are available in these codes, we are supposed to replicate the same, by our own classes and objects\n",
    "# Restrictions/Guidelines\n",
    "# Always use Exception handling\n",
    "# Never use print statement\n",
    "# Always use logging while writing a code and log every activity performed by code in respective logging file"
   ]
  },
  {
   "cell_type": "code",
   "execution_count": null,
   "metadata": {},
   "outputs": [],
   "source": []
  }
 ],
 "metadata": {
  "kernelspec": {
   "display_name": "Python 3",
   "language": "python",
   "name": "python3"
  },
  "language_info": {
   "codemirror_mode": {
    "name": "ipython",
    "version": 3
   },
   "file_extension": ".py",
   "mimetype": "text/x-python",
   "name": "python",
   "nbconvert_exporter": "python",
   "pygments_lexer": "ipython3",
   "version": "3.8.5"
  }
 },
 "nbformat": 4,
 "nbformat_minor": 4
}
