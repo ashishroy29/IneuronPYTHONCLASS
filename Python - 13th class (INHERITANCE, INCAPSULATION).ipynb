{
 "cells": [
  {
   "cell_type": "code",
   "execution_count": null,
   "metadata": {},
   "outputs": [],
   "source": [
    "# Here we are trying to explore what is inheritance\n",
    "# Here we are trying to explore what is polymorphism\n",
    "# Here we are trying to explore what is the meaning of incapsulation"
   ]
  },
  {
   "cell_type": "markdown",
   "metadata": {},
   "source": [
    "# INHERITANCE"
   ]
  },
  {
   "cell_type": "code",
   "execution_count": null,
   "metadata": {},
   "outputs": [],
   "source": [
    "# In real life we all inherit few properties from our parents or from our grand parents, It can be the looks or the way we talk\n",
    "# It can be some sort of a nature, we all inherit something from our parents\n",
    "# Similar kind of a concept we will be able to findout in terms of a classes and an object\n",
    "# Here maybe we can create a class and create some kind of method inside the classes\n",
    "# Then if it is required, if you are going to utilize the same method again and again or variables again and again and again\n",
    "# Repeatdly, In that case you can try and inherit the property of parent class into a child class\n",
    "# We can inherit the property of a base class into a child class\n",
    "# We no need to rewrite same method, or same logic or same variable once again it will be done automatically"
   ]
  },
  {
   "cell_type": "code",
   "execution_count": null,
   "metadata": {},
   "outputs": [],
   "source": [
    "class xyz:\n",
    "    def __init__(self, a, b, c) :\n",
    "        self.a = a\n",
    "        self.b = b\n",
    "        self.c = c\n",
    "        \n",
    "    def test(self):\n",
    "        print(\"This is my first test method of xyz class\")\n",
    "        \n",
    "    def test1(self):\n",
    "        print(\"This is a test1 method of xyz class\")\n",
    "        \n",
    "    def test2(self):\n",
    "        print(\"This is my test2 method of xyz class\")"
   ]
  },
  {
   "cell_type": "code",
   "execution_count": null,
   "metadata": {},
   "outputs": [],
   "source": [
    "# Here we have created a class above\n",
    "# Even over here if i have to utilize a same function\n",
    "# suppose if i have to utilize test1 or test2 in the particular class xyz1\n",
    "# suppose if i have to utilize maybe a variable a,b or c, which is apart of xyz classes\n",
    "# We are not supposed to recreate all of these variables\n",
    "# We are not supposed to recreate all of these functions,methods\n",
    "# There is a way by which we will be able to access these functions, variables and method from my xyz class to my xyz1 class"
   ]
  },
  {
   "cell_type": "code",
   "execution_count": null,
   "metadata": {},
   "outputs": [],
   "source": [
    "class xyz1(xyz): #Here we are just trying to treat this class a method, this is called as inheritance, we are trying to inherit the property of xyz into xyz1\n",
    "    pass"
   ]
  },
  {
   "cell_type": "code",
   "execution_count": null,
   "metadata": {},
   "outputs": [],
   "source": [
    "p = xyz(1,2,3)"
   ]
  },
  {
   "cell_type": "code",
   "execution_count": null,
   "metadata": {},
   "outputs": [],
   "source": [
    "p.a"
   ]
  },
  {
   "cell_type": "code",
   "execution_count": null,
   "metadata": {},
   "outputs": [],
   "source": [
    "p.b"
   ]
  },
  {
   "cell_type": "code",
   "execution_count": null,
   "metadata": {},
   "outputs": [],
   "source": [
    "p.c"
   ]
  },
  {
   "cell_type": "code",
   "execution_count": null,
   "metadata": {},
   "outputs": [],
   "source": [
    "p.test()"
   ]
  },
  {
   "cell_type": "code",
   "execution_count": null,
   "metadata": {},
   "outputs": [],
   "source": [
    "p.test1()"
   ]
  },
  {
   "cell_type": "code",
   "execution_count": null,
   "metadata": {},
   "outputs": [],
   "source": [
    "p.test2()"
   ]
  },
  {
   "cell_type": "code",
   "execution_count": null,
   "metadata": {},
   "outputs": [],
   "source": [
    "q = xyz1()"
   ]
  },
  {
   "cell_type": "code",
   "execution_count": null,
   "metadata": {},
   "outputs": [],
   "source": [
    "#Here we are trying to call xyz properties into xyz1 class, we are just trying call the properties\n",
    "# By default we are trying to inherit some properties\n",
    "# Family Example\n",
    "# Here it is trying to inherit properties thats why we are getting that error"
   ]
  },
  {
   "cell_type": "code",
   "execution_count": null,
   "metadata": {},
   "outputs": [],
   "source": [
    "#Here the parent class is xyz and xyz1 is a child class"
   ]
  },
  {
   "cell_type": "code",
   "execution_count": null,
   "metadata": {},
   "outputs": [],
   "source": [
    "q = xyz1(1,2,3)"
   ]
  },
  {
   "cell_type": "code",
   "execution_count": null,
   "metadata": {},
   "outputs": [],
   "source": [
    "q.test()"
   ]
  },
  {
   "cell_type": "code",
   "execution_count": null,
   "metadata": {},
   "outputs": [],
   "source": [
    "q.test1()"
   ]
  },
  {
   "cell_type": "code",
   "execution_count": null,
   "metadata": {},
   "outputs": [],
   "source": [
    "q.test2()"
   ]
  },
  {
   "cell_type": "code",
   "execution_count": null,
   "metadata": {},
   "outputs": [],
   "source": [
    "#this is what happens in inheritance"
   ]
  },
  {
   "cell_type": "code",
   "execution_count": null,
   "metadata": {},
   "outputs": [],
   "source": [
    "q.test1()"
   ]
  },
  {
   "cell_type": "code",
   "execution_count": null,
   "metadata": {},
   "outputs": [],
   "source": [
    "# Another method:\n",
    "class xyz1(xyz) :\n",
    "    def test(self) :\n",
    "        print(\"This is a test method available in xyz1\")"
   ]
  },
  {
   "cell_type": "code",
   "execution_count": null,
   "metadata": {},
   "outputs": [],
   "source": [
    "g = xyz1(3,2,3)"
   ]
  },
  {
   "cell_type": "code",
   "execution_count": null,
   "metadata": {},
   "outputs": [],
   "source": [
    "#It will overwrite the method, we can change things in the child class.\n",
    "g.test()"
   ]
  },
  {
   "cell_type": "code",
   "execution_count": null,
   "metadata": {},
   "outputs": [],
   "source": [
    "class xyz:\n",
    "    def __inti__(self, a, b, c) :\n",
    "        self.a = a\n",
    "        self.b = b\n",
    "        self.c = c\n",
    "        \n",
    "    def test(self) : \n",
    "        print(\"This is a method of xyz class\") #they are independent classes\n",
    "        \n",
    "class xyz1:\n",
    "    \n",
    "    def __init__ (self, p, q, v):\n",
    "        self.p = p\n",
    "        self.q = q\n",
    "        self.v = v\n",
    "        \n",
    "    def test1(self):\n",
    "        print(\"This is a method of xyz1 class\") #they are independent class\n",
    "        \n",
    "class child(xyz,xyz1) : #Here we are trying to inherit from 2 classes\n",
    "    #This step is called as multiclass inheritance\n",
    "    pass"
   ]
  },
  {
   "cell_type": "code",
   "execution_count": null,
   "metadata": {},
   "outputs": [],
   "source": [
    "n = child(2,1,1)"
   ]
  },
  {
   "cell_type": "code",
   "execution_count": null,
   "metadata": {},
   "outputs": [],
   "source": [
    "#Objective, Inherit everything from xyz class and xyz 1 class\n",
    "#Here if we look at the function, it is able to inherit the function\n",
    "#if we are talking about the variable, it is only able to inherit one class variable\n",
    "n.test1()"
   ]
  },
  {
   "cell_type": "code",
   "execution_count": null,
   "metadata": {},
   "outputs": [],
   "source": [
    "class xyz:\n",
    "    def __inti__(self, a, b, c) :\n",
    "        self.a = a\n",
    "        self.b = b\n",
    "        self.c = c\n",
    "        \n",
    "    def test(self) : \n",
    "        print(\"This is a method of xyz class\") #they are independent classes\n",
    "        \n",
    "class xyz1:\n",
    "    \n",
    "    def __init__ (self, p, q, v):\n",
    "        self.p = p\n",
    "        self.q = q\n",
    "        self.v = v\n",
    "        \n",
    "    def test1(self):\n",
    "        print(\"This is a method of xyz1 class\") #they are independent class\n",
    "        \n",
    "class child(xyz1,xyz) : #Here we are trying to inherit from 2 classes\n",
    "    #This step is called as multiclass inheritance\n",
    "    pass"
   ]
  },
  {
   "cell_type": "code",
   "execution_count": null,
   "metadata": {},
   "outputs": [],
   "source": [
    "n = child()"
   ]
  },
  {
   "cell_type": "code",
   "execution_count": null,
   "metadata": {},
   "outputs": [],
   "source": [
    "#Here we can observe : By default it is trying to inherit all the variable from the first class which i have given as an argument at the time of inheritance\n",
    "# whatever class you give as a very first argument, it is trying to work just for that particular class Variable wise. Not method wise\n",
    "# Method wise it will inherit everything, it is trying to import both the methods from both the classes."
   ]
  },
  {
   "cell_type": "code",
   "execution_count": null,
   "metadata": {},
   "outputs": [],
   "source": [
    "#Objective : We have to inherit both the variables, how will we acheive that?"
   ]
  },
  {
   "cell_type": "code",
   "execution_count": null,
   "metadata": {},
   "outputs": [],
   "source": [
    "class xyz:\n",
    "    def __inti__(self, a, b, c) :\n",
    "        self.a = a\n",
    "        self.b = b\n",
    "        self.c = c\n",
    "        \n",
    "    def test(self) : \n",
    "        print(\"This is a method of xyz class\") #they are independent classes\n",
    "        \n",
    "class xyz1:\n",
    "    \n",
    "    def __init__ (self, p, q, v):\n",
    "        self.p = p\n",
    "        self.q = q\n",
    "        self.v = v\n",
    "        \n",
    "    def test1(self):\n",
    "        print(\"This is a method of xyz1 class\") #they are independent class\n",
    "        \n",
    "class child(xyz1,xyz) : #Here we are trying to inherit from 2 classes\n",
    "    #This step is called as multiclass inheritance\n",
    "    def __init__(self, *args) :\n",
    "        xyz.__init__(self,*args)\n",
    "        xyz1.__init__(self,*args)\n",
    "        "
   ]
  },
  {
   "cell_type": "code",
   "execution_count": null,
   "metadata": {},
   "outputs": [],
   "source": [
    "class xyz:\n",
    "    def __init__ (self, a,b,c) :\n",
    "        self.a = a\n",
    "        self.b = b\n",
    "        self.c = c\n",
    "        \n",
    "    def test(self) :\n",
    "        print(\"this is a method of xyz class\")\n",
    "        \n",
    "class xyz1:\n",
    "    def __init__(self,p,q,v):\n",
    "        self.p = p\n",
    "        self.q = q\n",
    "        self.v = v\n",
    "        \n",
    "    def test1(self):\n",
    "        print(\"This is a method from class xyz1\")\n",
    "        \n",
    "class child(xyz1,xyz):\n",
    "    def __init__(self, *args):\n",
    "        xyz.__init__(self,*args)  #here we are trying to say that try to inherit all the things and overwrite it\n",
    "        xyz1.__init__(self,*args) #here we are trying to say that try to inherit all the things and overwrite it"
   ]
  },
  {
   "cell_type": "code",
   "execution_count": null,
   "metadata": {},
   "outputs": [],
   "source": [
    "a = child(1,2,3)"
   ]
  },
  {
   "cell_type": "code",
   "execution_count": null,
   "metadata": {},
   "outputs": [],
   "source": [
    "a.a"
   ]
  },
  {
   "cell_type": "code",
   "execution_count": null,
   "metadata": {},
   "outputs": [],
   "source": [
    "a.b"
   ]
  },
  {
   "cell_type": "code",
   "execution_count": null,
   "metadata": {},
   "outputs": [],
   "source": [
    "a.c"
   ]
  },
  {
   "cell_type": "code",
   "execution_count": null,
   "metadata": {},
   "outputs": [],
   "source": [
    "a.p"
   ]
  },
  {
   "cell_type": "code",
   "execution_count": null,
   "metadata": {},
   "outputs": [],
   "source": [
    "a.q"
   ]
  },
  {
   "cell_type": "code",
   "execution_count": null,
   "metadata": {},
   "outputs": [],
   "source": [
    "a.v"
   ]
  },
  {
   "cell_type": "code",
   "execution_count": null,
   "metadata": {},
   "outputs": [],
   "source": [
    "a.test()"
   ]
  },
  {
   "cell_type": "code",
   "execution_count": null,
   "metadata": {},
   "outputs": [],
   "source": [
    "a.test1()"
   ]
  },
  {
   "cell_type": "code",
   "execution_count": null,
   "metadata": {},
   "outputs": [],
   "source": [
    "# now we can see that we are able to inherit every variable and everymethod from the parent class"
   ]
  },
  {
   "cell_type": "code",
   "execution_count": null,
   "metadata": {},
   "outputs": [],
   "source": [
    "class xyz:\n",
    "    def __init__ (self, a,b,c) :\n",
    "        self.a = a\n",
    "        self.b = b\n",
    "        self.c = c\n",
    "        \n",
    "    def test(self) :\n",
    "        print(\"this is a method of xyz class\")\n",
    "        \n",
    "class xyz1:\n",
    "    def __init__(self,p,q,v):\n",
    "        self.p = p\n",
    "        self.q = q\n",
    "        self.v = v\n",
    "        \n",
    "    def test1(self):\n",
    "        print(\"This is a method from class xyz1\")\n",
    "        \n",
    "class child(xyz1,xyz):\n",
    "    def __init__(self, *args,**kwargs):\n",
    "        xyz.__init__(self,*args)  #here we are trying to say that try to inherit all the things and overwrite it\n",
    "        xyz1.__init__(self,**kwargs) #here we are trying to say that try to inherit all the things and overwrite it"
   ]
  },
  {
   "cell_type": "code",
   "execution_count": null,
   "metadata": {},
   "outputs": [],
   "source": [
    "b = child(1,2,3,p = 2,q = 2,v = 2) #when giving kwargs we need to give it in a keyword agruments, which is clearly mentioned here"
   ]
  },
  {
   "cell_type": "code",
   "execution_count": null,
   "metadata": {},
   "outputs": [],
   "source": [
    "b.p"
   ]
  },
  {
   "cell_type": "code",
   "execution_count": null,
   "metadata": {},
   "outputs": [],
   "source": [
    "b.q"
   ]
  },
  {
   "cell_type": "code",
   "execution_count": null,
   "metadata": {},
   "outputs": [],
   "source": [
    "b.v"
   ]
  },
  {
   "cell_type": "code",
   "execution_count": null,
   "metadata": {},
   "outputs": [],
   "source": [
    "b.test()"
   ]
  },
  {
   "cell_type": "code",
   "execution_count": null,
   "metadata": {},
   "outputs": [],
   "source": [
    "b.test1()"
   ]
  },
  {
   "cell_type": "code",
   "execution_count": null,
   "metadata": {},
   "outputs": [],
   "source": [
    "#When we were trying to access variable and methods.\n",
    "#We could see that we were able to access all the methods\n",
    "#But we were unable to access the variables\n",
    "#To access a variable constructor is required __init__ is required"
   ]
  },
  {
   "cell_type": "code",
   "execution_count": null,
   "metadata": {},
   "outputs": [],
   "source": [
    "#The above is called as multiple inheritance"
   ]
  },
  {
   "cell_type": "code",
   "execution_count": null,
   "metadata": {},
   "outputs": [],
   "source": [
    "#Another situation\n",
    "class xyz:\n",
    "    def __init__(self,a,b,c) :\n",
    "        self.a = a\n",
    "        self.b = b\n",
    "        self.c = c\n",
    "        \n",
    "    def test(self):\n",
    "        print(\"This is a new methodology\")\n",
    "    \n",
    "class xyz1(xyz):\n",
    "    \n",
    "    def test1(self) :\n",
    "        print(\"This is a method from xyz1\")\n",
    "        \n",
    "class xyz2(xyz1):\n",
    "    def test2(self) :\n",
    "        print(\"This is a method from class2\")\n",
    "        \n",
    "class xyz3(xyz2):\n",
    "    def test3(self):\n",
    "        print(\"This is my method from xyz3\")"
   ]
  },
  {
   "cell_type": "code",
   "execution_count": null,
   "metadata": {},
   "outputs": [],
   "source": [
    "#The above is called mulitlevel inheritance"
   ]
  },
  {
   "cell_type": "code",
   "execution_count": null,
   "metadata": {},
   "outputs": [],
   "source": [
    "v = xyz2(5,6,7)"
   ]
  },
  {
   "cell_type": "code",
   "execution_count": null,
   "metadata": {},
   "outputs": [],
   "source": [
    "v.a"
   ]
  },
  {
   "cell_type": "code",
   "execution_count": null,
   "metadata": {},
   "outputs": [],
   "source": [
    "v = xyz3(5,6,7)"
   ]
  },
  {
   "cell_type": "code",
   "execution_count": null,
   "metadata": {},
   "outputs": [],
   "source": [
    "v.test3()"
   ]
  },
  {
   "cell_type": "code",
   "execution_count": null,
   "metadata": {},
   "outputs": [],
   "source": [
    "#MultiClass inheritance is Different\n",
    "#Multilevel inheritance is Different\n",
    "#There are 2 methods above"
   ]
  },
  {
   "cell_type": "code",
   "execution_count": null,
   "metadata": {},
   "outputs": [],
   "source": [
    "#TASK:\n",
    "#Q1 - Create a file class for reading data from a respective file with a method name read and write\n",
    "#Q2 - Try to inherit read and write method from parent class to child class to perform read and write operation"
   ]
  },
  {
   "cell_type": "code",
   "execution_count": null,
   "metadata": {},
   "outputs": [],
   "source": [
    "# 1st Method :\n",
    "import logging\n",
    "\n",
    "logging.basicConfig(filename=\"list.log\",level=logging.DEBUG,format=\"%(asctime)s %(levelname)s %(message)s\",filemode=\"w\" )\n",
    "\n",
    "class File:\n",
    "    def __init__(self,file_name):\n",
    "        logging.info(\"Creating File instance variable\")\n",
    "        self.file = file_name\n",
    "    \n",
    "    def read(self):\n",
    "        logging.info(\"Executing Read Method\")\n",
    "        try:\n",
    "            with open(f\"{self.file}.txt\",\"r\") as f :\n",
    "                data = f.read()\n",
    "                return data\n",
    "        except FileNotFoundError as e :\n",
    "            logging.error(\"Error occured while opening the file\")\n",
    "            logging.exception(f\"Error is{e}\")\n",
    "        \n",
    "    def write(self,data):\n",
    "        logging.info(\"Executing Write Method\")\n",
    "        try:\n",
    "            with open(f\"{self.file}.txt\",\"w\") as f:\n",
    "                data = f.write(data)\n",
    "        except FileNotFoundError as e :\n",
    "                logging.error(\"Something is going wrong\")\n",
    "                \n",
    "obj = File(\"abc\")"
   ]
  },
  {
   "cell_type": "code",
   "execution_count": null,
   "metadata": {},
   "outputs": [],
   "source": [
    "obj.file"
   ]
  },
  {
   "cell_type": "code",
   "execution_count": null,
   "metadata": {},
   "outputs": [],
   "source": [
    "obj.read()"
   ]
  },
  {
   "cell_type": "code",
   "execution_count": null,
   "metadata": {},
   "outputs": [],
   "source": [
    "obj.write(\"Abc\")"
   ]
  },
  {
   "cell_type": "code",
   "execution_count": null,
   "metadata": {},
   "outputs": [],
   "source": [
    "obj.read()"
   ]
  },
  {
   "cell_type": "code",
   "execution_count": null,
   "metadata": {},
   "outputs": [],
   "source": [
    "obj.write(\"My name is ashish\")"
   ]
  },
  {
   "cell_type": "code",
   "execution_count": null,
   "metadata": {},
   "outputs": [],
   "source": [
    "obj.read()"
   ]
  },
  {
   "cell_type": "code",
   "execution_count": 7,
   "metadata": {},
   "outputs": [
    {
     "name": "stdout",
     "output_type": "stream",
     "text": [
      "Inserted Lines .....\n"
     ]
    }
   ],
   "source": [
    "#Method2\n",
    "class readFile : #Parent Class\n",
    "    def __init__(self,fileObj,lines):\n",
    "        self.file = fileObj\n",
    "        self.lines = lines\n",
    "    \n",
    "    def readFile(self):\n",
    "        file2 = open(self.file,'r')\n",
    "        line = file2.readline()\n",
    "        while (lines != \"\"):\n",
    "            print(line)\n",
    "            break\n",
    "            line = file2.readline()\n",
    "            \n",
    "    def writeFile(self):\n",
    "        content_write = open(self.file,\"w\")\n",
    "        content_write.writelines(lines)\n",
    "        content_write.close()\n",
    "        \n",
    "\n",
    "class readFile1(readFile) : #Child class through which we are calling\n",
    "    def readFile1(self):\n",
    "        print(\"Inheritance of readFile class\")\n",
    "        \n",
    "file1 = r\"test2.txt\"\n",
    "lines = \"Inserted Lines .....\"\n",
    "\n",
    "read_write = readFile1(file1,lines)\n",
    "read_write.writeFile()\n",
    "read_write.readFile()"
   ]
  },
  {
   "cell_type": "code",
   "execution_count": 8,
   "metadata": {},
   "outputs": [],
   "source": [
    "# 3RD METHOD\n",
    "class fileoperation:\n",
    "    def __init__(self,filepath):\n",
    "        self.file = filepath\n",
    "        \n",
    "    def read(self):\n",
    "        try:\n",
    "            f = open(self.file,\"r\")\n",
    "            print(f.read())\n",
    "        except:\n",
    "            print(e)\n",
    "        f.close()\n",
    "    \n",
    "    def write(self,writings=\"\"):\n",
    "        try:\n",
    "            f = open(self.file,\"a\")\n",
    "        except Exception as e:\n",
    "            print(e)\n",
    "        f.write(writings)\n",
    "        f.close()\n",
    "        \n",
    "class child(fileoperation):\n",
    "    pass"
   ]
  },
  {
   "cell_type": "code",
   "execution_count": 13,
   "metadata": {},
   "outputs": [],
   "source": [
    "#4Th Method (dont seem to work)\n",
    "class file_read(object):\n",
    "    def __init__(self,filename) -> None:\n",
    "        self.file = filename\n",
    "        \n",
    "class read(file_read):\n",
    "    def read(self):\n",
    "        try:\n",
    "            open_file = open(self.file,\"r\")\n",
    "            self.read_file = open_file.read()\n",
    "            open_file.close()\n",
    "            return self.read_file\n",
    "        except Exception as e:\n",
    "            return e\n",
    "\n",
    "class write(file_read):\n",
    "    def write(self,*args):\n",
    "        try:\n",
    "            open_file = open(self.file,\"w\")\n",
    "            for ele in args:\n",
    "                open_file.write(ele)\n",
    "            return True\n",
    "        except Exception as e :\n",
    "            return e"
   ]
  },
  {
   "cell_type": "code",
   "execution_count": 15,
   "metadata": {},
   "outputs": [],
   "source": [
    "#Method 5\n",
    "class filetask:\n",
    "    def __init__(self,filename,filetype):\n",
    "        self.filename=filename\n",
    "        self.filetype=filetype\n",
    "        \n",
    "    def file_write(self):\n",
    "        f=open(self.filename,\"w\")\n",
    "        f.write(\"This is my class task\")\n",
    "        f.close()\n",
    "        \n",
    "    def file_read(self):\n",
    "        f=open(self.filename,\"r\")\n",
    "        print(f.read())\n",
    "        f.close()\n",
    "        \n",
    "class child(filetask):\n",
    "    pass\n",
    "\n",
    "test1 = filetask(\"testingclass\",\".txt\")\n",
    "test2 = child(\"testingclass2\",\".txt\")"
   ]
  },
  {
   "cell_type": "code",
   "execution_count": 19,
   "metadata": {},
   "outputs": [
    {
     "name": "stdout",
     "output_type": "stream",
     "text": [
      "This is my class task\n"
     ]
    }
   ],
   "source": [
    "# test1.file_write()\n",
    "test1.file_read()"
   ]
  },
  {
   "cell_type": "code",
   "execution_count": 20,
   "metadata": {},
   "outputs": [],
   "source": [
    "test2.file_write()"
   ]
  },
  {
   "cell_type": "code",
   "execution_count": 21,
   "metadata": {},
   "outputs": [
    {
     "name": "stdout",
     "output_type": "stream",
     "text": [
      "This is my class task\n"
     ]
    }
   ],
   "source": [
    "test2.file_read()"
   ]
  },
  {
   "cell_type": "markdown",
   "metadata": {},
   "source": [
    "# PUBLIC , PRIVATE AND PROTECTED (INCAPSULATION)"
   ]
  },
  {
   "cell_type": "code",
   "execution_count": 2,
   "metadata": {},
   "outputs": [],
   "source": [
    "# This concept is everywhere\n",
    "# this is related to oops concepts\n",
    "# It is implemented in a different way"
   ]
  },
  {
   "cell_type": "code",
   "execution_count": null,
   "metadata": {},
   "outputs": [],
   "source": [
    "# In python with the help of notation we will be able to define public, private and protected\n",
    "# Public - "
   ]
  },
  {
   "cell_type": "code",
   "execution_count": 6,
   "metadata": {},
   "outputs": [],
   "source": [
    "# PUBLIC\n",
    "class test :\n",
    "    def __init__(self,a,b,c) :\n",
    "        self.a = a\n",
    "        self.b = b\n",
    "        self.c = c\n",
    "        \n",
    "        \n",
    "class test1(test):\n",
    "    pass\n",
    "\n",
    "u = test(3,4,5)\n",
    "#Here we dont have any issues with accessing the variable"
   ]
  },
  {
   "cell_type": "code",
   "execution_count": 7,
   "metadata": {},
   "outputs": [],
   "source": [
    "v = test1(2,3,4)"
   ]
  },
  {
   "cell_type": "code",
   "execution_count": 8,
   "metadata": {},
   "outputs": [
    {
     "data": {
      "text/plain": [
       "2"
      ]
     },
     "execution_count": 8,
     "metadata": {},
     "output_type": "execute_result"
    }
   ],
   "source": [
    "v.a"
   ]
  },
  {
   "cell_type": "code",
   "execution_count": 9,
   "metadata": {},
   "outputs": [],
   "source": [
    "#We are able to access variables abc"
   ]
  },
  {
   "cell_type": "code",
   "execution_count": 10,
   "metadata": {},
   "outputs": [],
   "source": [
    "# Here we are able to alter the variable\n",
    "# a,b,c is what we are trying to overwrite"
   ]
  },
  {
   "cell_type": "code",
   "execution_count": 11,
   "metadata": {},
   "outputs": [],
   "source": [
    "#We have deposited some sort of an amount in the bank"
   ]
  },
  {
   "cell_type": "code",
   "execution_count": null,
   "metadata": {},
   "outputs": [],
   "source": [
    "#BANKING SYSTEM EXAMPLE :\n",
    "# These variables are public, We will be able to access these variables with parent class as well as child class or derived classes"
   ]
  },
  {
   "cell_type": "code",
   "execution_count": 13,
   "metadata": {},
   "outputs": [],
   "source": [
    "\n",
    "class test :\n",
    "    def __init__(self) :\n",
    "        self.a = 4\n",
    "        \n",
    "        \n",
    "class test1(test):\n",
    "    pass\n",
    "\n",
    "u = test()\n",
    "#Here we dont have any issues with accessing the variable"
   ]
  },
  {
   "cell_type": "code",
   "execution_count": 14,
   "metadata": {},
   "outputs": [
    {
     "data": {
      "text/plain": [
       "4"
      ]
     },
     "execution_count": 14,
     "metadata": {},
     "output_type": "execute_result"
    }
   ],
   "source": [
    "u.a"
   ]
  },
  {
   "cell_type": "code",
   "execution_count": 15,
   "metadata": {},
   "outputs": [],
   "source": [
    "v = test1()"
   ]
  },
  {
   "cell_type": "code",
   "execution_count": 16,
   "metadata": {},
   "outputs": [
    {
     "data": {
      "text/plain": [
       "4"
      ]
     },
     "execution_count": 16,
     "metadata": {},
     "output_type": "execute_result"
    }
   ],
   "source": [
    "v.a"
   ]
  },
  {
   "cell_type": "code",
   "execution_count": 17,
   "metadata": {},
   "outputs": [],
   "source": [
    "# These variables are available for my child classes aswell"
   ]
  },
  {
   "cell_type": "code",
   "execution_count": 20,
   "metadata": {},
   "outputs": [],
   "source": [
    "\n",
    "class test :\n",
    "    def __init__(self) :\n",
    "        self.a = 4\n",
    "        \n",
    "        \n",
    "class test1(test):\n",
    "    def __init__(self) :\n",
    "        self.a = 7\n",
    "\n",
    "u = test()\n",
    "#Here we dont have any issues with accessing the variable"
   ]
  },
  {
   "cell_type": "code",
   "execution_count": 21,
   "metadata": {},
   "outputs": [],
   "source": [
    "u= test()"
   ]
  },
  {
   "cell_type": "code",
   "execution_count": 22,
   "metadata": {},
   "outputs": [
    {
     "data": {
      "text/plain": [
       "4"
      ]
     },
     "execution_count": 22,
     "metadata": {},
     "output_type": "execute_result"
    }
   ],
   "source": [
    "u.a"
   ]
  },
  {
   "cell_type": "code",
   "execution_count": 40,
   "metadata": {},
   "outputs": [
    {
     "ename": "AttributeError",
     "evalue": "'test1' object has no attribute 'a'",
     "output_type": "error",
     "traceback": [
      "\u001b[1;31m---------------------------------------------------------------------------\u001b[0m",
      "\u001b[1;31mAttributeError\u001b[0m                            Traceback (most recent call last)",
      "\u001b[1;32m<ipython-input-40-193ca41ee2f9>\u001b[0m in \u001b[0;36m<module>\u001b[1;34m\u001b[0m\n\u001b[0;32m      1\u001b[0m \u001b[0mv\u001b[0m \u001b[1;33m=\u001b[0m \u001b[0mtest1\u001b[0m\u001b[1;33m(\u001b[0m\u001b[1;33m)\u001b[0m\u001b[1;33m\u001b[0m\u001b[1;33m\u001b[0m\u001b[0m\n\u001b[1;32m----> 2\u001b[1;33m \u001b[0mv\u001b[0m\u001b[1;33m.\u001b[0m\u001b[0ma\u001b[0m\u001b[1;33m\u001b[0m\u001b[1;33m\u001b[0m\u001b[0m\n\u001b[0m",
      "\u001b[1;31mAttributeError\u001b[0m: 'test1' object has no attribute 'a'"
     ]
    }
   ],
   "source": [
    "v = test1()\n",
    "v.a"
   ]
  },
  {
   "cell_type": "code",
   "execution_count": 24,
   "metadata": {},
   "outputs": [],
   "source": [
    "#PUBLIC - This is Public these variables can be accessed anywhere\n",
    "class test :\n",
    "    def __init__(self) :\n",
    "        self.a = 4\n",
    "        \n",
    "        \n",
    "class test1(test):\n",
    "    def __init__(self) :\n",
    "        test.__init__(self)\n",
    "        self.a = 7\n",
    "        #+self.a = 7\n",
    "\n",
    "u = test()"
   ]
  },
  {
   "cell_type": "code",
   "execution_count": 25,
   "metadata": {},
   "outputs": [
    {
     "data": {
      "text/plain": [
       "4"
      ]
     },
     "execution_count": 25,
     "metadata": {},
     "output_type": "execute_result"
    }
   ],
   "source": [
    "u.a"
   ]
  },
  {
   "cell_type": "code",
   "execution_count": 26,
   "metadata": {},
   "outputs": [
    {
     "data": {
      "text/plain": [
       "7"
      ]
     },
     "execution_count": 26,
     "metadata": {},
     "output_type": "execute_result"
    }
   ],
   "source": [
    "v.a"
   ]
  },
  {
   "cell_type": "code",
   "execution_count": 35,
   "metadata": {},
   "outputs": [],
   "source": [
    "# PROTECTED VARIABLE\n",
    "class test :\n",
    "    def __init__(self) :\n",
    "        self._a = 4 #whenever we create a variable with Single underscore it will be treated as a protected variable\n",
    "        \n",
    "        \n",
    "class test1(test):\n",
    "    def __init__(self) :\n",
    "        self._a = 7\n",
    "\n",
    "u = test()"
   ]
  },
  {
   "cell_type": "code",
   "execution_count": 36,
   "metadata": {},
   "outputs": [
    {
     "ename": "AttributeError",
     "evalue": "'test' object has no attribute 'a'",
     "output_type": "error",
     "traceback": [
      "\u001b[1;31m---------------------------------------------------------------------------\u001b[0m",
      "\u001b[1;31mAttributeError\u001b[0m                            Traceback (most recent call last)",
      "\u001b[1;32m<ipython-input-36-afa9342845d0>\u001b[0m in \u001b[0;36m<module>\u001b[1;34m\u001b[0m\n\u001b[1;32m----> 1\u001b[1;33m \u001b[0mu\u001b[0m\u001b[1;33m.\u001b[0m\u001b[0ma\u001b[0m\u001b[1;33m\u001b[0m\u001b[1;33m\u001b[0m\u001b[0m\n\u001b[0m",
      "\u001b[1;31mAttributeError\u001b[0m: 'test' object has no attribute 'a'"
     ]
    }
   ],
   "source": [
    "u.a"
   ]
  },
  {
   "cell_type": "code",
   "execution_count": 37,
   "metadata": {},
   "outputs": [
    {
     "data": {
      "text/plain": [
       "7"
      ]
     },
     "execution_count": 37,
     "metadata": {},
     "output_type": "execute_result"
    }
   ],
   "source": [
    "v.a"
   ]
  },
  {
   "cell_type": "code",
   "execution_count": 38,
   "metadata": {},
   "outputs": [
    {
     "data": {
      "text/plain": [
       "4"
      ]
     },
     "execution_count": 38,
     "metadata": {},
     "output_type": "execute_result"
    }
   ],
   "source": [
    "u._a"
   ]
  },
  {
   "cell_type": "code",
   "execution_count": 41,
   "metadata": {},
   "outputs": [
    {
     "data": {
      "text/plain": [
       "7"
      ]
     },
     "execution_count": 41,
     "metadata": {},
     "output_type": "execute_result"
    }
   ],
   "source": [
    "v._a"
   ]
  },
  {
   "cell_type": "code",
   "execution_count": 43,
   "metadata": {},
   "outputs": [],
   "source": [
    "# PRIVATE VARIABLE\n",
    "class test :\n",
    "    def __init__(self) :\n",
    "        self.__a = 4 \n",
    "        \n",
    "        \n",
    "class test1(test):\n",
    "    def __init__(self) :\n",
    "        self.__a = 7\n",
    "\n",
    "u = test()"
   ]
  },
  {
   "cell_type": "code",
   "execution_count": 44,
   "metadata": {},
   "outputs": [],
   "source": [
    "v= test1()"
   ]
  },
  {
   "cell_type": "code",
   "execution_count": 46,
   "metadata": {},
   "outputs": [
    {
     "ename": "AttributeError",
     "evalue": "'test' object has no attribute '__a'",
     "output_type": "error",
     "traceback": [
      "\u001b[1;31m---------------------------------------------------------------------------\u001b[0m",
      "\u001b[1;31mAttributeError\u001b[0m                            Traceback (most recent call last)",
      "\u001b[1;32m<ipython-input-46-45f5c7f66ea7>\u001b[0m in \u001b[0;36m<module>\u001b[1;34m\u001b[0m\n\u001b[1;32m----> 1\u001b[1;33m \u001b[0mu\u001b[0m\u001b[1;33m.\u001b[0m\u001b[0m__a\u001b[0m\u001b[1;33m\u001b[0m\u001b[1;33m\u001b[0m\u001b[0m\n\u001b[0m",
      "\u001b[1;31mAttributeError\u001b[0m: 'test' object has no attribute '__a'"
     ]
    }
   ],
   "source": [
    "u.__a"
   ]
  },
  {
   "cell_type": "code",
   "execution_count": 47,
   "metadata": {},
   "outputs": [
    {
     "ename": "AttributeError",
     "evalue": "'test1' object has no attribute '__a'",
     "output_type": "error",
     "traceback": [
      "\u001b[1;31m---------------------------------------------------------------------------\u001b[0m",
      "\u001b[1;31mAttributeError\u001b[0m                            Traceback (most recent call last)",
      "\u001b[1;32m<ipython-input-47-7aed92cddc9e>\u001b[0m in \u001b[0;36m<module>\u001b[1;34m\u001b[0m\n\u001b[1;32m----> 1\u001b[1;33m \u001b[0mv\u001b[0m\u001b[1;33m.\u001b[0m\u001b[0m__a\u001b[0m\u001b[1;33m\u001b[0m\u001b[1;33m\u001b[0m\u001b[0m\n\u001b[0m",
      "\u001b[1;31mAttributeError\u001b[0m: 'test1' object has no attribute '__a'"
     ]
    }
   ],
   "source": [
    "v.__a"
   ]
  },
  {
   "cell_type": "code",
   "execution_count": 48,
   "metadata": {},
   "outputs": [],
   "source": [
    "#We are unable to access the private variable, Why are we not able to access it?\n",
    "#Reason? = Python always understands or considers :\n",
    "\n",
    "# official Statement : Python always considers or understands that the person who is going to utilise a variable, They make sure enough\n",
    "# To treat a variable the way they are expecting\n",
    "# PUBLIC - If we have created a public variable, we are supposed to know that, ok so this is a public variable, i am not supposed to write any code for any sort of a modification\n",
    "# PROTECTED - I just have to inherit those kind of a things into the subclasses, the scope will not be availabe outside the subclass\n",
    "# PRIVATE - It should not be allowed to be inherited into a subclasses"
   ]
  },
  {
   "cell_type": "code",
   "execution_count": 59,
   "metadata": {},
   "outputs": [],
   "source": [
    "class test : \n",
    "    def __init__(self, a,b,c):\n",
    "        self._a = a # This is a notion,Here the scope is that you will be able to use it with in the class and the subclass\n",
    "        self.__b = b # This is a notion,Here the variable will not be identify the object\n",
    "        self.c = c # This is a notion,This variable you will be able to access anywhere in the class\n",
    "        \n",
    "v = test(3,4,5)"
   ]
  },
  {
   "cell_type": "code",
   "execution_count": 53,
   "metadata": {},
   "outputs": [
    {
     "ename": "AttributeError",
     "evalue": "'test' object has no attribute 'a'",
     "output_type": "error",
     "traceback": [
      "\u001b[1;31m---------------------------------------------------------------------------\u001b[0m",
      "\u001b[1;31mAttributeError\u001b[0m                            Traceback (most recent call last)",
      "\u001b[1;32m<ipython-input-53-bd111c48723f>\u001b[0m in \u001b[0;36m<module>\u001b[1;34m\u001b[0m\n\u001b[1;32m----> 1\u001b[1;33m \u001b[0mv\u001b[0m\u001b[1;33m.\u001b[0m\u001b[0ma\u001b[0m\u001b[1;33m\u001b[0m\u001b[1;33m\u001b[0m\u001b[0m\n\u001b[0m",
      "\u001b[1;31mAttributeError\u001b[0m: 'test' object has no attribute 'a'"
     ]
    }
   ],
   "source": [
    "v.a"
   ]
  },
  {
   "cell_type": "code",
   "execution_count": 54,
   "metadata": {},
   "outputs": [
    {
     "data": {
      "text/plain": [
       "3"
      ]
     },
     "execution_count": 54,
     "metadata": {},
     "output_type": "execute_result"
    }
   ],
   "source": [
    "v._a"
   ]
  },
  {
   "cell_type": "code",
   "execution_count": 55,
   "metadata": {},
   "outputs": [
    {
     "ename": "AttributeError",
     "evalue": "'test' object has no attribute '__b'",
     "output_type": "error",
     "traceback": [
      "\u001b[1;31m---------------------------------------------------------------------------\u001b[0m",
      "\u001b[1;31mAttributeError\u001b[0m                            Traceback (most recent call last)",
      "\u001b[1;32m<ipython-input-55-93239adde735>\u001b[0m in \u001b[0;36m<module>\u001b[1;34m\u001b[0m\n\u001b[1;32m----> 1\u001b[1;33m \u001b[0mv\u001b[0m\u001b[1;33m.\u001b[0m\u001b[0m__b\u001b[0m\u001b[1;33m\u001b[0m\u001b[1;33m\u001b[0m\u001b[0m\n\u001b[0m",
      "\u001b[1;31mAttributeError\u001b[0m: 'test' object has no attribute '__b'"
     ]
    }
   ],
   "source": [
    "v.__b"
   ]
  },
  {
   "cell_type": "code",
   "execution_count": 56,
   "metadata": {},
   "outputs": [
    {
     "data": {
      "text/plain": [
       "5"
      ]
     },
     "execution_count": 56,
     "metadata": {},
     "output_type": "execute_result"
    }
   ],
   "source": [
    "v.c"
   ]
  },
  {
   "cell_type": "code",
   "execution_count": 57,
   "metadata": {},
   "outputs": [],
   "source": [
    "# Here in python Public, Private and Protected is nothing but it comes under Incapsulation\n",
    "# Incapsulation Simply means that, you are trying to incapsulate your datatype or your method or your variable in a way\n",
    "# So that other people will not be able to do a modification without my permission, This is something called as incapsulation"
   ]
  },
  {
   "cell_type": "code",
   "execution_count": 61,
   "metadata": {},
   "outputs": [
    {
     "data": {
      "text/plain": [
       "4"
      ]
     },
     "execution_count": 61,
     "metadata": {},
     "output_type": "execute_result"
    }
   ],
   "source": [
    "# Inorder to access the private variable\n",
    "v._test__b"
   ]
  },
  {
   "cell_type": "code",
   "execution_count": 60,
   "metadata": {},
   "outputs": [
    {
     "data": {
      "text/plain": [
       "4"
      ]
     },
     "execution_count": 60,
     "metadata": {},
     "output_type": "execute_result"
    }
   ],
   "source": [
    "#_class is a must for us to append\n",
    "# If we are going to create a variable as a private variable\n",
    "# Means a variable with Double __ in the begining"
   ]
  },
  {
   "cell_type": "code",
   "execution_count": 63,
   "metadata": {},
   "outputs": [],
   "source": [
    "# If no \"_\" Public = To Access we need to the variable name directly\n",
    "# If single \"_\" Protected = To Access we need put \"_\" and then call the varable, Eg : _a\n",
    "# If Double \"__\" Private = To Access we need to call The object first and then after '.' we need to callthe class and then the Variable\n",
    "# For Ex : v._test__b"
   ]
  },
  {
   "cell_type": "code",
   "execution_count": null,
   "metadata": {},
   "outputs": [],
   "source": [
    "# SCOPE :\n",
    "# Public Means : i can access from any classes from anywhere\n",
    "# Protected Means : It means i will be able to access it inside a parent class and inside a child class\n",
    "# Private Means : It means we will be able to access it within a class, Within a class you will be able to findout the scope, outside the class you wont be able to findout the scope of the variables\n",
    "# Private cont : It means inside the child class, we will not be able to access it, you will not be able to findout anything"
   ]
  },
  {
   "cell_type": "code",
   "execution_count": 77,
   "metadata": {},
   "outputs": [],
   "source": [
    "class test :\n",
    "    def __init__(self,a,b,c):\n",
    "        self._a = a\n",
    "        self.__b = b\n",
    "        self.c = c\n",
    "        \n",
    "class test1(test):\n",
    "    pass\n",
    "\n",
    "v = test(3,4,5)"
   ]
  },
  {
   "cell_type": "code",
   "execution_count": 78,
   "metadata": {},
   "outputs": [
    {
     "data": {
      "text/plain": [
       "3"
      ]
     },
     "execution_count": 78,
     "metadata": {},
     "output_type": "execute_result"
    }
   ],
   "source": [
    "v._a"
   ]
  },
  {
   "cell_type": "code",
   "execution_count": 88,
   "metadata": {},
   "outputs": [
    {
     "ename": "AttributeError",
     "evalue": "'test1' object has no attribute '_test1__b'",
     "output_type": "error",
     "traceback": [
      "\u001b[1;31m---------------------------------------------------------------------------\u001b[0m",
      "\u001b[1;31mAttributeError\u001b[0m                            Traceback (most recent call last)",
      "\u001b[1;32m<ipython-input-88-7489d87fa14d>\u001b[0m in \u001b[0;36m<module>\u001b[1;34m\u001b[0m\n\u001b[1;32m----> 1\u001b[1;33m \u001b[0mu\u001b[0m\u001b[1;33m.\u001b[0m\u001b[0m_test1__b\u001b[0m \u001b[1;31m#Child Class\u001b[0m\u001b[1;33m\u001b[0m\u001b[1;33m\u001b[0m\u001b[0m\n\u001b[0m",
      "\u001b[1;31mAttributeError\u001b[0m: 'test1' object has no attribute '_test1__b'"
     ]
    }
   ],
   "source": [
    "u._test1__b #Child Class"
   ]
  },
  {
   "cell_type": "code",
   "execution_count": 79,
   "metadata": {},
   "outputs": [
    {
     "data": {
      "text/plain": [
       "4"
      ]
     },
     "execution_count": 79,
     "metadata": {},
     "output_type": "execute_result"
    }
   ],
   "source": [
    "v._test__b #Parent Class"
   ]
  },
  {
   "cell_type": "code",
   "execution_count": 80,
   "metadata": {},
   "outputs": [
    {
     "data": {
      "text/plain": [
       "5"
      ]
     },
     "execution_count": 80,
     "metadata": {},
     "output_type": "execute_result"
    }
   ],
   "source": [
    "v.c"
   ]
  },
  {
   "cell_type": "code",
   "execution_count": 81,
   "metadata": {},
   "outputs": [],
   "source": [
    "u = test1(1,2,3)"
   ]
  },
  {
   "cell_type": "code",
   "execution_count": 82,
   "metadata": {},
   "outputs": [
    {
     "data": {
      "text/plain": [
       "3"
      ]
     },
     "execution_count": 82,
     "metadata": {},
     "output_type": "execute_result"
    }
   ],
   "source": [
    "u.c"
   ]
  },
  {
   "cell_type": "code",
   "execution_count": 84,
   "metadata": {},
   "outputs": [
    {
     "data": {
      "text/plain": [
       "1"
      ]
     },
     "execution_count": 84,
     "metadata": {},
     "output_type": "execute_result"
    }
   ],
   "source": [
    "u._a"
   ]
  },
  {
   "cell_type": "code",
   "execution_count": 87,
   "metadata": {},
   "outputs": [
    {
     "ename": "AttributeError",
     "evalue": "'test1' object has no attribute '_test1__b'",
     "output_type": "error",
     "traceback": [
      "\u001b[1;31m---------------------------------------------------------------------------\u001b[0m",
      "\u001b[1;31mAttributeError\u001b[0m                            Traceback (most recent call last)",
      "\u001b[1;32m<ipython-input-87-0b13972f858f>\u001b[0m in \u001b[0;36m<module>\u001b[1;34m\u001b[0m\n\u001b[1;32m----> 1\u001b[1;33m \u001b[0mu\u001b[0m\u001b[1;33m.\u001b[0m\u001b[0m_test1__b\u001b[0m \u001b[1;31m#here we are unable to access with test 1 because it's a child class\u001b[0m\u001b[1;33m\u001b[0m\u001b[1;33m\u001b[0m\u001b[0m\n\u001b[0m",
      "\u001b[1;31mAttributeError\u001b[0m: 'test1' object has no attribute '_test1__b'"
     ]
    }
   ],
   "source": [
    "u._test1__b #here we are unable to access with test 1 because it's a child class"
   ]
  },
  {
   "cell_type": "code",
   "execution_count": 89,
   "metadata": {},
   "outputs": [],
   "source": [
    "#This is called as incapasulation, here we are trying to hide the implementation so that others will not be able to do a modification\n",
    "# At any point of a time by using this concept called as public, private and protected"
   ]
  },
  {
   "cell_type": "code",
   "execution_count": 111,
   "metadata": {},
   "outputs": [],
   "source": [
    "class bonuscalculator:\n",
    "    def __init__(self, empid, emprating) :\n",
    "        self.empid = empid\n",
    "        self.emprating = emprating\n",
    "        self.__bonusforratingA = \"70%\"\n",
    "        self.__bonusforratingB = \"60%\"\n",
    "        self.__bonusforratingC = \"40%\"\n",
    "    \n",
    "    def bonuscalculator(self) :\n",
    "        if self.emprating == \"A\" :\n",
    "            bonus = self.__bonusforratingA\n",
    "            return bonus\n",
    "        elif self.emprating == \"B\" :\n",
    "            bonus = self.__bonusforratingB\n",
    "            return bonus\n",
    "        else :\n",
    "            bonus = self.__bonusforratingC\n",
    "            return bonus"
   ]
  },
  {
   "cell_type": "code",
   "execution_count": 100,
   "metadata": {},
   "outputs": [],
   "source": [
    "emp1 = bonuscalculator(1212, \"A\")\n",
    "emp2 = bonuscalculator(1213, \"B\")\n",
    "emp3 = bonuscalculator(1214, \"C\")"
   ]
  },
  {
   "cell_type": "code",
   "execution_count": 101,
   "metadata": {},
   "outputs": [
    {
     "data": {
      "text/plain": [
       "'70%'"
      ]
     },
     "execution_count": 101,
     "metadata": {},
     "output_type": "execute_result"
    }
   ],
   "source": [
    "emp1.bonuscalculator()"
   ]
  },
  {
   "cell_type": "code",
   "execution_count": 102,
   "metadata": {},
   "outputs": [
    {
     "data": {
      "text/plain": [
       "'60%'"
      ]
     },
     "execution_count": 102,
     "metadata": {},
     "output_type": "execute_result"
    }
   ],
   "source": [
    "emp2.bonuscalculator()"
   ]
  },
  {
   "cell_type": "code",
   "execution_count": 103,
   "metadata": {},
   "outputs": [
    {
     "data": {
      "text/plain": [
       "'40%'"
      ]
     },
     "execution_count": 103,
     "metadata": {},
     "output_type": "execute_result"
    }
   ],
   "source": [
    "emp3.bonuscalculator()"
   ]
  },
  {
   "cell_type": "code",
   "execution_count": 104,
   "metadata": {},
   "outputs": [],
   "source": [
    "#Changing the Empid\n",
    "emp1.empid = 105"
   ]
  },
  {
   "cell_type": "code",
   "execution_count": 105,
   "metadata": {},
   "outputs": [
    {
     "data": {
      "text/plain": [
       "105"
      ]
     },
     "execution_count": 105,
     "metadata": {},
     "output_type": "execute_result"
    }
   ],
   "source": [
    "emp1.empid"
   ]
  },
  {
   "cell_type": "code",
   "execution_count": 106,
   "metadata": {},
   "outputs": [
    {
     "data": {
      "text/plain": [
       "'70%'"
      ]
     },
     "execution_count": 106,
     "metadata": {},
     "output_type": "execute_result"
    }
   ],
   "source": [
    "emp1.bonuscalculator()"
   ]
  },
  {
   "cell_type": "code",
   "execution_count": 107,
   "metadata": {},
   "outputs": [],
   "source": [
    "emp1.emprating = \"B\""
   ]
  },
  {
   "cell_type": "code",
   "execution_count": 108,
   "metadata": {},
   "outputs": [
    {
     "data": {
      "text/plain": [
       "'60%'"
      ]
     },
     "execution_count": 108,
     "metadata": {},
     "output_type": "execute_result"
    }
   ],
   "source": [
    "emp1.bonuscalculator()"
   ]
  },
  {
   "cell_type": "code",
   "execution_count": 109,
   "metadata": {},
   "outputs": [],
   "source": [
    "emp1.__bonusforratingB = \"90%\""
   ]
  },
  {
   "cell_type": "code",
   "execution_count": 110,
   "metadata": {},
   "outputs": [
    {
     "data": {
      "text/plain": [
       "'60%'"
      ]
     },
     "execution_count": 110,
     "metadata": {},
     "output_type": "execute_result"
    }
   ],
   "source": [
    "emp1.bonuscalculator()"
   ]
  },
  {
   "cell_type": "code",
   "execution_count": null,
   "metadata": {},
   "outputs": [],
   "source": [
    "class bonuscalculator:\n",
    "    def __init__(self, empid, emprating) :\n",
    "        self.empid = empid\n",
    "        self.emprating = emprating\n",
    "        self.__bonusforratingA = \"70%\"\n",
    "        self.__bonusforratingB = \"60%\"\n",
    "        self.__bonusforratingC = \"40%\"\n",
    "    \n",
    "    def bonuscalculator(self) :\n",
    "        if self.emprating == \"A\" :\n",
    "            bonus = self.__bonusforratingA\n",
    "            return bonus\n",
    "        elif self.emprating == \"B\" :\n",
    "            bonus = self.__bonusforratingB\n",
    "            return bonus\n",
    "        else :\n",
    "            bonus = self.__bonusforratingC\n",
    "            return bonus"
   ]
  },
  {
   "cell_type": "code",
   "execution_count": 112,
   "metadata": {},
   "outputs": [],
   "source": [
    "emp1.__bonusforratingB = \"90%\""
   ]
  },
  {
   "cell_type": "code",
   "execution_count": 113,
   "metadata": {},
   "outputs": [
    {
     "data": {
      "text/plain": [
       "'60%'"
      ]
     },
     "execution_count": 113,
     "metadata": {},
     "output_type": "execute_result"
    }
   ],
   "source": [
    "emp1.bonuscalculator()"
   ]
  },
  {
   "cell_type": "code",
   "execution_count": 114,
   "metadata": {},
   "outputs": [
    {
     "data": {
      "text/plain": [
       "'B'"
      ]
     },
     "execution_count": 114,
     "metadata": {},
     "output_type": "execute_result"
    }
   ],
   "source": [
    "emp2.emprating"
   ]
  },
  {
   "cell_type": "code",
   "execution_count": 115,
   "metadata": {},
   "outputs": [
    {
     "data": {
      "text/plain": [
       "'60%'"
      ]
     },
     "execution_count": 115,
     "metadata": {},
     "output_type": "execute_result"
    }
   ],
   "source": [
    "emp2.bonuscalculator()"
   ]
  },
  {
   "cell_type": "code",
   "execution_count": 116,
   "metadata": {},
   "outputs": [],
   "source": [
    "emp2.__bonusforratingB = \"100%\""
   ]
  },
  {
   "cell_type": "code",
   "execution_count": 117,
   "metadata": {},
   "outputs": [
    {
     "data": {
      "text/plain": [
       "'60%'"
      ]
     },
     "execution_count": 117,
     "metadata": {},
     "output_type": "execute_result"
    }
   ],
   "source": [
    "emp2.bonuscalculator()"
   ]
  },
  {
   "cell_type": "code",
   "execution_count": 118,
   "metadata": {},
   "outputs": [],
   "source": [
    "# NOTE : if your variable is a private variable, even with the help of your class object you will not be able to modify it"
   ]
  },
  {
   "cell_type": "code",
   "execution_count": 119,
   "metadata": {},
   "outputs": [],
   "source": [
    "emp2.empid = 232323"
   ]
  },
  {
   "cell_type": "code",
   "execution_count": 120,
   "metadata": {},
   "outputs": [
    {
     "data": {
      "text/plain": [
       "232323"
      ]
     },
     "execution_count": 120,
     "metadata": {},
     "output_type": "execute_result"
    }
   ],
   "source": [
    "emp2.empid"
   ]
  },
  {
   "cell_type": "code",
   "execution_count": 121,
   "metadata": {},
   "outputs": [],
   "source": [
    "emp2.__bonusforratingB = \"dasldas%\""
   ]
  },
  {
   "cell_type": "code",
   "execution_count": 123,
   "metadata": {},
   "outputs": [
    {
     "data": {
      "text/plain": [
       "'60%'"
      ]
     },
     "execution_count": 123,
     "metadata": {},
     "output_type": "execute_result"
    }
   ],
   "source": [
    "emp2.bonuscalculator()"
   ]
  },
  {
   "cell_type": "code",
   "execution_count": 124,
   "metadata": {},
   "outputs": [
    {
     "data": {
      "text/plain": [
       "'60%'"
      ]
     },
     "execution_count": 124,
     "metadata": {},
     "output_type": "execute_result"
    }
   ],
   "source": [
    "emp2._bonuscalculator__bonusforratingB"
   ]
  },
  {
   "cell_type": "code",
   "execution_count": 128,
   "metadata": {},
   "outputs": [],
   "source": [
    "emp2._bonuscalculator__bonusforratingB = \"J2312313123\" #It is possible to modify these things provided you are calling it with the classes"
   ]
  },
  {
   "cell_type": "code",
   "execution_count": 126,
   "metadata": {},
   "outputs": [
    {
     "data": {
      "text/plain": [
       "'J2312313123'"
      ]
     },
     "execution_count": 126,
     "metadata": {},
     "output_type": "execute_result"
    }
   ],
   "source": [
    "emp2._bonuscalculator__bonusforratingB"
   ]
  },
  {
   "cell_type": "code",
   "execution_count": 127,
   "metadata": {},
   "outputs": [],
   "source": [
    "# so this is what python says, It says that user of each and every variable must be mature enough use the variable the way it is defined\n",
    "# or for the process it has been defined"
   ]
  },
  {
   "cell_type": "code",
   "execution_count": 141,
   "metadata": {},
   "outputs": [],
   "source": [
    "class bonuscalculator:\n",
    "    def __init__(self, empid, emprating) :\n",
    "        self.empid = empid\n",
    "        self.emprating = emprating\n",
    "        self._empmail = \"asdlknasdn@gmail.com\"\n",
    "        self.__bonusforratingA = \"70%\"\n",
    "        self.__bonusforratingB = \"60%\"\n",
    "        self.__bonusforratingC = \"40%\"\n",
    "    \n",
    "    def bonuscalculator(self) :\n",
    "        if self.emprating == \"A\" :\n",
    "            bonus = self.__bonusforratingA\n",
    "            return bonus\n",
    "        elif self.emprating == \"B\" :\n",
    "            bonus = self.__bonusforratingB\n",
    "            return bonus\n",
    "        else :\n",
    "            bonus = self.__bonusforratingC\n",
    "            return bonus"
   ]
  },
  {
   "cell_type": "code",
   "execution_count": 142,
   "metadata": {},
   "outputs": [],
   "source": [
    "emp1 = bonuscalculator(1212,\"B\")"
   ]
  },
  {
   "cell_type": "code",
   "execution_count": 144,
   "metadata": {},
   "outputs": [
    {
     "data": {
      "text/plain": [
       "'asdlknasdn@gmail.com'"
      ]
     },
     "execution_count": 144,
     "metadata": {},
     "output_type": "execute_result"
    }
   ],
   "source": [
    "emp1._empmail"
   ]
  },
  {
   "cell_type": "code",
   "execution_count": 145,
   "metadata": {},
   "outputs": [],
   "source": [
    "emp1._empmail = \"dsadkas@gmail.com\""
   ]
  },
  {
   "cell_type": "code",
   "execution_count": 146,
   "metadata": {},
   "outputs": [
    {
     "data": {
      "text/plain": [
       "'dsadkas@gmail.com'"
      ]
     },
     "execution_count": 146,
     "metadata": {},
     "output_type": "execute_result"
    }
   ],
   "source": [
    "emp1._empmail"
   ]
  },
  {
   "cell_type": "code",
   "execution_count": 147,
   "metadata": {},
   "outputs": [],
   "source": [
    "#Modification is possible\n",
    "# Private : We need to provide the class name and then the Private variable to chage\n",
    "# Protected : We just need to use the \"_\" and modify the things"
   ]
  },
  {
   "cell_type": "code",
   "execution_count": 148,
   "metadata": {},
   "outputs": [],
   "source": [
    "# Incapsulation means you are just trying to protect your variables from outside"
   ]
  },
  {
   "cell_type": "code",
   "execution_count": 149,
   "metadata": {},
   "outputs": [],
   "source": [
    "#In python - it comes as a notation, it comes with the maturity of the user, not like a keyword of other languages"
   ]
  },
  {
   "cell_type": "code",
   "execution_count": null,
   "metadata": {},
   "outputs": [],
   "source": [
    "## GUIPDFMerger project"
   ]
  }
 ],
 "metadata": {
  "kernelspec": {
   "display_name": "Python 3",
   "language": "python",
   "name": "python3"
  },
  "language_info": {
   "codemirror_mode": {
    "name": "ipython",
    "version": 3
   },
   "file_extension": ".py",
   "mimetype": "text/x-python",
   "name": "python",
   "nbconvert_exporter": "python",
   "pygments_lexer": "ipython3",
   "version": "3.8.5"
  }
 },
 "nbformat": 4,
 "nbformat_minor": 4
}
