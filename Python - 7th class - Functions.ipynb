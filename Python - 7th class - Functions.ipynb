{
 "cells": [
  {
   "cell_type": "markdown",
   "id": "14c67749",
   "metadata": {},
   "source": [
    "#### What are we studying here?\n",
    "##### Ans : Concept of Function : what is function? how function is going to work? how function would be helpful for me? how would we able to acheive a robustness and code re-usability of a function"
   ]
  },
  {
   "cell_type": "code",
   "execution_count": null,
   "id": "89d11b5e",
   "metadata": {},
   "outputs": [],
   "source": [
    "len('ashi')"
   ]
  },
  {
   "cell_type": "code",
   "execution_count": null,
   "id": "7ad3f986",
   "metadata": {},
   "outputs": [],
   "source": [
    "print('asjdasjdjas')"
   ]
  },
  {
   "cell_type": "markdown",
   "id": "9775c2bc",
   "metadata": {},
   "source": [
    "# Modular Coding approach"
   ]
  },
  {
   "cell_type": "code",
   "execution_count": null,
   "id": "bd023639",
   "metadata": {},
   "outputs": [],
   "source": [
    "#function, classes, objects, logging, monitoring, scheduling ,conventions"
   ]
  },
  {
   "cell_type": "code",
   "execution_count": null,
   "id": "3832d956",
   "metadata": {},
   "outputs": [],
   "source": [
    "#function\n",
    "def test():\n",
    "    pass"
   ]
  },
  {
   "cell_type": "code",
   "execution_count": null,
   "id": "17605303",
   "metadata": {},
   "outputs": [],
   "source": [
    "def test1():\n",
    "    print('this is my first funnction')"
   ]
  },
  {
   "cell_type": "code",
   "execution_count": null,
   "id": "346c2e31",
   "metadata": {},
   "outputs": [],
   "source": [
    "test1()"
   ]
  },
  {
   "cell_type": "code",
   "execution_count": null,
   "id": "b8e5c592",
   "metadata": {},
   "outputs": [],
   "source": [
    "test1()"
   ]
  },
  {
   "cell_type": "code",
   "execution_count": null,
   "id": "ef94a646",
   "metadata": {},
   "outputs": [],
   "source": [
    "test1()"
   ]
  },
  {
   "cell_type": "code",
   "execution_count": null,
   "id": "7d9506a1",
   "metadata": {},
   "outputs": [],
   "source": [
    "a = test1()"
   ]
  },
  {
   "cell_type": "code",
   "execution_count": null,
   "id": "e1fbdcd2",
   "metadata": {},
   "outputs": [],
   "source": [
    "a+'ashi'"
   ]
  },
  {
   "cell_type": "code",
   "execution_count": null,
   "id": "3d7048d7",
   "metadata": {},
   "outputs": [],
   "source": [
    "'ashi' + 'ashi'"
   ]
  },
  {
   "cell_type": "code",
   "execution_count": null,
   "id": "ccf548aa",
   "metadata": {},
   "outputs": [],
   "source": [
    "test1() + 'Sudh'"
   ]
  },
  {
   "cell_type": "code",
   "execution_count": null,
   "id": "9ed48bbb",
   "metadata": {},
   "outputs": [],
   "source": [
    "type(test1())"
   ]
  },
  {
   "cell_type": "code",
   "execution_count": null,
   "id": "542531b8",
   "metadata": {},
   "outputs": [],
   "source": [
    "a = test1()"
   ]
  },
  {
   "cell_type": "code",
   "execution_count": null,
   "id": "67ca4a87",
   "metadata": {},
   "outputs": [],
   "source": [
    "str(a)"
   ]
  },
  {
   "cell_type": "code",
   "execution_count": null,
   "id": "a4ce1ff6",
   "metadata": {},
   "outputs": [],
   "source": [
    "def test2():\n",
    "    return \"This is my first function\""
   ]
  },
  {
   "cell_type": "code",
   "execution_count": null,
   "id": "bc566a52",
   "metadata": {},
   "outputs": [],
   "source": [
    "type(test2())"
   ]
  },
  {
   "cell_type": "code",
   "execution_count": null,
   "id": "715943ff",
   "metadata": {},
   "outputs": [],
   "source": [
    "test2() + ' ashi'"
   ]
  },
  {
   "cell_type": "code",
   "execution_count": null,
   "id": "92fd6caa",
   "metadata": {},
   "outputs": [],
   "source": [
    "def test3():\n",
    "    return 21232312"
   ]
  },
  {
   "cell_type": "code",
   "execution_count": null,
   "id": "963b8e80",
   "metadata": {},
   "outputs": [],
   "source": [
    "type(test3())"
   ]
  },
  {
   "cell_type": "code",
   "execution_count": null,
   "id": "5e60b981",
   "metadata": {},
   "outputs": [],
   "source": [
    "# in order to return a primitive keyword (datatype)"
   ]
  },
  {
   "cell_type": "code",
   "execution_count": null,
   "id": "86ffff94",
   "metadata": {},
   "outputs": [],
   "source": [
    "def test4():\n",
    "    return 3,4,\"such\",[2,4,5,5,5,5]"
   ]
  },
  {
   "cell_type": "code",
   "execution_count": null,
   "id": "2aa891cd",
   "metadata": {},
   "outputs": [],
   "source": [
    "type(test4())"
   ]
  },
  {
   "cell_type": "code",
   "execution_count": null,
   "id": "9a7fc0ea",
   "metadata": {},
   "outputs": [],
   "source": [
    "b = test4()"
   ]
  },
  {
   "cell_type": "code",
   "execution_count": null,
   "id": "5d0bec99",
   "metadata": {},
   "outputs": [],
   "source": [
    "b"
   ]
  },
  {
   "cell_type": "code",
   "execution_count": null,
   "id": "152943df",
   "metadata": {},
   "outputs": [],
   "source": [
    "b[1]"
   ]
  },
  {
   "cell_type": "code",
   "execution_count": null,
   "id": "feec706e",
   "metadata": {},
   "outputs": [],
   "source": [
    "b[3]"
   ]
  },
  {
   "cell_type": "code",
   "execution_count": null,
   "id": "cf8580be",
   "metadata": {},
   "outputs": [],
   "source": [
    "test4()"
   ]
  },
  {
   "cell_type": "code",
   "execution_count": null,
   "id": "20bea48e",
   "metadata": {},
   "outputs": [],
   "source": [
    "a = 1\n",
    "b = 5\n",
    "c = 'sudh'\n",
    "d = [3434,34343,5,5454,454545]"
   ]
  },
  {
   "cell_type": "code",
   "execution_count": null,
   "id": "d34eeaf1",
   "metadata": {},
   "outputs": [],
   "source": [
    "a,b,c,d = 34,54,'wudh','wsaedsa'"
   ]
  },
  {
   "cell_type": "code",
   "execution_count": null,
   "id": "3e46aff6",
   "metadata": {},
   "outputs": [],
   "source": [
    "a"
   ]
  },
  {
   "cell_type": "code",
   "execution_count": null,
   "id": "7d339b86",
   "metadata": {},
   "outputs": [],
   "source": [
    "x,y,u,v = test4()"
   ]
  },
  {
   "cell_type": "code",
   "execution_count": null,
   "id": "9a9421ef",
   "metadata": {},
   "outputs": [],
   "source": [
    "x"
   ]
  },
  {
   "cell_type": "code",
   "execution_count": null,
   "id": "bd0cedf9",
   "metadata": {},
   "outputs": [],
   "source": [
    "y"
   ]
  },
  {
   "cell_type": "code",
   "execution_count": null,
   "id": "e07fd3cb",
   "metadata": {},
   "outputs": [],
   "source": [
    "u"
   ]
  },
  {
   "cell_type": "code",
   "execution_count": null,
   "id": "bd98b8db",
   "metadata": {},
   "outputs": [],
   "source": [
    "v"
   ]
  },
  {
   "cell_type": "code",
   "execution_count": null,
   "id": "f1e515e8",
   "metadata": {},
   "outputs": [],
   "source": [
    "type(v)"
   ]
  },
  {
   "cell_type": "code",
   "execution_count": null,
   "id": "cbbb0684",
   "metadata": {},
   "outputs": [],
   "source": [
    "type(x)"
   ]
  },
  {
   "cell_type": "code",
   "execution_count": null,
   "id": "a3914c17",
   "metadata": {},
   "outputs": [],
   "source": [
    "x,y,u,v,s= test4()"
   ]
  },
  {
   "cell_type": "code",
   "execution_count": null,
   "id": "6ca3599d",
   "metadata": {},
   "outputs": [],
   "source": [
    "def test5():\n",
    "    a = 6*7 / 6\n",
    "    return a"
   ]
  },
  {
   "cell_type": "code",
   "execution_count": null,
   "id": "fa293af1",
   "metadata": {},
   "outputs": [],
   "source": [
    "test5()"
   ]
  },
  {
   "cell_type": "code",
   "execution_count": null,
   "id": "7cf2a98b",
   "metadata": {},
   "outputs": [],
   "source": [
    "len('asjdajsdj')"
   ]
  },
  {
   "cell_type": "code",
   "execution_count": null,
   "id": "2cbaa588",
   "metadata": {},
   "outputs": [],
   "source": [
    "l = [2,3,4,4,5,5,6,6,7,8,'sudh',[2,2,23,23,23,2,4,5,5]]"
   ]
  },
  {
   "cell_type": "code",
   "execution_count": null,
   "id": "f12dbbe9",
   "metadata": {},
   "outputs": [],
   "source": [
    "def test6(a):\n",
    "    n = []\n",
    "    if type(a) == list:\n",
    "        for i in a:\n",
    "            if type(i) == int:\n",
    "                n.append(i)\n",
    "    \n",
    "\n",
    "    return n"
   ]
  },
  {
   "cell_type": "code",
   "execution_count": null,
   "id": "8893e56c",
   "metadata": {},
   "outputs": [],
   "source": [
    "test6(l)"
   ]
  },
  {
   "cell_type": "code",
   "execution_count": null,
   "id": "34e9ff71",
   "metadata": {},
   "outputs": [],
   "source": [
    "#This will return me a list, and if we use print it will be a nonetype"
   ]
  },
  {
   "cell_type": "code",
   "execution_count": null,
   "id": "c1a55ef3",
   "metadata": {},
   "outputs": [],
   "source": [
    "def test7(a):\n",
    "    n = []\n",
    "    if type(a) == list:\n",
    "        for i in a:\n",
    "            if type(i) == list:\n",
    "                for j in i:\n",
    "                    if type(j) == int:\n",
    "                        n.append(j)\n",
    "    \n",
    "\n",
    "    return n"
   ]
  },
  {
   "cell_type": "code",
   "execution_count": null,
   "id": "cf76f7ec",
   "metadata": {},
   "outputs": [],
   "source": [
    "test7(l)"
   ]
  },
  {
   "cell_type": "code",
   "execution_count": null,
   "id": "392729b3",
   "metadata": {},
   "outputs": [],
   "source": [
    "#2nd Approach\n",
    "test7([312121,121,2121,21,2,12,'asdask','asdasd',[2,2323,23,23,23,23,]])"
   ]
  },
  {
   "cell_type": "code",
   "execution_count": null,
   "id": "85bbc10d",
   "metadata": {},
   "outputs": [],
   "source": [
    "def test9(a):\n",
    "    n = []\n",
    "    if type(a) == list:\n",
    "        for i in a:\n",
    "            if type(i) == int:\n",
    "                n.append(i)\n",
    "            elif type(i) == list:\n",
    "                for j in i:\n",
    "                    if type(j) == int:\n",
    "                        n.append(j)\n",
    "    return n"
   ]
  },
  {
   "cell_type": "code",
   "execution_count": null,
   "id": "2b7c8189",
   "metadata": {},
   "outputs": [],
   "source": [
    "test9(l)"
   ]
  },
  {
   "cell_type": "code",
   "execution_count": null,
   "id": "479fb930",
   "metadata": {},
   "outputs": [],
   "source": [
    "def test10(x) :\n",
    "    if type(x) == dict:\n",
    "        return x.keys()\n",
    "    else :\n",
    "        return \"you have not passed a dict\""
   ]
  },
  {
   "cell_type": "code",
   "execution_count": null,
   "id": "4171d57f",
   "metadata": {},
   "outputs": [],
   "source": [
    "test10('dasdasdas')"
   ]
  },
  {
   "cell_type": "code",
   "execution_count": null,
   "id": "c1f6574c",
   "metadata": {},
   "outputs": [],
   "source": [
    "test10({'b':'asdesad','a':12123,'s':['1ededsad']})"
   ]
  },
  {
   "cell_type": "code",
   "execution_count": null,
   "id": "ab674dc3",
   "metadata": {},
   "outputs": [],
   "source": [
    "def test11(a,b):\n",
    "    if type(a) == list and type(b) == list:\n",
    "        return a.extend(b)\n",
    "    else:\n",
    "        return 'either of your data is not a list'"
   ]
  },
  {
   "cell_type": "code",
   "execution_count": null,
   "id": "c855792d",
   "metadata": {},
   "outputs": [],
   "source": [
    "test11(2323,2323)"
   ]
  },
  {
   "cell_type": "code",
   "execution_count": null,
   "id": "d6462327",
   "metadata": {},
   "outputs": [],
   "source": [
    "z = test11([2323],[2323])"
   ]
  },
  {
   "cell_type": "code",
   "execution_count": null,
   "id": "8f4baccc",
   "metadata": {},
   "outputs": [],
   "source": [
    "z"
   ]
  },
  {
   "cell_type": "code",
   "execution_count": null,
   "id": "4e7b2ce0",
   "metadata": {},
   "outputs": [],
   "source": [
    "a = [112,2121,2,12,12,12,1]\n",
    "b = [121,12121,121,2,12,12,12]"
   ]
  },
  {
   "cell_type": "code",
   "execution_count": null,
   "id": "b7697560",
   "metadata": {},
   "outputs": [],
   "source": [
    "test11(a,b)"
   ]
  },
  {
   "cell_type": "code",
   "execution_count": null,
   "id": "5dd0ba6e",
   "metadata": {},
   "outputs": [],
   "source": [
    "a"
   ]
  },
  {
   "cell_type": "code",
   "execution_count": null,
   "id": "6bacb907",
   "metadata": {},
   "outputs": [],
   "source": [
    "def test11(a,b):\n",
    "    if type(a) == list and type(b) == list:\n",
    "        a.extend(b)\n",
    "        return a\n",
    "    else:\n",
    "        return 'either of your data is not a list'"
   ]
  },
  {
   "cell_type": "code",
   "execution_count": null,
   "id": "e208e177",
   "metadata": {},
   "outputs": [],
   "source": [
    "test11(a,b)"
   ]
  },
  {
   "cell_type": "code",
   "execution_count": null,
   "id": "ccc82368",
   "metadata": {},
   "outputs": [],
   "source": [
    "def triange(int(input()))\n",
    "n = int(input())\n",
    "for i in range(0,n):\n",
    "    for j in range(0,i+1):\n",
    "        print('* ',end = \" \")\n",
    "    print('\\r')"
   ]
  },
  {
   "cell_type": "code",
   "execution_count": null,
   "id": "3c7c579b",
   "metadata": {},
   "outputs": [],
   "source": [
    "def triangle(row_num):\n",
    "    n= row_num\n",
    "    for i in range(0,n):\n",
    "        for j in range(0,i+1):\n",
    "            print('* ',end = \" \")\n",
    "        print('\\r')\n",
    "triangle(10)"
   ]
  },
  {
   "cell_type": "code",
   "execution_count": null,
   "id": "dfe60710",
   "metadata": {},
   "outputs": [],
   "source": [
    "def proper_triangle(row_num):\n",
    "    n=row_num\n",
    "    k = n -1\n",
    "    \n",
    "    for i in range(0,n):\n",
    "        \n",
    "        for j in range(0,k):\n",
    "            print(end = \" \")\n",
    "            \n",
    "        k = k - 1\n",
    "        \n",
    "        for j in range(0, i+1):\n",
    "            print(\"* \",end = \"\")\n",
    "            \n",
    "        print(\"\\r\")\n",
    "proper_triangle(10)"
   ]
  },
  {
   "cell_type": "code",
   "execution_count": null,
   "id": "83b760c0",
   "metadata": {},
   "outputs": [],
   "source": [
    "def triangle(row_num):\n",
    "    \"\"\"This is a function which will help you to create a triangle with any number of rows\"\"\"\n",
    "    n= row_num\n",
    "    for i in range(0,n):\n",
    "        for j in range(0,i+1):\n",
    "            print('* ',end = \" \")\n",
    "        print('\\r')\n",
    "triangle(10)"
   ]
  },
  {
   "cell_type": "code",
   "execution_count": null,
   "id": "5f6438c9",
   "metadata": {},
   "outputs": [],
   "source": [
    "triangle(20)"
   ]
  },
  {
   "cell_type": "code",
   "execution_count": null,
   "id": "716b5bb8",
   "metadata": {},
   "outputs": [],
   "source": [
    "#This will prrint the doc string of a function\n",
    "help(triangle)"
   ]
  },
  {
   "cell_type": "code",
   "execution_count": null,
   "id": "3c5a0196",
   "metadata": {},
   "outputs": [],
   "source": [
    "# this is also a type of comment\n",
    "\"\"\"ajdsad\n",
    "daskldaskd\n",
    "klsdaklsd\n",
    "alksdaslkd\n",
    "lksjddklasjd\n",
    "sadl;kjasdklaskd\n",
    "laksjdklasjd\n",
    "lkasjdklasjd\n",
    "klsjdklasjd\n",
    "\"\"\""
   ]
  },
  {
   "cell_type": "markdown",
   "id": "5222efc6",
   "metadata": {},
   "source": [
    "# PRACTICE"
   ]
  },
  {
   "cell_type": "code",
   "execution_count": null,
   "id": "a6139aed",
   "metadata": {},
   "outputs": [],
   "source": [
    "# Write a function which will take string and return a length of it without using a inbuilt function len\n",
    "def lenwithoutinbuilt():\n",
    "    \"\"\"This function helps in finding out the length of the string without using len output function\"\"\"\n",
    "    str = input(\"Enter a String \")\n",
    "    counter = 0\n",
    "    for s in str:\n",
    "        counter = counter+1\n",
    "    print(\"Length of input string is\", counter)\n",
    "lenwithoutinbuilt()"
   ]
  },
  {
   "cell_type": "code",
   "execution_count": null,
   "id": "46a745c8",
   "metadata": {},
   "outputs": [],
   "source": [
    "# Write a function which will print an index of all premitive element which you will pass\n",
    "def premetiveindex():\n",
    "    \"\"\"This function will return us the primitive index of all the values which will be passed inside this string\"\"\"\n",
    "    z = input('Enter a string : ')\n",
    "    for i in range(len(z)):\n",
    "        print(\"The premitive index of : \", z[i] ,'is',i)\n",
    "premetiveindex()"
   ]
  },
  {
   "cell_type": "code",
   "execution_count": null,
   "id": "a2ffb255",
   "metadata": {},
   "outputs": [],
   "source": [
    "d_1 = {\"ineuron\":{\n",
    "                        \"a\" : 14,\n",
    "                        \"b\" : 10,\n",
    "                        \"c\" : 4\n",
    "                    },\n",
    "    'Course' :   {\n",
    "                    \"d\" : 45,\n",
    "                    \"e\" : 34,\n",
    "                    \"f\" : 1\n",
    "                   }\n",
    "    \n",
    "        }"
   ]
  },
  {
   "cell_type": "code",
   "execution_count": null,
   "id": "2a945489",
   "metadata": {},
   "outputs": [],
   "source": [
    "d_2  = {'column 1' : {'Ashish':'Roy',\"Place\":'Bangalore'}, 'Nest':{'key':'print this'}}"
   ]
  },
  {
   "cell_type": "code",
   "execution_count": null,
   "id": "9a76f1c0",
   "metadata": {},
   "outputs": [],
   "source": [
    "d_3 = {'column1':'row1','column2':'row2'}"
   ]
  },
  {
   "cell_type": "code",
   "execution_count": null,
   "id": "014547e0",
   "metadata": {},
   "outputs": [],
   "source": [
    "# Write a function which will take input as dict as a dict and give me out as a list of all the values even in case of 2 level nesting it should work\n",
    "def convertdictandfindlistval(x):\n",
    "    \"\"\"This is a function to give out an output as list when inserted with dictionary Type 1\"\"\"\n",
    "    lst  = []\n",
    "    for i in x.values():\n",
    "        for j in i.values():\n",
    "            lst.append(j)\n",
    "    print(lst)\n",
    "convertdictandfindlistval(d_1)"
   ]
  },
  {
   "cell_type": "code",
   "execution_count": null,
   "id": "7951cd2c",
   "metadata": {},
   "outputs": [],
   "source": [
    "# Write a function which will take input as dict as a dict and give me out as a list of all the values even in case of 2 level nesting it should work\n",
    "def convertdictandfindlistvaltype1(x):\n",
    "    \"\"\"This is a function to give out an output as list when inserted with dictionary Type 1\"\"\"\n",
    "    lst  = []\n",
    "    for i in x.values():\n",
    "        for j in i.values():\n",
    "            lst.append(j)\n",
    "    print(lst)\n",
    "convertdictandfindlistvaltype1(d_2)"
   ]
  },
  {
   "cell_type": "code",
   "execution_count": null,
   "id": "103ea727",
   "metadata": {},
   "outputs": [],
   "source": [
    "# Write a function which will take input as dict as a dict and give me out as a list of all the values even in case of 2 level nesting it should work\n",
    "def convertdictandfindlistvaltype2(x):\n",
    "    \"\"\"This is a function to give out an output as list when inserted with dictionary Type 2\"\"\"\n",
    "    lst  = []\n",
    "    if type(x) == dict:\n",
    "        for i in x.values():\n",
    "            lst.append(i)\n",
    "    elif type(i) == dict:\n",
    "        for j in i.values():\n",
    "            lst.append(j)\n",
    "    else:\n",
    "        print('No Data Available')\n",
    "    return lst\n",
    "convertdictandfindlistvaltype2(d_3)"
   ]
  },
  {
   "cell_type": "code",
   "execution_count": null,
   "id": "cc5b4bf7",
   "metadata": {},
   "outputs": [],
   "source": [
    "#Write a function which will take another function as an input and return an output\n",
    "def add_1(a):\n",
    "    \"\"\"This function was created to see how a function can be used to call another function as an output\"\"\"\n",
    "    return (a + 1)\n",
    "\n",
    "def add_2(b):\n",
    "    return (b + 2)\n",
    "\n",
    "output = add_1(add_2(1))\n",
    "\n",
    "print(output)"
   ]
  },
  {
   "cell_type": "code",
   "execution_count": null,
   "id": "a4fc71e9",
   "metadata": {},
   "outputs": [],
   "source": [
    "#Write a function which will take another function as an input and return an output : Exaample 2\n",
    "def repeat(function, n):\n",
    "    \"\"\"This function was created to see how a function can be used to call another function as an output\"\"\"\n",
    "    return function(n)\n",
    "\n",
    "def square(n):\n",
    "    return n**2\n",
    "\n",
    "output = repeat(square,5)\n",
    "\n",
    "print(output)"
   ]
  },
  {
   "cell_type": "code",
   "execution_count": null,
   "id": "63946bc4",
   "metadata": {},
   "outputs": [],
   "source": [
    "# write a function which will take list as an input and give me concatination of all the element as output.\n",
    "def list_to_allelements():\n",
    "    \"\"\"This function will take an input as list and concatinate and give all the elements as output\"\"\"\n",
    "    test_list1 = list(input(\"Input list 1 : \"))\n",
    "    test_list2 = list(input(\"Input list 2 : \"))\n",
    "\n",
    "    for i in test_list2:\n",
    "        test_list1.append(i)\n",
    "\n",
    "    print('Concatinated list using naive method : ' + str(test_list1))\n",
    "list_to_allelements()"
   ]
  },
  {
   "cell_type": "code",
   "execution_count": null,
   "id": "63eb8223",
   "metadata": {},
   "outputs": [],
   "source": [
    "# write a function which will be able to a list as an input return an input return an index of each element like a inbuilt function even if we have repetative element it should return index\n",
    "Data = ['sasda','gasg','gasga','gasga','gagag','gaasgag','asdasd','asdasd']\n",
    "def listofindex(Data):\n",
    "    \"\"\"This function will return us the primitive index of all the values which will be passed inside this string\"\"\"\n",
    "    for i in range(len(Data)):\n",
    "        print(\"The index of : \", Data[i] ,'is',i)\n",
    "listofindex(Data)"
   ]
  },
  {
   "cell_type": "code",
   "execution_count": null,
   "id": "bf7e0828",
   "metadata": {},
   "outputs": [],
   "source": [
    "#Write a function which should return list of all the file name from a directory\n",
    "from os import listdir\n",
    "from os.path import isfile, join\n",
    "def names_files_list(my_path):\n",
    "    \"\"\"This function will us show the files which are present in the system, when given the path name\"\"\"\n",
    "    onlyfiles = [f for f in listdir(my_path) if isfile(join(my_path, f))]\n",
    "    return onlyfiles\n",
    "names_files_list(r'C:\\\\Users\\\\roy.800\\\\Downloads')"
   ]
  },
  {
   "cell_type": "code",
   "execution_count": null,
   "id": "8b337ee8",
   "metadata": {},
   "outputs": [],
   "source": [
    "#Write a function which will be aable to show your system configuration\n",
    "# import module\n",
    "import subprocess\n",
    "\n",
    "# traverse the info\n",
    "def printsysinfo(sys_info,code):\n",
    "    \"\"\"This function is used to print the system configuation\"\"\"\n",
    "    Id = subprocess.check_output([sys_info]).decode(code).split('\\n')\n",
    "    new = []\n",
    "\n",
    "    # arrange the string into clear info\n",
    "    for item in Id:\n",
    "        new.append(str(item.split(\"\\r\")[:-1]))\n",
    "    for i in new:\n",
    "        print(i[2:-2])\n",
    "printsysinfo('systeminfo','utf-8')"
   ]
  },
  {
   "cell_type": "code",
   "execution_count": null,
   "id": "b9dc631d",
   "metadata": {},
   "outputs": [],
   "source": [
    "\n",
    "# Python program to read\n",
    "# image using PIL module\n",
    " \n",
    "# importing PIL\n",
    "from PIL import Image\n",
    "\n",
    "def read_img(pic):\n",
    "    \"\"\"This function is used to display an image\"\"\"\n",
    "    # Read image\n",
    "    img = Image.open(pic)\n",
    "\n",
    "    # Output Images\n",
    "    img.show()\n",
    "\n",
    "    # prints format of image\n",
    "    print(img.format)\n",
    "\n",
    "    # prints mode of image\n",
    "    print(img.mode)\n",
    "read_img('zoom bg-02.png')"
   ]
  },
  {
   "cell_type": "code",
   "execution_count": null,
   "id": "19ba93c0",
   "metadata": {},
   "outputs": [],
   "source": [
    "#Import Libraries\n",
    "from IPython.display import Image\n",
    "\n",
    "#For this particular case, we have considered this particular size chart\n",
    "def disp_img(pic,height,width):\n",
    "    \"\"\"This function is used to display an image\"\"\"\n",
    "    img = Image(\"zoom bg-02.png\", height=height, width=width)\n",
    "    return img\n",
    "disp_img('zoom bg-02.png',300,500)"
   ]
  },
  {
   "cell_type": "code",
   "execution_count": null,
   "id": "41f14721",
   "metadata": {},
   "outputs": [],
   "source": [
    "#Function to read video files\n",
    "\n",
    "# Link 1 = https://www.geeksforgeeks.org/playing-youtube-video-using-python/\n",
    "# Link 2 = https://www.youtube.com/watch?v=vvq6xRziKns&t=246s\n",
    "\n",
    "# could not execute due to office laptop restrictions\n",
    "\n",
    "\n",
    "# PLAY VIDEO\n",
    "\n",
    "# # importing vlc module\n",
    "# import vlc\n",
    "  \n",
    "# # importing pafy module\n",
    "# import pafy\n",
    "  \n",
    "# # url of the video\n",
    "# url = \"https://www.youtube.com/watch?v = vG2PNdI8axo\"\n",
    "  \n",
    "# # creating pafy object of the video\n",
    "# video = pafy.new(url)\n",
    "  \n",
    "# # getting best stream\n",
    "# best = video.getbest()\n",
    "  \n",
    "# # creating vlc media player object\n",
    "# media = vlc.MediaPlayer(best.url)\n",
    "  \n",
    "# # start playing video\n",
    "# media.play()\n",
    "\n",
    "\n",
    "# PLAY VIDEO\n",
    "\n",
    "\n",
    "# # importing vlc module\n",
    "# import vlc\n",
    "  \n",
    "# importing pafy module\n",
    "# import pafy\n",
    "  \n",
    "# # url of the video\n",
    "# url = \"https://www.youtube.com/watch?v=il_t1WVLNxk&list=PLqM7alHXFySGqCvcwfqqMrteqWukz9ZoE\"\n",
    "  \n",
    "# # creating pafy object of the video\n",
    "# video = pafy.new(url)\n",
    "  \n",
    "# # getting stream at index 0\n",
    "# best = video.streams[0]\n",
    "  \n",
    "# # creating vlc media player object\n",
    "# media = vlc.MediaPlayer(best.url)\n",
    "  \n",
    "# # start playing video\n",
    "# media.play()"
   ]
  },
  {
   "cell_type": "code",
   "execution_count": null,
   "id": "17fbd80c",
   "metadata": {},
   "outputs": [],
   "source": [
    "# Write a function to move single file from one directory to another directory\n",
    "def move_singlefile(source_file,dest_file):\n",
    "    \"\"\"This function is used to move a file from one directory to another directory\"\"\"\n",
    "    src_path = source_file\n",
    "    dst_path = dest_file\n",
    "    shutil.move(src_path,dst_path)\n",
    "move_singlefile(r\"C:\\Users\\roy.800\\Music\\bg1-05.png\",r\"C:\\Users\\roy.800\\Downloads\\bg1-05.png\")"
   ]
  },
  {
   "cell_type": "code",
   "execution_count": null,
   "id": "6ee6b93b",
   "metadata": {},
   "outputs": [],
   "source": [
    "#Write a function to shut down the laptop or computer.\n",
    "import os\n",
    "\n",
    "def shutdown_laptop():\n",
    "    \"\"\"This function will help in shutting down the laptop\"\"\"\n",
    "    shutdown = input(\"Do you wish to shutdown your computer ? (yes / no): \")\n",
    "\n",
    "    if shutdown == 'no':\n",
    "        exit()\n",
    "    else:\n",
    "        os.system(\"shutdown /s /t 1\")\n",
    "shutdown_laptop()"
   ]
  },
  {
   "cell_type": "code",
   "execution_count": 3,
   "id": "7e3a1f9f",
   "metadata": {},
   "outputs": [],
   "source": [
    "#Write a function to access gmail.\n",
    "#Write a function to read pdf in python\n",
    "#Write a function to send an email to anyone\n",
    "#Write a function to read a word file\n",
    "#Write a function which can help you filter only one word file from a directory\n",
    "#Write a function which you can print an ip address of your system\n",
    "#Write a function which you will be able to append two pdf files."
   ]
  },
  {
   "cell_type": "code",
   "execution_count": null,
   "id": "07116359",
   "metadata": {},
   "outputs": [],
   "source": []
  },
  {
   "cell_type": "code",
   "execution_count": null,
   "id": "4305c5ff",
   "metadata": {},
   "outputs": [],
   "source": []
  },
  {
   "cell_type": "code",
   "execution_count": null,
   "id": "6fda151e",
   "metadata": {},
   "outputs": [],
   "source": []
  },
  {
   "cell_type": "code",
   "execution_count": null,
   "id": "47f21486",
   "metadata": {},
   "outputs": [],
   "source": []
  },
  {
   "cell_type": "code",
   "execution_count": null,
   "id": "354a8e08",
   "metadata": {},
   "outputs": [],
   "source": []
  }
 ],
 "metadata": {
  "kernelspec": {
   "display_name": "Python 3",
   "language": "python",
   "name": "python3"
  },
  "language_info": {
   "codemirror_mode": {
    "name": "ipython",
    "version": 3
   },
   "file_extension": ".py",
   "mimetype": "text/x-python",
   "name": "python",
   "nbconvert_exporter": "python",
   "pygments_lexer": "ipython3",
   "version": "3.8.8"
  }
 },
 "nbformat": 4,
 "nbformat_minor": 5
}
