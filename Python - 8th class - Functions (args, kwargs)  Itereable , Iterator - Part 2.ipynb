{
 "cells": [
  {
   "cell_type": "code",
   "execution_count": null,
   "id": "bbc3bee1",
   "metadata": {},
   "outputs": [],
   "source": [
    "# Write a function to input mutiple requirements, we dont know how many."
   ]
  },
  {
   "cell_type": "code",
   "execution_count": 10,
   "id": "18664c1e",
   "metadata": {},
   "outputs": [],
   "source": [
    "#Writing a function to insert multiple arguments\n",
    "#maybe 100, 200, 300 or 400\n",
    "def test(a,b,c,d,e):\n",
    "    return a,b,c,d,e"
   ]
  },
  {
   "cell_type": "code",
   "execution_count": 11,
   "id": "eff19651",
   "metadata": {},
   "outputs": [
    {
     "data": {
      "text/plain": [
       "(12, 34, 56, 76, 45)"
      ]
     },
     "execution_count": 11,
     "metadata": {},
     "output_type": "execute_result"
    }
   ],
   "source": [
    "test(12,34,56,76,45)"
   ]
  },
  {
   "cell_type": "code",
   "execution_count": 12,
   "id": "ddc5f22b",
   "metadata": {},
   "outputs": [],
   "source": [
    "def test1(*args):\n",
    "    return args"
   ]
  },
  {
   "cell_type": "code",
   "execution_count": 13,
   "id": "fead97a3",
   "metadata": {},
   "outputs": [
    {
     "data": {
      "text/plain": [
       "(45, 34, 45)"
      ]
     },
     "execution_count": 13,
     "metadata": {},
     "output_type": "execute_result"
    }
   ],
   "source": [
    "test1(45,34,45)"
   ]
  },
  {
   "cell_type": "code",
   "execution_count": 14,
   "id": "481adfb0",
   "metadata": {},
   "outputs": [
    {
     "data": {
      "text/plain": [
       "(34, 34, 'test', 34.23)"
      ]
     },
     "execution_count": 14,
     "metadata": {},
     "output_type": "execute_result"
    }
   ],
   "source": [
    "test1(34,34,'test',34.23)"
   ]
  },
  {
   "cell_type": "code",
   "execution_count": 15,
   "id": "e18109b4",
   "metadata": {},
   "outputs": [
    {
     "data": {
      "text/plain": [
       "([1, 2, 43, 4, 5], (45, 45, 34, 23), 'fsdf', (345+7j))"
      ]
     },
     "execution_count": 15,
     "metadata": {},
     "output_type": "execute_result"
    }
   ],
   "source": [
    "test1([1,2,43,4,5],(45,45,34,23),'fsdf',(345+7j))"
   ]
  },
  {
   "cell_type": "code",
   "execution_count": 16,
   "id": "106f8cae",
   "metadata": {},
   "outputs": [],
   "source": [
    "#*args it is a notation by which it is trying to consider any number of variable that i would like to pass at any point of a time whenerver i am trying to call a function"
   ]
  },
  {
   "cell_type": "code",
   "execution_count": 17,
   "id": "0608e251",
   "metadata": {},
   "outputs": [],
   "source": [
    "def test2(*sudh):\n",
    "    return sudh"
   ]
  },
  {
   "cell_type": "code",
   "execution_count": 18,
   "id": "aa90dd62",
   "metadata": {},
   "outputs": [
    {
     "data": {
      "text/plain": [
       "('weasd', 2334, '2323', 3434)"
      ]
     },
     "execution_count": 18,
     "metadata": {},
     "output_type": "execute_result"
    }
   ],
   "source": [
    "test2(\"weasd\",2334,\"2323\",3434)"
   ]
  },
  {
   "cell_type": "code",
   "execution_count": 19,
   "id": "aaebf45d",
   "metadata": {},
   "outputs": [],
   "source": [
    "#Args is not a reserved keyword, it is just a standard notation, which is able to work even if you give your name it will work"
   ]
  },
  {
   "cell_type": "code",
   "execution_count": 25,
   "id": "195928fc",
   "metadata": {},
   "outputs": [],
   "source": [
    "#This function is used in order to take specific data along with n number of data.\n",
    "def test3(*args , a):\n",
    "    return args, a"
   ]
  },
  {
   "cell_type": "code",
   "execution_count": 26,
   "id": "8eba6bbb",
   "metadata": {},
   "outputs": [
    {
     "data": {
      "text/plain": [
       "((34, 434, 34), 12)"
      ]
     },
     "execution_count": 26,
     "metadata": {},
     "output_type": "execute_result"
    }
   ],
   "source": [
    "test3(34,434,34, a = 12)"
   ]
  },
  {
   "cell_type": "code",
   "execution_count": 29,
   "id": "cd8910d9",
   "metadata": {},
   "outputs": [],
   "source": [
    "def test4(*ashi,a,b,c,d):\n",
    "    return ashi, a,b,c,d"
   ]
  },
  {
   "cell_type": "code",
   "execution_count": 30,
   "id": "365f0e15",
   "metadata": {},
   "outputs": [
    {
     "data": {
      "text/plain": [
       "((1212, 23232, 23434, 2323),\n",
       " [2, 3, 4, 56, 3, 2],\n",
       " [1, 23, 4, 5, 6, 7],\n",
       " 'dfdsdas',\n",
       " 3434.454)"
      ]
     },
     "execution_count": 30,
     "metadata": {},
     "output_type": "execute_result"
    }
   ],
   "source": [
    "test4(1212,23232,23434,2323, a = [2,3,4,56,3,2],b=[1,23,4,5,6,7],c = 'dfdsdas', d = 3434.454)"
   ]
  },
  {
   "cell_type": "code",
   "execution_count": 31,
   "id": "50d77162",
   "metadata": {},
   "outputs": [],
   "source": [
    "def test5(a,b,c,d,*ashi):\n",
    "    return ashi, a,b,c,d"
   ]
  },
  {
   "cell_type": "code",
   "execution_count": 32,
   "id": "a8020f61",
   "metadata": {},
   "outputs": [
    {
     "ename": "SyntaxError",
     "evalue": "positional argument follows keyword argument (<ipython-input-32-dec14703970a>, line 1)",
     "output_type": "error",
     "traceback": [
      "\u001b[1;36m  File \u001b[1;32m\"<ipython-input-32-dec14703970a>\"\u001b[1;36m, line \u001b[1;32m1\u001b[0m\n\u001b[1;33m    test5(a = 232,b = 34, c = 3434, d = 343, \"sadsd\",2323,3434.54)\u001b[0m\n\u001b[1;37m                                             ^\u001b[0m\n\u001b[1;31mSyntaxError\u001b[0m\u001b[1;31m:\u001b[0m positional argument follows keyword argument\n"
     ]
    }
   ],
   "source": [
    "test5(a = 232,b = 34, c = 3434, d = 343, \"sadsd\",2323,3434.54)"
   ]
  },
  {
   "cell_type": "code",
   "execution_count": 33,
   "id": "aeadc966",
   "metadata": {},
   "outputs": [],
   "source": [
    "def test6(a,b,*ashi):\n",
    "    return ashi, a,b"
   ]
  },
  {
   "cell_type": "code",
   "execution_count": 35,
   "id": "ed487942",
   "metadata": {},
   "outputs": [
    {
     "data": {
      "text/plain": [
       "(('dasdasd', 2323, 2323, 2323), 'asdas')"
      ]
     },
     "execution_count": 35,
     "metadata": {},
     "output_type": "execute_result"
    }
   ],
   "source": [
    "test6(\"asdas\",\"dasdasd\",2323,2323,2323)"
   ]
  },
  {
   "cell_type": "code",
   "execution_count": 36,
   "id": "8fe212a1",
   "metadata": {},
   "outputs": [],
   "source": [
    "def test7(a, *sudh, b, c):\n",
    "    return a, sudh, b, c\n",
    "\n",
    "#here it will consider according to the postional argument of the data."
   ]
  },
  {
   "cell_type": "code",
   "execution_count": 39,
   "id": "6abd97c0",
   "metadata": {},
   "outputs": [
    {
     "data": {
      "text/plain": [
       "('dasdsa', ([2, 3, 4, 5], 45, 4545, 45, 45, 45, 45, 45), 4, 34)"
      ]
     },
     "execution_count": 39,
     "metadata": {},
     "output_type": "execute_result"
    }
   ],
   "source": [
    "test7(\"dasdsa\", [2,3,4,5],45,4545,45,45,45,45,45, b = 4,c = 34)\n",
    "#Before ashtrik it will take positional argument and after ashtrik it will take in the binding of the arguments\n",
    "#Arguments always returns tuples"
   ]
  },
  {
   "cell_type": "code",
   "execution_count": 46,
   "id": "e55e4a79",
   "metadata": {},
   "outputs": [],
   "source": [
    "def test8(*args):\n",
    "    for i in args:\n",
    "        if type(i) == list:\n",
    "            return i"
   ]
  },
  {
   "cell_type": "code",
   "execution_count": 47,
   "id": "90007703",
   "metadata": {},
   "outputs": [
    {
     "data": {
      "text/plain": [
       "[232, 434, 434, 34, 34]"
      ]
     },
     "execution_count": 47,
     "metadata": {},
     "output_type": "execute_result"
    }
   ],
   "source": [
    "test8(34,35,6,56,34,2,[232,434,434,34,34])"
   ]
  },
  {
   "cell_type": "code",
   "execution_count": 48,
   "id": "a03b15be",
   "metadata": {},
   "outputs": [
    {
     "data": {
      "text/plain": [
       "[34, 34, 34, 34]"
      ]
     },
     "execution_count": 48,
     "metadata": {},
     "output_type": "execute_result"
    }
   ],
   "source": [
    "test8(3343,43,343,4,34, [34,34,34,34],[343,43,434,34],'sddfd')"
   ]
  },
  {
   "cell_type": "code",
   "execution_count": 52,
   "id": "105667b1",
   "metadata": {},
   "outputs": [],
   "source": [
    "def test8(*args):\n",
    "    l = []\n",
    "    for i in args:\n",
    "        if type(i) == list:\n",
    "            l.append(i)\n",
    "    return l"
   ]
  },
  {
   "cell_type": "code",
   "execution_count": 53,
   "id": "3cceb39c",
   "metadata": {},
   "outputs": [
    {
     "data": {
      "text/plain": [
       "[[34, 34, 34, 34], [343, 43, 434, 34]]"
      ]
     },
     "execution_count": 53,
     "metadata": {},
     "output_type": "execute_result"
    }
   ],
   "source": [
    "test8(3343,43,343,4,34, [34,34,34,34],[343,43,434,34],'sddfd')"
   ]
  },
  {
   "cell_type": "code",
   "execution_count": 54,
   "id": "b6ccabc8",
   "metadata": {},
   "outputs": [],
   "source": [
    "#Write a function which will take n number of data but as a key value pair.\n",
    "d = {\"a\" : [2,34,5,6,7,8], 6 : [3,45,45,3,3,2,2]}"
   ]
  },
  {
   "cell_type": "code",
   "execution_count": 56,
   "id": "d9d96a42",
   "metadata": {},
   "outputs": [
    {
     "data": {
      "text/plain": [
       "[2, 34, 5, 6, 7, 8]"
      ]
     },
     "execution_count": 56,
     "metadata": {},
     "output_type": "execute_result"
    }
   ],
   "source": [
    "d[\"a\"]"
   ]
  },
  {
   "cell_type": "code",
   "execution_count": 57,
   "id": "77000333",
   "metadata": {},
   "outputs": [],
   "source": [
    "# Single * you can only pass few arguments, double ** you can pass any kind of a key value pair.(kwargs is also called as keyword arguments)\n",
    "def test9(**kwargs):\n",
    "    return kwargs"
   ]
  },
  {
   "cell_type": "code",
   "execution_count": 58,
   "id": "6b4f15d9",
   "metadata": {},
   "outputs": [
    {
     "ename": "TypeError",
     "evalue": "test9() takes 0 positional arguments but 7 were given",
     "output_type": "error",
     "traceback": [
      "\u001b[1;31m---------------------------------------------------------------------------\u001b[0m",
      "\u001b[1;31mTypeError\u001b[0m                                 Traceback (most recent call last)",
      "\u001b[1;32m<ipython-input-58-630791db8ca5>\u001b[0m in \u001b[0;36m<module>\u001b[1;34m\u001b[0m\n\u001b[1;32m----> 1\u001b[1;33m \u001b[0mtest9\u001b[0m\u001b[1;33m(\u001b[0m\u001b[1;36m3434\u001b[0m\u001b[1;33m,\u001b[0m\u001b[1;36m34\u001b[0m\u001b[1;33m,\u001b[0m\u001b[1;36m3434\u001b[0m\u001b[1;33m,\u001b[0m\u001b[1;36m343\u001b[0m\u001b[1;33m,\u001b[0m\u001b[1;36m4343\u001b[0m\u001b[1;33m,\u001b[0m\u001b[1;36m43\u001b[0m\u001b[1;33m,\u001b[0m\u001b[1;36m4\u001b[0m\u001b[1;33m)\u001b[0m\u001b[1;33m\u001b[0m\u001b[1;33m\u001b[0m\u001b[0m\n\u001b[0m",
      "\u001b[1;31mTypeError\u001b[0m: test9() takes 0 positional arguments but 7 were given"
     ]
    }
   ],
   "source": [
    "test9(3434,34,3434,343,4343,43,4)"
   ]
  },
  {
   "cell_type": "code",
   "execution_count": 59,
   "id": "bbf996ae",
   "metadata": {},
   "outputs": [
    {
     "data": {
      "text/plain": [
       "{'a': 343, 'b': [34, 34, 343, 3434, 4]}"
      ]
     },
     "execution_count": 59,
     "metadata": {},
     "output_type": "execute_result"
    }
   ],
   "source": [
    "test9(a = 343, b = [34,34,343,3434,4])"
   ]
  },
  {
   "cell_type": "code",
   "execution_count": 61,
   "id": "d6adc8a8",
   "metadata": {},
   "outputs": [],
   "source": [
    "def test10(**ashish):\n",
    "    return ashish"
   ]
  },
  {
   "cell_type": "code",
   "execution_count": 63,
   "id": "b99cc0bb",
   "metadata": {},
   "outputs": [
    {
     "data": {
      "text/plain": [
       "{'b': 4545, 'g': 'asdas', 'f': [12, 323, 232, 3232]}"
      ]
     },
     "execution_count": 63,
     "metadata": {},
     "output_type": "execute_result"
    }
   ],
   "source": [
    "# Kwargs is not a keyword so you can give any name to it\n",
    "test10(b = 4545,g = \"asdas\", f = [12,323,232,3232])"
   ]
  },
  {
   "cell_type": "code",
   "execution_count": 64,
   "id": "47e1ed86",
   "metadata": {},
   "outputs": [],
   "source": [
    "def test11(**ashish):\n",
    "    return ashish"
   ]
  },
  {
   "cell_type": "code",
   "execution_count": 65,
   "id": "8fe70238",
   "metadata": {},
   "outputs": [
    {
     "data": {
      "text/plain": [
       "{'name': 'Ashish',\n",
       " 'Age': '31',\n",
       " 'Phone_number': '12322323',\n",
       " 'mail_id': 'ashishroyofficial@gmail.com',\n",
       " 'adr': 'sdadsa'}"
      ]
     },
     "execution_count": 65,
     "metadata": {},
     "output_type": "execute_result"
    }
   ],
   "source": [
    "test11(name = \"Ashish\", Age = \"31\", Phone_number = \"12322323\", mail_id = \"ashishroyofficial@gmail.com\", adr = \"sdadsa\")"
   ]
  },
  {
   "cell_type": "code",
   "execution_count": 66,
   "id": "fb34f5b4",
   "metadata": {},
   "outputs": [],
   "source": [
    "def test12(a, **ashi):\n",
    "    return ashi, a"
   ]
  },
  {
   "cell_type": "code",
   "execution_count": 71,
   "id": "78fc67ce",
   "metadata": {},
   "outputs": [
    {
     "data": {
      "text/plain": [
       "({'t': 23, 'b': 3232, 'c': 323, 'd': 32, 'e': 32, 'f': 32}, 23)"
      ]
     },
     "execution_count": 71,
     "metadata": {},
     "output_type": "execute_result"
    }
   ],
   "source": [
    "#It is trying to consider key value arguments along with a postional argument a\n",
    "test12(23,t=23,b = 3232,c=323,d=32,e=32,f = 32)"
   ]
  },
  {
   "cell_type": "code",
   "execution_count": 73,
   "id": "4baaf201",
   "metadata": {},
   "outputs": [
    {
     "ename": "SyntaxError",
     "evalue": "invalid syntax (<ipython-input-73-dccde086f6f4>, line 2)",
     "output_type": "error",
     "traceback": [
      "\u001b[1;36m  File \u001b[1;32m\"<ipython-input-73-dccde086f6f4>\"\u001b[1;36m, line \u001b[1;32m2\u001b[0m\n\u001b[1;33m    def test13(a, **kwargs,*args):\u001b[0m\n\u001b[1;37m                           ^\u001b[0m\n\u001b[1;31mSyntaxError\u001b[0m\u001b[1;31m:\u001b[0m invalid syntax\n"
     ]
    }
   ],
   "source": [
    "#We wont be able to use single and double starrik at a time\n",
    "def test13(a, **kwargs,*args):\n",
    "    return a, kwargs, args"
   ]
  },
  {
   "cell_type": "code",
   "execution_count": 74,
   "id": "6c862240",
   "metadata": {},
   "outputs": [],
   "source": [
    "#the position has changed and it has started to work\n",
    "def test14(a, *args, **kwargs):\n",
    "    return a , args, kwargs"
   ]
  },
  {
   "cell_type": "code",
   "execution_count": 76,
   "id": "4b8f3d3c",
   "metadata": {},
   "outputs": [
    {
     "data": {
      "text/plain": [
       "(123123123,\n",
       " (3123213, 323123, 23, 23, 23, 23, 23, 2, 323),\n",
       " {'g': 32131, 'c': 'asdasd'})"
      ]
     },
     "execution_count": 76,
     "metadata": {},
     "output_type": "execute_result"
    }
   ],
   "source": [
    "#We can see the difference here\n",
    "test14(123123123,3123213,323123,23,23,23,23,23,2,323, g = 32131, c = 'asdasd')"
   ]
  },
  {
   "cell_type": "markdown",
   "id": "d3a2cf5d",
   "metadata": {},
   "source": [
    "# LAMBDA FUNCTION (Anonimous function) Function without a name"
   ]
  },
  {
   "cell_type": "code",
   "execution_count": 77,
   "id": "c55e2e01",
   "metadata": {},
   "outputs": [],
   "source": [
    "#Creating a function without creating a name"
   ]
  },
  {
   "cell_type": "code",
   "execution_count": 78,
   "id": "d8cfd1e3",
   "metadata": {},
   "outputs": [],
   "source": [
    "#Requirement (perform small task)"
   ]
  },
  {
   "cell_type": "code",
   "execution_count": 79,
   "id": "0526d9bd",
   "metadata": {},
   "outputs": [],
   "source": [
    "def test15(a,b):\n",
    "    return a*b"
   ]
  },
  {
   "cell_type": "code",
   "execution_count": 80,
   "id": "12deb736",
   "metadata": {},
   "outputs": [
    {
     "data": {
      "text/plain": [
       "3015"
      ]
     },
     "execution_count": 80,
     "metadata": {},
     "output_type": "execute_result"
    }
   ],
   "source": [
    "test15(45,67)"
   ]
  },
  {
   "cell_type": "code",
   "execution_count": 85,
   "id": "6c0c2b9c",
   "metadata": {},
   "outputs": [],
   "source": [
    "#if there is a very small function which needs to be executed, maybe i can write lambda\n",
    "#if i have to write very complex problem we can go with the function itself\n",
    "a = lambda a,b  : a*b"
   ]
  },
  {
   "cell_type": "code",
   "execution_count": 86,
   "id": "883baacd",
   "metadata": {},
   "outputs": [
    {
     "data": {
      "text/plain": [
       "3015"
      ]
     },
     "execution_count": 86,
     "metadata": {},
     "output_type": "execute_result"
    }
   ],
   "source": [
    "a(45,67)"
   ]
  },
  {
   "cell_type": "code",
   "execution_count": 87,
   "id": "0d8a2ddf",
   "metadata": {},
   "outputs": [],
   "source": [
    "a = lambda a,b  : (a*b, a+b)"
   ]
  },
  {
   "cell_type": "code",
   "execution_count": 88,
   "id": "f369386e",
   "metadata": {},
   "outputs": [
    {
     "data": {
      "text/plain": [
       "(2430, 99)"
      ]
     },
     "execution_count": 88,
     "metadata": {},
     "output_type": "execute_result"
    }
   ],
   "source": [
    "a(45,54)"
   ]
  },
  {
   "cell_type": "code",
   "execution_count": 90,
   "id": "a7c12fd2",
   "metadata": {},
   "outputs": [],
   "source": [
    "a =lambda *args : args"
   ]
  },
  {
   "cell_type": "code",
   "execution_count": 91,
   "id": "1c55c804",
   "metadata": {},
   "outputs": [
    {
     "data": {
      "text/plain": [
       "(23, 2323, 'dasdas')"
      ]
     },
     "execution_count": 91,
     "metadata": {},
     "output_type": "execute_result"
    }
   ],
   "source": [
    "a(23,2323,\"dasdas\")"
   ]
  },
  {
   "cell_type": "code",
   "execution_count": 92,
   "id": "276ac7c8",
   "metadata": {},
   "outputs": [
    {
     "ename": "SyntaxError",
     "evalue": "invalid syntax (<ipython-input-92-322bbc13b657>, line 1)",
     "output_type": "error",
     "traceback": [
      "\u001b[1;36m  File \u001b[1;32m\"<ipython-input-92-322bbc13b657>\"\u001b[1;36m, line \u001b[1;32m1\u001b[0m\n\u001b[1;33m    z = lambda x : (for i in x :print(i))\u001b[0m\n\u001b[1;37m                    ^\u001b[0m\n\u001b[1;31mSyntaxError\u001b[0m\u001b[1;31m:\u001b[0m invalid syntax\n"
     ]
    }
   ],
   "source": [
    "z = lambda x : (for i in x :print(i))"
   ]
  },
  {
   "cell_type": "code",
   "execution_count": 96,
   "id": "98bbafb3",
   "metadata": {},
   "outputs": [],
   "source": [
    "z = lambda x : [i for i in x]"
   ]
  },
  {
   "cell_type": "code",
   "execution_count": 97,
   "id": "282f7d17",
   "metadata": {},
   "outputs": [
    {
     "data": {
      "text/plain": [
       "[1, 23, 3, 4, 5]"
      ]
     },
     "execution_count": 97,
     "metadata": {},
     "output_type": "execute_result"
    }
   ],
   "source": [
    "z([1,23,3,4,5])"
   ]
  },
  {
   "cell_type": "code",
   "execution_count": 98,
   "id": "edba11e8",
   "metadata": {},
   "outputs": [],
   "source": [
    "l = [2,23,4,5,6,7,7]"
   ]
  },
  {
   "cell_type": "code",
   "execution_count": 102,
   "id": "dd06768d",
   "metadata": {},
   "outputs": [],
   "source": [
    "l1 = []\n",
    "for i in l:\n",
    "    l1.append(i)"
   ]
  },
  {
   "cell_type": "code",
   "execution_count": 103,
   "id": "ffd806ce",
   "metadata": {},
   "outputs": [
    {
     "data": {
      "text/plain": [
       "[2, 23, 4, 5, 6, 7, 7]"
      ]
     },
     "execution_count": 103,
     "metadata": {},
     "output_type": "execute_result"
    }
   ],
   "source": [
    "l1"
   ]
  },
  {
   "cell_type": "code",
   "execution_count": 105,
   "id": "dbd22c5e",
   "metadata": {},
   "outputs": [
    {
     "data": {
      "text/plain": [
       "[2, 23, 4, 5, 6, 7, 7]"
      ]
     },
     "execution_count": 105,
     "metadata": {},
     "output_type": "execute_result"
    }
   ],
   "source": [
    "#List Comprehension\n",
    "[i for i in l]"
   ]
  },
  {
   "cell_type": "code",
   "execution_count": 106,
   "id": "1e50a53d",
   "metadata": {},
   "outputs": [],
   "source": [
    "z = lambda x : [i for i in x]"
   ]
  },
  {
   "cell_type": "code",
   "execution_count": 108,
   "id": "cdc8011c",
   "metadata": {},
   "outputs": [
    {
     "data": {
      "text/plain": [
       "[34, 23, 2323, 23, 2, 32, 3]"
      ]
     },
     "execution_count": 108,
     "metadata": {},
     "output_type": "execute_result"
    }
   ],
   "source": [
    "z([34,23,2323,23,2,32,3])"
   ]
  },
  {
   "cell_type": "code",
   "execution_count": 109,
   "id": "d09c7615",
   "metadata": {},
   "outputs": [],
   "source": [
    "a = lambda **kwargs : kwargs"
   ]
  },
  {
   "cell_type": "code",
   "execution_count": 110,
   "id": "271a13af",
   "metadata": {},
   "outputs": [
    {
     "data": {
      "text/plain": [
       "{'c': 12, 'v': 2313, 'g': 2313}"
      ]
     },
     "execution_count": 110,
     "metadata": {},
     "output_type": "execute_result"
    }
   ],
   "source": [
    "a(c = 12,v = 2313, g = 2313)"
   ]
  },
  {
   "cell_type": "code",
   "execution_count": 111,
   "id": "62f7320a",
   "metadata": {},
   "outputs": [],
   "source": [
    "a = 10\n",
    "def test20(c,d):\n",
    "    return c*d"
   ]
  },
  {
   "cell_type": "code",
   "execution_count": 112,
   "id": "0ec68906",
   "metadata": {},
   "outputs": [
    {
     "data": {
      "text/plain": [
       "500"
      ]
     },
     "execution_count": 112,
     "metadata": {},
     "output_type": "execute_result"
    }
   ],
   "source": [
    "test20(a,50)"
   ]
  },
  {
   "cell_type": "code",
   "execution_count": 113,
   "id": "e923f1b1",
   "metadata": {},
   "outputs": [],
   "source": [
    "a = 10\n",
    "def test20(c,d):\n",
    "    a=5\n",
    "    return c*d"
   ]
  },
  {
   "cell_type": "code",
   "execution_count": 115,
   "id": "951a3dd3",
   "metadata": {},
   "outputs": [
    {
     "data": {
      "text/plain": [
       "500"
      ]
     },
     "execution_count": 115,
     "metadata": {},
     "output_type": "execute_result"
    }
   ],
   "source": [
    "test20(a,50)"
   ]
  },
  {
   "cell_type": "code",
   "execution_count": 121,
   "id": "c116b0d2",
   "metadata": {},
   "outputs": [],
   "source": [
    "#here we are reassigning the value\n",
    "a = 10\n",
    "def test20(c,d):\n",
    "    c=5\n",
    "    return c*d"
   ]
  },
  {
   "cell_type": "code",
   "execution_count": 122,
   "id": "f7f068e0",
   "metadata": {},
   "outputs": [
    {
     "data": {
      "text/plain": [
       "250"
      ]
     },
     "execution_count": 122,
     "metadata": {},
     "output_type": "execute_result"
    }
   ],
   "source": [
    "#it will consider new value of c\n",
    "test20(a,50)"
   ]
  },
  {
   "cell_type": "code",
   "execution_count": 123,
   "id": "702fb389",
   "metadata": {},
   "outputs": [
    {
     "data": {
      "text/plain": [
       "250"
      ]
     },
     "execution_count": 123,
     "metadata": {},
     "output_type": "execute_result"
    }
   ],
   "source": [
    "#it will consider new value of c\n",
    "test20(10,50)"
   ]
  },
  {
   "cell_type": "code",
   "execution_count": 125,
   "id": "2ef4bf81",
   "metadata": {},
   "outputs": [
    {
     "data": {
      "text/plain": [
       "250"
      ]
     },
     "execution_count": 125,
     "metadata": {},
     "output_type": "execute_result"
    }
   ],
   "source": [
    "#it will consider new value of c\n",
    "test20(20,50)"
   ]
  },
  {
   "cell_type": "code",
   "execution_count": 127,
   "id": "b19edf16",
   "metadata": {},
   "outputs": [],
   "source": [
    "#here we are reassigning the value\n",
    "c = 10\n",
    "def test20(c,d):\n",
    "    c=5\n",
    "    return c*d"
   ]
  },
  {
   "cell_type": "code",
   "execution_count": 128,
   "id": "160fcec3",
   "metadata": {},
   "outputs": [
    {
     "data": {
      "text/plain": [
       "10"
      ]
     },
     "execution_count": 128,
     "metadata": {},
     "output_type": "execute_result"
    }
   ],
   "source": [
    "c"
   ]
  },
  {
   "cell_type": "code",
   "execution_count": 130,
   "id": "559714cf",
   "metadata": {},
   "outputs": [],
   "source": [
    "#Scope of c available outside the declaration is global declaration (it will be available across entire notebook)\n",
    "#Scope of c available inside the function is called as Local Declaration (it is only limited to a function itself)\n",
    "#Here we can see that this declaration is a global declaration"
   ]
  },
  {
   "cell_type": "code",
   "execution_count": 136,
   "id": "f17e2076",
   "metadata": {},
   "outputs": [],
   "source": [
    "# 1st approach\n",
    "l = [1,2,3,4,5,6,7]\n",
    "l1 = []\n",
    "for i in l:\n",
    "    l1.append(i+2)"
   ]
  },
  {
   "cell_type": "code",
   "execution_count": 137,
   "id": "7446af6f",
   "metadata": {},
   "outputs": [
    {
     "data": {
      "text/plain": [
       "[3, 4, 5, 6, 7, 8, 9]"
      ]
     },
     "execution_count": 137,
     "metadata": {},
     "output_type": "execute_result"
    }
   ],
   "source": [
    "l1"
   ]
  },
  {
   "cell_type": "code",
   "execution_count": 138,
   "id": "a9e21b83",
   "metadata": {},
   "outputs": [],
   "source": [
    "#2nd Approach\n",
    "def test23(a):\n",
    "    l1 = []\n",
    "    for i in a:\n",
    "        l1.append(i+2)\n",
    "    return l1"
   ]
  },
  {
   "cell_type": "code",
   "execution_count": 139,
   "id": "b593c0a4",
   "metadata": {},
   "outputs": [
    {
     "data": {
      "text/plain": [
       "[3, 4, 5, 6, 7, 8, 9]"
      ]
     },
     "execution_count": 139,
     "metadata": {},
     "output_type": "execute_result"
    }
   ],
   "source": [
    "test23(l)"
   ]
  },
  {
   "cell_type": "code",
   "execution_count": 140,
   "id": "6e1aa49b",
   "metadata": {},
   "outputs": [],
   "source": [
    "#3rd Approach \n",
    "z = lambda a : [i+2 for i in a]"
   ]
  },
  {
   "cell_type": "code",
   "execution_count": 141,
   "id": "5b201975",
   "metadata": {},
   "outputs": [
    {
     "data": {
      "text/plain": [
       "[3, 4, 5, 6, 7, 8, 9]"
      ]
     },
     "execution_count": 141,
     "metadata": {},
     "output_type": "execute_result"
    }
   ],
   "source": [
    "z(l)"
   ]
  },
  {
   "cell_type": "code",
   "execution_count": 142,
   "id": "165b1610",
   "metadata": {},
   "outputs": [
    {
     "data": {
      "text/plain": [
       "[1, 2, 3, 4, 5, 6, 7]"
      ]
     },
     "execution_count": 142,
     "metadata": {},
     "output_type": "execute_result"
    }
   ],
   "source": [
    "l"
   ]
  },
  {
   "cell_type": "code",
   "execution_count": 144,
   "id": "ac11d059",
   "metadata": {},
   "outputs": [
    {
     "data": {
      "text/plain": [
       "[3, 4, 5, 6, 7, 8, 9]"
      ]
     },
     "execution_count": 144,
     "metadata": {},
     "output_type": "execute_result"
    }
   ],
   "source": [
    "#4th approach\n",
    "#List comprehension\n",
    "[i+2 for i in l]"
   ]
  },
  {
   "cell_type": "code",
   "execution_count": 145,
   "id": "1cd56ea2",
   "metadata": {},
   "outputs": [
    {
     "data": {
      "text/plain": [
       "[1, 4, 9, 16, 25, 36, 49]"
      ]
     },
     "execution_count": 145,
     "metadata": {},
     "output_type": "execute_result"
    }
   ],
   "source": [
    "[i**2 for i in l]"
   ]
  },
  {
   "cell_type": "code",
   "execution_count": 146,
   "id": "2abff7ba",
   "metadata": {},
   "outputs": [
    {
     "data": {
      "text/plain": [
       "[(1, 2), (4, 4), (9, 6), (16, 8), (25, 10), (36, 12), (49, 14)]"
      ]
     },
     "execution_count": 146,
     "metadata": {},
     "output_type": "execute_result"
    }
   ],
   "source": [
    "[(i**2,i+i) for i in l]"
   ]
  },
  {
   "cell_type": "code",
   "execution_count": 148,
   "id": "b9ba4f34",
   "metadata": {},
   "outputs": [
    {
     "data": {
      "text/plain": [
       "[(1, 2), (4, 4), (9, 6)]"
      ]
     },
     "execution_count": 148,
     "metadata": {},
     "output_type": "execute_result"
    }
   ],
   "source": [
    "#it is a control statement\n",
    "[(i**2,i+i) for i in l if i < 4]"
   ]
  },
  {
   "cell_type": "code",
   "execution_count": 153,
   "id": "ebf13e1c",
   "metadata": {},
   "outputs": [],
   "source": [
    "# We can use return only when using a function\n",
    "l1 = []\n",
    "for i in l:\n",
    "    if i < 4:\n",
    "        l1.append((i**2,i+i))"
   ]
  },
  {
   "cell_type": "code",
   "execution_count": 154,
   "id": "977e21f4",
   "metadata": {},
   "outputs": [
    {
     "data": {
      "text/plain": [
       "[(1, 2), (4, 4), (9, 6)]"
      ]
     },
     "execution_count": 154,
     "metadata": {},
     "output_type": "execute_result"
    }
   ],
   "source": [
    "l1"
   ]
  },
  {
   "cell_type": "code",
   "execution_count": 164,
   "id": "044caab9",
   "metadata": {},
   "outputs": [],
   "source": [
    "#Return works inside a function\n",
    "def test30(z):\n",
    "    l1 = []\n",
    "    for i in z:\n",
    "        if i < 4:\n",
    "            l1.append((i**2,i+i))\n",
    "    return l1"
   ]
  },
  {
   "cell_type": "code",
   "execution_count": 165,
   "id": "3e3e74e1",
   "metadata": {},
   "outputs": [
    {
     "data": {
      "text/plain": [
       "[(1, 2), (4, 4), (9, 6)]"
      ]
     },
     "execution_count": 165,
     "metadata": {},
     "output_type": "execute_result"
    }
   ],
   "source": [
    "test30(l)"
   ]
  },
  {
   "cell_type": "code",
   "execution_count": 166,
   "id": "77b7b33b",
   "metadata": {},
   "outputs": [
    {
     "data": {
      "text/plain": [
       "[(4, 4), (9, 6)]"
      ]
     },
     "execution_count": 166,
     "metadata": {},
     "output_type": "execute_result"
    }
   ],
   "source": [
    "[(i**2,i+i) for i in l if i < 4 if i > 1]"
   ]
  },
  {
   "cell_type": "code",
   "execution_count": 167,
   "id": "7defd456",
   "metadata": {},
   "outputs": [],
   "source": [
    "d = {1:1, 2 : 4, 3: 9}"
   ]
  },
  {
   "cell_type": "code",
   "execution_count": 169,
   "id": "9465c3ff",
   "metadata": {},
   "outputs": [
    {
     "data": {
      "text/plain": [
       "{0: 0, 1: 1, 2: 4, 3: 9, 4: 16, 5: 25, 6: 36, 7: 49, 8: 64, 9: 81}"
      ]
     },
     "execution_count": 169,
     "metadata": {},
     "output_type": "execute_result"
    }
   ],
   "source": [
    "#this is dictionary comprehension\n",
    "{i:i**2 for i in range(10)}"
   ]
  },
  {
   "cell_type": "code",
   "execution_count": 175,
   "id": "0f172fd5",
   "metadata": {},
   "outputs": [],
   "source": [
    "d1 = {}\n",
    "for i in range(10): \n",
    "    d1[i] = i**2"
   ]
  },
  {
   "cell_type": "code",
   "execution_count": 176,
   "id": "69ae8e99",
   "metadata": {},
   "outputs": [
    {
     "data": {
      "text/plain": [
       "{0: 0, 1: 1, 2: 4, 3: 9, 4: 16, 5: 25, 6: 36, 7: 49, 8: 64, 9: 81}"
      ]
     },
     "execution_count": 176,
     "metadata": {},
     "output_type": "execute_result"
    }
   ],
   "source": [
    "d1"
   ]
  },
  {
   "cell_type": "code",
   "execution_count": 179,
   "id": "fb100e28",
   "metadata": {},
   "outputs": [
    {
     "data": {
      "text/plain": [
       "(0, 1, 2, 3, 4, 5, 6, 7, 8, 9)"
      ]
     },
     "execution_count": 179,
     "metadata": {},
     "output_type": "execute_result"
    }
   ],
   "source": [
    "tuple(i for i in range(10))"
   ]
  },
  {
   "cell_type": "markdown",
   "id": "e5bd148d",
   "metadata": {},
   "source": [
    "# What is generator object or iterables?"
   ]
  },
  {
   "cell_type": "code",
   "execution_count": 181,
   "id": "29fdc208",
   "metadata": {},
   "outputs": [],
   "source": [
    "# what is iterable?"
   ]
  },
  {
   "cell_type": "code",
   "execution_count": 183,
   "id": "b3aed771",
   "metadata": {},
   "outputs": [
    {
     "ename": "TypeError",
     "evalue": "'int' object is not iterable",
     "output_type": "error",
     "traceback": [
      "\u001b[1;31m---------------------------------------------------------------------------\u001b[0m",
      "\u001b[1;31mTypeError\u001b[0m                                 Traceback (most recent call last)",
      "\u001b[1;32m<ipython-input-183-3d349a921239>\u001b[0m in \u001b[0;36m<module>\u001b[1;34m\u001b[0m\n\u001b[0;32m      1\u001b[0m \u001b[1;31m#'int' object is not iterable\u001b[0m\u001b[1;33m\u001b[0m\u001b[1;33m\u001b[0m\u001b[1;33m\u001b[0m\u001b[0m\n\u001b[0;32m      2\u001b[0m \u001b[0ma\u001b[0m \u001b[1;33m=\u001b[0m \u001b[1;36m56\u001b[0m\u001b[1;33m\u001b[0m\u001b[1;33m\u001b[0m\u001b[0m\n\u001b[1;32m----> 3\u001b[1;33m \u001b[1;32mfor\u001b[0m \u001b[0mi\u001b[0m \u001b[1;32min\u001b[0m \u001b[0ma\u001b[0m\u001b[1;33m:\u001b[0m\u001b[1;33m\u001b[0m\u001b[1;33m\u001b[0m\u001b[0m\n\u001b[0m\u001b[0;32m      4\u001b[0m     \u001b[0mprint\u001b[0m\u001b[1;33m(\u001b[0m\u001b[0mi\u001b[0m\u001b[1;33m)\u001b[0m\u001b[1;33m\u001b[0m\u001b[1;33m\u001b[0m\u001b[0m\n",
      "\u001b[1;31mTypeError\u001b[0m: 'int' object is not iterable"
     ]
    }
   ],
   "source": [
    "#'int' object is not iterable\n",
    "a = 56\n",
    "for i in a:\n",
    "    print(i)"
   ]
  },
  {
   "cell_type": "code",
   "execution_count": 186,
   "id": "8d54157a",
   "metadata": {},
   "outputs": [
    {
     "name": "stdout",
     "output_type": "stream",
     "text": [
      "s\n",
      "u\n",
      "d\n",
      "h\n"
     ]
    }
   ],
   "source": [
    "#String is a iterable object\n",
    "s = 'sudh'\n",
    "for i in s : \n",
    "    print(i)"
   ]
  },
  {
   "cell_type": "code",
   "execution_count": 187,
   "id": "323057bd",
   "metadata": {},
   "outputs": [
    {
     "ename": "TypeError",
     "evalue": "'str' object is not an iterator",
     "output_type": "error",
     "traceback": [
      "\u001b[1;31m---------------------------------------------------------------------------\u001b[0m",
      "\u001b[1;31mTypeError\u001b[0m                                 Traceback (most recent call last)",
      "\u001b[1;32m<ipython-input-187-61c30b5fe1d5>\u001b[0m in \u001b[0;36m<module>\u001b[1;34m\u001b[0m\n\u001b[1;32m----> 1\u001b[1;33m \u001b[0mnext\u001b[0m\u001b[1;33m(\u001b[0m\u001b[0ms\u001b[0m\u001b[1;33m)\u001b[0m\u001b[1;33m\u001b[0m\u001b[1;33m\u001b[0m\u001b[0m\n\u001b[0m",
      "\u001b[1;31mTypeError\u001b[0m: 'str' object is not an iterator"
     ]
    }
   ],
   "source": [
    "next(s)"
   ]
  },
  {
   "cell_type": "code",
   "execution_count": 188,
   "id": "a706f086",
   "metadata": {},
   "outputs": [],
   "source": [
    "#What is the difference between iterable and iterator\n",
    "#String is an iterable object (True or false)? True, but necessiraly has to be iterator\n",
    "#String is not an iterator"
   ]
  },
  {
   "cell_type": "code",
   "execution_count": 189,
   "id": "63134fb5",
   "metadata": {},
   "outputs": [],
   "source": [
    "# Difference between iterable and iterator?\n",
    "# if an object is holding a value in sort of an indexes and if you are able to access it one by one with the help of indexes\n",
    "# those kind of object is called as iterable by default. it is not called as iterator"
   ]
  },
  {
   "cell_type": "code",
   "execution_count": 190,
   "id": "f7c3c55c",
   "metadata": {},
   "outputs": [],
   "source": [
    "# for loop is something which is trying to create a object into an iterator and then giving an output one by one"
   ]
  },
  {
   "cell_type": "code",
   "execution_count": 204,
   "id": "69cf58e2",
   "metadata": {},
   "outputs": [],
   "source": [
    "b = iter(s)"
   ]
  },
  {
   "cell_type": "code",
   "execution_count": 205,
   "id": "532e028e",
   "metadata": {},
   "outputs": [
    {
     "data": {
      "text/plain": [
       "<str_iterator at 0x16cc8500490>"
      ]
     },
     "execution_count": 205,
     "metadata": {},
     "output_type": "execute_result"
    }
   ],
   "source": [
    "b"
   ]
  },
  {
   "cell_type": "code",
   "execution_count": 215,
   "id": "e7dc8ac0",
   "metadata": {},
   "outputs": [],
   "source": [
    "# How Does for loop work internally?\n",
    "\n",
    "\n",
    "# Firstly iter function helps us to convert if an object is an iterable object, into an iterator using the function iter()\n",
    "# then it uses a function called as next to iterate through single element\n",
    "# After it gets exhausted it gives an error (Stop Iteration)\n",
    "# Iterable = means an element which we can access in a sequential manner, although it doesnt mean that you will be able to access\n",
    "# When we will be able to convert the same element into iterator we will be able to access the same\n",
    "# Integer cannot be considered as iterable or iterator object"
   ]
  },
  {
   "cell_type": "code",
   "execution_count": 207,
   "id": "81a2a84d",
   "metadata": {},
   "outputs": [
    {
     "data": {
      "text/plain": [
       "'s'"
      ]
     },
     "execution_count": 207,
     "metadata": {},
     "output_type": "execute_result"
    }
   ],
   "source": [
    "next(b)"
   ]
  },
  {
   "cell_type": "code",
   "execution_count": 208,
   "id": "cbe8dcef",
   "metadata": {},
   "outputs": [
    {
     "data": {
      "text/plain": [
       "'u'"
      ]
     },
     "execution_count": 208,
     "metadata": {},
     "output_type": "execute_result"
    }
   ],
   "source": [
    "next(b)"
   ]
  },
  {
   "cell_type": "code",
   "execution_count": 209,
   "id": "8d475d07",
   "metadata": {},
   "outputs": [
    {
     "data": {
      "text/plain": [
       "'d'"
      ]
     },
     "execution_count": 209,
     "metadata": {},
     "output_type": "execute_result"
    }
   ],
   "source": [
    "next(b)"
   ]
  },
  {
   "cell_type": "code",
   "execution_count": 210,
   "id": "9204e597",
   "metadata": {},
   "outputs": [
    {
     "data": {
      "text/plain": [
       "'h'"
      ]
     },
     "execution_count": 210,
     "metadata": {},
     "output_type": "execute_result"
    }
   ],
   "source": [
    "next(b)"
   ]
  },
  {
   "cell_type": "code",
   "execution_count": 211,
   "id": "7d834f5f",
   "metadata": {},
   "outputs": [
    {
     "ename": "StopIteration",
     "evalue": "",
     "output_type": "error",
     "traceback": [
      "\u001b[1;31m---------------------------------------------------------------------------\u001b[0m",
      "\u001b[1;31mStopIteration\u001b[0m                             Traceback (most recent call last)",
      "\u001b[1;32m<ipython-input-211-adb3e17b0219>\u001b[0m in \u001b[0;36m<module>\u001b[1;34m\u001b[0m\n\u001b[1;32m----> 1\u001b[1;33m \u001b[0mnext\u001b[0m\u001b[1;33m(\u001b[0m\u001b[0mb\u001b[0m\u001b[1;33m)\u001b[0m\u001b[1;33m\u001b[0m\u001b[1;33m\u001b[0m\u001b[0m\n\u001b[0m",
      "\u001b[1;31mStopIteration\u001b[0m: "
     ]
    }
   ],
   "source": [
    "next(b)"
   ]
  },
  {
   "cell_type": "code",
   "execution_count": 214,
   "id": "3fa040b0",
   "metadata": {},
   "outputs": [
    {
     "name": "stdout",
     "output_type": "stream",
     "text": [
      "h\n",
      "a\n",
      "s\n",
      "d\n",
      "h\n",
      "a\n",
      "s\n",
      "h\n",
      "d\n"
     ]
    }
   ],
   "source": [
    "s = \"hasdhashd\"\n",
    "for i in s:\n",
    "    print(i)"
   ]
  },
  {
   "cell_type": "code",
   "execution_count": 216,
   "id": "d6185c47",
   "metadata": {},
   "outputs": [],
   "source": [
    "s = iter(s)"
   ]
  },
  {
   "cell_type": "code",
   "execution_count": 217,
   "id": "6b201ea3",
   "metadata": {},
   "outputs": [
    {
     "data": {
      "text/plain": [
       "'h'"
      ]
     },
     "execution_count": 217,
     "metadata": {},
     "output_type": "execute_result"
    }
   ],
   "source": [
    "next(s)"
   ]
  },
  {
   "cell_type": "code",
   "execution_count": 218,
   "id": "8170be29",
   "metadata": {},
   "outputs": [
    {
     "data": {
      "text/plain": [
       "'a'"
      ]
     },
     "execution_count": 218,
     "metadata": {},
     "output_type": "execute_result"
    }
   ],
   "source": [
    "next(s)"
   ]
  },
  {
   "cell_type": "code",
   "execution_count": 219,
   "id": "dfb0ea64",
   "metadata": {},
   "outputs": [
    {
     "data": {
      "text/plain": [
       "'s'"
      ]
     },
     "execution_count": 219,
     "metadata": {},
     "output_type": "execute_result"
    }
   ],
   "source": [
    "next(s)"
   ]
  },
  {
   "cell_type": "code",
   "execution_count": 220,
   "id": "df46b3bd",
   "metadata": {},
   "outputs": [
    {
     "data": {
      "text/plain": [
       "'d'"
      ]
     },
     "execution_count": 220,
     "metadata": {},
     "output_type": "execute_result"
    }
   ],
   "source": [
    "next(s)"
   ]
  },
  {
   "cell_type": "code",
   "execution_count": 221,
   "id": "e6bd730d",
   "metadata": {},
   "outputs": [
    {
     "data": {
      "text/plain": [
       "'h'"
      ]
     },
     "execution_count": 221,
     "metadata": {},
     "output_type": "execute_result"
    }
   ],
   "source": [
    "next(s)"
   ]
  },
  {
   "cell_type": "code",
   "execution_count": 222,
   "id": "0b7425dd",
   "metadata": {},
   "outputs": [
    {
     "data": {
      "text/plain": [
       "'a'"
      ]
     },
     "execution_count": 222,
     "metadata": {},
     "output_type": "execute_result"
    }
   ],
   "source": [
    "next(s)"
   ]
  },
  {
   "cell_type": "code",
   "execution_count": 223,
   "id": "961b978f",
   "metadata": {},
   "outputs": [
    {
     "data": {
      "text/plain": [
       "'s'"
      ]
     },
     "execution_count": 223,
     "metadata": {},
     "output_type": "execute_result"
    }
   ],
   "source": [
    "next(s)"
   ]
  },
  {
   "cell_type": "code",
   "execution_count": 224,
   "id": "ef77a75c",
   "metadata": {},
   "outputs": [
    {
     "data": {
      "text/plain": [
       "'h'"
      ]
     },
     "execution_count": 224,
     "metadata": {},
     "output_type": "execute_result"
    }
   ],
   "source": [
    "next(s)"
   ]
  },
  {
   "cell_type": "code",
   "execution_count": 225,
   "id": "da1bdaf5",
   "metadata": {},
   "outputs": [
    {
     "data": {
      "text/plain": [
       "'d'"
      ]
     },
     "execution_count": 225,
     "metadata": {},
     "output_type": "execute_result"
    }
   ],
   "source": [
    "next(s)"
   ]
  },
  {
   "cell_type": "code",
   "execution_count": 226,
   "id": "20dd3098",
   "metadata": {},
   "outputs": [
    {
     "ename": "StopIteration",
     "evalue": "",
     "output_type": "error",
     "traceback": [
      "\u001b[1;31m---------------------------------------------------------------------------\u001b[0m",
      "\u001b[1;31mStopIteration\u001b[0m                             Traceback (most recent call last)",
      "\u001b[1;32m<ipython-input-226-61c30b5fe1d5>\u001b[0m in \u001b[0;36m<module>\u001b[1;34m\u001b[0m\n\u001b[1;32m----> 1\u001b[1;33m \u001b[0mnext\u001b[0m\u001b[1;33m(\u001b[0m\u001b[0ms\u001b[0m\u001b[1;33m)\u001b[0m\u001b[1;33m\u001b[0m\u001b[1;33m\u001b[0m\u001b[0m\n\u001b[0m",
      "\u001b[1;31mStopIteration\u001b[0m: "
     ]
    }
   ],
   "source": [
    "#when it will exhaust itself it will give me a stop iteration\n",
    "next(s)"
   ]
  },
  {
   "cell_type": "code",
   "execution_count": 229,
   "id": "5e532b25",
   "metadata": {},
   "outputs": [],
   "source": [
    "#List is a iterable object\n",
    "l = [2,34,5,6,6,7]"
   ]
  },
  {
   "cell_type": "code",
   "execution_count": 230,
   "id": "a6910652",
   "metadata": {},
   "outputs": [
    {
     "ename": "TypeError",
     "evalue": "'list' object is not an iterator",
     "output_type": "error",
     "traceback": [
      "\u001b[1;31m---------------------------------------------------------------------------\u001b[0m",
      "\u001b[1;31mTypeError\u001b[0m                                 Traceback (most recent call last)",
      "\u001b[1;32m<ipython-input-230-cdc8a39da60d>\u001b[0m in \u001b[0;36m<module>\u001b[1;34m\u001b[0m\n\u001b[1;32m----> 1\u001b[1;33m \u001b[0mnext\u001b[0m\u001b[1;33m(\u001b[0m\u001b[0ml\u001b[0m\u001b[1;33m)\u001b[0m\u001b[1;33m\u001b[0m\u001b[1;33m\u001b[0m\u001b[0m\n\u001b[0m",
      "\u001b[1;31mTypeError\u001b[0m: 'list' object is not an iterator"
     ]
    }
   ],
   "source": [
    "next(l)"
   ]
  },
  {
   "cell_type": "code",
   "execution_count": 231,
   "id": "b0e0fda8",
   "metadata": {},
   "outputs": [],
   "source": [
    "b = iter(l)"
   ]
  },
  {
   "cell_type": "code",
   "execution_count": 232,
   "id": "5ac1359d",
   "metadata": {},
   "outputs": [
    {
     "data": {
      "text/plain": [
       "2"
      ]
     },
     "execution_count": 232,
     "metadata": {},
     "output_type": "execute_result"
    }
   ],
   "source": [
    "next(b)"
   ]
  },
  {
   "cell_type": "code",
   "execution_count": 233,
   "id": "bb34b853",
   "metadata": {},
   "outputs": [
    {
     "data": {
      "text/plain": [
       "34"
      ]
     },
     "execution_count": 233,
     "metadata": {},
     "output_type": "execute_result"
    }
   ],
   "source": [
    "next(b)"
   ]
  },
  {
   "cell_type": "code",
   "execution_count": 234,
   "id": "d08c7273",
   "metadata": {},
   "outputs": [
    {
     "data": {
      "text/plain": [
       "5"
      ]
     },
     "execution_count": 234,
     "metadata": {},
     "output_type": "execute_result"
    }
   ],
   "source": [
    "next(b)"
   ]
  },
  {
   "cell_type": "code",
   "execution_count": 235,
   "id": "db9173e9",
   "metadata": {},
   "outputs": [
    {
     "data": {
      "text/plain": [
       "6"
      ]
     },
     "execution_count": 235,
     "metadata": {},
     "output_type": "execute_result"
    }
   ],
   "source": [
    "next(b)"
   ]
  },
  {
   "cell_type": "code",
   "execution_count": 236,
   "id": "c6ad2753",
   "metadata": {},
   "outputs": [
    {
     "data": {
      "text/plain": [
       "6"
      ]
     },
     "execution_count": 236,
     "metadata": {},
     "output_type": "execute_result"
    }
   ],
   "source": [
    "next(b)"
   ]
  },
  {
   "cell_type": "code",
   "execution_count": 237,
   "id": "49587844",
   "metadata": {},
   "outputs": [
    {
     "ename": "SyntaxError",
     "evalue": "unexpected EOF while parsing (<ipython-input-237-88aef67197cf>, line 1)",
     "output_type": "error",
     "traceback": [
      "\u001b[1;36m  File \u001b[1;32m\"<ipython-input-237-88aef67197cf>\"\u001b[1;36m, line \u001b[1;32m1\u001b[0m\n\u001b[1;33m    next(b\u001b[0m\n\u001b[1;37m          ^\u001b[0m\n\u001b[1;31mSyntaxError\u001b[0m\u001b[1;31m:\u001b[0m unexpected EOF while parsing\n"
     ]
    }
   ],
   "source": [
    "next(b"
   ]
  },
  {
   "cell_type": "code",
   "execution_count": 238,
   "id": "f99c956a",
   "metadata": {},
   "outputs": [
    {
     "ename": "TypeError",
     "evalue": "'int' object is not iterable",
     "output_type": "error",
     "traceback": [
      "\u001b[1;31m---------------------------------------------------------------------------\u001b[0m",
      "\u001b[1;31mTypeError\u001b[0m                                 Traceback (most recent call last)",
      "\u001b[1;32m<ipython-input-238-e50867f8c07e>\u001b[0m in \u001b[0;36m<module>\u001b[1;34m\u001b[0m\n\u001b[1;32m----> 1\u001b[1;33m \u001b[0miter\u001b[0m\u001b[1;33m(\u001b[0m\u001b[1;36m45\u001b[0m\u001b[1;33m)\u001b[0m\u001b[1;33m\u001b[0m\u001b[1;33m\u001b[0m\u001b[0m\n\u001b[0m",
      "\u001b[1;31mTypeError\u001b[0m: 'int' object is not iterable"
     ]
    }
   ],
   "source": [
    "iter(45)"
   ]
  },
  {
   "cell_type": "code",
   "execution_count": 241,
   "id": "e638fd35",
   "metadata": {},
   "outputs": [],
   "source": [
    "# if something is not iterable then we wont be able to access \n",
    "# for example integer value\n",
    "# We cannot make int an iterable at all\n",
    "# indexing is not an iterable object"
   ]
  },
  {
   "cell_type": "code",
   "execution_count": 242,
   "id": "86bfb0d7",
   "metadata": {},
   "outputs": [],
   "source": [
    "# All iterables we can try to convert into  iterator = True\n",
    "# String, list, tuple, range is an iterable, we can convert this into an iterator"
   ]
  }
 ],
 "metadata": {
  "kernelspec": {
   "display_name": "Python 3",
   "language": "python",
   "name": "python3"
  },
  "language_info": {
   "codemirror_mode": {
    "name": "ipython",
    "version": 3
   },
   "file_extension": ".py",
   "mimetype": "text/x-python",
   "name": "python",
   "nbconvert_exporter": "python",
   "pygments_lexer": "ipython3",
   "version": "3.8.8"
  }
 },
 "nbformat": 4,
 "nbformat_minor": 5
}
