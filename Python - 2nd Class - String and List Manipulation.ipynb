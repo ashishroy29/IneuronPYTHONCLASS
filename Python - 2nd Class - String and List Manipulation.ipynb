{
 "cells": [
  {
   "cell_type": "code",
   "execution_count": 1,
   "id": "81b252e9",
   "metadata": {},
   "outputs": [],
   "source": [
    "s = 'Ashish'"
   ]
  },
  {
   "cell_type": "code",
   "execution_count": 2,
   "id": "84f27264",
   "metadata": {},
   "outputs": [
    {
     "data": {
      "text/plain": [
       "str"
      ]
     },
     "execution_count": 2,
     "metadata": {},
     "output_type": "execute_result"
    }
   ],
   "source": [
    "type(s)"
   ]
  },
  {
   "cell_type": "code",
   "execution_count": 6,
   "id": "a8d1cf54",
   "metadata": {},
   "outputs": [
    {
     "data": {
      "text/plain": [
       "'A'"
      ]
     },
     "execution_count": 6,
     "metadata": {},
     "output_type": "execute_result"
    }
   ],
   "source": [
    "#Access some character out of this string #Indexes (it starts from 0,1,2,3) etc\n",
    "s[0]"
   ]
  },
  {
   "cell_type": "code",
   "execution_count": 7,
   "id": "87f0764e",
   "metadata": {},
   "outputs": [
    {
     "data": {
      "text/plain": [
       "'s'"
      ]
     },
     "execution_count": 7,
     "metadata": {},
     "output_type": "execute_result"
    }
   ],
   "source": [
    "s[1]"
   ]
  },
  {
   "cell_type": "code",
   "execution_count": 8,
   "id": "a95f5ba2",
   "metadata": {},
   "outputs": [
    {
     "data": {
      "text/plain": [
       "'h'"
      ]
     },
     "execution_count": 8,
     "metadata": {},
     "output_type": "execute_result"
    }
   ],
   "source": [
    "s[2]"
   ]
  },
  {
   "cell_type": "code",
   "execution_count": 9,
   "id": "b584905f",
   "metadata": {},
   "outputs": [
    {
     "data": {
      "text/plain": [
       "'i'"
      ]
     },
     "execution_count": 9,
     "metadata": {},
     "output_type": "execute_result"
    }
   ],
   "source": [
    "s[3]"
   ]
  },
  {
   "cell_type": "code",
   "execution_count": 10,
   "id": "92b35d52",
   "metadata": {},
   "outputs": [
    {
     "data": {
      "text/plain": [
       "'h'"
      ]
     },
     "execution_count": 10,
     "metadata": {},
     "output_type": "execute_result"
    }
   ],
   "source": [
    "#There is also indexes which are created which is from backward direction\n",
    "s[-1]"
   ]
  },
  {
   "cell_type": "code",
   "execution_count": 11,
   "id": "c8b26820",
   "metadata": {},
   "outputs": [
    {
     "data": {
      "text/plain": [
       "'s'"
      ]
     },
     "execution_count": 11,
     "metadata": {},
     "output_type": "execute_result"
    }
   ],
   "source": [
    "s[-2]"
   ]
  },
  {
   "cell_type": "code",
   "execution_count": 15,
   "id": "2de18cfa",
   "metadata": {},
   "outputs": [
    {
     "data": {
      "text/plain": [
       "'A'"
      ]
     },
     "execution_count": 15,
     "metadata": {},
     "output_type": "execute_result"
    }
   ],
   "source": [
    "s[-6]"
   ]
  },
  {
   "cell_type": "code",
   "execution_count": 16,
   "id": "9c10246e",
   "metadata": {},
   "outputs": [],
   "source": [
    "a = 'My name is Ashish'"
   ]
  },
  {
   "cell_type": "code",
   "execution_count": 17,
   "id": "ae0225f6",
   "metadata": {},
   "outputs": [
    {
     "ename": "IndexError",
     "evalue": "string index out of range",
     "output_type": "error",
     "traceback": [
      "\u001b[1;31m---------------------------------------------------------------------------\u001b[0m",
      "\u001b[1;31mIndexError\u001b[0m                                Traceback (most recent call last)",
      "\u001b[1;32m<ipython-input-17-cd7724b6c85f>\u001b[0m in \u001b[0;36m<module>\u001b[1;34m\u001b[0m\n\u001b[1;32m----> 1\u001b[1;33m \u001b[0ma\u001b[0m\u001b[1;33m[\u001b[0m\u001b[1;36m100\u001b[0m\u001b[1;33m]\u001b[0m\u001b[1;33m\u001b[0m\u001b[1;33m\u001b[0m\u001b[0m\n\u001b[0m",
      "\u001b[1;31mIndexError\u001b[0m: string index out of range"
     ]
    }
   ],
   "source": [
    "a[100]"
   ]
  },
  {
   "cell_type": "code",
   "execution_count": 32,
   "id": "15e33730",
   "metadata": {},
   "outputs": [
    {
     "data": {
      "text/plain": [
       "'My name is'"
      ]
     },
     "execution_count": 32,
     "metadata": {},
     "output_type": "execute_result"
    }
   ],
   "source": [
    "a[0:10] #even space it considers indexing"
   ]
  },
  {
   "cell_type": "code",
   "execution_count": 33,
   "id": "ec6f1bcd",
   "metadata": {},
   "outputs": [],
   "source": [
    "b = \"ineuron\""
   ]
  },
  {
   "cell_type": "code",
   "execution_count": 35,
   "id": "76aff1ed",
   "metadata": {},
   "outputs": [
    {
     "data": {
      "text/plain": [
       "'ine'"
      ]
     },
     "execution_count": 35,
     "metadata": {},
     "output_type": "execute_result"
    }
   ],
   "source": [
    "b[0:3] #it always excludes upperbound"
   ]
  },
  {
   "cell_type": "code",
   "execution_count": 36,
   "id": "61db8808",
   "metadata": {},
   "outputs": [
    {
     "data": {
      "text/plain": [
       "'ineuron'"
      ]
     },
     "execution_count": 36,
     "metadata": {},
     "output_type": "execute_result"
    }
   ],
   "source": [
    "b[0:300]"
   ]
  },
  {
   "cell_type": "code",
   "execution_count": 37,
   "id": "c08cd222",
   "metadata": {},
   "outputs": [
    {
     "data": {
      "text/plain": [
       "'n'"
      ]
     },
     "execution_count": 37,
     "metadata": {},
     "output_type": "execute_result"
    }
   ],
   "source": [
    "#Reverse\n",
    "b[-1]"
   ]
  },
  {
   "cell_type": "code",
   "execution_count": 38,
   "id": "39d548e9",
   "metadata": {},
   "outputs": [
    {
     "ename": "IndexError",
     "evalue": "string index out of range",
     "output_type": "error",
     "traceback": [
      "\u001b[1;31m---------------------------------------------------------------------------\u001b[0m",
      "\u001b[1;31mIndexError\u001b[0m                                Traceback (most recent call last)",
      "\u001b[1;32m<ipython-input-38-b20bba380709>\u001b[0m in \u001b[0;36m<module>\u001b[1;34m\u001b[0m\n\u001b[1;32m----> 1\u001b[1;33m \u001b[0mb\u001b[0m\u001b[1;33m[\u001b[0m\u001b[1;33m-\u001b[0m\u001b[1;36m100\u001b[0m\u001b[1;33m]\u001b[0m\u001b[1;33m\u001b[0m\u001b[1;33m\u001b[0m\u001b[0m\n\u001b[0m",
      "\u001b[1;31mIndexError\u001b[0m: string index out of range"
     ]
    }
   ],
   "source": [
    "b[-100] #incase of individual indexes it gives error if the value is out of range"
   ]
  },
  {
   "cell_type": "code",
   "execution_count": 41,
   "id": "742834d5",
   "metadata": {},
   "outputs": [
    {
     "data": {
      "text/plain": [
       "''"
      ]
     },
     "execution_count": 41,
     "metadata": {},
     "output_type": "execute_result"
    }
   ],
   "source": [
    "b[-1:-4] #here it gives a blank string"
   ]
  },
  {
   "cell_type": "code",
   "execution_count": 42,
   "id": "3f32ac19",
   "metadata": {},
   "outputs": [],
   "source": [
    "a = \"kumar\""
   ]
  },
  {
   "cell_type": "code",
   "execution_count": 43,
   "id": "5967b736",
   "metadata": {},
   "outputs": [
    {
     "data": {
      "text/plain": [
       "'kum'"
      ]
     },
     "execution_count": 43,
     "metadata": {},
     "output_type": "execute_result"
    }
   ],
   "source": [
    "a[0:3]"
   ]
  },
  {
   "cell_type": "code",
   "execution_count": 44,
   "id": "7b11afa6",
   "metadata": {},
   "outputs": [
    {
     "data": {
      "text/plain": [
       "'kumar'"
      ]
     },
     "execution_count": 44,
     "metadata": {},
     "output_type": "execute_result"
    }
   ],
   "source": [
    "a[0:300]"
   ]
  },
  {
   "cell_type": "code",
   "execution_count": 46,
   "id": "bf2b07a9",
   "metadata": {},
   "outputs": [
    {
     "data": {
      "text/plain": [
       "'kumar'"
      ]
     },
     "execution_count": 46,
     "metadata": {},
     "output_type": "execute_result"
    }
   ],
   "source": [
    "a[0:300:1] #here as we can see that the jumpsize mentioned is 1 and also by default too its considered as 1"
   ]
  },
  {
   "cell_type": "code",
   "execution_count": 47,
   "id": "86ce5ed1",
   "metadata": {},
   "outputs": [
    {
     "data": {
      "text/plain": [
       "'kmr'"
      ]
     },
     "execution_count": 47,
     "metadata": {},
     "output_type": "execute_result"
    }
   ],
   "source": [
    "a[0:300:2] #here we are jumping 2 locations. from 0 it will jump 2nd location and then to 4th Location"
   ]
  },
  {
   "cell_type": "code",
   "execution_count": 49,
   "id": "13cb094e",
   "metadata": {},
   "outputs": [
    {
     "data": {
      "text/plain": [
       "'ka'"
      ]
     },
     "execution_count": 49,
     "metadata": {},
     "output_type": "execute_result"
    }
   ],
   "source": [
    "a[0:300:3] #here we are jumping 3 locations and from 0 it jumped to 3rd location and then as there was nothing after the 3rd jump it does not return any value to it."
   ]
  },
  {
   "cell_type": "code",
   "execution_count": 51,
   "id": "ff78d36d",
   "metadata": {},
   "outputs": [
    {
     "data": {
      "text/plain": [
       "''"
      ]
     },
     "execution_count": 51,
     "metadata": {},
     "output_type": "execute_result"
    }
   ],
   "source": [
    "a[0:100:-1] #it is going to give an empty string value (because there is a logic between this one)"
   ]
  },
  {
   "cell_type": "code",
   "execution_count": 55,
   "id": "445f6fe2",
   "metadata": {},
   "outputs": [],
   "source": [
    "# The reason behind this:\n",
    "# it only works in the direction which it ranges from\n",
    "# by default it is going to be positive 1\n",
    "# Take an example of Scale\n",
    "# If there is a confilct there wont be any dataset which is accessable at all"
   ]
  },
  {
   "cell_type": "code",
   "execution_count": 57,
   "id": "9e088ee6",
   "metadata": {},
   "outputs": [
    {
     "data": {
      "text/plain": [
       "'ram'"
      ]
     },
     "execution_count": 57,
     "metadata": {},
     "output_type": "execute_result"
    }
   ],
   "source": [
    "a[-1:-4:-1] #here we can see that there is no conflict and the when it is jumping it does not have any conflict"
   ]
  },
  {
   "cell_type": "code",
   "execution_count": 59,
   "id": "890cc09c",
   "metadata": {},
   "outputs": [
    {
     "data": {
      "text/plain": [
       "'k'"
      ]
     },
     "execution_count": 59,
     "metadata": {},
     "output_type": "execute_result"
    }
   ],
   "source": [
    "a[0:-10:-1] #starting from 0 and going till -10 and its in -1 jump. #why only k we are getting? - we are entering into negative direction it is only finding the last index so its giving only that index. "
   ]
  },
  {
   "cell_type": "code",
   "execution_count": 62,
   "id": "d5511760",
   "metadata": {},
   "outputs": [
    {
     "data": {
      "text/plain": [
       "'kumar'"
      ]
     },
     "execution_count": 62,
     "metadata": {},
     "output_type": "execute_result"
    }
   ],
   "source": [
    "a[::] #this is accessing whole string, where we have not provided,start, end and jump"
   ]
  },
  {
   "cell_type": "code",
   "execution_count": 64,
   "id": "c3c2f0ee",
   "metadata": {},
   "outputs": [
    {
     "data": {
      "text/plain": [
       "'kumar'"
      ]
     },
     "execution_count": 64,
     "metadata": {},
     "output_type": "execute_result"
    }
   ],
   "source": [
    "a[:8] #system by default considers the system as 0"
   ]
  },
  {
   "cell_type": "code",
   "execution_count": 66,
   "id": "61cee79c",
   "metadata": {},
   "outputs": [
    {
     "data": {
      "text/plain": [
       "'ar'"
      ]
     },
     "execution_count": 66,
     "metadata": {},
     "output_type": "execute_result"
    }
   ],
   "source": [
    "a[-2:] #how are we able to get the data? draw a scale, although it starts from -2 its moving towards the right side so its a positive direction"
   ]
  },
  {
   "cell_type": "code",
   "execution_count": 68,
   "id": "9065dfcd",
   "metadata": {},
   "outputs": [
    {
     "data": {
      "text/plain": [
       "'a'"
      ]
     },
     "execution_count": 68,
     "metadata": {},
     "output_type": "execute_result"
    }
   ],
   "source": [
    "a[-2:-1] #This is called as string traversal operations or we are trying to access the dataset (just remember starting, ending and Jump)"
   ]
  },
  {
   "cell_type": "code",
   "execution_count": 69,
   "id": "5278efd2",
   "metadata": {},
   "outputs": [
    {
     "data": {
      "text/plain": [
       "'ramuk'"
      ]
     },
     "execution_count": 69,
     "metadata": {},
     "output_type": "execute_result"
    }
   ],
   "source": [
    "a[::-1] #this is printing reverse of the string (here we have not defined the starting point of the string, we have not defined the end point, we have just defined a direction)"
   ]
  },
  {
   "cell_type": "code",
   "execution_count": 72,
   "id": "9587e1f3",
   "metadata": {},
   "outputs": [
    {
     "data": {
      "text/plain": [
       "'ramuk'"
      ]
     },
     "execution_count": 72,
     "metadata": {},
     "output_type": "execute_result"
    }
   ],
   "source": [
    "a[-1::-1] #same but in reverse direction"
   ]
  },
  {
   "cell_type": "code",
   "execution_count": 73,
   "id": "d7cae251",
   "metadata": {},
   "outputs": [],
   "source": [
    "a = 'I am  working with Teleperformance'"
   ]
  },
  {
   "cell_type": "code",
   "execution_count": 75,
   "id": "f0d91db3",
   "metadata": {},
   "outputs": [
    {
     "data": {
      "text/plain": [
       "'ecnamrofrepeleT htiw gnikrow  ma I'"
      ]
     },
     "execution_count": 75,
     "metadata": {},
     "output_type": "execute_result"
    }
   ],
   "source": [
    "a[::-1] # this is jumping into a negative direction (basic Indexing operation)"
   ]
  },
  {
   "cell_type": "code",
   "execution_count": 78,
   "id": "492a00b2",
   "metadata": {},
   "outputs": [
    {
     "data": {
      "text/plain": [
       "''"
      ]
     },
     "execution_count": 78,
     "metadata": {},
     "output_type": "execute_result"
    }
   ],
   "source": [
    "a[-5:5] #there is a conflict"
   ]
  },
  {
   "cell_type": "code",
   "execution_count": 80,
   "id": "dd988fe0",
   "metadata": {},
   "outputs": [
    {
     "data": {
      "text/plain": [
       "'mrofrepeleT htiw gnikrow'"
      ]
     },
     "execution_count": 80,
     "metadata": {},
     "output_type": "execute_result"
    }
   ],
   "source": [
    "a[-5:5:-1] #so this would be the opposite direction of jump, so this would work"
   ]
  },
  {
   "cell_type": "code",
   "execution_count": 82,
   "id": "0342b8e3",
   "metadata": {},
   "outputs": [
    {
     "data": {
      "text/plain": [
       "'cnamrofr'"
      ]
     },
     "execution_count": 82,
     "metadata": {},
     "output_type": "execute_result"
    }
   ],
   "source": [
    "a[-2:-10:-1] #String Slicing Operations"
   ]
  },
  {
   "cell_type": "code",
   "execution_count": 84,
   "id": "d1f36e62",
   "metadata": {},
   "outputs": [
    {
     "data": {
      "text/plain": [
       "'Imwkgi leoae'"
      ]
     },
     "execution_count": 84,
     "metadata": {},
     "output_type": "execute_result"
    }
   ],
   "source": [
    "a[0:100:3] #excluding an upperbound"
   ]
  },
  {
   "cell_type": "code",
   "execution_count": 86,
   "id": "6c927669",
   "metadata": {},
   "outputs": [
    {
     "data": {
      "text/plain": [
       "'AshishAshishAshish'"
      ]
     },
     "execution_count": 86,
     "metadata": {},
     "output_type": "execute_result"
    }
   ],
   "source": [
    "\"Ashish\"*3 #Repeat the string as many times as possible"
   ]
  },
  {
   "cell_type": "code",
   "execution_count": 88,
   "id": "02f05298",
   "metadata": {},
   "outputs": [
    {
     "data": {
      "text/plain": [
       "'AshishRoy'"
      ]
     },
     "execution_count": 88,
     "metadata": {},
     "output_type": "execute_result"
    }
   ],
   "source": [
    "\"Ashish\" + \"Roy\" #this is concatination parameter"
   ]
  },
  {
   "cell_type": "code",
   "execution_count": 89,
   "id": "f691c6b8",
   "metadata": {},
   "outputs": [
    {
     "data": {
      "text/plain": [
       "'I am  working with Teleperformance'"
      ]
     },
     "execution_count": 89,
     "metadata": {},
     "output_type": "execute_result"
    }
   ],
   "source": [
    "a"
   ]
  },
  {
   "cell_type": "code",
   "execution_count": 91,
   "id": "2f649114",
   "metadata": {},
   "outputs": [
    {
     "data": {
      "text/plain": [
       "34"
      ]
     },
     "execution_count": 91,
     "metadata": {},
     "output_type": "execute_result"
    }
   ],
   "source": [
    "len(a) #checking the length of the string including the space and tab which is provided"
   ]
  },
  {
   "cell_type": "code",
   "execution_count": 93,
   "id": "dd05c515",
   "metadata": {},
   "outputs": [
    {
     "ename": "TypeError",
     "evalue": "can't multiply sequence by non-int of type 'str'",
     "output_type": "error",
     "traceback": [
      "\u001b[1;31m---------------------------------------------------------------------------\u001b[0m",
      "\u001b[1;31mTypeError\u001b[0m                                 Traceback (most recent call last)",
      "\u001b[1;32m<ipython-input-93-a45fc2842e2d>\u001b[0m in \u001b[0;36m<module>\u001b[1;34m\u001b[0m\n\u001b[1;32m----> 1\u001b[1;33m \u001b[1;34m\"Roy\"\u001b[0m \u001b[1;33m*\u001b[0m \u001b[1;34m'Roy'\u001b[0m \u001b[1;31m#this wont work\u001b[0m\u001b[1;33m\u001b[0m\u001b[1;33m\u001b[0m\u001b[0m\n\u001b[0m",
      "\u001b[1;31mTypeError\u001b[0m: can't multiply sequence by non-int of type 'str'"
     ]
    }
   ],
   "source": [
    "\"Roy\" * 'Roy' #this wont work"
   ]
  },
  {
   "cell_type": "code",
   "execution_count": 94,
   "id": "dbaa33e4",
   "metadata": {},
   "outputs": [
    {
     "ename": "TypeError",
     "evalue": "unsupported operand type(s) for -: 'str' and 'str'",
     "output_type": "error",
     "traceback": [
      "\u001b[1;31m---------------------------------------------------------------------------\u001b[0m",
      "\u001b[1;31mTypeError\u001b[0m                                 Traceback (most recent call last)",
      "\u001b[1;32m<ipython-input-94-313bb22668a6>\u001b[0m in \u001b[0;36m<module>\u001b[1;34m\u001b[0m\n\u001b[1;32m----> 1\u001b[1;33m \u001b[1;34m\"Roy\"\u001b[0m \u001b[1;33m-\u001b[0m \u001b[1;34m'Roy'\u001b[0m\u001b[1;33m\u001b[0m\u001b[1;33m\u001b[0m\u001b[0m\n\u001b[0m",
      "\u001b[1;31mTypeError\u001b[0m: unsupported operand type(s) for -: 'str' and 'str'"
     ]
    }
   ],
   "source": [
    "\"Roy\" - 'Roy'"
   ]
  },
  {
   "cell_type": "code",
   "execution_count": 95,
   "id": "67a3ccf2",
   "metadata": {},
   "outputs": [
    {
     "data": {
      "text/plain": [
       "'ashashashash'"
      ]
     },
     "execution_count": 95,
     "metadata": {},
     "output_type": "execute_result"
    }
   ],
   "source": [
    "\"ash\" * 4"
   ]
  },
  {
   "cell_type": "code",
   "execution_count": 97,
   "id": "bc0dac7a",
   "metadata": {},
   "outputs": [
    {
     "data": {
      "text/plain": [
       "'I am  working with Teleperformance'"
      ]
     },
     "execution_count": 97,
     "metadata": {},
     "output_type": "execute_result"
    }
   ],
   "source": [
    "a"
   ]
  },
  {
   "cell_type": "code",
   "execution_count": 99,
   "id": "b3f1cf23",
   "metadata": {},
   "outputs": [
    {
     "data": {
      "text/plain": [
       "2"
      ]
     },
     "execution_count": 99,
     "metadata": {},
     "output_type": "execute_result"
    }
   ],
   "source": [
    "a.find('a') #it gives indexes"
   ]
  },
  {
   "cell_type": "code",
   "execution_count": 103,
   "id": "91002e96",
   "metadata": {},
   "outputs": [
    {
     "data": {
      "text/plain": [
       "0"
      ]
     },
     "execution_count": 103,
     "metadata": {},
     "output_type": "execute_result"
    }
   ],
   "source": [
    "a.find('I') #it just gives the first occourances in the forward direction"
   ]
  },
  {
   "cell_type": "code",
   "execution_count": 105,
   "id": "ccdb8857",
   "metadata": {},
   "outputs": [
    {
     "data": {
      "text/plain": [
       "-1"
      ]
     },
     "execution_count": 105,
     "metadata": {},
     "output_type": "execute_result"
    }
   ],
   "source": [
    "a.find('Ia') #if its not available it gives -1 (bascially referes to things which says whatever you are trying to find its not avalilable)"
   ]
  },
  {
   "cell_type": "code",
   "execution_count": 106,
   "id": "a3a14a6e",
   "metadata": {},
   "outputs": [
    {
     "data": {
      "text/plain": [
       "10"
      ]
     },
     "execution_count": 106,
     "metadata": {},
     "output_type": "execute_result"
    }
   ],
   "source": [
    "a.find('in')"
   ]
  },
  {
   "cell_type": "code",
   "execution_count": 107,
   "id": "b64689bf",
   "metadata": {},
   "outputs": [
    {
     "data": {
      "text/plain": [
       "19"
      ]
     },
     "execution_count": 107,
     "metadata": {},
     "output_type": "execute_result"
    }
   ],
   "source": [
    "a.find('Tele')"
   ]
  },
  {
   "cell_type": "code",
   "execution_count": 110,
   "id": "37481c17",
   "metadata": {},
   "outputs": [
    {
     "data": {
      "text/plain": [
       "2"
      ]
     },
     "execution_count": 110,
     "metadata": {},
     "output_type": "execute_result"
    }
   ],
   "source": [
    "a.count('i') #here can check howmany times a string has appeared(it is case sensitive)"
   ]
  },
  {
   "cell_type": "code",
   "execution_count": 112,
   "id": "ff5e650e",
   "metadata": {},
   "outputs": [
    {
     "data": {
      "text/plain": [
       "0"
      ]
     },
     "execution_count": 112,
     "metadata": {},
     "output_type": "execute_result"
    }
   ],
   "source": [
    "a.count('x') #there is no occurances that are available here in the string so it does not display anything"
   ]
  },
  {
   "cell_type": "code",
   "execution_count": 113,
   "id": "626b306c",
   "metadata": {},
   "outputs": [
    {
     "data": {
      "text/plain": [
       "'I am  working with Teleperformance'"
      ]
     },
     "execution_count": 113,
     "metadata": {},
     "output_type": "execute_result"
    }
   ],
   "source": [
    "a"
   ]
  },
  {
   "cell_type": "code",
   "execution_count": 114,
   "id": "dfdb323c",
   "metadata": {},
   "outputs": [
    {
     "data": {
      "text/plain": [
       "['I', 'am', 'working', 'with', 'Teleperformance']"
      ]
     },
     "execution_count": 114,
     "metadata": {},
     "output_type": "execute_result"
    }
   ],
   "source": [
    "a.split() #it converts it into List"
   ]
  },
  {
   "cell_type": "code",
   "execution_count": 115,
   "id": "7c48e3b3",
   "metadata": {},
   "outputs": [
    {
     "name": "stdout",
     "output_type": "stream",
     "text": [
      "['I', 'am', 'working', 'with', 'Teleperformance']\n"
     ]
    }
   ],
   "source": [
    "print(a.split())  #by default white space is the whitespace"
   ]
  },
  {
   "cell_type": "code",
   "execution_count": 116,
   "id": "44b4d9ef",
   "metadata": {},
   "outputs": [
    {
     "data": {
      "text/plain": [
       "list"
      ]
     },
     "execution_count": 116,
     "metadata": {},
     "output_type": "execute_result"
    }
   ],
   "source": [
    "type(a.split())"
   ]
  },
  {
   "cell_type": "code",
   "execution_count": 117,
   "id": "9a845d6a",
   "metadata": {},
   "outputs": [],
   "source": [
    "z = a.split()"
   ]
  },
  {
   "cell_type": "code",
   "execution_count": 118,
   "id": "68d7b738",
   "metadata": {},
   "outputs": [
    {
     "data": {
      "text/plain": [
       "'I'"
      ]
     },
     "execution_count": 118,
     "metadata": {},
     "output_type": "execute_result"
    }
   ],
   "source": [
    "z[0]"
   ]
  },
  {
   "cell_type": "code",
   "execution_count": 119,
   "id": "ceb76b9d",
   "metadata": {},
   "outputs": [
    {
     "data": {
      "text/plain": [
       "['I', 'am']"
      ]
     },
     "execution_count": 119,
     "metadata": {},
     "output_type": "execute_result"
    }
   ],
   "source": [
    "z[0:2]"
   ]
  },
  {
   "cell_type": "code",
   "execution_count": 120,
   "id": "c1d312e0",
   "metadata": {},
   "outputs": [
    {
     "data": {
      "text/plain": [
       "['I', 'working', 'Teleperformance']"
      ]
     },
     "execution_count": 120,
     "metadata": {},
     "output_type": "execute_result"
    }
   ],
   "source": [
    "z[0::2]"
   ]
  },
  {
   "cell_type": "code",
   "execution_count": 121,
   "id": "b3e8b2b6",
   "metadata": {},
   "outputs": [
    {
     "data": {
      "text/plain": [
       "['I', 'working', 'Teleperformance']"
      ]
     },
     "execution_count": 121,
     "metadata": {},
     "output_type": "execute_result"
    }
   ],
   "source": [
    "z[0:5:2]"
   ]
  },
  {
   "cell_type": "code",
   "execution_count": 123,
   "id": "a7a4b02e",
   "metadata": {},
   "outputs": [
    {
     "data": {
      "text/plain": [
       "['I am  ', 'orking ', 'ith Teleperformance']"
      ]
     },
     "execution_count": 123,
     "metadata": {},
     "output_type": "execute_result"
    }
   ],
   "source": [
    "a.split('w') #it wont consider split delimeter"
   ]
  },
  {
   "cell_type": "code",
   "execution_count": 124,
   "id": "80fe8542",
   "metadata": {},
   "outputs": [
    {
     "data": {
      "text/plain": [
       "['I am  ', 'rking with Teleperformance']"
      ]
     },
     "execution_count": 124,
     "metadata": {},
     "output_type": "execute_result"
    }
   ],
   "source": [
    "a.split('wo')"
   ]
  },
  {
   "cell_type": "code",
   "execution_count": 125,
   "id": "bf4b23b2",
   "metadata": {},
   "outputs": [
    {
     "data": {
      "text/plain": [
       "'I AM  WORKING WITH TELEPERFORMANCE'"
      ]
     },
     "execution_count": 125,
     "metadata": {},
     "output_type": "execute_result"
    }
   ],
   "source": [
    "a.upper() #converting everyting into uppercase"
   ]
  },
  {
   "cell_type": "code",
   "execution_count": 126,
   "id": "3d7ff337",
   "metadata": {},
   "outputs": [],
   "source": [
    "s = 'aShi'"
   ]
  },
  {
   "cell_type": "code",
   "execution_count": 128,
   "id": "cec8fd10",
   "metadata": {},
   "outputs": [
    {
     "data": {
      "text/plain": [
       "'AsHI'"
      ]
     },
     "execution_count": 128,
     "metadata": {},
     "output_type": "execute_result"
    }
   ],
   "source": [
    "s.swapcase() #it will try to convert uppercase into lowercase and lowercase into uppercase"
   ]
  },
  {
   "cell_type": "code",
   "execution_count": 130,
   "id": "66f27cd7",
   "metadata": {},
   "outputs": [
    {
     "data": {
      "text/plain": [
       "'Ashi'"
      ]
     },
     "execution_count": 130,
     "metadata": {},
     "output_type": "execute_result"
    }
   ],
   "source": [
    "s.title() #Created a very first as upper case and everthing as a lowecase"
   ]
  },
  {
   "cell_type": "code",
   "execution_count": 132,
   "id": "132ff6ce",
   "metadata": {},
   "outputs": [
    {
     "data": {
      "text/plain": [
       "'Ashi'"
      ]
     },
     "execution_count": 132,
     "metadata": {},
     "output_type": "execute_result"
    }
   ],
   "source": [
    "s.capitalize() #Title and capitalize gives almost same answer"
   ]
  },
  {
   "cell_type": "code",
   "execution_count": 133,
   "id": "d5c105e5",
   "metadata": {},
   "outputs": [],
   "source": [
    "b = 'ashi'\n",
    "c = 'roy'"
   ]
  },
  {
   "cell_type": "code",
   "execution_count": 134,
   "id": "4d848ac3",
   "metadata": {},
   "outputs": [
    {
     "data": {
      "text/plain": [
       "'rashioashiy'"
      ]
     },
     "execution_count": 134,
     "metadata": {},
     "output_type": "execute_result"
    }
   ],
   "source": [
    "b.join(c)"
   ]
  },
  {
   "cell_type": "code",
   "execution_count": 137,
   "id": "934ef35b",
   "metadata": {},
   "outputs": [
    {
     "data": {
      "text/plain": [
       "'a s h i'"
      ]
     },
     "execution_count": 137,
     "metadata": {},
     "output_type": "execute_result"
    }
   ],
   "source": [
    "\" \".join('ashi') # After everycharacter it is joining space"
   ]
  },
  {
   "cell_type": "code",
   "execution_count": 138,
   "id": "67afca7f",
   "metadata": {},
   "outputs": [],
   "source": [
    "#Join usually join something after each and every character"
   ]
  },
  {
   "cell_type": "code",
   "execution_count": 139,
   "id": "d13d3ffb",
   "metadata": {},
   "outputs": [
    {
     "data": {
      "text/plain": [
       "<reversed at 0x285a385be80>"
      ]
     },
     "execution_count": 139,
     "metadata": {},
     "output_type": "execute_result"
    }
   ],
   "source": [
    "reversed(\"ashi\")"
   ]
  },
  {
   "cell_type": "code",
   "execution_count": 141,
   "id": "5cc3a3cb",
   "metadata": {},
   "outputs": [
    {
     "name": "stdout",
     "output_type": "stream",
     "text": [
      "a\n",
      "s\n",
      "h\n",
      "i\n"
     ]
    }
   ],
   "source": [
    "for i in \"ashi\":\n",
    "    print(i)"
   ]
  },
  {
   "cell_type": "code",
   "execution_count": 143,
   "id": "bb776a37",
   "metadata": {},
   "outputs": [
    {
     "name": "stdout",
     "output_type": "stream",
     "text": [
      "i\n",
      "h\n",
      "s\n",
      "a\n"
     ]
    }
   ],
   "source": [
    "for i in reversed(\"ashi\"):\n",
    "    print(i) # we are trying to understand in reversed way"
   ]
  },
  {
   "cell_type": "code",
   "execution_count": 155,
   "id": "e8229ce6",
   "metadata": {},
   "outputs": [
    {
     "data": {
      "text/plain": [
       "'ihsa'"
      ]
     },
     "execution_count": 155,
     "metadata": {},
     "output_type": "execute_result"
    }
   ],
   "source": [
    "a = 'ashi'\n",
    "a[::-1]\n",
    "#same thing can be acheived by"
   ]
  },
  {
   "cell_type": "code",
   "execution_count": 156,
   "id": "b0a15e34",
   "metadata": {},
   "outputs": [],
   "source": [
    "a = ' ashi '"
   ]
  },
  {
   "cell_type": "code",
   "execution_count": 157,
   "id": "da70a120",
   "metadata": {},
   "outputs": [
    {
     "data": {
      "text/plain": [
       "' ashi'"
      ]
     },
     "execution_count": 157,
     "metadata": {},
     "output_type": "execute_result"
    }
   ],
   "source": [
    "a.rstrip()"
   ]
  },
  {
   "cell_type": "code",
   "execution_count": 158,
   "id": "497e5d9f",
   "metadata": {},
   "outputs": [
    {
     "data": {
      "text/plain": [
       "'ashi '"
      ]
     },
     "execution_count": 158,
     "metadata": {},
     "output_type": "execute_result"
    }
   ],
   "source": [
    "a.lstrip()"
   ]
  },
  {
   "cell_type": "code",
   "execution_count": 159,
   "id": "5ab931d8",
   "metadata": {},
   "outputs": [
    {
     "data": {
      "text/plain": [
       "'ashi'"
      ]
     },
     "execution_count": 159,
     "metadata": {},
     "output_type": "execute_result"
    }
   ],
   "source": [
    "a.strip()"
   ]
  },
  {
   "cell_type": "code",
   "execution_count": 162,
   "id": "99356cb2",
   "metadata": {},
   "outputs": [
    {
     "data": {
      "text/plain": [
       "' zzghahashi '"
      ]
     },
     "execution_count": 162,
     "metadata": {},
     "output_type": "execute_result"
    }
   ],
   "source": [
    "a.replace('a','zzghaha')"
   ]
  },
  {
   "cell_type": "code",
   "execution_count": 163,
   "id": "20910c69",
   "metadata": {},
   "outputs": [],
   "source": [
    "z = 'acv'"
   ]
  },
  {
   "cell_type": "code",
   "execution_count": 165,
   "id": "fb7280b5",
   "metadata": {},
   "outputs": [
    {
     "data": {
      "text/plain": [
       "'sjsjscv'"
      ]
     },
     "execution_count": 165,
     "metadata": {},
     "output_type": "execute_result"
    }
   ],
   "source": [
    "z.replace('a', 'sjsjs')"
   ]
  },
  {
   "cell_type": "code",
   "execution_count": 168,
   "id": "f220a7c3",
   "metadata": {},
   "outputs": [
    {
     "data": {
      "text/plain": [
       "'ashi    roy'"
      ]
     },
     "execution_count": 168,
     "metadata": {},
     "output_type": "execute_result"
    }
   ],
   "source": [
    "'ashi\\troy'.expandtabs() #1 tab is 3 space"
   ]
  },
  {
   "cell_type": "code",
   "execution_count": 169,
   "id": "e03c10d2",
   "metadata": {},
   "outputs": [],
   "source": [
    "s = 'ashi'"
   ]
  },
  {
   "cell_type": "code",
   "execution_count": 171,
   "id": "05e6f1b2",
   "metadata": {},
   "outputs": [
    {
     "data": {
      "text/plain": [
       "'ttttttttttttttttttashitttttttttttttttttt'"
      ]
     },
     "execution_count": 171,
     "metadata": {},
     "output_type": "execute_result"
    }
   ],
   "source": [
    "s.center(40,'t') #it reservers 40 spaces and it fills up everything using fillers"
   ]
  },
  {
   "cell_type": "code",
   "execution_count": 174,
   "id": "feb4d542",
   "metadata": {},
   "outputs": [
    {
     "data": {
      "text/plain": [
       "'$$$$$$$$$$$$$$$$$$ashi$$$$$$$$$$$$$$$$$$'"
      ]
     },
     "execution_count": 174,
     "metadata": {},
     "output_type": "execute_result"
    }
   ],
   "source": [
    "s.center(40,'$')"
   ]
  },
  {
   "cell_type": "code",
   "execution_count": 176,
   "id": "2c1fcc4a",
   "metadata": {},
   "outputs": [
    {
     "data": {
      "text/plain": [
       "'Indians are the best'"
      ]
     },
     "execution_count": 176,
     "metadata": {},
     "output_type": "execute_result"
    }
   ],
   "source": [
    "s = \"             Indians are the best\" #this helps in removing the white spaces\n",
    "s.strip()"
   ]
  },
  {
   "cell_type": "code",
   "execution_count": 177,
   "id": "c07d48c5",
   "metadata": {},
   "outputs": [
    {
     "data": {
      "text/plain": [
       "['Indians', 'are', 'the', 'best']"
      ]
     },
     "execution_count": 177,
     "metadata": {},
     "output_type": "execute_result"
    }
   ],
   "source": [
    "s.split()"
   ]
  },
  {
   "cell_type": "code",
   "execution_count": 180,
   "id": "98ecf823",
   "metadata": {},
   "outputs": [
    {
     "data": {
      "text/plain": [
       "'Indians are the best'"
      ]
     },
     "execution_count": 180,
     "metadata": {},
     "output_type": "execute_result"
    }
   ],
   "source": [
    "s.strip()"
   ]
  },
  {
   "cell_type": "code",
   "execution_count": 181,
   "id": "f46dba97",
   "metadata": {},
   "outputs": [],
   "source": [
    "a = 'ashi'"
   ]
  },
  {
   "cell_type": "code",
   "execution_count": 183,
   "id": "1545dbc0",
   "metadata": {},
   "outputs": [
    {
     "data": {
      "text/plain": [
       "False"
      ]
     },
     "execution_count": 183,
     "metadata": {},
     "output_type": "execute_result"
    }
   ],
   "source": [
    "#whatever the condition starts with is, it generally checks if it satisfys the condition or not\n",
    "a.isupper()"
   ]
  },
  {
   "cell_type": "code",
   "execution_count": 185,
   "id": "71b1c43d",
   "metadata": {},
   "outputs": [
    {
     "data": {
      "text/plain": [
       "True"
      ]
     },
     "execution_count": 185,
     "metadata": {},
     "output_type": "execute_result"
    }
   ],
   "source": [
    "a.islower()"
   ]
  },
  {
   "cell_type": "code",
   "execution_count": 186,
   "id": "36bebf8d",
   "metadata": {},
   "outputs": [],
   "source": [
    "a = 'Sudh'"
   ]
  },
  {
   "cell_type": "code",
   "execution_count": 187,
   "id": "236a0bda",
   "metadata": {},
   "outputs": [
    {
     "data": {
      "text/plain": [
       "False"
      ]
     },
     "execution_count": 187,
     "metadata": {},
     "output_type": "execute_result"
    }
   ],
   "source": [
    "a.isupper()"
   ]
  },
  {
   "cell_type": "code",
   "execution_count": 188,
   "id": "10ca8ca3",
   "metadata": {},
   "outputs": [
    {
     "data": {
      "text/plain": [
       "False"
      ]
     },
     "execution_count": 188,
     "metadata": {},
     "output_type": "execute_result"
    }
   ],
   "source": [
    "a.islower()"
   ]
  },
  {
   "cell_type": "code",
   "execution_count": 190,
   "id": "2c35193e",
   "metadata": {},
   "outputs": [],
   "source": [
    "a = 'ASHI'"
   ]
  },
  {
   "cell_type": "code",
   "execution_count": 191,
   "id": "894ff818",
   "metadata": {},
   "outputs": [
    {
     "data": {
      "text/plain": [
       "False"
      ]
     },
     "execution_count": 191,
     "metadata": {},
     "output_type": "execute_result"
    }
   ],
   "source": [
    "a.islower()"
   ]
  },
  {
   "cell_type": "code",
   "execution_count": 192,
   "id": "6c1d302b",
   "metadata": {},
   "outputs": [
    {
     "data": {
      "text/plain": [
       "True"
      ]
     },
     "execution_count": 192,
     "metadata": {},
     "output_type": "execute_result"
    }
   ],
   "source": [
    "a.isupper()"
   ]
  },
  {
   "cell_type": "code",
   "execution_count": 193,
   "id": "ff2f9cc8",
   "metadata": {},
   "outputs": [
    {
     "data": {
      "text/plain": [
       "False"
      ]
     },
     "execution_count": 193,
     "metadata": {},
     "output_type": "execute_result"
    }
   ],
   "source": [
    "a.isspace()"
   ]
  },
  {
   "cell_type": "code",
   "execution_count": 194,
   "id": "6db7a8c2",
   "metadata": {},
   "outputs": [],
   "source": [
    "a = \"      ashi\""
   ]
  },
  {
   "cell_type": "code",
   "execution_count": 198,
   "id": "54cd75a4",
   "metadata": {},
   "outputs": [
    {
     "data": {
      "text/plain": [
       "True"
      ]
     },
     "execution_count": 198,
     "metadata": {},
     "output_type": "execute_result"
    }
   ],
   "source": [
    "a.isspace() # It tries to check if there is a space or not"
   ]
  },
  {
   "cell_type": "code",
   "execution_count": 196,
   "id": "ca695910",
   "metadata": {},
   "outputs": [],
   "source": [
    "a = \"    \""
   ]
  },
  {
   "cell_type": "code",
   "execution_count": 197,
   "id": "95c5f07c",
   "metadata": {},
   "outputs": [
    {
     "data": {
      "text/plain": [
       "True"
      ]
     },
     "execution_count": 197,
     "metadata": {},
     "output_type": "execute_result"
    }
   ],
   "source": [
    "a.isspace()"
   ]
  },
  {
   "cell_type": "code",
   "execution_count": 200,
   "id": "11a9f385",
   "metadata": {},
   "outputs": [
    {
     "data": {
      "text/plain": [
       "False"
      ]
     },
     "execution_count": 200,
     "metadata": {},
     "output_type": "execute_result"
    }
   ],
   "source": [
    "a.isdigit() #It tries to check if the string is a digit or not"
   ]
  },
  {
   "cell_type": "code",
   "execution_count": 201,
   "id": "261f4d76",
   "metadata": {},
   "outputs": [],
   "source": [
    "a = 'assd12323'"
   ]
  },
  {
   "cell_type": "code",
   "execution_count": 202,
   "id": "d6fd5ff3",
   "metadata": {},
   "outputs": [
    {
     "data": {
      "text/plain": [
       "False"
      ]
     },
     "execution_count": 202,
     "metadata": {},
     "output_type": "execute_result"
    }
   ],
   "source": [
    "a.isdigit()"
   ]
  },
  {
   "cell_type": "code",
   "execution_count": 203,
   "id": "7121babd",
   "metadata": {},
   "outputs": [],
   "source": [
    "a = '12345'"
   ]
  },
  {
   "cell_type": "code",
   "execution_count": 205,
   "id": "8740f927",
   "metadata": {},
   "outputs": [
    {
     "data": {
      "text/plain": [
       "True"
      ]
     },
     "execution_count": 205,
     "metadata": {},
     "output_type": "execute_result"
    }
   ],
   "source": [
    "a.isdigit() #it becomes true when the condition is true"
   ]
  },
  {
   "cell_type": "code",
   "execution_count": 206,
   "id": "327db9b2",
   "metadata": {},
   "outputs": [],
   "source": [
    "s = 'sudh'"
   ]
  },
  {
   "cell_type": "code",
   "execution_count": 208,
   "id": "3be1b57a",
   "metadata": {},
   "outputs": [
    {
     "data": {
      "text/plain": [
       "True"
      ]
     },
     "execution_count": 208,
     "metadata": {},
     "output_type": "execute_result"
    }
   ],
   "source": [
    "s.endswith('h')"
   ]
  },
  {
   "cell_type": "code",
   "execution_count": 209,
   "id": "ede232f5",
   "metadata": {},
   "outputs": [
    {
     "data": {
      "text/plain": [
       "False"
      ]
     },
     "execution_count": 209,
     "metadata": {},
     "output_type": "execute_result"
    }
   ],
   "source": [
    "s.endswith('x')"
   ]
  },
  {
   "cell_type": "code",
   "execution_count": 210,
   "id": "a66a7887",
   "metadata": {},
   "outputs": [
    {
     "data": {
      "text/plain": [
       "False"
      ]
     },
     "execution_count": 210,
     "metadata": {},
     "output_type": "execute_result"
    }
   ],
   "source": [
    "s.startswith('t')"
   ]
  },
  {
   "cell_type": "code",
   "execution_count": 211,
   "id": "5dabb63b",
   "metadata": {},
   "outputs": [
    {
     "data": {
      "text/plain": [
       "True"
      ]
     },
     "execution_count": 211,
     "metadata": {},
     "output_type": "execute_result"
    }
   ],
   "source": [
    "s.startswith('s')"
   ]
  },
  {
   "cell_type": "code",
   "execution_count": 212,
   "id": "c264b6d6",
   "metadata": {},
   "outputs": [
    {
     "data": {
      "text/plain": [
       "'Sudh'"
      ]
     },
     "execution_count": 212,
     "metadata": {},
     "output_type": "execute_result"
    }
   ],
   "source": [
    "s.title()"
   ]
  },
  {
   "cell_type": "code",
   "execution_count": 213,
   "id": "fb3052ee",
   "metadata": {},
   "outputs": [
    {
     "data": {
      "text/plain": [
       "False"
      ]
     },
     "execution_count": 213,
     "metadata": {},
     "output_type": "execute_result"
    }
   ],
   "source": [
    "s.istitle()"
   ]
  },
  {
   "cell_type": "markdown",
   "id": "b998879a",
   "metadata": {},
   "source": [
    "### It gives out a boolean result"
   ]
  },
  {
   "cell_type": "code",
   "execution_count": 216,
   "id": "1be1ae47",
   "metadata": {},
   "outputs": [
    {
     "data": {
      "text/plain": [
       "b'sudh'"
      ]
     },
     "execution_count": 216,
     "metadata": {},
     "output_type": "execute_result"
    }
   ],
   "source": [
    "s.encode() #here encode means, whenever we talk about english encoding UTF8 it is a encoding for english character, similarly there is something called as shiftjist which is a japanese character "
   ]
  },
  {
   "cell_type": "code",
   "execution_count": 217,
   "id": "81e2f30a",
   "metadata": {},
   "outputs": [],
   "source": [
    "#string is just a datatype."
   ]
  },
  {
   "cell_type": "markdown",
   "id": "c81048c6",
   "metadata": {},
   "source": [
    "### LIST"
   ]
  },
  {
   "cell_type": "markdown",
   "id": "b3fac457",
   "metadata": {},
   "source": [
    "What is a list? : It is nothing but a collection of a multiple objects, it is nothing but a collection of homogenious or heterogenious data"
   ]
  },
  {
   "cell_type": "code",
   "execution_count": 219,
   "id": "5a56610f",
   "metadata": {},
   "outputs": [],
   "source": [
    "s = 'hahash h shahsdhasdh h hasdhashdashdjsahdj uk  jksahdjkas'"
   ]
  },
  {
   "cell_type": "code",
   "execution_count": 220,
   "id": "cddcce19",
   "metadata": {},
   "outputs": [],
   "source": [
    "s = [\"ashi\",'roy',3543, 4+6j,True,345.45]"
   ]
  },
  {
   "cell_type": "code",
   "execution_count": 221,
   "id": "a1069392",
   "metadata": {},
   "outputs": [
    {
     "data": {
      "text/plain": [
       "list"
      ]
     },
     "execution_count": 221,
     "metadata": {},
     "output_type": "execute_result"
    }
   ],
   "source": [
    "type(s)"
   ]
  },
  {
   "cell_type": "code",
   "execution_count": 222,
   "id": "5881b852",
   "metadata": {},
   "outputs": [
    {
     "data": {
      "text/plain": [
       "'ashi'"
      ]
     },
     "execution_count": 222,
     "metadata": {},
     "output_type": "execute_result"
    }
   ],
   "source": [
    "s[0]"
   ]
  },
  {
   "cell_type": "code",
   "execution_count": 223,
   "id": "5845ac67",
   "metadata": {},
   "outputs": [
    {
     "data": {
      "text/plain": [
       "345.45"
      ]
     },
     "execution_count": 223,
     "metadata": {},
     "output_type": "execute_result"
    }
   ],
   "source": [
    "s[-1]"
   ]
  },
  {
   "cell_type": "code",
   "execution_count": 224,
   "id": "2e66c76d",
   "metadata": {},
   "outputs": [
    {
     "data": {
      "text/plain": [
       "'roy'"
      ]
     },
     "execution_count": 224,
     "metadata": {},
     "output_type": "execute_result"
    }
   ],
   "source": [
    "s[-5]"
   ]
  },
  {
   "cell_type": "code",
   "execution_count": 225,
   "id": "1bc58690",
   "metadata": {},
   "outputs": [
    {
     "data": {
      "text/plain": [
       "['ashi', 'roy', 3543, (4+6j)]"
      ]
     },
     "execution_count": 225,
     "metadata": {},
     "output_type": "execute_result"
    }
   ],
   "source": [
    "s[0:4]"
   ]
  },
  {
   "cell_type": "code",
   "execution_count": 226,
   "id": "134b4fcb",
   "metadata": {},
   "outputs": [
    {
     "data": {
      "text/plain": [
       "[345.45, True, (4+6j), 3543, 'roy', 'ashi']"
      ]
     },
     "execution_count": 226,
     "metadata": {},
     "output_type": "execute_result"
    }
   ],
   "source": [
    "s[::-1]"
   ]
  },
  {
   "cell_type": "code",
   "execution_count": 227,
   "id": "e6d76737",
   "metadata": {},
   "outputs": [
    {
     "data": {
      "text/plain": [
       "[345.45]"
      ]
     },
     "execution_count": 227,
     "metadata": {},
     "output_type": "execute_result"
    }
   ],
   "source": [
    "s[-1:6]"
   ]
  },
  {
   "cell_type": "code",
   "execution_count": 230,
   "id": "391836c7",
   "metadata": {},
   "outputs": [
    {
     "name": "stdout",
     "output_type": "stream",
     "text": [
      "345.45\n",
      "True\n",
      "(4+6j)\n",
      "3543\n",
      "roy\n",
      "ashi\n"
     ]
    }
   ],
   "source": [
    "for i in reversed(s):\n",
    "    print(i)"
   ]
  },
  {
   "cell_type": "code",
   "execution_count": 232,
   "id": "8d8a441d",
   "metadata": {},
   "outputs": [
    {
     "data": {
      "text/plain": [
       "'s'"
      ]
     },
     "execution_count": 232,
     "metadata": {},
     "output_type": "execute_result"
    }
   ],
   "source": [
    "s[0][1]"
   ]
  },
  {
   "cell_type": "code",
   "execution_count": 233,
   "id": "8552b7ca",
   "metadata": {},
   "outputs": [
    {
     "data": {
      "text/plain": [
       "str"
      ]
     },
     "execution_count": 233,
     "metadata": {},
     "output_type": "execute_result"
    }
   ],
   "source": [
    "type(s[0][1])"
   ]
  },
  {
   "cell_type": "code",
   "execution_count": 234,
   "id": "2409c124",
   "metadata": {},
   "outputs": [
    {
     "data": {
      "text/plain": [
       "(4+6j)"
      ]
     },
     "execution_count": 234,
     "metadata": {},
     "output_type": "execute_result"
    }
   ],
   "source": [
    "s[3]"
   ]
  },
  {
   "cell_type": "code",
   "execution_count": 235,
   "id": "c424fb59",
   "metadata": {},
   "outputs": [
    {
     "data": {
      "text/plain": [
       "4.0"
      ]
     },
     "execution_count": 235,
     "metadata": {},
     "output_type": "execute_result"
    }
   ],
   "source": [
    "s[3].real"
   ]
  },
  {
   "cell_type": "code",
   "execution_count": 236,
   "id": "3ace9925",
   "metadata": {},
   "outputs": [],
   "source": [
    "#it is a collection of heterogenious dataset"
   ]
  },
  {
   "cell_type": "markdown",
   "id": "31c39db3",
   "metadata": {},
   "source": [
    "## List slicing and Indexing"
   ]
  },
  {
   "cell_type": "code",
   "execution_count": 237,
   "id": "1701b944",
   "metadata": {},
   "outputs": [],
   "source": [
    "l1 = [\"zsd\",\"hshas\",4545345]\n",
    "l2 = ['asc',\"pzs\",123123]"
   ]
  },
  {
   "cell_type": "code",
   "execution_count": 238,
   "id": "b02d5720",
   "metadata": {},
   "outputs": [
    {
     "data": {
      "text/plain": [
       "['zsd', 'hshas', 4545345, 'asc', 'pzs', 123123]"
      ]
     },
     "execution_count": 238,
     "metadata": {},
     "output_type": "execute_result"
    }
   ],
   "source": [
    "l1 + l2 #it is concatinating"
   ]
  },
  {
   "cell_type": "code",
   "execution_count": 239,
   "id": "ca4ff622",
   "metadata": {},
   "outputs": [
    {
     "ename": "TypeError",
     "evalue": "can only concatenate list (not \"str\") to list",
     "output_type": "error",
     "traceback": [
      "\u001b[1;31m---------------------------------------------------------------------------\u001b[0m",
      "\u001b[1;31mTypeError\u001b[0m                                 Traceback (most recent call last)",
      "\u001b[1;32m<ipython-input-239-58411baaac74>\u001b[0m in \u001b[0;36m<module>\u001b[1;34m\u001b[0m\n\u001b[1;32m----> 1\u001b[1;33m \u001b[0ml1\u001b[0m \u001b[1;33m+\u001b[0m\u001b[1;34m\"ashi\"\u001b[0m\u001b[1;33m\u001b[0m\u001b[1;33m\u001b[0m\u001b[0m\n\u001b[0m",
      "\u001b[1;31mTypeError\u001b[0m: can only concatenate list (not \"str\") to list"
     ]
    }
   ],
   "source": [
    "l1 +\"ashi\""
   ]
  },
  {
   "cell_type": "code",
   "execution_count": 240,
   "id": "fddff334",
   "metadata": {},
   "outputs": [
    {
     "data": {
      "text/plain": [
       "['zsd', 'hshas', 4545345, 'ashi']"
      ]
     },
     "execution_count": 240,
     "metadata": {},
     "output_type": "execute_result"
    }
   ],
   "source": [
    "l1 + ['ashi']"
   ]
  },
  {
   "cell_type": "code",
   "execution_count": 241,
   "id": "4f966596",
   "metadata": {},
   "outputs": [
    {
     "data": {
      "text/plain": [
       "['zsd',\n",
       " 'hshas',\n",
       " 4545345,\n",
       " 'zsd',\n",
       " 'hshas',\n",
       " 4545345,\n",
       " 'zsd',\n",
       " 'hshas',\n",
       " 4545345,\n",
       " 'zsd',\n",
       " 'hshas',\n",
       " 4545345]"
      ]
     },
     "execution_count": 241,
     "metadata": {},
     "output_type": "execute_result"
    }
   ],
   "source": [
    "l1*4"
   ]
  },
  {
   "cell_type": "code",
   "execution_count": 242,
   "id": "48a08004",
   "metadata": {},
   "outputs": [
    {
     "data": {
      "text/plain": [
       "['zsd', 'hshas', 4545345]"
      ]
     },
     "execution_count": 242,
     "metadata": {},
     "output_type": "execute_result"
    }
   ],
   "source": [
    "l1"
   ]
  },
  {
   "cell_type": "code",
   "execution_count": 246,
   "id": "19404574",
   "metadata": {},
   "outputs": [],
   "source": [
    "l1[0] = 'ashish' #this is how you can replace in a list"
   ]
  },
  {
   "cell_type": "code",
   "execution_count": 247,
   "id": "791bb3dc",
   "metadata": {},
   "outputs": [
    {
     "data": {
      "text/plain": [
       "['ashish', 'hshas', 4545345]"
      ]
     },
     "execution_count": 247,
     "metadata": {},
     "output_type": "execute_result"
    }
   ],
   "source": [
    "l1"
   ]
  },
  {
   "cell_type": "code",
   "execution_count": 249,
   "id": "15db6ef2",
   "metadata": {},
   "outputs": [
    {
     "ename": "TypeError",
     "evalue": "'str' object does not support item assignment",
     "output_type": "error",
     "traceback": [
      "\u001b[1;31m---------------------------------------------------------------------------\u001b[0m",
      "\u001b[1;31mTypeError\u001b[0m                                 Traceback (most recent call last)",
      "\u001b[1;32m<ipython-input-249-f2334029a62d>\u001b[0m in \u001b[0;36m<module>\u001b[1;34m\u001b[0m\n\u001b[1;32m----> 1\u001b[1;33m \u001b[0ml1\u001b[0m\u001b[1;33m[\u001b[0m\u001b[1;36m1\u001b[0m\u001b[1;33m]\u001b[0m\u001b[1;33m[\u001b[0m\u001b[1;36m0\u001b[0m\u001b[1;33m]\u001b[0m \u001b[1;33m=\u001b[0m \u001b[1;34m'a'\u001b[0m\u001b[1;33m\u001b[0m\u001b[1;33m\u001b[0m\u001b[0m\n\u001b[0m",
      "\u001b[1;31mTypeError\u001b[0m: 'str' object does not support item assignment"
     ]
    }
   ],
   "source": [
    "l1[1][0] = 'a' #it works on a list"
   ]
  },
  {
   "cell_type": "code",
   "execution_count": 251,
   "id": "82efb54c",
   "metadata": {},
   "outputs": [],
   "source": [
    "#Mutability = it is nothing but which we can change, (we can change in List, it is a mutable entity)\n",
    "#Immutability = string is a inmutable entity, when i am unable to change anything at a particular indexes"
   ]
  },
  {
   "cell_type": "code",
   "execution_count": 252,
   "id": "8ff330a2",
   "metadata": {},
   "outputs": [
    {
     "data": {
      "text/plain": [
       "['ashish', 'hshas', 4545345]"
      ]
     },
     "execution_count": 252,
     "metadata": {},
     "output_type": "execute_result"
    }
   ],
   "source": [
    "l1"
   ]
  },
  {
   "cell_type": "code",
   "execution_count": 254,
   "id": "c65bef7c",
   "metadata": {},
   "outputs": [],
   "source": [
    "l1[1] = 'kumar'"
   ]
  },
  {
   "cell_type": "code",
   "execution_count": 255,
   "id": "28276126",
   "metadata": {},
   "outputs": [
    {
     "data": {
      "text/plain": [
       "['ashi', 'roy', 3543, (4+6j), True, 345.45]"
      ]
     },
     "execution_count": 255,
     "metadata": {},
     "output_type": "execute_result"
    }
   ],
   "source": [
    "s"
   ]
  },
  {
   "cell_type": "code",
   "execution_count": 257,
   "id": "e21ed585",
   "metadata": {},
   "outputs": [],
   "source": [
    "s = 'ashi'"
   ]
  },
  {
   "cell_type": "code",
   "execution_count": 258,
   "id": "20c76b54",
   "metadata": {},
   "outputs": [
    {
     "data": {
      "text/plain": [
       "'bshi'"
      ]
     },
     "execution_count": 258,
     "metadata": {},
     "output_type": "execute_result"
    }
   ],
   "source": [
    "s.replace('a','b')"
   ]
  },
  {
   "cell_type": "code",
   "execution_count": 260,
   "id": "569ecbab",
   "metadata": {},
   "outputs": [
    {
     "data": {
      "text/plain": [
       "3"
      ]
     },
     "execution_count": 260,
     "metadata": {},
     "output_type": "execute_result"
    }
   ],
   "source": [
    "len(l1) #checking for the length"
   ]
  },
  {
   "cell_type": "code",
   "execution_count": 263,
   "id": "33cd8ec4",
   "metadata": {},
   "outputs": [
    {
     "data": {
      "text/plain": [
       "True"
      ]
     },
     "execution_count": 263,
     "metadata": {},
     "output_type": "execute_result"
    }
   ],
   "source": [
    "\"kumar\" in l1 #checking if the word is present in the list"
   ]
  },
  {
   "cell_type": "code",
   "execution_count": 264,
   "id": "699f4853",
   "metadata": {},
   "outputs": [
    {
     "data": {
      "text/plain": [
       "False"
      ]
     },
     "execution_count": 264,
     "metadata": {},
     "output_type": "execute_result"
    }
   ],
   "source": [
    "345 in l1 #checking if the word is present in the list"
   ]
  },
  {
   "cell_type": "code",
   "execution_count": 273,
   "id": "26576bef",
   "metadata": {},
   "outputs": [
    {
     "data": {
      "text/plain": [
       "['asc', 'pzs']"
      ]
     },
     "execution_count": 273,
     "metadata": {},
     "output_type": "execute_result"
    }
   ],
   "source": [
    "l2"
   ]
  },
  {
   "cell_type": "code",
   "execution_count": 268,
   "id": "489e7de8",
   "metadata": {},
   "outputs": [],
   "source": [
    "l2.append('ashi') #append means it will try to append it on the last index"
   ]
  },
  {
   "cell_type": "code",
   "execution_count": 269,
   "id": "797a9c3e",
   "metadata": {},
   "outputs": [
    {
     "data": {
      "text/plain": [
       "['asc', 'pzs', 123123, 'ashi', 'ashi']"
      ]
     },
     "execution_count": 269,
     "metadata": {},
     "output_type": "execute_result"
    }
   ],
   "source": [
    "l2"
   ]
  },
  {
   "cell_type": "code",
   "execution_count": 272,
   "id": "2b7a121d",
   "metadata": {},
   "outputs": [
    {
     "data": {
      "text/plain": [
       "123123"
      ]
     },
     "execution_count": 272,
     "metadata": {},
     "output_type": "execute_result"
    }
   ],
   "source": [
    "l2.pop() #it removes the value, default is at the end (basically last element)"
   ]
  },
  {
   "cell_type": "code",
   "execution_count": 275,
   "id": "72c5d9d4",
   "metadata": {},
   "outputs": [
    {
     "data": {
      "text/plain": [
       "'pzs'"
      ]
     },
     "execution_count": 275,
     "metadata": {},
     "output_type": "execute_result"
    }
   ],
   "source": [
    "l2.pop(1) #by default it removes from -1 index"
   ]
  },
  {
   "cell_type": "code",
   "execution_count": 276,
   "id": "a226ce41",
   "metadata": {},
   "outputs": [
    {
     "data": {
      "text/plain": [
       "['ashish', 'kumar', 4545345]"
      ]
     },
     "execution_count": 276,
     "metadata": {},
     "output_type": "execute_result"
    }
   ],
   "source": [
    "l1"
   ]
  },
  {
   "cell_type": "code",
   "execution_count": 277,
   "id": "423c1ebc",
   "metadata": {},
   "outputs": [
    {
     "data": {
      "text/plain": [
       "'kumar'"
      ]
     },
     "execution_count": 277,
     "metadata": {},
     "output_type": "execute_result"
    }
   ],
   "source": [
    "l1.pop(1)"
   ]
  },
  {
   "cell_type": "code",
   "execution_count": 278,
   "id": "0e63aa84",
   "metadata": {},
   "outputs": [
    {
     "data": {
      "text/plain": [
       "['ashish', 4545345]"
      ]
     },
     "execution_count": 278,
     "metadata": {},
     "output_type": "execute_result"
    }
   ],
   "source": [
    "l1"
   ]
  },
  {
   "cell_type": "code",
   "execution_count": 279,
   "id": "779952cf",
   "metadata": {},
   "outputs": [],
   "source": [
    "#Append is trying to append a element at the last location\n",
    "# how to insert an element at 1st, 2nd and 3rd element"
   ]
  },
  {
   "cell_type": "code",
   "execution_count": 280,
   "id": "13fb3a75",
   "metadata": {},
   "outputs": [],
   "source": [
    "l1.append(2822)"
   ]
  },
  {
   "cell_type": "code",
   "execution_count": 281,
   "id": "c6904051",
   "metadata": {},
   "outputs": [
    {
     "data": {
      "text/plain": [
       "['ashish', 4545345, 2822]"
      ]
     },
     "execution_count": 281,
     "metadata": {},
     "output_type": "execute_result"
    }
   ],
   "source": [
    "l1"
   ]
  },
  {
   "cell_type": "code",
   "execution_count": 284,
   "id": "74d20d81",
   "metadata": {},
   "outputs": [],
   "source": [
    "l1.insert(1,'ashhis') #this helps in inserting at a specific location and what are the things we are planning to insert"
   ]
  },
  {
   "cell_type": "code",
   "execution_count": 285,
   "id": "2dd7c79f",
   "metadata": {},
   "outputs": [
    {
     "data": {
      "text/plain": [
       "['ashish', 'ashhis', 'ashhis', 4545345, 2822]"
      ]
     },
     "execution_count": 285,
     "metadata": {},
     "output_type": "execute_result"
    }
   ],
   "source": [
    "l1"
   ]
  },
  {
   "cell_type": "code",
   "execution_count": 286,
   "id": "8c50a87b",
   "metadata": {},
   "outputs": [
    {
     "data": {
      "text/plain": [
       "'ashhis'"
      ]
     },
     "execution_count": 286,
     "metadata": {},
     "output_type": "execute_result"
    }
   ],
   "source": [
    "l1.pop(1)"
   ]
  },
  {
   "cell_type": "code",
   "execution_count": 287,
   "id": "46cb5027",
   "metadata": {},
   "outputs": [
    {
     "data": {
      "text/plain": [
       "['ashish', 'ashhis', 4545345, 2822]"
      ]
     },
     "execution_count": 287,
     "metadata": {},
     "output_type": "execute_result"
    }
   ],
   "source": [
    "l1"
   ]
  },
  {
   "cell_type": "code",
   "execution_count": 289,
   "id": "4467cf98",
   "metadata": {},
   "outputs": [],
   "source": [
    "l1.insert(3,[23,22.3,23,23,34,3]) #this is called as nested list"
   ]
  },
  {
   "cell_type": "code",
   "execution_count": 290,
   "id": "1164a17d",
   "metadata": {},
   "outputs": [
    {
     "data": {
      "text/plain": [
       "['ashish', 'ashhis', 4545345, [23, 22.3, 23, 23, 34, 3], 2822]"
      ]
     },
     "execution_count": 290,
     "metadata": {},
     "output_type": "execute_result"
    }
   ],
   "source": [
    "l1"
   ]
  },
  {
   "cell_type": "code",
   "execution_count": 295,
   "id": "f19f88c9",
   "metadata": {},
   "outputs": [
    {
     "data": {
      "text/plain": [
       "34"
      ]
     },
     "execution_count": 295,
     "metadata": {},
     "output_type": "execute_result"
    }
   ],
   "source": [
    "l1[3][4]"
   ]
  },
  {
   "cell_type": "code",
   "execution_count": 296,
   "id": "6f90cb5f",
   "metadata": {},
   "outputs": [
    {
     "data": {
      "text/plain": [
       "[2822, [23, 22.3, 23, 23, 34, 3], 4545345, 'ashhis', 'ashish']"
      ]
     },
     "execution_count": 296,
     "metadata": {},
     "output_type": "execute_result"
    }
   ],
   "source": [
    "l1[::-1]"
   ]
  },
  {
   "cell_type": "code",
   "execution_count": 301,
   "id": "420bbd4e",
   "metadata": {},
   "outputs": [],
   "source": [
    "l1.reverse() #this helps in permanently reversing the values"
   ]
  },
  {
   "cell_type": "code",
   "execution_count": 302,
   "id": "6923a084",
   "metadata": {},
   "outputs": [
    {
     "data": {
      "text/plain": [
       "[2822, [23, 22.3, 23, 23, 34, 3], 4545345, 'ashhis', 'ashish']"
      ]
     },
     "execution_count": 302,
     "metadata": {},
     "output_type": "execute_result"
    }
   ],
   "source": [
    "l1"
   ]
  },
  {
   "cell_type": "code",
   "execution_count": 303,
   "id": "8d8184ed",
   "metadata": {},
   "outputs": [
    {
     "data": {
      "text/plain": [
       "23"
      ]
     },
     "execution_count": 303,
     "metadata": {},
     "output_type": "execute_result"
    }
   ],
   "source": [
    "l1[1][0]"
   ]
  },
  {
   "cell_type": "code",
   "execution_count": 306,
   "id": "da5df847",
   "metadata": {},
   "outputs": [
    {
     "data": {
      "text/plain": [
       "1"
      ]
     },
     "execution_count": 306,
     "metadata": {},
     "output_type": "execute_result"
    }
   ],
   "source": [
    "l1.count('ashish') #it will try to count the occurance"
   ]
  },
  {
   "cell_type": "code",
   "execution_count": 307,
   "id": "92e8df5f",
   "metadata": {},
   "outputs": [
    {
     "data": {
      "text/plain": [
       "0"
      ]
     },
     "execution_count": 307,
     "metadata": {},
     "output_type": "execute_result"
    }
   ],
   "source": [
    "l1.count('ashh') #it will try to count the occurance"
   ]
  },
  {
   "cell_type": "code",
   "execution_count": 308,
   "id": "e39f37c8",
   "metadata": {},
   "outputs": [],
   "source": [
    "l1.append('asjasj')"
   ]
  },
  {
   "cell_type": "code",
   "execution_count": 309,
   "id": "1e7b9ff0",
   "metadata": {},
   "outputs": [
    {
     "data": {
      "text/plain": [
       "[2822, [23, 22.3, 23, 23, 34, 3], 4545345, 'ashhis', 'ashish', 'asjasj']"
      ]
     },
     "execution_count": 309,
     "metadata": {},
     "output_type": "execute_result"
    }
   ],
   "source": [
    "l1"
   ]
  },
  {
   "cell_type": "code",
   "execution_count": 310,
   "id": "b88a84ca",
   "metadata": {},
   "outputs": [],
   "source": [
    "l1.append([2,3,3,4])"
   ]
  },
  {
   "cell_type": "code",
   "execution_count": 311,
   "id": "180bf652",
   "metadata": {},
   "outputs": [
    {
     "data": {
      "text/plain": [
       "[2822,\n",
       " [23, 22.3, 23, 23, 34, 3],\n",
       " 4545345,\n",
       " 'ashhis',\n",
       " 'ashish',\n",
       " 'asjasj',\n",
       " [2, 3, 3, 4]]"
      ]
     },
     "execution_count": 311,
     "metadata": {},
     "output_type": "execute_result"
    }
   ],
   "source": [
    "l1"
   ]
  },
  {
   "cell_type": "code",
   "execution_count": 314,
   "id": "b58af60e",
   "metadata": {},
   "outputs": [],
   "source": [
    "l1.extend(['s',1,2,3,4,4]) # it is just extending the list in the same list rather than creating a nested List"
   ]
  },
  {
   "cell_type": "code",
   "execution_count": 315,
   "id": "a570bd33",
   "metadata": {},
   "outputs": [
    {
     "data": {
      "text/plain": [
       "[2822,\n",
       " [23, 22.3, 23, 23, 34, 3],\n",
       " 4545345,\n",
       " 'ashhis',\n",
       " 'ashish',\n",
       " 'asjasj',\n",
       " [2, 3, 3, 4],\n",
       " 's',\n",
       " 1,\n",
       " 2,\n",
       " 3,\n",
       " 4,\n",
       " 4,\n",
       " 's',\n",
       " 1,\n",
       " 2,\n",
       " 3,\n",
       " 4,\n",
       " 4]"
      ]
     },
     "execution_count": 315,
     "metadata": {},
     "output_type": "execute_result"
    }
   ],
   "source": [
    "l1"
   ]
  },
  {
   "cell_type": "code",
   "execution_count": null,
   "id": "9071ea00",
   "metadata": {},
   "outputs": [],
   "source": []
  }
 ],
 "metadata": {
  "kernelspec": {
   "display_name": "Python 3",
   "language": "python",
   "name": "python3"
  },
  "language_info": {
   "codemirror_mode": {
    "name": "ipython",
    "version": 3
   },
   "file_extension": ".py",
   "mimetype": "text/x-python",
   "name": "python",
   "nbconvert_exporter": "python",
   "pygments_lexer": "ipython3",
   "version": "3.8.8"
  }
 },
 "nbformat": 4,
 "nbformat_minor": 5
}
