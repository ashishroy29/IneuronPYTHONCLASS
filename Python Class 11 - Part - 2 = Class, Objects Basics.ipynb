{
 "cells": [
  {
   "cell_type": "markdown",
   "metadata": {},
   "source": [
    "# OOPS CONCEPT"
   ]
  },
  {
   "cell_type": "code",
   "execution_count": 1,
   "metadata": {},
   "outputs": [],
   "source": [
    "#oops concept consists of Class, objects and modules."
   ]
  },
  {
   "cell_type": "code",
   "execution_count": 2,
   "metadata": {},
   "outputs": [],
   "source": [
    "# BASIC OF OOPS"
   ]
  },
  {
   "cell_type": "code",
   "execution_count": 5,
   "metadata": {},
   "outputs": [],
   "source": [
    "# What is class?\n",
    "# What is object?\n",
    "# What is OOPS programming?\n",
    "# How OOPS concept is different from python scripting?"
   ]
  },
  {
   "cell_type": "code",
   "execution_count": 7,
   "metadata": {},
   "outputs": [
    {
     "name": "stdout",
     "output_type": "stream",
     "text": [
      "2\n",
      "3\n",
      "4\n",
      "5\n"
     ]
    }
   ],
   "source": [
    "l = [2,3,4,5]\n",
    "for i in l:\n",
    "    print(i)"
   ]
  },
  {
   "cell_type": "code",
   "execution_count": 9,
   "metadata": {},
   "outputs": [],
   "source": [
    "#What happens when we are trying to create 100's of 1000's of functions?\n",
    "#What happens when we give you a single task, you have to complete multiple sub tasks?\n",
    "#what happens when you have to build a big software? - Weather it is related to AI or non AI Doesnt maatter, but what happens at that point of time?\n",
    "#We will have to write a 10000 line of code which is minimum required, sometime even a 1000 line of code.\n",
    "#Its difficult to understand which file is written under which file\n",
    "#its very difficult to understand which person is involved in which code\n",
    "#Its difficult to involve multiple people"
   ]
  },
  {
   "cell_type": "code",
   "execution_count": 10,
   "metadata": {},
   "outputs": [],
   "source": [
    "#When building a enterprise level Project\n",
    "#we are supposed to maintain Packaages\n",
    "#we are supposed to modules\n",
    "# so that other people will be able to use it\n",
    "# other people will bee able to call your funnctionn, call your module or your method\n",
    "# this is where the usability of oops concept comes into picture"
   ]
  },
  {
   "cell_type": "code",
   "execution_count": null,
   "metadata": {},
   "outputs": [],
   "source": [
    "# Object oriented programming comes into picture to solve this issue\n",
    "# It is going to give me a capacity to create a structured module, for task and sub task we are going to create"
   ]
  },
  {
   "cell_type": "code",
   "execution_count": 11,
   "metadata": {},
   "outputs": [],
   "source": [
    "#Advantages of OOPS concepts\n",
    "# It is going to give me a capacity to create a structured module, for task and sub task we are going to create\n",
    "# It is possible to write a logic without using even a single oops concept\n",
    "# Suppose we dont know, object, classes, inheritance, incapsulation, polymorphism\n",
    "# we will still be able to compele the task\n",
    "# but if we know oops concept we cann do these in a more effective way or manner\n",
    "# We can do it in a more structured way\n",
    "# That can be used by any other developer who is using my code."
   ]
  },
  {
   "cell_type": "code",
   "execution_count": 12,
   "metadata": {},
   "outputs": [],
   "source": [
    "# code wise we can either use oops or we can either use scription\n",
    "# so far so forth what we were using was scripting\n",
    "# we were unable to create any structureness  inside the code.\n",
    "# We were just using and just executing it at the same time\n",
    "# oops concept will give a structured ness to the code"
   ]
  },
  {
   "cell_type": "code",
   "execution_count": 13,
   "metadata": {},
   "outputs": [
    {
     "name": "stdout",
     "output_type": "stream",
     "text": [
      "2\n",
      "3\n",
      "4\n",
      "5\n"
     ]
    }
   ],
   "source": [
    "# HOW TO SOLVE THE SAME PROBLEM USING OOPS CONCEPT\n",
    "\n",
    "l = [2,3,4,5]\n",
    "for i in l:\n",
    "    print(i)"
   ]
  },
  {
   "cell_type": "code",
   "execution_count": 16,
   "metadata": {},
   "outputs": [],
   "source": [
    "#We are going to treat everything as an object and solve the problem\n",
    "#So that we will be able to create more structured modules\n",
    "#We will be able to increase reusablility of the code"
   ]
  },
  {
   "cell_type": "code",
   "execution_count": 17,
   "metadata": {},
   "outputs": [],
   "source": [
    "# Python is a language which always supports both scripting and OOPS concept\n",
    "#java and scala only oops\n",
    "# Pythonn creates flexibility to creeate any type of codes"
   ]
  },
  {
   "cell_type": "code",
   "execution_count": 18,
   "metadata": {},
   "outputs": [],
   "source": [
    "#WHAT IS OOPS?\n",
    "#What is the concept"
   ]
  },
  {
   "cell_type": "code",
   "execution_count": 20,
   "metadata": {},
   "outputs": [],
   "source": [
    "# what is the meaning of class?\n",
    "# EG : Car, but which car? tata? or toyota? or SUV? or hatchback?\n",
    "# But wheen we are talking about car, ok so wee will get some sense that we are talking about an entity, which is having wheels, body, engine, breakpad, geearbox,steering and all those things\n",
    "# Not geetting about a specific car.\n",
    "# EG 2 : When we are saying bird, dosent mean we are talking about a specific bird, atleast it is an entity which has 2 wings, 2 legs, 2 eyes etc etc..\n",
    "# Maybe i am talking about an object with 2 wings and it is flying.\n",
    "# EG 3 : ok maybe when i am saying about an animal, dosent necessarily mean that i am talking about a cow, a buffallo , weather i am talking about a lion, weather i am talking about a tiger or what\n",
    "# EG 4 : weather i am talking about a human, or weather i am talking about a person, you will be able to get some idea, if i am talking about a human being, the property of human being maybe a male or a female\n",
    "# we will be able to get some sense of it.\n",
    "# EG 5 : When we talk about vaccine, we wont be able to get an idea, like if its an polio vaccine or like covid vaccine, so its like okay, i am talking about some vaccine which will clear some of the desease\n",
    "# or i am talking about something which will cure from some of the desase\n",
    "# EG 6 : Ok if we are talking about sports, do we get to know what kind of a sports we are talking about?\n",
    "# ill say, i play sports, will you get some sort of an idea on what kind of sports am i trying to play?, but you will be able to get some sense of it.\n",
    "# such as ok that person might be a healthy one, or somthing like that, but we dont understand what kind of a sports he will be playing"
   ]
  },
  {
   "cell_type": "code",
   "execution_count": 21,
   "metadata": {},
   "outputs": [],
   "source": [
    "# When we are trying to call this car, bird, animal or human we are trying to talk about this segment as a whole"
   ]
  },
  {
   "cell_type": "code",
   "execution_count": 23,
   "metadata": {},
   "outputs": [],
   "source": [
    "# Can we say that, just by calling this sport, just by calling this vaccine, just by calling this car or bike or animal, we are just tryign to talk about a broader view of some of the entites which exist on this planet, but we are not able to get a detail of it."
   ]
  },
  {
   "cell_type": "code",
   "execution_count": 24,
   "metadata": {},
   "outputs": [],
   "source": [
    "# in OOPS, we will be able to find out a very first concept called as class, then the second concept called as object"
   ]
  },
  {
   "cell_type": "code",
   "execution_count": null,
   "metadata": {},
   "outputs": [],
   "source": [
    "# Class is nothing but a kind of a Blueprint.\n",
    "# Object is nothing but an entity which really exist, which you will be able to see, which you will be able to touch"
   ]
  },
  {
   "cell_type": "code",
   "execution_count": 25,
   "metadata": {},
   "outputs": [],
   "source": [
    "# Suppose we are trying to talk about a can\n",
    "# for sure there are variety of cans which are available - Class Eg\n",
    "# Suppose we are trying to talk about cups.\n",
    "# for sure there are variety of cups which are available - Class Eg\n",
    "\n",
    "# Now is say milton cup (I am specifying a particular cup here), so we will be able to say, what is the size, shape of milton cup.\n",
    "# You will be able to get some sort of a specification.\n",
    "# There can be so many cups, So that can be called as a class\n",
    "# Suppose we say white cup, we will be able to touch it, we will be able to feel it, we will be able to get details, size shape etc etc\n",
    "# So milton cup is an object, and cup when we spoke in general is a class\n",
    "# it is just trying to create a blueprint of it, that is something called as classes, even i programming, we can try to explain it here in the programming way"
   ]
  },
  {
   "cell_type": "code",
   "execution_count": 26,
   "metadata": {},
   "outputs": [],
   "source": [
    "# when i say, write a code for databases\n",
    "# can we write a code for list\n",
    "# can you please write a code for tuples\n",
    "# can you please write a code for file handling\n",
    "# can you please write a code for logging\n",
    "# can you please write a code for creating a modules"
   ]
  },
  {
   "cell_type": "code",
   "execution_count": 36,
   "metadata": {},
   "outputs": [],
   "source": [
    "# so when i say write a code for a list, i have given you a very generic term, i dont know what you are supposed to do in that list\n",
    "# and there are so many functions that are possible to do in that list\n",
    "# what kind of an objective are we supposed to acheive would be the question \n",
    "# so we will say that, ok write a code so that you can call each and every element in that list\n",
    "# write a code so that you will be able to reverse a list\n",
    "# write a code so that you will be able to get an alternative elemnet of the list in reverse list\n",
    "# write a code so that you will be able to merge 100's of list together\n",
    "# write a code so that you will be able to produce a integer list\n",
    "# This is goigng to be a task"
   ]
  },
  {
   "cell_type": "code",
   "execution_count": 37,
   "metadata": {},
   "outputs": [],
   "source": [
    "# Just saying do something with a list - Class\n",
    "# Saying something specific to do in a list - object"
   ]
  },
  {
   "cell_type": "code",
   "execution_count": 38,
   "metadata": {},
   "outputs": [],
   "source": [
    "# Similarly when i say, do some task with dictionary (This can be called as class)- you will be like what kind of a task\n",
    "# again now you do something in specific is called as object, when there is a specific thing which has been told to be done"
   ]
  },
  {
   "cell_type": "code",
   "execution_count": 39,
   "metadata": {},
   "outputs": [],
   "source": [
    "# When we talk about integer - Integer is a class - Write a integer (Now we will surely as a question, what to write in that)\n",
    "# Now that becomes an object"
   ]
  },
  {
   "cell_type": "code",
   "execution_count": 40,
   "metadata": {},
   "outputs": [],
   "source": [
    "# Now we will say write a string, we will get a sense of it, but you will be like, your name, my name? what am i supposed to write..\n",
    "# Classification of objects which do not exist really"
   ]
  },
  {
   "cell_type": "code",
   "execution_count": 41,
   "metadata": {},
   "outputs": [
    {
     "data": {
      "text/plain": [
       "'sudh'"
      ]
     },
     "execution_count": 41,
     "metadata": {},
     "output_type": "execute_result"
    }
   ],
   "source": [
    "\"sudh\" #This is an object, because we have specified something here"
   ]
  },
  {
   "cell_type": "code",
   "execution_count": 42,
   "metadata": {},
   "outputs": [
    {
     "data": {
      "text/plain": [
       "'Kumar'"
      ]
     },
     "execution_count": 42,
     "metadata": {},
     "output_type": "execute_result"
    }
   ],
   "source": [
    "\"Kumar\"#This is an object, because we have specified something here"
   ]
  },
  {
   "cell_type": "code",
   "execution_count": 44,
   "metadata": {},
   "outputs": [
    {
     "data": {
      "text/plain": [
       "2323"
      ]
     },
     "execution_count": 44,
     "metadata": {},
     "output_type": "execute_result"
    }
   ],
   "source": [
    "2323 #This is an object, because we have specified something here"
   ]
  },
  {
   "cell_type": "code",
   "execution_count": 43,
   "metadata": {},
   "outputs": [],
   "source": [
    "# We will understand the intution but we will not exactly know what kind of a string we are expecting"
   ]
  },
  {
   "cell_type": "code",
   "execution_count": 45,
   "metadata": {},
   "outputs": [],
   "source": [
    "# When i say talk about string - (I was just talking about class)\n",
    "# When i say talk about list - (I was just talking about class)\n",
    "# When i say talk about integer - (I was just talking about class)\n",
    "# When i say talk about Dictionary - (I was just talking about class)\n",
    "# Even in programming we follow real time concept\n",
    "\n",
    "#Objects:\n",
    "# It is when we specify things such as : write a string with my name or your. etc.\n",
    "# when we are talking about a specific thing it is called as an object"
   ]
  },
  {
   "cell_type": "code",
   "execution_count": 46,
   "metadata": {},
   "outputs": [],
   "source": [
    "# First step : we create classes\n",
    "# Second step : we create an object\n",
    "# Inside that we can try to create functions and method\n",
    "# this is something called as class and object."
   ]
  },
  {
   "cell_type": "code",
   "execution_count": 47,
   "metadata": {},
   "outputs": [],
   "source": [
    "# This entire process is called as OOP Concept"
   ]
  },
  {
   "cell_type": "code",
   "execution_count": 48,
   "metadata": {},
   "outputs": [],
   "source": [
    "# Ok so what is oop?\n",
    "# When you are trying to derive everything as an object and you are going to bind it inside classes\n",
    "# Then if you are going to perform some kind of a task, that is something which comes under Object oriented programming\n",
    "# so whatever the task we are performing we will try to acheive that in classes and object methods.\n",
    "# We will try to derive everything in the form of class and object"
   ]
  },
  {
   "cell_type": "markdown",
   "metadata": {},
   "source": [
    "# LETS TRY TO UNDERSTAND HOW TO CREATE A CLASS AND OBJECT"
   ]
  },
  {
   "cell_type": "code",
   "execution_count": 50,
   "metadata": {},
   "outputs": [],
   "source": [
    "class car : # this is a blue print\n",
    "    pass #if we dont want to do anything "
   ]
  },
  {
   "cell_type": "code",
   "execution_count": 61,
   "metadata": {},
   "outputs": [],
   "source": [
    "class car :\n",
    "    def __init__ (self, brand_name,fueltype,body_type):\n",
    "        \n",
    "        self.brand_name = brand_name\n",
    "        self.fueltype = fueltype\n",
    "        self.body_type = body_type\n",
    "        \n",
    "    def desc_car(self):\n",
    "        print(self.brand_name, self.fueltype,self.body_type)"
   ]
  },
  {
   "cell_type": "code",
   "execution_count": 62,
   "metadata": {},
   "outputs": [
    {
     "ename": "TypeError",
     "evalue": "__init__() missing 3 required positional arguments: 'brand_name', 'fueltype', and 'body_type'",
     "output_type": "error",
     "traceback": [
      "\u001b[1;31m---------------------------------------------------------------------------\u001b[0m",
      "\u001b[1;31mTypeError\u001b[0m                                 Traceback (most recent call last)",
      "\u001b[1;32m<ipython-input-62-e29db1929a19>\u001b[0m in \u001b[0;36m<module>\u001b[1;34m\u001b[0m\n\u001b[1;32m----> 1\u001b[1;33m \u001b[0minnova\u001b[0m \u001b[1;33m=\u001b[0m \u001b[0mcar\u001b[0m\u001b[1;33m(\u001b[0m\u001b[1;33m)\u001b[0m \u001b[1;31m#innova is a variable of car class\u001b[0m\u001b[1;33m\u001b[0m\u001b[1;33m\u001b[0m\u001b[0m\n\u001b[0m",
      "\u001b[1;31mTypeError\u001b[0m: __init__() missing 3 required positional arguments: 'brand_name', 'fueltype', and 'body_type'"
     ]
    }
   ],
   "source": [
    "innova = car() #innova is a variable of car class"
   ]
  },
  {
   "cell_type": "code",
   "execution_count": 83,
   "metadata": {},
   "outputs": [],
   "source": [
    "innova = car(\"Toyota\",\"Petrol\",\"SUV\") #innova is a variable of car class\n",
    "Nexon = car(\"TATA\",\"Electric\",\"Min suv\") #innova is a variable of car class\n",
    "Fortune = car(\"Toyota\",\"Diesel\",\"Suv\")"
   ]
  },
  {
   "cell_type": "code",
   "execution_count": 84,
   "metadata": {},
   "outputs": [],
   "source": [
    "## __init__\n",
    "# It is nothing but, a function whichever starts with double __ and ends with double __ in python is an inbuilt function, What is the use of it?\n",
    "# There will be 100's of function which starts with __ and ends with __\n",
    "# Here we are trying to reutilize the function which has already been written, you can also say overwrite the function, which is already written\n",
    "# Inside that we are going to pass a keyword called as self\n",
    "# Next is the car class, So maybe brand_name, fuletype, body_type):\n",
    "# then we assign it to each other.\n",
    "#Again we write other function\n",
    "# init is called as constructor, constructor is nothing but a kind of a entity or method or a function which helps my class to take an input\n",
    "# Which is responsible for providing data to the particular class, that is something called as constructor, at the time of creation of an object\n",
    "# It is nothing but an entity which will help to pass data to a particular class, this is where constructor comes into a picture\n",
    "# whenerver you write a init method it behaves like a constructor\n",
    "# what is the behaviour of a constructor, constructor means a kind of an entity which will pass a data to a class\n",
    "# how is it passing?\n",
    "# self always behaves like a pointer, which is reponsibel for pointing to the classes\n",
    "# The very first thing what you are supposed to create is a pointer\n",
    "# Self is pointing to classes\n",
    "# inside class we can create any number of classes and any number of methods"
   ]
  },
  {
   "cell_type": "code",
   "execution_count": 85,
   "metadata": {},
   "outputs": [
    {
     "name": "stdout",
     "output_type": "stream",
     "text": [
      "Toyota Petrol SUV\n"
     ]
    }
   ],
   "source": [
    "innova.desc_car()"
   ]
  },
  {
   "cell_type": "code",
   "execution_count": 86,
   "metadata": {},
   "outputs": [
    {
     "data": {
      "text/plain": [
       "'Toyota'"
      ]
     },
     "execution_count": 86,
     "metadata": {},
     "output_type": "execute_result"
    }
   ],
   "source": [
    "innova.brand_name"
   ]
  },
  {
   "cell_type": "code",
   "execution_count": 87,
   "metadata": {},
   "outputs": [
    {
     "name": "stdout",
     "output_type": "stream",
     "text": [
      "TATA Electric Min suv\n"
     ]
    }
   ],
   "source": [
    "Nexon.desc_car()"
   ]
  },
  {
   "cell_type": "code",
   "execution_count": 88,
   "metadata": {},
   "outputs": [
    {
     "data": {
      "text/plain": [
       "'TATA'"
      ]
     },
     "execution_count": 88,
     "metadata": {},
     "output_type": "execute_result"
    }
   ],
   "source": [
    "Nexon.brand_name"
   ]
  },
  {
   "cell_type": "code",
   "execution_count": 89,
   "metadata": {},
   "outputs": [
    {
     "data": {
      "text/plain": [
       "'Min suv'"
      ]
     },
     "execution_count": 89,
     "metadata": {},
     "output_type": "execute_result"
    }
   ],
   "source": [
    "Nexon.body_type"
   ]
  },
  {
   "cell_type": "code",
   "execution_count": 90,
   "metadata": {},
   "outputs": [
    {
     "name": "stdout",
     "output_type": "stream",
     "text": [
      "Toyota Diesel Suv\n"
     ]
    }
   ],
   "source": [
    "Fortune.desc_car()"
   ]
  },
  {
   "cell_type": "code",
   "execution_count": 92,
   "metadata": {},
   "outputs": [],
   "source": [
    "#Variable of the car which we can call as object\n",
    "#Variable will be specific to a particular entity"
   ]
  },
  {
   "cell_type": "code",
   "execution_count": 95,
   "metadata": {},
   "outputs": [
    {
     "name": "stdout",
     "output_type": "stream",
     "text": [
      "<class 'int'>\n"
     ]
    }
   ],
   "source": [
    "a = 10 #a is a variable of int class\n",
    "print(type(a))"
   ]
  },
  {
   "cell_type": "code",
   "execution_count": 96,
   "metadata": {},
   "outputs": [
    {
     "name": "stdout",
     "output_type": "stream",
     "text": [
      "<class 'str'>\n"
     ]
    }
   ],
   "source": [
    "s = \"ashi\"\n",
    "print(type(s))"
   ]
  },
  {
   "cell_type": "code",
   "execution_count": null,
   "metadata": {},
   "outputs": [],
   "source": []
  }
 ],
 "metadata": {
  "kernelspec": {
   "display_name": "Python 3",
   "language": "python",
   "name": "python3"
  },
  "language_info": {
   "codemirror_mode": {
    "name": "ipython",
    "version": 3
   },
   "file_extension": ".py",
   "mimetype": "text/x-python",
   "name": "python",
   "nbconvert_exporter": "python",
   "pygments_lexer": "ipython3",
   "version": "3.8.5"
  }
 },
 "nbformat": 4,
 "nbformat_minor": 4
}
