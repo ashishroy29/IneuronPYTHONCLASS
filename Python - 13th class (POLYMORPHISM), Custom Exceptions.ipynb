{
 "cells": [
  {
   "cell_type": "code",
   "execution_count": null,
   "metadata": {},
   "outputs": [],
   "source": [
    "#Polymorphism : Eg = You are a person and same point of a time, you can be a brother of someone, or father, or mother ,or uncle\n",
    "# You are the same person, but your behaviour or nature will change with respect to a circumstances, That is something called as polymorphism\n",
    "# One single object or one single entity but if its behaviour is going to change with respect to a different situation, different different environment, that is called as polymorphism"
   ]
  },
  {
   "cell_type": "code",
   "execution_count": null,
   "metadata": {},
   "outputs": [],
   "source": [
    "# Polymorphism - Poly means Multiple, morphism means form, in general it basically means multiple form, when one object will start representing"
   ]
  },
  {
   "cell_type": "code",
   "execution_count": null,
   "metadata": {},
   "outputs": [],
   "source": [
    "def test(a,b):\n",
    "    return a + b"
   ]
  },
  {
   "cell_type": "code",
   "execution_count": null,
   "metadata": {},
   "outputs": [],
   "source": [
    "test(3,4) # here we are getting an addition operation"
   ]
  },
  {
   "cell_type": "code",
   "execution_count": null,
   "metadata": {},
   "outputs": [],
   "source": [
    "test(\"sudh\", \"kumar\") # here we are getting a concatination"
   ]
  },
  {
   "cell_type": "code",
   "execution_count": null,
   "metadata": {},
   "outputs": [],
   "source": [
    "# so what we need to understand is that the behaviour is getting changed basis on the different input which we are providing\n",
    "# This is what is called as polymorphism"
   ]
  },
  {
   "cell_type": "code",
   "execution_count": null,
   "metadata": {},
   "outputs": [],
   "source": [
    "#Facebook, Instagram Stories Example:"
   ]
  },
  {
   "cell_type": "code",
   "execution_count": null,
   "metadata": {},
   "outputs": [],
   "source": [
    "class insta :\n",
    "    def share_stories(self):\n",
    "        print(\"This will share my insta stories\")\n",
    "        \n",
    "class facebook :\n",
    "    def share_stories(self):\n",
    "        print(\"This will share my facebook stories\")"
   ]
  },
  {
   "cell_type": "code",
   "execution_count": null,
   "metadata": {},
   "outputs": [],
   "source": [
    "def sharestories(app):\n",
    "    app.share_stories()"
   ]
  },
  {
   "cell_type": "code",
   "execution_count": null,
   "metadata": {},
   "outputs": [],
   "source": [
    "i = insta()\n",
    "f = facebook()"
   ]
  },
  {
   "cell_type": "code",
   "execution_count": null,
   "metadata": {},
   "outputs": [],
   "source": [
    "sharestories(i)"
   ]
  },
  {
   "cell_type": "code",
   "execution_count": null,
   "metadata": {},
   "outputs": [],
   "source": [
    "sharestories(f)"
   ]
  },
  {
   "cell_type": "code",
   "execution_count": null,
   "metadata": {},
   "outputs": [],
   "source": [
    "class social_media:\n",
    "    def share_stories(self):\n",
    "        print(\"Share a story\")\n",
    "    def upload_pic(self):\n",
    "        print(\"This will help you to upload picture on social media\")\n",
    "\n",
    "class facebook(social_media):\n",
    "    def share_stories(self):\n",
    "        print(\"This is a function for sharing an story for facebook\")\n",
    "        \n",
    "class insta(social_media):\n",
    "    def share_stories(self):\n",
    "        print(\"This will print a story from insta\")\n"
   ]
  },
  {
   "cell_type": "code",
   "execution_count": null,
   "metadata": {},
   "outputs": [],
   "source": [
    "f = facebook()\n",
    "i = insta()"
   ]
  },
  {
   "cell_type": "code",
   "execution_count": null,
   "metadata": {},
   "outputs": [],
   "source": [
    "f.share_stories()"
   ]
  },
  {
   "cell_type": "code",
   "execution_count": null,
   "metadata": {},
   "outputs": [],
   "source": [
    "i.share_stories()"
   ]
  },
  {
   "cell_type": "code",
   "execution_count": null,
   "metadata": {},
   "outputs": [],
   "source": [
    "# if it is called by one object the nature will be different\n",
    "# if it is called by another object the nature will be different"
   ]
  },
  {
   "cell_type": "markdown",
   "metadata": {},
   "source": [
    "# How to create your own exception class"
   ]
  },
  {
   "cell_type": "code",
   "execution_count": null,
   "metadata": {},
   "outputs": [],
   "source": [
    "class test(Exception):\n",
    "    def __init__(self, msg) :\n",
    "        self.msg = msg"
   ]
  },
  {
   "cell_type": "code",
   "execution_count": null,
   "metadata": {},
   "outputs": [],
   "source": [
    "try:\n",
    "    raise(test(\"This is my own exception class\"))\n",
    "except test as t:\n",
    "    print(t)"
   ]
  },
  {
   "cell_type": "code",
   "execution_count": null,
   "metadata": {},
   "outputs": [],
   "source": [
    "try:\n",
    "    raise(test(\"This is my own exception class\"))\n",
    "except test as t :\n",
    "    print(t)"
   ]
  },
  {
   "cell_type": "code",
   "execution_count": null,
   "metadata": {},
   "outputs": [],
   "source": [
    "class test(Exception): #Here we have inherited Exception class\n",
    "    def __init__(self, msg , myval) :\n",
    "        self.msg = msg\n",
    "        self.myval = myval"
   ]
  },
  {
   "cell_type": "code",
   "execution_count": null,
   "metadata": {},
   "outputs": [],
   "source": [
    "try:\n",
    "    raise(test(\"This is my own exception class\", \"ahsdjasdh\"))\n",
    "except test as t:\n",
    "    print(t)"
   ]
  },
  {
   "cell_type": "code",
   "execution_count": null,
   "metadata": {},
   "outputs": [],
   "source": [
    "try:\n",
    "    raise(test(\"This is my own exception class\" , 'daslkhdasj'))\n",
    "except test as t :\n",
    "    print(t)"
   ]
  },
  {
   "cell_type": "code",
   "execution_count": null,
   "metadata": {},
   "outputs": [],
   "source": [
    "try:\n",
    "    raise(test(\"This is my own exception class\" , 5))\n",
    "except test as t :\n",
    "    print(t)"
   ]
  },
  {
   "cell_type": "code",
   "execution_count": null,
   "metadata": {},
   "outputs": [],
   "source": [
    "try:\n",
    "    raise(test(\"This is my own exception class\", \"zz\"))\n",
    "    5/0\n",
    "except test as t :\n",
    "    print(t)"
   ]
  },
  {
   "cell_type": "markdown",
   "metadata": {},
   "source": [
    "# TASKS"
   ]
  },
  {
   "cell_type": "code",
   "execution_count": null,
   "metadata": {},
   "outputs": [],
   "source": [
    "# Q1. Create your own class to acheive multiple level, multilevel inheritence\n",
    "# Q2. Create your own class to represent polymorphism\n",
    "# Q3. Create your own class for customer exception\n",
    "# Q4. Create your own class to acheive incapsulation\n",
    "# Q5. Create your own class to acheive over loading and overriding"
   ]
  },
  {
   "cell_type": "code",
   "execution_count": null,
   "metadata": {},
   "outputs": [],
   "source": [
    "#Q1. #Multiplelevel Inheritance\n",
    "\n",
    "#parent Class1\n",
    "class Batch_number:\n",
    "    batchnumber = \"\"\n",
    "    def batch(self):\n",
    "        print(self.batchnumber)\n",
    "\n",
    "#parent Class2\n",
    "class course_name:\n",
    "    cname = \"\"\n",
    "    def course_name(self):\n",
    "        print(self.cname)\n",
    "        \n",
    "#Child Class\n",
    "class Students(Batch_number,course_name): #Multiclass inheritance\n",
    "    def deets(self):\n",
    "        print(\"Batch : \", self.batchnumber)\n",
    "        print(\"course : \", self.cname)\n",
    "        \n",
    "#Child Class code\n",
    "s1 = Students()\n",
    "s1.batchnumber = \"2\"\n",
    "s1.cname = \"FSDS\"\n",
    "s1.deets()"
   ]
  },
  {
   "cell_type": "code",
   "execution_count": null,
   "metadata": {},
   "outputs": [],
   "source": [
    "class ineuron:\n",
    "    def class12(self):\n",
    "        print(\"Class is going to start from 10 AM\")\n",
    "        \n",
    "class oneneuron:\n",
    "    def online_class(self):\n",
    "        print(\"No Offline classes available\")\n",
    "        \n",
    "i = ineuron()\n",
    "o = oneneuron()"
   ]
  },
  {
   "cell_type": "code",
   "execution_count": null,
   "metadata": {},
   "outputs": [],
   "source": [
    "i.class12()"
   ]
  },
  {
   "cell_type": "code",
   "execution_count": null,
   "metadata": {},
   "outputs": [],
   "source": [
    "class xyz:\n",
    "    def __init__(self,a,b,c):\n",
    "        self.a = a\n",
    "        self.b = b\n",
    "        self.c = c\n",
    "    \n",
    "    def test(self):\n",
    "        print(\"This is my xyz class\")\n",
    "        \n",
    "        \n",
    "class xyz1(xyz):\n",
    "    def test1(self):\n",
    "        print(\"This sis my method of xyz1 class\")\n",
    "\n",
    "class xyz2(xyz1):\n",
    "    def test2(self):\n",
    "        print(\"method of xyz2 class\")"
   ]
  },
  {
   "cell_type": "code",
   "execution_count": null,
   "metadata": {},
   "outputs": [],
   "source": [
    "n = xyz1(1,2,3)"
   ]
  },
  {
   "cell_type": "code",
   "execution_count": null,
   "metadata": {},
   "outputs": [],
   "source": [
    "n.test1()"
   ]
  },
  {
   "cell_type": "code",
   "execution_count": null,
   "metadata": {},
   "outputs": [],
   "source": [
    "m = xyz2(1,2,3)"
   ]
  },
  {
   "cell_type": "code",
   "execution_count": null,
   "metadata": {},
   "outputs": [],
   "source": [
    "m.test2()"
   ]
  },
  {
   "cell_type": "code",
   "execution_count": 1,
   "metadata": {},
   "outputs": [
    {
     "name": "stdout",
     "output_type": "stream",
     "text": [
      "Enter First Number1\n",
      "Enter Second Number0\n",
      "division by zero\n"
     ]
    }
   ],
   "source": [
    "#\n",
    "class division_by_5(Exception):\n",
    "    def __init__ (self,msg):\n",
    "        self.msg = msg\n",
    "\n",
    "try:\n",
    "    a = int(input(\"Enter First Number\"))\n",
    "    b = int(input(\"Enter Second Number\"))\n",
    "    if b == 5:\n",
    "        raise division_by_5(\"Division by 5 error\")\n",
    "except ValueError as msg:\n",
    "    print(msg)\n",
    "except ZeroDivisionError as msg:\n",
    "    print(msg)\n",
    "except division_by_5 as msg:\n",
    "    print(msg)\n",
    "else:\n",
    "    try:\n",
    "        result = a/b\n",
    "        print(result)\n",
    "    except Exception as e:\n",
    "        print(e)"
   ]
  },
  {
   "cell_type": "code",
   "execution_count": null,
   "metadata": {},
   "outputs": [],
   "source": [
    "#Multilevel\n",
    "\n",
    "class test1:\n",
    "    def a(self):\n",
    "        print(\"Inside test1...\")\n",
    "\n",
    "class test2(test1):\n",
    "    def b(self):\n",
    "        print(\"Inside test2...\")\n",
    "        \n",
    "class test3(test2):\n",
    "    def c(self):\n",
    "        print(\"Inside test3...\")\n",
    "        \n",
    "t = test3()\n",
    "t.a()\n",
    "t.b()\n",
    "t.c()"
   ]
  },
  {
   "cell_type": "code",
   "execution_count": null,
   "metadata": {},
   "outputs": [],
   "source": [
    "class Employee:\n",
    "    def __init__(self,name,salary,project):\n",
    "        self.name = name\n",
    "        self.salary = salary\n",
    "        self.project = project\n",
    "    \n",
    "    def show(self):\n",
    "        print(\"Name : \", self.name, \"Salary :\", self.salary)\n",
    "    \n",
    "    def work(self):\n",
    "        print(self.name, \"is working on\", self.project)\n",
    "        \n",
    "emp = Employee(\"Ashish\",232323,\"NLP\")"
   ]
  },
  {
   "cell_type": "code",
   "execution_count": null,
   "metadata": {},
   "outputs": [],
   "source": [
    "emp.show()\n",
    "emp.work()"
   ]
  },
  {
   "cell_type": "code",
   "execution_count": null,
   "metadata": {},
   "outputs": [],
   "source": [
    "class class1:\n",
    "    \n",
    "    def __init__(self,a,b,c):\n",
    "        self.a = a\n",
    "        self.b = b\n",
    "        self.c = c\n",
    "        \n",
    "    def test(self):\n",
    "        print(\"This is method of class class1\")\n",
    "        \n",
    "class class2:\n",
    "    \n",
    "    def __init__(self,p,q,v):\n",
    "        self.p = p\n",
    "        self.v = v\n",
    "        self.q = q\n",
    "        \n",
    "    def test1(self):\n",
    "        print(\"This is method of class class2\")\n",
    "        \n",
    "class child(class1,class2):\n",
    "    def __init__(self,*args,**kwargs):\n",
    "        class1.__init__(self,*args)\n",
    "        class2.__init__(self,**kwargs)"
   ]
  },
  {
   "cell_type": "code",
   "execution_count": null,
   "metadata": {},
   "outputs": [],
   "source": [
    "#Polymorphism\n",
    "\n",
    "class test1:\n",
    "    def a(self):\n",
    "        return \"test1...\"\n",
    "    \n",
    "class test2:\n",
    "    def a(self):\n",
    "        return \"test2...\"\n",
    "    \n",
    "def poly(obj):\n",
    "    print(obj.a())\n",
    "    \n",
    "t1 = test1()\n",
    "t2 = test2()\n",
    "\n",
    "poly(t1)\n",
    "poly(t2)"
   ]
  },
  {
   "cell_type": "code",
   "execution_count": null,
   "metadata": {},
   "outputs": [],
   "source": [
    "class apple:\n",
    "    def devices(self):\n",
    "        print(\"Iphone, Imac, airpods\")\n",
    "\n",
    "class mi(apple):\n",
    "    def devices(self):\n",
    "        print(\"Flagship Mobile, Laptop\")\n",
    "        \n",
    "class dell(mi):\n",
    "    def devices(self):\n",
    "        print(\"Flagship laptops\")"
   ]
  },
  {
   "cell_type": "code",
   "execution_count": null,
   "metadata": {},
   "outputs": [],
   "source": [
    "class parent1:\n",
    "    def __init__(self,a,b):\n",
    "        self.a = a\n",
    "        self.b = b\n",
    "        \n",
    "    def test_x(self):\n",
    "        print(\"this is a method inside parent_1 class\")\n",
    "        \n",
    "class parent2:\n",
    "    def __init__(self,c,d):\n",
    "        self.c = c\n",
    "        self.d = d\n",
    "        \n",
    "    def test_y(self):\n",
    "        print(\"This is a method inside parent_2 class\")\n",
    "        \n",
    "class child1(parent1,parent2):\n",
    "    def __init__(self,*args,**kwargs):\n",
    "        parent1.__init__(self,*args)\n",
    "        parent2.__init__(self,**kwargs)\n",
    "    \n",
    "    def test_z(self):\n",
    "        print(\"This is a method inside child class\")\n",
    "        \n",
    "class child2(child1):\n",
    "    def test_1(self):\n",
    "        print(\"This is a method inside child_2 class\")"
   ]
  },
  {
   "cell_type": "code",
   "execution_count": null,
   "metadata": {},
   "outputs": [],
   "source": [
    "class class1:\n",
    "    \n",
    "    def __init__(self,a,b,c):\n",
    "        self.a = a\n",
    "        self.b = b\n",
    "        self.c = c\n",
    "        \n",
    "    def test(self):\n",
    "        print(\"This is method of class1\")\n",
    "        \n",
    "class class2(class1):\n",
    "    \n",
    "    def test1(self):\n",
    "        print(\"This is a method of class class2\")\n",
    "        \n",
    "        \n",
    "class class3(class2):\n",
    "    \n",
    "    def test2(self):\n",
    "        print(\"This is a method of class class 3\")"
   ]
  },
  {
   "cell_type": "code",
   "execution_count": null,
   "metadata": {},
   "outputs": [],
   "source": [
    "# 1 Multiple\n",
    "class operation1:\n",
    "    def __init__ (self,a,b,c):\n",
    "        self.a = a\n",
    "        self.b = b\n",
    "        self.c = c\n",
    "        \n",
    "    def add(self):\n",
    "        return (self.a + self.b + self.c)\n",
    "    \n",
    "    def desc(self):\n",
    "        print(\"For Addition\")\n",
    "        \n",
    "        \n",
    "class operation2:\n",
    "    def __init__(self,x,y,z):\n",
    "        self.x = x\n",
    "        self.y = y\n",
    "        self.z = z\n",
    "        \n",
    "        \n",
    "    def multiply(self):\n",
    "        return (self.x*self.y*self.z)\n",
    "    \n",
    "    \n",
    "    def desc(self):\n",
    "        print(\"For Multiplication\")\n",
    "        \n",
    "class operation(operation1,operation2):\n",
    "    def __init__(self,*args,**kwargs):\n",
    "        operation1.__init__(self,*args)\n",
    "        operation2.__init__(self,**kwargs)"
   ]
  },
  {
   "cell_type": "code",
   "execution_count": null,
   "metadata": {},
   "outputs": [],
   "source": [
    "class Phones:\n",
    "    def __init__ (self, brand , model , price) -> None:\n",
    "        self.brand = brand\n",
    "        self.model = model\n",
    "        self.price = price\n",
    "        \n",
    "        \n",
    "    def specs(self):\n",
    "        return f\"\\nThe brand of the phone is {self.brand} and the price is {self.price} \\n\"\n",
    "    \n",
    "    def typeofphone(self):\n",
    "        if self.price < 25000:\n",
    "            return \"This is a budget phone\"\n",
    "        else :\n",
    "            return \"This is a midrange phone\"\n",
    "        \n",
    "class SmartPhone(Phones):\n",
    "    def __init__(self,brand,model,price,ram,storage) -> None:\n",
    "        super().__init__(brand,model,price)\n",
    "        self.ram = ram\n",
    "        self.storage = storage\n",
    "        \n",
    "class FlagshipPhones(SmartPhone):\n",
    "    def __init__(self,brand,model,price,ram,storage,frontcamera,backcamera,display) -> None:\n",
    "        super().__init__(brand,model,price,ram,storage)\n",
    "        self.frontcamera = frontcamera\n",
    "        self.backcamera = backcamera\n",
    "        self.display = display"
   ]
  },
  {
   "cell_type": "code",
   "execution_count": null,
   "metadata": {},
   "outputs": [],
   "source": [
    "#Polymorphism\n",
    "class india():\n",
    "    def capital(self):\n",
    "        print(\"New Delhi is the capital of india\")\n",
    "        \n",
    "    def language(self):\n",
    "        print(\"Hindi is the most widely spoken language of india\")\n",
    "        \n",
    "    def dev(self):\n",
    "        print(\"India is a Developing Country\")\n",
    "        \n",
    "class Bangladesh():\n",
    "    def capital(self):\n",
    "        print(\"Dhaka is the capital of Bangladesh\")\n",
    "        \n",
    "    def language(self):\n",
    "        print(\"Bengali is the primary language of Bangladesh\")\n",
    "        \n",
    "    def dev(self):\n",
    "        print(\"BNG is a developed country\")\n",
    "        \n",
    "obj_ind = india()\n",
    "obj_Ban = Bangladesh()\n",
    "\n",
    "for country in (obj_ind, obj_Ban):\n",
    "    country.capital()\n",
    "    country.language()\n",
    "    country.dev()"
   ]
  },
  {
   "cell_type": "code",
   "execution_count": null,
   "metadata": {},
   "outputs": [],
   "source": [
    "#Multi class inheritance and Polymorphism\n",
    "\n",
    "class Vertebrates:\n",
    "    def printmsg(self):\n",
    "        print(\"I have a spinal cord\")\n",
    "        \n",
    "        \n",
    "class Animal:\n",
    "    def makeSound(self):\n",
    "        print(\"Make Sound\")\n",
    "        \n",
    "class Dog(Animal,Vertebrates):\n",
    "    def makeSound(self):\n",
    "        print(\"woof\")\n",
    "        \n",
    "class Labrador(Dog):\n",
    "    pass\n",
    "\n",
    "class Cat(Animal,Vertebrates):\n",
    "    def makeSound(self):\n",
    "        print(\"Meows\")\n",
    "        \n",
    "\n",
    "c = Cat()\n",
    "c.makeSound()\n",
    "c.printmsg()\n",
    "\n",
    "l = Labrador()\n",
    "l.makeSound()\n",
    "l.printmsg()\n",
    "    "
   ]
  },
  {
   "cell_type": "code",
   "execution_count": null,
   "metadata": {},
   "outputs": [],
   "source": [
    "# EXAMPLE OF STATIC ARGUMENT\n",
    "#Q1. #Multiplelevel Inheritance\n",
    "\n",
    "#parent Class1\n",
    "class Batch_number:\n",
    "    batchnumber = \"\" #A person has created a static variable\n",
    "    \n",
    "    def __init__(self,a,b,c):\n",
    "        self.a = a\n",
    "        self.b = b\n",
    "        self.c = c\n",
    "    \n",
    "    def batch(self):\n",
    "        print(self.batchnumber)\n",
    "\n",
    "#parent Class2\n",
    "class course_name:\n",
    "    cname = \"\"\n",
    "    def course_name(self):\n",
    "        print(self.cname)\n",
    "        \n",
    "#Child Class\n",
    "class Students(Batch_number,course_name): #Multiclass inheritance\n",
    "    def deets(self):\n",
    "        print(\"Batch : \", self.batchnumber)\n",
    "        print(\"course : \", self.cname)\n",
    "        \n",
    "#Child Class code\n",
    "s1 = Students(1,2,3)\n",
    "s1.batchnumber = \"2\"\n",
    "s1.cname = \"FSDS\"\n",
    "s1.deets()"
   ]
  },
  {
   "cell_type": "code",
   "execution_count": null,
   "metadata": {},
   "outputs": [],
   "source": [
    "# Static Variable = Static variable is nothing but a kind of a variable which belongs to a classes also and not just to a object\n",
    "# This is aslo called as class variable\n",
    "# Object variable / Instance Variable."
   ]
  },
  {
   "cell_type": "code",
   "execution_count": null,
   "metadata": {},
   "outputs": [],
   "source": [
    "#How to access batch number\n",
    "\n",
    "bn = Batch_number(4,5,6)"
   ]
  },
  {
   "cell_type": "code",
   "execution_count": null,
   "metadata": {},
   "outputs": [],
   "source": [
    "bn.batchnumber\n",
    "bn.a\n",
    "bn.b"
   ]
  },
  {
   "cell_type": "code",
   "execution_count": null,
   "metadata": {},
   "outputs": [],
   "source": [
    "bn1 = Batch_number(1,2,3)\n",
    "bn1.a"
   ]
  },
  {
   "cell_type": "code",
   "execution_count": null,
   "metadata": {},
   "outputs": [],
   "source": [
    "bn1.batchnumber"
   ]
  },
  {
   "cell_type": "code",
   "execution_count": null,
   "metadata": {},
   "outputs": [],
   "source": [
    "Batch_number.batchnumber"
   ]
  },
  {
   "cell_type": "code",
   "execution_count": null,
   "metadata": {},
   "outputs": [],
   "source": [
    "#There are 2 ways for accessing a static variable, 1 is through objects\n",
    "# 2nd one is through calling the class itself"
   ]
  },
  {
   "cell_type": "code",
   "execution_count": null,
   "metadata": {},
   "outputs": [],
   "source": [
    "bn1.batchnumber"
   ]
  },
  {
   "cell_type": "code",
   "execution_count": null,
   "metadata": {},
   "outputs": [],
   "source": [
    "bn1.batchnumber = \"ash\" #so lets modify bn1 object."
   ]
  },
  {
   "cell_type": "code",
   "execution_count": null,
   "metadata": {},
   "outputs": [],
   "source": [
    "bn1.batchnumber"
   ]
  },
  {
   "cell_type": "code",
   "execution_count": null,
   "metadata": {},
   "outputs": [],
   "source": [
    "bn1.batchnumber"
   ]
  },
  {
   "cell_type": "code",
   "execution_count": null,
   "metadata": {},
   "outputs": [],
   "source": [
    "bn.batchnumber #this is showing blank because we have modified only for bn1 object"
   ]
  },
  {
   "cell_type": "code",
   "execution_count": null,
   "metadata": {},
   "outputs": [],
   "source": [
    "# but when you change the variable calling the class static variable.\n",
    "# for eg : Batch_number.batchnumber then it will change for everything "
   ]
  },
  {
   "cell_type": "code",
   "execution_count": null,
   "metadata": {},
   "outputs": [],
   "source": [
    "Batch_number.batchnumber = \"Kumar\""
   ]
  },
  {
   "cell_type": "code",
   "execution_count": null,
   "metadata": {},
   "outputs": [],
   "source": [
    "bn1 = Batch_number(1,2,3)\n",
    "bn1.a"
   ]
  },
  {
   "cell_type": "code",
   "execution_count": null,
   "metadata": {},
   "outputs": [],
   "source": [
    "bn1.batchnumber"
   ]
  },
  {
   "cell_type": "code",
   "execution_count": null,
   "metadata": {},
   "outputs": [],
   "source": [
    "# whenever we maake changes we make in terms of class number the varible will change\n",
    "# Static Variable\n",
    "# I can provide global values or local values in terms of static vaariables"
   ]
  },
  {
   "cell_type": "markdown",
   "metadata": {},
   "source": [
    "# There is a probability that we can crete  static function"
   ]
  },
  {
   "cell_type": "code",
   "execution_count": null,
   "metadata": {},
   "outputs": [],
   "source": [
    "# @ = is called as decorator"
   ]
  },
  {
   "cell_type": "code",
   "execution_count": null,
   "metadata": {},
   "outputs": [],
   "source": [
    "# EXAMPLE OF STATIC ARGUMENT\n",
    "#Q1. #Multiplelevel Inheritance\n",
    "\n",
    "#parent Class1\n",
    "class Batch_number:\n",
    "    batchnumber = \"\" #A person has created a static variable\n",
    "    \n",
    "    def __init__(self,a,b,c):\n",
    "        self.a = a\n",
    "        self.b = b\n",
    "        self.c = c\n",
    "    \n",
    "    @staticmethod\n",
    "    def batch():\n",
    "        print(self.batchnumber)\n",
    "\n",
    "#parent Class2\n",
    "class course_name:\n",
    "    cname = \"\"\n",
    "    def course_name(self):\n",
    "        print(self.cname)\n",
    "        \n",
    "#Child Class\n",
    "class Students(Batch_number,course_name): #Multiclass inheritance\n",
    "    def deets(self):\n",
    "        print(\"Batch : \", self.batchnumber)\n",
    "        print(\"course : \", self.cname)\n",
    "        \n",
    "#Child Class code\n",
    "s1 = Students(1,2,3)\n",
    "s1.batchnumber = \"2\"\n",
    "s1.cname = \"FSDS\"\n",
    "s1.deets()"
   ]
  },
  {
   "cell_type": "markdown",
   "metadata": {},
   "source": [
    "# DECORATOR: \n",
    "#Decorator are nothing but special method or special function available inside in python or in any languages which will try to give a particular position to a varible or to   method or to a class\n",
    "\n",
    "#There is a method which is already created for static method\n",
    "\n",
    "#Someone has created a code stating that, ok so whereever you are going to use this symbol or whereever you are going to use @staticmethod, system is supposed to consider this as a class function and not as a instance function\n",
    "\n",
    "#When i am going to use self:\n",
    "#can i say that this function belongs to a object, so whenever i create an object i will be able to call this functions from this class\n",
    "#Self is a part of your instance or the class which you have created\n",
    "\n",
    "\n",
    "#But lets suppose i dont want to treat a certain function as an instance\n",
    "#IF i want to treat this function which belongs to a class directly\n",
    "#with the help of class i will be directly able to call it, so in that case what am i supposed to do?\n",
    "#in that case i will just remove self from the above"
   ]
  },
  {
   "cell_type": "code",
   "execution_count": null,
   "metadata": {},
   "outputs": [],
   "source": [
    "# EXAMPLE OF STATIC ARGUMENT\n",
    "#Q1. #Multiplelevel Inheritance\n",
    "\n",
    "#parent Class1\n",
    "class Batch_number:\n",
    "    batchnumber = \"\" #A person has created a static variable\n",
    "    \n",
    "    def __init__(self,a,b,c):\n",
    "        self.a = a\n",
    "        self.b = b\n",
    "        self.c = c\n",
    "    \n",
    "    #@staticmethod\n",
    "    def batch(self):\n",
    "        print(self.batchnumber)\n",
    "\n",
    "#parent Class2\n",
    "class course_name:\n",
    "    cname = \"\"\n",
    "    def course_name(self):\n",
    "        print(self.cname)\n",
    "        \n",
    "#Child Class\n",
    "class Students(Batch_number,course_name): #Multiclass inheritance\n",
    "    def deets(self):\n",
    "        print(\"Batch : \", self.batchnumber)\n",
    "        print(\"course : \", self.cname)\n",
    "        \n",
    "#Child Class code\n",
    "s1 = Students(1,2,3)\n",
    "s1.batchnumber = \"2\"\n",
    "s1.cname = \"FSDS\"\n",
    "s1.deets()"
   ]
  },
  {
   "cell_type": "code",
   "execution_count": null,
   "metadata": {},
   "outputs": [],
   "source": [
    "class Batch_number:\n",
    "    batchnumber = \"\" #A person has created a static variable\n",
    "    \n",
    "    def __init__(self,a,b,c):\n",
    "        self.a = a\n",
    "        self.b = b\n",
    "        self.c = c\n",
    "    \n",
    "    #@staticmethod\n",
    "    def batch():\n",
    "        print(self.batchnumber)"
   ]
  },
  {
   "cell_type": "code",
   "execution_count": null,
   "metadata": {},
   "outputs": [],
   "source": [
    "bn = Batch_number(1,2,3)"
   ]
  },
  {
   "cell_type": "code",
   "execution_count": null,
   "metadata": {},
   "outputs": [],
   "source": [
    "bn.batch() #it gives out an error, we are supposed to give an self keyword, if it belongs to instance"
   ]
  },
  {
   "cell_type": "code",
   "execution_count": null,
   "metadata": {},
   "outputs": [],
   "source": [
    "class Batch_number:\n",
    "    batchnumber = \"\" #A person has created a static variable\n",
    "    \n",
    "    def __init__(self,a,b,c):\n",
    "        self.a = a\n",
    "        self.b = b\n",
    "        self.c = c\n",
    "    \n",
    "    @staticmethod\n",
    "    def batch():\n",
    "        print(\"self.batchnumber\")"
   ]
  },
  {
   "cell_type": "code",
   "execution_count": null,
   "metadata": {},
   "outputs": [],
   "source": [
    "Batch_number.batch()"
   ]
  },
  {
   "cell_type": "code",
   "execution_count": null,
   "metadata": {},
   "outputs": [],
   "source": [
    "#Decorators : Decorators are nothing but a specially designed fucntion, which is going to help other functions or instances behave as per the definitions\n",
    "# This is something called as decorator"
   ]
  },
  {
   "cell_type": "code",
   "execution_count": null,
   "metadata": {},
   "outputs": [],
   "source": [
    "class Batch_number:\n",
    "    batchnumber = \"FSDS\" #A person has created a static variable\n",
    "    \n",
    "    def __init__(self,a,b,c):\n",
    "        self.a = a\n",
    "        self.b = b\n",
    "        self.c = c\n",
    "    \n",
    "    @staticmethod\n",
    "    def batch():\n",
    "        print(\"self.batchnumber\")"
   ]
  },
  {
   "cell_type": "code",
   "execution_count": null,
   "metadata": {},
   "outputs": [],
   "source": [
    "Batch_number.batchnumber"
   ]
  },
  {
   "cell_type": "code",
   "execution_count": null,
   "metadata": {},
   "outputs": [],
   "source": [
    "class Batch_number:\n",
    "    batchnumber = \"FSDS\" #A person has created a static variable\n",
    "    \n",
    "    def __init__(self,a,b,c):\n",
    "        self.a = a\n",
    "        self.b = b\n",
    "        self.c = c\n",
    "    \n",
    "    @staticmethod\n",
    "    def batch():\n",
    "        print(\"batch2\")\n",
    "        \n",
    "    def batch1(self):\n",
    "        print(\"batch1\")"
   ]
  },
  {
   "cell_type": "code",
   "execution_count": null,
   "metadata": {},
   "outputs": [],
   "source": [
    "z = Batch_number(1,2,3)"
   ]
  },
  {
   "cell_type": "code",
   "execution_count": null,
   "metadata": {},
   "outputs": [],
   "source": [
    "z.batch1()"
   ]
  },
  {
   "cell_type": "code",
   "execution_count": null,
   "metadata": {},
   "outputs": [],
   "source": [
    "#What is the difference between batch and batch1"
   ]
  },
  {
   "cell_type": "code",
   "execution_count": null,
   "metadata": {},
   "outputs": [],
   "source": [
    "Batch_number.batch()"
   ]
  },
  {
   "cell_type": "code",
   "execution_count": null,
   "metadata": {},
   "outputs": [],
   "source": [
    "zz = Batch_number(1,2,3)"
   ]
  },
  {
   "cell_type": "code",
   "execution_count": null,
   "metadata": {},
   "outputs": [],
   "source": [
    "zz.batch1()"
   ]
  },
  {
   "cell_type": "code",
   "execution_count": null,
   "metadata": {},
   "outputs": [],
   "source": [
    "zz.batch()"
   ]
  },
  {
   "cell_type": "code",
   "execution_count": null,
   "metadata": {},
   "outputs": [],
   "source": [
    "# If i dont want to create any sort of dependency with the object, that kind of a function and that kind of a variable if i have to create\n",
    "# If i would like to create a variable whose values will be same for everything\n",
    "# Similary if i want to create a function that will work independently, which is going to work and which does not have any sort of dependencies\n",
    "# With respect to a object creation in that case i can try to use static method at that point of a time."
   ]
  },
  {
   "cell_type": "code",
   "execution_count": null,
   "metadata": {},
   "outputs": [],
   "source": [
    "#Example bank\n",
    "\n",
    "class Accountdetail:\n",
    "    \n",
    "    account_number = \"232323434343\"\n",
    "    \n",
    "    def __init__(self, amount) :\n",
    "        self.amount = amount\n",
    "        \n",
    "    def show_balance(self, deduction) :\n",
    "        self.amount = self.amount - deduction\n",
    "        return self.amount, self.account_number"
   ]
  },
  {
   "cell_type": "code",
   "execution_count": null,
   "metadata": {},
   "outputs": [],
   "source": [
    "acc1 = Accountdetail(232323)"
   ]
  },
  {
   "cell_type": "code",
   "execution_count": null,
   "metadata": {},
   "outputs": [],
   "source": [
    "acc1.show_balance(23123123)"
   ]
  },
  {
   "cell_type": "code",
   "execution_count": 19,
   "metadata": {},
   "outputs": [
    {
     "name": "stdout",
     "output_type": "stream",
     "text": [
      "\n",
      "School Name :  SMC\n"
     ]
    }
   ],
   "source": [
    "class school(Exception):\n",
    "    #static Variable\n",
    "    schoolname=\"\"\n",
    "    def science(self,schoolname):\n",
    "        print(\"School Name : \", schoolname)\n",
    "        \n",
    "    def math(self,x,y):\n",
    "        #x and y are instance Variable, cannot access w/o creating an object\n",
    "        self.x = x\n",
    "        self._y = y\n",
    "        print(\"Task Multiplication\", x*y)\n",
    "        \n",
    "try:\n",
    "    raise(school())\n",
    "except school as s:\n",
    "    print(s)\n",
    "    \n",
    "class subject(school):\n",
    "    def math(self,x,y):\n",
    "        print(\"Task Addition\",x+y)\n",
    "        \n",
    "    def science(self):\n",
    "        print(\"Subject science\")\n",
    "        \n",
    "class chapter(subject):\n",
    "    def chapterOne(self):\n",
    "        print(\"Chapter 1: Life on Earth\")\n",
    "        \n",
    "s = school()\n",
    "u = subject()\n",
    "c = chapter()\n",
    "s.science(\"SMC\")\n",
    "\n",
    "# s.science(\"asda\")\n",
    "# s.math(2,3)\n",
    "# s.math(2,6)\n",
    "# s.chapterOne()"
   ]
  },
  {
   "cell_type": "code",
   "execution_count": 24,
   "metadata": {},
   "outputs": [
    {
     "name": "stdout",
     "output_type": "stream",
     "text": [
      "Calling protected member of base class : 2\n",
      "Calling modified protected member outside class :  3\n",
      "Accessing protected member of obj1 :  3\n",
      "Accessing protected member of obj2 :  2\n"
     ]
    }
   ],
   "source": [
    "#Python Program to Demonstrate protected members\n",
    "\n",
    "#Creating a base class\n",
    "class Base:\n",
    "    def __init__(self):\n",
    "        \n",
    "        #Protecetd Member\n",
    "        self._a = 2\n",
    "        \n",
    "#creating a derived class\n",
    "class Derived(Base):\n",
    "    def __init__(self):\n",
    "        \n",
    "        #Calling connnstructor of\n",
    "        #base clasas\n",
    "        Base.__init__(self)\n",
    "        print(\"Calling protected member of base class :\", self._a)\n",
    "        \n",
    "        #Modify the protected variable:\n",
    "        self._a = 3\n",
    "        print(\"Calling modified protected member outside class : \", self._a)\n",
    "        \n",
    "obj1 = Derived()\n",
    "\n",
    "obj2 = Base()\n",
    "\n",
    "#Calling protected member\n",
    "#Can be accessed but should not be done due to convention\n",
    "print(\"Accessing protected member of obj1 : \", obj1._a)\n",
    "\n",
    "#Accessing the protected variable outside\n",
    "print(\"Accessing protected member of obj2 : \", obj2._a)"
   ]
  },
  {
   "cell_type": "markdown",
   "metadata": {},
   "source": [
    "# ABSTRACTION"
   ]
  },
  {
   "cell_type": "code",
   "execution_count": 27,
   "metadata": {},
   "outputs": [],
   "source": [
    "#Creaating a blueprint, This is just a abstract class, This is not a implementation, its just a abstract class"
   ]
  },
  {
   "cell_type": "code",
   "execution_count": 28,
   "metadata": {},
   "outputs": [],
   "source": [
    "class abc:\n",
    "    pass"
   ]
  },
  {
   "cell_type": "code",
   "execution_count": 32,
   "metadata": {},
   "outputs": [],
   "source": [
    "#Abstraction is nothing but creating a high level blueprint when creating a project.\n",
    "#Assigning it to people who are good at it\n",
    "#later cumstom modification will be done on these using __init__\n",
    "class data_project:\n",
    "    \n",
    "    def read_file(self):\n",
    "        pass\n",
    "    \n",
    "    def validate_filename(self):\n",
    "        pass\n",
    "    \n",
    "    def validate_datatype(self):\n",
    "        pass\n",
    "    \n",
    "    def validate_db_conn(self):\n",
    "        pass\n",
    "    \n",
    "    def create_conn(self):\n",
    "        pass\n",
    "    \n",
    "    def insert_data(self):\n",
    "        pass\n",
    "    \n",
    "    def delete_data(self):\n",
    "        pass\n",
    "    \n",
    "    def update_data(self):\n",
    "        pass\n",
    "    \n",
    "    def perform_stats(self):\n",
    "        pass\n",
    "    \n",
    "    def perform_EDA(self):\n",
    "        pass"
   ]
  },
  {
   "cell_type": "code",
   "execution_count": 33,
   "metadata": {},
   "outputs": [],
   "source": [
    "class db_ops(data_project):\n",
    "    pass"
   ]
  },
  {
   "cell_type": "code",
   "execution_count": 34,
   "metadata": {},
   "outputs": [],
   "source": [
    "#Abstraction : IT is nothing but creating a blue print, and trying to override it, we are tryinng to redifine it, this is called as abstraction"
   ]
  },
  {
   "cell_type": "code",
   "execution_count": 35,
   "metadata": {},
   "outputs": [],
   "source": [
    "#Meaning wise this is the meaninng we are alwasys supposed to understand"
   ]
  },
  {
   "cell_type": "code",
   "execution_count": 37,
   "metadata": {},
   "outputs": [],
   "source": [
    "#This is calling the decorator\n",
    "from abc import abstractmethod\n",
    "class data_project:\n",
    "    \n",
    "    @abstractmethod\n",
    "    def read_file(self):\n",
    "        pass\n",
    "    \n",
    "    def validate_filename(self):\n",
    "        pass\n",
    "    \n",
    "    def validate_datatype(self):\n",
    "        pass\n",
    "    \n",
    "    def validate_db_conn(self):\n",
    "        pass\n",
    "    \n",
    "    def create_conn(self):\n",
    "        pass\n",
    "    \n",
    "    def insert_data(self):\n",
    "        pass\n",
    "    \n",
    "    def delete_data(self):\n",
    "        pass\n",
    "    \n",
    "    def update_data(self):\n",
    "        pass\n",
    "    \n",
    "    def perform_stats(self):\n",
    "        pass\n",
    "    \n",
    "    def perform_EDA(self):\n",
    "        pass"
   ]
  },
  {
   "cell_type": "code",
   "execution_count": 38,
   "metadata": {},
   "outputs": [],
   "source": [
    "#Overloading vs Overriding"
   ]
  },
  {
   "cell_type": "code",
   "execution_count": 54,
   "metadata": {},
   "outputs": [],
   "source": [
    "class test:\n",
    "    def fun(self) :\n",
    "        print(\"this is my sample class\")\n",
    "        \n",
    "    def __str__(self):\n",
    "        return str(\"This is a function called at a time of object print\") #Here we are trying to overload the inbuilt function"
   ]
  },
  {
   "cell_type": "code",
   "execution_count": 55,
   "metadata": {},
   "outputs": [],
   "source": [
    "t = test()"
   ]
  },
  {
   "cell_type": "code",
   "execution_count": 56,
   "metadata": {},
   "outputs": [
    {
     "name": "stdout",
     "output_type": "stream",
     "text": [
      "This is a function called at a time of object print\n"
     ]
    }
   ],
   "source": [
    "print(t) #i  am expecting some kind of a message"
   ]
  },
  {
   "cell_type": "code",
   "execution_count": 57,
   "metadata": {},
   "outputs": [
    {
     "data": {
      "text/plain": [
       "<__main__.test at 0x19770f964c0>"
      ]
     },
     "execution_count": 57,
     "metadata": {},
     "output_type": "execute_result"
    }
   ],
   "source": [
    "t"
   ]
  },
  {
   "cell_type": "code",
   "execution_count": 58,
   "metadata": {},
   "outputs": [],
   "source": [
    "# __init__ we are trying to overload.\n",
    "# __str__ is a function which we are trying to overload (str is nothing but a inbuilt function which will be able to give you any sort of amessages at the point of object call)\n",
    "# __str__ is responsible for overloading a message for your object"
   ]
  },
  {
   "cell_type": "code",
   "execution_count": 60,
   "metadata": {},
   "outputs": [],
   "source": [
    "# __str__ wil overload the actual definnition and give us the custom message which we want\n",
    "# this is used for hexa decimal code to override it"
   ]
  },
  {
   "cell_type": "code",
   "execution_count": null,
   "metadata": {},
   "outputs": [],
   "source": []
  }
 ],
 "metadata": {
  "kernelspec": {
   "display_name": "Python 3",
   "language": "python",
   "name": "python3"
  },
  "language_info": {
   "codemirror_mode": {
    "name": "ipython",
    "version": 3
   },
   "file_extension": ".py",
   "mimetype": "text/x-python",
   "name": "python",
   "nbconvert_exporter": "python",
   "pygments_lexer": "ipython3",
   "version": "3.8.5"
  }
 },
 "nbformat": 4,
 "nbformat_minor": 4
}
