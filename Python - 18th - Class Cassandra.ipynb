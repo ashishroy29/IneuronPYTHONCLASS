{
 "cells": [
  {
   "cell_type": "markdown",
   "metadata": {},
   "source": [
    "# Cassandra"
   ]
  },
  {
   "cell_type": "code",
   "execution_count": 1,
   "metadata": {},
   "outputs": [],
   "source": [
    "# What is cassandra?\n",
    "# how can we use cassandra??\n",
    "# for what purposes, how cassandra is different from the data bases we have already discussed, MySQL or MongoDB or SQL lite\n",
    "# at the end of the day it is very useful"
   ]
  },
  {
   "cell_type": "code",
   "execution_count": 2,
   "metadata": {},
   "outputs": [],
   "source": [
    "#Types of NoSql databases\n",
    "# Mongodb\n",
    "# Cassandra\n",
    "# Influx DB\n",
    "# Big Query table"
   ]
  },
  {
   "cell_type": "code",
   "execution_count": 3,
   "metadata": {},
   "outputs": [],
   "source": [
    "#What is cassandra?\n",
    "# It is a nosql data base(Not only SQL database)"
   ]
  },
  {
   "cell_type": "code",
   "execution_count": 4,
   "metadata": {},
   "outputs": [],
   "source": [
    "# The Restrictions which comes along with SQL Databases are:\n",
    "# It always tries to hold a structured data\n",
    "# Meaning a tabular format of the data it will be able to hold\n",
    "# We have to define a schema before inserting a dataset inside a table \n",
    "# In the future if we have to modify the structure of the table, if i have to insert some sort of a extra columns in my databases\n",
    "# You will not be able to do that, so these are the limitations which comes along with it\n",
    "# This is where NoSql databases comes into picture"
   ]
  },
  {
   "cell_type": "code",
   "execution_count": 5,
   "metadata": {},
   "outputs": [],
   "source": [
    "# Mongodb - These are the datasbases which are document based"
   ]
  },
  {
   "cell_type": "code",
   "execution_count": 6,
   "metadata": {},
   "outputs": [],
   "source": [
    "# There are some databases which are designed for fast search\n",
    "# There are some databases which are designed to work with time stamp based databases\n",
    "# There are some databases which are designed for fast indexing or fast index based search operations\n",
    "# keeping things in the mind people have ended up designing a multiple databases"
   ]
  },
  {
   "cell_type": "code",
   "execution_count": 7,
   "metadata": {},
   "outputs": [],
   "source": [
    "# Cassandra\n",
    "\n",
    "# It was designed by facebook\n",
    "# They also design different different api\n",
    "# cassandra project was made an opensource in the later stage\n",
    "# All the big giants are using cassandra heavily"
   ]
  },
  {
   "cell_type": "code",
   "execution_count": 8,
   "metadata": {},
   "outputs": [],
   "source": [
    "# why is cassandra so popular and why are people using cassandra so extensively?\n",
    "# Scalalability\n",
    "# High availability\n",
    "# Decentralized\n",
    "# Scalable - Horizontal scalable\n",
    "# Durable system\n",
    "# Elastic"
   ]
  },
  {
   "cell_type": "code",
   "execution_count": 9,
   "metadata": {},
   "outputs": [],
   "source": [
    "# horizontal scalability and vertical scalabability video- 35 Minutes"
   ]
  },
  {
   "cell_type": "code",
   "execution_count": 10,
   "metadata": {},
   "outputs": [],
   "source": [
    "# Highavailability - No matter what happens to your system the data should be available 24/7"
   ]
  },
  {
   "cell_type": "code",
   "execution_count": 11,
   "metadata": {},
   "outputs": [],
   "source": [
    "# high availability will be able to be acheived by Fault tolerance - wheneveer you are trying to store a data, automatically\n",
    "# it is trying to replicate a data into a different different cluster or in a different differet data center in a layman terms\n",
    "# Cassandra is a decentralized database\n",
    "# Decentralization - it generally means no single point of failure, or there is no network bottle neck we will be able to find\n",
    "# Durable - if one cluster goes down, no issue we have a clone in another system, which will help in recovering the data\n",
    "# Elastic - Lineraly 2 system will try to serve to my request by this there is a shared computation\n",
    "# The latency is decreased, read and write operation is going to be very very fast\n",
    "# The complexcity is going to decrease with no interruption and downtime with a particular application\n",
    "# This is something that you will be able to findout\n",
    "# support for cassandra is widely available\n",
    "# it was created by facebook in the later stage\n",
    "# it was a top apache opensource project\n",
    "# There is a huge amount of community support you will be able to findout\n",
    "# This is the reason, cassandra is one of the most powerful database NoSQl you will be able to find in the market"
   ]
  },
  {
   "cell_type": "code",
   "execution_count": 12,
   "metadata": {},
   "outputs": [],
   "source": [
    "#https://www.datastax.com/"
   ]
  },
  {
   "cell_type": "code",
   "execution_count": 13,
   "metadata": {},
   "outputs": [],
   "source": [
    "# Login to cassandra , create a serverless database"
   ]
  },
  {
   "cell_type": "code",
   "execution_count": 14,
   "metadata": {},
   "outputs": [
    {
     "name": "stdout",
     "output_type": "stream",
     "text": [
      "Requirement already satisfied: cassandra-driver in c:\\users\\ashish\\anaconda3\\lib\\site-packages (3.25.0)\n",
      "Requirement already satisfied: six>=1.9 in c:\\users\\ashish\\anaconda3\\lib\\site-packages (from cassandra-driver) (1.15.0)\n",
      "Requirement already satisfied: geomet<0.3,>=0.1 in c:\\users\\ashish\\anaconda3\\lib\\site-packages (from cassandra-driver) (0.2.1.post1)\n",
      "Requirement already satisfied: click in c:\\users\\ashish\\anaconda3\\lib\\site-packages (from geomet<0.3,>=0.1->cassandra-driver) (7.1.2)\n"
     ]
    }
   ],
   "source": [
    "!pip install cassandra-driver"
   ]
  },
  {
   "cell_type": "code",
   "execution_count": null,
   "metadata": {},
   "outputs": [],
   "source": []
  },
  {
   "cell_type": "code",
   "execution_count": null,
   "metadata": {},
   "outputs": [],
   "source": []
  },
  {
   "cell_type": "code",
   "execution_count": null,
   "metadata": {},
   "outputs": [],
   "source": []
  },
  {
   "cell_type": "code",
   "execution_count": null,
   "metadata": {},
   "outputs": [],
   "source": []
  },
  {
   "cell_type": "code",
   "execution_count": null,
   "metadata": {},
   "outputs": [],
   "source": []
  },
  {
   "cell_type": "code",
   "execution_count": null,
   "metadata": {},
   "outputs": [],
   "source": []
  },
  {
   "cell_type": "code",
   "execution_count": null,
   "metadata": {},
   "outputs": [],
   "source": []
  }
 ],
 "metadata": {
  "kernelspec": {
   "display_name": "Python 3",
   "language": "python",
   "name": "python3"
  },
  "language_info": {
   "codemirror_mode": {
    "name": "ipython",
    "version": 3
   },
   "file_extension": ".py",
   "mimetype": "text/x-python",
   "name": "python",
   "nbconvert_exporter": "python",
   "pygments_lexer": "ipython3",
   "version": "3.8.5"
  }
 },
 "nbformat": 4,
 "nbformat_minor": 4
}
