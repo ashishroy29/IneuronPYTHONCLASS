{
 "cells": [
  {
   "cell_type": "code",
   "execution_count": 2,
   "metadata": {},
   "outputs": [],
   "source": [
    "#SQL Lite\n",
    "\n",
    "# we were able to understand what is SQL and NoSQL databases\n",
    "# todays class its SQl Lite\n",
    "# it is also a database, it is a different kind of a database we will be able to find out application wise"
   ]
  },
  {
   "cell_type": "code",
   "execution_count": 3,
   "metadata": {},
   "outputs": [],
   "source": [
    "# We will be talking about SQL Lite, where can we use SQL lite\n",
    "# what are the applications of SQL lite\n",
    "# Syntax for SQL lite is approximately close to SQL"
   ]
  },
  {
   "cell_type": "code",
   "execution_count": 4,
   "metadata": {},
   "outputs": [],
   "source": [
    "# SQL Lite is nothing but a database"
   ]
  },
  {
   "cell_type": "code",
   "execution_count": 5,
   "metadata": {},
   "outputs": [],
   "source": [
    "# SQL is kind of a database where we have to create a schema before hand and incase of mongodb there is no need\n",
    "# To create a schema, you can dump the data as it is\n",
    "# SQL the data will be stored in the form of tables\n",
    "# Mongo DB the data will be stored in the form of a collection or document json document\n",
    "# if we have structured data we will use SQL\n",
    "# if we have unstructured data we will choose mongo db"
   ]
  },
  {
   "cell_type": "code",
   "execution_count": 6,
   "metadata": {},
   "outputs": [],
   "source": [
    "#where does sql lite come into picture?\n",
    "\n",
    "#if i am trying to build a mobile application\n",
    "#if i am trying to build a desktop application\n",
    "#or i am trying to build a lightweighted application from some of the devices\n",
    "#Everywhere we have to store a data.\n",
    "# easiest way to store the data is using txt file system or json or xml"
   ]
  },
  {
   "cell_type": "code",
   "execution_count": 7,
   "metadata": {},
   "outputs": [],
   "source": [
    "#Lets suppose i am trying to do a database kind of an operation inside mysystem only\n",
    "#What is the database we will choose, in that case it is SQLite database\n",
    "#SQL lite is a inmemory database"
   ]
  },
  {
   "cell_type": "code",
   "execution_count": 8,
   "metadata": {},
   "outputs": [],
   "source": [
    "#MySQL and mongodb will be available over a cloud but this SQL lite will be available inmemory"
   ]
  },
  {
   "cell_type": "code",
   "execution_count": 9,
   "metadata": {},
   "outputs": [],
   "source": [
    "#it will try to create a file such as a txt file system"
   ]
  },
  {
   "cell_type": "code",
   "execution_count": 10,
   "metadata": {},
   "outputs": [],
   "source": [
    "#you can store the data in your ram using sql lite, you can store the data inside your hard disk or maybe inside your\n",
    "#desktop or laptop"
   ]
  },
  {
   "cell_type": "code",
   "execution_count": 11,
   "metadata": {},
   "outputs": [],
   "source": [
    "#It just creates a file, we were creating a .txt file, but now it will create a .db file, the nature of this is that\n",
    "# it will only be able to store a tabular format of the data"
   ]
  },
  {
   "cell_type": "code",
   "execution_count": 12,
   "metadata": {},
   "outputs": [],
   "source": [
    "#where ever i have to store structured data inside a memory then sql lite kind of a database comes into picture"
   ]
  },
  {
   "cell_type": "markdown",
   "metadata": {},
   "source": [
    "# SQL LITE"
   ]
  },
  {
   "cell_type": "code",
   "execution_count": 13,
   "metadata": {},
   "outputs": [],
   "source": [
    "import sqlite3"
   ]
  },
  {
   "cell_type": "code",
   "execution_count": 14,
   "metadata": {},
   "outputs": [],
   "source": [
    "#The role of this file is to store a data but in a structured format\n",
    "db = sqlite3.connect(\"ineuron.db\")"
   ]
  },
  {
   "cell_type": "code",
   "execution_count": 15,
   "metadata": {},
   "outputs": [
    {
     "name": "stdout",
     "output_type": "stream",
     "text": [
      " Volume in drive C has no label.\n",
      " Volume Serial Number is 408C-821B\n",
      "\n",
      " Directory of C:\\Users\\ashish\\Desktop\\Ineuron\n",
      "\n",
      "05/17/2022  11:42 AM    <DIR>          .\n",
      "05/17/2022  11:42 AM    <DIR>          ..\n",
      "04/07/2022  03:12 PM    <DIR>          .idea\n",
      "05/17/2022  07:58 AM    <DIR>          .ipynb_checkpoints\n",
      "04/10/2022  03:11 PM    <DIR>          __pycache__\n",
      "04/15/2022  09:22 PM                17 abc.txt\n",
      "04/10/2022  01:57 PM                 0 Dict.log\n",
      "05/10/2022  10:32 PM            11,903 glass.data\n",
      "05/17/2022  10:49 AM             8,192 ineuron.db\n",
      "05/17/2022  11:35 AM            12,288 jobdb.db\n",
      "05/17/2022  11:39 AM             4,616 jobdb.db-journal\n",
      "04/15/2022  10:07 PM           197,467 list.log\n",
      "04/05/2022  03:49 PM                 0 Modules , Modular coding.txt\n",
      "04/07/2022  01:01 AM    <DIR>          My Directory\n",
      "04/07/2022  12:11 AM               237 my_module.py\n",
      "04/10/2022  03:11 PM             6,829 mydict.py\n",
      "04/05/2022  02:19 PM               865 Notepad++.lnk\n",
      "05/17/2022  10:47 AM             8,192 person.db\n",
      "05/05/2022  02:12 PM    <DIR>          Practise\n",
      "04/07/2022  05:37 PM    <DIR>          ProjectsPython\n",
      "04/05/2022  02:16 PM               843 PyCharm Community Edition 2021.3.3.lnk\n",
      "04/11/2022  02:14 PM            16,573 Python - 11th class - Part 1 =  Modular Coding - What does it mean, How to create Directories and Modules.ipynb\n",
      "04/11/2022  02:14 PM            27,759 Python - 12th Class - Class Variable, Class object, Class Coding, Modules and packages implementation.ipynb\n",
      "04/11/2022  02:14 PM             2,265 Python - 12th Class - Part 2 (Packages and Modules #Invoking it on another file).ipynb\n",
      "04/20/2022  12:32 AM            57,239 Python - 13th class (INHERITANCE, INCAPSULATION).ipynb\n",
      "04/23/2022  01:07 PM            42,129 Python - 13th class (POLYMORPHISM), Custom Exceptions.ipynb\n",
      "05/11/2022  07:27 PM            16,993 Python - 14th class - MySQL workbench Part 2.ipynb\n",
      "05/11/2022  04:41 PM           121,529 Python - 14th class - MySQL workbench.ipynb\n",
      "05/13/2022  08:32 PM            22,775 Python - 16th class - Mongo DB - Part 1.ipynb\n",
      "05/17/2022  11:42 AM            35,029 Python - 17th Class SQL Lite.ipynb\n",
      "05/16/2022  12:22 PM    <DIR>          Python - Class 16th part 2- Mongo DB with notes\n",
      "04/11/2022  02:14 PM            21,653 Python Class 11 - Part - 2 = Class, Objects Basics.ipynb\n",
      "05/06/2022  11:40 PM    <DIR>          pythonProjec\n",
      "04/13/2022  06:07 PM    <DIR>          pythonProjectIneuronClassAssignments\n",
      "04/06/2022  07:14 PM               250 test1.py\n",
      "04/15/2022  10:09 PM                37 test11.txt\n",
      "04/15/2022  10:21 PM                20 test2.txt\n",
      "04/15/2022  10:54 PM                21 testingclass\n",
      "04/15/2022  11:00 PM                21 testingclass2\n",
      "              28 File(s)        615,742 bytes\n",
      "              11 Dir(s)  389,257,789,440 bytes free\n"
     ]
    }
   ],
   "source": [
    "%ls"
   ]
  },
  {
   "cell_type": "code",
   "execution_count": 16,
   "metadata": {},
   "outputs": [],
   "source": [
    "#Creating a table after creation of db\n",
    "#incase of SQL we were trying to connect to the server, incase of SQLlite we are trying to connect to the local system"
   ]
  },
  {
   "cell_type": "code",
   "execution_count": 17,
   "metadata": {},
   "outputs": [],
   "source": [
    "#creating a cursor\n",
    "c = db.cursor()"
   ]
  },
  {
   "cell_type": "code",
   "execution_count": 18,
   "metadata": {},
   "outputs": [
    {
     "data": {
      "text/plain": [
       "<sqlite3.Cursor at 0x235745891f0>"
      ]
     },
     "execution_count": 18,
     "metadata": {},
     "output_type": "execute_result"
    }
   ],
   "source": [
    "c.execute(\"create table fsds(name text, batchid int, marks real)\")"
   ]
  },
  {
   "cell_type": "code",
   "execution_count": 19,
   "metadata": {},
   "outputs": [
    {
     "data": {
      "text/plain": [
       "<sqlite3.Cursor at 0x235745891f0>"
      ]
     },
     "execution_count": 19,
     "metadata": {},
     "output_type": "execute_result"
    }
   ],
   "source": [
    "c.execute(\"insert into fsds values('ashi',2323,2323.4)\")"
   ]
  },
  {
   "cell_type": "code",
   "execution_count": 20,
   "metadata": {},
   "outputs": [
    {
     "data": {
      "text/plain": [
       "<sqlite3.Cursor at 0x235745891f0>"
      ]
     },
     "execution_count": 20,
     "metadata": {},
     "output_type": "execute_result"
    }
   ],
   "source": [
    "c.execute(\"insert into fsds values('ashi',2323,2323.4)\")\n",
    "c.execute(\"insert into fsds values('ashi',2323,2323.4)\")\n",
    "c.execute(\"insert into fsds values('ashi',2323,2323.4)\")\n",
    "c.execute(\"insert into fsds values('ashi',2323,2323.4)\")\n",
    "c.execute(\"insert into fsds values('ashi',2323,2323.4)\")\n",
    "c.execute(\"insert into fsds values('ashi',2323,2323.4)\")\n",
    "c.execute(\"insert into fsds values('ashi',2323,2323.4)\")\n",
    "c.execute(\"insert into fsds values('ashi',2323,2323.4)\")\n",
    "c.execute(\"insert into fsds values('ashi',2323,2323.4)\")\n",
    "c.execute(\"insert into fsds values('ashi',2323,2323.4)\")"
   ]
  },
  {
   "cell_type": "code",
   "execution_count": 21,
   "metadata": {},
   "outputs": [],
   "source": [
    "data = c.execute(\"select * from fsds\")"
   ]
  },
  {
   "cell_type": "code",
   "execution_count": 22,
   "metadata": {},
   "outputs": [
    {
     "name": "stdout",
     "output_type": "stream",
     "text": [
      "('ashi', 2323, 2323.4)\n",
      "('ashi', 2323, 2323.4)\n",
      "('ashi', 2323, 2323.4)\n",
      "('ashi', 2323, 2323.4)\n",
      "('ashi', 2323, 2323.4)\n",
      "('ashi', 2323, 2323.4)\n",
      "('ashi', 2323, 2323.4)\n",
      "('ashi', 2323, 2323.4)\n",
      "('ashi', 2323, 2323.4)\n",
      "('ashi', 2323, 2323.4)\n",
      "('ashi', 2323, 2323.4)\n"
     ]
    }
   ],
   "source": [
    "for i in data:\n",
    "    print(i)"
   ]
  },
  {
   "cell_type": "code",
   "execution_count": 23,
   "metadata": {},
   "outputs": [],
   "source": [
    "db.commit()"
   ]
  },
  {
   "cell_type": "code",
   "execution_count": 24,
   "metadata": {},
   "outputs": [],
   "source": [
    "db.close()"
   ]
  },
  {
   "cell_type": "code",
   "execution_count": 25,
   "metadata": {},
   "outputs": [
    {
     "name": "stdout",
     "output_type": "stream",
     "text": [
      " Volume in drive C has no label.\n",
      " Volume Serial Number is 408C-821B\n",
      "\n",
      " Directory of C:\\Users\\ashish\\Desktop\\Ineuron\n",
      "\n",
      "05/18/2022  02:30 PM    <DIR>          .\n",
      "05/18/2022  02:30 PM    <DIR>          ..\n",
      "04/07/2022  03:12 PM    <DIR>          .idea\n",
      "05/17/2022  07:58 AM    <DIR>          .ipynb_checkpoints\n",
      "04/10/2022  03:11 PM    <DIR>          __pycache__\n",
      "04/15/2022  09:22 PM                17 abc.txt\n",
      "04/10/2022  01:57 PM                 0 Dict.log\n",
      "05/10/2022  10:32 PM            11,903 glass.data\n",
      "05/18/2022  02:30 PM             8,192 ineuron.db\n",
      "05/17/2022  11:35 AM            12,288 jobdb.db\n",
      "05/17/2022  11:39 AM             4,616 jobdb.db-journal\n",
      "04/15/2022  10:07 PM           197,467 list.log\n",
      "04/05/2022  03:49 PM                 0 Modules , Modular coding.txt\n",
      "04/07/2022  01:01 AM    <DIR>          My Directory\n",
      "04/07/2022  12:11 AM               237 my_module.py\n",
      "04/10/2022  03:11 PM             6,829 mydict.py\n",
      "04/05/2022  02:19 PM               865 Notepad++.lnk\n",
      "05/17/2022  10:47 AM             8,192 person.db\n",
      "05/05/2022  02:12 PM    <DIR>          Practise\n",
      "04/07/2022  05:37 PM    <DIR>          ProjectsPython\n",
      "04/05/2022  02:16 PM               843 PyCharm Community Edition 2021.3.3.lnk\n",
      "04/11/2022  02:14 PM            16,573 Python - 11th class - Part 1 =  Modular Coding - What does it mean, How to create Directories and Modules.ipynb\n",
      "04/11/2022  02:14 PM            27,759 Python - 12th Class - Class Variable, Class object, Class Coding, Modules and packages implementation.ipynb\n",
      "04/11/2022  02:14 PM             2,265 Python - 12th Class - Part 2 (Packages and Modules #Invoking it on another file).ipynb\n",
      "04/20/2022  12:32 AM            57,239 Python - 13th class (INHERITANCE, INCAPSULATION).ipynb\n",
      "04/23/2022  01:07 PM            42,129 Python - 13th class (POLYMORPHISM), Custom Exceptions.ipynb\n",
      "05/11/2022  07:27 PM            16,993 Python - 14th class - MySQL workbench Part 2.ipynb\n",
      "05/11/2022  04:41 PM           121,529 Python - 14th class - MySQL workbench.ipynb\n",
      "05/13/2022  08:32 PM            22,775 Python - 16th class - Mongo DB - Part 1.ipynb\n",
      "05/17/2022  11:42 AM            35,029 Python - 17th Class SQL Lite.ipynb\n",
      "05/16/2022  12:22 PM    <DIR>          Python - Class 16th part 2- Mongo DB with notes\n",
      "04/11/2022  02:14 PM            21,653 Python Class 11 - Part - 2 = Class, Objects Basics.ipynb\n",
      "05/06/2022  11:40 PM    <DIR>          pythonProjec\n",
      "04/13/2022  06:07 PM    <DIR>          pythonProjectIneuronClassAssignments\n",
      "04/06/2022  07:14 PM               250 test1.py\n",
      "04/15/2022  10:09 PM                37 test11.txt\n",
      "04/15/2022  10:21 PM                20 test2.txt\n",
      "04/15/2022  10:54 PM                21 testingclass\n",
      "04/15/2022  11:00 PM                21 testingclass2\n",
      "              28 File(s)        615,742 bytes\n",
      "              11 Dir(s)  389,257,764,864 bytes free\n"
     ]
    }
   ],
   "source": [
    "%ls"
   ]
  },
  {
   "cell_type": "code",
   "execution_count": 26,
   "metadata": {},
   "outputs": [],
   "source": [
    "#connectivity once again\n",
    "db = sqlite3.connect(\"ineuron.db\")"
   ]
  },
  {
   "cell_type": "code",
   "execution_count": 27,
   "metadata": {},
   "outputs": [],
   "source": [
    "c = db.cursor()"
   ]
  },
  {
   "cell_type": "code",
   "execution_count": 28,
   "metadata": {},
   "outputs": [
    {
     "name": "stdout",
     "output_type": "stream",
     "text": [
      "('ashi', 2323, 2323.4)\n",
      "('ashi', 2323, 2323.4)\n",
      "('ashi', 2323, 2323.4)\n",
      "('ashi', 2323, 2323.4)\n",
      "('ashi', 2323, 2323.4)\n",
      "('ashi', 2323, 2323.4)\n",
      "('ashi', 2323, 2323.4)\n",
      "('ashi', 2323, 2323.4)\n",
      "('ashi', 2323, 2323.4)\n",
      "('ashi', 2323, 2323.4)\n",
      "('ashi', 2323, 2323.4)\n"
     ]
    }
   ],
   "source": [
    "data = c.execute(\"select * from fsds where marks > 400\")\n",
    "for i in data:\n",
    "    print(i)"
   ]
  },
  {
   "cell_type": "code",
   "execution_count": 29,
   "metadata": {},
   "outputs": [],
   "source": [
    "data= c.execute(\"select * from fsds where name  = 'ashi'\")"
   ]
  },
  {
   "cell_type": "code",
   "execution_count": 30,
   "metadata": {},
   "outputs": [
    {
     "name": "stdout",
     "output_type": "stream",
     "text": [
      "('ashi', 2323, 2323.4)\n",
      "('ashi', 2323, 2323.4)\n",
      "('ashi', 2323, 2323.4)\n",
      "('ashi', 2323, 2323.4)\n",
      "('ashi', 2323, 2323.4)\n",
      "('ashi', 2323, 2323.4)\n",
      "('ashi', 2323, 2323.4)\n",
      "('ashi', 2323, 2323.4)\n",
      "('ashi', 2323, 2323.4)\n",
      "('ashi', 2323, 2323.4)\n",
      "('ashi', 2323, 2323.4)\n"
     ]
    }
   ],
   "source": [
    "for i in data:\n",
    "    print(i)"
   ]
  },
  {
   "cell_type": "code",
   "execution_count": 31,
   "metadata": {},
   "outputs": [],
   "source": [
    "data = c.execute(\"select name, marks from fsds\")"
   ]
  },
  {
   "cell_type": "code",
   "execution_count": 32,
   "metadata": {},
   "outputs": [
    {
     "name": "stdout",
     "output_type": "stream",
     "text": [
      "('ashi', 2323.4)\n",
      "('ashi', 2323.4)\n",
      "('ashi', 2323.4)\n",
      "('ashi', 2323.4)\n",
      "('ashi', 2323.4)\n",
      "('ashi', 2323.4)\n",
      "('ashi', 2323.4)\n",
      "('ashi', 2323.4)\n",
      "('ashi', 2323.4)\n",
      "('ashi', 2323.4)\n",
      "('ashi', 2323.4)\n"
     ]
    }
   ],
   "source": [
    "for i in data:\n",
    "    print(i)"
   ]
  },
  {
   "cell_type": "code",
   "execution_count": 33,
   "metadata": {},
   "outputs": [],
   "source": [
    "data = c.execute(\"select name, marks from fsds order by marks\")"
   ]
  },
  {
   "cell_type": "code",
   "execution_count": 34,
   "metadata": {},
   "outputs": [
    {
     "name": "stdout",
     "output_type": "stream",
     "text": [
      "('ashi', 2323.4)\n",
      "('ashi', 2323.4)\n",
      "('ashi', 2323.4)\n",
      "('ashi', 2323.4)\n",
      "('ashi', 2323.4)\n",
      "('ashi', 2323.4)\n",
      "('ashi', 2323.4)\n",
      "('ashi', 2323.4)\n",
      "('ashi', 2323.4)\n",
      "('ashi', 2323.4)\n",
      "('ashi', 2323.4)\n"
     ]
    }
   ],
   "source": [
    "for i in data:\n",
    "    print(i)"
   ]
  },
  {
   "cell_type": "code",
   "execution_count": 35,
   "metadata": {},
   "outputs": [],
   "source": [
    "data = c.execute(\"select name, marks from fsds order by marks desc\")"
   ]
  },
  {
   "cell_type": "code",
   "execution_count": 36,
   "metadata": {},
   "outputs": [
    {
     "name": "stdout",
     "output_type": "stream",
     "text": [
      "('ashi', 2323.4)\n",
      "('ashi', 2323.4)\n",
      "('ashi', 2323.4)\n",
      "('ashi', 2323.4)\n",
      "('ashi', 2323.4)\n",
      "('ashi', 2323.4)\n",
      "('ashi', 2323.4)\n",
      "('ashi', 2323.4)\n",
      "('ashi', 2323.4)\n",
      "('ashi', 2323.4)\n",
      "('ashi', 2323.4)\n"
     ]
    }
   ],
   "source": [
    "for i in data:\n",
    "    print(i)"
   ]
  },
  {
   "cell_type": "code",
   "execution_count": 37,
   "metadata": {},
   "outputs": [],
   "source": [
    "db.close()"
   ]
  },
  {
   "cell_type": "code",
   "execution_count": 38,
   "metadata": {},
   "outputs": [],
   "source": [
    "#in general one db file supports only one table\n",
    "db = sqlite3.connect(\"person.db\")"
   ]
  },
  {
   "cell_type": "code",
   "execution_count": 39,
   "metadata": {},
   "outputs": [],
   "source": [
    "c = db.cursor()"
   ]
  },
  {
   "cell_type": "code",
   "execution_count": 40,
   "metadata": {},
   "outputs": [
    {
     "ename": "OperationalError",
     "evalue": "table person_table already exists",
     "output_type": "error",
     "traceback": [
      "\u001b[1;31m---------------------------------------------------------------------------\u001b[0m",
      "\u001b[1;31mOperationalError\u001b[0m                          Traceback (most recent call last)",
      "\u001b[1;32m<ipython-input-40-bca0d2436c6b>\u001b[0m in \u001b[0;36m<module>\u001b[1;34m\u001b[0m\n\u001b[1;32m----> 1\u001b[1;33m \u001b[0mc\u001b[0m\u001b[1;33m.\u001b[0m\u001b[0mexecute\u001b[0m\u001b[1;33m(\u001b[0m\u001b[1;34m\"create table person_table (name text, emailid text, age int, salary real)\"\u001b[0m\u001b[1;33m)\u001b[0m\u001b[1;33m\u001b[0m\u001b[1;33m\u001b[0m\u001b[0m\n\u001b[0m",
      "\u001b[1;31mOperationalError\u001b[0m: table person_table already exists"
     ]
    }
   ],
   "source": [
    "c.execute(\"create table person_table (name text, emailid text, age int, salary real)\")"
   ]
  },
  {
   "cell_type": "code",
   "execution_count": 41,
   "metadata": {},
   "outputs": [
    {
     "name": "stdout",
     "output_type": "stream",
     "text": [
      " Volume in drive C has no label.\n",
      " Volume Serial Number is 408C-821B\n",
      "\n",
      " Directory of C:\\Users\\ashish\\Desktop\\Ineuron\n",
      "\n",
      "05/18/2022  02:30 PM    <DIR>          .\n",
      "05/18/2022  02:30 PM    <DIR>          ..\n",
      "04/07/2022  03:12 PM    <DIR>          .idea\n",
      "05/17/2022  07:58 AM    <DIR>          .ipynb_checkpoints\n",
      "04/10/2022  03:11 PM    <DIR>          __pycache__\n",
      "04/15/2022  09:22 PM                17 abc.txt\n",
      "04/10/2022  01:57 PM                 0 Dict.log\n",
      "05/10/2022  10:32 PM            11,903 glass.data\n",
      "05/18/2022  02:30 PM             8,192 ineuron.db\n",
      "05/17/2022  11:35 AM            12,288 jobdb.db\n",
      "05/17/2022  11:39 AM             4,616 jobdb.db-journal\n",
      "04/15/2022  10:07 PM           197,467 list.log\n",
      "04/05/2022  03:49 PM                 0 Modules , Modular coding.txt\n",
      "04/07/2022  01:01 AM    <DIR>          My Directory\n",
      "04/07/2022  12:11 AM               237 my_module.py\n",
      "04/10/2022  03:11 PM             6,829 mydict.py\n",
      "04/05/2022  02:19 PM               865 Notepad++.lnk\n",
      "05/17/2022  10:47 AM             8,192 person.db\n",
      "05/05/2022  02:12 PM    <DIR>          Practise\n",
      "04/07/2022  05:37 PM    <DIR>          ProjectsPython\n",
      "04/05/2022  02:16 PM               843 PyCharm Community Edition 2021.3.3.lnk\n",
      "04/11/2022  02:14 PM            16,573 Python - 11th class - Part 1 =  Modular Coding - What does it mean, How to create Directories and Modules.ipynb\n",
      "04/11/2022  02:14 PM            27,759 Python - 12th Class - Class Variable, Class object, Class Coding, Modules and packages implementation.ipynb\n",
      "04/11/2022  02:14 PM             2,265 Python - 12th Class - Part 2 (Packages and Modules #Invoking it on another file).ipynb\n",
      "04/20/2022  12:32 AM            57,239 Python - 13th class (INHERITANCE, INCAPSULATION).ipynb\n",
      "04/23/2022  01:07 PM            42,129 Python - 13th class (POLYMORPHISM), Custom Exceptions.ipynb\n",
      "05/11/2022  07:27 PM            16,993 Python - 14th class - MySQL workbench Part 2.ipynb\n",
      "05/11/2022  04:41 PM           121,529 Python - 14th class - MySQL workbench.ipynb\n",
      "05/13/2022  08:32 PM            22,775 Python - 16th class - Mongo DB - Part 1.ipynb\n",
      "05/17/2022  11:42 AM            35,029 Python - 17th Class SQL Lite.ipynb\n",
      "05/16/2022  12:22 PM    <DIR>          Python - Class 16th part 2- Mongo DB with notes\n",
      "04/11/2022  02:14 PM            21,653 Python Class 11 - Part - 2 = Class, Objects Basics.ipynb\n",
      "05/06/2022  11:40 PM    <DIR>          pythonProjec\n",
      "04/13/2022  06:07 PM    <DIR>          pythonProjectIneuronClassAssignments\n",
      "04/06/2022  07:14 PM               250 test1.py\n",
      "04/15/2022  10:09 PM                37 test11.txt\n",
      "04/15/2022  10:21 PM                20 test2.txt\n",
      "04/15/2022  10:54 PM                21 testingclass\n",
      "04/15/2022  11:00 PM                21 testingclass2\n",
      "              28 File(s)        615,742 bytes\n",
      "              11 Dir(s)  389,257,760,768 bytes free\n"
     ]
    }
   ],
   "source": [
    "%ls"
   ]
  },
  {
   "cell_type": "code",
   "execution_count": 42,
   "metadata": {},
   "outputs": [
    {
     "data": {
      "text/plain": [
       "<sqlite3.Cursor at 0x23574583500>"
      ]
     },
     "execution_count": 42,
     "metadata": {},
     "output_type": "execute_result"
    }
   ],
   "source": [
    "c.execute(\"insert into person_table values ('sudh', 'ashishroy@gmail.com','234','23242')\")\n",
    "c.execute(\"insert into person_table values ('ashish', 'sudh@gmail.com','312','23332')\")\n",
    "c.execute(\"insert into person_table values ('krish','krish@gmail.com','234','32323')\")\n",
    "c.execute(\"insert into person_table values ('sunny','sunny@gmail.com','121','32353')\")"
   ]
  },
  {
   "cell_type": "code",
   "execution_count": 43,
   "metadata": {},
   "outputs": [
    {
     "name": "stdout",
     "output_type": "stream",
     "text": [
      " Volume in drive C has no label.\n",
      " Volume Serial Number is 408C-821B\n",
      "\n",
      " Directory of C:\\Users\\ashish\\Desktop\\Ineuron\n",
      "\n",
      "05/18/2022  02:30 PM    <DIR>          .\n",
      "05/18/2022  02:30 PM    <DIR>          ..\n",
      "04/07/2022  03:12 PM    <DIR>          .idea\n",
      "05/17/2022  07:58 AM    <DIR>          .ipynb_checkpoints\n",
      "04/10/2022  03:11 PM    <DIR>          __pycache__\n",
      "04/15/2022  09:22 PM                17 abc.txt\n",
      "04/10/2022  01:57 PM                 0 Dict.log\n",
      "05/10/2022  10:32 PM            11,903 glass.data\n",
      "05/18/2022  02:30 PM             8,192 ineuron.db\n",
      "05/17/2022  11:35 AM            12,288 jobdb.db\n",
      "05/17/2022  11:39 AM             4,616 jobdb.db-journal\n",
      "04/15/2022  10:07 PM           197,467 list.log\n",
      "04/05/2022  03:49 PM                 0 Modules , Modular coding.txt\n",
      "04/07/2022  01:01 AM    <DIR>          My Directory\n",
      "04/07/2022  12:11 AM               237 my_module.py\n",
      "04/10/2022  03:11 PM             6,829 mydict.py\n",
      "04/05/2022  02:19 PM               865 Notepad++.lnk\n",
      "05/17/2022  10:47 AM             8,192 person.db\n",
      "05/18/2022  02:30 PM                 0 person.db-journal\n",
      "05/05/2022  02:12 PM    <DIR>          Practise\n",
      "04/07/2022  05:37 PM    <DIR>          ProjectsPython\n",
      "04/05/2022  02:16 PM               843 PyCharm Community Edition 2021.3.3.lnk\n",
      "04/11/2022  02:14 PM            16,573 Python - 11th class - Part 1 =  Modular Coding - What does it mean, How to create Directories and Modules.ipynb\n",
      "04/11/2022  02:14 PM            27,759 Python - 12th Class - Class Variable, Class object, Class Coding, Modules and packages implementation.ipynb\n",
      "04/11/2022  02:14 PM             2,265 Python - 12th Class - Part 2 (Packages and Modules #Invoking it on another file).ipynb\n",
      "04/20/2022  12:32 AM            57,239 Python - 13th class (INHERITANCE, INCAPSULATION).ipynb\n",
      "04/23/2022  01:07 PM            42,129 Python - 13th class (POLYMORPHISM), Custom Exceptions.ipynb\n",
      "05/11/2022  07:27 PM            16,993 Python - 14th class - MySQL workbench Part 2.ipynb\n",
      "05/11/2022  04:41 PM           121,529 Python - 14th class - MySQL workbench.ipynb\n",
      "05/13/2022  08:32 PM            22,775 Python - 16th class - Mongo DB - Part 1.ipynb\n",
      "05/17/2022  11:42 AM            35,029 Python - 17th Class SQL Lite.ipynb\n",
      "05/16/2022  12:22 PM    <DIR>          Python - Class 16th part 2- Mongo DB with notes\n",
      "04/11/2022  02:14 PM            21,653 Python Class 11 - Part - 2 = Class, Objects Basics.ipynb\n",
      "05/06/2022  11:40 PM    <DIR>          pythonProjec\n",
      "04/13/2022  06:07 PM    <DIR>          pythonProjectIneuronClassAssignments\n",
      "04/06/2022  07:14 PM               250 test1.py\n",
      "04/15/2022  10:09 PM                37 test11.txt\n",
      "04/15/2022  10:21 PM                20 test2.txt\n",
      "04/15/2022  10:54 PM                21 testingclass\n",
      "04/15/2022  11:00 PM                21 testingclass2\n",
      "              29 File(s)        615,742 bytes\n",
      "              11 Dir(s)  389,257,736,192 bytes free\n"
     ]
    }
   ],
   "source": [
    "%ls"
   ]
  },
  {
   "cell_type": "code",
   "execution_count": 44,
   "metadata": {},
   "outputs": [],
   "source": [
    "data = c.execute(\"select * from person_table\")"
   ]
  },
  {
   "cell_type": "code",
   "execution_count": 45,
   "metadata": {},
   "outputs": [
    {
     "name": "stdout",
     "output_type": "stream",
     "text": [
      "('sudh', 'ashishroy@gmail.com', 234, 23242.0)\n",
      "('ashish', 'sudh@gmail.com', 312, 23332.0)\n",
      "('krish', 'krish@gmail.com', 234, 32323.0)\n",
      "('sunny', 'sunny@gmail.com', 121, 32353.0)\n",
      "('sudh', 'ashishroy@gmail.com', 234, 23242.0)\n",
      "('ashish', 'sudh@gmail.com', 312, 23332.0)\n",
      "('krish', 'krish@gmail.com', 234, 32323.0)\n",
      "('sunny', 'sunny@gmail.com', 121, 32353.0)\n"
     ]
    }
   ],
   "source": [
    "for i in data:\n",
    "    print(i)"
   ]
  },
  {
   "cell_type": "code",
   "execution_count": 46,
   "metadata": {},
   "outputs": [],
   "source": [
    "db.commit()"
   ]
  },
  {
   "cell_type": "code",
   "execution_count": 47,
   "metadata": {},
   "outputs": [],
   "source": [
    "db.close()"
   ]
  },
  {
   "cell_type": "code",
   "execution_count": 48,
   "metadata": {},
   "outputs": [],
   "source": [
    "db = sqlite3.connect('ineuron.db')"
   ]
  },
  {
   "cell_type": "code",
   "execution_count": 49,
   "metadata": {},
   "outputs": [],
   "source": [
    "#at a time only one sequence of operations you will be able to perform at at time"
   ]
  },
  {
   "cell_type": "code",
   "execution_count": 50,
   "metadata": {},
   "outputs": [],
   "source": [
    "c = db.cursor()"
   ]
  },
  {
   "cell_type": "code",
   "execution_count": 51,
   "metadata": {},
   "outputs": [
    {
     "data": {
      "text/plain": [
       "<sqlite3.Cursor at 0x235746356c0>"
      ]
     },
     "execution_count": 51,
     "metadata": {},
     "output_type": "execute_result"
    }
   ],
   "source": [
    "c.execute('drop table fsds')"
   ]
  },
  {
   "cell_type": "code",
   "execution_count": 52,
   "metadata": {},
   "outputs": [
    {
     "ename": "OperationalError",
     "evalue": "no such table: fsds",
     "output_type": "error",
     "traceback": [
      "\u001b[1;31m---------------------------------------------------------------------------\u001b[0m",
      "\u001b[1;31mOperationalError\u001b[0m                          Traceback (most recent call last)",
      "\u001b[1;32m<ipython-input-52-b75bf689a57c>\u001b[0m in \u001b[0;36m<module>\u001b[1;34m\u001b[0m\n\u001b[1;32m----> 1\u001b[1;33m \u001b[0mc\u001b[0m\u001b[1;33m.\u001b[0m\u001b[0mexecute\u001b[0m\u001b[1;33m(\u001b[0m\u001b[1;34m'select * from fsds'\u001b[0m\u001b[1;33m)\u001b[0m\u001b[1;33m\u001b[0m\u001b[1;33m\u001b[0m\u001b[0m\n\u001b[0m",
      "\u001b[1;31mOperationalError\u001b[0m: no such table: fsds"
     ]
    }
   ],
   "source": [
    "c.execute('select * from fsds')"
   ]
  },
  {
   "cell_type": "code",
   "execution_count": 53,
   "metadata": {},
   "outputs": [],
   "source": [
    "db.close()"
   ]
  },
  {
   "cell_type": "code",
   "execution_count": 54,
   "metadata": {},
   "outputs": [],
   "source": [
    "db = sqlite3.connect('person.db')"
   ]
  },
  {
   "cell_type": "code",
   "execution_count": 55,
   "metadata": {},
   "outputs": [],
   "source": [
    "c = db.cursor()"
   ]
  },
  {
   "cell_type": "code",
   "execution_count": 56,
   "metadata": {},
   "outputs": [],
   "source": [
    "data = c.execute('select * from person_table limit 2')"
   ]
  },
  {
   "cell_type": "code",
   "execution_count": 57,
   "metadata": {},
   "outputs": [
    {
     "name": "stdout",
     "output_type": "stream",
     "text": [
      "('sudh', 'ashishroy@gmail.com', 234, 23242.0)\n",
      "('ashish', 'sudh@gmail.com', 312, 23332.0)\n"
     ]
    }
   ],
   "source": [
    "for i in data:\n",
    "    print(i)"
   ]
  },
  {
   "cell_type": "code",
   "execution_count": 58,
   "metadata": {},
   "outputs": [],
   "source": [
    "# Join operation\n",
    "# ven diagram"
   ]
  },
  {
   "cell_type": "code",
   "execution_count": 59,
   "metadata": {},
   "outputs": [],
   "source": [
    "db.close()"
   ]
  },
  {
   "cell_type": "code",
   "execution_count": 60,
   "metadata": {},
   "outputs": [],
   "source": [
    "db = sqlite3.connect('jobdb.db')"
   ]
  },
  {
   "cell_type": "code",
   "execution_count": 61,
   "metadata": {},
   "outputs": [],
   "source": [
    "c = db.cursor()"
   ]
  },
  {
   "cell_type": "code",
   "execution_count": 62,
   "metadata": {},
   "outputs": [
    {
     "ename": "OperationalError",
     "evalue": "table student already exists",
     "output_type": "error",
     "traceback": [
      "\u001b[1;31m---------------------------------------------------------------------------\u001b[0m",
      "\u001b[1;31mOperationalError\u001b[0m                          Traceback (most recent call last)",
      "\u001b[1;32m<ipython-input-62-03323920dfbb>\u001b[0m in \u001b[0;36m<module>\u001b[1;34m\u001b[0m\n\u001b[1;32m----> 1\u001b[1;33m \u001b[0mc\u001b[0m\u001b[1;33m.\u001b[0m\u001b[0mexecute\u001b[0m\u001b[1;33m(\u001b[0m\u001b[1;34m'create table student (student_id int, student_name text, student_mailid text, marks int)'\u001b[0m\u001b[1;33m)\u001b[0m\u001b[1;33m\u001b[0m\u001b[1;33m\u001b[0m\u001b[0m\n\u001b[0m",
      "\u001b[1;31mOperationalError\u001b[0m: table student already exists"
     ]
    }
   ],
   "source": [
    "c.execute('create table student (student_id int, student_name text, student_mailid text, marks int)')"
   ]
  },
  {
   "cell_type": "code",
   "execution_count": 63,
   "metadata": {},
   "outputs": [
    {
     "ename": "OperationalError",
     "evalue": "table address already exists",
     "output_type": "error",
     "traceback": [
      "\u001b[1;31m---------------------------------------------------------------------------\u001b[0m",
      "\u001b[1;31mOperationalError\u001b[0m                          Traceback (most recent call last)",
      "\u001b[1;32m<ipython-input-63-4c7c00a5373f>\u001b[0m in \u001b[0;36m<module>\u001b[1;34m\u001b[0m\n\u001b[1;32m----> 1\u001b[1;33m \u001b[0mc\u001b[0m\u001b[1;33m.\u001b[0m\u001b[0mexecute\u001b[0m\u001b[1;33m(\u001b[0m\u001b[1;34m'create table address(student_id int, pincode int, location text, nearby text, phone_no int)'\u001b[0m\u001b[1;33m)\u001b[0m\u001b[1;33m\u001b[0m\u001b[1;33m\u001b[0m\u001b[0m\n\u001b[0m",
      "\u001b[1;31mOperationalError\u001b[0m: table address already exists"
     ]
    }
   ],
   "source": [
    "c.execute('create table address(student_id int, pincode int, location text, nearby text, phone_no int)')"
   ]
  },
  {
   "cell_type": "code",
   "execution_count": 64,
   "metadata": {},
   "outputs": [
    {
     "data": {
      "text/plain": [
       "<sqlite3.Cursor at 0x23574583ce0>"
      ]
     },
     "execution_count": 64,
     "metadata": {},
     "output_type": "execute_result"
    }
   ],
   "source": [
    "c.execute(\"insert into student values(234,'ashish','ashish@gmail.com',232)\")\n",
    "c.execute(\"insert into student values(235,'ashish','ashish@gmail.com',232)\")\n",
    "c.execute(\"insert into student values(236,'ashish','ashish@gmail.com',232)\")\n",
    "c.execute(\"insert into student values(237,'ashish','ashish@gmail.com',232)\")\n",
    "c.execute(\"insert into student values(238,'ashish','ashish@gmail.com',232)\")\n",
    "c.execute(\"insert into student values(239,'ashish','ashish@gmail.com',232)\")\n",
    "c.execute(\"insert into student values(240,'ashish','ashish@gmail.com',232)\")\n",
    "c.execute(\"insert into student values(241,'ashish','ashish@gmail.com',232)\")\n",
    "c.execute(\"insert into student values(242,'ashish','ashish@gmail.com',232)\")\n",
    "c.execute(\"insert into student values(243,'ashish','ashish@gmail.com',232)\")\n",
    "c.execute(\"insert into student values(244,'ashish','ashish@gmail.com',232)\")\n",
    "c.execute(\"insert into student values(245,'ashish','ashish@gmail.com',232)\")\n",
    "c.execute(\"insert into student values(246,'ashish','ashish@gmail.com',232)\")\n",
    "c.execute(\"insert into student values(247,'ashish','ashish@gmail.com',232)\")\n",
    "c.execute(\"insert into student values(248,'ashish','ashish@gmail.com',232)\")\n",
    "c.execute(\"insert into student values(249,'ashish','ashish@gmail.com',232)\")\n",
    "c.execute(\"insert into student values(250,'ashish','ashish@gmail.com',232)\")\n",
    "c.execute(\"insert into student values(251,'ashish','ashish@gmail.com',232)\")\n",
    "c.execute(\"insert into student values(252,'ashish','ashish@gmail.com',232)\")"
   ]
  },
  {
   "cell_type": "code",
   "execution_count": 65,
   "metadata": {},
   "outputs": [
    {
     "data": {
      "text/plain": [
       "<sqlite3.Cursor at 0x23574583ce0>"
      ]
     },
     "execution_count": 65,
     "metadata": {},
     "output_type": "execute_result"
    }
   ],
   "source": [
    "c.execute(\"insert into address values (235,560034,'Whitefield','ineuron office',232323232)\")"
   ]
  },
  {
   "cell_type": "code",
   "execution_count": 66,
   "metadata": {},
   "outputs": [
    {
     "data": {
      "text/plain": [
       "<sqlite3.Cursor at 0x23574583ce0>"
      ]
     },
     "execution_count": 66,
     "metadata": {},
     "output_type": "execute_result"
    }
   ],
   "source": [
    "c.execute(\"insert into address values (236,560034,'Whitefield','ineuron office',232323232)\")\n",
    "c.execute(\"insert into address values (237,560034,'Whitefield','ineuron office',232323232)\")\n",
    "c.execute(\"insert into address values (238,560034,'Whitefield','ineuron office',232323232)\")\n",
    "c.execute(\"insert into address values (239,560034,'Whitefield','ineuron office',232323232)\")\n",
    "c.execute(\"insert into address values (240,560034,'Whitefield','ineuron office',232323232)\")\n",
    "c.execute(\"insert into address values (241,560034,'Whitefield','ineuron office',232323232)\")\n",
    "c.execute(\"insert into address values (242,560034,'Whitefield','ineuron office',232323232)\")\n",
    "c.execute(\"insert into address values (247, 034,'Whitefield','ineuron office',232323232)\")\n",
    "c.execute(\"insert into address values (237,560034,'Whitefield','ineuron office',232323232)\")\n",
    "c.execute(\"insert into address values (238,560034,'Whitefield','ineuron office',232323232)\")\n",
    "c.execute(\"insert into address values (239,560034,'Whitefield','ineuron office',232323232)\")\n",
    "c.execute(\"insert into address values (240,560034,'Whitefield','ineuron office',232323232)\")\n",
    "c.execute(\"insert into address values (241,560034,'Whitefield','ineuron office',232323232)\")\n",
    "c.execute(\"insert into address values (242,560034,'Whitefield','ineuron office',232323232)\")"
   ]
  },
  {
   "cell_type": "code",
   "execution_count": 68,
   "metadata": {},
   "outputs": [
    {
     "name": "stdout",
     "output_type": "stream",
     "text": [
      "(235, 560034, 'Whitefield', 'ineuron office', 232323232)\n",
      "(236, 560034, 'Whitefield', 'ineuron office', 232323232)\n",
      "(237, 560034, 'Whitefield', 'ineuron office', 232323232)\n",
      "(238, 560034, 'Whitefield', 'ineuron office', 232323232)\n",
      "(239, 560034, 'Whitefield', 'ineuron office', 232323232)\n",
      "(240, 560034, 'Whitefield', 'ineuron office', 232323232)\n",
      "(241, 560034, 'Whitefield', 'ineuron office', 232323232)\n",
      "(242, 560034, 'Whitefield', 'ineuron office', 232323232)\n",
      "(247, 34, 'Whitefield', 'ineuron office', 232323232)\n",
      "(237, 560034, 'Whitefield', 'ineuron office', 232323232)\n",
      "(238, 560034, 'Whitefield', 'ineuron office', 232323232)\n",
      "(239, 560034, 'Whitefield', 'ineuron office', 232323232)\n",
      "(240, 560034, 'Whitefield', 'ineuron office', 232323232)\n",
      "(241, 560034, 'Whitefield', 'ineuron office', 232323232)\n",
      "(242, 560034, 'Whitefield', 'ineuron office', 232323232)\n"
     ]
    }
   ],
   "source": [
    "for i in c.execute(\"select * from address\"):\n",
    "    print(i)"
   ]
  },
  {
   "cell_type": "code",
   "execution_count": 69,
   "metadata": {},
   "outputs": [
    {
     "name": "stdout",
     "output_type": "stream",
     "text": [
      "(234, 'ashish', 'ashish@gmail.com', 232)\n",
      "(235, 'ashish', 'ashish@gmail.com', 232)\n",
      "(236, 'ashish', 'ashish@gmail.com', 232)\n",
      "(237, 'ashish', 'ashish@gmail.com', 232)\n",
      "(238, 'ashish', 'ashish@gmail.com', 232)\n",
      "(239, 'ashish', 'ashish@gmail.com', 232)\n",
      "(240, 'ashish', 'ashish@gmail.com', 232)\n",
      "(241, 'ashish', 'ashish@gmail.com', 232)\n",
      "(242, 'ashish', 'ashish@gmail.com', 232)\n",
      "(243, 'ashish', 'ashish@gmail.com', 232)\n",
      "(244, 'ashish', 'ashish@gmail.com', 232)\n",
      "(245, 'ashish', 'ashish@gmail.com', 232)\n",
      "(246, 'ashish', 'ashish@gmail.com', 232)\n",
      "(247, 'ashish', 'ashish@gmail.com', 232)\n",
      "(248, 'ashish', 'ashish@gmail.com', 232)\n",
      "(249, 'ashish', 'ashish@gmail.com', 232)\n",
      "(250, 'ashish', 'ashish@gmail.com', 232)\n",
      "(251, 'ashish', 'ashish@gmail.com', 232)\n",
      "(252, 'ashish', 'ashish@gmail.com', 232)\n"
     ]
    }
   ],
   "source": [
    "for i in c.execute(\"select * from student\"):\n",
    "    print(i)"
   ]
  },
  {
   "cell_type": "code",
   "execution_count": 70,
   "metadata": {},
   "outputs": [],
   "source": [
    "data = c.execute(\"select * from student s left join address a on s.student_id where a.student_id is not null\")"
   ]
  },
  {
   "cell_type": "code",
   "execution_count": 71,
   "metadata": {},
   "outputs": [
    {
     "name": "stdout",
     "output_type": "stream",
     "text": [
      "(234, 'ashish', 'ashish@gmail.com', 232, 235, 560034, 'Whitefield', 'ineuron office', 232323232)\n",
      "(234, 'ashish', 'ashish@gmail.com', 232, 236, 560034, 'Whitefield', 'ineuron office', 232323232)\n",
      "(234, 'ashish', 'ashish@gmail.com', 232, 237, 560034, 'Whitefield', 'ineuron office', 232323232)\n",
      "(234, 'ashish', 'ashish@gmail.com', 232, 238, 560034, 'Whitefield', 'ineuron office', 232323232)\n",
      "(234, 'ashish', 'ashish@gmail.com', 232, 239, 560034, 'Whitefield', 'ineuron office', 232323232)\n",
      "(234, 'ashish', 'ashish@gmail.com', 232, 240, 560034, 'Whitefield', 'ineuron office', 232323232)\n",
      "(234, 'ashish', 'ashish@gmail.com', 232, 241, 560034, 'Whitefield', 'ineuron office', 232323232)\n",
      "(234, 'ashish', 'ashish@gmail.com', 232, 242, 560034, 'Whitefield', 'ineuron office', 232323232)\n",
      "(234, 'ashish', 'ashish@gmail.com', 232, 247, 34, 'Whitefield', 'ineuron office', 232323232)\n",
      "(234, 'ashish', 'ashish@gmail.com', 232, 237, 560034, 'Whitefield', 'ineuron office', 232323232)\n",
      "(234, 'ashish', 'ashish@gmail.com', 232, 238, 560034, 'Whitefield', 'ineuron office', 232323232)\n",
      "(234, 'ashish', 'ashish@gmail.com', 232, 239, 560034, 'Whitefield', 'ineuron office', 232323232)\n",
      "(234, 'ashish', 'ashish@gmail.com', 232, 240, 560034, 'Whitefield', 'ineuron office', 232323232)\n",
      "(234, 'ashish', 'ashish@gmail.com', 232, 241, 560034, 'Whitefield', 'ineuron office', 232323232)\n",
      "(234, 'ashish', 'ashish@gmail.com', 232, 242, 560034, 'Whitefield', 'ineuron office', 232323232)\n",
      "(235, 'ashish', 'ashish@gmail.com', 232, 235, 560034, 'Whitefield', 'ineuron office', 232323232)\n",
      "(235, 'ashish', 'ashish@gmail.com', 232, 236, 560034, 'Whitefield', 'ineuron office', 232323232)\n",
      "(235, 'ashish', 'ashish@gmail.com', 232, 237, 560034, 'Whitefield', 'ineuron office', 232323232)\n",
      "(235, 'ashish', 'ashish@gmail.com', 232, 238, 560034, 'Whitefield', 'ineuron office', 232323232)\n",
      "(235, 'ashish', 'ashish@gmail.com', 232, 239, 560034, 'Whitefield', 'ineuron office', 232323232)\n",
      "(235, 'ashish', 'ashish@gmail.com', 232, 240, 560034, 'Whitefield', 'ineuron office', 232323232)\n",
      "(235, 'ashish', 'ashish@gmail.com', 232, 241, 560034, 'Whitefield', 'ineuron office', 232323232)\n",
      "(235, 'ashish', 'ashish@gmail.com', 232, 242, 560034, 'Whitefield', 'ineuron office', 232323232)\n",
      "(235, 'ashish', 'ashish@gmail.com', 232, 247, 34, 'Whitefield', 'ineuron office', 232323232)\n",
      "(235, 'ashish', 'ashish@gmail.com', 232, 237, 560034, 'Whitefield', 'ineuron office', 232323232)\n",
      "(235, 'ashish', 'ashish@gmail.com', 232, 238, 560034, 'Whitefield', 'ineuron office', 232323232)\n",
      "(235, 'ashish', 'ashish@gmail.com', 232, 239, 560034, 'Whitefield', 'ineuron office', 232323232)\n",
      "(235, 'ashish', 'ashish@gmail.com', 232, 240, 560034, 'Whitefield', 'ineuron office', 232323232)\n",
      "(235, 'ashish', 'ashish@gmail.com', 232, 241, 560034, 'Whitefield', 'ineuron office', 232323232)\n",
      "(235, 'ashish', 'ashish@gmail.com', 232, 242, 560034, 'Whitefield', 'ineuron office', 232323232)\n",
      "(236, 'ashish', 'ashish@gmail.com', 232, 235, 560034, 'Whitefield', 'ineuron office', 232323232)\n",
      "(236, 'ashish', 'ashish@gmail.com', 232, 236, 560034, 'Whitefield', 'ineuron office', 232323232)\n",
      "(236, 'ashish', 'ashish@gmail.com', 232, 237, 560034, 'Whitefield', 'ineuron office', 232323232)\n",
      "(236, 'ashish', 'ashish@gmail.com', 232, 238, 560034, 'Whitefield', 'ineuron office', 232323232)\n",
      "(236, 'ashish', 'ashish@gmail.com', 232, 239, 560034, 'Whitefield', 'ineuron office', 232323232)\n",
      "(236, 'ashish', 'ashish@gmail.com', 232, 240, 560034, 'Whitefield', 'ineuron office', 232323232)\n",
      "(236, 'ashish', 'ashish@gmail.com', 232, 241, 560034, 'Whitefield', 'ineuron office', 232323232)\n",
      "(236, 'ashish', 'ashish@gmail.com', 232, 242, 560034, 'Whitefield', 'ineuron office', 232323232)\n",
      "(236, 'ashish', 'ashish@gmail.com', 232, 247, 34, 'Whitefield', 'ineuron office', 232323232)\n",
      "(236, 'ashish', 'ashish@gmail.com', 232, 237, 560034, 'Whitefield', 'ineuron office', 232323232)\n",
      "(236, 'ashish', 'ashish@gmail.com', 232, 238, 560034, 'Whitefield', 'ineuron office', 232323232)\n",
      "(236, 'ashish', 'ashish@gmail.com', 232, 239, 560034, 'Whitefield', 'ineuron office', 232323232)\n",
      "(236, 'ashish', 'ashish@gmail.com', 232, 240, 560034, 'Whitefield', 'ineuron office', 232323232)\n",
      "(236, 'ashish', 'ashish@gmail.com', 232, 241, 560034, 'Whitefield', 'ineuron office', 232323232)\n",
      "(236, 'ashish', 'ashish@gmail.com', 232, 242, 560034, 'Whitefield', 'ineuron office', 232323232)\n",
      "(237, 'ashish', 'ashish@gmail.com', 232, 235, 560034, 'Whitefield', 'ineuron office', 232323232)\n",
      "(237, 'ashish', 'ashish@gmail.com', 232, 236, 560034, 'Whitefield', 'ineuron office', 232323232)\n",
      "(237, 'ashish', 'ashish@gmail.com', 232, 237, 560034, 'Whitefield', 'ineuron office', 232323232)\n",
      "(237, 'ashish', 'ashish@gmail.com', 232, 238, 560034, 'Whitefield', 'ineuron office', 232323232)\n",
      "(237, 'ashish', 'ashish@gmail.com', 232, 239, 560034, 'Whitefield', 'ineuron office', 232323232)\n",
      "(237, 'ashish', 'ashish@gmail.com', 232, 240, 560034, 'Whitefield', 'ineuron office', 232323232)\n",
      "(237, 'ashish', 'ashish@gmail.com', 232, 241, 560034, 'Whitefield', 'ineuron office', 232323232)\n",
      "(237, 'ashish', 'ashish@gmail.com', 232, 242, 560034, 'Whitefield', 'ineuron office', 232323232)\n",
      "(237, 'ashish', 'ashish@gmail.com', 232, 247, 34, 'Whitefield', 'ineuron office', 232323232)\n",
      "(237, 'ashish', 'ashish@gmail.com', 232, 237, 560034, 'Whitefield', 'ineuron office', 232323232)\n",
      "(237, 'ashish', 'ashish@gmail.com', 232, 238, 560034, 'Whitefield', 'ineuron office', 232323232)\n",
      "(237, 'ashish', 'ashish@gmail.com', 232, 239, 560034, 'Whitefield', 'ineuron office', 232323232)\n",
      "(237, 'ashish', 'ashish@gmail.com', 232, 240, 560034, 'Whitefield', 'ineuron office', 232323232)\n",
      "(237, 'ashish', 'ashish@gmail.com', 232, 241, 560034, 'Whitefield', 'ineuron office', 232323232)\n",
      "(237, 'ashish', 'ashish@gmail.com', 232, 242, 560034, 'Whitefield', 'ineuron office', 232323232)\n",
      "(238, 'ashish', 'ashish@gmail.com', 232, 235, 560034, 'Whitefield', 'ineuron office', 232323232)\n",
      "(238, 'ashish', 'ashish@gmail.com', 232, 236, 560034, 'Whitefield', 'ineuron office', 232323232)\n",
      "(238, 'ashish', 'ashish@gmail.com', 232, 237, 560034, 'Whitefield', 'ineuron office', 232323232)\n",
      "(238, 'ashish', 'ashish@gmail.com', 232, 238, 560034, 'Whitefield', 'ineuron office', 232323232)\n",
      "(238, 'ashish', 'ashish@gmail.com', 232, 239, 560034, 'Whitefield', 'ineuron office', 232323232)\n",
      "(238, 'ashish', 'ashish@gmail.com', 232, 240, 560034, 'Whitefield', 'ineuron office', 232323232)\n",
      "(238, 'ashish', 'ashish@gmail.com', 232, 241, 560034, 'Whitefield', 'ineuron office', 232323232)\n",
      "(238, 'ashish', 'ashish@gmail.com', 232, 242, 560034, 'Whitefield', 'ineuron office', 232323232)\n",
      "(238, 'ashish', 'ashish@gmail.com', 232, 247, 34, 'Whitefield', 'ineuron office', 232323232)\n",
      "(238, 'ashish', 'ashish@gmail.com', 232, 237, 560034, 'Whitefield', 'ineuron office', 232323232)\n",
      "(238, 'ashish', 'ashish@gmail.com', 232, 238, 560034, 'Whitefield', 'ineuron office', 232323232)\n",
      "(238, 'ashish', 'ashish@gmail.com', 232, 239, 560034, 'Whitefield', 'ineuron office', 232323232)\n",
      "(238, 'ashish', 'ashish@gmail.com', 232, 240, 560034, 'Whitefield', 'ineuron office', 232323232)\n",
      "(238, 'ashish', 'ashish@gmail.com', 232, 241, 560034, 'Whitefield', 'ineuron office', 232323232)\n",
      "(238, 'ashish', 'ashish@gmail.com', 232, 242, 560034, 'Whitefield', 'ineuron office', 232323232)\n",
      "(239, 'ashish', 'ashish@gmail.com', 232, 235, 560034, 'Whitefield', 'ineuron office', 232323232)\n",
      "(239, 'ashish', 'ashish@gmail.com', 232, 236, 560034, 'Whitefield', 'ineuron office', 232323232)\n",
      "(239, 'ashish', 'ashish@gmail.com', 232, 237, 560034, 'Whitefield', 'ineuron office', 232323232)\n",
      "(239, 'ashish', 'ashish@gmail.com', 232, 238, 560034, 'Whitefield', 'ineuron office', 232323232)\n",
      "(239, 'ashish', 'ashish@gmail.com', 232, 239, 560034, 'Whitefield', 'ineuron office', 232323232)\n",
      "(239, 'ashish', 'ashish@gmail.com', 232, 240, 560034, 'Whitefield', 'ineuron office', 232323232)\n",
      "(239, 'ashish', 'ashish@gmail.com', 232, 241, 560034, 'Whitefield', 'ineuron office', 232323232)\n",
      "(239, 'ashish', 'ashish@gmail.com', 232, 242, 560034, 'Whitefield', 'ineuron office', 232323232)\n",
      "(239, 'ashish', 'ashish@gmail.com', 232, 247, 34, 'Whitefield', 'ineuron office', 232323232)\n",
      "(239, 'ashish', 'ashish@gmail.com', 232, 237, 560034, 'Whitefield', 'ineuron office', 232323232)\n",
      "(239, 'ashish', 'ashish@gmail.com', 232, 238, 560034, 'Whitefield', 'ineuron office', 232323232)\n",
      "(239, 'ashish', 'ashish@gmail.com', 232, 239, 560034, 'Whitefield', 'ineuron office', 232323232)\n",
      "(239, 'ashish', 'ashish@gmail.com', 232, 240, 560034, 'Whitefield', 'ineuron office', 232323232)\n",
      "(239, 'ashish', 'ashish@gmail.com', 232, 241, 560034, 'Whitefield', 'ineuron office', 232323232)\n",
      "(239, 'ashish', 'ashish@gmail.com', 232, 242, 560034, 'Whitefield', 'ineuron office', 232323232)\n",
      "(240, 'ashish', 'ashish@gmail.com', 232, 235, 560034, 'Whitefield', 'ineuron office', 232323232)\n",
      "(240, 'ashish', 'ashish@gmail.com', 232, 236, 560034, 'Whitefield', 'ineuron office', 232323232)\n",
      "(240, 'ashish', 'ashish@gmail.com', 232, 237, 560034, 'Whitefield', 'ineuron office', 232323232)\n",
      "(240, 'ashish', 'ashish@gmail.com', 232, 238, 560034, 'Whitefield', 'ineuron office', 232323232)\n",
      "(240, 'ashish', 'ashish@gmail.com', 232, 239, 560034, 'Whitefield', 'ineuron office', 232323232)\n",
      "(240, 'ashish', 'ashish@gmail.com', 232, 240, 560034, 'Whitefield', 'ineuron office', 232323232)\n",
      "(240, 'ashish', 'ashish@gmail.com', 232, 241, 560034, 'Whitefield', 'ineuron office', 232323232)\n",
      "(240, 'ashish', 'ashish@gmail.com', 232, 242, 560034, 'Whitefield', 'ineuron office', 232323232)\n",
      "(240, 'ashish', 'ashish@gmail.com', 232, 247, 34, 'Whitefield', 'ineuron office', 232323232)\n",
      "(240, 'ashish', 'ashish@gmail.com', 232, 237, 560034, 'Whitefield', 'ineuron office', 232323232)\n",
      "(240, 'ashish', 'ashish@gmail.com', 232, 238, 560034, 'Whitefield', 'ineuron office', 232323232)\n",
      "(240, 'ashish', 'ashish@gmail.com', 232, 239, 560034, 'Whitefield', 'ineuron office', 232323232)\n",
      "(240, 'ashish', 'ashish@gmail.com', 232, 240, 560034, 'Whitefield', 'ineuron office', 232323232)\n",
      "(240, 'ashish', 'ashish@gmail.com', 232, 241, 560034, 'Whitefield', 'ineuron office', 232323232)\n",
      "(240, 'ashish', 'ashish@gmail.com', 232, 242, 560034, 'Whitefield', 'ineuron office', 232323232)\n",
      "(241, 'ashish', 'ashish@gmail.com', 232, 235, 560034, 'Whitefield', 'ineuron office', 232323232)\n",
      "(241, 'ashish', 'ashish@gmail.com', 232, 236, 560034, 'Whitefield', 'ineuron office', 232323232)\n",
      "(241, 'ashish', 'ashish@gmail.com', 232, 237, 560034, 'Whitefield', 'ineuron office', 232323232)\n",
      "(241, 'ashish', 'ashish@gmail.com', 232, 238, 560034, 'Whitefield', 'ineuron office', 232323232)\n",
      "(241, 'ashish', 'ashish@gmail.com', 232, 239, 560034, 'Whitefield', 'ineuron office', 232323232)\n",
      "(241, 'ashish', 'ashish@gmail.com', 232, 240, 560034, 'Whitefield', 'ineuron office', 232323232)\n",
      "(241, 'ashish', 'ashish@gmail.com', 232, 241, 560034, 'Whitefield', 'ineuron office', 232323232)\n",
      "(241, 'ashish', 'ashish@gmail.com', 232, 242, 560034, 'Whitefield', 'ineuron office', 232323232)\n",
      "(241, 'ashish', 'ashish@gmail.com', 232, 247, 34, 'Whitefield', 'ineuron office', 232323232)\n",
      "(241, 'ashish', 'ashish@gmail.com', 232, 237, 560034, 'Whitefield', 'ineuron office', 232323232)\n",
      "(241, 'ashish', 'ashish@gmail.com', 232, 238, 560034, 'Whitefield', 'ineuron office', 232323232)\n",
      "(241, 'ashish', 'ashish@gmail.com', 232, 239, 560034, 'Whitefield', 'ineuron office', 232323232)\n",
      "(241, 'ashish', 'ashish@gmail.com', 232, 240, 560034, 'Whitefield', 'ineuron office', 232323232)\n",
      "(241, 'ashish', 'ashish@gmail.com', 232, 241, 560034, 'Whitefield', 'ineuron office', 232323232)\n",
      "(241, 'ashish', 'ashish@gmail.com', 232, 242, 560034, 'Whitefield', 'ineuron office', 232323232)\n",
      "(242, 'ashish', 'ashish@gmail.com', 232, 235, 560034, 'Whitefield', 'ineuron office', 232323232)\n",
      "(242, 'ashish', 'ashish@gmail.com', 232, 236, 560034, 'Whitefield', 'ineuron office', 232323232)\n",
      "(242, 'ashish', 'ashish@gmail.com', 232, 237, 560034, 'Whitefield', 'ineuron office', 232323232)\n",
      "(242, 'ashish', 'ashish@gmail.com', 232, 238, 560034, 'Whitefield', 'ineuron office', 232323232)\n",
      "(242, 'ashish', 'ashish@gmail.com', 232, 239, 560034, 'Whitefield', 'ineuron office', 232323232)\n",
      "(242, 'ashish', 'ashish@gmail.com', 232, 240, 560034, 'Whitefield', 'ineuron office', 232323232)\n",
      "(242, 'ashish', 'ashish@gmail.com', 232, 241, 560034, 'Whitefield', 'ineuron office', 232323232)\n",
      "(242, 'ashish', 'ashish@gmail.com', 232, 242, 560034, 'Whitefield', 'ineuron office', 232323232)\n",
      "(242, 'ashish', 'ashish@gmail.com', 232, 247, 34, 'Whitefield', 'ineuron office', 232323232)\n",
      "(242, 'ashish', 'ashish@gmail.com', 232, 237, 560034, 'Whitefield', 'ineuron office', 232323232)\n",
      "(242, 'ashish', 'ashish@gmail.com', 232, 238, 560034, 'Whitefield', 'ineuron office', 232323232)\n",
      "(242, 'ashish', 'ashish@gmail.com', 232, 239, 560034, 'Whitefield', 'ineuron office', 232323232)\n",
      "(242, 'ashish', 'ashish@gmail.com', 232, 240, 560034, 'Whitefield', 'ineuron office', 232323232)\n",
      "(242, 'ashish', 'ashish@gmail.com', 232, 241, 560034, 'Whitefield', 'ineuron office', 232323232)\n",
      "(242, 'ashish', 'ashish@gmail.com', 232, 242, 560034, 'Whitefield', 'ineuron office', 232323232)\n",
      "(243, 'ashish', 'ashish@gmail.com', 232, 235, 560034, 'Whitefield', 'ineuron office', 232323232)\n",
      "(243, 'ashish', 'ashish@gmail.com', 232, 236, 560034, 'Whitefield', 'ineuron office', 232323232)\n",
      "(243, 'ashish', 'ashish@gmail.com', 232, 237, 560034, 'Whitefield', 'ineuron office', 232323232)\n",
      "(243, 'ashish', 'ashish@gmail.com', 232, 238, 560034, 'Whitefield', 'ineuron office', 232323232)\n",
      "(243, 'ashish', 'ashish@gmail.com', 232, 239, 560034, 'Whitefield', 'ineuron office', 232323232)\n",
      "(243, 'ashish', 'ashish@gmail.com', 232, 240, 560034, 'Whitefield', 'ineuron office', 232323232)\n",
      "(243, 'ashish', 'ashish@gmail.com', 232, 241, 560034, 'Whitefield', 'ineuron office', 232323232)\n",
      "(243, 'ashish', 'ashish@gmail.com', 232, 242, 560034, 'Whitefield', 'ineuron office', 232323232)\n",
      "(243, 'ashish', 'ashish@gmail.com', 232, 247, 34, 'Whitefield', 'ineuron office', 232323232)\n",
      "(243, 'ashish', 'ashish@gmail.com', 232, 237, 560034, 'Whitefield', 'ineuron office', 232323232)\n",
      "(243, 'ashish', 'ashish@gmail.com', 232, 238, 560034, 'Whitefield', 'ineuron office', 232323232)\n",
      "(243, 'ashish', 'ashish@gmail.com', 232, 239, 560034, 'Whitefield', 'ineuron office', 232323232)\n",
      "(243, 'ashish', 'ashish@gmail.com', 232, 240, 560034, 'Whitefield', 'ineuron office', 232323232)\n",
      "(243, 'ashish', 'ashish@gmail.com', 232, 241, 560034, 'Whitefield', 'ineuron office', 232323232)\n",
      "(243, 'ashish', 'ashish@gmail.com', 232, 242, 560034, 'Whitefield', 'ineuron office', 232323232)\n",
      "(244, 'ashish', 'ashish@gmail.com', 232, 235, 560034, 'Whitefield', 'ineuron office', 232323232)\n",
      "(244, 'ashish', 'ashish@gmail.com', 232, 236, 560034, 'Whitefield', 'ineuron office', 232323232)\n",
      "(244, 'ashish', 'ashish@gmail.com', 232, 237, 560034, 'Whitefield', 'ineuron office', 232323232)\n",
      "(244, 'ashish', 'ashish@gmail.com', 232, 238, 560034, 'Whitefield', 'ineuron office', 232323232)\n",
      "(244, 'ashish', 'ashish@gmail.com', 232, 239, 560034, 'Whitefield', 'ineuron office', 232323232)\n",
      "(244, 'ashish', 'ashish@gmail.com', 232, 240, 560034, 'Whitefield', 'ineuron office', 232323232)\n",
      "(244, 'ashish', 'ashish@gmail.com', 232, 241, 560034, 'Whitefield', 'ineuron office', 232323232)\n",
      "(244, 'ashish', 'ashish@gmail.com', 232, 242, 560034, 'Whitefield', 'ineuron office', 232323232)\n",
      "(244, 'ashish', 'ashish@gmail.com', 232, 247, 34, 'Whitefield', 'ineuron office', 232323232)\n",
      "(244, 'ashish', 'ashish@gmail.com', 232, 237, 560034, 'Whitefield', 'ineuron office', 232323232)\n",
      "(244, 'ashish', 'ashish@gmail.com', 232, 238, 560034, 'Whitefield', 'ineuron office', 232323232)\n",
      "(244, 'ashish', 'ashish@gmail.com', 232, 239, 560034, 'Whitefield', 'ineuron office', 232323232)\n",
      "(244, 'ashish', 'ashish@gmail.com', 232, 240, 560034, 'Whitefield', 'ineuron office', 232323232)\n",
      "(244, 'ashish', 'ashish@gmail.com', 232, 241, 560034, 'Whitefield', 'ineuron office', 232323232)\n",
      "(244, 'ashish', 'ashish@gmail.com', 232, 242, 560034, 'Whitefield', 'ineuron office', 232323232)\n",
      "(245, 'ashish', 'ashish@gmail.com', 232, 235, 560034, 'Whitefield', 'ineuron office', 232323232)\n",
      "(245, 'ashish', 'ashish@gmail.com', 232, 236, 560034, 'Whitefield', 'ineuron office', 232323232)\n",
      "(245, 'ashish', 'ashish@gmail.com', 232, 237, 560034, 'Whitefield', 'ineuron office', 232323232)\n",
      "(245, 'ashish', 'ashish@gmail.com', 232, 238, 560034, 'Whitefield', 'ineuron office', 232323232)\n",
      "(245, 'ashish', 'ashish@gmail.com', 232, 239, 560034, 'Whitefield', 'ineuron office', 232323232)\n",
      "(245, 'ashish', 'ashish@gmail.com', 232, 240, 560034, 'Whitefield', 'ineuron office', 232323232)\n",
      "(245, 'ashish', 'ashish@gmail.com', 232, 241, 560034, 'Whitefield', 'ineuron office', 232323232)\n",
      "(245, 'ashish', 'ashish@gmail.com', 232, 242, 560034, 'Whitefield', 'ineuron office', 232323232)\n",
      "(245, 'ashish', 'ashish@gmail.com', 232, 247, 34, 'Whitefield', 'ineuron office', 232323232)\n",
      "(245, 'ashish', 'ashish@gmail.com', 232, 237, 560034, 'Whitefield', 'ineuron office', 232323232)\n",
      "(245, 'ashish', 'ashish@gmail.com', 232, 238, 560034, 'Whitefield', 'ineuron office', 232323232)\n",
      "(245, 'ashish', 'ashish@gmail.com', 232, 239, 560034, 'Whitefield', 'ineuron office', 232323232)\n",
      "(245, 'ashish', 'ashish@gmail.com', 232, 240, 560034, 'Whitefield', 'ineuron office', 232323232)\n",
      "(245, 'ashish', 'ashish@gmail.com', 232, 241, 560034, 'Whitefield', 'ineuron office', 232323232)\n",
      "(245, 'ashish', 'ashish@gmail.com', 232, 242, 560034, 'Whitefield', 'ineuron office', 232323232)\n",
      "(246, 'ashish', 'ashish@gmail.com', 232, 235, 560034, 'Whitefield', 'ineuron office', 232323232)\n",
      "(246, 'ashish', 'ashish@gmail.com', 232, 236, 560034, 'Whitefield', 'ineuron office', 232323232)\n",
      "(246, 'ashish', 'ashish@gmail.com', 232, 237, 560034, 'Whitefield', 'ineuron office', 232323232)\n",
      "(246, 'ashish', 'ashish@gmail.com', 232, 238, 560034, 'Whitefield', 'ineuron office', 232323232)\n",
      "(246, 'ashish', 'ashish@gmail.com', 232, 239, 560034, 'Whitefield', 'ineuron office', 232323232)\n",
      "(246, 'ashish', 'ashish@gmail.com', 232, 240, 560034, 'Whitefield', 'ineuron office', 232323232)\n",
      "(246, 'ashish', 'ashish@gmail.com', 232, 241, 560034, 'Whitefield', 'ineuron office', 232323232)\n",
      "(246, 'ashish', 'ashish@gmail.com', 232, 242, 560034, 'Whitefield', 'ineuron office', 232323232)\n",
      "(246, 'ashish', 'ashish@gmail.com', 232, 247, 34, 'Whitefield', 'ineuron office', 232323232)\n",
      "(246, 'ashish', 'ashish@gmail.com', 232, 237, 560034, 'Whitefield', 'ineuron office', 232323232)\n",
      "(246, 'ashish', 'ashish@gmail.com', 232, 238, 560034, 'Whitefield', 'ineuron office', 232323232)\n",
      "(246, 'ashish', 'ashish@gmail.com', 232, 239, 560034, 'Whitefield', 'ineuron office', 232323232)\n",
      "(246, 'ashish', 'ashish@gmail.com', 232, 240, 560034, 'Whitefield', 'ineuron office', 232323232)\n",
      "(246, 'ashish', 'ashish@gmail.com', 232, 241, 560034, 'Whitefield', 'ineuron office', 232323232)\n",
      "(246, 'ashish', 'ashish@gmail.com', 232, 242, 560034, 'Whitefield', 'ineuron office', 232323232)\n",
      "(247, 'ashish', 'ashish@gmail.com', 232, 235, 560034, 'Whitefield', 'ineuron office', 232323232)\n",
      "(247, 'ashish', 'ashish@gmail.com', 232, 236, 560034, 'Whitefield', 'ineuron office', 232323232)\n",
      "(247, 'ashish', 'ashish@gmail.com', 232, 237, 560034, 'Whitefield', 'ineuron office', 232323232)\n",
      "(247, 'ashish', 'ashish@gmail.com', 232, 238, 560034, 'Whitefield', 'ineuron office', 232323232)\n",
      "(247, 'ashish', 'ashish@gmail.com', 232, 239, 560034, 'Whitefield', 'ineuron office', 232323232)\n",
      "(247, 'ashish', 'ashish@gmail.com', 232, 240, 560034, 'Whitefield', 'ineuron office', 232323232)\n",
      "(247, 'ashish', 'ashish@gmail.com', 232, 241, 560034, 'Whitefield', 'ineuron office', 232323232)\n",
      "(247, 'ashish', 'ashish@gmail.com', 232, 242, 560034, 'Whitefield', 'ineuron office', 232323232)\n",
      "(247, 'ashish', 'ashish@gmail.com', 232, 247, 34, 'Whitefield', 'ineuron office', 232323232)\n",
      "(247, 'ashish', 'ashish@gmail.com', 232, 237, 560034, 'Whitefield', 'ineuron office', 232323232)\n",
      "(247, 'ashish', 'ashish@gmail.com', 232, 238, 560034, 'Whitefield', 'ineuron office', 232323232)\n",
      "(247, 'ashish', 'ashish@gmail.com', 232, 239, 560034, 'Whitefield', 'ineuron office', 232323232)\n",
      "(247, 'ashish', 'ashish@gmail.com', 232, 240, 560034, 'Whitefield', 'ineuron office', 232323232)\n",
      "(247, 'ashish', 'ashish@gmail.com', 232, 241, 560034, 'Whitefield', 'ineuron office', 232323232)\n",
      "(247, 'ashish', 'ashish@gmail.com', 232, 242, 560034, 'Whitefield', 'ineuron office', 232323232)\n",
      "(248, 'ashish', 'ashish@gmail.com', 232, 235, 560034, 'Whitefield', 'ineuron office', 232323232)\n",
      "(248, 'ashish', 'ashish@gmail.com', 232, 236, 560034, 'Whitefield', 'ineuron office', 232323232)\n",
      "(248, 'ashish', 'ashish@gmail.com', 232, 237, 560034, 'Whitefield', 'ineuron office', 232323232)\n",
      "(248, 'ashish', 'ashish@gmail.com', 232, 238, 560034, 'Whitefield', 'ineuron office', 232323232)\n",
      "(248, 'ashish', 'ashish@gmail.com', 232, 239, 560034, 'Whitefield', 'ineuron office', 232323232)\n",
      "(248, 'ashish', 'ashish@gmail.com', 232, 240, 560034, 'Whitefield', 'ineuron office', 232323232)\n",
      "(248, 'ashish', 'ashish@gmail.com', 232, 241, 560034, 'Whitefield', 'ineuron office', 232323232)\n",
      "(248, 'ashish', 'ashish@gmail.com', 232, 242, 560034, 'Whitefield', 'ineuron office', 232323232)\n",
      "(248, 'ashish', 'ashish@gmail.com', 232, 247, 34, 'Whitefield', 'ineuron office', 232323232)\n",
      "(248, 'ashish', 'ashish@gmail.com', 232, 237, 560034, 'Whitefield', 'ineuron office', 232323232)\n",
      "(248, 'ashish', 'ashish@gmail.com', 232, 238, 560034, 'Whitefield', 'ineuron office', 232323232)\n",
      "(248, 'ashish', 'ashish@gmail.com', 232, 239, 560034, 'Whitefield', 'ineuron office', 232323232)\n",
      "(248, 'ashish', 'ashish@gmail.com', 232, 240, 560034, 'Whitefield', 'ineuron office', 232323232)\n",
      "(248, 'ashish', 'ashish@gmail.com', 232, 241, 560034, 'Whitefield', 'ineuron office', 232323232)\n",
      "(248, 'ashish', 'ashish@gmail.com', 232, 242, 560034, 'Whitefield', 'ineuron office', 232323232)\n",
      "(249, 'ashish', 'ashish@gmail.com', 232, 235, 560034, 'Whitefield', 'ineuron office', 232323232)\n",
      "(249, 'ashish', 'ashish@gmail.com', 232, 236, 560034, 'Whitefield', 'ineuron office', 232323232)\n",
      "(249, 'ashish', 'ashish@gmail.com', 232, 237, 560034, 'Whitefield', 'ineuron office', 232323232)\n",
      "(249, 'ashish', 'ashish@gmail.com', 232, 238, 560034, 'Whitefield', 'ineuron office', 232323232)\n",
      "(249, 'ashish', 'ashish@gmail.com', 232, 239, 560034, 'Whitefield', 'ineuron office', 232323232)\n",
      "(249, 'ashish', 'ashish@gmail.com', 232, 240, 560034, 'Whitefield', 'ineuron office', 232323232)\n",
      "(249, 'ashish', 'ashish@gmail.com', 232, 241, 560034, 'Whitefield', 'ineuron office', 232323232)\n",
      "(249, 'ashish', 'ashish@gmail.com', 232, 242, 560034, 'Whitefield', 'ineuron office', 232323232)\n",
      "(249, 'ashish', 'ashish@gmail.com', 232, 247, 34, 'Whitefield', 'ineuron office', 232323232)\n",
      "(249, 'ashish', 'ashish@gmail.com', 232, 237, 560034, 'Whitefield', 'ineuron office', 232323232)\n",
      "(249, 'ashish', 'ashish@gmail.com', 232, 238, 560034, 'Whitefield', 'ineuron office', 232323232)\n",
      "(249, 'ashish', 'ashish@gmail.com', 232, 239, 560034, 'Whitefield', 'ineuron office', 232323232)\n",
      "(249, 'ashish', 'ashish@gmail.com', 232, 240, 560034, 'Whitefield', 'ineuron office', 232323232)\n",
      "(249, 'ashish', 'ashish@gmail.com', 232, 241, 560034, 'Whitefield', 'ineuron office', 232323232)\n",
      "(249, 'ashish', 'ashish@gmail.com', 232, 242, 560034, 'Whitefield', 'ineuron office', 232323232)\n",
      "(250, 'ashish', 'ashish@gmail.com', 232, 235, 560034, 'Whitefield', 'ineuron office', 232323232)\n",
      "(250, 'ashish', 'ashish@gmail.com', 232, 236, 560034, 'Whitefield', 'ineuron office', 232323232)\n",
      "(250, 'ashish', 'ashish@gmail.com', 232, 237, 560034, 'Whitefield', 'ineuron office', 232323232)\n",
      "(250, 'ashish', 'ashish@gmail.com', 232, 238, 560034, 'Whitefield', 'ineuron office', 232323232)\n",
      "(250, 'ashish', 'ashish@gmail.com', 232, 239, 560034, 'Whitefield', 'ineuron office', 232323232)\n",
      "(250, 'ashish', 'ashish@gmail.com', 232, 240, 560034, 'Whitefield', 'ineuron office', 232323232)\n",
      "(250, 'ashish', 'ashish@gmail.com', 232, 241, 560034, 'Whitefield', 'ineuron office', 232323232)\n",
      "(250, 'ashish', 'ashish@gmail.com', 232, 242, 560034, 'Whitefield', 'ineuron office', 232323232)\n",
      "(250, 'ashish', 'ashish@gmail.com', 232, 247, 34, 'Whitefield', 'ineuron office', 232323232)\n",
      "(250, 'ashish', 'ashish@gmail.com', 232, 237, 560034, 'Whitefield', 'ineuron office', 232323232)\n",
      "(250, 'ashish', 'ashish@gmail.com', 232, 238, 560034, 'Whitefield', 'ineuron office', 232323232)\n",
      "(250, 'ashish', 'ashish@gmail.com', 232, 239, 560034, 'Whitefield', 'ineuron office', 232323232)\n",
      "(250, 'ashish', 'ashish@gmail.com', 232, 240, 560034, 'Whitefield', 'ineuron office', 232323232)\n",
      "(250, 'ashish', 'ashish@gmail.com', 232, 241, 560034, 'Whitefield', 'ineuron office', 232323232)\n",
      "(250, 'ashish', 'ashish@gmail.com', 232, 242, 560034, 'Whitefield', 'ineuron office', 232323232)\n",
      "(251, 'ashish', 'ashish@gmail.com', 232, 235, 560034, 'Whitefield', 'ineuron office', 232323232)\n",
      "(251, 'ashish', 'ashish@gmail.com', 232, 236, 560034, 'Whitefield', 'ineuron office', 232323232)\n",
      "(251, 'ashish', 'ashish@gmail.com', 232, 237, 560034, 'Whitefield', 'ineuron office', 232323232)\n",
      "(251, 'ashish', 'ashish@gmail.com', 232, 238, 560034, 'Whitefield', 'ineuron office', 232323232)\n",
      "(251, 'ashish', 'ashish@gmail.com', 232, 239, 560034, 'Whitefield', 'ineuron office', 232323232)\n",
      "(251, 'ashish', 'ashish@gmail.com', 232, 240, 560034, 'Whitefield', 'ineuron office', 232323232)\n",
      "(251, 'ashish', 'ashish@gmail.com', 232, 241, 560034, 'Whitefield', 'ineuron office', 232323232)\n",
      "(251, 'ashish', 'ashish@gmail.com', 232, 242, 560034, 'Whitefield', 'ineuron office', 232323232)\n",
      "(251, 'ashish', 'ashish@gmail.com', 232, 247, 34, 'Whitefield', 'ineuron office', 232323232)\n",
      "(251, 'ashish', 'ashish@gmail.com', 232, 237, 560034, 'Whitefield', 'ineuron office', 232323232)\n",
      "(251, 'ashish', 'ashish@gmail.com', 232, 238, 560034, 'Whitefield', 'ineuron office', 232323232)\n",
      "(251, 'ashish', 'ashish@gmail.com', 232, 239, 560034, 'Whitefield', 'ineuron office', 232323232)\n",
      "(251, 'ashish', 'ashish@gmail.com', 232, 240, 560034, 'Whitefield', 'ineuron office', 232323232)\n",
      "(251, 'ashish', 'ashish@gmail.com', 232, 241, 560034, 'Whitefield', 'ineuron office', 232323232)\n",
      "(251, 'ashish', 'ashish@gmail.com', 232, 242, 560034, 'Whitefield', 'ineuron office', 232323232)\n",
      "(252, 'ashish', 'ashish@gmail.com', 232, 235, 560034, 'Whitefield', 'ineuron office', 232323232)\n",
      "(252, 'ashish', 'ashish@gmail.com', 232, 236, 560034, 'Whitefield', 'ineuron office', 232323232)\n",
      "(252, 'ashish', 'ashish@gmail.com', 232, 237, 560034, 'Whitefield', 'ineuron office', 232323232)\n",
      "(252, 'ashish', 'ashish@gmail.com', 232, 238, 560034, 'Whitefield', 'ineuron office', 232323232)\n",
      "(252, 'ashish', 'ashish@gmail.com', 232, 239, 560034, 'Whitefield', 'ineuron office', 232323232)\n",
      "(252, 'ashish', 'ashish@gmail.com', 232, 240, 560034, 'Whitefield', 'ineuron office', 232323232)\n",
      "(252, 'ashish', 'ashish@gmail.com', 232, 241, 560034, 'Whitefield', 'ineuron office', 232323232)\n",
      "(252, 'ashish', 'ashish@gmail.com', 232, 242, 560034, 'Whitefield', 'ineuron office', 232323232)\n",
      "(252, 'ashish', 'ashish@gmail.com', 232, 247, 34, 'Whitefield', 'ineuron office', 232323232)\n",
      "(252, 'ashish', 'ashish@gmail.com', 232, 237, 560034, 'Whitefield', 'ineuron office', 232323232)\n",
      "(252, 'ashish', 'ashish@gmail.com', 232, 238, 560034, 'Whitefield', 'ineuron office', 232323232)\n",
      "(252, 'ashish', 'ashish@gmail.com', 232, 239, 560034, 'Whitefield', 'ineuron office', 232323232)\n",
      "(252, 'ashish', 'ashish@gmail.com', 232, 240, 560034, 'Whitefield', 'ineuron office', 232323232)\n",
      "(252, 'ashish', 'ashish@gmail.com', 232, 241, 560034, 'Whitefield', 'ineuron office', 232323232)\n",
      "(252, 'ashish', 'ashish@gmail.com', 232, 242, 560034, 'Whitefield', 'ineuron office', 232323232)\n"
     ]
    }
   ],
   "source": [
    "for i in data:\n",
    "    print(i)"
   ]
  },
  {
   "cell_type": "code",
   "execution_count": 72,
   "metadata": {},
   "outputs": [],
   "source": [
    "data = c.execute(\"select * from student s left join address a on s.student_id\")"
   ]
  },
  {
   "cell_type": "code",
   "execution_count": 73,
   "metadata": {},
   "outputs": [
    {
     "name": "stdout",
     "output_type": "stream",
     "text": [
      "(234, 'ashish', 'ashish@gmail.com', 232, 235, 560034, 'Whitefield', 'ineuron office', 232323232)\n",
      "(234, 'ashish', 'ashish@gmail.com', 232, 236, 560034, 'Whitefield', 'ineuron office', 232323232)\n",
      "(234, 'ashish', 'ashish@gmail.com', 232, 237, 560034, 'Whitefield', 'ineuron office', 232323232)\n",
      "(234, 'ashish', 'ashish@gmail.com', 232, 238, 560034, 'Whitefield', 'ineuron office', 232323232)\n",
      "(234, 'ashish', 'ashish@gmail.com', 232, 239, 560034, 'Whitefield', 'ineuron office', 232323232)\n",
      "(234, 'ashish', 'ashish@gmail.com', 232, 240, 560034, 'Whitefield', 'ineuron office', 232323232)\n",
      "(234, 'ashish', 'ashish@gmail.com', 232, 241, 560034, 'Whitefield', 'ineuron office', 232323232)\n",
      "(234, 'ashish', 'ashish@gmail.com', 232, 242, 560034, 'Whitefield', 'ineuron office', 232323232)\n",
      "(234, 'ashish', 'ashish@gmail.com', 232, 247, 34, 'Whitefield', 'ineuron office', 232323232)\n",
      "(234, 'ashish', 'ashish@gmail.com', 232, 237, 560034, 'Whitefield', 'ineuron office', 232323232)\n",
      "(234, 'ashish', 'ashish@gmail.com', 232, 238, 560034, 'Whitefield', 'ineuron office', 232323232)\n",
      "(234, 'ashish', 'ashish@gmail.com', 232, 239, 560034, 'Whitefield', 'ineuron office', 232323232)\n",
      "(234, 'ashish', 'ashish@gmail.com', 232, 240, 560034, 'Whitefield', 'ineuron office', 232323232)\n",
      "(234, 'ashish', 'ashish@gmail.com', 232, 241, 560034, 'Whitefield', 'ineuron office', 232323232)\n",
      "(234, 'ashish', 'ashish@gmail.com', 232, 242, 560034, 'Whitefield', 'ineuron office', 232323232)\n",
      "(235, 'ashish', 'ashish@gmail.com', 232, 235, 560034, 'Whitefield', 'ineuron office', 232323232)\n",
      "(235, 'ashish', 'ashish@gmail.com', 232, 236, 560034, 'Whitefield', 'ineuron office', 232323232)\n",
      "(235, 'ashish', 'ashish@gmail.com', 232, 237, 560034, 'Whitefield', 'ineuron office', 232323232)\n",
      "(235, 'ashish', 'ashish@gmail.com', 232, 238, 560034, 'Whitefield', 'ineuron office', 232323232)\n",
      "(235, 'ashish', 'ashish@gmail.com', 232, 239, 560034, 'Whitefield', 'ineuron office', 232323232)\n",
      "(235, 'ashish', 'ashish@gmail.com', 232, 240, 560034, 'Whitefield', 'ineuron office', 232323232)\n",
      "(235, 'ashish', 'ashish@gmail.com', 232, 241, 560034, 'Whitefield', 'ineuron office', 232323232)\n",
      "(235, 'ashish', 'ashish@gmail.com', 232, 242, 560034, 'Whitefield', 'ineuron office', 232323232)\n",
      "(235, 'ashish', 'ashish@gmail.com', 232, 247, 34, 'Whitefield', 'ineuron office', 232323232)\n",
      "(235, 'ashish', 'ashish@gmail.com', 232, 237, 560034, 'Whitefield', 'ineuron office', 232323232)\n",
      "(235, 'ashish', 'ashish@gmail.com', 232, 238, 560034, 'Whitefield', 'ineuron office', 232323232)\n",
      "(235, 'ashish', 'ashish@gmail.com', 232, 239, 560034, 'Whitefield', 'ineuron office', 232323232)\n",
      "(235, 'ashish', 'ashish@gmail.com', 232, 240, 560034, 'Whitefield', 'ineuron office', 232323232)\n",
      "(235, 'ashish', 'ashish@gmail.com', 232, 241, 560034, 'Whitefield', 'ineuron office', 232323232)\n",
      "(235, 'ashish', 'ashish@gmail.com', 232, 242, 560034, 'Whitefield', 'ineuron office', 232323232)\n",
      "(236, 'ashish', 'ashish@gmail.com', 232, 235, 560034, 'Whitefield', 'ineuron office', 232323232)\n",
      "(236, 'ashish', 'ashish@gmail.com', 232, 236, 560034, 'Whitefield', 'ineuron office', 232323232)\n",
      "(236, 'ashish', 'ashish@gmail.com', 232, 237, 560034, 'Whitefield', 'ineuron office', 232323232)\n",
      "(236, 'ashish', 'ashish@gmail.com', 232, 238, 560034, 'Whitefield', 'ineuron office', 232323232)\n",
      "(236, 'ashish', 'ashish@gmail.com', 232, 239, 560034, 'Whitefield', 'ineuron office', 232323232)\n",
      "(236, 'ashish', 'ashish@gmail.com', 232, 240, 560034, 'Whitefield', 'ineuron office', 232323232)\n",
      "(236, 'ashish', 'ashish@gmail.com', 232, 241, 560034, 'Whitefield', 'ineuron office', 232323232)\n",
      "(236, 'ashish', 'ashish@gmail.com', 232, 242, 560034, 'Whitefield', 'ineuron office', 232323232)\n",
      "(236, 'ashish', 'ashish@gmail.com', 232, 247, 34, 'Whitefield', 'ineuron office', 232323232)\n",
      "(236, 'ashish', 'ashish@gmail.com', 232, 237, 560034, 'Whitefield', 'ineuron office', 232323232)\n",
      "(236, 'ashish', 'ashish@gmail.com', 232, 238, 560034, 'Whitefield', 'ineuron office', 232323232)\n",
      "(236, 'ashish', 'ashish@gmail.com', 232, 239, 560034, 'Whitefield', 'ineuron office', 232323232)\n",
      "(236, 'ashish', 'ashish@gmail.com', 232, 240, 560034, 'Whitefield', 'ineuron office', 232323232)\n",
      "(236, 'ashish', 'ashish@gmail.com', 232, 241, 560034, 'Whitefield', 'ineuron office', 232323232)\n",
      "(236, 'ashish', 'ashish@gmail.com', 232, 242, 560034, 'Whitefield', 'ineuron office', 232323232)\n",
      "(237, 'ashish', 'ashish@gmail.com', 232, 235, 560034, 'Whitefield', 'ineuron office', 232323232)\n",
      "(237, 'ashish', 'ashish@gmail.com', 232, 236, 560034, 'Whitefield', 'ineuron office', 232323232)\n",
      "(237, 'ashish', 'ashish@gmail.com', 232, 237, 560034, 'Whitefield', 'ineuron office', 232323232)\n",
      "(237, 'ashish', 'ashish@gmail.com', 232, 238, 560034, 'Whitefield', 'ineuron office', 232323232)\n",
      "(237, 'ashish', 'ashish@gmail.com', 232, 239, 560034, 'Whitefield', 'ineuron office', 232323232)\n",
      "(237, 'ashish', 'ashish@gmail.com', 232, 240, 560034, 'Whitefield', 'ineuron office', 232323232)\n",
      "(237, 'ashish', 'ashish@gmail.com', 232, 241, 560034, 'Whitefield', 'ineuron office', 232323232)\n",
      "(237, 'ashish', 'ashish@gmail.com', 232, 242, 560034, 'Whitefield', 'ineuron office', 232323232)\n",
      "(237, 'ashish', 'ashish@gmail.com', 232, 247, 34, 'Whitefield', 'ineuron office', 232323232)\n",
      "(237, 'ashish', 'ashish@gmail.com', 232, 237, 560034, 'Whitefield', 'ineuron office', 232323232)\n",
      "(237, 'ashish', 'ashish@gmail.com', 232, 238, 560034, 'Whitefield', 'ineuron office', 232323232)\n",
      "(237, 'ashish', 'ashish@gmail.com', 232, 239, 560034, 'Whitefield', 'ineuron office', 232323232)\n",
      "(237, 'ashish', 'ashish@gmail.com', 232, 240, 560034, 'Whitefield', 'ineuron office', 232323232)\n",
      "(237, 'ashish', 'ashish@gmail.com', 232, 241, 560034, 'Whitefield', 'ineuron office', 232323232)\n",
      "(237, 'ashish', 'ashish@gmail.com', 232, 242, 560034, 'Whitefield', 'ineuron office', 232323232)\n",
      "(238, 'ashish', 'ashish@gmail.com', 232, 235, 560034, 'Whitefield', 'ineuron office', 232323232)\n",
      "(238, 'ashish', 'ashish@gmail.com', 232, 236, 560034, 'Whitefield', 'ineuron office', 232323232)\n",
      "(238, 'ashish', 'ashish@gmail.com', 232, 237, 560034, 'Whitefield', 'ineuron office', 232323232)\n",
      "(238, 'ashish', 'ashish@gmail.com', 232, 238, 560034, 'Whitefield', 'ineuron office', 232323232)\n",
      "(238, 'ashish', 'ashish@gmail.com', 232, 239, 560034, 'Whitefield', 'ineuron office', 232323232)\n",
      "(238, 'ashish', 'ashish@gmail.com', 232, 240, 560034, 'Whitefield', 'ineuron office', 232323232)\n",
      "(238, 'ashish', 'ashish@gmail.com', 232, 241, 560034, 'Whitefield', 'ineuron office', 232323232)\n",
      "(238, 'ashish', 'ashish@gmail.com', 232, 242, 560034, 'Whitefield', 'ineuron office', 232323232)\n",
      "(238, 'ashish', 'ashish@gmail.com', 232, 247, 34, 'Whitefield', 'ineuron office', 232323232)\n",
      "(238, 'ashish', 'ashish@gmail.com', 232, 237, 560034, 'Whitefield', 'ineuron office', 232323232)\n",
      "(238, 'ashish', 'ashish@gmail.com', 232, 238, 560034, 'Whitefield', 'ineuron office', 232323232)\n",
      "(238, 'ashish', 'ashish@gmail.com', 232, 239, 560034, 'Whitefield', 'ineuron office', 232323232)\n",
      "(238, 'ashish', 'ashish@gmail.com', 232, 240, 560034, 'Whitefield', 'ineuron office', 232323232)\n",
      "(238, 'ashish', 'ashish@gmail.com', 232, 241, 560034, 'Whitefield', 'ineuron office', 232323232)\n",
      "(238, 'ashish', 'ashish@gmail.com', 232, 242, 560034, 'Whitefield', 'ineuron office', 232323232)\n",
      "(239, 'ashish', 'ashish@gmail.com', 232, 235, 560034, 'Whitefield', 'ineuron office', 232323232)\n",
      "(239, 'ashish', 'ashish@gmail.com', 232, 236, 560034, 'Whitefield', 'ineuron office', 232323232)\n",
      "(239, 'ashish', 'ashish@gmail.com', 232, 237, 560034, 'Whitefield', 'ineuron office', 232323232)\n",
      "(239, 'ashish', 'ashish@gmail.com', 232, 238, 560034, 'Whitefield', 'ineuron office', 232323232)\n",
      "(239, 'ashish', 'ashish@gmail.com', 232, 239, 560034, 'Whitefield', 'ineuron office', 232323232)\n",
      "(239, 'ashish', 'ashish@gmail.com', 232, 240, 560034, 'Whitefield', 'ineuron office', 232323232)\n",
      "(239, 'ashish', 'ashish@gmail.com', 232, 241, 560034, 'Whitefield', 'ineuron office', 232323232)\n",
      "(239, 'ashish', 'ashish@gmail.com', 232, 242, 560034, 'Whitefield', 'ineuron office', 232323232)\n",
      "(239, 'ashish', 'ashish@gmail.com', 232, 247, 34, 'Whitefield', 'ineuron office', 232323232)\n",
      "(239, 'ashish', 'ashish@gmail.com', 232, 237, 560034, 'Whitefield', 'ineuron office', 232323232)\n",
      "(239, 'ashish', 'ashish@gmail.com', 232, 238, 560034, 'Whitefield', 'ineuron office', 232323232)\n",
      "(239, 'ashish', 'ashish@gmail.com', 232, 239, 560034, 'Whitefield', 'ineuron office', 232323232)\n",
      "(239, 'ashish', 'ashish@gmail.com', 232, 240, 560034, 'Whitefield', 'ineuron office', 232323232)\n",
      "(239, 'ashish', 'ashish@gmail.com', 232, 241, 560034, 'Whitefield', 'ineuron office', 232323232)\n",
      "(239, 'ashish', 'ashish@gmail.com', 232, 242, 560034, 'Whitefield', 'ineuron office', 232323232)\n",
      "(240, 'ashish', 'ashish@gmail.com', 232, 235, 560034, 'Whitefield', 'ineuron office', 232323232)\n",
      "(240, 'ashish', 'ashish@gmail.com', 232, 236, 560034, 'Whitefield', 'ineuron office', 232323232)\n",
      "(240, 'ashish', 'ashish@gmail.com', 232, 237, 560034, 'Whitefield', 'ineuron office', 232323232)\n",
      "(240, 'ashish', 'ashish@gmail.com', 232, 238, 560034, 'Whitefield', 'ineuron office', 232323232)\n",
      "(240, 'ashish', 'ashish@gmail.com', 232, 239, 560034, 'Whitefield', 'ineuron office', 232323232)\n",
      "(240, 'ashish', 'ashish@gmail.com', 232, 240, 560034, 'Whitefield', 'ineuron office', 232323232)\n",
      "(240, 'ashish', 'ashish@gmail.com', 232, 241, 560034, 'Whitefield', 'ineuron office', 232323232)\n",
      "(240, 'ashish', 'ashish@gmail.com', 232, 242, 560034, 'Whitefield', 'ineuron office', 232323232)\n",
      "(240, 'ashish', 'ashish@gmail.com', 232, 247, 34, 'Whitefield', 'ineuron office', 232323232)\n",
      "(240, 'ashish', 'ashish@gmail.com', 232, 237, 560034, 'Whitefield', 'ineuron office', 232323232)\n",
      "(240, 'ashish', 'ashish@gmail.com', 232, 238, 560034, 'Whitefield', 'ineuron office', 232323232)\n",
      "(240, 'ashish', 'ashish@gmail.com', 232, 239, 560034, 'Whitefield', 'ineuron office', 232323232)\n",
      "(240, 'ashish', 'ashish@gmail.com', 232, 240, 560034, 'Whitefield', 'ineuron office', 232323232)\n",
      "(240, 'ashish', 'ashish@gmail.com', 232, 241, 560034, 'Whitefield', 'ineuron office', 232323232)\n",
      "(240, 'ashish', 'ashish@gmail.com', 232, 242, 560034, 'Whitefield', 'ineuron office', 232323232)\n",
      "(241, 'ashish', 'ashish@gmail.com', 232, 235, 560034, 'Whitefield', 'ineuron office', 232323232)\n",
      "(241, 'ashish', 'ashish@gmail.com', 232, 236, 560034, 'Whitefield', 'ineuron office', 232323232)\n",
      "(241, 'ashish', 'ashish@gmail.com', 232, 237, 560034, 'Whitefield', 'ineuron office', 232323232)\n",
      "(241, 'ashish', 'ashish@gmail.com', 232, 238, 560034, 'Whitefield', 'ineuron office', 232323232)\n",
      "(241, 'ashish', 'ashish@gmail.com', 232, 239, 560034, 'Whitefield', 'ineuron office', 232323232)\n",
      "(241, 'ashish', 'ashish@gmail.com', 232, 240, 560034, 'Whitefield', 'ineuron office', 232323232)\n",
      "(241, 'ashish', 'ashish@gmail.com', 232, 241, 560034, 'Whitefield', 'ineuron office', 232323232)\n",
      "(241, 'ashish', 'ashish@gmail.com', 232, 242, 560034, 'Whitefield', 'ineuron office', 232323232)\n",
      "(241, 'ashish', 'ashish@gmail.com', 232, 247, 34, 'Whitefield', 'ineuron office', 232323232)\n",
      "(241, 'ashish', 'ashish@gmail.com', 232, 237, 560034, 'Whitefield', 'ineuron office', 232323232)\n",
      "(241, 'ashish', 'ashish@gmail.com', 232, 238, 560034, 'Whitefield', 'ineuron office', 232323232)\n",
      "(241, 'ashish', 'ashish@gmail.com', 232, 239, 560034, 'Whitefield', 'ineuron office', 232323232)\n",
      "(241, 'ashish', 'ashish@gmail.com', 232, 240, 560034, 'Whitefield', 'ineuron office', 232323232)\n",
      "(241, 'ashish', 'ashish@gmail.com', 232, 241, 560034, 'Whitefield', 'ineuron office', 232323232)\n",
      "(241, 'ashish', 'ashish@gmail.com', 232, 242, 560034, 'Whitefield', 'ineuron office', 232323232)\n",
      "(242, 'ashish', 'ashish@gmail.com', 232, 235, 560034, 'Whitefield', 'ineuron office', 232323232)\n",
      "(242, 'ashish', 'ashish@gmail.com', 232, 236, 560034, 'Whitefield', 'ineuron office', 232323232)\n",
      "(242, 'ashish', 'ashish@gmail.com', 232, 237, 560034, 'Whitefield', 'ineuron office', 232323232)\n",
      "(242, 'ashish', 'ashish@gmail.com', 232, 238, 560034, 'Whitefield', 'ineuron office', 232323232)\n",
      "(242, 'ashish', 'ashish@gmail.com', 232, 239, 560034, 'Whitefield', 'ineuron office', 232323232)\n",
      "(242, 'ashish', 'ashish@gmail.com', 232, 240, 560034, 'Whitefield', 'ineuron office', 232323232)\n",
      "(242, 'ashish', 'ashish@gmail.com', 232, 241, 560034, 'Whitefield', 'ineuron office', 232323232)\n",
      "(242, 'ashish', 'ashish@gmail.com', 232, 242, 560034, 'Whitefield', 'ineuron office', 232323232)\n",
      "(242, 'ashish', 'ashish@gmail.com', 232, 247, 34, 'Whitefield', 'ineuron office', 232323232)\n",
      "(242, 'ashish', 'ashish@gmail.com', 232, 237, 560034, 'Whitefield', 'ineuron office', 232323232)\n",
      "(242, 'ashish', 'ashish@gmail.com', 232, 238, 560034, 'Whitefield', 'ineuron office', 232323232)\n",
      "(242, 'ashish', 'ashish@gmail.com', 232, 239, 560034, 'Whitefield', 'ineuron office', 232323232)\n",
      "(242, 'ashish', 'ashish@gmail.com', 232, 240, 560034, 'Whitefield', 'ineuron office', 232323232)\n",
      "(242, 'ashish', 'ashish@gmail.com', 232, 241, 560034, 'Whitefield', 'ineuron office', 232323232)\n",
      "(242, 'ashish', 'ashish@gmail.com', 232, 242, 560034, 'Whitefield', 'ineuron office', 232323232)\n",
      "(243, 'ashish', 'ashish@gmail.com', 232, 235, 560034, 'Whitefield', 'ineuron office', 232323232)\n",
      "(243, 'ashish', 'ashish@gmail.com', 232, 236, 560034, 'Whitefield', 'ineuron office', 232323232)\n",
      "(243, 'ashish', 'ashish@gmail.com', 232, 237, 560034, 'Whitefield', 'ineuron office', 232323232)\n",
      "(243, 'ashish', 'ashish@gmail.com', 232, 238, 560034, 'Whitefield', 'ineuron office', 232323232)\n",
      "(243, 'ashish', 'ashish@gmail.com', 232, 239, 560034, 'Whitefield', 'ineuron office', 232323232)\n",
      "(243, 'ashish', 'ashish@gmail.com', 232, 240, 560034, 'Whitefield', 'ineuron office', 232323232)\n",
      "(243, 'ashish', 'ashish@gmail.com', 232, 241, 560034, 'Whitefield', 'ineuron office', 232323232)\n",
      "(243, 'ashish', 'ashish@gmail.com', 232, 242, 560034, 'Whitefield', 'ineuron office', 232323232)\n",
      "(243, 'ashish', 'ashish@gmail.com', 232, 247, 34, 'Whitefield', 'ineuron office', 232323232)\n",
      "(243, 'ashish', 'ashish@gmail.com', 232, 237, 560034, 'Whitefield', 'ineuron office', 232323232)\n",
      "(243, 'ashish', 'ashish@gmail.com', 232, 238, 560034, 'Whitefield', 'ineuron office', 232323232)\n",
      "(243, 'ashish', 'ashish@gmail.com', 232, 239, 560034, 'Whitefield', 'ineuron office', 232323232)\n",
      "(243, 'ashish', 'ashish@gmail.com', 232, 240, 560034, 'Whitefield', 'ineuron office', 232323232)\n",
      "(243, 'ashish', 'ashish@gmail.com', 232, 241, 560034, 'Whitefield', 'ineuron office', 232323232)\n",
      "(243, 'ashish', 'ashish@gmail.com', 232, 242, 560034, 'Whitefield', 'ineuron office', 232323232)\n",
      "(244, 'ashish', 'ashish@gmail.com', 232, 235, 560034, 'Whitefield', 'ineuron office', 232323232)\n",
      "(244, 'ashish', 'ashish@gmail.com', 232, 236, 560034, 'Whitefield', 'ineuron office', 232323232)\n",
      "(244, 'ashish', 'ashish@gmail.com', 232, 237, 560034, 'Whitefield', 'ineuron office', 232323232)\n",
      "(244, 'ashish', 'ashish@gmail.com', 232, 238, 560034, 'Whitefield', 'ineuron office', 232323232)\n",
      "(244, 'ashish', 'ashish@gmail.com', 232, 239, 560034, 'Whitefield', 'ineuron office', 232323232)\n",
      "(244, 'ashish', 'ashish@gmail.com', 232, 240, 560034, 'Whitefield', 'ineuron office', 232323232)\n",
      "(244, 'ashish', 'ashish@gmail.com', 232, 241, 560034, 'Whitefield', 'ineuron office', 232323232)\n",
      "(244, 'ashish', 'ashish@gmail.com', 232, 242, 560034, 'Whitefield', 'ineuron office', 232323232)\n",
      "(244, 'ashish', 'ashish@gmail.com', 232, 247, 34, 'Whitefield', 'ineuron office', 232323232)\n",
      "(244, 'ashish', 'ashish@gmail.com', 232, 237, 560034, 'Whitefield', 'ineuron office', 232323232)\n",
      "(244, 'ashish', 'ashish@gmail.com', 232, 238, 560034, 'Whitefield', 'ineuron office', 232323232)\n",
      "(244, 'ashish', 'ashish@gmail.com', 232, 239, 560034, 'Whitefield', 'ineuron office', 232323232)\n",
      "(244, 'ashish', 'ashish@gmail.com', 232, 240, 560034, 'Whitefield', 'ineuron office', 232323232)\n",
      "(244, 'ashish', 'ashish@gmail.com', 232, 241, 560034, 'Whitefield', 'ineuron office', 232323232)\n",
      "(244, 'ashish', 'ashish@gmail.com', 232, 242, 560034, 'Whitefield', 'ineuron office', 232323232)\n",
      "(245, 'ashish', 'ashish@gmail.com', 232, 235, 560034, 'Whitefield', 'ineuron office', 232323232)\n",
      "(245, 'ashish', 'ashish@gmail.com', 232, 236, 560034, 'Whitefield', 'ineuron office', 232323232)\n",
      "(245, 'ashish', 'ashish@gmail.com', 232, 237, 560034, 'Whitefield', 'ineuron office', 232323232)\n",
      "(245, 'ashish', 'ashish@gmail.com', 232, 238, 560034, 'Whitefield', 'ineuron office', 232323232)\n",
      "(245, 'ashish', 'ashish@gmail.com', 232, 239, 560034, 'Whitefield', 'ineuron office', 232323232)\n",
      "(245, 'ashish', 'ashish@gmail.com', 232, 240, 560034, 'Whitefield', 'ineuron office', 232323232)\n",
      "(245, 'ashish', 'ashish@gmail.com', 232, 241, 560034, 'Whitefield', 'ineuron office', 232323232)\n",
      "(245, 'ashish', 'ashish@gmail.com', 232, 242, 560034, 'Whitefield', 'ineuron office', 232323232)\n",
      "(245, 'ashish', 'ashish@gmail.com', 232, 247, 34, 'Whitefield', 'ineuron office', 232323232)\n",
      "(245, 'ashish', 'ashish@gmail.com', 232, 237, 560034, 'Whitefield', 'ineuron office', 232323232)\n",
      "(245, 'ashish', 'ashish@gmail.com', 232, 238, 560034, 'Whitefield', 'ineuron office', 232323232)\n",
      "(245, 'ashish', 'ashish@gmail.com', 232, 239, 560034, 'Whitefield', 'ineuron office', 232323232)\n",
      "(245, 'ashish', 'ashish@gmail.com', 232, 240, 560034, 'Whitefield', 'ineuron office', 232323232)\n",
      "(245, 'ashish', 'ashish@gmail.com', 232, 241, 560034, 'Whitefield', 'ineuron office', 232323232)\n",
      "(245, 'ashish', 'ashish@gmail.com', 232, 242, 560034, 'Whitefield', 'ineuron office', 232323232)\n",
      "(246, 'ashish', 'ashish@gmail.com', 232, 235, 560034, 'Whitefield', 'ineuron office', 232323232)\n",
      "(246, 'ashish', 'ashish@gmail.com', 232, 236, 560034, 'Whitefield', 'ineuron office', 232323232)\n",
      "(246, 'ashish', 'ashish@gmail.com', 232, 237, 560034, 'Whitefield', 'ineuron office', 232323232)\n",
      "(246, 'ashish', 'ashish@gmail.com', 232, 238, 560034, 'Whitefield', 'ineuron office', 232323232)\n",
      "(246, 'ashish', 'ashish@gmail.com', 232, 239, 560034, 'Whitefield', 'ineuron office', 232323232)\n",
      "(246, 'ashish', 'ashish@gmail.com', 232, 240, 560034, 'Whitefield', 'ineuron office', 232323232)\n",
      "(246, 'ashish', 'ashish@gmail.com', 232, 241, 560034, 'Whitefield', 'ineuron office', 232323232)\n",
      "(246, 'ashish', 'ashish@gmail.com', 232, 242, 560034, 'Whitefield', 'ineuron office', 232323232)\n",
      "(246, 'ashish', 'ashish@gmail.com', 232, 247, 34, 'Whitefield', 'ineuron office', 232323232)\n",
      "(246, 'ashish', 'ashish@gmail.com', 232, 237, 560034, 'Whitefield', 'ineuron office', 232323232)\n",
      "(246, 'ashish', 'ashish@gmail.com', 232, 238, 560034, 'Whitefield', 'ineuron office', 232323232)\n",
      "(246, 'ashish', 'ashish@gmail.com', 232, 239, 560034, 'Whitefield', 'ineuron office', 232323232)\n",
      "(246, 'ashish', 'ashish@gmail.com', 232, 240, 560034, 'Whitefield', 'ineuron office', 232323232)\n",
      "(246, 'ashish', 'ashish@gmail.com', 232, 241, 560034, 'Whitefield', 'ineuron office', 232323232)\n",
      "(246, 'ashish', 'ashish@gmail.com', 232, 242, 560034, 'Whitefield', 'ineuron office', 232323232)\n",
      "(247, 'ashish', 'ashish@gmail.com', 232, 235, 560034, 'Whitefield', 'ineuron office', 232323232)\n",
      "(247, 'ashish', 'ashish@gmail.com', 232, 236, 560034, 'Whitefield', 'ineuron office', 232323232)\n",
      "(247, 'ashish', 'ashish@gmail.com', 232, 237, 560034, 'Whitefield', 'ineuron office', 232323232)\n",
      "(247, 'ashish', 'ashish@gmail.com', 232, 238, 560034, 'Whitefield', 'ineuron office', 232323232)\n",
      "(247, 'ashish', 'ashish@gmail.com', 232, 239, 560034, 'Whitefield', 'ineuron office', 232323232)\n",
      "(247, 'ashish', 'ashish@gmail.com', 232, 240, 560034, 'Whitefield', 'ineuron office', 232323232)\n",
      "(247, 'ashish', 'ashish@gmail.com', 232, 241, 560034, 'Whitefield', 'ineuron office', 232323232)\n",
      "(247, 'ashish', 'ashish@gmail.com', 232, 242, 560034, 'Whitefield', 'ineuron office', 232323232)\n",
      "(247, 'ashish', 'ashish@gmail.com', 232, 247, 34, 'Whitefield', 'ineuron office', 232323232)\n",
      "(247, 'ashish', 'ashish@gmail.com', 232, 237, 560034, 'Whitefield', 'ineuron office', 232323232)\n",
      "(247, 'ashish', 'ashish@gmail.com', 232, 238, 560034, 'Whitefield', 'ineuron office', 232323232)\n",
      "(247, 'ashish', 'ashish@gmail.com', 232, 239, 560034, 'Whitefield', 'ineuron office', 232323232)\n",
      "(247, 'ashish', 'ashish@gmail.com', 232, 240, 560034, 'Whitefield', 'ineuron office', 232323232)\n",
      "(247, 'ashish', 'ashish@gmail.com', 232, 241, 560034, 'Whitefield', 'ineuron office', 232323232)\n",
      "(247, 'ashish', 'ashish@gmail.com', 232, 242, 560034, 'Whitefield', 'ineuron office', 232323232)\n",
      "(248, 'ashish', 'ashish@gmail.com', 232, 235, 560034, 'Whitefield', 'ineuron office', 232323232)\n",
      "(248, 'ashish', 'ashish@gmail.com', 232, 236, 560034, 'Whitefield', 'ineuron office', 232323232)\n",
      "(248, 'ashish', 'ashish@gmail.com', 232, 237, 560034, 'Whitefield', 'ineuron office', 232323232)\n",
      "(248, 'ashish', 'ashish@gmail.com', 232, 238, 560034, 'Whitefield', 'ineuron office', 232323232)\n",
      "(248, 'ashish', 'ashish@gmail.com', 232, 239, 560034, 'Whitefield', 'ineuron office', 232323232)\n",
      "(248, 'ashish', 'ashish@gmail.com', 232, 240, 560034, 'Whitefield', 'ineuron office', 232323232)\n",
      "(248, 'ashish', 'ashish@gmail.com', 232, 241, 560034, 'Whitefield', 'ineuron office', 232323232)\n",
      "(248, 'ashish', 'ashish@gmail.com', 232, 242, 560034, 'Whitefield', 'ineuron office', 232323232)\n",
      "(248, 'ashish', 'ashish@gmail.com', 232, 247, 34, 'Whitefield', 'ineuron office', 232323232)\n",
      "(248, 'ashish', 'ashish@gmail.com', 232, 237, 560034, 'Whitefield', 'ineuron office', 232323232)\n",
      "(248, 'ashish', 'ashish@gmail.com', 232, 238, 560034, 'Whitefield', 'ineuron office', 232323232)\n",
      "(248, 'ashish', 'ashish@gmail.com', 232, 239, 560034, 'Whitefield', 'ineuron office', 232323232)\n",
      "(248, 'ashish', 'ashish@gmail.com', 232, 240, 560034, 'Whitefield', 'ineuron office', 232323232)\n",
      "(248, 'ashish', 'ashish@gmail.com', 232, 241, 560034, 'Whitefield', 'ineuron office', 232323232)\n",
      "(248, 'ashish', 'ashish@gmail.com', 232, 242, 560034, 'Whitefield', 'ineuron office', 232323232)\n",
      "(249, 'ashish', 'ashish@gmail.com', 232, 235, 560034, 'Whitefield', 'ineuron office', 232323232)\n",
      "(249, 'ashish', 'ashish@gmail.com', 232, 236, 560034, 'Whitefield', 'ineuron office', 232323232)\n",
      "(249, 'ashish', 'ashish@gmail.com', 232, 237, 560034, 'Whitefield', 'ineuron office', 232323232)\n",
      "(249, 'ashish', 'ashish@gmail.com', 232, 238, 560034, 'Whitefield', 'ineuron office', 232323232)\n",
      "(249, 'ashish', 'ashish@gmail.com', 232, 239, 560034, 'Whitefield', 'ineuron office', 232323232)\n",
      "(249, 'ashish', 'ashish@gmail.com', 232, 240, 560034, 'Whitefield', 'ineuron office', 232323232)\n",
      "(249, 'ashish', 'ashish@gmail.com', 232, 241, 560034, 'Whitefield', 'ineuron office', 232323232)\n",
      "(249, 'ashish', 'ashish@gmail.com', 232, 242, 560034, 'Whitefield', 'ineuron office', 232323232)\n",
      "(249, 'ashish', 'ashish@gmail.com', 232, 247, 34, 'Whitefield', 'ineuron office', 232323232)\n",
      "(249, 'ashish', 'ashish@gmail.com', 232, 237, 560034, 'Whitefield', 'ineuron office', 232323232)\n",
      "(249, 'ashish', 'ashish@gmail.com', 232, 238, 560034, 'Whitefield', 'ineuron office', 232323232)\n",
      "(249, 'ashish', 'ashish@gmail.com', 232, 239, 560034, 'Whitefield', 'ineuron office', 232323232)\n",
      "(249, 'ashish', 'ashish@gmail.com', 232, 240, 560034, 'Whitefield', 'ineuron office', 232323232)\n",
      "(249, 'ashish', 'ashish@gmail.com', 232, 241, 560034, 'Whitefield', 'ineuron office', 232323232)\n",
      "(249, 'ashish', 'ashish@gmail.com', 232, 242, 560034, 'Whitefield', 'ineuron office', 232323232)\n",
      "(250, 'ashish', 'ashish@gmail.com', 232, 235, 560034, 'Whitefield', 'ineuron office', 232323232)\n",
      "(250, 'ashish', 'ashish@gmail.com', 232, 236, 560034, 'Whitefield', 'ineuron office', 232323232)\n",
      "(250, 'ashish', 'ashish@gmail.com', 232, 237, 560034, 'Whitefield', 'ineuron office', 232323232)\n",
      "(250, 'ashish', 'ashish@gmail.com', 232, 238, 560034, 'Whitefield', 'ineuron office', 232323232)\n",
      "(250, 'ashish', 'ashish@gmail.com', 232, 239, 560034, 'Whitefield', 'ineuron office', 232323232)\n",
      "(250, 'ashish', 'ashish@gmail.com', 232, 240, 560034, 'Whitefield', 'ineuron office', 232323232)\n",
      "(250, 'ashish', 'ashish@gmail.com', 232, 241, 560034, 'Whitefield', 'ineuron office', 232323232)\n",
      "(250, 'ashish', 'ashish@gmail.com', 232, 242, 560034, 'Whitefield', 'ineuron office', 232323232)\n",
      "(250, 'ashish', 'ashish@gmail.com', 232, 247, 34, 'Whitefield', 'ineuron office', 232323232)\n",
      "(250, 'ashish', 'ashish@gmail.com', 232, 237, 560034, 'Whitefield', 'ineuron office', 232323232)\n",
      "(250, 'ashish', 'ashish@gmail.com', 232, 238, 560034, 'Whitefield', 'ineuron office', 232323232)\n",
      "(250, 'ashish', 'ashish@gmail.com', 232, 239, 560034, 'Whitefield', 'ineuron office', 232323232)\n",
      "(250, 'ashish', 'ashish@gmail.com', 232, 240, 560034, 'Whitefield', 'ineuron office', 232323232)\n",
      "(250, 'ashish', 'ashish@gmail.com', 232, 241, 560034, 'Whitefield', 'ineuron office', 232323232)\n",
      "(250, 'ashish', 'ashish@gmail.com', 232, 242, 560034, 'Whitefield', 'ineuron office', 232323232)\n",
      "(251, 'ashish', 'ashish@gmail.com', 232, 235, 560034, 'Whitefield', 'ineuron office', 232323232)\n",
      "(251, 'ashish', 'ashish@gmail.com', 232, 236, 560034, 'Whitefield', 'ineuron office', 232323232)\n",
      "(251, 'ashish', 'ashish@gmail.com', 232, 237, 560034, 'Whitefield', 'ineuron office', 232323232)\n",
      "(251, 'ashish', 'ashish@gmail.com', 232, 238, 560034, 'Whitefield', 'ineuron office', 232323232)\n",
      "(251, 'ashish', 'ashish@gmail.com', 232, 239, 560034, 'Whitefield', 'ineuron office', 232323232)\n",
      "(251, 'ashish', 'ashish@gmail.com', 232, 240, 560034, 'Whitefield', 'ineuron office', 232323232)\n",
      "(251, 'ashish', 'ashish@gmail.com', 232, 241, 560034, 'Whitefield', 'ineuron office', 232323232)\n",
      "(251, 'ashish', 'ashish@gmail.com', 232, 242, 560034, 'Whitefield', 'ineuron office', 232323232)\n",
      "(251, 'ashish', 'ashish@gmail.com', 232, 247, 34, 'Whitefield', 'ineuron office', 232323232)\n",
      "(251, 'ashish', 'ashish@gmail.com', 232, 237, 560034, 'Whitefield', 'ineuron office', 232323232)\n",
      "(251, 'ashish', 'ashish@gmail.com', 232, 238, 560034, 'Whitefield', 'ineuron office', 232323232)\n",
      "(251, 'ashish', 'ashish@gmail.com', 232, 239, 560034, 'Whitefield', 'ineuron office', 232323232)\n",
      "(251, 'ashish', 'ashish@gmail.com', 232, 240, 560034, 'Whitefield', 'ineuron office', 232323232)\n",
      "(251, 'ashish', 'ashish@gmail.com', 232, 241, 560034, 'Whitefield', 'ineuron office', 232323232)\n",
      "(251, 'ashish', 'ashish@gmail.com', 232, 242, 560034, 'Whitefield', 'ineuron office', 232323232)\n",
      "(252, 'ashish', 'ashish@gmail.com', 232, 235, 560034, 'Whitefield', 'ineuron office', 232323232)\n",
      "(252, 'ashish', 'ashish@gmail.com', 232, 236, 560034, 'Whitefield', 'ineuron office', 232323232)\n",
      "(252, 'ashish', 'ashish@gmail.com', 232, 237, 560034, 'Whitefield', 'ineuron office', 232323232)\n",
      "(252, 'ashish', 'ashish@gmail.com', 232, 238, 560034, 'Whitefield', 'ineuron office', 232323232)\n",
      "(252, 'ashish', 'ashish@gmail.com', 232, 239, 560034, 'Whitefield', 'ineuron office', 232323232)\n",
      "(252, 'ashish', 'ashish@gmail.com', 232, 240, 560034, 'Whitefield', 'ineuron office', 232323232)\n",
      "(252, 'ashish', 'ashish@gmail.com', 232, 241, 560034, 'Whitefield', 'ineuron office', 232323232)\n",
      "(252, 'ashish', 'ashish@gmail.com', 232, 242, 560034, 'Whitefield', 'ineuron office', 232323232)\n",
      "(252, 'ashish', 'ashish@gmail.com', 232, 247, 34, 'Whitefield', 'ineuron office', 232323232)\n",
      "(252, 'ashish', 'ashish@gmail.com', 232, 237, 560034, 'Whitefield', 'ineuron office', 232323232)\n",
      "(252, 'ashish', 'ashish@gmail.com', 232, 238, 560034, 'Whitefield', 'ineuron office', 232323232)\n",
      "(252, 'ashish', 'ashish@gmail.com', 232, 239, 560034, 'Whitefield', 'ineuron office', 232323232)\n",
      "(252, 'ashish', 'ashish@gmail.com', 232, 240, 560034, 'Whitefield', 'ineuron office', 232323232)\n",
      "(252, 'ashish', 'ashish@gmail.com', 232, 241, 560034, 'Whitefield', 'ineuron office', 232323232)\n",
      "(252, 'ashish', 'ashish@gmail.com', 232, 242, 560034, 'Whitefield', 'ineuron office', 232323232)\n"
     ]
    }
   ],
   "source": [
    "for i in data:\n",
    "    print(i)"
   ]
  },
  {
   "cell_type": "code",
   "execution_count": 75,
   "metadata": {},
   "outputs": [],
   "source": [
    "#Left join\n",
    "#inner join\n",
    "#right join - it is not available in Sqllite"
   ]
  },
  {
   "cell_type": "code",
   "execution_count": 76,
   "metadata": {},
   "outputs": [],
   "source": [
    "data = c.execute(\"select * from address s left join address a on s.student_id\")"
   ]
  },
  {
   "cell_type": "code",
   "execution_count": 77,
   "metadata": {},
   "outputs": [
    {
     "name": "stdout",
     "output_type": "stream",
     "text": [
      "(235, 560034, 'Whitefield', 'ineuron office', 232323232, 235, 560034, 'Whitefield', 'ineuron office', 232323232)\n",
      "(235, 560034, 'Whitefield', 'ineuron office', 232323232, 236, 560034, 'Whitefield', 'ineuron office', 232323232)\n",
      "(235, 560034, 'Whitefield', 'ineuron office', 232323232, 237, 560034, 'Whitefield', 'ineuron office', 232323232)\n",
      "(235, 560034, 'Whitefield', 'ineuron office', 232323232, 238, 560034, 'Whitefield', 'ineuron office', 232323232)\n",
      "(235, 560034, 'Whitefield', 'ineuron office', 232323232, 239, 560034, 'Whitefield', 'ineuron office', 232323232)\n",
      "(235, 560034, 'Whitefield', 'ineuron office', 232323232, 240, 560034, 'Whitefield', 'ineuron office', 232323232)\n",
      "(235, 560034, 'Whitefield', 'ineuron office', 232323232, 241, 560034, 'Whitefield', 'ineuron office', 232323232)\n",
      "(235, 560034, 'Whitefield', 'ineuron office', 232323232, 242, 560034, 'Whitefield', 'ineuron office', 232323232)\n",
      "(235, 560034, 'Whitefield', 'ineuron office', 232323232, 247, 34, 'Whitefield', 'ineuron office', 232323232)\n",
      "(235, 560034, 'Whitefield', 'ineuron office', 232323232, 237, 560034, 'Whitefield', 'ineuron office', 232323232)\n",
      "(235, 560034, 'Whitefield', 'ineuron office', 232323232, 238, 560034, 'Whitefield', 'ineuron office', 232323232)\n",
      "(235, 560034, 'Whitefield', 'ineuron office', 232323232, 239, 560034, 'Whitefield', 'ineuron office', 232323232)\n",
      "(235, 560034, 'Whitefield', 'ineuron office', 232323232, 240, 560034, 'Whitefield', 'ineuron office', 232323232)\n",
      "(235, 560034, 'Whitefield', 'ineuron office', 232323232, 241, 560034, 'Whitefield', 'ineuron office', 232323232)\n",
      "(235, 560034, 'Whitefield', 'ineuron office', 232323232, 242, 560034, 'Whitefield', 'ineuron office', 232323232)\n",
      "(236, 560034, 'Whitefield', 'ineuron office', 232323232, 235, 560034, 'Whitefield', 'ineuron office', 232323232)\n",
      "(236, 560034, 'Whitefield', 'ineuron office', 232323232, 236, 560034, 'Whitefield', 'ineuron office', 232323232)\n",
      "(236, 560034, 'Whitefield', 'ineuron office', 232323232, 237, 560034, 'Whitefield', 'ineuron office', 232323232)\n",
      "(236, 560034, 'Whitefield', 'ineuron office', 232323232, 238, 560034, 'Whitefield', 'ineuron office', 232323232)\n",
      "(236, 560034, 'Whitefield', 'ineuron office', 232323232, 239, 560034, 'Whitefield', 'ineuron office', 232323232)\n",
      "(236, 560034, 'Whitefield', 'ineuron office', 232323232, 240, 560034, 'Whitefield', 'ineuron office', 232323232)\n",
      "(236, 560034, 'Whitefield', 'ineuron office', 232323232, 241, 560034, 'Whitefield', 'ineuron office', 232323232)\n",
      "(236, 560034, 'Whitefield', 'ineuron office', 232323232, 242, 560034, 'Whitefield', 'ineuron office', 232323232)\n",
      "(236, 560034, 'Whitefield', 'ineuron office', 232323232, 247, 34, 'Whitefield', 'ineuron office', 232323232)\n",
      "(236, 560034, 'Whitefield', 'ineuron office', 232323232, 237, 560034, 'Whitefield', 'ineuron office', 232323232)\n",
      "(236, 560034, 'Whitefield', 'ineuron office', 232323232, 238, 560034, 'Whitefield', 'ineuron office', 232323232)\n",
      "(236, 560034, 'Whitefield', 'ineuron office', 232323232, 239, 560034, 'Whitefield', 'ineuron office', 232323232)\n",
      "(236, 560034, 'Whitefield', 'ineuron office', 232323232, 240, 560034, 'Whitefield', 'ineuron office', 232323232)\n",
      "(236, 560034, 'Whitefield', 'ineuron office', 232323232, 241, 560034, 'Whitefield', 'ineuron office', 232323232)\n",
      "(236, 560034, 'Whitefield', 'ineuron office', 232323232, 242, 560034, 'Whitefield', 'ineuron office', 232323232)\n",
      "(237, 560034, 'Whitefield', 'ineuron office', 232323232, 235, 560034, 'Whitefield', 'ineuron office', 232323232)\n",
      "(237, 560034, 'Whitefield', 'ineuron office', 232323232, 236, 560034, 'Whitefield', 'ineuron office', 232323232)\n",
      "(237, 560034, 'Whitefield', 'ineuron office', 232323232, 237, 560034, 'Whitefield', 'ineuron office', 232323232)\n",
      "(237, 560034, 'Whitefield', 'ineuron office', 232323232, 238, 560034, 'Whitefield', 'ineuron office', 232323232)\n",
      "(237, 560034, 'Whitefield', 'ineuron office', 232323232, 239, 560034, 'Whitefield', 'ineuron office', 232323232)\n",
      "(237, 560034, 'Whitefield', 'ineuron office', 232323232, 240, 560034, 'Whitefield', 'ineuron office', 232323232)\n",
      "(237, 560034, 'Whitefield', 'ineuron office', 232323232, 241, 560034, 'Whitefield', 'ineuron office', 232323232)\n",
      "(237, 560034, 'Whitefield', 'ineuron office', 232323232, 242, 560034, 'Whitefield', 'ineuron office', 232323232)\n",
      "(237, 560034, 'Whitefield', 'ineuron office', 232323232, 247, 34, 'Whitefield', 'ineuron office', 232323232)\n",
      "(237, 560034, 'Whitefield', 'ineuron office', 232323232, 237, 560034, 'Whitefield', 'ineuron office', 232323232)\n",
      "(237, 560034, 'Whitefield', 'ineuron office', 232323232, 238, 560034, 'Whitefield', 'ineuron office', 232323232)\n",
      "(237, 560034, 'Whitefield', 'ineuron office', 232323232, 239, 560034, 'Whitefield', 'ineuron office', 232323232)\n",
      "(237, 560034, 'Whitefield', 'ineuron office', 232323232, 240, 560034, 'Whitefield', 'ineuron office', 232323232)\n",
      "(237, 560034, 'Whitefield', 'ineuron office', 232323232, 241, 560034, 'Whitefield', 'ineuron office', 232323232)\n",
      "(237, 560034, 'Whitefield', 'ineuron office', 232323232, 242, 560034, 'Whitefield', 'ineuron office', 232323232)\n",
      "(238, 560034, 'Whitefield', 'ineuron office', 232323232, 235, 560034, 'Whitefield', 'ineuron office', 232323232)\n",
      "(238, 560034, 'Whitefield', 'ineuron office', 232323232, 236, 560034, 'Whitefield', 'ineuron office', 232323232)\n",
      "(238, 560034, 'Whitefield', 'ineuron office', 232323232, 237, 560034, 'Whitefield', 'ineuron office', 232323232)\n",
      "(238, 560034, 'Whitefield', 'ineuron office', 232323232, 238, 560034, 'Whitefield', 'ineuron office', 232323232)\n",
      "(238, 560034, 'Whitefield', 'ineuron office', 232323232, 239, 560034, 'Whitefield', 'ineuron office', 232323232)\n",
      "(238, 560034, 'Whitefield', 'ineuron office', 232323232, 240, 560034, 'Whitefield', 'ineuron office', 232323232)\n",
      "(238, 560034, 'Whitefield', 'ineuron office', 232323232, 241, 560034, 'Whitefield', 'ineuron office', 232323232)\n",
      "(238, 560034, 'Whitefield', 'ineuron office', 232323232, 242, 560034, 'Whitefield', 'ineuron office', 232323232)\n",
      "(238, 560034, 'Whitefield', 'ineuron office', 232323232, 247, 34, 'Whitefield', 'ineuron office', 232323232)\n",
      "(238, 560034, 'Whitefield', 'ineuron office', 232323232, 237, 560034, 'Whitefield', 'ineuron office', 232323232)\n",
      "(238, 560034, 'Whitefield', 'ineuron office', 232323232, 238, 560034, 'Whitefield', 'ineuron office', 232323232)\n",
      "(238, 560034, 'Whitefield', 'ineuron office', 232323232, 239, 560034, 'Whitefield', 'ineuron office', 232323232)\n",
      "(238, 560034, 'Whitefield', 'ineuron office', 232323232, 240, 560034, 'Whitefield', 'ineuron office', 232323232)\n",
      "(238, 560034, 'Whitefield', 'ineuron office', 232323232, 241, 560034, 'Whitefield', 'ineuron office', 232323232)\n",
      "(238, 560034, 'Whitefield', 'ineuron office', 232323232, 242, 560034, 'Whitefield', 'ineuron office', 232323232)\n",
      "(239, 560034, 'Whitefield', 'ineuron office', 232323232, 235, 560034, 'Whitefield', 'ineuron office', 232323232)\n",
      "(239, 560034, 'Whitefield', 'ineuron office', 232323232, 236, 560034, 'Whitefield', 'ineuron office', 232323232)\n",
      "(239, 560034, 'Whitefield', 'ineuron office', 232323232, 237, 560034, 'Whitefield', 'ineuron office', 232323232)\n",
      "(239, 560034, 'Whitefield', 'ineuron office', 232323232, 238, 560034, 'Whitefield', 'ineuron office', 232323232)\n",
      "(239, 560034, 'Whitefield', 'ineuron office', 232323232, 239, 560034, 'Whitefield', 'ineuron office', 232323232)\n",
      "(239, 560034, 'Whitefield', 'ineuron office', 232323232, 240, 560034, 'Whitefield', 'ineuron office', 232323232)\n",
      "(239, 560034, 'Whitefield', 'ineuron office', 232323232, 241, 560034, 'Whitefield', 'ineuron office', 232323232)\n",
      "(239, 560034, 'Whitefield', 'ineuron office', 232323232, 242, 560034, 'Whitefield', 'ineuron office', 232323232)\n",
      "(239, 560034, 'Whitefield', 'ineuron office', 232323232, 247, 34, 'Whitefield', 'ineuron office', 232323232)\n",
      "(239, 560034, 'Whitefield', 'ineuron office', 232323232, 237, 560034, 'Whitefield', 'ineuron office', 232323232)\n",
      "(239, 560034, 'Whitefield', 'ineuron office', 232323232, 238, 560034, 'Whitefield', 'ineuron office', 232323232)\n",
      "(239, 560034, 'Whitefield', 'ineuron office', 232323232, 239, 560034, 'Whitefield', 'ineuron office', 232323232)\n",
      "(239, 560034, 'Whitefield', 'ineuron office', 232323232, 240, 560034, 'Whitefield', 'ineuron office', 232323232)\n",
      "(239, 560034, 'Whitefield', 'ineuron office', 232323232, 241, 560034, 'Whitefield', 'ineuron office', 232323232)\n",
      "(239, 560034, 'Whitefield', 'ineuron office', 232323232, 242, 560034, 'Whitefield', 'ineuron office', 232323232)\n",
      "(240, 560034, 'Whitefield', 'ineuron office', 232323232, 235, 560034, 'Whitefield', 'ineuron office', 232323232)\n",
      "(240, 560034, 'Whitefield', 'ineuron office', 232323232, 236, 560034, 'Whitefield', 'ineuron office', 232323232)\n",
      "(240, 560034, 'Whitefield', 'ineuron office', 232323232, 237, 560034, 'Whitefield', 'ineuron office', 232323232)\n",
      "(240, 560034, 'Whitefield', 'ineuron office', 232323232, 238, 560034, 'Whitefield', 'ineuron office', 232323232)\n",
      "(240, 560034, 'Whitefield', 'ineuron office', 232323232, 239, 560034, 'Whitefield', 'ineuron office', 232323232)\n",
      "(240, 560034, 'Whitefield', 'ineuron office', 232323232, 240, 560034, 'Whitefield', 'ineuron office', 232323232)\n",
      "(240, 560034, 'Whitefield', 'ineuron office', 232323232, 241, 560034, 'Whitefield', 'ineuron office', 232323232)\n",
      "(240, 560034, 'Whitefield', 'ineuron office', 232323232, 242, 560034, 'Whitefield', 'ineuron office', 232323232)\n",
      "(240, 560034, 'Whitefield', 'ineuron office', 232323232, 247, 34, 'Whitefield', 'ineuron office', 232323232)\n",
      "(240, 560034, 'Whitefield', 'ineuron office', 232323232, 237, 560034, 'Whitefield', 'ineuron office', 232323232)\n",
      "(240, 560034, 'Whitefield', 'ineuron office', 232323232, 238, 560034, 'Whitefield', 'ineuron office', 232323232)\n",
      "(240, 560034, 'Whitefield', 'ineuron office', 232323232, 239, 560034, 'Whitefield', 'ineuron office', 232323232)\n",
      "(240, 560034, 'Whitefield', 'ineuron office', 232323232, 240, 560034, 'Whitefield', 'ineuron office', 232323232)\n",
      "(240, 560034, 'Whitefield', 'ineuron office', 232323232, 241, 560034, 'Whitefield', 'ineuron office', 232323232)\n",
      "(240, 560034, 'Whitefield', 'ineuron office', 232323232, 242, 560034, 'Whitefield', 'ineuron office', 232323232)\n",
      "(241, 560034, 'Whitefield', 'ineuron office', 232323232, 235, 560034, 'Whitefield', 'ineuron office', 232323232)\n",
      "(241, 560034, 'Whitefield', 'ineuron office', 232323232, 236, 560034, 'Whitefield', 'ineuron office', 232323232)\n",
      "(241, 560034, 'Whitefield', 'ineuron office', 232323232, 237, 560034, 'Whitefield', 'ineuron office', 232323232)\n",
      "(241, 560034, 'Whitefield', 'ineuron office', 232323232, 238, 560034, 'Whitefield', 'ineuron office', 232323232)\n",
      "(241, 560034, 'Whitefield', 'ineuron office', 232323232, 239, 560034, 'Whitefield', 'ineuron office', 232323232)\n",
      "(241, 560034, 'Whitefield', 'ineuron office', 232323232, 240, 560034, 'Whitefield', 'ineuron office', 232323232)\n",
      "(241, 560034, 'Whitefield', 'ineuron office', 232323232, 241, 560034, 'Whitefield', 'ineuron office', 232323232)\n",
      "(241, 560034, 'Whitefield', 'ineuron office', 232323232, 242, 560034, 'Whitefield', 'ineuron office', 232323232)\n",
      "(241, 560034, 'Whitefield', 'ineuron office', 232323232, 247, 34, 'Whitefield', 'ineuron office', 232323232)\n",
      "(241, 560034, 'Whitefield', 'ineuron office', 232323232, 237, 560034, 'Whitefield', 'ineuron office', 232323232)\n",
      "(241, 560034, 'Whitefield', 'ineuron office', 232323232, 238, 560034, 'Whitefield', 'ineuron office', 232323232)\n",
      "(241, 560034, 'Whitefield', 'ineuron office', 232323232, 239, 560034, 'Whitefield', 'ineuron office', 232323232)\n",
      "(241, 560034, 'Whitefield', 'ineuron office', 232323232, 240, 560034, 'Whitefield', 'ineuron office', 232323232)\n",
      "(241, 560034, 'Whitefield', 'ineuron office', 232323232, 241, 560034, 'Whitefield', 'ineuron office', 232323232)\n",
      "(241, 560034, 'Whitefield', 'ineuron office', 232323232, 242, 560034, 'Whitefield', 'ineuron office', 232323232)\n",
      "(242, 560034, 'Whitefield', 'ineuron office', 232323232, 235, 560034, 'Whitefield', 'ineuron office', 232323232)\n",
      "(242, 560034, 'Whitefield', 'ineuron office', 232323232, 236, 560034, 'Whitefield', 'ineuron office', 232323232)\n",
      "(242, 560034, 'Whitefield', 'ineuron office', 232323232, 237, 560034, 'Whitefield', 'ineuron office', 232323232)\n",
      "(242, 560034, 'Whitefield', 'ineuron office', 232323232, 238, 560034, 'Whitefield', 'ineuron office', 232323232)\n",
      "(242, 560034, 'Whitefield', 'ineuron office', 232323232, 239, 560034, 'Whitefield', 'ineuron office', 232323232)\n",
      "(242, 560034, 'Whitefield', 'ineuron office', 232323232, 240, 560034, 'Whitefield', 'ineuron office', 232323232)\n",
      "(242, 560034, 'Whitefield', 'ineuron office', 232323232, 241, 560034, 'Whitefield', 'ineuron office', 232323232)\n",
      "(242, 560034, 'Whitefield', 'ineuron office', 232323232, 242, 560034, 'Whitefield', 'ineuron office', 232323232)\n",
      "(242, 560034, 'Whitefield', 'ineuron office', 232323232, 247, 34, 'Whitefield', 'ineuron office', 232323232)\n",
      "(242, 560034, 'Whitefield', 'ineuron office', 232323232, 237, 560034, 'Whitefield', 'ineuron office', 232323232)\n",
      "(242, 560034, 'Whitefield', 'ineuron office', 232323232, 238, 560034, 'Whitefield', 'ineuron office', 232323232)\n",
      "(242, 560034, 'Whitefield', 'ineuron office', 232323232, 239, 560034, 'Whitefield', 'ineuron office', 232323232)\n",
      "(242, 560034, 'Whitefield', 'ineuron office', 232323232, 240, 560034, 'Whitefield', 'ineuron office', 232323232)\n",
      "(242, 560034, 'Whitefield', 'ineuron office', 232323232, 241, 560034, 'Whitefield', 'ineuron office', 232323232)\n",
      "(242, 560034, 'Whitefield', 'ineuron office', 232323232, 242, 560034, 'Whitefield', 'ineuron office', 232323232)\n",
      "(247, 34, 'Whitefield', 'ineuron office', 232323232, 235, 560034, 'Whitefield', 'ineuron office', 232323232)\n",
      "(247, 34, 'Whitefield', 'ineuron office', 232323232, 236, 560034, 'Whitefield', 'ineuron office', 232323232)\n",
      "(247, 34, 'Whitefield', 'ineuron office', 232323232, 237, 560034, 'Whitefield', 'ineuron office', 232323232)\n",
      "(247, 34, 'Whitefield', 'ineuron office', 232323232, 238, 560034, 'Whitefield', 'ineuron office', 232323232)\n",
      "(247, 34, 'Whitefield', 'ineuron office', 232323232, 239, 560034, 'Whitefield', 'ineuron office', 232323232)\n",
      "(247, 34, 'Whitefield', 'ineuron office', 232323232, 240, 560034, 'Whitefield', 'ineuron office', 232323232)\n",
      "(247, 34, 'Whitefield', 'ineuron office', 232323232, 241, 560034, 'Whitefield', 'ineuron office', 232323232)\n",
      "(247, 34, 'Whitefield', 'ineuron office', 232323232, 242, 560034, 'Whitefield', 'ineuron office', 232323232)\n",
      "(247, 34, 'Whitefield', 'ineuron office', 232323232, 247, 34, 'Whitefield', 'ineuron office', 232323232)\n",
      "(247, 34, 'Whitefield', 'ineuron office', 232323232, 237, 560034, 'Whitefield', 'ineuron office', 232323232)\n",
      "(247, 34, 'Whitefield', 'ineuron office', 232323232, 238, 560034, 'Whitefield', 'ineuron office', 232323232)\n",
      "(247, 34, 'Whitefield', 'ineuron office', 232323232, 239, 560034, 'Whitefield', 'ineuron office', 232323232)\n",
      "(247, 34, 'Whitefield', 'ineuron office', 232323232, 240, 560034, 'Whitefield', 'ineuron office', 232323232)\n",
      "(247, 34, 'Whitefield', 'ineuron office', 232323232, 241, 560034, 'Whitefield', 'ineuron office', 232323232)\n",
      "(247, 34, 'Whitefield', 'ineuron office', 232323232, 242, 560034, 'Whitefield', 'ineuron office', 232323232)\n",
      "(237, 560034, 'Whitefield', 'ineuron office', 232323232, 235, 560034, 'Whitefield', 'ineuron office', 232323232)\n",
      "(237, 560034, 'Whitefield', 'ineuron office', 232323232, 236, 560034, 'Whitefield', 'ineuron office', 232323232)\n",
      "(237, 560034, 'Whitefield', 'ineuron office', 232323232, 237, 560034, 'Whitefield', 'ineuron office', 232323232)\n",
      "(237, 560034, 'Whitefield', 'ineuron office', 232323232, 238, 560034, 'Whitefield', 'ineuron office', 232323232)\n",
      "(237, 560034, 'Whitefield', 'ineuron office', 232323232, 239, 560034, 'Whitefield', 'ineuron office', 232323232)\n",
      "(237, 560034, 'Whitefield', 'ineuron office', 232323232, 240, 560034, 'Whitefield', 'ineuron office', 232323232)\n",
      "(237, 560034, 'Whitefield', 'ineuron office', 232323232, 241, 560034, 'Whitefield', 'ineuron office', 232323232)\n",
      "(237, 560034, 'Whitefield', 'ineuron office', 232323232, 242, 560034, 'Whitefield', 'ineuron office', 232323232)\n",
      "(237, 560034, 'Whitefield', 'ineuron office', 232323232, 247, 34, 'Whitefield', 'ineuron office', 232323232)\n",
      "(237, 560034, 'Whitefield', 'ineuron office', 232323232, 237, 560034, 'Whitefield', 'ineuron office', 232323232)\n",
      "(237, 560034, 'Whitefield', 'ineuron office', 232323232, 238, 560034, 'Whitefield', 'ineuron office', 232323232)\n",
      "(237, 560034, 'Whitefield', 'ineuron office', 232323232, 239, 560034, 'Whitefield', 'ineuron office', 232323232)\n",
      "(237, 560034, 'Whitefield', 'ineuron office', 232323232, 240, 560034, 'Whitefield', 'ineuron office', 232323232)\n",
      "(237, 560034, 'Whitefield', 'ineuron office', 232323232, 241, 560034, 'Whitefield', 'ineuron office', 232323232)\n",
      "(237, 560034, 'Whitefield', 'ineuron office', 232323232, 242, 560034, 'Whitefield', 'ineuron office', 232323232)\n",
      "(238, 560034, 'Whitefield', 'ineuron office', 232323232, 235, 560034, 'Whitefield', 'ineuron office', 232323232)\n",
      "(238, 560034, 'Whitefield', 'ineuron office', 232323232, 236, 560034, 'Whitefield', 'ineuron office', 232323232)\n",
      "(238, 560034, 'Whitefield', 'ineuron office', 232323232, 237, 560034, 'Whitefield', 'ineuron office', 232323232)\n",
      "(238, 560034, 'Whitefield', 'ineuron office', 232323232, 238, 560034, 'Whitefield', 'ineuron office', 232323232)\n",
      "(238, 560034, 'Whitefield', 'ineuron office', 232323232, 239, 560034, 'Whitefield', 'ineuron office', 232323232)\n",
      "(238, 560034, 'Whitefield', 'ineuron office', 232323232, 240, 560034, 'Whitefield', 'ineuron office', 232323232)\n",
      "(238, 560034, 'Whitefield', 'ineuron office', 232323232, 241, 560034, 'Whitefield', 'ineuron office', 232323232)\n",
      "(238, 560034, 'Whitefield', 'ineuron office', 232323232, 242, 560034, 'Whitefield', 'ineuron office', 232323232)\n",
      "(238, 560034, 'Whitefield', 'ineuron office', 232323232, 247, 34, 'Whitefield', 'ineuron office', 232323232)\n",
      "(238, 560034, 'Whitefield', 'ineuron office', 232323232, 237, 560034, 'Whitefield', 'ineuron office', 232323232)\n",
      "(238, 560034, 'Whitefield', 'ineuron office', 232323232, 238, 560034, 'Whitefield', 'ineuron office', 232323232)\n",
      "(238, 560034, 'Whitefield', 'ineuron office', 232323232, 239, 560034, 'Whitefield', 'ineuron office', 232323232)\n",
      "(238, 560034, 'Whitefield', 'ineuron office', 232323232, 240, 560034, 'Whitefield', 'ineuron office', 232323232)\n",
      "(238, 560034, 'Whitefield', 'ineuron office', 232323232, 241, 560034, 'Whitefield', 'ineuron office', 232323232)\n",
      "(238, 560034, 'Whitefield', 'ineuron office', 232323232, 242, 560034, 'Whitefield', 'ineuron office', 232323232)\n",
      "(239, 560034, 'Whitefield', 'ineuron office', 232323232, 235, 560034, 'Whitefield', 'ineuron office', 232323232)\n",
      "(239, 560034, 'Whitefield', 'ineuron office', 232323232, 236, 560034, 'Whitefield', 'ineuron office', 232323232)\n",
      "(239, 560034, 'Whitefield', 'ineuron office', 232323232, 237, 560034, 'Whitefield', 'ineuron office', 232323232)\n",
      "(239, 560034, 'Whitefield', 'ineuron office', 232323232, 238, 560034, 'Whitefield', 'ineuron office', 232323232)\n",
      "(239, 560034, 'Whitefield', 'ineuron office', 232323232, 239, 560034, 'Whitefield', 'ineuron office', 232323232)\n",
      "(239, 560034, 'Whitefield', 'ineuron office', 232323232, 240, 560034, 'Whitefield', 'ineuron office', 232323232)\n",
      "(239, 560034, 'Whitefield', 'ineuron office', 232323232, 241, 560034, 'Whitefield', 'ineuron office', 232323232)\n",
      "(239, 560034, 'Whitefield', 'ineuron office', 232323232, 242, 560034, 'Whitefield', 'ineuron office', 232323232)\n",
      "(239, 560034, 'Whitefield', 'ineuron office', 232323232, 247, 34, 'Whitefield', 'ineuron office', 232323232)\n",
      "(239, 560034, 'Whitefield', 'ineuron office', 232323232, 237, 560034, 'Whitefield', 'ineuron office', 232323232)\n",
      "(239, 560034, 'Whitefield', 'ineuron office', 232323232, 238, 560034, 'Whitefield', 'ineuron office', 232323232)\n",
      "(239, 560034, 'Whitefield', 'ineuron office', 232323232, 239, 560034, 'Whitefield', 'ineuron office', 232323232)\n",
      "(239, 560034, 'Whitefield', 'ineuron office', 232323232, 240, 560034, 'Whitefield', 'ineuron office', 232323232)\n",
      "(239, 560034, 'Whitefield', 'ineuron office', 232323232, 241, 560034, 'Whitefield', 'ineuron office', 232323232)\n",
      "(239, 560034, 'Whitefield', 'ineuron office', 232323232, 242, 560034, 'Whitefield', 'ineuron office', 232323232)\n",
      "(240, 560034, 'Whitefield', 'ineuron office', 232323232, 235, 560034, 'Whitefield', 'ineuron office', 232323232)\n",
      "(240, 560034, 'Whitefield', 'ineuron office', 232323232, 236, 560034, 'Whitefield', 'ineuron office', 232323232)\n",
      "(240, 560034, 'Whitefield', 'ineuron office', 232323232, 237, 560034, 'Whitefield', 'ineuron office', 232323232)\n",
      "(240, 560034, 'Whitefield', 'ineuron office', 232323232, 238, 560034, 'Whitefield', 'ineuron office', 232323232)\n",
      "(240, 560034, 'Whitefield', 'ineuron office', 232323232, 239, 560034, 'Whitefield', 'ineuron office', 232323232)\n",
      "(240, 560034, 'Whitefield', 'ineuron office', 232323232, 240, 560034, 'Whitefield', 'ineuron office', 232323232)\n",
      "(240, 560034, 'Whitefield', 'ineuron office', 232323232, 241, 560034, 'Whitefield', 'ineuron office', 232323232)\n",
      "(240, 560034, 'Whitefield', 'ineuron office', 232323232, 242, 560034, 'Whitefield', 'ineuron office', 232323232)\n",
      "(240, 560034, 'Whitefield', 'ineuron office', 232323232, 247, 34, 'Whitefield', 'ineuron office', 232323232)\n",
      "(240, 560034, 'Whitefield', 'ineuron office', 232323232, 237, 560034, 'Whitefield', 'ineuron office', 232323232)\n",
      "(240, 560034, 'Whitefield', 'ineuron office', 232323232, 238, 560034, 'Whitefield', 'ineuron office', 232323232)\n",
      "(240, 560034, 'Whitefield', 'ineuron office', 232323232, 239, 560034, 'Whitefield', 'ineuron office', 232323232)\n",
      "(240, 560034, 'Whitefield', 'ineuron office', 232323232, 240, 560034, 'Whitefield', 'ineuron office', 232323232)\n",
      "(240, 560034, 'Whitefield', 'ineuron office', 232323232, 241, 560034, 'Whitefield', 'ineuron office', 232323232)\n",
      "(240, 560034, 'Whitefield', 'ineuron office', 232323232, 242, 560034, 'Whitefield', 'ineuron office', 232323232)\n",
      "(241, 560034, 'Whitefield', 'ineuron office', 232323232, 235, 560034, 'Whitefield', 'ineuron office', 232323232)\n",
      "(241, 560034, 'Whitefield', 'ineuron office', 232323232, 236, 560034, 'Whitefield', 'ineuron office', 232323232)\n",
      "(241, 560034, 'Whitefield', 'ineuron office', 232323232, 237, 560034, 'Whitefield', 'ineuron office', 232323232)\n",
      "(241, 560034, 'Whitefield', 'ineuron office', 232323232, 238, 560034, 'Whitefield', 'ineuron office', 232323232)\n",
      "(241, 560034, 'Whitefield', 'ineuron office', 232323232, 239, 560034, 'Whitefield', 'ineuron office', 232323232)\n",
      "(241, 560034, 'Whitefield', 'ineuron office', 232323232, 240, 560034, 'Whitefield', 'ineuron office', 232323232)\n",
      "(241, 560034, 'Whitefield', 'ineuron office', 232323232, 241, 560034, 'Whitefield', 'ineuron office', 232323232)\n",
      "(241, 560034, 'Whitefield', 'ineuron office', 232323232, 242, 560034, 'Whitefield', 'ineuron office', 232323232)\n",
      "(241, 560034, 'Whitefield', 'ineuron office', 232323232, 247, 34, 'Whitefield', 'ineuron office', 232323232)\n",
      "(241, 560034, 'Whitefield', 'ineuron office', 232323232, 237, 560034, 'Whitefield', 'ineuron office', 232323232)\n",
      "(241, 560034, 'Whitefield', 'ineuron office', 232323232, 238, 560034, 'Whitefield', 'ineuron office', 232323232)\n",
      "(241, 560034, 'Whitefield', 'ineuron office', 232323232, 239, 560034, 'Whitefield', 'ineuron office', 232323232)\n",
      "(241, 560034, 'Whitefield', 'ineuron office', 232323232, 240, 560034, 'Whitefield', 'ineuron office', 232323232)\n",
      "(241, 560034, 'Whitefield', 'ineuron office', 232323232, 241, 560034, 'Whitefield', 'ineuron office', 232323232)\n",
      "(241, 560034, 'Whitefield', 'ineuron office', 232323232, 242, 560034, 'Whitefield', 'ineuron office', 232323232)\n",
      "(242, 560034, 'Whitefield', 'ineuron office', 232323232, 235, 560034, 'Whitefield', 'ineuron office', 232323232)\n",
      "(242, 560034, 'Whitefield', 'ineuron office', 232323232, 236, 560034, 'Whitefield', 'ineuron office', 232323232)\n",
      "(242, 560034, 'Whitefield', 'ineuron office', 232323232, 237, 560034, 'Whitefield', 'ineuron office', 232323232)\n",
      "(242, 560034, 'Whitefield', 'ineuron office', 232323232, 238, 560034, 'Whitefield', 'ineuron office', 232323232)\n",
      "(242, 560034, 'Whitefield', 'ineuron office', 232323232, 239, 560034, 'Whitefield', 'ineuron office', 232323232)\n",
      "(242, 560034, 'Whitefield', 'ineuron office', 232323232, 240, 560034, 'Whitefield', 'ineuron office', 232323232)\n",
      "(242, 560034, 'Whitefield', 'ineuron office', 232323232, 241, 560034, 'Whitefield', 'ineuron office', 232323232)\n",
      "(242, 560034, 'Whitefield', 'ineuron office', 232323232, 242, 560034, 'Whitefield', 'ineuron office', 232323232)\n",
      "(242, 560034, 'Whitefield', 'ineuron office', 232323232, 247, 34, 'Whitefield', 'ineuron office', 232323232)\n",
      "(242, 560034, 'Whitefield', 'ineuron office', 232323232, 237, 560034, 'Whitefield', 'ineuron office', 232323232)\n",
      "(242, 560034, 'Whitefield', 'ineuron office', 232323232, 238, 560034, 'Whitefield', 'ineuron office', 232323232)\n",
      "(242, 560034, 'Whitefield', 'ineuron office', 232323232, 239, 560034, 'Whitefield', 'ineuron office', 232323232)\n",
      "(242, 560034, 'Whitefield', 'ineuron office', 232323232, 240, 560034, 'Whitefield', 'ineuron office', 232323232)\n",
      "(242, 560034, 'Whitefield', 'ineuron office', 232323232, 241, 560034, 'Whitefield', 'ineuron office', 232323232)\n",
      "(242, 560034, 'Whitefield', 'ineuron office', 232323232, 242, 560034, 'Whitefield', 'ineuron office', 232323232)\n"
     ]
    }
   ],
   "source": [
    "for i in data:\n",
    "    print(i)"
   ]
  },
  {
   "cell_type": "code",
   "execution_count": 79,
   "metadata": {},
   "outputs": [
    {
     "name": "stdout",
     "output_type": "stream",
     "text": [
      "(234, 'ashish', 'ashish@gmail.com', 232)\n",
      "(235, 'ashish', 'ashish@gmail.com', 232)\n",
      "(236, 'ashish', 'ashish@gmail.com', 232)\n",
      "(237, 'ashish', 'ashish@gmail.com', 232)\n",
      "(238, 'ashish', 'ashish@gmail.com', 232)\n",
      "(239, 'ashish', 'ashish@gmail.com', 232)\n",
      "(240, 'ashish', 'ashish@gmail.com', 232)\n",
      "(241, 'ashish', 'ashish@gmail.com', 232)\n",
      "(242, 'ashish', 'ashish@gmail.com', 232)\n",
      "(243, 'ashish', 'ashish@gmail.com', 232)\n",
      "(244, 'ashish', 'ashish@gmail.com', 232)\n",
      "(245, 'ashish', 'ashish@gmail.com', 232)\n",
      "(246, 'ashish', 'ashish@gmail.com', 232)\n",
      "(247, 'ashish', 'ashish@gmail.com', 232)\n",
      "(248, 'ashish', 'ashish@gmail.com', 232)\n",
      "(249, 'ashish', 'ashish@gmail.com', 232)\n",
      "(250, 'ashish', 'ashish@gmail.com', 232)\n",
      "(251, 'ashish', 'ashish@gmail.com', 232)\n",
      "(252, 'ashish', 'ashish@gmail.com', 232)\n"
     ]
    }
   ],
   "source": [
    "for i in (c.execute(\"select * from student\")):\n",
    "    print(i)"
   ]
  },
  {
   "cell_type": "code",
   "execution_count": 81,
   "metadata": {},
   "outputs": [],
   "source": [
    "# DELETE OPERATION\n",
    "for i in c.execute(\"delete from student where student_id > 2000\"):\n",
    "    print(i)"
   ]
  },
  {
   "cell_type": "code",
   "execution_count": 83,
   "metadata": {},
   "outputs": [
    {
     "data": {
      "text/plain": [
       "[]"
      ]
     },
     "execution_count": 83,
     "metadata": {},
     "output_type": "execute_result"
    }
   ],
   "source": [
    "#it will give a list of tuple\n",
    "data.fetchall()"
   ]
  },
  {
   "cell_type": "code",
   "execution_count": 84,
   "metadata": {},
   "outputs": [
    {
     "data": {
      "text/plain": [
       "<sqlite3.Cursor at 0x23574583ce0>"
      ]
     },
     "execution_count": 84,
     "metadata": {},
     "output_type": "execute_result"
    }
   ],
   "source": [
    "c.execute(\"update student set student_id = '1000' where student_id = 236\")"
   ]
  },
  {
   "cell_type": "code",
   "execution_count": 85,
   "metadata": {},
   "outputs": [
    {
     "data": {
      "text/plain": [
       "[(234, 'ashish', 'ashish@gmail.com', 232),\n",
       " (235, 'ashish', 'ashish@gmail.com', 232),\n",
       " (1000, 'ashish', 'ashish@gmail.com', 232),\n",
       " (237, 'ashish', 'ashish@gmail.com', 232),\n",
       " (238, 'ashish', 'ashish@gmail.com', 232),\n",
       " (239, 'ashish', 'ashish@gmail.com', 232),\n",
       " (240, 'ashish', 'ashish@gmail.com', 232),\n",
       " (241, 'ashish', 'ashish@gmail.com', 232),\n",
       " (242, 'ashish', 'ashish@gmail.com', 232),\n",
       " (243, 'ashish', 'ashish@gmail.com', 232),\n",
       " (244, 'ashish', 'ashish@gmail.com', 232),\n",
       " (245, 'ashish', 'ashish@gmail.com', 232),\n",
       " (246, 'ashish', 'ashish@gmail.com', 232),\n",
       " (247, 'ashish', 'ashish@gmail.com', 232),\n",
       " (248, 'ashish', 'ashish@gmail.com', 232),\n",
       " (249, 'ashish', 'ashish@gmail.com', 232),\n",
       " (250, 'ashish', 'ashish@gmail.com', 232),\n",
       " (251, 'ashish', 'ashish@gmail.com', 232),\n",
       " (252, 'ashish', 'ashish@gmail.com', 232)]"
      ]
     },
     "execution_count": 85,
     "metadata": {},
     "output_type": "execute_result"
    }
   ],
   "source": [
    "data = c.execute(\"select * from student\")\n",
    "data.fetchall()"
   ]
  },
  {
   "cell_type": "code",
   "execution_count": 86,
   "metadata": {},
   "outputs": [],
   "source": [
    "db.close()"
   ]
  },
  {
   "cell_type": "markdown",
   "metadata": {},
   "source": [
    "# Map Reduce and filter Operation"
   ]
  },
  {
   "cell_type": "code",
   "execution_count": 87,
   "metadata": {},
   "outputs": [],
   "source": [
    "l = [1,2,3,4,5,6]"
   ]
  },
  {
   "cell_type": "code",
   "execution_count": 89,
   "metadata": {},
   "outputs": [],
   "source": [
    "l1 = []\n",
    "for i in l:\n",
    "    l1.append(i+5)"
   ]
  },
  {
   "cell_type": "code",
   "execution_count": 90,
   "metadata": {},
   "outputs": [
    {
     "data": {
      "text/plain": [
       "[6, 7, 8, 9, 10, 11]"
      ]
     },
     "execution_count": 90,
     "metadata": {},
     "output_type": "execute_result"
    }
   ],
   "source": [
    "l1"
   ]
  },
  {
   "cell_type": "code",
   "execution_count": 91,
   "metadata": {},
   "outputs": [
    {
     "data": {
      "text/plain": [
       "[6, 7, 8, 9, 10, 11]"
      ]
     },
     "execution_count": 91,
     "metadata": {},
     "output_type": "execute_result"
    }
   ],
   "source": [
    "[i+5 for i in l]"
   ]
  },
  {
   "cell_type": "markdown",
   "metadata": {},
   "source": [
    "# Map"
   ]
  },
  {
   "cell_type": "code",
   "execution_count": 93,
   "metadata": {},
   "outputs": [],
   "source": [
    "def test(a):\n",
    "    return a+5"
   ]
  },
  {
   "cell_type": "code",
   "execution_count": 95,
   "metadata": {},
   "outputs": [
    {
     "data": {
      "text/plain": [
       "[6, 7, 8, 9, 10, 11]"
      ]
     },
     "execution_count": 95,
     "metadata": {},
     "output_type": "execute_result"
    }
   ],
   "source": [
    "list(map(test,l))"
   ]
  },
  {
   "cell_type": "code",
   "execution_count": 96,
   "metadata": {},
   "outputs": [],
   "source": [
    "def test1(a):\n",
    "    return a*3434+2323"
   ]
  },
  {
   "cell_type": "code",
   "execution_count": 97,
   "metadata": {},
   "outputs": [
    {
     "data": {
      "text/plain": [
       "[5757, 9191, 12625, 16059, 19493, 22927]"
      ]
     },
     "execution_count": 97,
     "metadata": {},
     "output_type": "execute_result"
    }
   ],
   "source": [
    "list(map(test1,l))"
   ]
  },
  {
   "cell_type": "code",
   "execution_count": 103,
   "metadata": {},
   "outputs": [],
   "source": [
    "#converting string into integer"
   ]
  },
  {
   "cell_type": "code",
   "execution_count": 98,
   "metadata": {},
   "outputs": [],
   "source": [
    "l1 = ['234','232','232','2323','3232232']"
   ]
  },
  {
   "cell_type": "code",
   "execution_count": 99,
   "metadata": {},
   "outputs": [],
   "source": [
    "def test2(a):\n",
    "    return int(a)"
   ]
  },
  {
   "cell_type": "code",
   "execution_count": 101,
   "metadata": {},
   "outputs": [
    {
     "data": {
      "text/plain": [
       "1231"
      ]
     },
     "execution_count": 101,
     "metadata": {},
     "output_type": "execute_result"
    }
   ],
   "source": [
    "test2(\"1231\")"
   ]
  },
  {
   "cell_type": "code",
   "execution_count": 102,
   "metadata": {},
   "outputs": [
    {
     "data": {
      "text/plain": [
       "[234, 232, 232, 2323, 3232232]"
      ]
     },
     "execution_count": 102,
     "metadata": {},
     "output_type": "execute_result"
    }
   ],
   "source": [
    "list(map(test2,l1))"
   ]
  },
  {
   "cell_type": "code",
   "execution_count": 104,
   "metadata": {},
   "outputs": [],
   "source": [
    "# map always takes first agrument as a function and 2nd argument as an iterable function"
   ]
  },
  {
   "cell_type": "code",
   "execution_count": 105,
   "metadata": {},
   "outputs": [
    {
     "data": {
      "text/plain": [
       "[234, 232, 232, 2323, 3232232]"
      ]
     },
     "execution_count": 105,
     "metadata": {},
     "output_type": "execute_result"
    }
   ],
   "source": [
    "# map using Lambda\n",
    "list(map(lambda x  : int(x),l1))"
   ]
  },
  {
   "cell_type": "code",
   "execution_count": 107,
   "metadata": {},
   "outputs": [
    {
     "data": {
      "text/plain": [
       "[6, 7, 8, 9, 10, 11]"
      ]
     },
     "execution_count": 107,
     "metadata": {},
     "output_type": "execute_result"
    }
   ],
   "source": [
    "list(map(lambda x : x+5, l))"
   ]
  },
  {
   "cell_type": "markdown",
   "metadata": {},
   "source": [
    "# Filter function"
   ]
  },
  {
   "cell_type": "code",
   "execution_count": 108,
   "metadata": {},
   "outputs": [],
   "source": [
    "l = [3,4,5,6,7,8,9,10]"
   ]
  },
  {
   "cell_type": "code",
   "execution_count": 109,
   "metadata": {},
   "outputs": [],
   "source": [
    "def test4(a):\n",
    "    if a%2 == 0:\n",
    "        return a"
   ]
  },
  {
   "cell_type": "code",
   "execution_count": 110,
   "metadata": {},
   "outputs": [
    {
     "data": {
      "text/plain": [
       "[4, 6, 8, 10]"
      ]
     },
     "execution_count": 110,
     "metadata": {},
     "output_type": "execute_result"
    }
   ],
   "source": [
    "[i for i in l if i%2 ==0]"
   ]
  },
  {
   "cell_type": "code",
   "execution_count": 111,
   "metadata": {},
   "outputs": [
    {
     "data": {
      "text/plain": [
       "[4, 6, 8, 10]"
      ]
     },
     "execution_count": 111,
     "metadata": {},
     "output_type": "execute_result"
    }
   ],
   "source": [
    "#first arg is a function and 2nd one is iterable\n",
    "list(filter(test4, l))"
   ]
  },
  {
   "cell_type": "code",
   "execution_count": 112,
   "metadata": {},
   "outputs": [
    {
     "data": {
      "text/plain": [
       "[4, 6, 8, 10]"
      ]
     },
     "execution_count": 112,
     "metadata": {},
     "output_type": "execute_result"
    }
   ],
   "source": [
    "list(filter(lambda x : x%2==0, l))"
   ]
  },
  {
   "cell_type": "code",
   "execution_count": 114,
   "metadata": {},
   "outputs": [
    {
     "data": {
      "text/plain": [
       "[5, 6, 7, 8, 9, 10]"
      ]
     },
     "execution_count": 114,
     "metadata": {},
     "output_type": "execute_result"
    }
   ],
   "source": [
    "list(filter(lambda x : x>4, l))"
   ]
  },
  {
   "cell_type": "code",
   "execution_count": 115,
   "metadata": {},
   "outputs": [
    {
     "data": {
      "text/plain": [
       "[3, 6, 9]"
      ]
     },
     "execution_count": 115,
     "metadata": {},
     "output_type": "execute_result"
    }
   ],
   "source": [
    "list(filter(lambda x : x%3==0, l))"
   ]
  },
  {
   "cell_type": "markdown",
   "metadata": {},
   "source": [
    "# Reduce Function"
   ]
  },
  {
   "cell_type": "code",
   "execution_count": 116,
   "metadata": {},
   "outputs": [],
   "source": [
    "from functools import reduce"
   ]
  },
  {
   "cell_type": "code",
   "execution_count": 117,
   "metadata": {},
   "outputs": [],
   "source": [
    "l = [3,4,5,6,7,8,9,10,11,12]"
   ]
  },
  {
   "cell_type": "code",
   "execution_count": 118,
   "metadata": {},
   "outputs": [],
   "source": [
    "# summision meaning add and find the sum"
   ]
  },
  {
   "cell_type": "code",
   "execution_count": 119,
   "metadata": {},
   "outputs": [
    {
     "data": {
      "text/plain": [
       "75"
      ]
     },
     "execution_count": 119,
     "metadata": {},
     "output_type": "execute_result"
    }
   ],
   "source": [
    "sum(l)"
   ]
  },
  {
   "cell_type": "code",
   "execution_count": 120,
   "metadata": {},
   "outputs": [],
   "source": [
    "def test5(a,b):\n",
    "    return a+b"
   ]
  },
  {
   "cell_type": "code",
   "execution_count": 121,
   "metadata": {},
   "outputs": [
    {
     "data": {
      "text/plain": [
       "75"
      ]
     },
     "execution_count": 121,
     "metadata": {},
     "output_type": "execute_result"
    }
   ],
   "source": [
    "# fucntion is the first arg, and then the iterable\n",
    "reduce(test5,l)"
   ]
  },
  {
   "cell_type": "code",
   "execution_count": 122,
   "metadata": {},
   "outputs": [],
   "source": [
    "def test5(a,b):\n",
    "    return a*b"
   ]
  },
  {
   "cell_type": "code",
   "execution_count": 123,
   "metadata": {},
   "outputs": [
    {
     "data": {
      "text/plain": [
       "239500800"
      ]
     },
     "execution_count": 123,
     "metadata": {},
     "output_type": "execute_result"
    }
   ],
   "source": [
    "# fucntion is the first arg, and then the iterable\n",
    "reduce(test5,l)"
   ]
  },
  {
   "cell_type": "code",
   "execution_count": 124,
   "metadata": {},
   "outputs": [],
   "source": [
    "def test5(a,b):\n",
    "    return a/b"
   ]
  },
  {
   "cell_type": "code",
   "execution_count": 125,
   "metadata": {},
   "outputs": [
    {
     "data": {
      "text/plain": [
       "3.757816257816258e-08"
      ]
     },
     "execution_count": 125,
     "metadata": {},
     "output_type": "execute_result"
    }
   ],
   "source": [
    "# fucntion is the first arg, and then the iterable\n",
    "reduce(test5,l)"
   ]
  },
  {
   "cell_type": "code",
   "execution_count": 126,
   "metadata": {},
   "outputs": [],
   "source": [
    "#how is it fuctioning internally"
   ]
  },
  {
   "cell_type": "code",
   "execution_count": 127,
   "metadata": {},
   "outputs": [],
   "source": [
    "def test5(a,b):\n",
    "    return a+b"
   ]
  },
  {
   "cell_type": "code",
   "execution_count": 128,
   "metadata": {},
   "outputs": [
    {
     "data": {
      "text/plain": [
       "75"
      ]
     },
     "execution_count": 128,
     "metadata": {},
     "output_type": "execute_result"
    }
   ],
   "source": [
    "# fucntion is the first arg, and then the iterable\n",
    "reduce(test5,l)"
   ]
  },
  {
   "cell_type": "code",
   "execution_count": 130,
   "metadata": {},
   "outputs": [],
   "source": [
    "#Watch the video for how it works 2 hour 40 Minutes to understand how thisfucntuion works"
   ]
  },
  {
   "cell_type": "code",
   "execution_count": 131,
   "metadata": {},
   "outputs": [
    {
     "data": {
      "text/plain": [
       "75"
      ]
     },
     "execution_count": 131,
     "metadata": {},
     "output_type": "execute_result"
    }
   ],
   "source": [
    "reduce(lambda x,y : x+y,l)"
   ]
  },
  {
   "cell_type": "code",
   "execution_count": 132,
   "metadata": {},
   "outputs": [],
   "source": [
    "l = [2,35,6,7,7,567,65]"
   ]
  },
  {
   "cell_type": "code",
   "execution_count": 133,
   "metadata": {},
   "outputs": [
    {
     "data": {
      "text/plain": [
       "689"
      ]
     },
     "execution_count": 133,
     "metadata": {},
     "output_type": "execute_result"
    }
   ],
   "source": [
    "reduce(lambda x,y : x+y,l)"
   ]
  },
  {
   "cell_type": "code",
   "execution_count": 134,
   "metadata": {},
   "outputs": [
    {
     "data": {
      "text/plain": [
       "758475900"
      ]
     },
     "execution_count": 134,
     "metadata": {},
     "output_type": "execute_result"
    }
   ],
   "source": [
    "reduce(lambda x,y : x*y,l)"
   ]
  },
  {
   "cell_type": "code",
   "execution_count": 135,
   "metadata": {},
   "outputs": [
    {
     "data": {
      "text/plain": [
       "5.273733812768473e-09"
      ]
     },
     "execution_count": 135,
     "metadata": {},
     "output_type": "execute_result"
    }
   ],
   "source": [
    "reduce(lambda x,y : x/y,l)"
   ]
  },
  {
   "cell_type": "code",
   "execution_count": 136,
   "metadata": {},
   "outputs": [],
   "source": [
    "l = [1,2,3,4]\n",
    "l1 = [2,3,4,5,67]"
   ]
  },
  {
   "cell_type": "code",
   "execution_count": 138,
   "metadata": {},
   "outputs": [
    {
     "data": {
      "text/plain": [
       "[(1, 2), (2, 3), (3, 4), (4, 5)]"
      ]
     },
     "execution_count": 138,
     "metadata": {},
     "output_type": "execute_result"
    }
   ],
   "source": [
    "#this will give a pair of list of tuples\n",
    "list(zip(l,l1))"
   ]
  },
  {
   "cell_type": "code",
   "execution_count": 139,
   "metadata": {},
   "outputs": [],
   "source": [
    "l = [1,2,3,4]\n",
    "l1 = [2,3,4,5]\n",
    "l2 = [\"sudh\",\"ash\",\"asd\",\"sda\"]"
   ]
  },
  {
   "cell_type": "code",
   "execution_count": 140,
   "metadata": {},
   "outputs": [
    {
     "data": {
      "text/plain": [
       "[(1, 2, 'sudh'), (2, 3, 'ash'), (3, 4, 'asd'), (4, 5, 'sda')]"
      ]
     },
     "execution_count": 140,
     "metadata": {},
     "output_type": "execute_result"
    }
   ],
   "source": [
    "#this will give a pair of list of tuples\n",
    "list(zip(l,l1,l2))"
   ]
  },
  {
   "cell_type": "code",
   "execution_count": 141,
   "metadata": {},
   "outputs": [],
   "source": [
    "l = [1,2,3,4]\n",
    "l1 = [2,3,4,5]\n",
    "l2 = [\"sudh\",\"ash\",\"asd\"]"
   ]
  },
  {
   "cell_type": "code",
   "execution_count": 142,
   "metadata": {},
   "outputs": [
    {
     "data": {
      "text/plain": [
       "[(1, 2, 'sudh'), (2, 3, 'ash'), (3, 4, 'asd')]"
      ]
     },
     "execution_count": 142,
     "metadata": {},
     "output_type": "execute_result"
    }
   ],
   "source": [
    "#this will give a pair of list of tuples\n",
    "list(zip(l,l1,l2))"
   ]
  },
  {
   "cell_type": "code",
   "execution_count": 143,
   "metadata": {},
   "outputs": [],
   "source": [
    "#it creates a pair wise outcome"
   ]
  },
  {
   "cell_type": "code",
   "execution_count": 144,
   "metadata": {},
   "outputs": [],
   "source": [
    "# Task\n",
    "\n",
    "#Bag of words dataset\n",
    "\n",
    "# Q1 = try to findout a count of each and every word in a respective file return a list of tuples with word and its respective count\n",
    "# watch the video 2 hours 55 mins for this class"
   ]
  },
  {
   "cell_type": "raw",
   "metadata": {},
   "source": [
    "Title:  Bag of Words Data Set\n",
    "\n",
    "Abstract: This data set contains five text collections in the form of bags-of-words.\n",
    "\n",
    "-----------------------------------------------------\t\n",
    "\n",
    "Data Set Characteristics: Text\n",
    "Number of Instances: 8000000\n",
    "Area: N/A\n",
    "Attribute Characteristics: Integer\n",
    "Number of Attributes: 100000\n",
    "Date Donated: 2008-03-12\n",
    "Associated Tasks: Clustering\n",
    "Missing Values? N/A\n",
    "\n",
    "-----------------------------------------------------\t\t\n",
    "\n",
    "Source:\n",
    "\n",
    "David Newman\n",
    "newman '@' uci.edu\n",
    "University of California, Irvine\n",
    "\n",
    "-----------------------------------------------------\t\n",
    "\n",
    "Data Set Information:\n",
    "\n",
    "For each text collection, D is the number of documents, W is the\n",
    "number of words in the vocabulary, and N is the total number of words\n",
    "in the collection (below, NNZ is the number of nonzero counts in the\n",
    "bag-of-words). After tokenization and removal of stopwords, the\n",
    "vocabulary of unique words was truncated by only keeping words that\n",
    "occurred more than ten times. Individual document names (i.e. a\n",
    "identifier for each docID) are not provided for copyright reasons.\n",
    "\n",
    "These data sets have no class labels, and for copyright reasons no\n",
    "filenames or other document-level metadata.  These data sets are ideal\n",
    "for clustering and topic modeling experiments.\n",
    "\n",
    "For each text collection we provide docword.*.txt (the bag of words\n",
    "file in sparse format) and vocab.*.txt (the vocab file).\n",
    "\n",
    "Enron Emails:\n",
    "orig source: www.cs.cmu.edu/~enron\n",
    "D=39861\n",
    "W=28102\n",
    "N=6,400,000 (approx)\n",
    "\n",
    "NIPS full papers:\n",
    "orig source: books.nips.cc\n",
    "D=1500\n",
    "W=12419\n",
    "N=1,900,000 (approx)\n",
    "\n",
    "KOS blog entries:\n",
    "orig source: dailykos.com\n",
    "D=3430\n",
    "W=6906\n",
    "N=467714\n",
    "\n",
    "NYTimes news articles:\n",
    "orig source: ldc.upenn.edu\n",
    "D=300000\n",
    "W=102660\n",
    "N=100,000,000 (approx)\n",
    "\n",
    "PubMed abstracts:\n",
    "orig source: www.pubmed.gov\n",
    "D=8200000\n",
    "W=141043\n",
    "N=730,000,000 (approx)\n",
    "\n",
    "\n",
    "-----------------------------------------------------\t\n",
    "\n",
    "Attribute Information:\n",
    "\n",
    "The format of the docword.*.txt file is 3 header lines, followed by\n",
    "NNZ triples:\n",
    "---\n",
    "D\n",
    "W\n",
    "NNZ\n",
    "docID wordID count\n",
    "docID wordID count\n",
    "docID wordID count\n",
    "docID wordID count\n",
    "...\n",
    "docID wordID count\n",
    "docID wordID count\n",
    "docID wordID count\n",
    "---\n",
    "\n",
    "The format of the vocab.*.txt file is line contains wordID=n.\n"
   ]
  },
  {
   "cell_type": "raw",
   "metadata": {},
   "source": [
    "# Task for today : dataset - https://archive.ics.uci.edu/ml/datasets/Bag+of+Words\n",
    "\n",
    "q1 = try to find out a count of each and every word in a respective file return a list of tuple with word and its respective count\n",
    "sample example - [('sudh', 6 ) , ('kumar',3)]\n",
    "\n",
    "q2 = try to perform a reduce operation to get a count of all the word starting with same alphabet\n",
    "sample examle = [(a,56) , (b,34),...........]\n",
    "\n",
    "q3 = Try to filter out all the words from dataset .\n",
    ".001.abstract = abstract =.002 = delete\n",
    "\n",
    "q4 = create a tuple set of all the records avaialble in all the five file and then store it in sqllite DB .\n",
    "(aah,>=,354,fdsf,wer)"
   ]
  },
  {
   "cell_type": "code",
   "execution_count": 2,
   "metadata": {},
   "outputs": [],
   "source": [
    "#q1 = try to find out a count of each and every word in a respective file return a list of tuple with word and its respective count\n",
    "#sample example - [('sudh', 6 ) , ('kumar',3)]"
   ]
  },
  {
   "cell_type": "code",
   "execution_count": 20,
   "metadata": {},
   "outputs": [],
   "source": [
    "import logging \n",
    "\n",
    "## Creating logging config\n",
    "\n",
    "logging.basicConfig(filename='vocab_logfile.log',\n",
    "                    filemode='a',\n",
    "                    level = logging.INFO,\n",
    "                    format='%(asctime)s %(levelname)s-%(message)s',\n",
    "                    datefmt='%Y-%m-%d %H:%M:%S'\n",
    "                    )\n",
    "\n",
    "## Creating Logger Object\n",
    "logger = logging.getLogger()\n",
    "logger.setLevel(logging.DEBUG)"
   ]
  },
  {
   "cell_type": "code",
   "execution_count": 21,
   "metadata": {},
   "outputs": [],
   "source": [
    "import csv\n",
    "\n",
    "def wordCount(*args):\n",
    "    \"\"\"\n",
    "    wordCount(file1, file2, ... filen)\n",
    "    wordCount(*args)\n",
    "\n",
    "    This function take file(s) as argument and return word with occurence count.\n",
    "\n",
    "    :param:\n",
    "        *args: file(s).\n",
    "    :return: ('word', count(word)) : list(tuples)\n",
    "    \"\"\"\n",
    "    words = []\n",
    "    \n",
    "    try:\n",
    "        for file in args:\n",
    "            with open(file, 'r', encoding=\"utf8\") as f:\n",
    "                data = csv.reader(f)\n",
    "                for row_data in data:\n",
    "                    words.append(row_data[0])\n",
    "    except Exception as e:\n",
    "        logger.error('Error in reading files: ' + str(e))\n",
    "    else:\n",
    "        word_count = []\n",
    "        unique_words = list(set(words))\n",
    "        unique_words.sort()\n",
    "\n",
    "        for i in unique_words:\n",
    "            word_count.append((i, words.count(i)))\n",
    "            #yield (i, words.count(i))\n",
    "        logger.info('Word count for records: ' +  str(len(word_count)) + ' from ' + str(len(args)) + 'Datasets')\n",
    "        \n",
    "        return word_count\n",
    "        "
   ]
  },
  {
   "cell_type": "code",
   "execution_count": 22,
   "metadata": {},
   "outputs": [],
   "source": [
    "import csv\n",
    "\n",
    "def wordCount(*args):\n",
    "    \"\"\"\n",
    "    wordCount(file1, file2, ..... filen)\n",
    "    wordCount(*args)\n",
    "    \n",
    "    This function take file(s) as argument and return word with occurence count.\n",
    "    \n",
    "    :param:\n",
    "        *args: file(s)\n",
    "    :return: ('word', count(word) : list(tuples))\n",
    "    \"\"\"\n",
    "    \n",
    "    words = []\n",
    "    \n",
    "    try:\n",
    "        for file in args:\n",
    "            with open(file, 'r', encoding= 'utf-8') as f:\n",
    "                data = csv.reader(f)\n",
    "                for row_data in data:\n",
    "                    words.append(row_data[0])\n",
    "    except Exception as e:\n",
    "        logger.error('Error in reading files:' + str(e))\n",
    "    else:\n",
    "        word_count = []\n",
    "        unique_words =list(set(words))\n",
    "        unique_words.sort()\n",
    "        \n",
    "        for i in unique_words:\n",
    "            word_count.append((i, words.count(i)))\n",
    "            #yield (i, words.count(i))\n",
    "        logger.info('Word count for records: ' + str(len(word_count)) +'from' + str(len(args)) + 'Datasets')\n",
    "        \n",
    "        return word_count"
   ]
  },
  {
   "cell_type": "code",
   "execution_count": 23,
   "metadata": {},
   "outputs": [],
   "source": [
    "### Fetching records for data 'vocab.enron.txt' and 'vocab.kos.txt'"
   ]
  },
  {
   "cell_type": "code",
   "execution_count": 24,
   "metadata": {},
   "outputs": [],
   "source": [
    "task1 = wordCount('vocab.enron.txt','vocab.kos.txt')"
   ]
  },
  {
   "cell_type": "code",
   "execution_count": 25,
   "metadata": {},
   "outputs": [],
   "source": [
    "# Fetching top 20 Data"
   ]
  },
  {
   "cell_type": "code",
   "execution_count": 26,
   "metadata": {},
   "outputs": [
    {
     "data": {
      "text/plain": [
       "[('aaa', 1),\n",
       " ('aaas', 1),\n",
       " ('aactive', 1),\n",
       " ('aadvantage', 1),\n",
       " ('aaker', 1),\n",
       " ('aap', 1),\n",
       " ('aapg', 1),\n",
       " ('aaron', 1),\n",
       " ('aarp', 2),\n",
       " ('aas', 1),\n",
       " ('aau', 1),\n",
       " ('ab1890', 1),\n",
       " ('ab1x', 1),\n",
       " ('ab31x', 1),\n",
       " ('aba', 1),\n",
       " ('abacus', 1),\n",
       " ('abag', 1),\n",
       " ('abalone', 1),\n",
       " ('abandon', 2),\n",
       " ('abandoned', 2)]"
      ]
     },
     "execution_count": 26,
     "metadata": {},
     "output_type": "execute_result"
    }
   ],
   "source": [
    "task1[0:20]"
   ]
  },
  {
   "cell_type": "markdown",
   "metadata": {},
   "source": [
    "# Task 2"
   ]
  },
  {
   "cell_type": "raw",
   "metadata": {},
   "source": [
    "q2 = try to perform a reduce operation to get a count of all the word starting with same alphabet\n",
    "sample examle = [(a,56) , (b,34),...........]"
   ]
  },
  {
   "cell_type": "code",
   "execution_count": 30,
   "metadata": {},
   "outputs": [],
   "source": [
    "import csv\n",
    "\n",
    "def wordCount_reduce(*args):\n",
    "    \"\"\"\n",
    "    wordCount_reduce(file1, file2, ... filen)\n",
    "    wordCount_reduce(*args)\n",
    "\n",
    "    This function take file(s) as argument and return alphabets with occurence count.\n",
    "\n",
    "    :param:\n",
    "        *args: file(s).\n",
    "    :return: ('alphabets', count(alphabets)) : list(tuples)\n",
    "    \"\"\"\n",
    "    words = []\n",
    "    \n",
    "    try:\n",
    "        for file in args:\n",
    "            with open(file, 'r', encoding= \"utf-8\") as f:\n",
    "                data = csv.reader(f)\n",
    "                for row_data in data:\n",
    "                    if row_data[0][0] >= 'a'and row_data [0][0] <='z' or row_data[0][0] >=\"A\" and row_data[0][0] <= 'Z':\n",
    "                        words.append(row_data[0][0])\n",
    "    except Exception as e:\n",
    "        logger.error('Error in reading files : ' + str(e))\n",
    "        \n",
    "    else:\n",
    "        word_count = []\n",
    "        unique_words = list(set(words))\n",
    "        unique_words.sort()\n",
    "        \n",
    "        \n",
    "        for i in unique_words:\n",
    "            word_count.append((i, words.count(i)))\n",
    "            \n",
    "        logger.info('Data record count : ' + str(len(word_count)) + 'from' + str(len(args)) + \"Datasets\")\n",
    "        \n",
    "        return word_count"
   ]
  },
  {
   "cell_type": "code",
   "execution_count": 31,
   "metadata": {},
   "outputs": [],
   "source": [
    "## Fetching records for data 'vocab.enron.txt' and 'vocab.kor.txt'"
   ]
  },
  {
   "cell_type": "code",
   "execution_count": 32,
   "metadata": {},
   "outputs": [
    {
     "data": {
      "text/plain": [
       "[('a', 12501),\n",
       " ('b', 7046),\n",
       " ('c', 15155),\n",
       " ('d', 8388),\n",
       " ('e', 7143),\n",
       " ('f', 5642),\n",
       " ('g', 5150),\n",
       " ('h', 7418),\n",
       " ('i', 7097),\n",
       " ('j', 933),\n",
       " ('k', 1855),\n",
       " ('l', 5716),\n",
       " ('m', 10734),\n",
       " ('n', 7647),\n",
       " ('o', 4026),\n",
       " ('p', 15247),\n",
       " ('q', 634),\n",
       " ('r', 7620),\n",
       " ('s', 13603),\n",
       " ('t', 8447),\n",
       " ('u', 2908),\n",
       " ('v', 2784),\n",
       " ('w', 2289),\n",
       " ('x', 425),\n",
       " ('y', 412),\n",
       " ('z', 477)]"
      ]
     },
     "execution_count": 32,
     "metadata": {},
     "output_type": "execute_result"
    }
   ],
   "source": [
    "wordCount_reduce('vocab.enron.txt','vocab.pubmed.txt')"
   ]
  },
  {
   "cell_type": "markdown",
   "metadata": {},
   "source": [
    "# TASK 3"
   ]
  },
  {
   "cell_type": "code",
   "execution_count": 34,
   "metadata": {},
   "outputs": [],
   "source": [
    "import csv\n",
    "\n",
    "def filter_word(*args):\n",
    "    \"\"\"\n",
    "    filter_word(file1, file2, ... filen)\n",
    "    filter_word(*args)\n",
    "\n",
    "    This function take file(s) as argument extract only the letters and return  as list.\n",
    "\n",
    "    :param:\n",
    "        *args: file(s).\n",
    "    :return: ('characters') : list(strings)\n",
    "    \"\"\"\n",
    "    words = []\n",
    "    \n",
    "    try:\n",
    "        for file in args:\n",
    "            with open(file, 'r', encoding='utf8') as f:\n",
    "                data = csv.reader(f)\n",
    "                for row_data in data:\n",
    "                    current_word = \"\"\n",
    "                    for char in row_data[0]:\n",
    "                        if char >= 'a' and char <='z' or char[0][0] >= 'A' and char[0][0] <= 'Z':\n",
    "                            current_word += char\n",
    "                    words.append(current_word)\n",
    "                    \n",
    "    except Exception as e:\n",
    "        logging.error('Error in reading files : ' + str(e))\n",
    "        \n",
    "    else:\n",
    "        alpha = []\n",
    "        unique_words = list(set(words))\n",
    "        unique_words.sort()\n",
    "        \n",
    "        for i in unique_words:\n",
    "            #yeild (i)\n",
    "            if len(i) > 0:\n",
    "                alpha.append(i)\n",
    "                \n",
    "        logger.info('Total filter records:' + str(len(alpha)) + 'from' + str(len(args)) + 'DataSets')\\\n",
    "        \n",
    "        return alpha"
   ]
  },
  {
   "cell_type": "code",
   "execution_count": 35,
   "metadata": {},
   "outputs": [],
   "source": [
    "### Fetching records for data 'vocab.pumber.txt'"
   ]
  },
  {
   "cell_type": "code",
   "execution_count": 36,
   "metadata": {},
   "outputs": [],
   "source": [
    "filter_word = filter_word('vocab.pubmed.txt')"
   ]
  },
  {
   "cell_type": "markdown",
   "metadata": {},
   "source": [
    "# Fetching top 10 records"
   ]
  },
  {
   "cell_type": "code",
   "execution_count": 38,
   "metadata": {},
   "outputs": [
    {
     "data": {
      "text/plain": [
       "['a',\n",
       " 'aa',\n",
       " 'aaa',\n",
       " 'aaaa',\n",
       " 'aaad',\n",
       " 'aaamyloidosis',\n",
       " 'aaar',\n",
       " 'aaas',\n",
       " 'aab',\n",
       " 'aabb']"
      ]
     },
     "execution_count": 38,
     "metadata": {},
     "output_type": "execute_result"
    }
   ],
   "source": [
    "filter_word[:10]"
   ]
  },
  {
   "cell_type": "markdown",
   "metadata": {},
   "source": [
    "# Task 4:\n",
    "\n",
    "\n",
    "q4 = create a tuple set of all the records avaialble in all the five file and then store it in sqllite DB .\n",
    "(aah,>=,354,fdsf,wer)"
   ]
  },
  {
   "cell_type": "markdown",
   "metadata": {},
   "source": [
    "# Function to fetch records from n collections"
   ]
  },
  {
   "cell_type": "code",
   "execution_count": 39,
   "metadata": {},
   "outputs": [],
   "source": [
    "import csv\n",
    "\n",
    "def task4(*args):\n",
    "    \"\"\"\n",
    "    task4(file1, file2, ... filen)\n",
    "    task4(*args)\n",
    "\n",
    "    This function take file(s) as argument and return list of list.\n",
    "\n",
    "    :param:\n",
    "        *args: file(s).\n",
    "    :return: ('string') : list(strings)\n",
    "    \"\"\"\n",
    "    combine_words = []\n",
    "    try:\n",
    "        for file in args:\n",
    "            with open(file, 'r', encoding=\"utf8\") as f:\n",
    "                data = csv.reader(f)\n",
    "                words = []\n",
    "                for row_data in data:\n",
    "                    words.append(row_data[0])\n",
    "                combine_words.append(words)\n",
    "    \n",
    "    except Exception as e:\n",
    "        logger.error('Error in reading files: ' + str(e))\n",
    "    else:\n",
    "        logger.info('Success Return of list of list')\n",
    "                \n",
    "        return combine_words"
   ]
  },
  {
   "cell_type": "markdown",
   "metadata": {},
   "source": [
    "\n",
    "# fetching data from all 5 collections"
   ]
  },
  {
   "cell_type": "code",
   "execution_count": 40,
   "metadata": {},
   "outputs": [],
   "source": [
    "file = task4('vocab.enron.txt', 'vocab.kos.txt', 'vocab.nips.txt', 'vocab.nytimes.txt', 'vocab.pubmed.txt')"
   ]
  },
  {
   "cell_type": "markdown",
   "metadata": {},
   "source": [
    "# Spliting the data into 5 parts"
   ]
  },
  {
   "cell_type": "code",
   "execution_count": 42,
   "metadata": {},
   "outputs": [],
   "source": [
    "f1 = file[0]\n",
    "f2 = file[1]\n",
    "f3 = file[2]\n",
    "f4 = file[3]\n",
    "f5 = file[4]"
   ]
  },
  {
   "cell_type": "markdown",
   "metadata": {},
   "source": [
    "# Using zip function and create a final list for dumping data into SQLite"
   ]
  },
  {
   "cell_type": "code",
   "execution_count": 43,
   "metadata": {},
   "outputs": [],
   "source": [
    "final_zip_list = list(zip(f1, f2, f3, f4, f5))"
   ]
  },
  {
   "cell_type": "markdown",
   "metadata": {},
   "source": [
    "# Preview of final list data to dump into the SQLite DB"
   ]
  },
  {
   "cell_type": "code",
   "execution_count": 45,
   "metadata": {},
   "outputs": [
    {
     "data": {
      "text/plain": [
       "[('aaa', 'aarp', 'a2i', 'aah', '>='),\n",
       " ('aaas', 'abandon', 'aaa', 'aahed', '>>'),\n",
       " ('aactive', 'abandoned', 'aaai', 'aaron', '>>>'),\n",
       " ('aadvantage', 'abandoning', 'aapo', 'aback', '>/='),\n",
       " ('aaker', 'abb', 'aat', 'abacus', '->'),\n",
       " ('aap', 'abc', 'aazhang', 'abajo', '--'),\n",
       " ('aapg', 'abcs', 'abandonment', 'abalone', '-->'),\n",
       " ('aaron', 'abdullah', 'abbott', 'abandon', '-/-'),\n",
       " ('aarp', 'ability', 'abbreviated', 'abandoned', '-/+'),\n",
       " ('aas', 'aboard', 'abcde', 'abandoning', '/-'),\n",
       " ('aau', 'abortion', 'abe', 'abandonment', '/+-'),\n",
       " ('ab1890', 'abortions', 'abeles', 'abandono', '..'),\n",
       " ('ab1x', 'abraham', 'abi', 'abarnard', '...'),\n",
       " ('ab31x', 'abrams', 'abilistic', 'abashed', '+-'),\n",
       " ('aba', 'abroad', 'abilities', 'abate', '+/')]"
      ]
     },
     "execution_count": 45,
     "metadata": {},
     "output_type": "execute_result"
    }
   ],
   "source": [
    "final_zip_list[:15]"
   ]
  },
  {
   "cell_type": "markdown",
   "metadata": {},
   "source": [
    "# SQLite Database and Table Creation"
   ]
  },
  {
   "cell_type": "markdown",
   "metadata": {},
   "source": [
    "# Dumping the above data into the Table"
   ]
  },
  {
   "cell_type": "code",
   "execution_count": 46,
   "metadata": {},
   "outputs": [],
   "source": [
    "import sqlite3\n",
    "\n",
    "try:\n",
    "    db = sqlite3.connect('vocab_database.db')\n",
    "    logger.info('Database Created: ' +  str(db))\n",
    "    cursor = db.cursor()\n",
    "    query = \"CREATE TABLE main_table(file1 text, file2 text, file3 text, file4 text, file5 text)\"\n",
    "    cursor.execute(query)\n",
    "\n",
    "    record_count = 0 \n",
    "    for record in final_zip_list:\n",
    "        query = \"INSERT INTO main_table VALUES {}\".format(tuple(record))\n",
    "        cursor.execute(query)\n",
    "        record_count += 1\n",
    "        \n",
    "    db.commit()\n",
    "    \n",
    "    logger.info('Total records inserted: ' +  str(record_count))\n",
    "        \n",
    "except Exception as e:\n",
    "    logger.error('Error: ' + str(e))\n",
    "finally:\n",
    "    db.close()"
   ]
  },
  {
   "cell_type": "code",
   "execution_count": 47,
   "metadata": {},
   "outputs": [],
   "source": [
    "import sqlite3\n",
    "db = sqlite3.connect('vocab_database.db')\n",
    "cursor = db.cursor()"
   ]
  },
  {
   "cell_type": "code",
   "execution_count": 48,
   "metadata": {},
   "outputs": [],
   "source": [
    "# Fetching the top 20 records from SQLite Table"
   ]
  },
  {
   "cell_type": "code",
   "execution_count": 49,
   "metadata": {},
   "outputs": [
    {
     "data": {
      "text/plain": [
       "[('aaa', 'aarp', 'a2i', 'aah', '>='),\n",
       " ('aaas', 'abandon', 'aaa', 'aahed', '>>'),\n",
       " ('aactive', 'abandoned', 'aaai', 'aaron', '>>>'),\n",
       " ('aadvantage', 'abandoning', 'aapo', 'aback', '>/='),\n",
       " ('aaker', 'abb', 'aat', 'abacus', '->'),\n",
       " ('aap', 'abc', 'aazhang', 'abajo', '--'),\n",
       " ('aapg', 'abcs', 'abandonment', 'abalone', '-->'),\n",
       " ('aaron', 'abdullah', 'abbott', 'abandon', '-/-'),\n",
       " ('aarp', 'ability', 'abbreviated', 'abandoned', '-/+'),\n",
       " ('aas', 'aboard', 'abcde', 'abandoning', '/-'),\n",
       " ('aau', 'abortion', 'abe', 'abandonment', '/+-'),\n",
       " ('ab1890', 'abortions', 'abeles', 'abandono', '..'),\n",
       " ('ab1x', 'abraham', 'abi', 'abarnard', '...'),\n",
       " ('ab31x', 'abrams', 'abilistic', 'abashed', '+-'),\n",
       " ('aba', 'abroad', 'abilities', 'abate', '+/'),\n",
       " ('abacus', 'absence', 'ability', 'abated', '+/--'),\n",
       " ('abag', 'absent', 'abl', 'abatement', '+/?'),\n",
       " ('abalone', 'absentee', 'able', 'abating', '+/+'),\n",
       " ('abandon', 'absolute', 'ables', 'abbey', '++'),\n",
       " ('abandoned', 'absolutely', 'ablex', 'abbot', '+++')]"
      ]
     },
     "execution_count": 49,
     "metadata": {},
     "output_type": "execute_result"
    }
   ],
   "source": [
    "data = cursor.execute(\"select * from main_table limit 20\")\n",
    "[i for i in data]"
   ]
  },
  {
   "cell_type": "code",
   "execution_count": 50,
   "metadata": {},
   "outputs": [],
   "source": [
    "# Source = https://github.com/Chandan220698/Ineuron-DataScience/blob/main/Database%20Assignment/SQLite%20Task/SQLite%20Task.ipynb"
   ]
  },
  {
   "cell_type": "code",
   "execution_count": null,
   "metadata": {},
   "outputs": [],
   "source": []
  }
 ],
 "metadata": {
  "kernelspec": {
   "display_name": "Python 3",
   "language": "python",
   "name": "python3"
  },
  "language_info": {
   "codemirror_mode": {
    "name": "ipython",
    "version": 3
   },
   "file_extension": ".py",
   "mimetype": "text/x-python",
   "name": "python",
   "nbconvert_exporter": "python",
   "pygments_lexer": "ipython3",
   "version": "3.8.5"
  }
 },
 "nbformat": 4,
 "nbformat_minor": 4
}
