{
 "cells": [
  {
   "cell_type": "code",
   "execution_count": 1,
   "id": "86fce44a",
   "metadata": {},
   "outputs": [
    {
     "data": {
      "text/plain": [
       "26"
      ]
     },
     "execution_count": 1,
     "metadata": {},
     "output_type": "execute_result"
    }
   ],
   "source": [
    "# Number of letter in a string\n",
    "s = \"This is basic python class\"\n",
    "len(s)"
   ]
  },
  {
   "cell_type": "code",
   "execution_count": 2,
   "id": "7faf78a8",
   "metadata": {},
   "outputs": [
    {
     "name": "stdout",
     "output_type": "stream",
     "text": [
      "26\n"
     ]
    }
   ],
   "source": [
    "# we are trying to count the letters in s\n",
    "count = 0\n",
    "for i in s:\n",
    "    count = count + 1\n",
    "print(count)"
   ]
  },
  {
   "cell_type": "code",
   "execution_count": 3,
   "id": "766313c4",
   "metadata": {},
   "outputs": [
    {
     "name": "stdout",
     "output_type": "stream",
     "text": [
      "26\n"
     ]
    }
   ],
   "source": [
    "count = 0\n",
    "for i in s:\n",
    "    count = count + 1\n",
    "print(count)"
   ]
  },
  {
   "cell_type": "code",
   "execution_count": 4,
   "id": "79945129",
   "metadata": {},
   "outputs": [
    {
     "name": "stdout",
     "output_type": "stream",
     "text": [
      "26\n"
     ]
    }
   ],
   "source": [
    "count = 0\n",
    "for i in s:\n",
    "    count += 1\n",
    "print(count)"
   ]
  },
  {
   "cell_type": "code",
   "execution_count": 5,
   "id": "76f869fb",
   "metadata": {},
   "outputs": [
    {
     "data": {
      "text/plain": [
       "'ssalc nohtyp cisab si sihT'"
      ]
     },
     "execution_count": 5,
     "metadata": {},
     "output_type": "execute_result"
    }
   ],
   "source": [
    "s[::-1]"
   ]
  },
  {
   "cell_type": "code",
   "execution_count": 6,
   "id": "36f54352",
   "metadata": {},
   "outputs": [
    {
     "name": "stdout",
     "output_type": "stream",
     "text": [
      "s\n",
      "s\n",
      "a\n",
      "l\n",
      "c\n",
      " \n",
      "n\n",
      "o\n",
      "h\n",
      "t\n",
      "y\n",
      "p\n",
      " \n",
      "c\n",
      "i\n",
      "s\n",
      "a\n",
      "b\n",
      " \n",
      "s\n",
      "i\n",
      " \n",
      "s\n",
      "i\n",
      "h\n",
      "T\n"
     ]
    }
   ],
   "source": [
    "#Print the string in reverse order\n",
    "#FOR LOOP\n",
    "for i in range(len(s)-1,-1,-1):\n",
    "    print(s[i])"
   ]
  },
  {
   "cell_type": "code",
   "execution_count": 7,
   "id": "2401b0b0",
   "metadata": {},
   "outputs": [
    {
     "name": "stdout",
     "output_type": "stream",
     "text": [
      "ssalc nohtyp cisab si sihT"
     ]
    }
   ],
   "source": [
    "## While Loop\n",
    "i = len(s)-1\n",
    "while (i>=0):\n",
    "    print(s[i],end=\"\")\n",
    "    i=i-1"
   ]
  },
  {
   "cell_type": "code",
   "execution_count": 8,
   "id": "7b198bbf",
   "metadata": {},
   "outputs": [
    {
     "name": "stdout",
     "output_type": "stream",
     "text": [
      "vowel i\n",
      "not vowel n\n",
      "vowel e\n",
      "vowel u\n",
      "not vowel r\n",
      "vowel o\n",
      "not vowel n\n"
     ]
    }
   ],
   "source": [
    "#findout which character is a vowel and which is not a vowel\n",
    "s = \"ineuron\"\n",
    "v = \"AaEeIiOoUu\"\n",
    "\n",
    "for i in s:\n",
    "    if i in v:\n",
    "        print(\"vowel\",i)\n",
    "    else:\n",
    "        print(\"not vowel\",i)"
   ]
  },
  {
   "cell_type": "code",
   "execution_count": 9,
   "id": "21af6c01",
   "metadata": {},
   "outputs": [
    {
     "name": "stdout",
     "output_type": "stream",
     "text": [
      "Vowel A\n",
      "Not Vowel s\n",
      "Not Vowel h\n",
      "Vowel i\n",
      "Not Vowel s\n",
      "Not Vowel h\n",
      "Not Vowel R\n",
      "Vowel o\n",
      "Not Vowel y\n"
     ]
    }
   ],
   "source": [
    "s = 'AshishRoy'\n",
    "v = 'AaEeIiOoUu'\n",
    "for i in s:\n",
    "    if i in v:\n",
    "        print('Vowel',i)\n",
    "    else:\n",
    "        print('Not Vowel',i)"
   ]
  },
  {
   "cell_type": "code",
   "execution_count": 10,
   "id": "a4dc1a1f",
   "metadata": {},
   "outputs": [
    {
     "data": {
      "text/plain": [
       "True"
      ]
     },
     "execution_count": 10,
     "metadata": {},
     "output_type": "execute_result"
    }
   ],
   "source": [
    "'s' in 'Ashish'"
   ]
  },
  {
   "cell_type": "code",
   "execution_count": 11,
   "id": "b1e023bd",
   "metadata": {},
   "outputs": [
    {
     "data": {
      "text/plain": [
       "False"
      ]
     },
     "execution_count": 11,
     "metadata": {},
     "output_type": "execute_result"
    }
   ],
   "source": [
    "s in 'Ashish'"
   ]
  },
  {
   "cell_type": "code",
   "execution_count": 12,
   "id": "244fd349",
   "metadata": {},
   "outputs": [
    {
     "data": {
      "text/plain": [
       "'AshishRoy'"
      ]
     },
     "execution_count": 12,
     "metadata": {},
     "output_type": "execute_result"
    }
   ],
   "source": [
    "s"
   ]
  },
  {
   "cell_type": "code",
   "execution_count": 13,
   "id": "aea86247",
   "metadata": {},
   "outputs": [
    {
     "data": {
      "text/plain": [
       "'eye'"
      ]
     },
     "execution_count": 13,
     "metadata": {},
     "output_type": "execute_result"
    }
   ],
   "source": [
    "# Write a code to check if the string is palindrome or not\n",
    "'tenet'\n",
    "'malayalam'\n",
    "'eye'"
   ]
  },
  {
   "cell_type": "code",
   "execution_count": 14,
   "id": "fe90b6cd",
   "metadata": {},
   "outputs": [
    {
     "name": "stdout",
     "output_type": "stream",
     "text": [
      "asdafd\n",
      "Not a Palindrome asdafd\n"
     ]
    }
   ],
   "source": [
    "s = input()\n",
    "v = s[::-1]\n",
    "if s == v:\n",
    "    print(\"palindrome\",s)\n",
    "else:\n",
    "    print(\"Not a Palindrome\",s)"
   ]
  },
  {
   "cell_type": "code",
   "execution_count": 15,
   "id": "c9294a9f",
   "metadata": {},
   "outputs": [
    {
     "name": "stdout",
     "output_type": "stream",
     "text": [
      "palindrome\n"
     ]
    }
   ],
   "source": [
    "s = 'koot'\n",
    "s1 = 'malayalam'\n",
    "if s1 == s1[::-1]:\n",
    "    print('palindrome')\n",
    "else:\n",
    "    print('Not a palindrome')"
   ]
  },
  {
   "cell_type": "code",
   "execution_count": 16,
   "id": "92b2f72b",
   "metadata": {},
   "outputs": [],
   "source": [
    "# word = 'eyeeee'\n",
    "# for i in range(len(word)):\n",
    "#     if word[i] == word[len(word)-1-i]:\n",
    "#         print(word, \"is a palendrome\")\n",
    "#         break\n",
    "#     else:\n",
    "#         print(word,\" - Not a palindrome\")"
   ]
  },
  {
   "cell_type": "code",
   "execution_count": 17,
   "id": "e39f9d75",
   "metadata": {},
   "outputs": [
    {
     "name": "stdout",
     "output_type": "stream",
     "text": [
      "palindrome\n"
     ]
    }
   ],
   "source": [
    "#THIS IS A GOOD CODE\n",
    "word = 'eye'\n",
    "\n",
    "for i in range(len(word)):\n",
    "    if word[i] != word[len(word)-i-1]:\n",
    "        print('Not Palindrome')\n",
    "        break\n",
    "else:\n",
    "    print(\"palindrome\")"
   ]
  },
  {
   "cell_type": "code",
   "execution_count": 18,
   "id": "6d5c946e",
   "metadata": {},
   "outputs": [
    {
     "name": "stdout",
     "output_type": "stream",
     "text": [
      "asfasf\n",
      "Not a Palindrome\n"
     ]
    }
   ],
   "source": [
    "#This is anohter method\n",
    "s = input()\n",
    "f = \"\"\n",
    "i = len(s)-1\n",
    "\n",
    "while (i>=0):\n",
    "    f = f + s[i]\n",
    "    i = i -1\n",
    "if (s==f):\n",
    "    print('plaindrome')\n",
    "else:\n",
    "    print('Not a Palindrome')"
   ]
  },
  {
   "cell_type": "code",
   "execution_count": 19,
   "id": "8ac4daec",
   "metadata": {},
   "outputs": [
    {
     "name": "stdout",
     "output_type": "stream",
     "text": [
      "yes\n"
     ]
    }
   ],
   "source": [
    "x = 'ashsa'\n",
    "\n",
    "w = ''\n",
    "\n",
    "for i in x:\n",
    "    w = i + w\n",
    "    \n",
    "if (x == w):\n",
    "    print(\"yes\")\n",
    "else:\n",
    "    print(\"No\")"
   ]
  },
  {
   "cell_type": "code",
   "execution_count": 20,
   "id": "f12e9645",
   "metadata": {},
   "outputs": [
    {
     "name": "stdout",
     "output_type": "stream",
     "text": [
      "Non Palindrome\n"
     ]
    }
   ],
   "source": [
    "l = len(s)\n",
    "k = 0\n",
    "for i in range(l):\n",
    "    if s[i] == s[l-i-1]:\n",
    "        continue\n",
    "    else:\n",
    "        print('Non Palindrome')\n",
    "        k=1\n",
    "        break\n",
    "if k==0:\n",
    "    print('Palindrome')"
   ]
  },
  {
   "cell_type": "code",
   "execution_count": 21,
   "id": "03792eef",
   "metadata": {},
   "outputs": [
    {
     "data": {
      "text/plain": [
       "'asfasf'"
      ]
     },
     "execution_count": 21,
     "metadata": {},
     "output_type": "execute_result"
    }
   ],
   "source": [
    "s"
   ]
  },
  {
   "cell_type": "code",
   "execution_count": 22,
   "id": "43cda8d0",
   "metadata": {},
   "outputs": [],
   "source": [
    "# CODE IS CASE SENSITIVE"
   ]
  },
  {
   "cell_type": "code",
   "execution_count": 23,
   "id": "3a698c0a",
   "metadata": {},
   "outputs": [],
   "source": [
    "d = {'INDIA': \"IN\",\n",
    "    \"CANADA\" : \"CA\",\n",
    "    \"CHINA\" : \"CH\",\n",
    "    \"UNITED STATE\" : \"US\"\n",
    "    }"
   ]
  },
  {
   "cell_type": "code",
   "execution_count": 24,
   "id": "a02f7b1e",
   "metadata": {},
   "outputs": [
    {
     "data": {
      "text/plain": [
       "True"
      ]
     },
     "execution_count": 24,
     "metadata": {},
     "output_type": "execute_result"
    }
   ],
   "source": [
    "\"INDIA\" in d"
   ]
  },
  {
   "cell_type": "code",
   "execution_count": 25,
   "id": "a352de24",
   "metadata": {},
   "outputs": [
    {
     "data": {
      "text/plain": [
       "dict_items([('INDIA', 'IN'), ('CANADA', 'CA'), ('CHINA', 'CH'), ('UNITED STATE', 'US')])"
      ]
     },
     "execution_count": 25,
     "metadata": {},
     "output_type": "execute_result"
    }
   ],
   "source": [
    "d.items()"
   ]
  },
  {
   "cell_type": "code",
   "execution_count": 26,
   "id": "85940188",
   "metadata": {},
   "outputs": [],
   "source": [
    "l_greater = []\n",
    "l_smaller = []\n",
    "for i in d:\n",
    "    if len(i) <= 5 :\n",
    "        l_smaller.append(i)\n",
    "    else:\n",
    "        l_greater.append(i)"
   ]
  },
  {
   "cell_type": "code",
   "execution_count": 27,
   "id": "3012fc6a",
   "metadata": {},
   "outputs": [
    {
     "data": {
      "text/plain": [
       "['INDIA', 'CHINA']"
      ]
     },
     "execution_count": 27,
     "metadata": {},
     "output_type": "execute_result"
    }
   ],
   "source": [
    "l_smaller"
   ]
  },
  {
   "cell_type": "code",
   "execution_count": 28,
   "id": "292dbf0c",
   "metadata": {},
   "outputs": [
    {
     "data": {
      "text/plain": [
       "['CANADA', 'UNITED STATE']"
      ]
     },
     "execution_count": 28,
     "metadata": {},
     "output_type": "execute_result"
    }
   ],
   "source": [
    "l_greater"
   ]
  },
  {
   "cell_type": "code",
   "execution_count": 36,
   "id": "7ddd4360",
   "metadata": {},
   "outputs": [],
   "source": [
    "d_1 = {\"ineuron\":{\n",
    "                        \"a\" : 14,\n",
    "                        \"b\" : 10,\n",
    "                        \"c\" : 4\n",
    "                    },\n",
    "    'Course' :   {\n",
    "                    \"d\" : 45,\n",
    "                    \"e\" : 34,\n",
    "                    \"f\" : 1\n",
    "                   }\n",
    "    \n",
    "        }"
   ]
  },
  {
   "cell_type": "code",
   "execution_count": 46,
   "id": "3a84bf19",
   "metadata": {},
   "outputs": [
    {
     "name": "stdout",
     "output_type": "stream",
     "text": [
      "14\n",
      "45\n"
     ]
    }
   ],
   "source": [
    "lst  = []\n",
    "for i in d_1.values():\n",
    "    for j in i.values():\n",
    "        lst.append(j)\n",
    "    print(max(lst))"
   ]
  },
  {
   "cell_type": "code",
   "execution_count": 47,
   "id": "029d6a7c",
   "metadata": {},
   "outputs": [
    {
     "name": "stdout",
     "output_type": "stream",
     "text": [
      "14\n",
      "14\n",
      "14\n",
      "45\n",
      "45\n",
      "45\n"
     ]
    }
   ],
   "source": [
    "for i in d_1.values():\n",
    "    \n",
    "    mx = 0\n",
    "    for j in i.values():\n",
    "        if mx < j:\n",
    "            mx = j\n",
    "        print(mx)"
   ]
  },
  {
   "cell_type": "code",
   "execution_count": 48,
   "id": "ed732da0",
   "metadata": {},
   "outputs": [
    {
     "name": "stdout",
     "output_type": "stream",
     "text": [
      "14\n",
      "45\n"
     ]
    }
   ],
   "source": [
    "for i in d_1.values():\n",
    "    print(max(i.values()))"
   ]
  },
  {
   "cell_type": "code",
   "execution_count": 51,
   "id": "3cda16d8",
   "metadata": {},
   "outputs": [
    {
     "name": "stdout",
     "output_type": "stream",
     "text": [
      "ineuron\n",
      "14\n",
      "Course\n",
      "45\n"
     ]
    }
   ],
   "source": [
    "for i in d_1.keys():\n",
    "    print(i)\n",
    "    print(max(d_1[i].values()))"
   ]
  },
  {
   "cell_type": "code",
   "execution_count": 81,
   "id": "7bfb9824",
   "metadata": {},
   "outputs": [],
   "source": [
    "d_1 = {\"ineuron\":{\"a\" : 14,\"b\" : 10,\"c\" : 4},'Course' :  {\"d\" : 45,\"e\" : 34,\"f\" : 1},\"g\" : 34, \"h\" : [45,5,6,7,8,9,23],'i':(34,56,67,8,2,2),\"k\":'sudh'}"
   ]
  },
  {
   "cell_type": "code",
   "execution_count": 78,
   "id": "e09ea493",
   "metadata": {},
   "outputs": [
    {
     "name": "stdout",
     "output_type": "stream",
     "text": [
      "67\n"
     ]
    }
   ],
   "source": [
    "#although this is right but its not generic\n",
    "l1 = []\n",
    "for i in d_1.values():\n",
    "    if type(i) == dict:\n",
    "        l1.append(max(i.values()))\n",
    "    elif type(i) == list:\n",
    "        l1.append(max(i))\n",
    "    elif type(i) == tuple:\n",
    "        l1.append(max(i))\n",
    "    elif type(i) == str:\n",
    "        pass\n",
    "    else:\n",
    "        l1.append(i)\n",
    "print(max(l1))"
   ]
  },
  {
   "cell_type": "code",
   "execution_count": 85,
   "id": "e8727f81",
   "metadata": {},
   "outputs": [
    {
     "data": {
      "text/plain": [
       "67"
      ]
     },
     "execution_count": 85,
     "metadata": {},
     "output_type": "execute_result"
    }
   ],
   "source": [
    "l = []\n",
    "for i in d_1.values():\n",
    "    if type(i) != str and type(i) != complex:\n",
    "        if type(i) == list or type(i) == tuple or type(i) == set:\n",
    "            l.extend(list(i))\n",
    "        elif type(i) == dict:\n",
    "            for j in i.values():\n",
    "                l.append(j)\n",
    "max(l)"
   ]
  }
 ],
 "metadata": {
  "kernelspec": {
   "display_name": "Python 3",
   "language": "python",
   "name": "python3"
  },
  "language_info": {
   "codemirror_mode": {
    "name": "ipython",
    "version": 3
   },
   "file_extension": ".py",
   "mimetype": "text/x-python",
   "name": "python",
   "nbconvert_exporter": "python",
   "pygments_lexer": "ipython3",
   "version": "3.8.8"
  }
 },
 "nbformat": 4,
 "nbformat_minor": 5
}
