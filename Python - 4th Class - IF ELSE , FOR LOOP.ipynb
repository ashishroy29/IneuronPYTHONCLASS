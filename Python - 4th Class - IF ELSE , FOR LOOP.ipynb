{
 "cells": [
  {
   "cell_type": "markdown",
   "id": "c7a05dda",
   "metadata": {},
   "source": [
    "# if Else statement, While Statements, for loop"
   ]
  },
  {
   "cell_type": "markdown",
   "id": "24ecba9c",
   "metadata": {},
   "source": [
    "#### it is also called as control Flow statement"
   ]
  },
  {
   "cell_type": "code",
   "execution_count": 1,
   "id": "1dd113bf",
   "metadata": {},
   "outputs": [],
   "source": [
    "a = 10"
   ]
  },
  {
   "cell_type": "code",
   "execution_count": 2,
   "id": "b5882220",
   "metadata": {},
   "outputs": [
    {
     "name": "stdout",
     "output_type": "stream",
     "text": [
      "My Name is Ashish\n"
     ]
    }
   ],
   "source": [
    "if a < 15:\n",
    "    print('My Name is Ashish')\n",
    "else:\n",
    "    print('My Name is Not Ashish')"
   ]
  },
  {
   "cell_type": "code",
   "execution_count": 3,
   "id": "2fccde2e",
   "metadata": {},
   "outputs": [
    {
     "data": {
      "text/plain": [
       "True"
      ]
     },
     "execution_count": 3,
     "metadata": {},
     "output_type": "execute_result"
    }
   ],
   "source": [
    "a < 15"
   ]
  },
  {
   "cell_type": "code",
   "execution_count": 4,
   "id": "97a54d44",
   "metadata": {},
   "outputs": [],
   "source": [
    "if a < 15: # pass statement\n",
    "    pass"
   ]
  },
  {
   "cell_type": "code",
   "execution_count": 5,
   "id": "25ef22f6",
   "metadata": {},
   "outputs": [
    {
     "name": "stdout",
     "output_type": "stream",
     "text": [
      "My name is Ashi\n"
     ]
    }
   ],
   "source": [
    "if a < 15 :\n",
    "    print('My name is Ashi')"
   ]
  },
  {
   "cell_type": "code",
   "execution_count": 6,
   "id": "f86d36af",
   "metadata": {},
   "outputs": [],
   "source": [
    "if 24 < 15 :\n",
    "    print('My name is Ashi')"
   ]
  },
  {
   "cell_type": "code",
   "execution_count": 7,
   "id": "33546156",
   "metadata": {},
   "outputs": [
    {
     "data": {
      "text/plain": [
       "False"
      ]
     },
     "execution_count": 7,
     "metadata": {},
     "output_type": "execute_result"
    }
   ],
   "source": [
    "24 < 15"
   ]
  },
  {
   "cell_type": "code",
   "execution_count": 8,
   "id": "c93df003",
   "metadata": {},
   "outputs": [
    {
     "name": "stdout",
     "output_type": "stream",
     "text": [
      "if Statement is wrong\n"
     ]
    }
   ],
   "source": [
    "if 10 < 3 :\n",
    "    print(\"10 is Lesser than 3\")\n",
    "else :\n",
    "    print('if Statement is wrong')"
   ]
  },
  {
   "cell_type": "code",
   "execution_count": 9,
   "id": "e7e782d8",
   "metadata": {},
   "outputs": [
    {
     "name": "stdout",
     "output_type": "stream",
     "text": [
      "5 is Lesser than 10\n"
     ]
    }
   ],
   "source": [
    "if 5 < 10 :\n",
    "    print(\"5 is Lesser than 10\") #this is an indentation of if statement\n",
    "else :\n",
    "    print('if Statement is wrong') #this is an indentation of Else statement"
   ]
  },
  {
   "cell_type": "code",
   "execution_count": 13,
   "id": "52d09898",
   "metadata": {},
   "outputs": [
    {
     "name": "stdout",
     "output_type": "stream",
     "text": [
      "i wont be able to buy anything\n"
     ]
    }
   ],
   "source": [
    "#Multiple Statements, Multiple blocks, Multiple parameters, Multiple conditional Statements\n",
    "## writing a code based in income and purchasing capability\n",
    "income = 100\n",
    "if income < 50 :\n",
    "    print('I will be able to buy phone')\n",
    "elif income < 70 :\n",
    "    print('I will be able to buy a car')\n",
    "elif income < 90 :\n",
    "    print('I will be able to rent a house')\n",
    "else:\n",
    "    print('i wont be able to buy anything')"
   ]
  },
  {
   "cell_type": "code",
   "execution_count": 17,
   "id": "ce3b66cc",
   "metadata": {},
   "outputs": [
    {
     "name": "stdout",
     "output_type": "stream",
     "text": [
      "10\n",
      "I will be able to buy phone\n"
     ]
    }
   ],
   "source": [
    "income = int(input()) #if else statement using input function\n",
    "if income < 50 :\n",
    "    print('I will be able to buy phone')\n",
    "elif income < 70 :\n",
    "    print('I will be able to buy a car')\n",
    "elif income < 90 :\n",
    "    print('I will be able to rent a house')\n",
    "else:\n",
    "    print('i wont be able to buy anything')"
   ]
  },
  {
   "cell_type": "markdown",
   "id": "f8a402d3",
   "metadata": {},
   "source": [
    "### Elif, if and Nested Elif"
   ]
  },
  {
   "cell_type": "code",
   "execution_count": 20,
   "id": "0caba8b2",
   "metadata": {},
   "outputs": [
    {
     "name": "stdout",
     "output_type": "stream",
     "text": [
      "50000\n",
      "Discount will be  10000.0\n"
     ]
    }
   ],
   "source": [
    "Total_price = int(input())\n",
    "if Total_price > 20000 :\n",
    "    Discount = Total_price * .20\n",
    "    print('Discount will be ',Discount)\n",
    "elif Total_price <= 7000 :\n",
    "    Discount = Total_price * .05\n",
    "else:\n",
    "    print('We wont be able to give any Discount')"
   ]
  },
  {
   "cell_type": "code",
   "execution_count": 24,
   "id": "eee5fb2f",
   "metadata": {},
   "outputs": [
    {
     "name": "stdout",
     "output_type": "stream",
     "text": [
      "4565\n",
      "Discount will be  228.25\n"
     ]
    }
   ],
   "source": [
    "Total_price = int(input()) #this is used to for discount calculations\n",
    "if Total_price > 20000 :\n",
    "    Discount = Total_price * .20\n",
    "    print('Discount will be ',Discount)\n",
    "elif Total_price <= 7000 :\n",
    "    Discount = Total_price * .05\n",
    "    print('Discount will be ',Discount )\n",
    "else:\n",
    "    print('We wont be able to give any Discount')"
   ]
  },
  {
   "cell_type": "code",
   "execution_count": 27,
   "id": "78b02953",
   "metadata": {},
   "outputs": [
    {
     "name": "stdout",
     "output_type": "stream",
     "text": [
      "You will be able to get a discount of 5 %\n",
      "you will be able to get one neuron with this amount 6726.0\n"
     ]
    }
   ],
   "source": [
    "coup = 'SUDANSHU5'\n",
    "if coup == 'SUDANSHU5' :\n",
    "    print('You will be able to get a discount of 5 %')\n",
    "    paid_amount = 7080 - 7080*.05\n",
    "    print('you will be able to get one neuron with this amount', paid_amount)\n",
    "else :\n",
    "    print(\"Kindly use a valid coupon code\")"
   ]
  },
  {
   "cell_type": "code",
   "execution_count": 28,
   "id": "d7fcab28",
   "metadata": {},
   "outputs": [
    {
     "name": "stdout",
     "output_type": "stream",
     "text": [
      "asjdas\n",
      "Kindly use a valid coupon code\n"
     ]
    }
   ],
   "source": [
    "coup = input()\n",
    "if coup == 'SUDANSHU5' :\n",
    "    print('You will be able to get a discount of 5 %')\n",
    "    paid_amount = 7080 - 7080*.05\n",
    "    print('you will be able to get one neuron with this amount', paid_amount)\n",
    "else :\n",
    "    print(\"Kindly use a valid coupon code\")"
   ]
  },
  {
   "cell_type": "code",
   "execution_count": 29,
   "id": "13f3947a",
   "metadata": {},
   "outputs": [
    {
     "name": "stdout",
     "output_type": "stream",
     "text": [
      "SUDANSHU5\n",
      "You will be able to get a discount of 5 %\n",
      "you will be able to get one neuron with this amount 6726.0\n"
     ]
    }
   ],
   "source": [
    "coup = input()\n",
    "if coup == 'SUDANSHU5' :\n",
    "    print('You will be able to get a discount of 5 %')\n",
    "    paid_amount = 7080 - 7080*.05\n",
    "    print('you will be able to get one neuron with this amount', paid_amount)\n",
    "else :\n",
    "    print(\"Kindly use a valid coupon code\")"
   ]
  },
  {
   "cell_type": "code",
   "execution_count": 31,
   "id": "35e82e61",
   "metadata": {},
   "outputs": [
    {
     "name": "stdout",
     "output_type": "stream",
     "text": [
      "2\n",
      "It may take 6 month for transition\n"
     ]
    }
   ],
   "source": [
    "study_hour = int(input()) #elif statement for study hour\n",
    "if study_hour < 1 :\n",
    "    print('It may take 8 - 9 month of time to make a transition')\n",
    "elif study_hour < 4 and study_hour > 1:\n",
    "    print('It may take 6 month for transition')\n",
    "elif study_hour > 10 :\n",
    "    print('It will take 3 months of time for transition')\n",
    "else :\n",
    "    print('It will be Difficult')"
   ]
  },
  {
   "cell_type": "code",
   "execution_count": 1,
   "id": "693e640c",
   "metadata": {},
   "outputs": [
    {
     "name": "stdout",
     "output_type": "stream",
     "text": [
      "Valid\n"
     ]
    }
   ],
   "source": [
    "a = 9\n",
    "if a == 9 :\n",
    "    print('Valid')"
   ]
  },
  {
   "cell_type": "code",
   "execution_count": 3,
   "id": "55f742b8",
   "metadata": {},
   "outputs": [
    {
     "name": "stdout",
     "output_type": "stream",
     "text": [
      "Valid\n"
     ]
    }
   ],
   "source": [
    "a = 9\n",
    "if a == 9 : print('Valid') #you can perform this too but its not adviceable"
   ]
  },
  {
   "cell_type": "markdown",
   "id": "44ff4d8e",
   "metadata": {},
   "source": [
    "# NESTED IF ELSE, ELIF STATEMENT"
   ]
  },
  {
   "cell_type": "code",
   "execution_count": 7,
   "id": "caf63506",
   "metadata": {},
   "outputs": [
    {
     "name": "stdout",
     "output_type": "stream",
     "text": [
      "Enter a String to start : oneneron\n",
      "Enter a Course Name : dsada\n",
      "Enter a Service name : asdas\n",
      "Kindly connect with our team\n"
     ]
    }
   ],
   "source": [
    "s = input(\"Enter a String to start : \")\n",
    "course = input(\"Enter a Course Name : \")\n",
    "service = input(\"Enter a Service name : \")\n",
    "if s == \"oneneuron\" :\n",
    "    if course == 'DSA' :\n",
    "        print(\"Yes its available under one neuron and in multiple mode for job prepration and core concept\")\n",
    "    elif course == 'Blockchain':\n",
    "        print(\"This is not available as of now, kindly raise your demand and we will fullfil in 60 Days\")\n",
    "    elif course == \"FSDS\" :\n",
    "        print(\"Yes its available, you can start Learning\")\n",
    "    else:\n",
    "        print(\"This course is not available Kindly raise your demand\")\n",
    "elif s == \"oneneuronservice\":\n",
    "    if service == 'courserequest':\n",
    "        print(\"*NOTE: Dear Learner, you can raise demand related to any new course, and we will fulfil your need in the next 60 days.\")\n",
    "    elif service == 'Module':\n",
    "        print(\"*NOTE: Dear Learner, you can raise demand related to any new course module, and we will fulfil your need in the next 30 days\")\n",
    "    elif service == 'doubt':\n",
    "        print(\"*NOTE: Dear Learner, you can raise demand related to any doubt clearing, and we will fulfil your need in the next 24 hours.\")\n",
    "    elif service == \"work with us\":\n",
    "        print(\"*NOTE: Dear Learner, you can raise the demand to work with our team; our HR will evaluate and get back to you in 24 hours\")\n",
    "    else:\n",
    "        print(\"Kindly provide us your feedback and we will fulfill\")\n",
    "else :\n",
    "    print(\"Kindly connect with our team\")"
   ]
  },
  {
   "cell_type": "code",
   "execution_count": 8,
   "id": "3282ebb2",
   "metadata": {},
   "outputs": [
    {
     "name": "stdout",
     "output_type": "stream",
     "text": [
      "Enter a String to start : oneneuron\n",
      "Enter a Course Name : asa\n",
      "Enter a Service name : asas\n",
      "This course is not available Kindly raise your demand\n"
     ]
    }
   ],
   "source": [
    "s = input(\"Enter a String to start : \")\n",
    "course = input(\"Enter a Course Name : \")\n",
    "service = input(\"Enter a Service name : \")\n",
    "if s == \"oneneuron\" :\n",
    "    if course == 'DSA' :\n",
    "        print(\"Yes its available under one neuron and in multiple mode for job prepration and core concept\")\n",
    "    elif course == 'Blockchain':\n",
    "        print(\"This is not available as of now, kindly raise your demand and we will fullfil in 60 Days\")\n",
    "    elif course == \"FSDS\" :\n",
    "        print(\"Yes its available, you can start Learning\")\n",
    "    else:\n",
    "        print(\"This course is not available Kindly raise your demand\")\n",
    "elif s == \"oneneuronservice\":\n",
    "    if service == 'courserequest':\n",
    "        print(\"*NOTE: Dear Learner, you can raise demand related to any new course, and we will fulfil your need in the next 60 days.\")\n",
    "    elif service == 'Module':\n",
    "        print(\"*NOTE: Dear Learner, you can raise demand related to any new course module, and we will fulfil your need in the next 30 days\")\n",
    "    elif service == 'doubt':\n",
    "        print(\"*NOTE: Dear Learner, you can raise demand related to any doubt clearing, and we will fulfil your need in the next 24 hours.\")\n",
    "    elif service == \"work with us\":\n",
    "        print(\"*NOTE: Dear Learner, you can raise the demand to work with our team; our HR will evaluate and get back to you in 24 hours\")\n",
    "    else:\n",
    "        print(\"Kindly provide us your feedback and we will fulfill\")\n",
    "else :\n",
    "    print(\"Kindly connect with our team\")"
   ]
  },
  {
   "cell_type": "code",
   "execution_count": 9,
   "id": "15d36787",
   "metadata": {},
   "outputs": [],
   "source": [
    "a = 10"
   ]
  },
  {
   "cell_type": "code",
   "execution_count": 10,
   "id": "c310f215",
   "metadata": {},
   "outputs": [
    {
     "data": {
      "text/plain": [
       "True"
      ]
     },
     "execution_count": 10,
     "metadata": {},
     "output_type": "execute_result"
    }
   ],
   "source": [
    "a == 10"
   ]
  },
  {
   "cell_type": "markdown",
   "id": "049a0344",
   "metadata": {},
   "source": [
    "# WHILE LOOP, FOR LOOP, NESTED WHILE LOOP, BREAK STATEMENT, CONTINUE STATEMENT"
   ]
  },
  {
   "cell_type": "markdown",
   "id": "43d77c02",
   "metadata": {},
   "source": [
    "# For LOOP"
   ]
  },
  {
   "cell_type": "code",
   "execution_count": 1,
   "id": "9b803625",
   "metadata": {},
   "outputs": [],
   "source": [
    "l = [1,2,3,4,5,6,7,8,9,0]"
   ]
  },
  {
   "cell_type": "code",
   "execution_count": 2,
   "id": "0da325bd",
   "metadata": {},
   "outputs": [
    {
     "name": "stdout",
     "output_type": "stream",
     "text": [
      "1\n",
      "2\n",
      "3\n",
      "4\n",
      "5\n",
      "6\n",
      "7\n",
      "8\n",
      "9\n",
      "0\n"
     ]
    }
   ],
   "source": [
    "for i in l:\n",
    "    print(i)\n",
    "# what is i? - By default it goes to list 0, i is behaving like a local variable for a \"for loop\""
   ]
  },
  {
   "cell_type": "code",
   "execution_count": 4,
   "id": "e3167be1",
   "metadata": {},
   "outputs": [
    {
     "name": "stdout",
     "output_type": "stream",
     "text": [
      "3\n",
      "4\n",
      "5\n",
      "6\n",
      "7\n",
      "8\n",
      "9\n",
      "10\n",
      "11\n",
      "2\n"
     ]
    }
   ],
   "source": [
    "for i in l:\n",
    "    print(i+2)"
   ]
  },
  {
   "cell_type": "code",
   "execution_count": 5,
   "id": "ea35b4ae",
   "metadata": {},
   "outputs": [],
   "source": [
    "s = 'Sudh'"
   ]
  },
  {
   "cell_type": "code",
   "execution_count": 8,
   "id": "72445096",
   "metadata": {},
   "outputs": [
    {
     "name": "stdout",
     "output_type": "stream",
     "text": [
      "S\n",
      "u\n",
      "d\n",
      "h\n"
     ]
    }
   ],
   "source": [
    "for i in s :\n",
    "    print(i) #Same thing for string , it is an indvidual outcome we are able to get"
   ]
  },
  {
   "cell_type": "code",
   "execution_count": 11,
   "id": "934f50a6",
   "metadata": {},
   "outputs": [],
   "source": [
    "t = (1,2,3,4,5,6,7) #Same thing with string"
   ]
  },
  {
   "cell_type": "code",
   "execution_count": 10,
   "id": "9bc3f109",
   "metadata": {},
   "outputs": [
    {
     "name": "stdout",
     "output_type": "stream",
     "text": [
      "1\n",
      "2\n",
      "3\n",
      "4\n",
      "5\n",
      "6\n",
      "7\n"
     ]
    }
   ],
   "source": [
    "for i in t:\n",
    "    print(i)"
   ]
  },
  {
   "cell_type": "code",
   "execution_count": 18,
   "id": "d343caf7",
   "metadata": {},
   "outputs": [],
   "source": [
    "l = [1,4,5.6,5+6j,\"sudh\"]"
   ]
  },
  {
   "cell_type": "code",
   "execution_count": 22,
   "id": "66a5f010",
   "metadata": {},
   "outputs": [
    {
     "name": "stdout",
     "output_type": "stream",
     "text": [
      "<class 'int'> Type of  1\n",
      "<class 'int'> Type of  4\n",
      "<class 'float'> Type of  5.6\n",
      "<class 'complex'> Type of  (5+6j)\n",
      "<class 'str'> Type of  sudh\n"
     ]
    }
   ],
   "source": [
    "for i in l : #take care of indentation\n",
    "    print(type(i), \"Type of \", i) #for looping the Type of data"
   ]
  },
  {
   "cell_type": "code",
   "execution_count": 33,
   "id": "bdda5af6",
   "metadata": {},
   "outputs": [],
   "source": [
    "l = [1,4,5.6]\n",
    "l1 = []"
   ]
  },
  {
   "cell_type": "code",
   "execution_count": 34,
   "id": "69352421",
   "metadata": {},
   "outputs": [
    {
     "name": "stdout",
     "output_type": "stream",
     "text": [
      "3\n",
      "6\n",
      "7.6\n"
     ]
    }
   ],
   "source": [
    "for i in l :\n",
    "    print(i+2)"
   ]
  },
  {
   "cell_type": "code",
   "execution_count": 35,
   "id": "2bbc5114",
   "metadata": {},
   "outputs": [
    {
     "name": "stdout",
     "output_type": "stream",
     "text": [
      "3\n",
      "6\n",
      "7.6\n"
     ]
    }
   ],
   "source": [
    "#Try to perform addition function and try to return me a list itself\n",
    "for i in l :\n",
    "    print(i+2)\n",
    "    l1.append(i+2)"
   ]
  },
  {
   "cell_type": "code",
   "execution_count": 36,
   "id": "09091ffc",
   "metadata": {},
   "outputs": [
    {
     "data": {
      "text/plain": [
       "[3, 6, 7.6]"
      ]
     },
     "execution_count": 36,
     "metadata": {},
     "output_type": "execute_result"
    }
   ],
   "source": [
    "l1"
   ]
  },
  {
   "cell_type": "code",
   "execution_count": 56,
   "id": "e5432e80",
   "metadata": {},
   "outputs": [],
   "source": [
    "l = [2,46,45,12,12,12,12,\"ashi\", 6+7j,[56,56,78,'Ashi']]"
   ]
  },
  {
   "cell_type": "code",
   "execution_count": 38,
   "id": "769f4831",
   "metadata": {},
   "outputs": [
    {
     "name": "stdout",
     "output_type": "stream",
     "text": [
      "2\n",
      "46\n",
      "45\n",
      "12\n"
     ]
    }
   ],
   "source": [
    "for i in l :\n",
    "    if type(i) == int :\n",
    "        print(i)"
   ]
  },
  {
   "cell_type": "code",
   "execution_count": 39,
   "id": "f10d690e",
   "metadata": {},
   "outputs": [
    {
     "name": "stdout",
     "output_type": "stream",
     "text": [
      "ashi\n"
     ]
    }
   ],
   "source": [
    "for i in l :\n",
    "    if type(i) == str :\n",
    "        print(i)"
   ]
  },
  {
   "cell_type": "code",
   "execution_count": 40,
   "id": "8ae94287",
   "metadata": {},
   "outputs": [
    {
     "name": "stdout",
     "output_type": "stream",
     "text": [
      "(6+7j)\n"
     ]
    }
   ],
   "source": [
    "for i in l :\n",
    "    if type(i) == complex :\n",
    "        print(i)"
   ]
  },
  {
   "cell_type": "code",
   "execution_count": 41,
   "id": "d31b5886",
   "metadata": {},
   "outputs": [
    {
     "name": "stdout",
     "output_type": "stream",
     "text": [
      "[56, 56, 78]\n"
     ]
    }
   ],
   "source": [
    "for i in l :\n",
    "    if type(i) == list :\n",
    "        print(i)"
   ]
  },
  {
   "cell_type": "code",
   "execution_count": 42,
   "id": "51e98bf4",
   "metadata": {},
   "outputs": [
    {
     "name": "stdout",
     "output_type": "stream",
     "text": [
      "2\n",
      "46\n",
      "45\n",
      "12\n",
      "56\n",
      "56\n",
      "78\n"
     ]
    }
   ],
   "source": [
    "for i in l : #Nested if statement\n",
    "    if type(i) == int :\n",
    "        print(i)\n",
    "    elif type(i) == list :\n",
    "        for j in i :\n",
    "            print(j)"
   ]
  },
  {
   "cell_type": "code",
   "execution_count": 44,
   "id": "997be5cb",
   "metadata": {},
   "outputs": [
    {
     "name": "stdout",
     "output_type": "stream",
     "text": [
      "2\n",
      "46\n",
      "45\n",
      "12\n",
      "56\n",
      "56\n",
      "78\n"
     ]
    }
   ],
   "source": [
    "for i in l : #Nested if statement\n",
    "    if type(i) == int :\n",
    "        print(i)\n",
    "    elif type(i) == list :\n",
    "        for j in i :\n",
    "            if type(j) == int :\n",
    "                print(j)"
   ]
  },
  {
   "cell_type": "markdown",
   "id": "c9f29e86",
   "metadata": {},
   "source": [
    "#Q1. Try to print index of all the element\n",
    "\n",
    "#Q2. Try to extract all the list of char if element is string\n",
    "\n",
    "#Q3. Try to return a list after doing a square of all the int element"
   ]
  },
  {
   "cell_type": "code",
   "execution_count": 59,
   "id": "337c2849",
   "metadata": {},
   "outputs": [
    {
     "data": {
      "text/plain": [
       "range(0, 4)"
      ]
     },
     "execution_count": 59,
     "metadata": {},
     "output_type": "execute_result"
    }
   ],
   "source": [
    "# Range - \n",
    "range(4)"
   ]
  },
  {
   "cell_type": "code",
   "execution_count": 62,
   "id": "268d7b56",
   "metadata": {},
   "outputs": [
    {
     "name": "stdout",
     "output_type": "stream",
     "text": [
      "index 0 For an Element 2\n",
      "index 1 For an Element 46\n",
      "index 2 For an Element 45\n",
      "index 3 For an Element 12\n",
      "index 4 For an Element 12\n",
      "index 5 For an Element 12\n",
      "index 6 For an Element 12\n",
      "index 7 For an Element ashi\n",
      "index 8 For an Element (6+7j)\n",
      "index 9 For an Element [56, 56, 78, 'Ashi']\n"
     ]
    }
   ],
   "source": [
    "#Q1 - This is to find the index of element\n",
    "for i in range(len(l)) :\n",
    "    print(\"index\" , i , \"For an Element\" , l[i]) #l of i refers to the elements"
   ]
  },
  {
   "cell_type": "code",
   "execution_count": 63,
   "id": "64d34370",
   "metadata": {},
   "outputs": [
    {
     "data": {
      "text/plain": [
       "[2, 46, 45, 12, 12, 12, 12, 'ashi', (6+7j), [56, 56, 78, 'Ashi']]"
      ]
     },
     "execution_count": 63,
     "metadata": {},
     "output_type": "execute_result"
    }
   ],
   "source": [
    "l"
   ]
  },
  {
   "cell_type": "code",
   "execution_count": 64,
   "id": "1ed36bfc",
   "metadata": {},
   "outputs": [
    {
     "name": "stdout",
     "output_type": "stream",
     "text": [
      "(0, 2)\n",
      "(1, 46)\n",
      "(2, 45)\n",
      "(3, 12)\n",
      "(4, 12)\n",
      "(5, 12)\n",
      "(6, 12)\n",
      "(7, 'ashi')\n",
      "(8, (6+7j))\n",
      "(9, [56, 56, 78, 'Ashi'])\n"
     ]
    }
   ],
   "source": [
    "# inumerate function - it will always try to return tuples of its own indexes and elements\n",
    "for i in enumerate(l):\n",
    "    print(i)"
   ]
  },
  {
   "cell_type": "code",
   "execution_count": 65,
   "id": "44c04068",
   "metadata": {},
   "outputs": [
    {
     "name": "stdout",
     "output_type": "stream",
     "text": [
      "0 2\n",
      "1 46\n",
      "2 45\n",
      "3 12\n",
      "4 12\n",
      "5 12\n",
      "6 12\n",
      "7 ashi\n",
      "8 (6+7j)\n",
      "9 [56, 56, 78, 'Ashi']\n"
     ]
    }
   ],
   "source": [
    "# inumerate function - it will always try to return tuples of its own indexes and elements\n",
    "for i,j in enumerate(l):\n",
    "    print(i,j)"
   ]
  },
  {
   "cell_type": "code",
   "execution_count": 70,
   "id": "870bf290",
   "metadata": {},
   "outputs": [
    {
     "name": "stdout",
     "output_type": "stream",
     "text": [
      "['a', 's', 'h', 'i']\n"
     ]
    }
   ],
   "source": [
    "#Q2. Try to extract all the list of char if element is string\n",
    "for i in l :\n",
    "    if type(i) == str :\n",
    "        l1 =[]\n",
    "        for j in i :\n",
    "            l1.append(j)\n",
    "        print(l1)"
   ]
  },
  {
   "cell_type": "code",
   "execution_count": 71,
   "id": "eb82145b",
   "metadata": {},
   "outputs": [],
   "source": [
    "l = [2,46,45,12,12,12,12,\"ashi\",\"roy\", 6+7j,[56,56,78,'Ashi']]"
   ]
  },
  {
   "cell_type": "code",
   "execution_count": 72,
   "id": "d01140bc",
   "metadata": {},
   "outputs": [
    {
     "name": "stdout",
     "output_type": "stream",
     "text": [
      "['a', 's', 'h', 'i']\n",
      "['r', 'o', 'y']\n"
     ]
    }
   ],
   "source": [
    "for i in l :\n",
    "    if type(i) == str :\n",
    "        l1 =[]\n",
    "        for j in i :\n",
    "            l1.append(j)\n",
    "        print(l1)"
   ]
  },
  {
   "cell_type": "code",
   "execution_count": 74,
   "id": "2f1d8f39",
   "metadata": {},
   "outputs": [],
   "source": [
    "#Q3. Try to return a list after doing a square of all the int element\n",
    "l2 = []\n",
    "for i in l :\n",
    "    if type(i) == int :\n",
    "        l2.append(i**2)"
   ]
  },
  {
   "cell_type": "code",
   "execution_count": 75,
   "id": "e373ca24",
   "metadata": {},
   "outputs": [
    {
     "data": {
      "text/plain": [
       "[4, 2116, 2025, 144, 144, 144, 144]"
      ]
     },
     "execution_count": 75,
     "metadata": {},
     "output_type": "execute_result"
    }
   ],
   "source": [
    "l2"
   ]
  }
 ],
 "metadata": {
  "kernelspec": {
   "display_name": "Python 3",
   "language": "python",
   "name": "python3"
  },
  "language_info": {
   "codemirror_mode": {
    "name": "ipython",
    "version": 3
   },
   "file_extension": ".py",
   "mimetype": "text/x-python",
   "name": "python",
   "nbconvert_exporter": "python",
   "pygments_lexer": "ipython3",
   "version": "3.8.8"
  }
 },
 "nbformat": 4,
 "nbformat_minor": 5
}
