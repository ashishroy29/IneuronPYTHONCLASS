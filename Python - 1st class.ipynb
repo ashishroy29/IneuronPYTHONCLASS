{
 "cells": [
  {
   "cell_type": "markdown",
   "id": "01f60022",
   "metadata": {},
   "source": [
    "### What can we do using python programming language?\n",
    "\n",
    "- System Programming\n",
    "\n",
    "\n",
    "- GUI Interface (Any kind of apps)\n",
    "\n",
    "\n",
    "- Web Scrapping\n",
    "\n",
    "\n",
    "- DB (MySQL, MongoDB)\n",
    "\n",
    "\n",
    "- Scientific Programming (Models, Mathamatical Programs)\n",
    "\n",
    "\n",
    "- Game Development\n",
    "\n",
    "\n",
    "- Image Processing\n",
    "\n",
    "\n",
    "- Roboticcs"
   ]
  },
  {
   "cell_type": "markdown",
   "id": "a820dca8",
   "metadata": {},
   "source": [
    "### Why should we use python?\n",
    "\n",
    "- Easy to Learn\n",
    "\n",
    "\n",
    "- It already has all the libraries which are present to acheive those features"
   ]
  },
  {
   "cell_type": "code",
   "execution_count": 1,
   "id": "e60bf5bf",
   "metadata": {},
   "outputs": [
    {
     "name": "stdout",
     "output_type": "stream",
     "text": [
      "The Zen of Python, by Tim Peters\n",
      "\n",
      "Beautiful is better than ugly.\n",
      "Explicit is better than implicit.\n",
      "Simple is better than complex.\n",
      "Complex is better than complicated.\n",
      "Flat is better than nested.\n",
      "Sparse is better than dense.\n",
      "Readability counts.\n",
      "Special cases aren't special enough to break the rules.\n",
      "Although practicality beats purity.\n",
      "Errors should never pass silently.\n",
      "Unless explicitly silenced.\n",
      "In the face of ambiguity, refuse the temptation to guess.\n",
      "There should be one-- and preferably only one --obvious way to do it.\n",
      "Although that way may not be obvious at first unless you're Dutch.\n",
      "Now is better than never.\n",
      "Although never is often better than *right* now.\n",
      "If the implementation is hard to explain, it's a bad idea.\n",
      "If the implementation is easy to explain, it may be a good idea.\n",
      "Namespaces are one honking great idea -- let's do more of those!\n"
     ]
    }
   ],
   "source": [
    "# Theme of the Python language\n",
    "import this"
   ]
  },
  {
   "cell_type": "markdown",
   "id": "17d4d881",
   "metadata": {},
   "source": [
    "### What is a variable? what is the meaning, how to create a variable?\n",
    "\n",
    "\n",
    "- Lets find out"
   ]
  },
  {
   "cell_type": "code",
   "execution_count": 2,
   "id": "4ec3cc1f",
   "metadata": {},
   "outputs": [
    {
     "name": "stdout",
     "output_type": "stream",
     "text": [
      "My name is Ashish\n"
     ]
    }
   ],
   "source": [
    "print('My name is Ashish') #This is just printing in python"
   ]
  },
  {
   "cell_type": "code",
   "execution_count": 3,
   "id": "1fe6d055",
   "metadata": {},
   "outputs": [
    {
     "data": {
      "text/plain": [
       "17"
      ]
     },
     "execution_count": 3,
     "metadata": {},
     "output_type": "execute_result"
    }
   ],
   "source": [
    "#Return the number of items in a container.\n",
    "len(\"My name is Ashish\")"
   ]
  },
  {
   "cell_type": "code",
   "execution_count": 4,
   "id": "2d88a6bf",
   "metadata": {},
   "outputs": [
    {
     "data": {
      "text/plain": [
       "3"
      ]
     },
     "execution_count": 4,
     "metadata": {},
     "output_type": "execute_result"
    }
   ],
   "source": [
    "#Mathamatical Function\n",
    "1+2"
   ]
  },
  {
   "cell_type": "code",
   "execution_count": 5,
   "id": "832fb777",
   "metadata": {},
   "outputs": [
    {
     "data": {
      "text/plain": [
       "0.42857142857142855"
      ]
     },
     "execution_count": 5,
     "metadata": {},
     "output_type": "execute_result"
    }
   ],
   "source": [
    "#Mathamatical Function\n",
    "3/7"
   ]
  },
  {
   "cell_type": "markdown",
   "id": "85b73b26",
   "metadata": {},
   "source": [
    "### Python supports 2 ways of programming\n",
    "\n",
    "\n",
    "- Scripting\n",
    "\n",
    "\n",
    "- OOPS Concept (whenever doing a highlevel enterprise grade projects) OOPS concept needs to be used"
   ]
  },
  {
   "cell_type": "markdown",
   "id": "b1360b1e",
   "metadata": {},
   "source": [
    "#### Variables = it is a kind of an entity, you will be able to find out which will help you out to hold your data inside your main memory or RAM."
   ]
  },
  {
   "cell_type": "code",
   "execution_count": 6,
   "id": "be253530",
   "metadata": {},
   "outputs": [],
   "source": [
    "#so a will be created an there is a reference which has been created here.\n",
    "a = 10"
   ]
  },
  {
   "cell_type": "code",
   "execution_count": 7,
   "id": "a712964b",
   "metadata": {},
   "outputs": [],
   "source": [
    "Ashish = 1234"
   ]
  },
  {
   "cell_type": "code",
   "execution_count": 8,
   "id": "61d2078f",
   "metadata": {},
   "outputs": [],
   "source": [
    "Roy = 2345"
   ]
  },
  {
   "cell_type": "code",
   "execution_count": 9,
   "id": "654171aa",
   "metadata": {},
   "outputs": [
    {
     "data": {
      "text/plain": [
       "1234"
      ]
     },
     "execution_count": 9,
     "metadata": {},
     "output_type": "execute_result"
    }
   ],
   "source": [
    "#storing into a variable (its available inside RaM)\n",
    "Ashish"
   ]
  },
  {
   "cell_type": "markdown",
   "id": "de4c0b85",
   "metadata": {},
   "source": [
    "#### In other programming language you need to input data type before storing anything but here it dosent require that."
   ]
  },
  {
   "cell_type": "code",
   "execution_count": 10,
   "id": "82338975",
   "metadata": {},
   "outputs": [
    {
     "data": {
      "text/plain": [
       "int"
      ]
     },
     "execution_count": 10,
     "metadata": {},
     "output_type": "execute_result"
    }
   ],
   "source": [
    "#Checking type of Data\n",
    "type(a)"
   ]
  },
  {
   "cell_type": "code",
   "execution_count": 11,
   "id": "d5e7e5bc",
   "metadata": {},
   "outputs": [],
   "source": [
    "b = 45.12"
   ]
  },
  {
   "cell_type": "code",
   "execution_count": 12,
   "id": "3d92adf2",
   "metadata": {},
   "outputs": [
    {
     "data": {
      "text/plain": [
       "float"
      ]
     },
     "execution_count": 12,
     "metadata": {},
     "output_type": "execute_result"
    }
   ],
   "source": [
    "type(b)"
   ]
  },
  {
   "cell_type": "code",
   "execution_count": 13,
   "id": "3afb66e8",
   "metadata": {},
   "outputs": [],
   "source": [
    "c = 'Ashish'"
   ]
  },
  {
   "cell_type": "code",
   "execution_count": 14,
   "id": "57575529",
   "metadata": {},
   "outputs": [
    {
     "data": {
      "text/plain": [
       "str"
      ]
     },
     "execution_count": 14,
     "metadata": {},
     "output_type": "execute_result"
    }
   ],
   "source": [
    "type(c)"
   ]
  },
  {
   "cell_type": "code",
   "execution_count": 15,
   "id": "54b491e6",
   "metadata": {},
   "outputs": [],
   "source": [
    "#Complex Number (Real + imaginary number) (j is represented here)\n",
    "d = 5+6j"
   ]
  },
  {
   "cell_type": "code",
   "execution_count": 16,
   "id": "23079c0c",
   "metadata": {},
   "outputs": [
    {
     "data": {
      "text/plain": [
       "(5+6j)"
      ]
     },
     "execution_count": 16,
     "metadata": {},
     "output_type": "execute_result"
    }
   ],
   "source": [
    "d"
   ]
  },
  {
   "cell_type": "code",
   "execution_count": 17,
   "id": "72feeeb3",
   "metadata": {},
   "outputs": [
    {
     "data": {
      "text/plain": [
       "complex"
      ]
     },
     "execution_count": 17,
     "metadata": {},
     "output_type": "execute_result"
    }
   ],
   "source": [
    "type(d)"
   ]
  },
  {
   "cell_type": "code",
   "execution_count": 18,
   "id": "82879572",
   "metadata": {},
   "outputs": [],
   "source": [
    "e = \"Ash\""
   ]
  },
  {
   "cell_type": "code",
   "execution_count": 19,
   "id": "6141ec6d",
   "metadata": {},
   "outputs": [
    {
     "data": {
      "text/plain": [
       "str"
      ]
     },
     "execution_count": 19,
     "metadata": {},
     "output_type": "execute_result"
    }
   ],
   "source": [
    "type(e)"
   ]
  },
  {
   "cell_type": "code",
   "execution_count": 20,
   "id": "1f508618",
   "metadata": {},
   "outputs": [
    {
     "data": {
      "text/plain": [
       "'Ash'"
      ]
     },
     "execution_count": 20,
     "metadata": {},
     "output_type": "execute_result"
    }
   ],
   "source": [
    "e"
   ]
  },
  {
   "cell_type": "markdown",
   "id": "299b5223",
   "metadata": {},
   "source": [
    "### For complex variable notation is j in python"
   ]
  },
  {
   "cell_type": "code",
   "execution_count": 21,
   "id": "bca9c1dc",
   "metadata": {},
   "outputs": [],
   "source": [
    "#Creating Boolean Variable\n",
    "g = True"
   ]
  },
  {
   "cell_type": "code",
   "execution_count": 22,
   "id": "5c37ae4d",
   "metadata": {},
   "outputs": [
    {
     "data": {
      "text/plain": [
       "bool"
      ]
     },
     "execution_count": 22,
     "metadata": {},
     "output_type": "execute_result"
    }
   ],
   "source": [
    "type(g)"
   ]
  },
  {
   "cell_type": "code",
   "execution_count": 23,
   "id": "999a3170",
   "metadata": {},
   "outputs": [
    {
     "ename": "SyntaxError",
     "evalue": "starred assignment target must be in a list or tuple (<ipython-input-23-b8efe33c9bf9>, line 1)",
     "output_type": "error",
     "traceback": [
      "\u001b[1;36m  File \u001b[1;32m\"<ipython-input-23-b8efe33c9bf9>\"\u001b[1;36m, line \u001b[1;32m1\u001b[0m\n\u001b[1;33m    *a = 67\u001b[0m\n\u001b[1;37m    ^\u001b[0m\n\u001b[1;31mSyntaxError\u001b[0m\u001b[1;31m:\u001b[0m starred assignment target must be in a list or tuple\n"
     ]
    }
   ],
   "source": [
    "*a = 67"
   ]
  },
  {
   "cell_type": "code",
   "execution_count": 24,
   "id": "ead89c52",
   "metadata": {},
   "outputs": [],
   "source": [
    "_a = 45"
   ]
  },
  {
   "cell_type": "code",
   "execution_count": 25,
   "id": "2ccfb146",
   "metadata": {},
   "outputs": [],
   "source": [
    "a = 34"
   ]
  },
  {
   "cell_type": "code",
   "execution_count": 26,
   "id": "b0b16589",
   "metadata": {},
   "outputs": [
    {
     "data": {
      "text/plain": [
       "34"
      ]
     },
     "execution_count": 26,
     "metadata": {},
     "output_type": "execute_result"
    }
   ],
   "source": [
    "#whatever is updated recently will be updated\n",
    "a"
   ]
  },
  {
   "cell_type": "code",
   "execution_count": 27,
   "id": "2c8d5efe",
   "metadata": {},
   "outputs": [],
   "source": [
    "a = 12324\n",
    "b = \"ashi\"\n",
    "c = 6+7j\n",
    "d = True\n",
    "e = 546.67"
   ]
  },
  {
   "cell_type": "code",
   "execution_count": 28,
   "id": "3454c6dc",
   "metadata": {},
   "outputs": [
    {
     "data": {
      "text/plain": [
       "12324"
      ]
     },
     "execution_count": 28,
     "metadata": {},
     "output_type": "execute_result"
    }
   ],
   "source": [
    "a"
   ]
  },
  {
   "cell_type": "code",
   "execution_count": 29,
   "id": "abfca4a7",
   "metadata": {},
   "outputs": [],
   "source": [
    "a1 = 2323"
   ]
  },
  {
   "cell_type": "code",
   "execution_count": 30,
   "id": "23f97a0d",
   "metadata": {},
   "outputs": [
    {
     "data": {
      "text/plain": [
       "14647"
      ]
     },
     "execution_count": 30,
     "metadata": {},
     "output_type": "execute_result"
    }
   ],
   "source": [
    "a+a1"
   ]
  },
  {
   "cell_type": "code",
   "execution_count": 31,
   "id": "dd8007c7",
   "metadata": {},
   "outputs": [],
   "source": [
    "# it will be able to map the data in easiest possible way\n",
    "a,b,c,d,e = 12324,\"ashi\",6+7j,True,546.67"
   ]
  },
  {
   "cell_type": "code",
   "execution_count": 32,
   "id": "4b123afd",
   "metadata": {},
   "outputs": [
    {
     "data": {
      "text/plain": [
       "12324"
      ]
     },
     "execution_count": 32,
     "metadata": {},
     "output_type": "execute_result"
    }
   ],
   "source": [
    "a"
   ]
  },
  {
   "cell_type": "code",
   "execution_count": 33,
   "id": "9450a025",
   "metadata": {},
   "outputs": [
    {
     "data": {
      "text/plain": [
       "'ashi'"
      ]
     },
     "execution_count": 33,
     "metadata": {},
     "output_type": "execute_result"
    }
   ],
   "source": [
    "b"
   ]
  },
  {
   "cell_type": "code",
   "execution_count": 34,
   "id": "3f8ac760",
   "metadata": {},
   "outputs": [
    {
     "data": {
      "text/plain": [
       "(6+7j)"
      ]
     },
     "execution_count": 34,
     "metadata": {},
     "output_type": "execute_result"
    }
   ],
   "source": [
    "c"
   ]
  },
  {
   "cell_type": "code",
   "execution_count": 35,
   "id": "b1d42d3f",
   "metadata": {},
   "outputs": [
    {
     "data": {
      "text/plain": [
       "True"
      ]
     },
     "execution_count": 35,
     "metadata": {},
     "output_type": "execute_result"
    }
   ],
   "source": [
    "d"
   ]
  },
  {
   "cell_type": "code",
   "execution_count": 36,
   "id": "f59f2828",
   "metadata": {},
   "outputs": [
    {
     "data": {
      "text/plain": [
       "546.67"
      ]
     },
     "execution_count": 36,
     "metadata": {},
     "output_type": "execute_result"
    }
   ],
   "source": [
    "e"
   ]
  },
  {
   "cell_type": "code",
   "execution_count": 37,
   "id": "77e6763c",
   "metadata": {},
   "outputs": [
    {
     "data": {
      "text/plain": [
       "complex"
      ]
     },
     "execution_count": 37,
     "metadata": {},
     "output_type": "execute_result"
    }
   ],
   "source": [
    "type(c)"
   ]
  },
  {
   "cell_type": "code",
   "execution_count": 38,
   "id": "93fe5ae5",
   "metadata": {},
   "outputs": [
    {
     "data": {
      "text/plain": [
       "6.0"
      ]
     },
     "execution_count": 38,
     "metadata": {},
     "output_type": "execute_result"
    }
   ],
   "source": [
    "# to access complex and imaginary part (type c and press tab)\n",
    "c.real"
   ]
  },
  {
   "cell_type": "code",
   "execution_count": 39,
   "id": "58c9c91a",
   "metadata": {},
   "outputs": [
    {
     "data": {
      "text/plain": [
       "7.0"
      ]
     },
     "execution_count": 39,
     "metadata": {},
     "output_type": "execute_result"
    }
   ],
   "source": [
    "c.imag"
   ]
  },
  {
   "cell_type": "code",
   "execution_count": 40,
   "id": "e4f41403",
   "metadata": {},
   "outputs": [
    {
     "data": {
      "text/plain": [
       "<function str.count>"
      ]
     },
     "execution_count": 40,
     "metadata": {},
     "output_type": "execute_result"
    }
   ],
   "source": [
    "#press b and . then tab\n",
    "b.count"
   ]
  },
  {
   "cell_type": "markdown",
   "id": "9d11c21f",
   "metadata": {},
   "source": [
    "### Dont Memorise it (Try to understand)"
   ]
  },
  {
   "cell_type": "code",
   "execution_count": 41,
   "id": "41b90bcc",
   "metadata": {},
   "outputs": [],
   "source": [
    "a = 'ashi'"
   ]
  },
  {
   "cell_type": "code",
   "execution_count": 42,
   "id": "7b5f0598",
   "metadata": {},
   "outputs": [
    {
     "data": {
      "text/plain": [
       "'ashi4'"
      ]
     },
     "execution_count": 42,
     "metadata": {},
     "output_type": "execute_result"
    }
   ],
   "source": [
    "a + \"4\""
   ]
  },
  {
   "cell_type": "code",
   "execution_count": 43,
   "id": "d186da80",
   "metadata": {},
   "outputs": [
    {
     "data": {
      "text/plain": [
       "'ashi4'"
      ]
     },
     "execution_count": 43,
     "metadata": {},
     "output_type": "execute_result"
    }
   ],
   "source": [
    "a + str(4)"
   ]
  },
  {
   "cell_type": "code",
   "execution_count": 44,
   "id": "5921bd65",
   "metadata": {},
   "outputs": [
    {
     "data": {
      "text/plain": [
       "True"
      ]
     },
     "execution_count": 44,
     "metadata": {},
     "output_type": "execute_result"
    }
   ],
   "source": [
    "True and True"
   ]
  },
  {
   "cell_type": "code",
   "execution_count": 45,
   "id": "b93408a4",
   "metadata": {},
   "outputs": [
    {
     "data": {
      "text/plain": [
       "2"
      ]
     },
     "execution_count": 45,
     "metadata": {},
     "output_type": "execute_result"
    }
   ],
   "source": [
    "True + True #(its understanding 1 + 1)"
   ]
  },
  {
   "cell_type": "code",
   "execution_count": 46,
   "id": "68e3bffc",
   "metadata": {},
   "outputs": [
    {
     "data": {
      "text/plain": [
       "1"
      ]
     },
     "execution_count": 46,
     "metadata": {},
     "output_type": "execute_result"
    }
   ],
   "source": [
    "True - False #(its understanding 1 - 0)"
   ]
  },
  {
   "cell_type": "code",
   "execution_count": 47,
   "id": "0aceb210",
   "metadata": {},
   "outputs": [
    {
     "data": {
      "text/plain": [
       "2"
      ]
     },
     "execution_count": 47,
     "metadata": {},
     "output_type": "execute_result"
    }
   ],
   "source": [
    "1 + True #(its understanding 1 + 1)"
   ]
  },
  {
   "cell_type": "code",
   "execution_count": 57,
   "id": "b2275ba4",
   "metadata": {},
   "outputs": [
    {
     "name": "stdout",
     "output_type": "stream",
     "text": [
      "ash\n"
     ]
    }
   ],
   "source": [
    "#We can give a user input\n",
    "a =input()"
   ]
  },
  {
   "cell_type": "code",
   "execution_count": 58,
   "id": "4bd96409",
   "metadata": {},
   "outputs": [
    {
     "data": {
      "text/plain": [
       "'ash'"
      ]
     },
     "execution_count": 58,
     "metadata": {},
     "output_type": "execute_result"
    }
   ],
   "source": [
    "a"
   ]
  },
  {
   "cell_type": "code",
   "execution_count": 60,
   "id": "a8c2ce87",
   "metadata": {},
   "outputs": [
    {
     "name": "stdout",
     "output_type": "stream",
     "text": [
      "asa\n"
     ]
    }
   ],
   "source": [
    "a = input()"
   ]
  },
  {
   "cell_type": "code",
   "execution_count": 61,
   "id": "d2541749",
   "metadata": {},
   "outputs": [
    {
     "data": {
      "text/plain": [
       "'asa'"
      ]
     },
     "execution_count": 61,
     "metadata": {},
     "output_type": "execute_result"
    }
   ],
   "source": [
    "a"
   ]
  },
  {
   "cell_type": "code",
   "execution_count": 72,
   "id": "7114c7ed",
   "metadata": {},
   "outputs": [
    {
     "name": "stdout",
     "output_type": "stream",
     "text": [
      "123123123\n"
     ]
    }
   ],
   "source": [
    "a = input()"
   ]
  },
  {
   "cell_type": "code",
   "execution_count": 73,
   "id": "5c0e8123",
   "metadata": {},
   "outputs": [
    {
     "data": {
      "text/plain": [
       "'123123123'"
      ]
     },
     "execution_count": 73,
     "metadata": {},
     "output_type": "execute_result"
    }
   ],
   "source": [
    "#it will always convert into string\n",
    "a"
   ]
  },
  {
   "cell_type": "code",
   "execution_count": 74,
   "id": "afb446eb",
   "metadata": {},
   "outputs": [],
   "source": [
    "b =45"
   ]
  },
  {
   "cell_type": "code",
   "execution_count": 76,
   "id": "c5de6e36",
   "metadata": {},
   "outputs": [],
   "source": [
    "#type cast into a int"
   ]
  },
  {
   "cell_type": "code",
   "execution_count": 77,
   "id": "e385767d",
   "metadata": {},
   "outputs": [
    {
     "name": "stdout",
     "output_type": "stream",
     "text": [
      "1213\n"
     ]
    }
   ],
   "source": [
    "a = int(input())"
   ]
  },
  {
   "cell_type": "code",
   "execution_count": 78,
   "id": "7d5d9a5f",
   "metadata": {},
   "outputs": [
    {
     "data": {
      "text/plain": [
       "1258"
      ]
     },
     "execution_count": 78,
     "metadata": {},
     "output_type": "execute_result"
    }
   ],
   "source": [
    "a + b"
   ]
  },
  {
   "cell_type": "code",
   "execution_count": 79,
   "id": "320a263f",
   "metadata": {},
   "outputs": [],
   "source": [
    "#The above techinique is called as Typecasting"
   ]
  },
  {
   "cell_type": "code",
   "execution_count": 80,
   "id": "fb70769a",
   "metadata": {},
   "outputs": [
    {
     "name": "stdout",
     "output_type": "stream",
     "text": [
      "123\n"
     ]
    }
   ],
   "source": [
    "a = input()"
   ]
  },
  {
   "cell_type": "code",
   "execution_count": 81,
   "id": "b9eb0e22",
   "metadata": {},
   "outputs": [
    {
     "data": {
      "text/plain": [
       "168"
      ]
     },
     "execution_count": 81,
     "metadata": {},
     "output_type": "execute_result"
    }
   ],
   "source": [
    "int(a) + b"
   ]
  },
  {
   "cell_type": "markdown",
   "id": "a6687a8c",
   "metadata": {},
   "source": [
    "#### Typecasting : Typecasting is nothing but converting one type of variable into another type of variable"
   ]
  },
  {
   "cell_type": "code",
   "execution_count": 82,
   "id": "85600bf3",
   "metadata": {},
   "outputs": [
    {
     "data": {
      "text/plain": [
       "12434"
      ]
     },
     "execution_count": 82,
     "metadata": {},
     "output_type": "execute_result"
    }
   ],
   "source": [
    "int('12434')"
   ]
  },
  {
   "cell_type": "code",
   "execution_count": 83,
   "id": "d0ade8b8",
   "metadata": {},
   "outputs": [
    {
     "data": {
      "text/plain": [
       "'123434'"
      ]
     },
     "execution_count": 83,
     "metadata": {},
     "output_type": "execute_result"
    }
   ],
   "source": [
    "str(123434)"
   ]
  },
  {
   "cell_type": "code",
   "execution_count": 84,
   "id": "3a3cb3c6",
   "metadata": {},
   "outputs": [
    {
     "data": {
      "text/plain": [
       "'C:\\\\Users\\\\roy.800\\\\Ineuron'"
      ]
     },
     "execution_count": 84,
     "metadata": {},
     "output_type": "execute_result"
    }
   ],
   "source": [
    "pwd"
   ]
  }
 ],
 "metadata": {
  "kernelspec": {
   "display_name": "Python 3",
   "language": "python",
   "name": "python3"
  },
  "language_info": {
   "codemirror_mode": {
    "name": "ipython",
    "version": 3
   },
   "file_extension": ".py",
   "mimetype": "text/x-python",
   "name": "python",
   "nbconvert_exporter": "python",
   "pygments_lexer": "ipython3",
   "version": "3.8.8"
  }
 },
 "nbformat": 4,
 "nbformat_minor": 5
}
